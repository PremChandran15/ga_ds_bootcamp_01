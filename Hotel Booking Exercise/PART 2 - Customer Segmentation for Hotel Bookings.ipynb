{
 "cells": [
  {
   "cell_type": "markdown",
   "metadata": {},
   "source": [
    "## Import Data and necessary files"
   ]
  },
  {
   "cell_type": "code",
   "execution_count": 1,
   "metadata": {
    "ExecuteTime": {
     "end_time": "2023-06-27T11:40:10.915526Z",
     "start_time": "2023-06-27T11:40:09.516840Z"
    }
   },
   "outputs": [],
   "source": [
    "import numpy as np\n",
    "import pandas as pd\n",
    "import matplotlib.pyplot as plt\n",
    "%matplotlib inline\n",
    "import seaborn as sns\n",
    "from time import time\n",
    "from sklearn.preprocessing import OneHotEncoder, LabelEncoder, OrdinalEncoder\n",
    "from sklearn.cluster import KMeans\n",
    "from sklearn.metrics import classification_report, confusion_matrix, silhouette_score"
   ]
  },
  {
   "cell_type": "code",
   "execution_count": 2,
   "metadata": {
    "ExecuteTime": {
     "end_time": "2023-06-27T11:40:43.183372Z",
     "start_time": "2023-06-27T11:40:42.850809Z"
    }
   },
   "outputs": [],
   "source": [
    "df = pd.read_csv('hotel_bookings.csv')"
   ]
  },
  {
   "cell_type": "markdown",
   "metadata": {},
   "source": [
    "## Perform EDA and clean data\n",
    "1. Fill in the missing values / drop columns that have a very high value of nulls"
   ]
  },
  {
   "cell_type": "code",
   "execution_count": 3,
   "metadata": {
    "ExecuteTime": {
     "end_time": "2023-06-27T11:42:59.125312Z",
     "start_time": "2023-06-27T11:42:59.086582Z"
    }
   },
   "outputs": [],
   "source": [
    "# drop column company\n",
    "df = df.drop('company', axis = 1)"
   ]
  },
  {
   "cell_type": "code",
   "execution_count": 4,
   "metadata": {
    "ExecuteTime": {
     "end_time": "2023-06-27T11:46:32.635541Z",
     "start_time": "2023-06-27T11:46:32.628612Z"
    }
   },
   "outputs": [],
   "source": [
    "# fill in null values with 0 for children column\n",
    "df['children'] = df['children'].fillna(0).astype(int)"
   ]
  },
  {
   "cell_type": "code",
   "execution_count": 5,
   "metadata": {
    "ExecuteTime": {
     "end_time": "2023-06-27T11:48:17.070386Z",
     "start_time": "2023-06-27T11:48:17.061057Z"
    }
   },
   "outputs": [],
   "source": [
    "# fill in countries with the highest occuring country in the dataset\n",
    "df['country'] = df['country'].fillna('PRT')"
   ]
  },
  {
   "cell_type": "code",
   "execution_count": 6,
   "metadata": {
    "ExecuteTime": {
     "end_time": "2023-06-27T11:48:24.808583Z",
     "start_time": "2023-06-27T11:48:24.745808Z"
    }
   },
   "outputs": [
    {
     "name": "stdout",
     "output_type": "stream",
     "text": [
      "<class 'pandas.core.frame.DataFrame'>\n",
      "RangeIndex: 119390 entries, 0 to 119389\n",
      "Data columns (total 31 columns):\n",
      " #   Column                          Non-Null Count   Dtype  \n",
      "---  ------                          --------------   -----  \n",
      " 0   hotel                           119390 non-null  object \n",
      " 1   is_canceled                     119390 non-null  int64  \n",
      " 2   lead_time                       119390 non-null  int64  \n",
      " 3   arrival_date_year               119390 non-null  int64  \n",
      " 4   arrival_date_month              119390 non-null  object \n",
      " 5   arrival_date_week_number        119390 non-null  int64  \n",
      " 6   arrival_date_day_of_month       119390 non-null  int64  \n",
      " 7   stays_in_weekend_nights         119390 non-null  int64  \n",
      " 8   stays_in_week_nights            119390 non-null  int64  \n",
      " 9   adults                          119390 non-null  int64  \n",
      " 10  children                        119390 non-null  int64  \n",
      " 11  babies                          119390 non-null  int64  \n",
      " 12  meal                            119390 non-null  object \n",
      " 13  country                         119390 non-null  object \n",
      " 14  market_segment                  119390 non-null  object \n",
      " 15  distribution_channel            119390 non-null  object \n",
      " 16  is_repeated_guest               119390 non-null  int64  \n",
      " 17  previous_cancellations          119390 non-null  int64  \n",
      " 18  previous_bookings_not_canceled  119390 non-null  int64  \n",
      " 19  reserved_room_type              119390 non-null  object \n",
      " 20  assigned_room_type              119390 non-null  object \n",
      " 21  booking_changes                 119390 non-null  int64  \n",
      " 22  deposit_type                    119390 non-null  object \n",
      " 23  agent                           103050 non-null  float64\n",
      " 24  days_in_waiting_list            119390 non-null  int64  \n",
      " 25  customer_type                   119390 non-null  object \n",
      " 26  adr                             119390 non-null  float64\n",
      " 27  required_car_parking_spaces     119390 non-null  int64  \n",
      " 28  total_of_special_requests       119390 non-null  int64  \n",
      " 29  reservation_status              119390 non-null  object \n",
      " 30  reservation_status_date         119390 non-null  object \n",
      "dtypes: float64(2), int64(17), object(12)\n",
      "memory usage: 28.2+ MB\n"
     ]
    }
   ],
   "source": [
    "df.info()"
   ]
  },
  {
   "cell_type": "code",
   "execution_count": 7,
   "metadata": {
    "ExecuteTime": {
     "end_time": "2023-06-27T11:48:45.476410Z",
     "start_time": "2023-06-27T11:48:45.467359Z"
    }
   },
   "outputs": [
    {
     "data": {
      "text/plain": [
       "333"
      ]
     },
     "execution_count": 7,
     "metadata": {},
     "output_type": "execute_result"
    }
   ],
   "source": [
    "df['agent'].nunique()"
   ]
  },
  {
   "cell_type": "code",
   "execution_count": 8,
   "metadata": {
    "ExecuteTime": {
     "end_time": "2023-06-27T11:50:09.464429Z",
     "start_time": "2023-06-27T11:50:09.457141Z"
    }
   },
   "outputs": [
    {
     "data": {
      "text/plain": [
       "agent\n",
       "9.0      31961\n",
       "240.0    13922\n",
       "1.0       7191\n",
       "14.0      3640\n",
       "7.0       3539\n",
       "Name: count, dtype: int64"
      ]
     },
     "execution_count": 8,
     "metadata": {},
     "output_type": "execute_result"
    }
   ],
   "source": [
    "df['agent'].value_counts().head()"
   ]
  },
  {
   "cell_type": "code",
   "execution_count": 9,
   "metadata": {
    "ExecuteTime": {
     "end_time": "2023-06-27T11:55:45.788336Z",
     "start_time": "2023-06-27T11:55:45.770355Z"
    }
   },
   "outputs": [
    {
     "data": {
      "text/html": [
       "<div>\n",
       "<style scoped>\n",
       "    .dataframe tbody tr th:only-of-type {\n",
       "        vertical-align: middle;\n",
       "    }\n",
       "\n",
       "    .dataframe tbody tr th {\n",
       "        vertical-align: top;\n",
       "    }\n",
       "\n",
       "    .dataframe thead th {\n",
       "        text-align: right;\n",
       "    }\n",
       "</style>\n",
       "<table border=\"1\" class=\"dataframe\">\n",
       "  <thead>\n",
       "    <tr style=\"text-align: right;\">\n",
       "      <th></th>\n",
       "      <th>hotel</th>\n",
       "      <th>is_canceled</th>\n",
       "      <th>lead_time</th>\n",
       "      <th>arrival_date_year</th>\n",
       "      <th>arrival_date_month</th>\n",
       "      <th>arrival_date_week_number</th>\n",
       "      <th>arrival_date_day_of_month</th>\n",
       "      <th>stays_in_weekend_nights</th>\n",
       "      <th>stays_in_week_nights</th>\n",
       "      <th>adults</th>\n",
       "      <th>...</th>\n",
       "      <th>booking_changes</th>\n",
       "      <th>deposit_type</th>\n",
       "      <th>agent</th>\n",
       "      <th>days_in_waiting_list</th>\n",
       "      <th>customer_type</th>\n",
       "      <th>adr</th>\n",
       "      <th>required_car_parking_spaces</th>\n",
       "      <th>total_of_special_requests</th>\n",
       "      <th>reservation_status</th>\n",
       "      <th>reservation_status_date</th>\n",
       "    </tr>\n",
       "  </thead>\n",
       "  <tbody>\n",
       "  </tbody>\n",
       "</table>\n",
       "<p>0 rows × 31 columns</p>\n",
       "</div>"
      ],
      "text/plain": [
       "Empty DataFrame\n",
       "Columns: [hotel, is_canceled, lead_time, arrival_date_year, arrival_date_month, arrival_date_week_number, arrival_date_day_of_month, stays_in_weekend_nights, stays_in_week_nights, adults, children, babies, meal, country, market_segment, distribution_channel, is_repeated_guest, previous_cancellations, previous_bookings_not_canceled, reserved_room_type, assigned_room_type, booking_changes, deposit_type, agent, days_in_waiting_list, customer_type, adr, required_car_parking_spaces, total_of_special_requests, reservation_status, reservation_status_date]\n",
       "Index: []\n",
       "\n",
       "[0 rows x 31 columns]"
      ]
     },
     "execution_count": 9,
     "metadata": {},
     "output_type": "execute_result"
    }
   ],
   "source": [
    "df[df['agent']==0]"
   ]
  },
  {
   "cell_type": "code",
   "execution_count": 10,
   "metadata": {
    "ExecuteTime": {
     "end_time": "2023-06-27T11:56:51.637409Z",
     "start_time": "2023-06-27T11:56:51.633079Z"
    }
   },
   "outputs": [],
   "source": [
    "# since there is no agent '0', lets fill in missing values for agent with value 0\n",
    "df['agent'] = df['agent'].fillna(0).astype(int)"
   ]
  },
  {
   "cell_type": "code",
   "execution_count": 11,
   "metadata": {
    "ExecuteTime": {
     "end_time": "2023-06-27T11:56:56.202679Z",
     "start_time": "2023-06-27T11:56:56.150259Z"
    }
   },
   "outputs": [
    {
     "name": "stdout",
     "output_type": "stream",
     "text": [
      "<class 'pandas.core.frame.DataFrame'>\n",
      "RangeIndex: 119390 entries, 0 to 119389\n",
      "Data columns (total 31 columns):\n",
      " #   Column                          Non-Null Count   Dtype  \n",
      "---  ------                          --------------   -----  \n",
      " 0   hotel                           119390 non-null  object \n",
      " 1   is_canceled                     119390 non-null  int64  \n",
      " 2   lead_time                       119390 non-null  int64  \n",
      " 3   arrival_date_year               119390 non-null  int64  \n",
      " 4   arrival_date_month              119390 non-null  object \n",
      " 5   arrival_date_week_number        119390 non-null  int64  \n",
      " 6   arrival_date_day_of_month       119390 non-null  int64  \n",
      " 7   stays_in_weekend_nights         119390 non-null  int64  \n",
      " 8   stays_in_week_nights            119390 non-null  int64  \n",
      " 9   adults                          119390 non-null  int64  \n",
      " 10  children                        119390 non-null  int64  \n",
      " 11  babies                          119390 non-null  int64  \n",
      " 12  meal                            119390 non-null  object \n",
      " 13  country                         119390 non-null  object \n",
      " 14  market_segment                  119390 non-null  object \n",
      " 15  distribution_channel            119390 non-null  object \n",
      " 16  is_repeated_guest               119390 non-null  int64  \n",
      " 17  previous_cancellations          119390 non-null  int64  \n",
      " 18  previous_bookings_not_canceled  119390 non-null  int64  \n",
      " 19  reserved_room_type              119390 non-null  object \n",
      " 20  assigned_room_type              119390 non-null  object \n",
      " 21  booking_changes                 119390 non-null  int64  \n",
      " 22  deposit_type                    119390 non-null  object \n",
      " 23  agent                           119390 non-null  int64  \n",
      " 24  days_in_waiting_list            119390 non-null  int64  \n",
      " 25  customer_type                   119390 non-null  object \n",
      " 26  adr                             119390 non-null  float64\n",
      " 27  required_car_parking_spaces     119390 non-null  int64  \n",
      " 28  total_of_special_requests       119390 non-null  int64  \n",
      " 29  reservation_status              119390 non-null  object \n",
      " 30  reservation_status_date         119390 non-null  object \n",
      "dtypes: float64(1), int64(18), object(12)\n",
      "memory usage: 28.2+ MB\n"
     ]
    }
   ],
   "source": [
    "df.info()"
   ]
  },
  {
   "cell_type": "markdown",
   "metadata": {},
   "source": [
    "### Feature Engineering\n",
    "Create new features that define the dataset better => especially for customer segmentation\n",
    "1. arrival_date : in format arrival_day/arrival_month/arrival_year\n",
    "2. preferred_day : **weekend** if stays_in_weekend_nights > stays_in_week_nights else **weekday**\n",
    "3. family_type: function from adults, children and babies\n",
    "4. had_cancelations: True if count of previous_cancelation > 0 else False\n",
    "5. room_change: True if reserved_room_type != assigned_room_type else False\n",
    "6. driving : True if required_car_parking_spaces > 0 else False\n",
    "7. special_request : True if total_of_special_requests > 0 else False"
   ]
  },
  {
   "cell_type": "markdown",
   "metadata": {},
   "source": [
    "## Think of how you are going to cluster customer groups from the dataset that you have\n",
    "\n",
    "### Types of customers => what features of the dataset you may need, IF OR NOT you may need to create new features"
   ]
  },
  {
   "cell_type": "code",
   "execution_count": 13,
   "metadata": {
    "ExecuteTime": {
     "end_time": "2023-06-27T12:51:05.685201Z",
     "start_time": "2023-06-27T12:51:05.556245Z"
    }
   },
   "outputs": [],
   "source": [
    "# arrival date:\n",
    "df['arrival_date'] = df['arrival_date_day_of_month'].astype(str) + '/' + df['arrival_date_month'].astype(str) + '/' \\\n",
    "+ df['arrival_date_year'].astype(str)"
   ]
  },
  {
   "cell_type": "code",
   "execution_count": 15,
   "metadata": {
    "ExecuteTime": {
     "end_time": "2023-06-27T12:52:07.604922Z",
     "start_time": "2023-06-27T12:52:07.501072Z"
    }
   },
   "outputs": [
    {
     "data": {
      "text/html": [
       "<div>\n",
       "<style scoped>\n",
       "    .dataframe tbody tr th:only-of-type {\n",
       "        vertical-align: middle;\n",
       "    }\n",
       "\n",
       "    .dataframe tbody tr th {\n",
       "        vertical-align: top;\n",
       "    }\n",
       "\n",
       "    .dataframe thead th {\n",
       "        text-align: right;\n",
       "    }\n",
       "</style>\n",
       "<table border=\"1\" class=\"dataframe\">\n",
       "  <thead>\n",
       "    <tr style=\"text-align: right;\">\n",
       "      <th></th>\n",
       "      <th>hotel</th>\n",
       "      <th>is_canceled</th>\n",
       "      <th>lead_time</th>\n",
       "      <th>arrival_date_year</th>\n",
       "      <th>arrival_date_month</th>\n",
       "      <th>arrival_date_week_number</th>\n",
       "      <th>arrival_date_day_of_month</th>\n",
       "      <th>stays_in_weekend_nights</th>\n",
       "      <th>stays_in_week_nights</th>\n",
       "      <th>adults</th>\n",
       "      <th>...</th>\n",
       "      <th>deposit_type</th>\n",
       "      <th>agent</th>\n",
       "      <th>days_in_waiting_list</th>\n",
       "      <th>customer_type</th>\n",
       "      <th>adr</th>\n",
       "      <th>required_car_parking_spaces</th>\n",
       "      <th>total_of_special_requests</th>\n",
       "      <th>reservation_status</th>\n",
       "      <th>reservation_status_date</th>\n",
       "      <th>arrival_date</th>\n",
       "    </tr>\n",
       "  </thead>\n",
       "  <tbody>\n",
       "    <tr>\n",
       "      <th>0</th>\n",
       "      <td>Resort Hotel</td>\n",
       "      <td>0</td>\n",
       "      <td>342</td>\n",
       "      <td>2015</td>\n",
       "      <td>July</td>\n",
       "      <td>27</td>\n",
       "      <td>1</td>\n",
       "      <td>0</td>\n",
       "      <td>0</td>\n",
       "      <td>2</td>\n",
       "      <td>...</td>\n",
       "      <td>No Deposit</td>\n",
       "      <td>0</td>\n",
       "      <td>0</td>\n",
       "      <td>Transient</td>\n",
       "      <td>0.00</td>\n",
       "      <td>0</td>\n",
       "      <td>0</td>\n",
       "      <td>Check-Out</td>\n",
       "      <td>7/1/2015</td>\n",
       "      <td>2015-07-01</td>\n",
       "    </tr>\n",
       "    <tr>\n",
       "      <th>1</th>\n",
       "      <td>Resort Hotel</td>\n",
       "      <td>0</td>\n",
       "      <td>737</td>\n",
       "      <td>2015</td>\n",
       "      <td>July</td>\n",
       "      <td>27</td>\n",
       "      <td>1</td>\n",
       "      <td>0</td>\n",
       "      <td>0</td>\n",
       "      <td>2</td>\n",
       "      <td>...</td>\n",
       "      <td>No Deposit</td>\n",
       "      <td>0</td>\n",
       "      <td>0</td>\n",
       "      <td>Transient</td>\n",
       "      <td>0.00</td>\n",
       "      <td>0</td>\n",
       "      <td>0</td>\n",
       "      <td>Check-Out</td>\n",
       "      <td>7/1/2015</td>\n",
       "      <td>2015-07-01</td>\n",
       "    </tr>\n",
       "    <tr>\n",
       "      <th>2</th>\n",
       "      <td>Resort Hotel</td>\n",
       "      <td>0</td>\n",
       "      <td>7</td>\n",
       "      <td>2015</td>\n",
       "      <td>July</td>\n",
       "      <td>27</td>\n",
       "      <td>1</td>\n",
       "      <td>0</td>\n",
       "      <td>1</td>\n",
       "      <td>1</td>\n",
       "      <td>...</td>\n",
       "      <td>No Deposit</td>\n",
       "      <td>0</td>\n",
       "      <td>0</td>\n",
       "      <td>Transient</td>\n",
       "      <td>75.00</td>\n",
       "      <td>0</td>\n",
       "      <td>0</td>\n",
       "      <td>Check-Out</td>\n",
       "      <td>7/2/2015</td>\n",
       "      <td>2015-07-01</td>\n",
       "    </tr>\n",
       "    <tr>\n",
       "      <th>3</th>\n",
       "      <td>Resort Hotel</td>\n",
       "      <td>0</td>\n",
       "      <td>13</td>\n",
       "      <td>2015</td>\n",
       "      <td>July</td>\n",
       "      <td>27</td>\n",
       "      <td>1</td>\n",
       "      <td>0</td>\n",
       "      <td>1</td>\n",
       "      <td>1</td>\n",
       "      <td>...</td>\n",
       "      <td>No Deposit</td>\n",
       "      <td>304</td>\n",
       "      <td>0</td>\n",
       "      <td>Transient</td>\n",
       "      <td>75.00</td>\n",
       "      <td>0</td>\n",
       "      <td>0</td>\n",
       "      <td>Check-Out</td>\n",
       "      <td>7/2/2015</td>\n",
       "      <td>2015-07-01</td>\n",
       "    </tr>\n",
       "    <tr>\n",
       "      <th>4</th>\n",
       "      <td>Resort Hotel</td>\n",
       "      <td>0</td>\n",
       "      <td>14</td>\n",
       "      <td>2015</td>\n",
       "      <td>July</td>\n",
       "      <td>27</td>\n",
       "      <td>1</td>\n",
       "      <td>0</td>\n",
       "      <td>2</td>\n",
       "      <td>2</td>\n",
       "      <td>...</td>\n",
       "      <td>No Deposit</td>\n",
       "      <td>240</td>\n",
       "      <td>0</td>\n",
       "      <td>Transient</td>\n",
       "      <td>98.00</td>\n",
       "      <td>0</td>\n",
       "      <td>1</td>\n",
       "      <td>Check-Out</td>\n",
       "      <td>7/3/2015</td>\n",
       "      <td>2015-07-01</td>\n",
       "    </tr>\n",
       "    <tr>\n",
       "      <th>...</th>\n",
       "      <td>...</td>\n",
       "      <td>...</td>\n",
       "      <td>...</td>\n",
       "      <td>...</td>\n",
       "      <td>...</td>\n",
       "      <td>...</td>\n",
       "      <td>...</td>\n",
       "      <td>...</td>\n",
       "      <td>...</td>\n",
       "      <td>...</td>\n",
       "      <td>...</td>\n",
       "      <td>...</td>\n",
       "      <td>...</td>\n",
       "      <td>...</td>\n",
       "      <td>...</td>\n",
       "      <td>...</td>\n",
       "      <td>...</td>\n",
       "      <td>...</td>\n",
       "      <td>...</td>\n",
       "      <td>...</td>\n",
       "      <td>...</td>\n",
       "    </tr>\n",
       "    <tr>\n",
       "      <th>119385</th>\n",
       "      <td>City Hotel</td>\n",
       "      <td>0</td>\n",
       "      <td>23</td>\n",
       "      <td>2017</td>\n",
       "      <td>August</td>\n",
       "      <td>35</td>\n",
       "      <td>30</td>\n",
       "      <td>2</td>\n",
       "      <td>5</td>\n",
       "      <td>2</td>\n",
       "      <td>...</td>\n",
       "      <td>No Deposit</td>\n",
       "      <td>394</td>\n",
       "      <td>0</td>\n",
       "      <td>Transient</td>\n",
       "      <td>96.14</td>\n",
       "      <td>0</td>\n",
       "      <td>0</td>\n",
       "      <td>Check-Out</td>\n",
       "      <td>9/6/2017</td>\n",
       "      <td>2017-08-30</td>\n",
       "    </tr>\n",
       "    <tr>\n",
       "      <th>119386</th>\n",
       "      <td>City Hotel</td>\n",
       "      <td>0</td>\n",
       "      <td>102</td>\n",
       "      <td>2017</td>\n",
       "      <td>August</td>\n",
       "      <td>35</td>\n",
       "      <td>31</td>\n",
       "      <td>2</td>\n",
       "      <td>5</td>\n",
       "      <td>3</td>\n",
       "      <td>...</td>\n",
       "      <td>No Deposit</td>\n",
       "      <td>9</td>\n",
       "      <td>0</td>\n",
       "      <td>Transient</td>\n",
       "      <td>225.43</td>\n",
       "      <td>0</td>\n",
       "      <td>2</td>\n",
       "      <td>Check-Out</td>\n",
       "      <td>9/7/2017</td>\n",
       "      <td>2017-08-31</td>\n",
       "    </tr>\n",
       "    <tr>\n",
       "      <th>119387</th>\n",
       "      <td>City Hotel</td>\n",
       "      <td>0</td>\n",
       "      <td>34</td>\n",
       "      <td>2017</td>\n",
       "      <td>August</td>\n",
       "      <td>35</td>\n",
       "      <td>31</td>\n",
       "      <td>2</td>\n",
       "      <td>5</td>\n",
       "      <td>2</td>\n",
       "      <td>...</td>\n",
       "      <td>No Deposit</td>\n",
       "      <td>9</td>\n",
       "      <td>0</td>\n",
       "      <td>Transient</td>\n",
       "      <td>157.71</td>\n",
       "      <td>0</td>\n",
       "      <td>4</td>\n",
       "      <td>Check-Out</td>\n",
       "      <td>9/7/2017</td>\n",
       "      <td>2017-08-31</td>\n",
       "    </tr>\n",
       "    <tr>\n",
       "      <th>119388</th>\n",
       "      <td>City Hotel</td>\n",
       "      <td>0</td>\n",
       "      <td>109</td>\n",
       "      <td>2017</td>\n",
       "      <td>August</td>\n",
       "      <td>35</td>\n",
       "      <td>31</td>\n",
       "      <td>2</td>\n",
       "      <td>5</td>\n",
       "      <td>2</td>\n",
       "      <td>...</td>\n",
       "      <td>No Deposit</td>\n",
       "      <td>89</td>\n",
       "      <td>0</td>\n",
       "      <td>Transient</td>\n",
       "      <td>104.40</td>\n",
       "      <td>0</td>\n",
       "      <td>0</td>\n",
       "      <td>Check-Out</td>\n",
       "      <td>9/7/2017</td>\n",
       "      <td>2017-08-31</td>\n",
       "    </tr>\n",
       "    <tr>\n",
       "      <th>119389</th>\n",
       "      <td>City Hotel</td>\n",
       "      <td>0</td>\n",
       "      <td>205</td>\n",
       "      <td>2017</td>\n",
       "      <td>August</td>\n",
       "      <td>35</td>\n",
       "      <td>29</td>\n",
       "      <td>2</td>\n",
       "      <td>7</td>\n",
       "      <td>2</td>\n",
       "      <td>...</td>\n",
       "      <td>No Deposit</td>\n",
       "      <td>9</td>\n",
       "      <td>0</td>\n",
       "      <td>Transient</td>\n",
       "      <td>151.20</td>\n",
       "      <td>0</td>\n",
       "      <td>2</td>\n",
       "      <td>Check-Out</td>\n",
       "      <td>9/7/2017</td>\n",
       "      <td>2017-08-29</td>\n",
       "    </tr>\n",
       "  </tbody>\n",
       "</table>\n",
       "<p>119390 rows × 32 columns</p>\n",
       "</div>"
      ],
      "text/plain": [
       "               hotel  is_canceled  lead_time  arrival_date_year  \\\n",
       "0       Resort Hotel            0        342               2015   \n",
       "1       Resort Hotel            0        737               2015   \n",
       "2       Resort Hotel            0          7               2015   \n",
       "3       Resort Hotel            0         13               2015   \n",
       "4       Resort Hotel            0         14               2015   \n",
       "...              ...          ...        ...                ...   \n",
       "119385    City Hotel            0         23               2017   \n",
       "119386    City Hotel            0        102               2017   \n",
       "119387    City Hotel            0         34               2017   \n",
       "119388    City Hotel            0        109               2017   \n",
       "119389    City Hotel            0        205               2017   \n",
       "\n",
       "       arrival_date_month  arrival_date_week_number  \\\n",
       "0                    July                        27   \n",
       "1                    July                        27   \n",
       "2                    July                        27   \n",
       "3                    July                        27   \n",
       "4                    July                        27   \n",
       "...                   ...                       ...   \n",
       "119385             August                        35   \n",
       "119386             August                        35   \n",
       "119387             August                        35   \n",
       "119388             August                        35   \n",
       "119389             August                        35   \n",
       "\n",
       "        arrival_date_day_of_month  stays_in_weekend_nights  \\\n",
       "0                               1                        0   \n",
       "1                               1                        0   \n",
       "2                               1                        0   \n",
       "3                               1                        0   \n",
       "4                               1                        0   \n",
       "...                           ...                      ...   \n",
       "119385                         30                        2   \n",
       "119386                         31                        2   \n",
       "119387                         31                        2   \n",
       "119388                         31                        2   \n",
       "119389                         29                        2   \n",
       "\n",
       "        stays_in_week_nights  adults  ...  deposit_type  agent  \\\n",
       "0                          0       2  ...    No Deposit      0   \n",
       "1                          0       2  ...    No Deposit      0   \n",
       "2                          1       1  ...    No Deposit      0   \n",
       "3                          1       1  ...    No Deposit    304   \n",
       "4                          2       2  ...    No Deposit    240   \n",
       "...                      ...     ...  ...           ...    ...   \n",
       "119385                     5       2  ...    No Deposit    394   \n",
       "119386                     5       3  ...    No Deposit      9   \n",
       "119387                     5       2  ...    No Deposit      9   \n",
       "119388                     5       2  ...    No Deposit     89   \n",
       "119389                     7       2  ...    No Deposit      9   \n",
       "\n",
       "       days_in_waiting_list customer_type     adr required_car_parking_spaces  \\\n",
       "0                         0     Transient    0.00                           0   \n",
       "1                         0     Transient    0.00                           0   \n",
       "2                         0     Transient   75.00                           0   \n",
       "3                         0     Transient   75.00                           0   \n",
       "4                         0     Transient   98.00                           0   \n",
       "...                     ...           ...     ...                         ...   \n",
       "119385                    0     Transient   96.14                           0   \n",
       "119386                    0     Transient  225.43                           0   \n",
       "119387                    0     Transient  157.71                           0   \n",
       "119388                    0     Transient  104.40                           0   \n",
       "119389                    0     Transient  151.20                           0   \n",
       "\n",
       "        total_of_special_requests  reservation_status  \\\n",
       "0                               0           Check-Out   \n",
       "1                               0           Check-Out   \n",
       "2                               0           Check-Out   \n",
       "3                               0           Check-Out   \n",
       "4                               1           Check-Out   \n",
       "...                           ...                 ...   \n",
       "119385                          0           Check-Out   \n",
       "119386                          2           Check-Out   \n",
       "119387                          4           Check-Out   \n",
       "119388                          0           Check-Out   \n",
       "119389                          2           Check-Out   \n",
       "\n",
       "        reservation_status_date arrival_date  \n",
       "0                      7/1/2015   2015-07-01  \n",
       "1                      7/1/2015   2015-07-01  \n",
       "2                      7/2/2015   2015-07-01  \n",
       "3                      7/2/2015   2015-07-01  \n",
       "4                      7/3/2015   2015-07-01  \n",
       "...                         ...          ...  \n",
       "119385                 9/6/2017   2017-08-30  \n",
       "119386                 9/7/2017   2017-08-31  \n",
       "119387                 9/7/2017   2017-08-31  \n",
       "119388                 9/7/2017   2017-08-31  \n",
       "119389                 9/7/2017   2017-08-29  \n",
       "\n",
       "[119390 rows x 32 columns]"
      ]
     },
     "execution_count": 15,
     "metadata": {},
     "output_type": "execute_result"
    }
   ],
   "source": [
    "df['arrival_date'] = pd.to_datetime(df['arrival_date'], format = '%d/%B/%Y')\n",
    "df"
   ]
  },
  {
   "cell_type": "code",
   "execution_count": 16,
   "metadata": {
    "ExecuteTime": {
     "end_time": "2023-06-27T12:52:34.064272Z",
     "start_time": "2023-06-27T12:52:34.027374Z"
    }
   },
   "outputs": [],
   "source": [
    "df = df.sort_values(by='arrival_date')"
   ]
  },
  {
   "cell_type": "code",
   "execution_count": 18,
   "metadata": {
    "ExecuteTime": {
     "end_time": "2023-06-27T12:58:39.141813Z",
     "start_time": "2023-06-27T12:58:39.135969Z"
    }
   },
   "outputs": [],
   "source": [
    "#family type => creating a function to be applied to each row of the dataframe\n",
    "def family_type(row):\n",
    "    # kids without adults is mostly wrong record\n",
    "    if row['adults'] <=0 :\n",
    "        return 'NA'\n",
    "    elif row['adults'] > 0 and (row['children'] > 0 or row['babies'] > 0):\n",
    "        return 'Family'\n",
    "    elif row['adults'] == 2 and (row['children'] == 0 and row['babies'] == 0):\n",
    "        return 'Couple'\n",
    "    elif row['adults'] == 1 and (row['children'] == 0 and row['babies'] == 0):\n",
    "        return 'Single'\n",
    "    elif row['adults'] > 2 and (row['children'] == 0 and row['babies'] == 0):\n",
    "        return 'Adult Group'"
   ]
  },
  {
   "cell_type": "code",
   "execution_count": 19,
   "metadata": {
    "ExecuteTime": {
     "end_time": "2023-06-27T12:59:05.743456Z",
     "start_time": "2023-06-27T12:59:03.585985Z"
    }
   },
   "outputs": [],
   "source": [
    "df['family_type'] = df.apply(family_type, axis=1)"
   ]
  },
  {
   "cell_type": "code",
   "execution_count": 20,
   "metadata": {
    "ExecuteTime": {
     "end_time": "2023-06-27T12:59:19.100533Z",
     "start_time": "2023-06-27T12:59:19.091786Z"
    }
   },
   "outputs": [
    {
     "data": {
      "text/plain": [
       "family_type\n",
       "Couple         81560\n",
       "Single         22577\n",
       "Family          9109\n",
       "Adult Group     5741\n",
       "NA               403\n",
       "Name: count, dtype: int64"
      ]
     },
     "execution_count": 20,
     "metadata": {},
     "output_type": "execute_result"
    }
   ],
   "source": [
    "df['family_type'].value_counts()"
   ]
  },
  {
   "cell_type": "code",
   "execution_count": 21,
   "metadata": {
    "ExecuteTime": {
     "end_time": "2023-06-27T13:04:57.362034Z",
     "start_time": "2023-06-27T13:04:57.317456Z"
    }
   },
   "outputs": [],
   "source": [
    "#dropping family type that is non applicable\n",
    "df = df[df['family_type'] != 'NA']"
   ]
  },
  {
   "cell_type": "code",
   "execution_count": 22,
   "metadata": {
    "ExecuteTime": {
     "end_time": "2023-06-27T13:07:18.866644Z",
     "start_time": "2023-06-27T13:07:17.702562Z"
    }
   },
   "outputs": [],
   "source": [
    "# preferred day\n",
    "df['preferred_day'] = df.apply(lambda x: 'weekend' if x['stays_in_weekend_nights'] > x['stays_in_week_nights'] else\n",
    "                              'weekday', axis=1)"
   ]
  },
  {
   "cell_type": "code",
   "execution_count": 23,
   "metadata": {
    "ExecuteTime": {
     "end_time": "2023-06-27T13:07:26.267856Z",
     "start_time": "2023-06-27T13:07:26.251998Z"
    }
   },
   "outputs": [
    {
     "data": {
      "text/html": [
       "<div>\n",
       "<style scoped>\n",
       "    .dataframe tbody tr th:only-of-type {\n",
       "        vertical-align: middle;\n",
       "    }\n",
       "\n",
       "    .dataframe tbody tr th {\n",
       "        vertical-align: top;\n",
       "    }\n",
       "\n",
       "    .dataframe thead th {\n",
       "        text-align: right;\n",
       "    }\n",
       "</style>\n",
       "<table border=\"1\" class=\"dataframe\">\n",
       "  <thead>\n",
       "    <tr style=\"text-align: right;\">\n",
       "      <th></th>\n",
       "      <th>hotel</th>\n",
       "      <th>is_canceled</th>\n",
       "      <th>lead_time</th>\n",
       "      <th>arrival_date_year</th>\n",
       "      <th>arrival_date_month</th>\n",
       "      <th>arrival_date_week_number</th>\n",
       "      <th>arrival_date_day_of_month</th>\n",
       "      <th>stays_in_weekend_nights</th>\n",
       "      <th>stays_in_week_nights</th>\n",
       "      <th>adults</th>\n",
       "      <th>...</th>\n",
       "      <th>days_in_waiting_list</th>\n",
       "      <th>customer_type</th>\n",
       "      <th>adr</th>\n",
       "      <th>required_car_parking_spaces</th>\n",
       "      <th>total_of_special_requests</th>\n",
       "      <th>reservation_status</th>\n",
       "      <th>reservation_status_date</th>\n",
       "      <th>arrival_date</th>\n",
       "      <th>family_type</th>\n",
       "      <th>preferred_day</th>\n",
       "    </tr>\n",
       "  </thead>\n",
       "  <tbody>\n",
       "    <tr>\n",
       "      <th>0</th>\n",
       "      <td>Resort Hotel</td>\n",
       "      <td>0</td>\n",
       "      <td>342</td>\n",
       "      <td>2015</td>\n",
       "      <td>July</td>\n",
       "      <td>27</td>\n",
       "      <td>1</td>\n",
       "      <td>0</td>\n",
       "      <td>0</td>\n",
       "      <td>2</td>\n",
       "      <td>...</td>\n",
       "      <td>0</td>\n",
       "      <td>Transient</td>\n",
       "      <td>0.0</td>\n",
       "      <td>0</td>\n",
       "      <td>0</td>\n",
       "      <td>Check-Out</td>\n",
       "      <td>7/1/2015</td>\n",
       "      <td>2015-07-01</td>\n",
       "      <td>Couple</td>\n",
       "      <td>weekday</td>\n",
       "    </tr>\n",
       "    <tr>\n",
       "      <th>75559</th>\n",
       "      <td>City Hotel</td>\n",
       "      <td>0</td>\n",
       "      <td>257</td>\n",
       "      <td>2015</td>\n",
       "      <td>July</td>\n",
       "      <td>27</td>\n",
       "      <td>1</td>\n",
       "      <td>0</td>\n",
       "      <td>2</td>\n",
       "      <td>1</td>\n",
       "      <td>...</td>\n",
       "      <td>0</td>\n",
       "      <td>Transient</td>\n",
       "      <td>80.0</td>\n",
       "      <td>0</td>\n",
       "      <td>0</td>\n",
       "      <td>Check-Out</td>\n",
       "      <td>7/3/2015</td>\n",
       "      <td>2015-07-01</td>\n",
       "      <td>Single</td>\n",
       "      <td>weekday</td>\n",
       "    </tr>\n",
       "    <tr>\n",
       "      <th>75560</th>\n",
       "      <td>City Hotel</td>\n",
       "      <td>0</td>\n",
       "      <td>257</td>\n",
       "      <td>2015</td>\n",
       "      <td>July</td>\n",
       "      <td>27</td>\n",
       "      <td>1</td>\n",
       "      <td>0</td>\n",
       "      <td>2</td>\n",
       "      <td>2</td>\n",
       "      <td>...</td>\n",
       "      <td>0</td>\n",
       "      <td>Transient</td>\n",
       "      <td>101.5</td>\n",
       "      <td>0</td>\n",
       "      <td>0</td>\n",
       "      <td>Check-Out</td>\n",
       "      <td>7/3/2015</td>\n",
       "      <td>2015-07-01</td>\n",
       "      <td>Couple</td>\n",
       "      <td>weekday</td>\n",
       "    </tr>\n",
       "    <tr>\n",
       "      <th>75561</th>\n",
       "      <td>City Hotel</td>\n",
       "      <td>0</td>\n",
       "      <td>257</td>\n",
       "      <td>2015</td>\n",
       "      <td>July</td>\n",
       "      <td>27</td>\n",
       "      <td>1</td>\n",
       "      <td>0</td>\n",
       "      <td>2</td>\n",
       "      <td>2</td>\n",
       "      <td>...</td>\n",
       "      <td>0</td>\n",
       "      <td>Transient</td>\n",
       "      <td>101.5</td>\n",
       "      <td>0</td>\n",
       "      <td>0</td>\n",
       "      <td>Check-Out</td>\n",
       "      <td>7/3/2015</td>\n",
       "      <td>2015-07-01</td>\n",
       "      <td>Couple</td>\n",
       "      <td>weekday</td>\n",
       "    </tr>\n",
       "    <tr>\n",
       "      <th>75562</th>\n",
       "      <td>City Hotel</td>\n",
       "      <td>0</td>\n",
       "      <td>257</td>\n",
       "      <td>2015</td>\n",
       "      <td>July</td>\n",
       "      <td>27</td>\n",
       "      <td>1</td>\n",
       "      <td>0</td>\n",
       "      <td>2</td>\n",
       "      <td>2</td>\n",
       "      <td>...</td>\n",
       "      <td>0</td>\n",
       "      <td>Transient</td>\n",
       "      <td>101.5</td>\n",
       "      <td>0</td>\n",
       "      <td>0</td>\n",
       "      <td>Check-Out</td>\n",
       "      <td>7/3/2015</td>\n",
       "      <td>2015-07-01</td>\n",
       "      <td>Couple</td>\n",
       "      <td>weekday</td>\n",
       "    </tr>\n",
       "  </tbody>\n",
       "</table>\n",
       "<p>5 rows × 34 columns</p>\n",
       "</div>"
      ],
      "text/plain": [
       "              hotel  is_canceled  lead_time  arrival_date_year  \\\n",
       "0      Resort Hotel            0        342               2015   \n",
       "75559    City Hotel            0        257               2015   \n",
       "75560    City Hotel            0        257               2015   \n",
       "75561    City Hotel            0        257               2015   \n",
       "75562    City Hotel            0        257               2015   \n",
       "\n",
       "      arrival_date_month  arrival_date_week_number  arrival_date_day_of_month  \\\n",
       "0                   July                        27                          1   \n",
       "75559               July                        27                          1   \n",
       "75560               July                        27                          1   \n",
       "75561               July                        27                          1   \n",
       "75562               July                        27                          1   \n",
       "\n",
       "       stays_in_weekend_nights  stays_in_week_nights  adults  ...  \\\n",
       "0                            0                     0       2  ...   \n",
       "75559                        0                     2       1  ...   \n",
       "75560                        0                     2       2  ...   \n",
       "75561                        0                     2       2  ...   \n",
       "75562                        0                     2       2  ...   \n",
       "\n",
       "       days_in_waiting_list  customer_type    adr required_car_parking_spaces  \\\n",
       "0                         0      Transient    0.0                           0   \n",
       "75559                     0      Transient   80.0                           0   \n",
       "75560                     0      Transient  101.5                           0   \n",
       "75561                     0      Transient  101.5                           0   \n",
       "75562                     0      Transient  101.5                           0   \n",
       "\n",
       "      total_of_special_requests reservation_status  reservation_status_date  \\\n",
       "0                             0          Check-Out                 7/1/2015   \n",
       "75559                         0          Check-Out                 7/3/2015   \n",
       "75560                         0          Check-Out                 7/3/2015   \n",
       "75561                         0          Check-Out                 7/3/2015   \n",
       "75562                         0          Check-Out                 7/3/2015   \n",
       "\n",
       "       arrival_date  family_type preferred_day  \n",
       "0        2015-07-01       Couple       weekday  \n",
       "75559    2015-07-01       Single       weekday  \n",
       "75560    2015-07-01       Couple       weekday  \n",
       "75561    2015-07-01       Couple       weekday  \n",
       "75562    2015-07-01       Couple       weekday  \n",
       "\n",
       "[5 rows x 34 columns]"
      ]
     },
     "execution_count": 23,
     "metadata": {},
     "output_type": "execute_result"
    }
   ],
   "source": [
    "df.head()"
   ]
  },
  {
   "cell_type": "code",
   "execution_count": 24,
   "metadata": {
    "ExecuteTime": {
     "end_time": "2023-06-27T13:10:14.441067Z",
     "start_time": "2023-06-27T13:10:14.437921Z"
    }
   },
   "outputs": [],
   "source": [
    "#had cancelations\n",
    "df['had_cancelations'] = df['previous_cancellations'] > 0"
   ]
  },
  {
   "cell_type": "code",
   "execution_count": 25,
   "metadata": {
    "ExecuteTime": {
     "end_time": "2023-06-27T13:11:42.029266Z",
     "start_time": "2023-06-27T13:11:42.019435Z"
    }
   },
   "outputs": [],
   "source": [
    "# room change\n",
    "df['room_change'] = df['reserved_room_type'] != df['assigned_room_type']"
   ]
  },
  {
   "cell_type": "code",
   "execution_count": 26,
   "metadata": {
    "ExecuteTime": {
     "end_time": "2023-06-27T13:12:05.572838Z",
     "start_time": "2023-06-27T13:12:05.569802Z"
    }
   },
   "outputs": [],
   "source": [
    "# driving\n",
    "df['driving'] = df['required_car_parking_spaces'] > 0"
   ]
  },
  {
   "cell_type": "code",
   "execution_count": 27,
   "metadata": {
    "ExecuteTime": {
     "end_time": "2023-06-27T13:12:34.928807Z",
     "start_time": "2023-06-27T13:12:34.925929Z"
    }
   },
   "outputs": [],
   "source": [
    "# special request\n",
    "df['special_request'] = df['total_of_special_requests'] > 0"
   ]
  },
  {
   "cell_type": "code",
   "execution_count": 28,
   "metadata": {
    "ExecuteTime": {
     "end_time": "2023-06-27T13:13:51.673020Z",
     "start_time": "2023-06-27T13:13:51.605297Z"
    }
   },
   "outputs": [
    {
     "name": "stdout",
     "output_type": "stream",
     "text": [
      "<class 'pandas.core.frame.DataFrame'>\n",
      "Index: 118987 entries, 0 to 117424\n",
      "Data columns (total 38 columns):\n",
      " #   Column                          Non-Null Count   Dtype         \n",
      "---  ------                          --------------   -----         \n",
      " 0   hotel                           118987 non-null  object        \n",
      " 1   is_canceled                     118987 non-null  int64         \n",
      " 2   lead_time                       118987 non-null  int64         \n",
      " 3   arrival_date_year               118987 non-null  int64         \n",
      " 4   arrival_date_month              118987 non-null  object        \n",
      " 5   arrival_date_week_number        118987 non-null  int64         \n",
      " 6   arrival_date_day_of_month       118987 non-null  int64         \n",
      " 7   stays_in_weekend_nights         118987 non-null  int64         \n",
      " 8   stays_in_week_nights            118987 non-null  int64         \n",
      " 9   adults                          118987 non-null  int64         \n",
      " 10  children                        118987 non-null  int64         \n",
      " 11  babies                          118987 non-null  int64         \n",
      " 12  meal                            118987 non-null  object        \n",
      " 13  country                         118987 non-null  object        \n",
      " 14  market_segment                  118987 non-null  object        \n",
      " 15  distribution_channel            118987 non-null  object        \n",
      " 16  is_repeated_guest               118987 non-null  int64         \n",
      " 17  previous_cancellations          118987 non-null  int64         \n",
      " 18  previous_bookings_not_canceled  118987 non-null  int64         \n",
      " 19  reserved_room_type              118987 non-null  object        \n",
      " 20  assigned_room_type              118987 non-null  object        \n",
      " 21  booking_changes                 118987 non-null  int64         \n",
      " 22  deposit_type                    118987 non-null  object        \n",
      " 23  agent                           118987 non-null  int64         \n",
      " 24  days_in_waiting_list            118987 non-null  int64         \n",
      " 25  customer_type                   118987 non-null  object        \n",
      " 26  adr                             118987 non-null  float64       \n",
      " 27  required_car_parking_spaces     118987 non-null  int64         \n",
      " 28  total_of_special_requests       118987 non-null  int64         \n",
      " 29  reservation_status              118987 non-null  object        \n",
      " 30  reservation_status_date         118987 non-null  object        \n",
      " 31  arrival_date                    118987 non-null  datetime64[ns]\n",
      " 32  family_type                     118987 non-null  object        \n",
      " 33  preferred_day                   118987 non-null  object        \n",
      " 34  had_cancelations                118987 non-null  bool          \n",
      " 35  room_change                     118987 non-null  bool          \n",
      " 36  driving                         118987 non-null  bool          \n",
      " 37  special_request                 118987 non-null  bool          \n",
      "dtypes: bool(4), datetime64[ns](1), float64(1), int64(18), object(14)\n",
      "memory usage: 32.2+ MB\n"
     ]
    }
   ],
   "source": [
    "df.info()"
   ]
  },
  {
   "cell_type": "code",
   "execution_count": 37,
   "metadata": {
    "ExecuteTime": {
     "end_time": "2023-06-27T13:40:51.350218Z",
     "start_time": "2023-06-27T13:40:51.339506Z"
    }
   },
   "outputs": [
    {
     "data": {
      "text/plain": [
       "meal\n",
       "BB           92020\n",
       "HB           14454\n",
       "SC           10546\n",
       "Undefined     1169\n",
       "FB             798\n",
       "Name: count, dtype: int64"
      ]
     },
     "execution_count": 37,
     "metadata": {},
     "output_type": "execute_result"
    }
   ],
   "source": [
    "df['meal'].value_counts()"
   ]
  },
  {
   "cell_type": "markdown",
   "metadata": {},
   "source": [
    "## Next steps for customer Persona\n",
    "1. Select categorical columns and encode it => can use ordinal encoder\n",
    "2. Select important features manually => qualitative analysis\n",
    "3. Feature transformation by applying some sort of scaling => can use StandardScaler / MinMaxScaler\n",
    "4. Apply dimensionality reduction method => PCA\n",
    "5. Cluster using K-means or Gaussian Mixture models\n",
    "6. Match this with the customer type"
   ]
  },
  {
   "cell_type": "code",
   "execution_count": 29,
   "metadata": {
    "ExecuteTime": {
     "end_time": "2023-06-27T13:20:54.903758Z",
     "start_time": "2023-06-27T13:20:54.900872Z"
    }
   },
   "outputs": [],
   "source": [
    "categorical_cols = df.columns[df.dtypes == object]"
   ]
  },
  {
   "cell_type": "code",
   "execution_count": 30,
   "metadata": {
    "ExecuteTime": {
     "end_time": "2023-06-27T13:20:57.909433Z",
     "start_time": "2023-06-27T13:20:57.905764Z"
    }
   },
   "outputs": [
    {
     "data": {
      "text/plain": [
       "Index(['hotel', 'arrival_date_month', 'meal', 'country', 'market_segment',\n",
       "       'distribution_channel', 'reserved_room_type', 'assigned_room_type',\n",
       "       'deposit_type', 'customer_type', 'reservation_status',\n",
       "       'reservation_status_date', 'family_type', 'preferred_day'],\n",
       "      dtype='object')"
      ]
     },
     "execution_count": 30,
     "metadata": {},
     "output_type": "execute_result"
    }
   ],
   "source": [
    "categorical_cols"
   ]
  },
  {
   "cell_type": "code",
   "execution_count": 31,
   "metadata": {
    "ExecuteTime": {
     "end_time": "2023-06-27T13:22:16.461673Z",
     "start_time": "2023-06-27T13:22:16.373791Z"
    }
   },
   "outputs": [
    {
     "data": {
      "text/html": [
       "<div>\n",
       "<style scoped>\n",
       "    .dataframe tbody tr th:only-of-type {\n",
       "        vertical-align: middle;\n",
       "    }\n",
       "\n",
       "    .dataframe tbody tr th {\n",
       "        vertical-align: top;\n",
       "    }\n",
       "\n",
       "    .dataframe thead th {\n",
       "        text-align: right;\n",
       "    }\n",
       "</style>\n",
       "<table border=\"1\" class=\"dataframe\">\n",
       "  <thead>\n",
       "    <tr style=\"text-align: right;\">\n",
       "      <th></th>\n",
       "      <th>hotel</th>\n",
       "      <th>arrival_date_month</th>\n",
       "      <th>meal</th>\n",
       "      <th>country</th>\n",
       "      <th>market_segment</th>\n",
       "      <th>distribution_channel</th>\n",
       "      <th>reserved_room_type</th>\n",
       "      <th>assigned_room_type</th>\n",
       "      <th>deposit_type</th>\n",
       "      <th>customer_type</th>\n",
       "      <th>reservation_status</th>\n",
       "      <th>reservation_status_date</th>\n",
       "      <th>family_type</th>\n",
       "      <th>preferred_day</th>\n",
       "    </tr>\n",
       "  </thead>\n",
       "  <tbody>\n",
       "    <tr>\n",
       "      <th>0</th>\n",
       "      <td>Resort Hotel</td>\n",
       "      <td>July</td>\n",
       "      <td>BB</td>\n",
       "      <td>PRT</td>\n",
       "      <td>Direct</td>\n",
       "      <td>Direct</td>\n",
       "      <td>C</td>\n",
       "      <td>C</td>\n",
       "      <td>No Deposit</td>\n",
       "      <td>Transient</td>\n",
       "      <td>Check-Out</td>\n",
       "      <td>7/1/2015</td>\n",
       "      <td>Couple</td>\n",
       "      <td>weekday</td>\n",
       "    </tr>\n",
       "    <tr>\n",
       "      <th>75559</th>\n",
       "      <td>City Hotel</td>\n",
       "      <td>July</td>\n",
       "      <td>HB</td>\n",
       "      <td>PRT</td>\n",
       "      <td>Offline TA/TO</td>\n",
       "      <td>TA/TO</td>\n",
       "      <td>A</td>\n",
       "      <td>A</td>\n",
       "      <td>No Deposit</td>\n",
       "      <td>Transient</td>\n",
       "      <td>Check-Out</td>\n",
       "      <td>7/3/2015</td>\n",
       "      <td>Single</td>\n",
       "      <td>weekday</td>\n",
       "    </tr>\n",
       "    <tr>\n",
       "      <th>75560</th>\n",
       "      <td>City Hotel</td>\n",
       "      <td>July</td>\n",
       "      <td>HB</td>\n",
       "      <td>PRT</td>\n",
       "      <td>Offline TA/TO</td>\n",
       "      <td>TA/TO</td>\n",
       "      <td>A</td>\n",
       "      <td>A</td>\n",
       "      <td>No Deposit</td>\n",
       "      <td>Transient</td>\n",
       "      <td>Check-Out</td>\n",
       "      <td>7/3/2015</td>\n",
       "      <td>Couple</td>\n",
       "      <td>weekday</td>\n",
       "    </tr>\n",
       "    <tr>\n",
       "      <th>75561</th>\n",
       "      <td>City Hotel</td>\n",
       "      <td>July</td>\n",
       "      <td>HB</td>\n",
       "      <td>PRT</td>\n",
       "      <td>Offline TA/TO</td>\n",
       "      <td>TA/TO</td>\n",
       "      <td>A</td>\n",
       "      <td>A</td>\n",
       "      <td>No Deposit</td>\n",
       "      <td>Transient</td>\n",
       "      <td>Check-Out</td>\n",
       "      <td>7/3/2015</td>\n",
       "      <td>Couple</td>\n",
       "      <td>weekday</td>\n",
       "    </tr>\n",
       "    <tr>\n",
       "      <th>75562</th>\n",
       "      <td>City Hotel</td>\n",
       "      <td>July</td>\n",
       "      <td>HB</td>\n",
       "      <td>PRT</td>\n",
       "      <td>Offline TA/TO</td>\n",
       "      <td>TA/TO</td>\n",
       "      <td>A</td>\n",
       "      <td>A</td>\n",
       "      <td>No Deposit</td>\n",
       "      <td>Transient</td>\n",
       "      <td>Check-Out</td>\n",
       "      <td>7/3/2015</td>\n",
       "      <td>Couple</td>\n",
       "      <td>weekday</td>\n",
       "    </tr>\n",
       "    <tr>\n",
       "      <th>...</th>\n",
       "      <td>...</td>\n",
       "      <td>...</td>\n",
       "      <td>...</td>\n",
       "      <td>...</td>\n",
       "      <td>...</td>\n",
       "      <td>...</td>\n",
       "      <td>...</td>\n",
       "      <td>...</td>\n",
       "      <td>...</td>\n",
       "      <td>...</td>\n",
       "      <td>...</td>\n",
       "      <td>...</td>\n",
       "      <td>...</td>\n",
       "      <td>...</td>\n",
       "    </tr>\n",
       "    <tr>\n",
       "      <th>40039</th>\n",
       "      <td>Resort Hotel</td>\n",
       "      <td>August</td>\n",
       "      <td>HB</td>\n",
       "      <td>GBR</td>\n",
       "      <td>Online TA</td>\n",
       "      <td>TA/TO</td>\n",
       "      <td>E</td>\n",
       "      <td>E</td>\n",
       "      <td>No Deposit</td>\n",
       "      <td>Transient</td>\n",
       "      <td>Check-Out</td>\n",
       "      <td>9/7/2017</td>\n",
       "      <td>Couple</td>\n",
       "      <td>weekday</td>\n",
       "    </tr>\n",
       "    <tr>\n",
       "      <th>40040</th>\n",
       "      <td>Resort Hotel</td>\n",
       "      <td>August</td>\n",
       "      <td>HB</td>\n",
       "      <td>ITA</td>\n",
       "      <td>Online TA</td>\n",
       "      <td>TA/TO</td>\n",
       "      <td>G</td>\n",
       "      <td>G</td>\n",
       "      <td>No Deposit</td>\n",
       "      <td>Transient</td>\n",
       "      <td>Check-Out</td>\n",
       "      <td>9/7/2017</td>\n",
       "      <td>Family</td>\n",
       "      <td>weekday</td>\n",
       "    </tr>\n",
       "    <tr>\n",
       "      <th>13794</th>\n",
       "      <td>Resort Hotel</td>\n",
       "      <td>August</td>\n",
       "      <td>HB</td>\n",
       "      <td>ESP</td>\n",
       "      <td>Online TA</td>\n",
       "      <td>TA/TO</td>\n",
       "      <td>A</td>\n",
       "      <td>A</td>\n",
       "      <td>No Deposit</td>\n",
       "      <td>Transient</td>\n",
       "      <td>Canceled</td>\n",
       "      <td>8/14/2017</td>\n",
       "      <td>Couple</td>\n",
       "      <td>weekday</td>\n",
       "    </tr>\n",
       "    <tr>\n",
       "      <th>40038</th>\n",
       "      <td>Resort Hotel</td>\n",
       "      <td>August</td>\n",
       "      <td>HB</td>\n",
       "      <td>GBR</td>\n",
       "      <td>Offline TA/TO</td>\n",
       "      <td>TA/TO</td>\n",
       "      <td>D</td>\n",
       "      <td>D</td>\n",
       "      <td>No Deposit</td>\n",
       "      <td>Contract</td>\n",
       "      <td>Check-Out</td>\n",
       "      <td>9/7/2017</td>\n",
       "      <td>Couple</td>\n",
       "      <td>weekday</td>\n",
       "    </tr>\n",
       "    <tr>\n",
       "      <th>117424</th>\n",
       "      <td>City Hotel</td>\n",
       "      <td>August</td>\n",
       "      <td>BB</td>\n",
       "      <td>PRT</td>\n",
       "      <td>Corporate</td>\n",
       "      <td>Corporate</td>\n",
       "      <td>A</td>\n",
       "      <td>A</td>\n",
       "      <td>No Deposit</td>\n",
       "      <td>Transient</td>\n",
       "      <td>Check-Out</td>\n",
       "      <td>9/1/2017</td>\n",
       "      <td>Family</td>\n",
       "      <td>weekday</td>\n",
       "    </tr>\n",
       "  </tbody>\n",
       "</table>\n",
       "<p>118987 rows × 14 columns</p>\n",
       "</div>"
      ],
      "text/plain": [
       "               hotel arrival_date_month meal country market_segment  \\\n",
       "0       Resort Hotel               July   BB     PRT         Direct   \n",
       "75559     City Hotel               July   HB     PRT  Offline TA/TO   \n",
       "75560     City Hotel               July   HB     PRT  Offline TA/TO   \n",
       "75561     City Hotel               July   HB     PRT  Offline TA/TO   \n",
       "75562     City Hotel               July   HB     PRT  Offline TA/TO   \n",
       "...              ...                ...  ...     ...            ...   \n",
       "40039   Resort Hotel             August   HB     GBR      Online TA   \n",
       "40040   Resort Hotel             August   HB     ITA      Online TA   \n",
       "13794   Resort Hotel             August   HB     ESP      Online TA   \n",
       "40038   Resort Hotel             August   HB     GBR  Offline TA/TO   \n",
       "117424    City Hotel             August   BB     PRT      Corporate   \n",
       "\n",
       "       distribution_channel reserved_room_type assigned_room_type  \\\n",
       "0                    Direct                  C                  C   \n",
       "75559                 TA/TO                  A                  A   \n",
       "75560                 TA/TO                  A                  A   \n",
       "75561                 TA/TO                  A                  A   \n",
       "75562                 TA/TO                  A                  A   \n",
       "...                     ...                ...                ...   \n",
       "40039                 TA/TO                  E                  E   \n",
       "40040                 TA/TO                  G                  G   \n",
       "13794                 TA/TO                  A                  A   \n",
       "40038                 TA/TO                  D                  D   \n",
       "117424            Corporate                  A                  A   \n",
       "\n",
       "       deposit_type customer_type reservation_status reservation_status_date  \\\n",
       "0        No Deposit     Transient          Check-Out                7/1/2015   \n",
       "75559    No Deposit     Transient          Check-Out                7/3/2015   \n",
       "75560    No Deposit     Transient          Check-Out                7/3/2015   \n",
       "75561    No Deposit     Transient          Check-Out                7/3/2015   \n",
       "75562    No Deposit     Transient          Check-Out                7/3/2015   \n",
       "...             ...           ...                ...                     ...   \n",
       "40039    No Deposit     Transient          Check-Out                9/7/2017   \n",
       "40040    No Deposit     Transient          Check-Out                9/7/2017   \n",
       "13794    No Deposit     Transient           Canceled               8/14/2017   \n",
       "40038    No Deposit      Contract          Check-Out                9/7/2017   \n",
       "117424   No Deposit     Transient          Check-Out                9/1/2017   \n",
       "\n",
       "       family_type preferred_day  \n",
       "0           Couple       weekday  \n",
       "75559       Single       weekday  \n",
       "75560       Couple       weekday  \n",
       "75561       Couple       weekday  \n",
       "75562       Couple       weekday  \n",
       "...            ...           ...  \n",
       "40039       Couple       weekday  \n",
       "40040       Family       weekday  \n",
       "13794       Couple       weekday  \n",
       "40038       Couple       weekday  \n",
       "117424      Family       weekday  \n",
       "\n",
       "[118987 rows x 14 columns]"
      ]
     },
     "execution_count": 31,
     "metadata": {},
     "output_type": "execute_result"
    }
   ],
   "source": [
    "data = df.copy(deep = True)\n",
    "data[categorical_cols]"
   ]
  },
  {
   "cell_type": "code",
   "execution_count": 33,
   "metadata": {
    "ExecuteTime": {
     "end_time": "2023-06-27T13:26:48.832325Z",
     "start_time": "2023-06-27T13:26:48.811012Z"
    }
   },
   "outputs": [],
   "source": [
    "# there are undefined values in market_segment, distribution_channel and meals => drop these rows\n",
    "to_drop = (data['market_segment'] == 'Undefined') | (data['distribution_channel'] == 'Undefined') | (data['meal'] == 'Undefined')"
   ]
  },
  {
   "cell_type": "code",
   "execution_count": 35,
   "metadata": {
    "ExecuteTime": {
     "end_time": "2023-06-27T13:27:41.248245Z",
     "start_time": "2023-06-27T13:27:41.244382Z"
    }
   },
   "outputs": [
    {
     "name": "stdout",
     "output_type": "stream",
     "text": [
      "Number of data to drop: 1174\n"
     ]
    }
   ],
   "source": [
    "print(f'Number of data to drop: {len(data[to_drop])}')"
   ]
  },
  {
   "cell_type": "code",
   "execution_count": 36,
   "metadata": {
    "ExecuteTime": {
     "end_time": "2023-06-27T13:28:19.125448Z",
     "start_time": "2023-06-27T13:28:19.091087Z"
    }
   },
   "outputs": [
    {
     "data": {
      "text/plain": [
       "(117813, 38)"
      ]
     },
     "execution_count": 36,
     "metadata": {},
     "output_type": "execute_result"
    }
   ],
   "source": [
    "data = data[~(to_drop)]\n",
    "data.shape"
   ]
  },
  {
   "cell_type": "code",
   "execution_count": 44,
   "metadata": {
    "ExecuteTime": {
     "end_time": "2023-07-04T11:16:52.155140Z",
     "start_time": "2023-07-04T11:16:51.959634Z"
    }
   },
   "outputs": [
    {
     "data": {
      "text/html": [
       "<div>\n",
       "<style scoped>\n",
       "    .dataframe tbody tr th:only-of-type {\n",
       "        vertical-align: middle;\n",
       "    }\n",
       "\n",
       "    .dataframe tbody tr th {\n",
       "        vertical-align: top;\n",
       "    }\n",
       "\n",
       "    .dataframe thead th {\n",
       "        text-align: right;\n",
       "    }\n",
       "</style>\n",
       "<table border=\"1\" class=\"dataframe\">\n",
       "  <thead>\n",
       "    <tr style=\"text-align: right;\">\n",
       "      <th></th>\n",
       "      <th>family_type</th>\n",
       "      <th>hotel</th>\n",
       "      <th>special_request</th>\n",
       "      <th>preferred_day</th>\n",
       "      <th>driving</th>\n",
       "      <th>room_change</th>\n",
       "      <th>lead_time</th>\n",
       "      <th>agent</th>\n",
       "      <th>had_cancelations</th>\n",
       "      <th>customer_type</th>\n",
       "      <th>market_segment</th>\n",
       "      <th>is_repeated_guest</th>\n",
       "      <th>adr</th>\n",
       "    </tr>\n",
       "  </thead>\n",
       "  <tbody>\n",
       "    <tr>\n",
       "      <th>0</th>\n",
       "      <td>Couple</td>\n",
       "      <td>Resort Hotel</td>\n",
       "      <td>False</td>\n",
       "      <td>weekday</td>\n",
       "      <td>False</td>\n",
       "      <td>False</td>\n",
       "      <td>342</td>\n",
       "      <td>0</td>\n",
       "      <td>False</td>\n",
       "      <td>Transient</td>\n",
       "      <td>Direct</td>\n",
       "      <td>0</td>\n",
       "      <td>0.0</td>\n",
       "    </tr>\n",
       "    <tr>\n",
       "      <th>75559</th>\n",
       "      <td>Single</td>\n",
       "      <td>City Hotel</td>\n",
       "      <td>False</td>\n",
       "      <td>weekday</td>\n",
       "      <td>False</td>\n",
       "      <td>False</td>\n",
       "      <td>257</td>\n",
       "      <td>6</td>\n",
       "      <td>False</td>\n",
       "      <td>Transient</td>\n",
       "      <td>Offline TA/TO</td>\n",
       "      <td>0</td>\n",
       "      <td>80.0</td>\n",
       "    </tr>\n",
       "    <tr>\n",
       "      <th>75560</th>\n",
       "      <td>Couple</td>\n",
       "      <td>City Hotel</td>\n",
       "      <td>False</td>\n",
       "      <td>weekday</td>\n",
       "      <td>False</td>\n",
       "      <td>False</td>\n",
       "      <td>257</td>\n",
       "      <td>6</td>\n",
       "      <td>False</td>\n",
       "      <td>Transient</td>\n",
       "      <td>Offline TA/TO</td>\n",
       "      <td>0</td>\n",
       "      <td>101.5</td>\n",
       "    </tr>\n",
       "    <tr>\n",
       "      <th>75561</th>\n",
       "      <td>Couple</td>\n",
       "      <td>City Hotel</td>\n",
       "      <td>False</td>\n",
       "      <td>weekday</td>\n",
       "      <td>False</td>\n",
       "      <td>False</td>\n",
       "      <td>257</td>\n",
       "      <td>6</td>\n",
       "      <td>False</td>\n",
       "      <td>Transient</td>\n",
       "      <td>Offline TA/TO</td>\n",
       "      <td>0</td>\n",
       "      <td>101.5</td>\n",
       "    </tr>\n",
       "    <tr>\n",
       "      <th>75562</th>\n",
       "      <td>Couple</td>\n",
       "      <td>City Hotel</td>\n",
       "      <td>False</td>\n",
       "      <td>weekday</td>\n",
       "      <td>False</td>\n",
       "      <td>False</td>\n",
       "      <td>257</td>\n",
       "      <td>6</td>\n",
       "      <td>False</td>\n",
       "      <td>Transient</td>\n",
       "      <td>Offline TA/TO</td>\n",
       "      <td>0</td>\n",
       "      <td>101.5</td>\n",
       "    </tr>\n",
       "  </tbody>\n",
       "</table>\n",
       "</div>"
      ],
      "text/plain": [
       "      family_type         hotel  special_request preferred_day  driving  \\\n",
       "0          Couple  Resort Hotel            False       weekday    False   \n",
       "75559      Single    City Hotel            False       weekday    False   \n",
       "75560      Couple    City Hotel            False       weekday    False   \n",
       "75561      Couple    City Hotel            False       weekday    False   \n",
       "75562      Couple    City Hotel            False       weekday    False   \n",
       "\n",
       "       room_change  lead_time  agent  had_cancelations customer_type  \\\n",
       "0            False        342      0             False     Transient   \n",
       "75559        False        257      6             False     Transient   \n",
       "75560        False        257      6             False     Transient   \n",
       "75561        False        257      6             False     Transient   \n",
       "75562        False        257      6             False     Transient   \n",
       "\n",
       "      market_segment  is_repeated_guest    adr  \n",
       "0             Direct                  0    0.0  \n",
       "75559  Offline TA/TO                  0   80.0  \n",
       "75560  Offline TA/TO                  0  101.5  \n",
       "75561  Offline TA/TO                  0  101.5  \n",
       "75562  Offline TA/TO                  0  101.5  "
      ]
     },
     "execution_count": 44,
     "metadata": {},
     "output_type": "execute_result"
    }
   ],
   "source": [
    "# Select important features => what are those\n",
    "data_small = data[['family_type',\n",
    "                   'hotel',\n",
    "                   'special_request',\n",
    "                   'preferred_day',\n",
    "                   'driving',\n",
    "                   'room_change',\n",
    "                   'lead_time',\n",
    "                   'agent',\n",
    "                   'had_cancelations',\n",
    "                   'customer_type',\n",
    "                   'market_segment',\n",
    "                   'is_repeated_guest',\n",
    "                   'adr']]\n",
    "data_small.head()"
   ]
  },
  {
   "cell_type": "code",
   "execution_count": 45,
   "metadata": {
    "ExecuteTime": {
     "end_time": "2023-07-04T11:16:54.338280Z",
     "start_time": "2023-07-04T11:16:54.332610Z"
    }
   },
   "outputs": [],
   "source": [
    "categorical_cols = data_small.columns[data_small.dtypes == object]"
   ]
  },
  {
   "cell_type": "code",
   "execution_count": 46,
   "metadata": {
    "ExecuteTime": {
     "end_time": "2023-07-04T11:16:54.902144Z",
     "start_time": "2023-07-04T11:16:54.895869Z"
    }
   },
   "outputs": [
    {
     "data": {
      "text/plain": [
       "Index(['family_type', 'hotel', 'preferred_day', 'customer_type',\n",
       "       'market_segment'],\n",
       "      dtype='object')"
      ]
     },
     "execution_count": 46,
     "metadata": {},
     "output_type": "execute_result"
    }
   ],
   "source": [
    "categorical_cols"
   ]
  },
  {
   "cell_type": "code",
   "execution_count": 49,
   "metadata": {
    "ExecuteTime": {
     "end_time": "2023-07-04T11:20:42.269531Z",
     "start_time": "2023-07-04T11:20:42.126468Z"
    }
   },
   "outputs": [
    {
     "name": "stderr",
     "output_type": "stream",
     "text": [
      "/var/folders/l9/swvqvt0552gfk3662mhw83b00000gn/T/ipykernel_61270/3298524208.py:3: SettingWithCopyWarning: \n",
      "A value is trying to be set on a copy of a slice from a DataFrame.\n",
      "Try using .loc[row_indexer,col_indexer] = value instead\n",
      "\n",
      "See the caveats in the documentation: https://pandas.pydata.org/pandas-docs/stable/user_guide/indexing.html#returning-a-view-versus-a-copy\n",
      "  data_small[categorical_cols] = oe.fit_transform(data_small[categorical_cols])\n"
     ]
    }
   ],
   "source": [
    "# Encode the categorical columns\n",
    "oe = OrdinalEncoder()\n",
    "data_small[categorical_cols] = oe.fit_transform(data_small[categorical_cols])"
   ]
  },
  {
   "cell_type": "code",
   "execution_count": 50,
   "metadata": {
    "ExecuteTime": {
     "end_time": "2023-07-04T11:20:44.097779Z",
     "start_time": "2023-07-04T11:20:44.076933Z"
    }
   },
   "outputs": [
    {
     "data": {
      "text/html": [
       "<div>\n",
       "<style scoped>\n",
       "    .dataframe tbody tr th:only-of-type {\n",
       "        vertical-align: middle;\n",
       "    }\n",
       "\n",
       "    .dataframe tbody tr th {\n",
       "        vertical-align: top;\n",
       "    }\n",
       "\n",
       "    .dataframe thead th {\n",
       "        text-align: right;\n",
       "    }\n",
       "</style>\n",
       "<table border=\"1\" class=\"dataframe\">\n",
       "  <thead>\n",
       "    <tr style=\"text-align: right;\">\n",
       "      <th></th>\n",
       "      <th>family_type</th>\n",
       "      <th>hotel</th>\n",
       "      <th>special_request</th>\n",
       "      <th>preferred_day</th>\n",
       "      <th>driving</th>\n",
       "      <th>room_change</th>\n",
       "      <th>lead_time</th>\n",
       "      <th>agent</th>\n",
       "      <th>had_cancelations</th>\n",
       "      <th>customer_type</th>\n",
       "      <th>market_segment</th>\n",
       "      <th>is_repeated_guest</th>\n",
       "      <th>adr</th>\n",
       "    </tr>\n",
       "  </thead>\n",
       "  <tbody>\n",
       "    <tr>\n",
       "      <th>0</th>\n",
       "      <td>1.0</td>\n",
       "      <td>1.0</td>\n",
       "      <td>False</td>\n",
       "      <td>0.0</td>\n",
       "      <td>False</td>\n",
       "      <td>False</td>\n",
       "      <td>342</td>\n",
       "      <td>0</td>\n",
       "      <td>False</td>\n",
       "      <td>2.0</td>\n",
       "      <td>3.0</td>\n",
       "      <td>0</td>\n",
       "      <td>0.00</td>\n",
       "    </tr>\n",
       "    <tr>\n",
       "      <th>75559</th>\n",
       "      <td>3.0</td>\n",
       "      <td>0.0</td>\n",
       "      <td>False</td>\n",
       "      <td>0.0</td>\n",
       "      <td>False</td>\n",
       "      <td>False</td>\n",
       "      <td>257</td>\n",
       "      <td>6</td>\n",
       "      <td>False</td>\n",
       "      <td>2.0</td>\n",
       "      <td>5.0</td>\n",
       "      <td>0</td>\n",
       "      <td>80.00</td>\n",
       "    </tr>\n",
       "    <tr>\n",
       "      <th>75560</th>\n",
       "      <td>1.0</td>\n",
       "      <td>0.0</td>\n",
       "      <td>False</td>\n",
       "      <td>0.0</td>\n",
       "      <td>False</td>\n",
       "      <td>False</td>\n",
       "      <td>257</td>\n",
       "      <td>6</td>\n",
       "      <td>False</td>\n",
       "      <td>2.0</td>\n",
       "      <td>5.0</td>\n",
       "      <td>0</td>\n",
       "      <td>101.50</td>\n",
       "    </tr>\n",
       "    <tr>\n",
       "      <th>75561</th>\n",
       "      <td>1.0</td>\n",
       "      <td>0.0</td>\n",
       "      <td>False</td>\n",
       "      <td>0.0</td>\n",
       "      <td>False</td>\n",
       "      <td>False</td>\n",
       "      <td>257</td>\n",
       "      <td>6</td>\n",
       "      <td>False</td>\n",
       "      <td>2.0</td>\n",
       "      <td>5.0</td>\n",
       "      <td>0</td>\n",
       "      <td>101.50</td>\n",
       "    </tr>\n",
       "    <tr>\n",
       "      <th>75562</th>\n",
       "      <td>1.0</td>\n",
       "      <td>0.0</td>\n",
       "      <td>False</td>\n",
       "      <td>0.0</td>\n",
       "      <td>False</td>\n",
       "      <td>False</td>\n",
       "      <td>257</td>\n",
       "      <td>6</td>\n",
       "      <td>False</td>\n",
       "      <td>2.0</td>\n",
       "      <td>5.0</td>\n",
       "      <td>0</td>\n",
       "      <td>101.50</td>\n",
       "    </tr>\n",
       "    <tr>\n",
       "      <th>...</th>\n",
       "      <td>...</td>\n",
       "      <td>...</td>\n",
       "      <td>...</td>\n",
       "      <td>...</td>\n",
       "      <td>...</td>\n",
       "      <td>...</td>\n",
       "      <td>...</td>\n",
       "      <td>...</td>\n",
       "      <td>...</td>\n",
       "      <td>...</td>\n",
       "      <td>...</td>\n",
       "      <td>...</td>\n",
       "      <td>...</td>\n",
       "    </tr>\n",
       "    <tr>\n",
       "      <th>40039</th>\n",
       "      <td>1.0</td>\n",
       "      <td>1.0</td>\n",
       "      <td>True</td>\n",
       "      <td>0.0</td>\n",
       "      <td>False</td>\n",
       "      <td>False</td>\n",
       "      <td>108</td>\n",
       "      <td>241</td>\n",
       "      <td>False</td>\n",
       "      <td>2.0</td>\n",
       "      <td>6.0</td>\n",
       "      <td>0</td>\n",
       "      <td>207.03</td>\n",
       "    </tr>\n",
       "    <tr>\n",
       "      <th>40040</th>\n",
       "      <td>2.0</td>\n",
       "      <td>1.0</td>\n",
       "      <td>True</td>\n",
       "      <td>0.0</td>\n",
       "      <td>True</td>\n",
       "      <td>False</td>\n",
       "      <td>194</td>\n",
       "      <td>240</td>\n",
       "      <td>False</td>\n",
       "      <td>2.0</td>\n",
       "      <td>6.0</td>\n",
       "      <td>0</td>\n",
       "      <td>312.29</td>\n",
       "    </tr>\n",
       "    <tr>\n",
       "      <th>13794</th>\n",
       "      <td>1.0</td>\n",
       "      <td>1.0</td>\n",
       "      <td>True</td>\n",
       "      <td>0.0</td>\n",
       "      <td>False</td>\n",
       "      <td>False</td>\n",
       "      <td>17</td>\n",
       "      <td>240</td>\n",
       "      <td>False</td>\n",
       "      <td>2.0</td>\n",
       "      <td>6.0</td>\n",
       "      <td>0</td>\n",
       "      <td>207.00</td>\n",
       "    </tr>\n",
       "    <tr>\n",
       "      <th>40038</th>\n",
       "      <td>1.0</td>\n",
       "      <td>1.0</td>\n",
       "      <td>False</td>\n",
       "      <td>0.0</td>\n",
       "      <td>False</td>\n",
       "      <td>False</td>\n",
       "      <td>191</td>\n",
       "      <td>40</td>\n",
       "      <td>False</td>\n",
       "      <td>0.0</td>\n",
       "      <td>5.0</td>\n",
       "      <td>0</td>\n",
       "      <td>114.80</td>\n",
       "    </tr>\n",
       "    <tr>\n",
       "      <th>117424</th>\n",
       "      <td>2.0</td>\n",
       "      <td>0.0</td>\n",
       "      <td>True</td>\n",
       "      <td>0.0</td>\n",
       "      <td>False</td>\n",
       "      <td>False</td>\n",
       "      <td>3</td>\n",
       "      <td>0</td>\n",
       "      <td>False</td>\n",
       "      <td>2.0</td>\n",
       "      <td>2.0</td>\n",
       "      <td>1</td>\n",
       "      <td>95.00</td>\n",
       "    </tr>\n",
       "  </tbody>\n",
       "</table>\n",
       "<p>117813 rows × 13 columns</p>\n",
       "</div>"
      ],
      "text/plain": [
       "        family_type  hotel  special_request  preferred_day  driving  \\\n",
       "0               1.0    1.0            False            0.0    False   \n",
       "75559           3.0    0.0            False            0.0    False   \n",
       "75560           1.0    0.0            False            0.0    False   \n",
       "75561           1.0    0.0            False            0.0    False   \n",
       "75562           1.0    0.0            False            0.0    False   \n",
       "...             ...    ...              ...            ...      ...   \n",
       "40039           1.0    1.0             True            0.0    False   \n",
       "40040           2.0    1.0             True            0.0     True   \n",
       "13794           1.0    1.0             True            0.0    False   \n",
       "40038           1.0    1.0            False            0.0    False   \n",
       "117424          2.0    0.0             True            0.0    False   \n",
       "\n",
       "        room_change  lead_time  agent  had_cancelations  customer_type  \\\n",
       "0             False        342      0             False            2.0   \n",
       "75559         False        257      6             False            2.0   \n",
       "75560         False        257      6             False            2.0   \n",
       "75561         False        257      6             False            2.0   \n",
       "75562         False        257      6             False            2.0   \n",
       "...             ...        ...    ...               ...            ...   \n",
       "40039         False        108    241             False            2.0   \n",
       "40040         False        194    240             False            2.0   \n",
       "13794         False         17    240             False            2.0   \n",
       "40038         False        191     40             False            0.0   \n",
       "117424        False          3      0             False            2.0   \n",
       "\n",
       "        market_segment  is_repeated_guest     adr  \n",
       "0                  3.0                  0    0.00  \n",
       "75559              5.0                  0   80.00  \n",
       "75560              5.0                  0  101.50  \n",
       "75561              5.0                  0  101.50  \n",
       "75562              5.0                  0  101.50  \n",
       "...                ...                ...     ...  \n",
       "40039              6.0                  0  207.03  \n",
       "40040              6.0                  0  312.29  \n",
       "13794              6.0                  0  207.00  \n",
       "40038              5.0                  0  114.80  \n",
       "117424             2.0                  1   95.00  \n",
       "\n",
       "[117813 rows x 13 columns]"
      ]
     },
     "execution_count": 50,
     "metadata": {},
     "output_type": "execute_result"
    }
   ],
   "source": [
    "data_small"
   ]
  },
  {
   "cell_type": "markdown",
   "metadata": {},
   "source": [
    "<u>family_type</u>\n",
    "<br>\n",
    "family type | ordinal encoder | one hot encoder\n",
    "family.     |  1.             | 00\n",
    "couple      |  2              | 01\n",
    "adult group \n",
    "single"
   ]
  },
  {
   "cell_type": "code",
   "execution_count": 51,
   "metadata": {
    "ExecuteTime": {
     "end_time": "2023-07-04T11:20:48.079304Z",
     "start_time": "2023-07-04T11:20:48.075230Z"
    }
   },
   "outputs": [
    {
     "data": {
      "text/plain": [
       "[array(['Adult Group', 'Couple', 'Family', 'Single'], dtype=object),\n",
       " array(['City Hotel', 'Resort Hotel'], dtype=object),\n",
       " array(['weekday', 'weekend'], dtype=object),\n",
       " array(['Contract', 'Group', 'Transient', 'Transient-Party'], dtype=object),\n",
       " array(['Aviation', 'Complementary', 'Corporate', 'Direct', 'Groups',\n",
       "        'Offline TA/TO', 'Online TA'], dtype=object)]"
      ]
     },
     "execution_count": 51,
     "metadata": {},
     "output_type": "execute_result"
    }
   ],
   "source": [
    "oe.categories_"
   ]
  },
  {
   "cell_type": "code",
   "execution_count": 52,
   "metadata": {
    "ExecuteTime": {
     "end_time": "2023-07-04T11:20:50.366774Z",
     "start_time": "2023-07-04T11:20:50.075457Z"
    }
   },
   "outputs": [
    {
     "data": {
      "text/plain": [
       "array([[-0.48119209,  1.42492231, -0.83940085, ..., -1.52663877,\n",
       "        -0.18061861, -2.0262792 ],\n",
       "       [ 1.88042771, -0.70179265, -0.83940085, ...,  0.05081298,\n",
       "        -0.18061861, -0.4387567 ],\n",
       "       [-0.48119209, -0.70179265, -0.83940085, ...,  0.05081298,\n",
       "        -0.18061861, -0.01211003],\n",
       "       ...,\n",
       "       [-0.48119209,  1.42492231,  1.19132593, ...,  0.83953885,\n",
       "        -0.18061861,  2.08143526],\n",
       "       [-0.48119209,  1.42492231, -0.83940085, ...,  0.05081298,\n",
       "        -0.18061861,  0.25181558],\n",
       "       [ 0.69961781, -0.70179265,  1.19132593, ..., -2.31536464,\n",
       "         5.53652811, -0.14109624]])"
      ]
     },
     "execution_count": 52,
     "metadata": {},
     "output_type": "execute_result"
    }
   ],
   "source": [
    "# apply scaler to the columns => StandardScaler\n",
    "from sklearn.preprocessing import StandardScaler\n",
    "sc = StandardScaler()\n",
    "scaled = sc.fit_transform(data_small)\n",
    "scaled"
   ]
  },
  {
   "cell_type": "code",
   "execution_count": 53,
   "metadata": {
    "ExecuteTime": {
     "end_time": "2023-07-04T11:21:55.928306Z",
     "start_time": "2023-07-04T11:21:55.912671Z"
    }
   },
   "outputs": [
    {
     "data": {
      "text/html": [
       "<div>\n",
       "<style scoped>\n",
       "    .dataframe tbody tr th:only-of-type {\n",
       "        vertical-align: middle;\n",
       "    }\n",
       "\n",
       "    .dataframe tbody tr th {\n",
       "        vertical-align: top;\n",
       "    }\n",
       "\n",
       "    .dataframe thead th {\n",
       "        text-align: right;\n",
       "    }\n",
       "</style>\n",
       "<table border=\"1\" class=\"dataframe\">\n",
       "  <thead>\n",
       "    <tr style=\"text-align: right;\">\n",
       "      <th></th>\n",
       "      <th>family_type</th>\n",
       "      <th>hotel</th>\n",
       "      <th>special_request</th>\n",
       "      <th>preferred_day</th>\n",
       "      <th>driving</th>\n",
       "      <th>room_change</th>\n",
       "      <th>lead_time</th>\n",
       "      <th>agent</th>\n",
       "      <th>had_cancelations</th>\n",
       "      <th>customer_type</th>\n",
       "      <th>market_segment</th>\n",
       "      <th>is_repeated_guest</th>\n",
       "      <th>adr</th>\n",
       "    </tr>\n",
       "  </thead>\n",
       "  <tbody>\n",
       "    <tr>\n",
       "      <th>0</th>\n",
       "      <td>-0.481192</td>\n",
       "      <td>1.424922</td>\n",
       "      <td>-0.839401</td>\n",
       "      <td>-0.356973</td>\n",
       "      <td>-0.258174</td>\n",
       "      <td>-0.375649</td>\n",
       "      <td>2.218826</td>\n",
       "      <td>-0.698989</td>\n",
       "      <td>-0.239754</td>\n",
       "      <td>-0.229514</td>\n",
       "      <td>-1.526639</td>\n",
       "      <td>-0.180619</td>\n",
       "      <td>-2.026279</td>\n",
       "    </tr>\n",
       "    <tr>\n",
       "      <th>75559</th>\n",
       "      <td>1.880428</td>\n",
       "      <td>-0.701793</td>\n",
       "      <td>-0.839401</td>\n",
       "      <td>-0.356973</td>\n",
       "      <td>-0.258174</td>\n",
       "      <td>-0.375649</td>\n",
       "      <td>1.425588</td>\n",
       "      <td>-0.642446</td>\n",
       "      <td>-0.239754</td>\n",
       "      <td>-0.229514</td>\n",
       "      <td>0.050813</td>\n",
       "      <td>-0.180619</td>\n",
       "      <td>-0.438757</td>\n",
       "    </tr>\n",
       "    <tr>\n",
       "      <th>75560</th>\n",
       "      <td>-0.481192</td>\n",
       "      <td>-0.701793</td>\n",
       "      <td>-0.839401</td>\n",
       "      <td>-0.356973</td>\n",
       "      <td>-0.258174</td>\n",
       "      <td>-0.375649</td>\n",
       "      <td>1.425588</td>\n",
       "      <td>-0.642446</td>\n",
       "      <td>-0.239754</td>\n",
       "      <td>-0.229514</td>\n",
       "      <td>0.050813</td>\n",
       "      <td>-0.180619</td>\n",
       "      <td>-0.012110</td>\n",
       "    </tr>\n",
       "    <tr>\n",
       "      <th>75561</th>\n",
       "      <td>-0.481192</td>\n",
       "      <td>-0.701793</td>\n",
       "      <td>-0.839401</td>\n",
       "      <td>-0.356973</td>\n",
       "      <td>-0.258174</td>\n",
       "      <td>-0.375649</td>\n",
       "      <td>1.425588</td>\n",
       "      <td>-0.642446</td>\n",
       "      <td>-0.239754</td>\n",
       "      <td>-0.229514</td>\n",
       "      <td>0.050813</td>\n",
       "      <td>-0.180619</td>\n",
       "      <td>-0.012110</td>\n",
       "    </tr>\n",
       "    <tr>\n",
       "      <th>75562</th>\n",
       "      <td>-0.481192</td>\n",
       "      <td>-0.701793</td>\n",
       "      <td>-0.839401</td>\n",
       "      <td>-0.356973</td>\n",
       "      <td>-0.258174</td>\n",
       "      <td>-0.375649</td>\n",
       "      <td>1.425588</td>\n",
       "      <td>-0.642446</td>\n",
       "      <td>-0.239754</td>\n",
       "      <td>-0.229514</td>\n",
       "      <td>0.050813</td>\n",
       "      <td>-0.180619</td>\n",
       "      <td>-0.012110</td>\n",
       "    </tr>\n",
       "    <tr>\n",
       "      <th>...</th>\n",
       "      <td>...</td>\n",
       "      <td>...</td>\n",
       "      <td>...</td>\n",
       "      <td>...</td>\n",
       "      <td>...</td>\n",
       "      <td>...</td>\n",
       "      <td>...</td>\n",
       "      <td>...</td>\n",
       "      <td>...</td>\n",
       "      <td>...</td>\n",
       "      <td>...</td>\n",
       "      <td>...</td>\n",
       "      <td>...</td>\n",
       "    </tr>\n",
       "    <tr>\n",
       "      <th>40039</th>\n",
       "      <td>-0.481192</td>\n",
       "      <td>1.424922</td>\n",
       "      <td>1.191326</td>\n",
       "      <td>-0.356973</td>\n",
       "      <td>-0.258174</td>\n",
       "      <td>-0.375649</td>\n",
       "      <td>0.035089</td>\n",
       "      <td>1.572175</td>\n",
       "      <td>-0.239754</td>\n",
       "      <td>-0.229514</td>\n",
       "      <td>0.839539</td>\n",
       "      <td>-0.180619</td>\n",
       "      <td>2.082031</td>\n",
       "    </tr>\n",
       "    <tr>\n",
       "      <th>40040</th>\n",
       "      <td>0.699618</td>\n",
       "      <td>1.424922</td>\n",
       "      <td>1.191326</td>\n",
       "      <td>-0.356973</td>\n",
       "      <td>3.873352</td>\n",
       "      <td>-0.375649</td>\n",
       "      <td>0.837659</td>\n",
       "      <td>1.562751</td>\n",
       "      <td>-0.239754</td>\n",
       "      <td>-0.229514</td>\n",
       "      <td>0.839539</td>\n",
       "      <td>-0.180619</td>\n",
       "      <td>4.170813</td>\n",
       "    </tr>\n",
       "    <tr>\n",
       "      <th>13794</th>\n",
       "      <td>-0.481192</td>\n",
       "      <td>1.424922</td>\n",
       "      <td>1.191326</td>\n",
       "      <td>-0.356973</td>\n",
       "      <td>-0.258174</td>\n",
       "      <td>-0.375649</td>\n",
       "      <td>-0.814141</td>\n",
       "      <td>1.562751</td>\n",
       "      <td>-0.239754</td>\n",
       "      <td>-0.229514</td>\n",
       "      <td>0.839539</td>\n",
       "      <td>-0.180619</td>\n",
       "      <td>2.081435</td>\n",
       "    </tr>\n",
       "    <tr>\n",
       "      <th>40038</th>\n",
       "      <td>-0.481192</td>\n",
       "      <td>1.424922</td>\n",
       "      <td>-0.839401</td>\n",
       "      <td>-0.356973</td>\n",
       "      <td>-0.258174</td>\n",
       "      <td>-0.375649</td>\n",
       "      <td>0.809663</td>\n",
       "      <td>-0.322033</td>\n",
       "      <td>-0.239754</td>\n",
       "      <td>-3.706621</td>\n",
       "      <td>0.050813</td>\n",
       "      <td>-0.180619</td>\n",
       "      <td>0.251816</td>\n",
       "    </tr>\n",
       "    <tr>\n",
       "      <th>117424</th>\n",
       "      <td>0.699618</td>\n",
       "      <td>-0.701793</td>\n",
       "      <td>1.191326</td>\n",
       "      <td>-0.356973</td>\n",
       "      <td>-0.258174</td>\n",
       "      <td>-0.375649</td>\n",
       "      <td>-0.944792</td>\n",
       "      <td>-0.698989</td>\n",
       "      <td>-0.239754</td>\n",
       "      <td>-0.229514</td>\n",
       "      <td>-2.315365</td>\n",
       "      <td>5.536528</td>\n",
       "      <td>-0.141096</td>\n",
       "    </tr>\n",
       "  </tbody>\n",
       "</table>\n",
       "<p>117813 rows × 13 columns</p>\n",
       "</div>"
      ],
      "text/plain": [
       "        family_type     hotel  special_request  preferred_day   driving  \\\n",
       "0         -0.481192  1.424922        -0.839401      -0.356973 -0.258174   \n",
       "75559      1.880428 -0.701793        -0.839401      -0.356973 -0.258174   \n",
       "75560     -0.481192 -0.701793        -0.839401      -0.356973 -0.258174   \n",
       "75561     -0.481192 -0.701793        -0.839401      -0.356973 -0.258174   \n",
       "75562     -0.481192 -0.701793        -0.839401      -0.356973 -0.258174   \n",
       "...             ...       ...              ...            ...       ...   \n",
       "40039     -0.481192  1.424922         1.191326      -0.356973 -0.258174   \n",
       "40040      0.699618  1.424922         1.191326      -0.356973  3.873352   \n",
       "13794     -0.481192  1.424922         1.191326      -0.356973 -0.258174   \n",
       "40038     -0.481192  1.424922        -0.839401      -0.356973 -0.258174   \n",
       "117424     0.699618 -0.701793         1.191326      -0.356973 -0.258174   \n",
       "\n",
       "        room_change  lead_time     agent  had_cancelations  customer_type  \\\n",
       "0         -0.375649   2.218826 -0.698989         -0.239754      -0.229514   \n",
       "75559     -0.375649   1.425588 -0.642446         -0.239754      -0.229514   \n",
       "75560     -0.375649   1.425588 -0.642446         -0.239754      -0.229514   \n",
       "75561     -0.375649   1.425588 -0.642446         -0.239754      -0.229514   \n",
       "75562     -0.375649   1.425588 -0.642446         -0.239754      -0.229514   \n",
       "...             ...        ...       ...               ...            ...   \n",
       "40039     -0.375649   0.035089  1.572175         -0.239754      -0.229514   \n",
       "40040     -0.375649   0.837659  1.562751         -0.239754      -0.229514   \n",
       "13794     -0.375649  -0.814141  1.562751         -0.239754      -0.229514   \n",
       "40038     -0.375649   0.809663 -0.322033         -0.239754      -3.706621   \n",
       "117424    -0.375649  -0.944792 -0.698989         -0.239754      -0.229514   \n",
       "\n",
       "        market_segment  is_repeated_guest       adr  \n",
       "0            -1.526639          -0.180619 -2.026279  \n",
       "75559         0.050813          -0.180619 -0.438757  \n",
       "75560         0.050813          -0.180619 -0.012110  \n",
       "75561         0.050813          -0.180619 -0.012110  \n",
       "75562         0.050813          -0.180619 -0.012110  \n",
       "...                ...                ...       ...  \n",
       "40039         0.839539          -0.180619  2.082031  \n",
       "40040         0.839539          -0.180619  4.170813  \n",
       "13794         0.839539          -0.180619  2.081435  \n",
       "40038         0.050813          -0.180619  0.251816  \n",
       "117424       -2.315365           5.536528 -0.141096  \n",
       "\n",
       "[117813 rows x 13 columns]"
      ]
     },
     "execution_count": 53,
     "metadata": {},
     "output_type": "execute_result"
    }
   ],
   "source": [
    "scaled_df = pd.DataFrame(scaled, index = data_small.index, columns=data_small.columns)\n",
    "scaled_df"
   ]
  },
  {
   "cell_type": "code",
   "execution_count": 54,
   "metadata": {
    "ExecuteTime": {
     "end_time": "2023-07-04T11:29:45.574129Z",
     "start_time": "2023-07-04T11:29:44.776109Z"
    }
   },
   "outputs": [],
   "source": [
    "# Dimensionality reduction => Principle Component Analysis (PCA)\n",
    "from sklearn.decomposition import PCA\n",
    "pca = PCA().fit(scaled_df)\n",
    "pca_x = pca.transform(scaled_df)"
   ]
  },
  {
   "cell_type": "code",
   "execution_count": 55,
   "metadata": {
    "ExecuteTime": {
     "end_time": "2023-07-04T11:31:30.852088Z",
     "start_time": "2023-07-04T11:31:30.846838Z"
    }
   },
   "outputs": [
    {
     "data": {
      "text/plain": [
       "array([[-2.86233886e-01,  2.84698763e-01,  3.93749259e-01,\n",
       "        -5.03998340e-02,  1.50287352e-01, -3.10703704e-02,\n",
       "        -1.05102287e-01,  3.77406938e-01, -2.98812625e-01,\n",
       "        -1.96946509e-01,  4.59475122e-01, -2.50669671e-01,\n",
       "         3.16819233e-01],\n",
       "       [-2.66811476e-01, -5.45019692e-01,  5.40801918e-02,\n",
       "         2.53014664e-03, -2.94741012e-01, -3.12463649e-01,\n",
       "         2.24434289e-01, -4.13831883e-01,  6.24896517e-02,\n",
       "        -6.85683109e-02,  2.91937604e-01, -2.66323757e-01,\n",
       "         2.40703659e-01],\n",
       "       [ 2.34856138e-01, -2.89298481e-01,  2.69547208e-01,\n",
       "         2.44916153e-01,  1.35244034e-01,  1.98323440e-01,\n",
       "        -6.01764448e-01, -3.60788221e-01, -2.90459211e-01,\n",
       "        -1.00593021e-01,  9.89651601e-03,  2.21992534e-01,\n",
       "         1.86369263e-01],\n",
       "       [-1.23976663e-01,  4.25614341e-02,  2.20199868e-01,\n",
       "        -1.57468606e-01,  1.98018194e-01, -1.32585449e-01,\n",
       "         3.34243283e-02, -7.72956298e-02,  5.16298233e-01,\n",
       "        -6.10965346e-01,  8.75623028e-03,  4.53577474e-01,\n",
       "         5.87463989e-04],\n",
       "       [-1.41108496e-01,  5.74101272e-02, -6.55327848e-02,\n",
       "         8.91712794e-01,  2.42580130e-01, -2.26866294e-01,\n",
       "         8.07195622e-02,  1.02151655e-01,  2.01734171e-01,\n",
       "         6.77848751e-02, -1.64969996e-02, -1.41744650e-03,\n",
       "         6.72052653e-02],\n",
       "       [ 2.65051829e-01, -9.41905438e-04, -2.10156891e-01,\n",
       "        -2.64108608e-01,  3.61508856e-01, -5.94939739e-01,\n",
       "        -7.51774945e-02,  5.02376933e-02, -5.18775712e-02,\n",
       "         1.59192114e-01, -1.91960314e-01,  4.17719541e-02,\n",
       "         5.06342638e-01],\n",
       "       [-4.28139364e-01, -1.17503725e-01,  1.06074405e-01,\n",
       "        -1.58352654e-01,  6.05945808e-01,  3.84190528e-01,\n",
       "         2.26799510e-01, -2.34073915e-01,  3.95991298e-02,\n",
       "         3.35283006e-01, -1.41273443e-01, -1.21690300e-02,\n",
       "         1.07106776e-01],\n",
       "       [ 9.73361350e-02, -2.78965735e-02,  5.59648034e-01,\n",
       "        -1.41826367e-02, -2.20785212e-01, -1.57236090e-01,\n",
       "         1.40114783e-01,  1.31209715e-01,  1.08924311e-01,\n",
       "         5.70169671e-01,  1.44364322e-01,  4.56301910e-01,\n",
       "         3.53548209e-03],\n",
       "       [-7.90571629e-02,  5.54948951e-02, -2.44946788e-01,\n",
       "         3.46642124e-02, -3.55244245e-01,  4.31279478e-01,\n",
       "        -8.37799907e-02,  1.51660351e-01,  3.16577622e-01,\n",
       "         5.90465410e-02, -3.24389401e-02,  1.36233838e-01,\n",
       "         6.81123708e-01],\n",
       "       [-6.34165295e-01,  9.62060958e-02, -1.67421042e-01,\n",
       "        -1.39503703e-03, -2.37145840e-01, -2.23835783e-01,\n",
       "        -1.36509547e-01, -2.72480958e-02, -4.23083018e-01,\n",
       "        -1.22304896e-02, -2.90292015e-01,  4.12706282e-01,\n",
       "        -3.29292823e-02],\n",
       "       [ 2.82759766e-01,  2.19105735e-02,  1.02759243e-01,\n",
       "         1.42795961e-01, -2.78147411e-02,  1.47630140e-01,\n",
       "         6.77548605e-01, -4.64297949e-02, -4.46300863e-01,\n",
       "        -2.93506819e-01, -1.72071845e-01,  1.88057774e-01,\n",
       "         2.33485285e-01],\n",
       "       [-4.70249390e-02,  1.61652607e-01,  4.96787655e-01,\n",
       "         2.14939371e-02, -2.00011077e-01, -7.57367205e-02,\n",
       "        -8.15593326e-02, -7.93630492e-02,  1.40969016e-01,\n",
       "        -5.11693390e-02, -6.75378312e-01, -4.20551266e-01,\n",
       "         1.01076363e-01],\n",
       "       [ 5.32200672e-02,  6.92507021e-01, -5.08806345e-02,\n",
       "         2.08606674e-02, -6.61390661e-02, -5.57467254e-02,\n",
       "         2.70123788e-02, -6.58028500e-01,  2.78878160e-02,\n",
       "         1.15183113e-01,  2.33439407e-01, -1.22954025e-03,\n",
       "         6.94553589e-02]])"
      ]
     },
     "execution_count": 55,
     "metadata": {},
     "output_type": "execute_result"
    }
   ],
   "source": [
    "pca.components_"
   ]
  },
  {
   "cell_type": "code",
   "execution_count": 56,
   "metadata": {
    "ExecuteTime": {
     "end_time": "2023-07-04T11:35:41.302087Z",
     "start_time": "2023-07-04T11:35:41.292172Z"
    }
   },
   "outputs": [],
   "source": [
    "# Dimension indexing\n",
    "dimensions = [f'Dimension {i}' for i in range(1, len(pca.components_)+1)]\n",
    "\n",
    "#PCA components \n",
    "components = pd.DataFrame(np.round(pca.components_,4), columns= scaled_df.keys(), index= dimensions)\n",
    "components.index = dimensions\n",
    "\n",
    "#PCA explained variances\n",
    "ratios = pca.explained_variance_ratio_.reshape(len(pca.components_),1)\n",
    "variance_ratios = pd.DataFrame(np.round(ratios,4), columns = ['Explained Variance'], index = dimensions)\n",
    "variance_ratios.index = dimensions\n",
    "\n",
    "pca_df = pd.concat([variance_ratios, components], axis=1)"
   ]
  },
  {
   "cell_type": "code",
   "execution_count": 57,
   "metadata": {
    "ExecuteTime": {
     "end_time": "2023-07-04T11:35:47.682948Z",
     "start_time": "2023-07-04T11:35:47.665594Z"
    }
   },
   "outputs": [
    {
     "data": {
      "text/html": [
       "<div>\n",
       "<style scoped>\n",
       "    .dataframe tbody tr th:only-of-type {\n",
       "        vertical-align: middle;\n",
       "    }\n",
       "\n",
       "    .dataframe tbody tr th {\n",
       "        vertical-align: top;\n",
       "    }\n",
       "\n",
       "    .dataframe thead th {\n",
       "        text-align: right;\n",
       "    }\n",
       "</style>\n",
       "<table border=\"1\" class=\"dataframe\">\n",
       "  <thead>\n",
       "    <tr style=\"text-align: right;\">\n",
       "      <th></th>\n",
       "      <th>Explained Variance</th>\n",
       "      <th>family_type</th>\n",
       "      <th>hotel</th>\n",
       "      <th>special_request</th>\n",
       "      <th>preferred_day</th>\n",
       "      <th>driving</th>\n",
       "      <th>room_change</th>\n",
       "      <th>lead_time</th>\n",
       "      <th>agent</th>\n",
       "      <th>had_cancelations</th>\n",
       "      <th>customer_type</th>\n",
       "      <th>market_segment</th>\n",
       "      <th>is_repeated_guest</th>\n",
       "      <th>adr</th>\n",
       "    </tr>\n",
       "  </thead>\n",
       "  <tbody>\n",
       "    <tr>\n",
       "      <th>Dimension 1</th>\n",
       "      <td>0.1483</td>\n",
       "      <td>-0.2862</td>\n",
       "      <td>0.2847</td>\n",
       "      <td>0.3937</td>\n",
       "      <td>-0.0504</td>\n",
       "      <td>0.1503</td>\n",
       "      <td>-0.0311</td>\n",
       "      <td>-0.1051</td>\n",
       "      <td>0.3774</td>\n",
       "      <td>-0.2988</td>\n",
       "      <td>-0.1969</td>\n",
       "      <td>0.4595</td>\n",
       "      <td>-0.2507</td>\n",
       "      <td>0.3168</td>\n",
       "    </tr>\n",
       "    <tr>\n",
       "      <th>Dimension 2</th>\n",
       "      <td>0.1422</td>\n",
       "      <td>-0.2668</td>\n",
       "      <td>-0.5450</td>\n",
       "      <td>0.0541</td>\n",
       "      <td>0.0025</td>\n",
       "      <td>-0.2947</td>\n",
       "      <td>-0.3125</td>\n",
       "      <td>0.2244</td>\n",
       "      <td>-0.4138</td>\n",
       "      <td>0.0625</td>\n",
       "      <td>-0.0686</td>\n",
       "      <td>0.2919</td>\n",
       "      <td>-0.2663</td>\n",
       "      <td>0.2407</td>\n",
       "    </tr>\n",
       "    <tr>\n",
       "      <th>Dimension 3</th>\n",
       "      <td>0.1047</td>\n",
       "      <td>0.2349</td>\n",
       "      <td>-0.2893</td>\n",
       "      <td>0.2695</td>\n",
       "      <td>0.2449</td>\n",
       "      <td>0.1352</td>\n",
       "      <td>0.1983</td>\n",
       "      <td>-0.6018</td>\n",
       "      <td>-0.3608</td>\n",
       "      <td>-0.2905</td>\n",
       "      <td>-0.1006</td>\n",
       "      <td>0.0099</td>\n",
       "      <td>0.2220</td>\n",
       "      <td>0.1864</td>\n",
       "    </tr>\n",
       "    <tr>\n",
       "      <th>Dimension 4</th>\n",
       "      <td>0.0886</td>\n",
       "      <td>-0.1240</td>\n",
       "      <td>0.0426</td>\n",
       "      <td>0.2202</td>\n",
       "      <td>-0.1575</td>\n",
       "      <td>0.1980</td>\n",
       "      <td>-0.1326</td>\n",
       "      <td>0.0334</td>\n",
       "      <td>-0.0773</td>\n",
       "      <td>0.5163</td>\n",
       "      <td>-0.6110</td>\n",
       "      <td>0.0088</td>\n",
       "      <td>0.4536</td>\n",
       "      <td>0.0006</td>\n",
       "    </tr>\n",
       "    <tr>\n",
       "      <th>Dimension 5</th>\n",
       "      <td>0.0754</td>\n",
       "      <td>-0.1411</td>\n",
       "      <td>0.0574</td>\n",
       "      <td>-0.0655</td>\n",
       "      <td>0.8917</td>\n",
       "      <td>0.2426</td>\n",
       "      <td>-0.2269</td>\n",
       "      <td>0.0807</td>\n",
       "      <td>0.1022</td>\n",
       "      <td>0.2017</td>\n",
       "      <td>0.0678</td>\n",
       "      <td>-0.0165</td>\n",
       "      <td>-0.0014</td>\n",
       "      <td>0.0672</td>\n",
       "    </tr>\n",
       "    <tr>\n",
       "      <th>Dimension 6</th>\n",
       "      <td>0.0743</td>\n",
       "      <td>0.2651</td>\n",
       "      <td>-0.0009</td>\n",
       "      <td>-0.2102</td>\n",
       "      <td>-0.2641</td>\n",
       "      <td>0.3615</td>\n",
       "      <td>-0.5949</td>\n",
       "      <td>-0.0752</td>\n",
       "      <td>0.0502</td>\n",
       "      <td>-0.0519</td>\n",
       "      <td>0.1592</td>\n",
       "      <td>-0.1920</td>\n",
       "      <td>0.0418</td>\n",
       "      <td>0.5063</td>\n",
       "    </tr>\n",
       "    <tr>\n",
       "      <th>Dimension 7</th>\n",
       "      <td>0.0712</td>\n",
       "      <td>-0.4281</td>\n",
       "      <td>-0.1175</td>\n",
       "      <td>0.1061</td>\n",
       "      <td>-0.1584</td>\n",
       "      <td>0.6059</td>\n",
       "      <td>0.3842</td>\n",
       "      <td>0.2268</td>\n",
       "      <td>-0.2341</td>\n",
       "      <td>0.0396</td>\n",
       "      <td>0.3353</td>\n",
       "      <td>-0.1413</td>\n",
       "      <td>-0.0122</td>\n",
       "      <td>0.1071</td>\n",
       "    </tr>\n",
       "    <tr>\n",
       "      <th>Dimension 8</th>\n",
       "      <td>0.0655</td>\n",
       "      <td>0.0973</td>\n",
       "      <td>-0.0279</td>\n",
       "      <td>0.5596</td>\n",
       "      <td>-0.0142</td>\n",
       "      <td>-0.2208</td>\n",
       "      <td>-0.1572</td>\n",
       "      <td>0.1401</td>\n",
       "      <td>0.1312</td>\n",
       "      <td>0.1089</td>\n",
       "      <td>0.5702</td>\n",
       "      <td>0.1444</td>\n",
       "      <td>0.4563</td>\n",
       "      <td>0.0035</td>\n",
       "    </tr>\n",
       "    <tr>\n",
       "      <th>Dimension 9</th>\n",
       "      <td>0.0575</td>\n",
       "      <td>-0.0791</td>\n",
       "      <td>0.0555</td>\n",
       "      <td>-0.2449</td>\n",
       "      <td>0.0347</td>\n",
       "      <td>-0.3552</td>\n",
       "      <td>0.4313</td>\n",
       "      <td>-0.0838</td>\n",
       "      <td>0.1517</td>\n",
       "      <td>0.3166</td>\n",
       "      <td>0.0590</td>\n",
       "      <td>-0.0324</td>\n",
       "      <td>0.1362</td>\n",
       "      <td>0.6811</td>\n",
       "    </tr>\n",
       "    <tr>\n",
       "      <th>Dimension 10</th>\n",
       "      <td>0.0564</td>\n",
       "      <td>-0.6342</td>\n",
       "      <td>0.0962</td>\n",
       "      <td>-0.1674</td>\n",
       "      <td>-0.0014</td>\n",
       "      <td>-0.2371</td>\n",
       "      <td>-0.2238</td>\n",
       "      <td>-0.1365</td>\n",
       "      <td>-0.0272</td>\n",
       "      <td>-0.4231</td>\n",
       "      <td>-0.0122</td>\n",
       "      <td>-0.2903</td>\n",
       "      <td>0.4127</td>\n",
       "      <td>-0.0329</td>\n",
       "    </tr>\n",
       "    <tr>\n",
       "      <th>Dimension 11</th>\n",
       "      <td>0.0489</td>\n",
       "      <td>0.2828</td>\n",
       "      <td>0.0219</td>\n",
       "      <td>0.1028</td>\n",
       "      <td>0.1428</td>\n",
       "      <td>-0.0278</td>\n",
       "      <td>0.1476</td>\n",
       "      <td>0.6775</td>\n",
       "      <td>-0.0464</td>\n",
       "      <td>-0.4463</td>\n",
       "      <td>-0.2935</td>\n",
       "      <td>-0.1721</td>\n",
       "      <td>0.1881</td>\n",
       "      <td>0.2335</td>\n",
       "    </tr>\n",
       "    <tr>\n",
       "      <th>Dimension 12</th>\n",
       "      <td>0.0449</td>\n",
       "      <td>-0.0470</td>\n",
       "      <td>0.1617</td>\n",
       "      <td>0.4968</td>\n",
       "      <td>0.0215</td>\n",
       "      <td>-0.2000</td>\n",
       "      <td>-0.0757</td>\n",
       "      <td>-0.0816</td>\n",
       "      <td>-0.0794</td>\n",
       "      <td>0.1410</td>\n",
       "      <td>-0.0512</td>\n",
       "      <td>-0.6754</td>\n",
       "      <td>-0.4206</td>\n",
       "      <td>0.1011</td>\n",
       "    </tr>\n",
       "    <tr>\n",
       "      <th>Dimension 13</th>\n",
       "      <td>0.0220</td>\n",
       "      <td>0.0532</td>\n",
       "      <td>0.6925</td>\n",
       "      <td>-0.0509</td>\n",
       "      <td>0.0209</td>\n",
       "      <td>-0.0661</td>\n",
       "      <td>-0.0557</td>\n",
       "      <td>0.0270</td>\n",
       "      <td>-0.6580</td>\n",
       "      <td>0.0279</td>\n",
       "      <td>0.1152</td>\n",
       "      <td>0.2334</td>\n",
       "      <td>-0.0012</td>\n",
       "      <td>0.0695</td>\n",
       "    </tr>\n",
       "  </tbody>\n",
       "</table>\n",
       "</div>"
      ],
      "text/plain": [
       "              Explained Variance  family_type   hotel  special_request  \\\n",
       "Dimension 1               0.1483      -0.2862  0.2847           0.3937   \n",
       "Dimension 2               0.1422      -0.2668 -0.5450           0.0541   \n",
       "Dimension 3               0.1047       0.2349 -0.2893           0.2695   \n",
       "Dimension 4               0.0886      -0.1240  0.0426           0.2202   \n",
       "Dimension 5               0.0754      -0.1411  0.0574          -0.0655   \n",
       "Dimension 6               0.0743       0.2651 -0.0009          -0.2102   \n",
       "Dimension 7               0.0712      -0.4281 -0.1175           0.1061   \n",
       "Dimension 8               0.0655       0.0973 -0.0279           0.5596   \n",
       "Dimension 9               0.0575      -0.0791  0.0555          -0.2449   \n",
       "Dimension 10              0.0564      -0.6342  0.0962          -0.1674   \n",
       "Dimension 11              0.0489       0.2828  0.0219           0.1028   \n",
       "Dimension 12              0.0449      -0.0470  0.1617           0.4968   \n",
       "Dimension 13              0.0220       0.0532  0.6925          -0.0509   \n",
       "\n",
       "              preferred_day  driving  room_change  lead_time   agent  \\\n",
       "Dimension 1         -0.0504   0.1503      -0.0311    -0.1051  0.3774   \n",
       "Dimension 2          0.0025  -0.2947      -0.3125     0.2244 -0.4138   \n",
       "Dimension 3          0.2449   0.1352       0.1983    -0.6018 -0.3608   \n",
       "Dimension 4         -0.1575   0.1980      -0.1326     0.0334 -0.0773   \n",
       "Dimension 5          0.8917   0.2426      -0.2269     0.0807  0.1022   \n",
       "Dimension 6         -0.2641   0.3615      -0.5949    -0.0752  0.0502   \n",
       "Dimension 7         -0.1584   0.6059       0.3842     0.2268 -0.2341   \n",
       "Dimension 8         -0.0142  -0.2208      -0.1572     0.1401  0.1312   \n",
       "Dimension 9          0.0347  -0.3552       0.4313    -0.0838  0.1517   \n",
       "Dimension 10        -0.0014  -0.2371      -0.2238    -0.1365 -0.0272   \n",
       "Dimension 11         0.1428  -0.0278       0.1476     0.6775 -0.0464   \n",
       "Dimension 12         0.0215  -0.2000      -0.0757    -0.0816 -0.0794   \n",
       "Dimension 13         0.0209  -0.0661      -0.0557     0.0270 -0.6580   \n",
       "\n",
       "              had_cancelations  customer_type  market_segment  \\\n",
       "Dimension 1            -0.2988        -0.1969          0.4595   \n",
       "Dimension 2             0.0625        -0.0686          0.2919   \n",
       "Dimension 3            -0.2905        -0.1006          0.0099   \n",
       "Dimension 4             0.5163        -0.6110          0.0088   \n",
       "Dimension 5             0.2017         0.0678         -0.0165   \n",
       "Dimension 6            -0.0519         0.1592         -0.1920   \n",
       "Dimension 7             0.0396         0.3353         -0.1413   \n",
       "Dimension 8             0.1089         0.5702          0.1444   \n",
       "Dimension 9             0.3166         0.0590         -0.0324   \n",
       "Dimension 10           -0.4231        -0.0122         -0.2903   \n",
       "Dimension 11           -0.4463        -0.2935         -0.1721   \n",
       "Dimension 12            0.1410        -0.0512         -0.6754   \n",
       "Dimension 13            0.0279         0.1152          0.2334   \n",
       "\n",
       "              is_repeated_guest     adr  \n",
       "Dimension 1             -0.2507  0.3168  \n",
       "Dimension 2             -0.2663  0.2407  \n",
       "Dimension 3              0.2220  0.1864  \n",
       "Dimension 4              0.4536  0.0006  \n",
       "Dimension 5             -0.0014  0.0672  \n",
       "Dimension 6              0.0418  0.5063  \n",
       "Dimension 7             -0.0122  0.1071  \n",
       "Dimension 8              0.4563  0.0035  \n",
       "Dimension 9              0.1362  0.6811  \n",
       "Dimension 10             0.4127 -0.0329  \n",
       "Dimension 11             0.1881  0.2335  \n",
       "Dimension 12            -0.4206  0.1011  \n",
       "Dimension 13            -0.0012  0.0695  "
      ]
     },
     "execution_count": 57,
     "metadata": {},
     "output_type": "execute_result"
    }
   ],
   "source": [
    "pca_df"
   ]
  },
  {
   "cell_type": "code",
   "execution_count": 58,
   "metadata": {
    "ExecuteTime": {
     "end_time": "2023-07-04T11:36:56.433956Z",
     "start_time": "2023-07-04T11:36:56.428788Z"
    }
   },
   "outputs": [
    {
     "data": {
      "text/plain": [
       "0.9999000000000001"
      ]
     },
     "execution_count": 58,
     "metadata": {},
     "output_type": "execute_result"
    }
   ],
   "source": [
    "pca_df['Explained Variance'].sum()"
   ]
  },
  {
   "cell_type": "code",
   "execution_count": 61,
   "metadata": {
    "ExecuteTime": {
     "end_time": "2023-07-04T11:41:48.315126Z",
     "start_time": "2023-07-04T11:41:48.310763Z"
    }
   },
   "outputs": [
    {
     "data": {
      "text/plain": [
       "0.8277"
      ]
     },
     "execution_count": 61,
     "metadata": {},
     "output_type": "execute_result"
    }
   ],
   "source": [
    "# Check the percentage of the data that is covered from PCA component 1 - 9\n",
    "pca_df['Explained Variance'][:9].sum()"
   ]
  },
  {
   "cell_type": "code",
   "execution_count": 62,
   "metadata": {
    "ExecuteTime": {
     "end_time": "2023-07-04T11:47:29.691329Z",
     "start_time": "2023-07-04T11:47:29.393399Z"
    }
   },
   "outputs": [
    {
     "name": "stdout",
     "output_type": "stream",
     "text": [
      "Original Shape (117813, 13)\n",
      "Reduced Shape (117813, 9)\n"
     ]
    }
   ],
   "source": [
    "# keep the first 9 dimensions of PCA\n",
    "pca2 = PCA(n_components = 9)\n",
    "\n",
    "#fit PCA model\n",
    "pca2.fit(scaled_df)\n",
    "\n",
    "#transform the data onto the first n principlce components\n",
    "pca_x2 = pca2.transform(scaled_df)\n",
    "print(f'Original Shape {scaled_df.shape}')\n",
    "print(f'Reduced Shape {pca_x2.shape}')"
   ]
  },
  {
   "cell_type": "code",
   "execution_count": 63,
   "metadata": {
    "ExecuteTime": {
     "end_time": "2023-07-04T11:48:23.997186Z",
     "start_time": "2023-07-04T11:48:23.991741Z"
    }
   },
   "outputs": [],
   "source": [
    "# Dimension indexing\n",
    "dimensions = [f'Dimension {i}' for i in range(1, len(pca2.components_)+1)]\n",
    "\n",
    "#PCA components \n",
    "components = pd.DataFrame(np.round(pca2.components_,4), columns= scaled_df.keys(), index= dimensions)\n",
    "components.index = dimensions\n",
    "\n",
    "#PCA explained variances\n",
    "ratios = pca2.explained_variance_ratio_.reshape(len(pca2.components_),1)\n",
    "variance_ratios = pd.DataFrame(np.round(ratios,4), columns = ['Explained Variance'], index = dimensions)\n",
    "variance_ratios.index = dimensions\n",
    "\n",
    "pca_df = pd.concat([variance_ratios, components], axis=1)"
   ]
  },
  {
   "cell_type": "code",
   "execution_count": 64,
   "metadata": {
    "ExecuteTime": {
     "end_time": "2023-07-04T11:48:32.255099Z",
     "start_time": "2023-07-04T11:48:32.238994Z"
    }
   },
   "outputs": [
    {
     "data": {
      "text/html": [
       "<div>\n",
       "<style scoped>\n",
       "    .dataframe tbody tr th:only-of-type {\n",
       "        vertical-align: middle;\n",
       "    }\n",
       "\n",
       "    .dataframe tbody tr th {\n",
       "        vertical-align: top;\n",
       "    }\n",
       "\n",
       "    .dataframe thead th {\n",
       "        text-align: right;\n",
       "    }\n",
       "</style>\n",
       "<table border=\"1\" class=\"dataframe\">\n",
       "  <thead>\n",
       "    <tr style=\"text-align: right;\">\n",
       "      <th></th>\n",
       "      <th>Explained Variance</th>\n",
       "      <th>family_type</th>\n",
       "      <th>hotel</th>\n",
       "      <th>special_request</th>\n",
       "      <th>preferred_day</th>\n",
       "      <th>driving</th>\n",
       "      <th>room_change</th>\n",
       "      <th>lead_time</th>\n",
       "      <th>agent</th>\n",
       "      <th>had_cancelations</th>\n",
       "      <th>customer_type</th>\n",
       "      <th>market_segment</th>\n",
       "      <th>is_repeated_guest</th>\n",
       "      <th>adr</th>\n",
       "    </tr>\n",
       "  </thead>\n",
       "  <tbody>\n",
       "    <tr>\n",
       "      <th>Dimension 1</th>\n",
       "      <td>0.1483</td>\n",
       "      <td>-0.2862</td>\n",
       "      <td>0.2847</td>\n",
       "      <td>0.3937</td>\n",
       "      <td>-0.0504</td>\n",
       "      <td>0.1503</td>\n",
       "      <td>-0.0311</td>\n",
       "      <td>-0.1051</td>\n",
       "      <td>0.3774</td>\n",
       "      <td>-0.2988</td>\n",
       "      <td>-0.1969</td>\n",
       "      <td>0.4595</td>\n",
       "      <td>-0.2507</td>\n",
       "      <td>0.3168</td>\n",
       "    </tr>\n",
       "    <tr>\n",
       "      <th>Dimension 2</th>\n",
       "      <td>0.1422</td>\n",
       "      <td>-0.2668</td>\n",
       "      <td>-0.5450</td>\n",
       "      <td>0.0541</td>\n",
       "      <td>0.0025</td>\n",
       "      <td>-0.2947</td>\n",
       "      <td>-0.3125</td>\n",
       "      <td>0.2244</td>\n",
       "      <td>-0.4138</td>\n",
       "      <td>0.0625</td>\n",
       "      <td>-0.0686</td>\n",
       "      <td>0.2919</td>\n",
       "      <td>-0.2663</td>\n",
       "      <td>0.2407</td>\n",
       "    </tr>\n",
       "    <tr>\n",
       "      <th>Dimension 3</th>\n",
       "      <td>0.1047</td>\n",
       "      <td>0.2349</td>\n",
       "      <td>-0.2893</td>\n",
       "      <td>0.2695</td>\n",
       "      <td>0.2449</td>\n",
       "      <td>0.1352</td>\n",
       "      <td>0.1983</td>\n",
       "      <td>-0.6018</td>\n",
       "      <td>-0.3608</td>\n",
       "      <td>-0.2905</td>\n",
       "      <td>-0.1006</td>\n",
       "      <td>0.0099</td>\n",
       "      <td>0.2220</td>\n",
       "      <td>0.1864</td>\n",
       "    </tr>\n",
       "    <tr>\n",
       "      <th>Dimension 4</th>\n",
       "      <td>0.0886</td>\n",
       "      <td>-0.1240</td>\n",
       "      <td>0.0426</td>\n",
       "      <td>0.2202</td>\n",
       "      <td>-0.1575</td>\n",
       "      <td>0.1980</td>\n",
       "      <td>-0.1326</td>\n",
       "      <td>0.0334</td>\n",
       "      <td>-0.0773</td>\n",
       "      <td>0.5163</td>\n",
       "      <td>-0.6110</td>\n",
       "      <td>0.0088</td>\n",
       "      <td>0.4536</td>\n",
       "      <td>0.0006</td>\n",
       "    </tr>\n",
       "    <tr>\n",
       "      <th>Dimension 5</th>\n",
       "      <td>0.0754</td>\n",
       "      <td>-0.1411</td>\n",
       "      <td>0.0574</td>\n",
       "      <td>-0.0655</td>\n",
       "      <td>0.8917</td>\n",
       "      <td>0.2426</td>\n",
       "      <td>-0.2269</td>\n",
       "      <td>0.0807</td>\n",
       "      <td>0.1022</td>\n",
       "      <td>0.2017</td>\n",
       "      <td>0.0678</td>\n",
       "      <td>-0.0165</td>\n",
       "      <td>-0.0014</td>\n",
       "      <td>0.0672</td>\n",
       "    </tr>\n",
       "    <tr>\n",
       "      <th>Dimension 6</th>\n",
       "      <td>0.0743</td>\n",
       "      <td>0.2651</td>\n",
       "      <td>-0.0009</td>\n",
       "      <td>-0.2102</td>\n",
       "      <td>-0.2641</td>\n",
       "      <td>0.3615</td>\n",
       "      <td>-0.5949</td>\n",
       "      <td>-0.0752</td>\n",
       "      <td>0.0502</td>\n",
       "      <td>-0.0519</td>\n",
       "      <td>0.1592</td>\n",
       "      <td>-0.1920</td>\n",
       "      <td>0.0418</td>\n",
       "      <td>0.5063</td>\n",
       "    </tr>\n",
       "    <tr>\n",
       "      <th>Dimension 7</th>\n",
       "      <td>0.0712</td>\n",
       "      <td>-0.4281</td>\n",
       "      <td>-0.1175</td>\n",
       "      <td>0.1061</td>\n",
       "      <td>-0.1584</td>\n",
       "      <td>0.6059</td>\n",
       "      <td>0.3842</td>\n",
       "      <td>0.2268</td>\n",
       "      <td>-0.2341</td>\n",
       "      <td>0.0396</td>\n",
       "      <td>0.3353</td>\n",
       "      <td>-0.1413</td>\n",
       "      <td>-0.0122</td>\n",
       "      <td>0.1071</td>\n",
       "    </tr>\n",
       "    <tr>\n",
       "      <th>Dimension 8</th>\n",
       "      <td>0.0655</td>\n",
       "      <td>0.0973</td>\n",
       "      <td>-0.0279</td>\n",
       "      <td>0.5596</td>\n",
       "      <td>-0.0142</td>\n",
       "      <td>-0.2208</td>\n",
       "      <td>-0.1572</td>\n",
       "      <td>0.1401</td>\n",
       "      <td>0.1312</td>\n",
       "      <td>0.1089</td>\n",
       "      <td>0.5702</td>\n",
       "      <td>0.1444</td>\n",
       "      <td>0.4563</td>\n",
       "      <td>0.0035</td>\n",
       "    </tr>\n",
       "    <tr>\n",
       "      <th>Dimension 9</th>\n",
       "      <td>0.0575</td>\n",
       "      <td>-0.0791</td>\n",
       "      <td>0.0555</td>\n",
       "      <td>-0.2449</td>\n",
       "      <td>0.0347</td>\n",
       "      <td>-0.3552</td>\n",
       "      <td>0.4313</td>\n",
       "      <td>-0.0838</td>\n",
       "      <td>0.1517</td>\n",
       "      <td>0.3166</td>\n",
       "      <td>0.0590</td>\n",
       "      <td>-0.0324</td>\n",
       "      <td>0.1362</td>\n",
       "      <td>0.6811</td>\n",
       "    </tr>\n",
       "  </tbody>\n",
       "</table>\n",
       "</div>"
      ],
      "text/plain": [
       "             Explained Variance  family_type   hotel  special_request  \\\n",
       "Dimension 1              0.1483      -0.2862  0.2847           0.3937   \n",
       "Dimension 2              0.1422      -0.2668 -0.5450           0.0541   \n",
       "Dimension 3              0.1047       0.2349 -0.2893           0.2695   \n",
       "Dimension 4              0.0886      -0.1240  0.0426           0.2202   \n",
       "Dimension 5              0.0754      -0.1411  0.0574          -0.0655   \n",
       "Dimension 6              0.0743       0.2651 -0.0009          -0.2102   \n",
       "Dimension 7              0.0712      -0.4281 -0.1175           0.1061   \n",
       "Dimension 8              0.0655       0.0973 -0.0279           0.5596   \n",
       "Dimension 9              0.0575      -0.0791  0.0555          -0.2449   \n",
       "\n",
       "             preferred_day  driving  room_change  lead_time   agent  \\\n",
       "Dimension 1        -0.0504   0.1503      -0.0311    -0.1051  0.3774   \n",
       "Dimension 2         0.0025  -0.2947      -0.3125     0.2244 -0.4138   \n",
       "Dimension 3         0.2449   0.1352       0.1983    -0.6018 -0.3608   \n",
       "Dimension 4        -0.1575   0.1980      -0.1326     0.0334 -0.0773   \n",
       "Dimension 5         0.8917   0.2426      -0.2269     0.0807  0.1022   \n",
       "Dimension 6        -0.2641   0.3615      -0.5949    -0.0752  0.0502   \n",
       "Dimension 7        -0.1584   0.6059       0.3842     0.2268 -0.2341   \n",
       "Dimension 8        -0.0142  -0.2208      -0.1572     0.1401  0.1312   \n",
       "Dimension 9         0.0347  -0.3552       0.4313    -0.0838  0.1517   \n",
       "\n",
       "             had_cancelations  customer_type  market_segment  \\\n",
       "Dimension 1           -0.2988        -0.1969          0.4595   \n",
       "Dimension 2            0.0625        -0.0686          0.2919   \n",
       "Dimension 3           -0.2905        -0.1006          0.0099   \n",
       "Dimension 4            0.5163        -0.6110          0.0088   \n",
       "Dimension 5            0.2017         0.0678         -0.0165   \n",
       "Dimension 6           -0.0519         0.1592         -0.1920   \n",
       "Dimension 7            0.0396         0.3353         -0.1413   \n",
       "Dimension 8            0.1089         0.5702          0.1444   \n",
       "Dimension 9            0.3166         0.0590         -0.0324   \n",
       "\n",
       "             is_repeated_guest     adr  \n",
       "Dimension 1            -0.2507  0.3168  \n",
       "Dimension 2            -0.2663  0.2407  \n",
       "Dimension 3             0.2220  0.1864  \n",
       "Dimension 4             0.4536  0.0006  \n",
       "Dimension 5            -0.0014  0.0672  \n",
       "Dimension 6             0.0418  0.5063  \n",
       "Dimension 7            -0.0122  0.1071  \n",
       "Dimension 8             0.4563  0.0035  \n",
       "Dimension 9             0.1362  0.6811  "
      ]
     },
     "execution_count": 64,
     "metadata": {},
     "output_type": "execute_result"
    }
   ],
   "source": [
    "pca_df"
   ]
  },
  {
   "cell_type": "code",
   "execution_count": 65,
   "metadata": {
    "ExecuteTime": {
     "end_time": "2023-07-04T11:48:44.034616Z",
     "start_time": "2023-07-04T11:48:44.029621Z"
    }
   },
   "outputs": [
    {
     "data": {
      "text/plain": [
       "0.8277"
      ]
     },
     "execution_count": 65,
     "metadata": {},
     "output_type": "execute_result"
    }
   ],
   "source": [
    "pca_df['Explained Variance'].sum()"
   ]
  },
  {
   "cell_type": "code",
   "execution_count": 66,
   "metadata": {
    "ExecuteTime": {
     "end_time": "2023-07-04T11:50:11.840140Z",
     "start_time": "2023-07-04T11:50:11.698665Z"
    }
   },
   "outputs": [],
   "source": [
    "from plotly.offline import download_plotlyjs, init_notebook_mode, plot, iplot\n",
    "import plotly.express as px\n",
    "import plotly.graph_objects as go"
   ]
  },
  {
   "cell_type": "code",
   "execution_count": 67,
   "metadata": {
    "ExecuteTime": {
     "end_time": "2023-07-04T11:50:20.746208Z",
     "start_time": "2023-07-04T11:50:20.023231Z"
    }
   },
   "outputs": [
    {
     "data": {
      "text/html": [
       "        <script type=\"text/javascript\">\n",
       "        window.PlotlyConfig = {MathJaxConfig: 'local'};\n",
       "        if (window.MathJax && window.MathJax.Hub && window.MathJax.Hub.Config) {window.MathJax.Hub.Config({SVG: {font: \"STIX-Web\"}});}\n",
       "        if (typeof require !== 'undefined') {\n",
       "        require.undef(\"plotly\");\n",
       "        requirejs.config({\n",
       "            paths: {\n",
       "                'plotly': ['https://cdn.plot.ly/plotly-2.12.1.min']\n",
       "            }\n",
       "        });\n",
       "        require(['plotly'], function(Plotly) {\n",
       "            window._Plotly = Plotly;\n",
       "        });\n",
       "        }\n",
       "        </script>\n",
       "        "
      ]
     },
     "metadata": {},
     "output_type": "display_data"
    }
   ],
   "source": [
    "init_notebook_mode(connected=True)"
   ]
  },
  {
   "cell_type": "code",
   "execution_count": 68,
   "metadata": {
    "ExecuteTime": {
     "end_time": "2023-07-04T11:50:37.294349Z",
     "start_time": "2023-07-04T11:50:36.574877Z"
    }
   },
   "outputs": [
    {
     "data": {
      "application/vnd.plotly.v1+json": {
       "config": {
        "plotlyServerURL": "https://plot.ly"
       },
       "data": [
        {
         "coloraxis": "coloraxis",
         "hovertemplate": "Feature: %{x}<br>PCA: %{y}<br>color: %{z}<extra></extra>",
         "name": "0",
         "texttemplate": "%{z}",
         "type": "heatmap",
         "x": [
          "family_type",
          "hotel",
          "special_request",
          "preferred_day",
          "driving",
          "room_change",
          "lead_time",
          "agent",
          "had_cancelations",
          "customer_type",
          "market_segment",
          "is_repeated_guest",
          "adr"
         ],
         "xaxis": "x",
         "yaxis": "y",
         "z": [
          [
           -0.28623388594595456,
           0.28469876342235306,
           0.39374925882214384,
           -0.050399833997488035,
           0.15028735214147962,
           -0.03107037040349153,
           -0.10510228702311597,
           0.37740693799291086,
           -0.29881262503839906,
           -0.1969465094672554,
           0.4594751223571025,
           -0.2506696713120748,
           0.31681923266156836
          ],
          [
           -0.26681147581163106,
           -0.5450196919742925,
           0.05408019180117058,
           0.0025301466379195263,
           -0.2947410117328995,
           -0.3124636491122016,
           0.22443428909154736,
           -0.4138318829054919,
           0.062489651703753875,
           -0.06856831094684288,
           0.29193760361729604,
           -0.26632375739972663,
           0.240703659107521
          ],
          [
           0.23485613812636,
           -0.28929848072947645,
           0.2695472075541898,
           0.24491615269597633,
           0.13524403370458277,
           0.19832343977635575,
           -0.6017644482145168,
           -0.3607882211931519,
           -0.29045921077109593,
           -0.10059302144822976,
           0.009896516012178036,
           0.22199253364995605,
           0.1863692631978728
          ],
          [
           -0.12397666267270804,
           0.04256143409572884,
           0.22019986750878803,
           -0.15746860558537856,
           0.19801819377543803,
           -0.13258544925595464,
           0.03342432831630201,
           -0.07729562979038737,
           0.5162982332556727,
           -0.6109653461614796,
           0.008756230277473173,
           0.4535774740438809,
           0.0005874639886785908
          ],
          [
           -0.1411084962922962,
           0.05741012722355093,
           -0.06553278484734154,
           0.8917127942819103,
           0.24258012957057914,
           -0.22686629445793616,
           0.08071956219815982,
           0.10215165547133248,
           0.20173417110990918,
           0.06778487514377486,
           -0.0164969996101001,
           -0.001417446498570185,
           0.06720526532557361
          ],
          [
           0.26505182930925963,
           -0.0009419054379261076,
           -0.21015689132513743,
           -0.2641086076733656,
           0.36150885631672774,
           -0.5949397394922818,
           -0.07517749450407683,
           0.050237693296181773,
           -0.05187757121220043,
           0.1591921137435113,
           -0.19196031430057522,
           0.041771954091270574,
           0.506342637704119
          ],
          [
           -0.4281393639574545,
           -0.1175037246476208,
           0.10607440488218739,
           -0.1583526540880195,
           0.605945807709297,
           0.38419052829864997,
           0.22679950976248145,
           -0.23407391546025005,
           0.03959912979235215,
           0.3352830063103608,
           -0.14127344273164785,
           -0.012169029978656523,
           0.10710677635542835
          ],
          [
           0.09733613500649071,
           -0.027896573503174316,
           0.55964803382258,
           -0.014182636724757856,
           -0.2207852116843381,
           -0.1572360904990828,
           0.1401147833142461,
           0.13120971504831302,
           0.10892431056417698,
           0.5701696710648626,
           0.1443643220010178,
           0.45630190997642284,
           0.0035354820892332965
          ],
          [
           -0.07905716291310605,
           0.05549489514256607,
           -0.2449467883572445,
           0.034664212388634125,
           -0.3552442453534136,
           0.431279478185716,
           -0.08377999070227515,
           0.1516603510422543,
           0.3165776223243783,
           0.05904654103827651,
           -0.032438940082153235,
           0.13623383753509424,
           0.6811237079185157
          ]
         ]
        }
       ],
       "layout": {
        "coloraxis": {
         "colorscale": [
          [
           0,
           "#0d0887"
          ],
          [
           0.1111111111111111,
           "#46039f"
          ],
          [
           0.2222222222222222,
           "#7201a8"
          ],
          [
           0.3333333333333333,
           "#9c179e"
          ],
          [
           0.4444444444444444,
           "#bd3786"
          ],
          [
           0.5555555555555556,
           "#d8576b"
          ],
          [
           0.6666666666666666,
           "#ed7953"
          ],
          [
           0.7777777777777778,
           "#fb9f3a"
          ],
          [
           0.8888888888888888,
           "#fdca26"
          ],
          [
           1,
           "#f0f921"
          ]
         ]
        },
        "template": {
         "data": {
          "bar": [
           {
            "error_x": {
             "color": "#f2f5fa"
            },
            "error_y": {
             "color": "#f2f5fa"
            },
            "marker": {
             "line": {
              "color": "rgb(17,17,17)",
              "width": 0.5
             },
             "pattern": {
              "fillmode": "overlay",
              "size": 10,
              "solidity": 0.2
             }
            },
            "type": "bar"
           }
          ],
          "barpolar": [
           {
            "marker": {
             "line": {
              "color": "rgb(17,17,17)",
              "width": 0.5
             },
             "pattern": {
              "fillmode": "overlay",
              "size": 10,
              "solidity": 0.2
             }
            },
            "type": "barpolar"
           }
          ],
          "carpet": [
           {
            "aaxis": {
             "endlinecolor": "#A2B1C6",
             "gridcolor": "#506784",
             "linecolor": "#506784",
             "minorgridcolor": "#506784",
             "startlinecolor": "#A2B1C6"
            },
            "baxis": {
             "endlinecolor": "#A2B1C6",
             "gridcolor": "#506784",
             "linecolor": "#506784",
             "minorgridcolor": "#506784",
             "startlinecolor": "#A2B1C6"
            },
            "type": "carpet"
           }
          ],
          "choropleth": [
           {
            "colorbar": {
             "outlinewidth": 0,
             "ticks": ""
            },
            "type": "choropleth"
           }
          ],
          "contour": [
           {
            "colorbar": {
             "outlinewidth": 0,
             "ticks": ""
            },
            "colorscale": [
             [
              0,
              "#0d0887"
             ],
             [
              0.1111111111111111,
              "#46039f"
             ],
             [
              0.2222222222222222,
              "#7201a8"
             ],
             [
              0.3333333333333333,
              "#9c179e"
             ],
             [
              0.4444444444444444,
              "#bd3786"
             ],
             [
              0.5555555555555556,
              "#d8576b"
             ],
             [
              0.6666666666666666,
              "#ed7953"
             ],
             [
              0.7777777777777778,
              "#fb9f3a"
             ],
             [
              0.8888888888888888,
              "#fdca26"
             ],
             [
              1,
              "#f0f921"
             ]
            ],
            "type": "contour"
           }
          ],
          "contourcarpet": [
           {
            "colorbar": {
             "outlinewidth": 0,
             "ticks": ""
            },
            "type": "contourcarpet"
           }
          ],
          "heatmap": [
           {
            "colorbar": {
             "outlinewidth": 0,
             "ticks": ""
            },
            "colorscale": [
             [
              0,
              "#0d0887"
             ],
             [
              0.1111111111111111,
              "#46039f"
             ],
             [
              0.2222222222222222,
              "#7201a8"
             ],
             [
              0.3333333333333333,
              "#9c179e"
             ],
             [
              0.4444444444444444,
              "#bd3786"
             ],
             [
              0.5555555555555556,
              "#d8576b"
             ],
             [
              0.6666666666666666,
              "#ed7953"
             ],
             [
              0.7777777777777778,
              "#fb9f3a"
             ],
             [
              0.8888888888888888,
              "#fdca26"
             ],
             [
              1,
              "#f0f921"
             ]
            ],
            "type": "heatmap"
           }
          ],
          "heatmapgl": [
           {
            "colorbar": {
             "outlinewidth": 0,
             "ticks": ""
            },
            "colorscale": [
             [
              0,
              "#0d0887"
             ],
             [
              0.1111111111111111,
              "#46039f"
             ],
             [
              0.2222222222222222,
              "#7201a8"
             ],
             [
              0.3333333333333333,
              "#9c179e"
             ],
             [
              0.4444444444444444,
              "#bd3786"
             ],
             [
              0.5555555555555556,
              "#d8576b"
             ],
             [
              0.6666666666666666,
              "#ed7953"
             ],
             [
              0.7777777777777778,
              "#fb9f3a"
             ],
             [
              0.8888888888888888,
              "#fdca26"
             ],
             [
              1,
              "#f0f921"
             ]
            ],
            "type": "heatmapgl"
           }
          ],
          "histogram": [
           {
            "marker": {
             "pattern": {
              "fillmode": "overlay",
              "size": 10,
              "solidity": 0.2
             }
            },
            "type": "histogram"
           }
          ],
          "histogram2d": [
           {
            "colorbar": {
             "outlinewidth": 0,
             "ticks": ""
            },
            "colorscale": [
             [
              0,
              "#0d0887"
             ],
             [
              0.1111111111111111,
              "#46039f"
             ],
             [
              0.2222222222222222,
              "#7201a8"
             ],
             [
              0.3333333333333333,
              "#9c179e"
             ],
             [
              0.4444444444444444,
              "#bd3786"
             ],
             [
              0.5555555555555556,
              "#d8576b"
             ],
             [
              0.6666666666666666,
              "#ed7953"
             ],
             [
              0.7777777777777778,
              "#fb9f3a"
             ],
             [
              0.8888888888888888,
              "#fdca26"
             ],
             [
              1,
              "#f0f921"
             ]
            ],
            "type": "histogram2d"
           }
          ],
          "histogram2dcontour": [
           {
            "colorbar": {
             "outlinewidth": 0,
             "ticks": ""
            },
            "colorscale": [
             [
              0,
              "#0d0887"
             ],
             [
              0.1111111111111111,
              "#46039f"
             ],
             [
              0.2222222222222222,
              "#7201a8"
             ],
             [
              0.3333333333333333,
              "#9c179e"
             ],
             [
              0.4444444444444444,
              "#bd3786"
             ],
             [
              0.5555555555555556,
              "#d8576b"
             ],
             [
              0.6666666666666666,
              "#ed7953"
             ],
             [
              0.7777777777777778,
              "#fb9f3a"
             ],
             [
              0.8888888888888888,
              "#fdca26"
             ],
             [
              1,
              "#f0f921"
             ]
            ],
            "type": "histogram2dcontour"
           }
          ],
          "mesh3d": [
           {
            "colorbar": {
             "outlinewidth": 0,
             "ticks": ""
            },
            "type": "mesh3d"
           }
          ],
          "parcoords": [
           {
            "line": {
             "colorbar": {
              "outlinewidth": 0,
              "ticks": ""
             }
            },
            "type": "parcoords"
           }
          ],
          "pie": [
           {
            "automargin": true,
            "type": "pie"
           }
          ],
          "scatter": [
           {
            "marker": {
             "line": {
              "color": "#283442"
             }
            },
            "type": "scatter"
           }
          ],
          "scatter3d": [
           {
            "line": {
             "colorbar": {
              "outlinewidth": 0,
              "ticks": ""
             }
            },
            "marker": {
             "colorbar": {
              "outlinewidth": 0,
              "ticks": ""
             }
            },
            "type": "scatter3d"
           }
          ],
          "scattercarpet": [
           {
            "marker": {
             "colorbar": {
              "outlinewidth": 0,
              "ticks": ""
             }
            },
            "type": "scattercarpet"
           }
          ],
          "scattergeo": [
           {
            "marker": {
             "colorbar": {
              "outlinewidth": 0,
              "ticks": ""
             }
            },
            "type": "scattergeo"
           }
          ],
          "scattergl": [
           {
            "marker": {
             "line": {
              "color": "#283442"
             }
            },
            "type": "scattergl"
           }
          ],
          "scattermapbox": [
           {
            "marker": {
             "colorbar": {
              "outlinewidth": 0,
              "ticks": ""
             }
            },
            "type": "scattermapbox"
           }
          ],
          "scatterpolar": [
           {
            "marker": {
             "colorbar": {
              "outlinewidth": 0,
              "ticks": ""
             }
            },
            "type": "scatterpolar"
           }
          ],
          "scatterpolargl": [
           {
            "marker": {
             "colorbar": {
              "outlinewidth": 0,
              "ticks": ""
             }
            },
            "type": "scatterpolargl"
           }
          ],
          "scatterternary": [
           {
            "marker": {
             "colorbar": {
              "outlinewidth": 0,
              "ticks": ""
             }
            },
            "type": "scatterternary"
           }
          ],
          "surface": [
           {
            "colorbar": {
             "outlinewidth": 0,
             "ticks": ""
            },
            "colorscale": [
             [
              0,
              "#0d0887"
             ],
             [
              0.1111111111111111,
              "#46039f"
             ],
             [
              0.2222222222222222,
              "#7201a8"
             ],
             [
              0.3333333333333333,
              "#9c179e"
             ],
             [
              0.4444444444444444,
              "#bd3786"
             ],
             [
              0.5555555555555556,
              "#d8576b"
             ],
             [
              0.6666666666666666,
              "#ed7953"
             ],
             [
              0.7777777777777778,
              "#fb9f3a"
             ],
             [
              0.8888888888888888,
              "#fdca26"
             ],
             [
              1,
              "#f0f921"
             ]
            ],
            "type": "surface"
           }
          ],
          "table": [
           {
            "cells": {
             "fill": {
              "color": "#506784"
             },
             "line": {
              "color": "rgb(17,17,17)"
             }
            },
            "header": {
             "fill": {
              "color": "#2a3f5f"
             },
             "line": {
              "color": "rgb(17,17,17)"
             }
            },
            "type": "table"
           }
          ]
         },
         "layout": {
          "annotationdefaults": {
           "arrowcolor": "#f2f5fa",
           "arrowhead": 0,
           "arrowwidth": 1
          },
          "autotypenumbers": "strict",
          "coloraxis": {
           "colorbar": {
            "outlinewidth": 0,
            "ticks": ""
           }
          },
          "colorscale": {
           "diverging": [
            [
             0,
             "#8e0152"
            ],
            [
             0.1,
             "#c51b7d"
            ],
            [
             0.2,
             "#de77ae"
            ],
            [
             0.3,
             "#f1b6da"
            ],
            [
             0.4,
             "#fde0ef"
            ],
            [
             0.5,
             "#f7f7f7"
            ],
            [
             0.6,
             "#e6f5d0"
            ],
            [
             0.7,
             "#b8e186"
            ],
            [
             0.8,
             "#7fbc41"
            ],
            [
             0.9,
             "#4d9221"
            ],
            [
             1,
             "#276419"
            ]
           ],
           "sequential": [
            [
             0,
             "#0d0887"
            ],
            [
             0.1111111111111111,
             "#46039f"
            ],
            [
             0.2222222222222222,
             "#7201a8"
            ],
            [
             0.3333333333333333,
             "#9c179e"
            ],
            [
             0.4444444444444444,
             "#bd3786"
            ],
            [
             0.5555555555555556,
             "#d8576b"
            ],
            [
             0.6666666666666666,
             "#ed7953"
            ],
            [
             0.7777777777777778,
             "#fb9f3a"
            ],
            [
             0.8888888888888888,
             "#fdca26"
            ],
            [
             1,
             "#f0f921"
            ]
           ],
           "sequentialminus": [
            [
             0,
             "#0d0887"
            ],
            [
             0.1111111111111111,
             "#46039f"
            ],
            [
             0.2222222222222222,
             "#7201a8"
            ],
            [
             0.3333333333333333,
             "#9c179e"
            ],
            [
             0.4444444444444444,
             "#bd3786"
            ],
            [
             0.5555555555555556,
             "#d8576b"
            ],
            [
             0.6666666666666666,
             "#ed7953"
            ],
            [
             0.7777777777777778,
             "#fb9f3a"
            ],
            [
             0.8888888888888888,
             "#fdca26"
            ],
            [
             1,
             "#f0f921"
            ]
           ]
          },
          "colorway": [
           "#636efa",
           "#EF553B",
           "#00cc96",
           "#ab63fa",
           "#FFA15A",
           "#19d3f3",
           "#FF6692",
           "#B6E880",
           "#FF97FF",
           "#FECB52"
          ],
          "font": {
           "color": "#f2f5fa"
          },
          "geo": {
           "bgcolor": "rgb(17,17,17)",
           "lakecolor": "rgb(17,17,17)",
           "landcolor": "rgb(17,17,17)",
           "showlakes": true,
           "showland": true,
           "subunitcolor": "#506784"
          },
          "hoverlabel": {
           "align": "left"
          },
          "hovermode": "closest",
          "mapbox": {
           "style": "dark"
          },
          "paper_bgcolor": "rgb(17,17,17)",
          "plot_bgcolor": "rgb(17,17,17)",
          "polar": {
           "angularaxis": {
            "gridcolor": "#506784",
            "linecolor": "#506784",
            "ticks": ""
           },
           "bgcolor": "rgb(17,17,17)",
           "radialaxis": {
            "gridcolor": "#506784",
            "linecolor": "#506784",
            "ticks": ""
           }
          },
          "scene": {
           "xaxis": {
            "backgroundcolor": "rgb(17,17,17)",
            "gridcolor": "#506784",
            "gridwidth": 2,
            "linecolor": "#506784",
            "showbackground": true,
            "ticks": "",
            "zerolinecolor": "#C8D4E3"
           },
           "yaxis": {
            "backgroundcolor": "rgb(17,17,17)",
            "gridcolor": "#506784",
            "gridwidth": 2,
            "linecolor": "#506784",
            "showbackground": true,
            "ticks": "",
            "zerolinecolor": "#C8D4E3"
           },
           "zaxis": {
            "backgroundcolor": "rgb(17,17,17)",
            "gridcolor": "#506784",
            "gridwidth": 2,
            "linecolor": "#506784",
            "showbackground": true,
            "ticks": "",
            "zerolinecolor": "#C8D4E3"
           }
          },
          "shapedefaults": {
           "line": {
            "color": "#f2f5fa"
           }
          },
          "sliderdefaults": {
           "bgcolor": "#C8D4E3",
           "bordercolor": "rgb(17,17,17)",
           "borderwidth": 1,
           "tickwidth": 0
          },
          "ternary": {
           "aaxis": {
            "gridcolor": "#506784",
            "linecolor": "#506784",
            "ticks": ""
           },
           "baxis": {
            "gridcolor": "#506784",
            "linecolor": "#506784",
            "ticks": ""
           },
           "bgcolor": "rgb(17,17,17)",
           "caxis": {
            "gridcolor": "#506784",
            "linecolor": "#506784",
            "ticks": ""
           }
          },
          "title": {
           "x": 0.05
          },
          "updatemenudefaults": {
           "bgcolor": "#506784",
           "borderwidth": 0
          },
          "xaxis": {
           "automargin": true,
           "gridcolor": "#283442",
           "linecolor": "#506784",
           "ticks": "",
           "title": {
            "standoff": 15
           },
           "zerolinecolor": "#283442",
           "zerolinewidth": 2
          },
          "yaxis": {
           "automargin": true,
           "gridcolor": "#283442",
           "linecolor": "#506784",
           "ticks": "",
           "title": {
            "standoff": 15
           },
           "zerolinecolor": "#283442",
           "zerolinewidth": 2
          }
         }
        },
        "title": {
         "text": "PCA explained variances"
        },
        "xaxis": {
         "anchor": "y",
         "constrain": "domain",
         "domain": [
          0,
          1
         ],
         "scaleanchor": "y",
         "title": {
          "text": "Feature"
         }
        },
        "yaxis": {
         "anchor": "x",
         "autorange": "reversed",
         "constrain": "domain",
         "domain": [
          0,
          1
         ],
         "title": {
          "text": "PCA"
         }
        }
       }
      },
      "text/html": [
       "<div>                            <div id=\"97670210-3ca2-4872-b281-4bb8e5cc6820\" class=\"plotly-graph-div\" style=\"height:525px; width:100%;\"></div>            <script type=\"text/javascript\">                require([\"plotly\"], function(Plotly) {                    window.PLOTLYENV=window.PLOTLYENV || {};                                    if (document.getElementById(\"97670210-3ca2-4872-b281-4bb8e5cc6820\")) {                    Plotly.newPlot(                        \"97670210-3ca2-4872-b281-4bb8e5cc6820\",                        [{\"coloraxis\":\"coloraxis\",\"name\":\"0\",\"texttemplate\":\"%{z}\",\"x\":[\"family_type\",\"hotel\",\"special_request\",\"preferred_day\",\"driving\",\"room_change\",\"lead_time\",\"agent\",\"had_cancelations\",\"customer_type\",\"market_segment\",\"is_repeated_guest\",\"adr\"],\"z\":[[-0.28623388594595456,0.28469876342235306,0.39374925882214384,-0.050399833997488035,0.15028735214147962,-0.03107037040349153,-0.10510228702311597,0.37740693799291086,-0.29881262503839906,-0.1969465094672554,0.4594751223571025,-0.2506696713120748,0.31681923266156836],[-0.26681147581163106,-0.5450196919742925,0.05408019180117058,0.0025301466379195263,-0.2947410117328995,-0.3124636491122016,0.22443428909154736,-0.4138318829054919,0.062489651703753875,-0.06856831094684288,0.29193760361729604,-0.26632375739972663,0.240703659107521],[0.23485613812636,-0.28929848072947645,0.2695472075541898,0.24491615269597633,0.13524403370458277,0.19832343977635575,-0.6017644482145168,-0.3607882211931519,-0.29045921077109593,-0.10059302144822976,0.009896516012178036,0.22199253364995605,0.1863692631978728],[-0.12397666267270804,0.04256143409572884,0.22019986750878803,-0.15746860558537856,0.19801819377543803,-0.13258544925595464,0.03342432831630201,-0.07729562979038737,0.5162982332556727,-0.6109653461614796,0.008756230277473173,0.4535774740438809,0.0005874639886785908],[-0.1411084962922962,0.05741012722355093,-0.06553278484734154,0.8917127942819103,0.24258012957057914,-0.22686629445793616,0.08071956219815982,0.10215165547133248,0.20173417110990918,0.06778487514377486,-0.0164969996101001,-0.001417446498570185,0.06720526532557361],[0.26505182930925963,-0.0009419054379261076,-0.21015689132513743,-0.2641086076733656,0.36150885631672774,-0.5949397394922818,-0.07517749450407683,0.050237693296181773,-0.05187757121220043,0.1591921137435113,-0.19196031430057522,0.041771954091270574,0.506342637704119],[-0.4281393639574545,-0.1175037246476208,0.10607440488218739,-0.1583526540880195,0.605945807709297,0.38419052829864997,0.22679950976248145,-0.23407391546025005,0.03959912979235215,0.3352830063103608,-0.14127344273164785,-0.012169029978656523,0.10710677635542835],[0.09733613500649071,-0.027896573503174316,0.55964803382258,-0.014182636724757856,-0.2207852116843381,-0.1572360904990828,0.1401147833142461,0.13120971504831302,0.10892431056417698,0.5701696710648626,0.1443643220010178,0.45630190997642284,0.0035354820892332965],[-0.07905716291310605,0.05549489514256607,-0.2449467883572445,0.034664212388634125,-0.3552442453534136,0.431279478185716,-0.08377999070227515,0.1516603510422543,0.3165776223243783,0.05904654103827651,-0.032438940082153235,0.13623383753509424,0.6811237079185157]],\"type\":\"heatmap\",\"xaxis\":\"x\",\"yaxis\":\"y\",\"hovertemplate\":\"Feature: %{x}<br>PCA: %{y}<br>color: %{z}<extra></extra>\"}],                        {\"template\":{\"data\":{\"barpolar\":[{\"marker\":{\"line\":{\"color\":\"rgb(17,17,17)\",\"width\":0.5},\"pattern\":{\"fillmode\":\"overlay\",\"size\":10,\"solidity\":0.2}},\"type\":\"barpolar\"}],\"bar\":[{\"error_x\":{\"color\":\"#f2f5fa\"},\"error_y\":{\"color\":\"#f2f5fa\"},\"marker\":{\"line\":{\"color\":\"rgb(17,17,17)\",\"width\":0.5},\"pattern\":{\"fillmode\":\"overlay\",\"size\":10,\"solidity\":0.2}},\"type\":\"bar\"}],\"carpet\":[{\"aaxis\":{\"endlinecolor\":\"#A2B1C6\",\"gridcolor\":\"#506784\",\"linecolor\":\"#506784\",\"minorgridcolor\":\"#506784\",\"startlinecolor\":\"#A2B1C6\"},\"baxis\":{\"endlinecolor\":\"#A2B1C6\",\"gridcolor\":\"#506784\",\"linecolor\":\"#506784\",\"minorgridcolor\":\"#506784\",\"startlinecolor\":\"#A2B1C6\"},\"type\":\"carpet\"}],\"choropleth\":[{\"colorbar\":{\"outlinewidth\":0,\"ticks\":\"\"},\"type\":\"choropleth\"}],\"contourcarpet\":[{\"colorbar\":{\"outlinewidth\":0,\"ticks\":\"\"},\"type\":\"contourcarpet\"}],\"contour\":[{\"colorbar\":{\"outlinewidth\":0,\"ticks\":\"\"},\"colorscale\":[[0.0,\"#0d0887\"],[0.1111111111111111,\"#46039f\"],[0.2222222222222222,\"#7201a8\"],[0.3333333333333333,\"#9c179e\"],[0.4444444444444444,\"#bd3786\"],[0.5555555555555556,\"#d8576b\"],[0.6666666666666666,\"#ed7953\"],[0.7777777777777778,\"#fb9f3a\"],[0.8888888888888888,\"#fdca26\"],[1.0,\"#f0f921\"]],\"type\":\"contour\"}],\"heatmapgl\":[{\"colorbar\":{\"outlinewidth\":0,\"ticks\":\"\"},\"colorscale\":[[0.0,\"#0d0887\"],[0.1111111111111111,\"#46039f\"],[0.2222222222222222,\"#7201a8\"],[0.3333333333333333,\"#9c179e\"],[0.4444444444444444,\"#bd3786\"],[0.5555555555555556,\"#d8576b\"],[0.6666666666666666,\"#ed7953\"],[0.7777777777777778,\"#fb9f3a\"],[0.8888888888888888,\"#fdca26\"],[1.0,\"#f0f921\"]],\"type\":\"heatmapgl\"}],\"heatmap\":[{\"colorbar\":{\"outlinewidth\":0,\"ticks\":\"\"},\"colorscale\":[[0.0,\"#0d0887\"],[0.1111111111111111,\"#46039f\"],[0.2222222222222222,\"#7201a8\"],[0.3333333333333333,\"#9c179e\"],[0.4444444444444444,\"#bd3786\"],[0.5555555555555556,\"#d8576b\"],[0.6666666666666666,\"#ed7953\"],[0.7777777777777778,\"#fb9f3a\"],[0.8888888888888888,\"#fdca26\"],[1.0,\"#f0f921\"]],\"type\":\"heatmap\"}],\"histogram2dcontour\":[{\"colorbar\":{\"outlinewidth\":0,\"ticks\":\"\"},\"colorscale\":[[0.0,\"#0d0887\"],[0.1111111111111111,\"#46039f\"],[0.2222222222222222,\"#7201a8\"],[0.3333333333333333,\"#9c179e\"],[0.4444444444444444,\"#bd3786\"],[0.5555555555555556,\"#d8576b\"],[0.6666666666666666,\"#ed7953\"],[0.7777777777777778,\"#fb9f3a\"],[0.8888888888888888,\"#fdca26\"],[1.0,\"#f0f921\"]],\"type\":\"histogram2dcontour\"}],\"histogram2d\":[{\"colorbar\":{\"outlinewidth\":0,\"ticks\":\"\"},\"colorscale\":[[0.0,\"#0d0887\"],[0.1111111111111111,\"#46039f\"],[0.2222222222222222,\"#7201a8\"],[0.3333333333333333,\"#9c179e\"],[0.4444444444444444,\"#bd3786\"],[0.5555555555555556,\"#d8576b\"],[0.6666666666666666,\"#ed7953\"],[0.7777777777777778,\"#fb9f3a\"],[0.8888888888888888,\"#fdca26\"],[1.0,\"#f0f921\"]],\"type\":\"histogram2d\"}],\"histogram\":[{\"marker\":{\"pattern\":{\"fillmode\":\"overlay\",\"size\":10,\"solidity\":0.2}},\"type\":\"histogram\"}],\"mesh3d\":[{\"colorbar\":{\"outlinewidth\":0,\"ticks\":\"\"},\"type\":\"mesh3d\"}],\"parcoords\":[{\"line\":{\"colorbar\":{\"outlinewidth\":0,\"ticks\":\"\"}},\"type\":\"parcoords\"}],\"pie\":[{\"automargin\":true,\"type\":\"pie\"}],\"scatter3d\":[{\"line\":{\"colorbar\":{\"outlinewidth\":0,\"ticks\":\"\"}},\"marker\":{\"colorbar\":{\"outlinewidth\":0,\"ticks\":\"\"}},\"type\":\"scatter3d\"}],\"scattercarpet\":[{\"marker\":{\"colorbar\":{\"outlinewidth\":0,\"ticks\":\"\"}},\"type\":\"scattercarpet\"}],\"scattergeo\":[{\"marker\":{\"colorbar\":{\"outlinewidth\":0,\"ticks\":\"\"}},\"type\":\"scattergeo\"}],\"scattergl\":[{\"marker\":{\"line\":{\"color\":\"#283442\"}},\"type\":\"scattergl\"}],\"scattermapbox\":[{\"marker\":{\"colorbar\":{\"outlinewidth\":0,\"ticks\":\"\"}},\"type\":\"scattermapbox\"}],\"scatterpolargl\":[{\"marker\":{\"colorbar\":{\"outlinewidth\":0,\"ticks\":\"\"}},\"type\":\"scatterpolargl\"}],\"scatterpolar\":[{\"marker\":{\"colorbar\":{\"outlinewidth\":0,\"ticks\":\"\"}},\"type\":\"scatterpolar\"}],\"scatter\":[{\"marker\":{\"line\":{\"color\":\"#283442\"}},\"type\":\"scatter\"}],\"scatterternary\":[{\"marker\":{\"colorbar\":{\"outlinewidth\":0,\"ticks\":\"\"}},\"type\":\"scatterternary\"}],\"surface\":[{\"colorbar\":{\"outlinewidth\":0,\"ticks\":\"\"},\"colorscale\":[[0.0,\"#0d0887\"],[0.1111111111111111,\"#46039f\"],[0.2222222222222222,\"#7201a8\"],[0.3333333333333333,\"#9c179e\"],[0.4444444444444444,\"#bd3786\"],[0.5555555555555556,\"#d8576b\"],[0.6666666666666666,\"#ed7953\"],[0.7777777777777778,\"#fb9f3a\"],[0.8888888888888888,\"#fdca26\"],[1.0,\"#f0f921\"]],\"type\":\"surface\"}],\"table\":[{\"cells\":{\"fill\":{\"color\":\"#506784\"},\"line\":{\"color\":\"rgb(17,17,17)\"}},\"header\":{\"fill\":{\"color\":\"#2a3f5f\"},\"line\":{\"color\":\"rgb(17,17,17)\"}},\"type\":\"table\"}]},\"layout\":{\"annotationdefaults\":{\"arrowcolor\":\"#f2f5fa\",\"arrowhead\":0,\"arrowwidth\":1},\"autotypenumbers\":\"strict\",\"coloraxis\":{\"colorbar\":{\"outlinewidth\":0,\"ticks\":\"\"}},\"colorscale\":{\"diverging\":[[0,\"#8e0152\"],[0.1,\"#c51b7d\"],[0.2,\"#de77ae\"],[0.3,\"#f1b6da\"],[0.4,\"#fde0ef\"],[0.5,\"#f7f7f7\"],[0.6,\"#e6f5d0\"],[0.7,\"#b8e186\"],[0.8,\"#7fbc41\"],[0.9,\"#4d9221\"],[1,\"#276419\"]],\"sequential\":[[0.0,\"#0d0887\"],[0.1111111111111111,\"#46039f\"],[0.2222222222222222,\"#7201a8\"],[0.3333333333333333,\"#9c179e\"],[0.4444444444444444,\"#bd3786\"],[0.5555555555555556,\"#d8576b\"],[0.6666666666666666,\"#ed7953\"],[0.7777777777777778,\"#fb9f3a\"],[0.8888888888888888,\"#fdca26\"],[1.0,\"#f0f921\"]],\"sequentialminus\":[[0.0,\"#0d0887\"],[0.1111111111111111,\"#46039f\"],[0.2222222222222222,\"#7201a8\"],[0.3333333333333333,\"#9c179e\"],[0.4444444444444444,\"#bd3786\"],[0.5555555555555556,\"#d8576b\"],[0.6666666666666666,\"#ed7953\"],[0.7777777777777778,\"#fb9f3a\"],[0.8888888888888888,\"#fdca26\"],[1.0,\"#f0f921\"]]},\"colorway\":[\"#636efa\",\"#EF553B\",\"#00cc96\",\"#ab63fa\",\"#FFA15A\",\"#19d3f3\",\"#FF6692\",\"#B6E880\",\"#FF97FF\",\"#FECB52\"],\"font\":{\"color\":\"#f2f5fa\"},\"geo\":{\"bgcolor\":\"rgb(17,17,17)\",\"lakecolor\":\"rgb(17,17,17)\",\"landcolor\":\"rgb(17,17,17)\",\"showlakes\":true,\"showland\":true,\"subunitcolor\":\"#506784\"},\"hoverlabel\":{\"align\":\"left\"},\"hovermode\":\"closest\",\"mapbox\":{\"style\":\"dark\"},\"paper_bgcolor\":\"rgb(17,17,17)\",\"plot_bgcolor\":\"rgb(17,17,17)\",\"polar\":{\"angularaxis\":{\"gridcolor\":\"#506784\",\"linecolor\":\"#506784\",\"ticks\":\"\"},\"bgcolor\":\"rgb(17,17,17)\",\"radialaxis\":{\"gridcolor\":\"#506784\",\"linecolor\":\"#506784\",\"ticks\":\"\"}},\"scene\":{\"xaxis\":{\"backgroundcolor\":\"rgb(17,17,17)\",\"gridcolor\":\"#506784\",\"gridwidth\":2,\"linecolor\":\"#506784\",\"showbackground\":true,\"ticks\":\"\",\"zerolinecolor\":\"#C8D4E3\"},\"yaxis\":{\"backgroundcolor\":\"rgb(17,17,17)\",\"gridcolor\":\"#506784\",\"gridwidth\":2,\"linecolor\":\"#506784\",\"showbackground\":true,\"ticks\":\"\",\"zerolinecolor\":\"#C8D4E3\"},\"zaxis\":{\"backgroundcolor\":\"rgb(17,17,17)\",\"gridcolor\":\"#506784\",\"gridwidth\":2,\"linecolor\":\"#506784\",\"showbackground\":true,\"ticks\":\"\",\"zerolinecolor\":\"#C8D4E3\"}},\"shapedefaults\":{\"line\":{\"color\":\"#f2f5fa\"}},\"sliderdefaults\":{\"bgcolor\":\"#C8D4E3\",\"bordercolor\":\"rgb(17,17,17)\",\"borderwidth\":1,\"tickwidth\":0},\"ternary\":{\"aaxis\":{\"gridcolor\":\"#506784\",\"linecolor\":\"#506784\",\"ticks\":\"\"},\"baxis\":{\"gridcolor\":\"#506784\",\"linecolor\":\"#506784\",\"ticks\":\"\"},\"bgcolor\":\"rgb(17,17,17)\",\"caxis\":{\"gridcolor\":\"#506784\",\"linecolor\":\"#506784\",\"ticks\":\"\"}},\"title\":{\"x\":0.05},\"updatemenudefaults\":{\"bgcolor\":\"#506784\",\"borderwidth\":0},\"xaxis\":{\"automargin\":true,\"gridcolor\":\"#283442\",\"linecolor\":\"#506784\",\"ticks\":\"\",\"title\":{\"standoff\":15},\"zerolinecolor\":\"#283442\",\"zerolinewidth\":2},\"yaxis\":{\"automargin\":true,\"gridcolor\":\"#283442\",\"linecolor\":\"#506784\",\"ticks\":\"\",\"title\":{\"standoff\":15},\"zerolinecolor\":\"#283442\",\"zerolinewidth\":2}}},\"xaxis\":{\"anchor\":\"y\",\"domain\":[0.0,1.0],\"scaleanchor\":\"y\",\"constrain\":\"domain\",\"title\":{\"text\":\"Feature\"}},\"yaxis\":{\"anchor\":\"x\",\"domain\":[0.0,1.0],\"autorange\":\"reversed\",\"constrain\":\"domain\",\"title\":{\"text\":\"PCA\"}},\"coloraxis\":{\"colorscale\":[[0.0,\"#0d0887\"],[0.1111111111111111,\"#46039f\"],[0.2222222222222222,\"#7201a8\"],[0.3333333333333333,\"#9c179e\"],[0.4444444444444444,\"#bd3786\"],[0.5555555555555556,\"#d8576b\"],[0.6666666666666666,\"#ed7953\"],[0.7777777777777778,\"#fb9f3a\"],[0.8888888888888888,\"#fdca26\"],[1.0,\"#f0f921\"]]},\"title\":{\"text\":\"PCA explained variances\"}},                        {\"responsive\": true}                    ).then(function(){\n",
       "                            \n",
       "var gd = document.getElementById('97670210-3ca2-4872-b281-4bb8e5cc6820');\n",
       "var x = new MutationObserver(function (mutations, observer) {{\n",
       "        var display = window.getComputedStyle(gd).display;\n",
       "        if (!display || display === 'none') {{\n",
       "            console.log([gd, 'removed!']);\n",
       "            Plotly.purge(gd);\n",
       "            observer.disconnect();\n",
       "        }}\n",
       "}});\n",
       "\n",
       "// Listen for the removal of the full notebook cells\n",
       "var notebookContainer = gd.closest('#notebook-container');\n",
       "if (notebookContainer) {{\n",
       "    x.observe(notebookContainer, {childList: true});\n",
       "}}\n",
       "\n",
       "// Listen for the clearing of the current output cell\n",
       "var outputEl = gd.closest('.output');\n",
       "if (outputEl) {{\n",
       "    x.observe(outputEl, {childList: true});\n",
       "}}\n",
       "\n",
       "                        })                };                });            </script>        </div>"
      ]
     },
     "metadata": {},
     "output_type": "display_data"
    }
   ],
   "source": [
    "px.imshow(pca2.components_,labels={'x':'Feature', 'y': 'PCA'}, x=scaled_df.columns, \n",
    "          title='PCA explained variances',text_auto=True, template= 'plotly_dark')"
   ]
  },
  {
   "cell_type": "code",
   "execution_count": 78,
   "metadata": {
    "ExecuteTime": {
     "end_time": "2023-07-04T12:02:25.723292Z",
     "start_time": "2023-07-04T12:02:25.720886Z"
    }
   },
   "outputs": [],
   "source": [
    "kmeans = KMeans(n_clusters=6)"
   ]
  },
  {
   "cell_type": "code",
   "execution_count": 71,
   "metadata": {
    "ExecuteTime": {
     "end_time": "2023-07-04T11:59:26.569919Z",
     "start_time": "2023-07-04T11:59:26.565352Z"
    }
   },
   "outputs": [
    {
     "data": {
      "text/plain": [
       "array([[-1.47454857, -0.59836319, -2.37147961, ...,  0.28655253,\n",
       "        -0.6830008 , -1.49652836],\n",
       "       [-1.42352881,  0.57184182, -0.43316467, ..., -0.72061181,\n",
       "        -0.26418665, -0.69609195],\n",
       "       [-0.61238332,  1.3046445 , -0.90829175, ...,  0.33618733,\n",
       "        -0.49254919, -0.21878983],\n",
       "       ...,\n",
       "       [ 2.8860195 , -0.42570499, -0.02601156, ..., -0.60964319,\n",
       "         0.68140455,  1.32427532],\n",
       "       [ 0.94717193,  0.17665815, -0.86954598, ..., -1.26594824,\n",
       "        -2.57774401, -0.02611692],\n",
       "       [-2.48416181, -1.65361789,  2.58492433, ..., -0.22743089,\n",
       "         2.68603143,  0.14822331]])"
      ]
     },
     "execution_count": 71,
     "metadata": {},
     "output_type": "execute_result"
    }
   ],
   "source": [
    "pca_x2"
   ]
  },
  {
   "cell_type": "markdown",
   "metadata": {},
   "source": [
    "## Clustering"
   ]
  },
  {
   "cell_type": "code",
   "execution_count": 91,
   "metadata": {
    "ExecuteTime": {
     "end_time": "2023-07-04T12:21:09.073557Z",
     "start_time": "2023-07-04T12:21:01.878451Z"
    }
   },
   "outputs": [
    {
     "data": {
      "image/png": "[encoded data removed]",
      "text/plain": [
       "<Figure size 1152x576 with 1 Axes>"
      ]
     },
     "metadata": {
      "needs_background": "light"
     },
     "output_type": "display_data"
    }
   ],
   "source": [
    "# elbow method\n",
    "w = []\n",
    "K = range(2,10)\n",
    "for k in K:\n",
    "    kmeans = KMeans(n_clusters=k)\n",
    "    kmeans.fit(pca_x2)\n",
    "    w.append(kmeans.inertia_)\n",
    "\n",
    "plt.figure(figsize=(16,8))\n",
    "plt.plot(K, w)\n",
    "plt.xlabel('Number of clusters')\n",
    "plt.ylabel('Distortion')\n",
    "plt.title('The Elbow Method showing the optimal number of clusters (k)')\n",
    "\n",
    "plt.show()"
   ]
  },
  {
   "cell_type": "markdown",
   "metadata": {},
   "source": [
    "Steps for Customer segmentation:\n",
    "1. fit the pca dataframe/numpy array to Kmeans cluster based on best score from elbow method\n",
    "2. get back the data_small that we have used for scaled_df and pca, and transform it back using oe.inverse_transform\n",
    "3. transform the fitted KMeans by doing a kmeans.transform\n",
    "4. create a new column"
   ]
  },
  {
   "cell_type": "code",
   "execution_count": 80,
   "metadata": {
    "ExecuteTime": {
     "end_time": "2023-07-04T12:05:05.071962Z",
     "start_time": "2023-07-04T12:05:05.055061Z"
    }
   },
   "outputs": [
    {
     "data": {
      "text/html": [
       "<div>\n",
       "<style scoped>\n",
       "    .dataframe tbody tr th:only-of-type {\n",
       "        vertical-align: middle;\n",
       "    }\n",
       "\n",
       "    .dataframe tbody tr th {\n",
       "        vertical-align: top;\n",
       "    }\n",
       "\n",
       "    .dataframe thead th {\n",
       "        text-align: right;\n",
       "    }\n",
       "</style>\n",
       "<table border=\"1\" class=\"dataframe\">\n",
       "  <thead>\n",
       "    <tr style=\"text-align: right;\">\n",
       "      <th></th>\n",
       "      <th>family_type</th>\n",
       "      <th>hotel</th>\n",
       "      <th>special_request</th>\n",
       "      <th>preferred_day</th>\n",
       "      <th>driving</th>\n",
       "      <th>room_change</th>\n",
       "      <th>lead_time</th>\n",
       "      <th>agent</th>\n",
       "      <th>had_cancelations</th>\n",
       "      <th>customer_type</th>\n",
       "      <th>market_segment</th>\n",
       "      <th>is_repeated_guest</th>\n",
       "      <th>adr</th>\n",
       "    </tr>\n",
       "  </thead>\n",
       "  <tbody>\n",
       "    <tr>\n",
       "      <th>0</th>\n",
       "      <td>-0.481192</td>\n",
       "      <td>1.424922</td>\n",
       "      <td>-0.839401</td>\n",
       "      <td>-0.356973</td>\n",
       "      <td>-0.258174</td>\n",
       "      <td>-0.375649</td>\n",
       "      <td>2.218826</td>\n",
       "      <td>-0.698989</td>\n",
       "      <td>-0.239754</td>\n",
       "      <td>-0.229514</td>\n",
       "      <td>-1.526639</td>\n",
       "      <td>-0.180619</td>\n",
       "      <td>-2.026279</td>\n",
       "    </tr>\n",
       "    <tr>\n",
       "      <th>75559</th>\n",
       "      <td>1.880428</td>\n",
       "      <td>-0.701793</td>\n",
       "      <td>-0.839401</td>\n",
       "      <td>-0.356973</td>\n",
       "      <td>-0.258174</td>\n",
       "      <td>-0.375649</td>\n",
       "      <td>1.425588</td>\n",
       "      <td>-0.642446</td>\n",
       "      <td>-0.239754</td>\n",
       "      <td>-0.229514</td>\n",
       "      <td>0.050813</td>\n",
       "      <td>-0.180619</td>\n",
       "      <td>-0.438757</td>\n",
       "    </tr>\n",
       "    <tr>\n",
       "      <th>75560</th>\n",
       "      <td>-0.481192</td>\n",
       "      <td>-0.701793</td>\n",
       "      <td>-0.839401</td>\n",
       "      <td>-0.356973</td>\n",
       "      <td>-0.258174</td>\n",
       "      <td>-0.375649</td>\n",
       "      <td>1.425588</td>\n",
       "      <td>-0.642446</td>\n",
       "      <td>-0.239754</td>\n",
       "      <td>-0.229514</td>\n",
       "      <td>0.050813</td>\n",
       "      <td>-0.180619</td>\n",
       "      <td>-0.012110</td>\n",
       "    </tr>\n",
       "    <tr>\n",
       "      <th>75561</th>\n",
       "      <td>-0.481192</td>\n",
       "      <td>-0.701793</td>\n",
       "      <td>-0.839401</td>\n",
       "      <td>-0.356973</td>\n",
       "      <td>-0.258174</td>\n",
       "      <td>-0.375649</td>\n",
       "      <td>1.425588</td>\n",
       "      <td>-0.642446</td>\n",
       "      <td>-0.239754</td>\n",
       "      <td>-0.229514</td>\n",
       "      <td>0.050813</td>\n",
       "      <td>-0.180619</td>\n",
       "      <td>-0.012110</td>\n",
       "    </tr>\n",
       "    <tr>\n",
       "      <th>75562</th>\n",
       "      <td>-0.481192</td>\n",
       "      <td>-0.701793</td>\n",
       "      <td>-0.839401</td>\n",
       "      <td>-0.356973</td>\n",
       "      <td>-0.258174</td>\n",
       "      <td>-0.375649</td>\n",
       "      <td>1.425588</td>\n",
       "      <td>-0.642446</td>\n",
       "      <td>-0.239754</td>\n",
       "      <td>-0.229514</td>\n",
       "      <td>0.050813</td>\n",
       "      <td>-0.180619</td>\n",
       "      <td>-0.012110</td>\n",
       "    </tr>\n",
       "    <tr>\n",
       "      <th>...</th>\n",
       "      <td>...</td>\n",
       "      <td>...</td>\n",
       "      <td>...</td>\n",
       "      <td>...</td>\n",
       "      <td>...</td>\n",
       "      <td>...</td>\n",
       "      <td>...</td>\n",
       "      <td>...</td>\n",
       "      <td>...</td>\n",
       "      <td>...</td>\n",
       "      <td>...</td>\n",
       "      <td>...</td>\n",
       "      <td>...</td>\n",
       "    </tr>\n",
       "    <tr>\n",
       "      <th>40039</th>\n",
       "      <td>-0.481192</td>\n",
       "      <td>1.424922</td>\n",
       "      <td>1.191326</td>\n",
       "      <td>-0.356973</td>\n",
       "      <td>-0.258174</td>\n",
       "      <td>-0.375649</td>\n",
       "      <td>0.035089</td>\n",
       "      <td>1.572175</td>\n",
       "      <td>-0.239754</td>\n",
       "      <td>-0.229514</td>\n",
       "      <td>0.839539</td>\n",
       "      <td>-0.180619</td>\n",
       "      <td>2.082031</td>\n",
       "    </tr>\n",
       "    <tr>\n",
       "      <th>40040</th>\n",
       "      <td>0.699618</td>\n",
       "      <td>1.424922</td>\n",
       "      <td>1.191326</td>\n",
       "      <td>-0.356973</td>\n",
       "      <td>3.873352</td>\n",
       "      <td>-0.375649</td>\n",
       "      <td>0.837659</td>\n",
       "      <td>1.562751</td>\n",
       "      <td>-0.239754</td>\n",
       "      <td>-0.229514</td>\n",
       "      <td>0.839539</td>\n",
       "      <td>-0.180619</td>\n",
       "      <td>4.170813</td>\n",
       "    </tr>\n",
       "    <tr>\n",
       "      <th>13794</th>\n",
       "      <td>-0.481192</td>\n",
       "      <td>1.424922</td>\n",
       "      <td>1.191326</td>\n",
       "      <td>-0.356973</td>\n",
       "      <td>-0.258174</td>\n",
       "      <td>-0.375649</td>\n",
       "      <td>-0.814141</td>\n",
       "      <td>1.562751</td>\n",
       "      <td>-0.239754</td>\n",
       "      <td>-0.229514</td>\n",
       "      <td>0.839539</td>\n",
       "      <td>-0.180619</td>\n",
       "      <td>2.081435</td>\n",
       "    </tr>\n",
       "    <tr>\n",
       "      <th>40038</th>\n",
       "      <td>-0.481192</td>\n",
       "      <td>1.424922</td>\n",
       "      <td>-0.839401</td>\n",
       "      <td>-0.356973</td>\n",
       "      <td>-0.258174</td>\n",
       "      <td>-0.375649</td>\n",
       "      <td>0.809663</td>\n",
       "      <td>-0.322033</td>\n",
       "      <td>-0.239754</td>\n",
       "      <td>-3.706621</td>\n",
       "      <td>0.050813</td>\n",
       "      <td>-0.180619</td>\n",
       "      <td>0.251816</td>\n",
       "    </tr>\n",
       "    <tr>\n",
       "      <th>117424</th>\n",
       "      <td>0.699618</td>\n",
       "      <td>-0.701793</td>\n",
       "      <td>1.191326</td>\n",
       "      <td>-0.356973</td>\n",
       "      <td>-0.258174</td>\n",
       "      <td>-0.375649</td>\n",
       "      <td>-0.944792</td>\n",
       "      <td>-0.698989</td>\n",
       "      <td>-0.239754</td>\n",
       "      <td>-0.229514</td>\n",
       "      <td>-2.315365</td>\n",
       "      <td>5.536528</td>\n",
       "      <td>-0.141096</td>\n",
       "    </tr>\n",
       "  </tbody>\n",
       "</table>\n",
       "<p>117813 rows × 13 columns</p>\n",
       "</div>"
      ],
      "text/plain": [
       "        family_type     hotel  special_request  preferred_day   driving  \\\n",
       "0         -0.481192  1.424922        -0.839401      -0.356973 -0.258174   \n",
       "75559      1.880428 -0.701793        -0.839401      -0.356973 -0.258174   \n",
       "75560     -0.481192 -0.701793        -0.839401      -0.356973 -0.258174   \n",
       "75561     -0.481192 -0.701793        -0.839401      -0.356973 -0.258174   \n",
       "75562     -0.481192 -0.701793        -0.839401      -0.356973 -0.258174   \n",
       "...             ...       ...              ...            ...       ...   \n",
       "40039     -0.481192  1.424922         1.191326      -0.356973 -0.258174   \n",
       "40040      0.699618  1.424922         1.191326      -0.356973  3.873352   \n",
       "13794     -0.481192  1.424922         1.191326      -0.356973 -0.258174   \n",
       "40038     -0.481192  1.424922        -0.839401      -0.356973 -0.258174   \n",
       "117424     0.699618 -0.701793         1.191326      -0.356973 -0.258174   \n",
       "\n",
       "        room_change  lead_time     agent  had_cancelations  customer_type  \\\n",
       "0         -0.375649   2.218826 -0.698989         -0.239754      -0.229514   \n",
       "75559     -0.375649   1.425588 -0.642446         -0.239754      -0.229514   \n",
       "75560     -0.375649   1.425588 -0.642446         -0.239754      -0.229514   \n",
       "75561     -0.375649   1.425588 -0.642446         -0.239754      -0.229514   \n",
       "75562     -0.375649   1.425588 -0.642446         -0.239754      -0.229514   \n",
       "...             ...        ...       ...               ...            ...   \n",
       "40039     -0.375649   0.035089  1.572175         -0.239754      -0.229514   \n",
       "40040     -0.375649   0.837659  1.562751         -0.239754      -0.229514   \n",
       "13794     -0.375649  -0.814141  1.562751         -0.239754      -0.229514   \n",
       "40038     -0.375649   0.809663 -0.322033         -0.239754      -3.706621   \n",
       "117424    -0.375649  -0.944792 -0.698989         -0.239754      -0.229514   \n",
       "\n",
       "        market_segment  is_repeated_guest       adr  \n",
       "0            -1.526639          -0.180619 -2.026279  \n",
       "75559         0.050813          -0.180619 -0.438757  \n",
       "75560         0.050813          -0.180619 -0.012110  \n",
       "75561         0.050813          -0.180619 -0.012110  \n",
       "75562         0.050813          -0.180619 -0.012110  \n",
       "...                ...                ...       ...  \n",
       "40039         0.839539          -0.180619  2.082031  \n",
       "40040         0.839539          -0.180619  4.170813  \n",
       "13794         0.839539          -0.180619  2.081435  \n",
       "40038         0.050813          -0.180619  0.251816  \n",
       "117424       -2.315365           5.536528 -0.141096  \n",
       "\n",
       "[117813 rows x 13 columns]"
      ]
     },
     "execution_count": 80,
     "metadata": {},
     "output_type": "execute_result"
    }
   ],
   "source": [
    "scaled_df"
   ]
  },
  {
   "cell_type": "code",
   "execution_count": 81,
   "metadata": {
    "ExecuteTime": {
     "end_time": "2023-07-04T12:05:22.326033Z",
     "start_time": "2023-07-04T12:05:22.305972Z"
    }
   },
   "outputs": [
    {
     "data": {
      "text/html": [
       "<div>\n",
       "<style scoped>\n",
       "    .dataframe tbody tr th:only-of-type {\n",
       "        vertical-align: middle;\n",
       "    }\n",
       "\n",
       "    .dataframe tbody tr th {\n",
       "        vertical-align: top;\n",
       "    }\n",
       "\n",
       "    .dataframe thead th {\n",
       "        text-align: right;\n",
       "    }\n",
       "</style>\n",
       "<table border=\"1\" class=\"dataframe\">\n",
       "  <thead>\n",
       "    <tr style=\"text-align: right;\">\n",
       "      <th></th>\n",
       "      <th>family_type</th>\n",
       "      <th>hotel</th>\n",
       "      <th>special_request</th>\n",
       "      <th>preferred_day</th>\n",
       "      <th>driving</th>\n",
       "      <th>room_change</th>\n",
       "      <th>lead_time</th>\n",
       "      <th>agent</th>\n",
       "      <th>had_cancelations</th>\n",
       "      <th>customer_type</th>\n",
       "      <th>market_segment</th>\n",
       "      <th>is_repeated_guest</th>\n",
       "      <th>adr</th>\n",
       "    </tr>\n",
       "  </thead>\n",
       "  <tbody>\n",
       "    <tr>\n",
       "      <th>0</th>\n",
       "      <td>1.0</td>\n",
       "      <td>1.0</td>\n",
       "      <td>False</td>\n",
       "      <td>0.0</td>\n",
       "      <td>False</td>\n",
       "      <td>False</td>\n",
       "      <td>342</td>\n",
       "      <td>0</td>\n",
       "      <td>False</td>\n",
       "      <td>2.0</td>\n",
       "      <td>3.0</td>\n",
       "      <td>0</td>\n",
       "      <td>0.00</td>\n",
       "    </tr>\n",
       "    <tr>\n",
       "      <th>75559</th>\n",
       "      <td>3.0</td>\n",
       "      <td>0.0</td>\n",
       "      <td>False</td>\n",
       "      <td>0.0</td>\n",
       "      <td>False</td>\n",
       "      <td>False</td>\n",
       "      <td>257</td>\n",
       "      <td>6</td>\n",
       "      <td>False</td>\n",
       "      <td>2.0</td>\n",
       "      <td>5.0</td>\n",
       "      <td>0</td>\n",
       "      <td>80.00</td>\n",
       "    </tr>\n",
       "    <tr>\n",
       "      <th>75560</th>\n",
       "      <td>1.0</td>\n",
       "      <td>0.0</td>\n",
       "      <td>False</td>\n",
       "      <td>0.0</td>\n",
       "      <td>False</td>\n",
       "      <td>False</td>\n",
       "      <td>257</td>\n",
       "      <td>6</td>\n",
       "      <td>False</td>\n",
       "      <td>2.0</td>\n",
       "      <td>5.0</td>\n",
       "      <td>0</td>\n",
       "      <td>101.50</td>\n",
       "    </tr>\n",
       "    <tr>\n",
       "      <th>75561</th>\n",
       "      <td>1.0</td>\n",
       "      <td>0.0</td>\n",
       "      <td>False</td>\n",
       "      <td>0.0</td>\n",
       "      <td>False</td>\n",
       "      <td>False</td>\n",
       "      <td>257</td>\n",
       "      <td>6</td>\n",
       "      <td>False</td>\n",
       "      <td>2.0</td>\n",
       "      <td>5.0</td>\n",
       "      <td>0</td>\n",
       "      <td>101.50</td>\n",
       "    </tr>\n",
       "    <tr>\n",
       "      <th>75562</th>\n",
       "      <td>1.0</td>\n",
       "      <td>0.0</td>\n",
       "      <td>False</td>\n",
       "      <td>0.0</td>\n",
       "      <td>False</td>\n",
       "      <td>False</td>\n",
       "      <td>257</td>\n",
       "      <td>6</td>\n",
       "      <td>False</td>\n",
       "      <td>2.0</td>\n",
       "      <td>5.0</td>\n",
       "      <td>0</td>\n",
       "      <td>101.50</td>\n",
       "    </tr>\n",
       "    <tr>\n",
       "      <th>...</th>\n",
       "      <td>...</td>\n",
       "      <td>...</td>\n",
       "      <td>...</td>\n",
       "      <td>...</td>\n",
       "      <td>...</td>\n",
       "      <td>...</td>\n",
       "      <td>...</td>\n",
       "      <td>...</td>\n",
       "      <td>...</td>\n",
       "      <td>...</td>\n",
       "      <td>...</td>\n",
       "      <td>...</td>\n",
       "      <td>...</td>\n",
       "    </tr>\n",
       "    <tr>\n",
       "      <th>40039</th>\n",
       "      <td>1.0</td>\n",
       "      <td>1.0</td>\n",
       "      <td>True</td>\n",
       "      <td>0.0</td>\n",
       "      <td>False</td>\n",
       "      <td>False</td>\n",
       "      <td>108</td>\n",
       "      <td>241</td>\n",
       "      <td>False</td>\n",
       "      <td>2.0</td>\n",
       "      <td>6.0</td>\n",
       "      <td>0</td>\n",
       "      <td>207.03</td>\n",
       "    </tr>\n",
       "    <tr>\n",
       "      <th>40040</th>\n",
       "      <td>2.0</td>\n",
       "      <td>1.0</td>\n",
       "      <td>True</td>\n",
       "      <td>0.0</td>\n",
       "      <td>True</td>\n",
       "      <td>False</td>\n",
       "      <td>194</td>\n",
       "      <td>240</td>\n",
       "      <td>False</td>\n",
       "      <td>2.0</td>\n",
       "      <td>6.0</td>\n",
       "      <td>0</td>\n",
       "      <td>312.29</td>\n",
       "    </tr>\n",
       "    <tr>\n",
       "      <th>13794</th>\n",
       "      <td>1.0</td>\n",
       "      <td>1.0</td>\n",
       "      <td>True</td>\n",
       "      <td>0.0</td>\n",
       "      <td>False</td>\n",
       "      <td>False</td>\n",
       "      <td>17</td>\n",
       "      <td>240</td>\n",
       "      <td>False</td>\n",
       "      <td>2.0</td>\n",
       "      <td>6.0</td>\n",
       "      <td>0</td>\n",
       "      <td>207.00</td>\n",
       "    </tr>\n",
       "    <tr>\n",
       "      <th>40038</th>\n",
       "      <td>1.0</td>\n",
       "      <td>1.0</td>\n",
       "      <td>False</td>\n",
       "      <td>0.0</td>\n",
       "      <td>False</td>\n",
       "      <td>False</td>\n",
       "      <td>191</td>\n",
       "      <td>40</td>\n",
       "      <td>False</td>\n",
       "      <td>0.0</td>\n",
       "      <td>5.0</td>\n",
       "      <td>0</td>\n",
       "      <td>114.80</td>\n",
       "    </tr>\n",
       "    <tr>\n",
       "      <th>117424</th>\n",
       "      <td>2.0</td>\n",
       "      <td>0.0</td>\n",
       "      <td>True</td>\n",
       "      <td>0.0</td>\n",
       "      <td>False</td>\n",
       "      <td>False</td>\n",
       "      <td>3</td>\n",
       "      <td>0</td>\n",
       "      <td>False</td>\n",
       "      <td>2.0</td>\n",
       "      <td>2.0</td>\n",
       "      <td>1</td>\n",
       "      <td>95.00</td>\n",
       "    </tr>\n",
       "  </tbody>\n",
       "</table>\n",
       "<p>117813 rows × 13 columns</p>\n",
       "</div>"
      ],
      "text/plain": [
       "        family_type  hotel  special_request  preferred_day  driving  \\\n",
       "0               1.0    1.0            False            0.0    False   \n",
       "75559           3.0    0.0            False            0.0    False   \n",
       "75560           1.0    0.0            False            0.0    False   \n",
       "75561           1.0    0.0            False            0.0    False   \n",
       "75562           1.0    0.0            False            0.0    False   \n",
       "...             ...    ...              ...            ...      ...   \n",
       "40039           1.0    1.0             True            0.0    False   \n",
       "40040           2.0    1.0             True            0.0     True   \n",
       "13794           1.0    1.0             True            0.0    False   \n",
       "40038           1.0    1.0            False            0.0    False   \n",
       "117424          2.0    0.0             True            0.0    False   \n",
       "\n",
       "        room_change  lead_time  agent  had_cancelations  customer_type  \\\n",
       "0             False        342      0             False            2.0   \n",
       "75559         False        257      6             False            2.0   \n",
       "75560         False        257      6             False            2.0   \n",
       "75561         False        257      6             False            2.0   \n",
       "75562         False        257      6             False            2.0   \n",
       "...             ...        ...    ...               ...            ...   \n",
       "40039         False        108    241             False            2.0   \n",
       "40040         False        194    240             False            2.0   \n",
       "13794         False         17    240             False            2.0   \n",
       "40038         False        191     40             False            0.0   \n",
       "117424        False          3      0             False            2.0   \n",
       "\n",
       "        market_segment  is_repeated_guest     adr  \n",
       "0                  3.0                  0    0.00  \n",
       "75559              5.0                  0   80.00  \n",
       "75560              5.0                  0  101.50  \n",
       "75561              5.0                  0  101.50  \n",
       "75562              5.0                  0  101.50  \n",
       "...                ...                ...     ...  \n",
       "40039              6.0                  0  207.03  \n",
       "40040              6.0                  0  312.29  \n",
       "13794              6.0                  0  207.00  \n",
       "40038              5.0                  0  114.80  \n",
       "117424             2.0                  1   95.00  \n",
       "\n",
       "[117813 rows x 13 columns]"
      ]
     },
     "execution_count": 81,
     "metadata": {},
     "output_type": "execute_result"
    }
   ],
   "source": [
    "data_small"
   ]
  },
  {
   "cell_type": "code",
   "execution_count": 82,
   "metadata": {
    "ExecuteTime": {
     "end_time": "2023-07-04T12:09:27.168515Z",
     "start_time": "2023-07-04T12:09:27.139169Z"
    }
   },
   "outputs": [
    {
     "name": "stderr",
     "output_type": "stream",
     "text": [
      "/var/folders/l9/swvqvt0552gfk3662mhw83b00000gn/T/ipykernel_61270/1336617368.py:1: SettingWithCopyWarning:\n",
      "\n",
      "\n",
      "A value is trying to be set on a copy of a slice from a DataFrame.\n",
      "Try using .loc[row_indexer,col_indexer] = value instead\n",
      "\n",
      "See the caveats in the documentation: https://pandas.pydata.org/pandas-docs/stable/user_guide/indexing.html#returning-a-view-versus-a-copy\n",
      "\n"
     ]
    }
   ],
   "source": [
    "data_small[categorical_cols] = oe.inverse_transform(data_small[categorical_cols])"
   ]
  },
  {
   "cell_type": "code",
   "execution_count": 83,
   "metadata": {
    "ExecuteTime": {
     "end_time": "2023-07-04T12:09:34.040652Z",
     "start_time": "2023-07-04T12:09:34.025482Z"
    }
   },
   "outputs": [
    {
     "data": {
      "text/html": [
       "<div>\n",
       "<style scoped>\n",
       "    .dataframe tbody tr th:only-of-type {\n",
       "        vertical-align: middle;\n",
       "    }\n",
       "\n",
       "    .dataframe tbody tr th {\n",
       "        vertical-align: top;\n",
       "    }\n",
       "\n",
       "    .dataframe thead th {\n",
       "        text-align: right;\n",
       "    }\n",
       "</style>\n",
       "<table border=\"1\" class=\"dataframe\">\n",
       "  <thead>\n",
       "    <tr style=\"text-align: right;\">\n",
       "      <th></th>\n",
       "      <th>family_type</th>\n",
       "      <th>hotel</th>\n",
       "      <th>special_request</th>\n",
       "      <th>preferred_day</th>\n",
       "      <th>driving</th>\n",
       "      <th>room_change</th>\n",
       "      <th>lead_time</th>\n",
       "      <th>agent</th>\n",
       "      <th>had_cancelations</th>\n",
       "      <th>customer_type</th>\n",
       "      <th>market_segment</th>\n",
       "      <th>is_repeated_guest</th>\n",
       "      <th>adr</th>\n",
       "    </tr>\n",
       "  </thead>\n",
       "  <tbody>\n",
       "    <tr>\n",
       "      <th>0</th>\n",
       "      <td>Couple</td>\n",
       "      <td>Resort Hotel</td>\n",
       "      <td>False</td>\n",
       "      <td>weekday</td>\n",
       "      <td>False</td>\n",
       "      <td>False</td>\n",
       "      <td>342</td>\n",
       "      <td>0</td>\n",
       "      <td>False</td>\n",
       "      <td>Transient</td>\n",
       "      <td>Direct</td>\n",
       "      <td>0</td>\n",
       "      <td>0.00</td>\n",
       "    </tr>\n",
       "    <tr>\n",
       "      <th>75559</th>\n",
       "      <td>Single</td>\n",
       "      <td>City Hotel</td>\n",
       "      <td>False</td>\n",
       "      <td>weekday</td>\n",
       "      <td>False</td>\n",
       "      <td>False</td>\n",
       "      <td>257</td>\n",
       "      <td>6</td>\n",
       "      <td>False</td>\n",
       "      <td>Transient</td>\n",
       "      <td>Offline TA/TO</td>\n",
       "      <td>0</td>\n",
       "      <td>80.00</td>\n",
       "    </tr>\n",
       "    <tr>\n",
       "      <th>75560</th>\n",
       "      <td>Couple</td>\n",
       "      <td>City Hotel</td>\n",
       "      <td>False</td>\n",
       "      <td>weekday</td>\n",
       "      <td>False</td>\n",
       "      <td>False</td>\n",
       "      <td>257</td>\n",
       "      <td>6</td>\n",
       "      <td>False</td>\n",
       "      <td>Transient</td>\n",
       "      <td>Offline TA/TO</td>\n",
       "      <td>0</td>\n",
       "      <td>101.50</td>\n",
       "    </tr>\n",
       "    <tr>\n",
       "      <th>75561</th>\n",
       "      <td>Couple</td>\n",
       "      <td>City Hotel</td>\n",
       "      <td>False</td>\n",
       "      <td>weekday</td>\n",
       "      <td>False</td>\n",
       "      <td>False</td>\n",
       "      <td>257</td>\n",
       "      <td>6</td>\n",
       "      <td>False</td>\n",
       "      <td>Transient</td>\n",
       "      <td>Offline TA/TO</td>\n",
       "      <td>0</td>\n",
       "      <td>101.50</td>\n",
       "    </tr>\n",
       "    <tr>\n",
       "      <th>75562</th>\n",
       "      <td>Couple</td>\n",
       "      <td>City Hotel</td>\n",
       "      <td>False</td>\n",
       "      <td>weekday</td>\n",
       "      <td>False</td>\n",
       "      <td>False</td>\n",
       "      <td>257</td>\n",
       "      <td>6</td>\n",
       "      <td>False</td>\n",
       "      <td>Transient</td>\n",
       "      <td>Offline TA/TO</td>\n",
       "      <td>0</td>\n",
       "      <td>101.50</td>\n",
       "    </tr>\n",
       "    <tr>\n",
       "      <th>...</th>\n",
       "      <td>...</td>\n",
       "      <td>...</td>\n",
       "      <td>...</td>\n",
       "      <td>...</td>\n",
       "      <td>...</td>\n",
       "      <td>...</td>\n",
       "      <td>...</td>\n",
       "      <td>...</td>\n",
       "      <td>...</td>\n",
       "      <td>...</td>\n",
       "      <td>...</td>\n",
       "      <td>...</td>\n",
       "      <td>...</td>\n",
       "    </tr>\n",
       "    <tr>\n",
       "      <th>40039</th>\n",
       "      <td>Couple</td>\n",
       "      <td>Resort Hotel</td>\n",
       "      <td>True</td>\n",
       "      <td>weekday</td>\n",
       "      <td>False</td>\n",
       "      <td>False</td>\n",
       "      <td>108</td>\n",
       "      <td>241</td>\n",
       "      <td>False</td>\n",
       "      <td>Transient</td>\n",
       "      <td>Online TA</td>\n",
       "      <td>0</td>\n",
       "      <td>207.03</td>\n",
       "    </tr>\n",
       "    <tr>\n",
       "      <th>40040</th>\n",
       "      <td>Family</td>\n",
       "      <td>Resort Hotel</td>\n",
       "      <td>True</td>\n",
       "      <td>weekday</td>\n",
       "      <td>True</td>\n",
       "      <td>False</td>\n",
       "      <td>194</td>\n",
       "      <td>240</td>\n",
       "      <td>False</td>\n",
       "      <td>Transient</td>\n",
       "      <td>Online TA</td>\n",
       "      <td>0</td>\n",
       "      <td>312.29</td>\n",
       "    </tr>\n",
       "    <tr>\n",
       "      <th>13794</th>\n",
       "      <td>Couple</td>\n",
       "      <td>Resort Hotel</td>\n",
       "      <td>True</td>\n",
       "      <td>weekday</td>\n",
       "      <td>False</td>\n",
       "      <td>False</td>\n",
       "      <td>17</td>\n",
       "      <td>240</td>\n",
       "      <td>False</td>\n",
       "      <td>Transient</td>\n",
       "      <td>Online TA</td>\n",
       "      <td>0</td>\n",
       "      <td>207.00</td>\n",
       "    </tr>\n",
       "    <tr>\n",
       "      <th>40038</th>\n",
       "      <td>Couple</td>\n",
       "      <td>Resort Hotel</td>\n",
       "      <td>False</td>\n",
       "      <td>weekday</td>\n",
       "      <td>False</td>\n",
       "      <td>False</td>\n",
       "      <td>191</td>\n",
       "      <td>40</td>\n",
       "      <td>False</td>\n",
       "      <td>Contract</td>\n",
       "      <td>Offline TA/TO</td>\n",
       "      <td>0</td>\n",
       "      <td>114.80</td>\n",
       "    </tr>\n",
       "    <tr>\n",
       "      <th>117424</th>\n",
       "      <td>Family</td>\n",
       "      <td>City Hotel</td>\n",
       "      <td>True</td>\n",
       "      <td>weekday</td>\n",
       "      <td>False</td>\n",
       "      <td>False</td>\n",
       "      <td>3</td>\n",
       "      <td>0</td>\n",
       "      <td>False</td>\n",
       "      <td>Transient</td>\n",
       "      <td>Corporate</td>\n",
       "      <td>1</td>\n",
       "      <td>95.00</td>\n",
       "    </tr>\n",
       "  </tbody>\n",
       "</table>\n",
       "<p>117813 rows × 13 columns</p>\n",
       "</div>"
      ],
      "text/plain": [
       "       family_type         hotel  special_request preferred_day  driving  \\\n",
       "0           Couple  Resort Hotel            False       weekday    False   \n",
       "75559       Single    City Hotel            False       weekday    False   \n",
       "75560       Couple    City Hotel            False       weekday    False   \n",
       "75561       Couple    City Hotel            False       weekday    False   \n",
       "75562       Couple    City Hotel            False       weekday    False   \n",
       "...            ...           ...              ...           ...      ...   \n",
       "40039       Couple  Resort Hotel             True       weekday    False   \n",
       "40040       Family  Resort Hotel             True       weekday     True   \n",
       "13794       Couple  Resort Hotel             True       weekday    False   \n",
       "40038       Couple  Resort Hotel            False       weekday    False   \n",
       "117424      Family    City Hotel             True       weekday    False   \n",
       "\n",
       "        room_change  lead_time  agent  had_cancelations customer_type  \\\n",
       "0             False        342      0             False     Transient   \n",
       "75559         False        257      6             False     Transient   \n",
       "75560         False        257      6             False     Transient   \n",
       "75561         False        257      6             False     Transient   \n",
       "75562         False        257      6             False     Transient   \n",
       "...             ...        ...    ...               ...           ...   \n",
       "40039         False        108    241             False     Transient   \n",
       "40040         False        194    240             False     Transient   \n",
       "13794         False         17    240             False     Transient   \n",
       "40038         False        191     40             False      Contract   \n",
       "117424        False          3      0             False     Transient   \n",
       "\n",
       "       market_segment  is_repeated_guest     adr  \n",
       "0              Direct                  0    0.00  \n",
       "75559   Offline TA/TO                  0   80.00  \n",
       "75560   Offline TA/TO                  0  101.50  \n",
       "75561   Offline TA/TO                  0  101.50  \n",
       "75562   Offline TA/TO                  0  101.50  \n",
       "...               ...                ...     ...  \n",
       "40039       Online TA                  0  207.03  \n",
       "40040       Online TA                  0  312.29  \n",
       "13794       Online TA                  0  207.00  \n",
       "40038   Offline TA/TO                  0  114.80  \n",
       "117424      Corporate                  1   95.00  \n",
       "\n",
       "[117813 rows x 13 columns]"
      ]
     },
     "execution_count": 83,
     "metadata": {},
     "output_type": "execute_result"
    }
   ],
   "source": [
    "data_small"
   ]
  },
  {
   "cell_type": "code",
   "execution_count": 92,
   "metadata": {
    "ExecuteTime": {
     "end_time": "2023-07-04T12:26:59.475526Z",
     "start_time": "2023-07-04T12:26:58.112146Z"
    }
   },
   "outputs": [],
   "source": [
    "clusters = KMeans(n_clusters=8,random_state=15).fit_predict(pca_x2)"
   ]
  },
  {
   "cell_type": "code",
   "execution_count": 93,
   "metadata": {
    "ExecuteTime": {
     "end_time": "2023-07-04T12:27:02.116406Z",
     "start_time": "2023-07-04T12:27:02.098335Z"
    }
   },
   "outputs": [
    {
     "name": "stderr",
     "output_type": "stream",
     "text": [
      "/var/folders/l9/swvqvt0552gfk3662mhw83b00000gn/T/ipykernel_61270/4219275197.py:1: SettingWithCopyWarning:\n",
      "\n",
      "\n",
      "A value is trying to be set on a copy of a slice from a DataFrame.\n",
      "Try using .loc[row_indexer,col_indexer] = value instead\n",
      "\n",
      "See the caveats in the documentation: https://pandas.pydata.org/pandas-docs/stable/user_guide/indexing.html#returning-a-view-versus-a-copy\n",
      "\n"
     ]
    },
    {
     "data": {
      "text/html": [
       "<div>\n",
       "<style scoped>\n",
       "    .dataframe tbody tr th:only-of-type {\n",
       "        vertical-align: middle;\n",
       "    }\n",
       "\n",
       "    .dataframe tbody tr th {\n",
       "        vertical-align: top;\n",
       "    }\n",
       "\n",
       "    .dataframe thead th {\n",
       "        text-align: right;\n",
       "    }\n",
       "</style>\n",
       "<table border=\"1\" class=\"dataframe\">\n",
       "  <thead>\n",
       "    <tr style=\"text-align: right;\">\n",
       "      <th></th>\n",
       "      <th>family_type</th>\n",
       "      <th>hotel</th>\n",
       "      <th>special_request</th>\n",
       "      <th>preferred_day</th>\n",
       "      <th>driving</th>\n",
       "      <th>room_change</th>\n",
       "      <th>lead_time</th>\n",
       "      <th>agent</th>\n",
       "      <th>had_cancelations</th>\n",
       "      <th>customer_type</th>\n",
       "      <th>market_segment</th>\n",
       "      <th>is_repeated_guest</th>\n",
       "      <th>adr</th>\n",
       "      <th>clusters</th>\n",
       "    </tr>\n",
       "  </thead>\n",
       "  <tbody>\n",
       "    <tr>\n",
       "      <th>0</th>\n",
       "      <td>Couple</td>\n",
       "      <td>Resort Hotel</td>\n",
       "      <td>False</td>\n",
       "      <td>weekday</td>\n",
       "      <td>False</td>\n",
       "      <td>False</td>\n",
       "      <td>342</td>\n",
       "      <td>0</td>\n",
       "      <td>False</td>\n",
       "      <td>Transient</td>\n",
       "      <td>Direct</td>\n",
       "      <td>0</td>\n",
       "      <td>0.00</td>\n",
       "      <td>2</td>\n",
       "    </tr>\n",
       "    <tr>\n",
       "      <th>75559</th>\n",
       "      <td>Single</td>\n",
       "      <td>City Hotel</td>\n",
       "      <td>False</td>\n",
       "      <td>weekday</td>\n",
       "      <td>False</td>\n",
       "      <td>False</td>\n",
       "      <td>257</td>\n",
       "      <td>6</td>\n",
       "      <td>False</td>\n",
       "      <td>Transient</td>\n",
       "      <td>Offline TA/TO</td>\n",
       "      <td>0</td>\n",
       "      <td>80.00</td>\n",
       "      <td>2</td>\n",
       "    </tr>\n",
       "    <tr>\n",
       "      <th>75560</th>\n",
       "      <td>Couple</td>\n",
       "      <td>City Hotel</td>\n",
       "      <td>False</td>\n",
       "      <td>weekday</td>\n",
       "      <td>False</td>\n",
       "      <td>False</td>\n",
       "      <td>257</td>\n",
       "      <td>6</td>\n",
       "      <td>False</td>\n",
       "      <td>Transient</td>\n",
       "      <td>Offline TA/TO</td>\n",
       "      <td>0</td>\n",
       "      <td>101.50</td>\n",
       "      <td>2</td>\n",
       "    </tr>\n",
       "    <tr>\n",
       "      <th>75561</th>\n",
       "      <td>Couple</td>\n",
       "      <td>City Hotel</td>\n",
       "      <td>False</td>\n",
       "      <td>weekday</td>\n",
       "      <td>False</td>\n",
       "      <td>False</td>\n",
       "      <td>257</td>\n",
       "      <td>6</td>\n",
       "      <td>False</td>\n",
       "      <td>Transient</td>\n",
       "      <td>Offline TA/TO</td>\n",
       "      <td>0</td>\n",
       "      <td>101.50</td>\n",
       "      <td>2</td>\n",
       "    </tr>\n",
       "    <tr>\n",
       "      <th>75562</th>\n",
       "      <td>Couple</td>\n",
       "      <td>City Hotel</td>\n",
       "      <td>False</td>\n",
       "      <td>weekday</td>\n",
       "      <td>False</td>\n",
       "      <td>False</td>\n",
       "      <td>257</td>\n",
       "      <td>6</td>\n",
       "      <td>False</td>\n",
       "      <td>Transient</td>\n",
       "      <td>Offline TA/TO</td>\n",
       "      <td>0</td>\n",
       "      <td>101.50</td>\n",
       "      <td>2</td>\n",
       "    </tr>\n",
       "    <tr>\n",
       "      <th>...</th>\n",
       "      <td>...</td>\n",
       "      <td>...</td>\n",
       "      <td>...</td>\n",
       "      <td>...</td>\n",
       "      <td>...</td>\n",
       "      <td>...</td>\n",
       "      <td>...</td>\n",
       "      <td>...</td>\n",
       "      <td>...</td>\n",
       "      <td>...</td>\n",
       "      <td>...</td>\n",
       "      <td>...</td>\n",
       "      <td>...</td>\n",
       "      <td>...</td>\n",
       "    </tr>\n",
       "    <tr>\n",
       "      <th>40039</th>\n",
       "      <td>Couple</td>\n",
       "      <td>Resort Hotel</td>\n",
       "      <td>True</td>\n",
       "      <td>weekday</td>\n",
       "      <td>False</td>\n",
       "      <td>False</td>\n",
       "      <td>108</td>\n",
       "      <td>241</td>\n",
       "      <td>False</td>\n",
       "      <td>Transient</td>\n",
       "      <td>Online TA</td>\n",
       "      <td>0</td>\n",
       "      <td>207.03</td>\n",
       "      <td>1</td>\n",
       "    </tr>\n",
       "    <tr>\n",
       "      <th>40040</th>\n",
       "      <td>Family</td>\n",
       "      <td>Resort Hotel</td>\n",
       "      <td>True</td>\n",
       "      <td>weekday</td>\n",
       "      <td>True</td>\n",
       "      <td>False</td>\n",
       "      <td>194</td>\n",
       "      <td>240</td>\n",
       "      <td>False</td>\n",
       "      <td>Transient</td>\n",
       "      <td>Online TA</td>\n",
       "      <td>0</td>\n",
       "      <td>312.29</td>\n",
       "      <td>5</td>\n",
       "    </tr>\n",
       "    <tr>\n",
       "      <th>13794</th>\n",
       "      <td>Couple</td>\n",
       "      <td>Resort Hotel</td>\n",
       "      <td>True</td>\n",
       "      <td>weekday</td>\n",
       "      <td>False</td>\n",
       "      <td>False</td>\n",
       "      <td>17</td>\n",
       "      <td>240</td>\n",
       "      <td>False</td>\n",
       "      <td>Transient</td>\n",
       "      <td>Online TA</td>\n",
       "      <td>0</td>\n",
       "      <td>207.00</td>\n",
       "      <td>1</td>\n",
       "    </tr>\n",
       "    <tr>\n",
       "      <th>40038</th>\n",
       "      <td>Couple</td>\n",
       "      <td>Resort Hotel</td>\n",
       "      <td>False</td>\n",
       "      <td>weekday</td>\n",
       "      <td>False</td>\n",
       "      <td>False</td>\n",
       "      <td>191</td>\n",
       "      <td>40</td>\n",
       "      <td>False</td>\n",
       "      <td>Contract</td>\n",
       "      <td>Offline TA/TO</td>\n",
       "      <td>0</td>\n",
       "      <td>114.80</td>\n",
       "      <td>1</td>\n",
       "    </tr>\n",
       "    <tr>\n",
       "      <th>117424</th>\n",
       "      <td>Family</td>\n",
       "      <td>City Hotel</td>\n",
       "      <td>True</td>\n",
       "      <td>weekday</td>\n",
       "      <td>False</td>\n",
       "      <td>False</td>\n",
       "      <td>3</td>\n",
       "      <td>0</td>\n",
       "      <td>False</td>\n",
       "      <td>Transient</td>\n",
       "      <td>Corporate</td>\n",
       "      <td>1</td>\n",
       "      <td>95.00</td>\n",
       "      <td>3</td>\n",
       "    </tr>\n",
       "  </tbody>\n",
       "</table>\n",
       "<p>117813 rows × 14 columns</p>\n",
       "</div>"
      ],
      "text/plain": [
       "       family_type         hotel  special_request preferred_day  driving  \\\n",
       "0           Couple  Resort Hotel            False       weekday    False   \n",
       "75559       Single    City Hotel            False       weekday    False   \n",
       "75560       Couple    City Hotel            False       weekday    False   \n",
       "75561       Couple    City Hotel            False       weekday    False   \n",
       "75562       Couple    City Hotel            False       weekday    False   \n",
       "...            ...           ...              ...           ...      ...   \n",
       "40039       Couple  Resort Hotel             True       weekday    False   \n",
       "40040       Family  Resort Hotel             True       weekday     True   \n",
       "13794       Couple  Resort Hotel             True       weekday    False   \n",
       "40038       Couple  Resort Hotel            False       weekday    False   \n",
       "117424      Family    City Hotel             True       weekday    False   \n",
       "\n",
       "        room_change  lead_time  agent  had_cancelations customer_type  \\\n",
       "0             False        342      0             False     Transient   \n",
       "75559         False        257      6             False     Transient   \n",
       "75560         False        257      6             False     Transient   \n",
       "75561         False        257      6             False     Transient   \n",
       "75562         False        257      6             False     Transient   \n",
       "...             ...        ...    ...               ...           ...   \n",
       "40039         False        108    241             False     Transient   \n",
       "40040         False        194    240             False     Transient   \n",
       "13794         False         17    240             False     Transient   \n",
       "40038         False        191     40             False      Contract   \n",
       "117424        False          3      0             False     Transient   \n",
       "\n",
       "       market_segment  is_repeated_guest     adr  clusters  \n",
       "0              Direct                  0    0.00         2  \n",
       "75559   Offline TA/TO                  0   80.00         2  \n",
       "75560   Offline TA/TO                  0  101.50         2  \n",
       "75561   Offline TA/TO                  0  101.50         2  \n",
       "75562   Offline TA/TO                  0  101.50         2  \n",
       "...               ...                ...     ...       ...  \n",
       "40039       Online TA                  0  207.03         1  \n",
       "40040       Online TA                  0  312.29         5  \n",
       "13794       Online TA                  0  207.00         1  \n",
       "40038   Offline TA/TO                  0  114.80         1  \n",
       "117424      Corporate                  1   95.00         3  \n",
       "\n",
       "[117813 rows x 14 columns]"
      ]
     },
     "execution_count": 93,
     "metadata": {},
     "output_type": "execute_result"
    }
   ],
   "source": [
    "data_small['clusters'] = clusters\n",
    "data_small"
   ]
  },
  {
   "cell_type": "code",
   "execution_count": 97,
   "metadata": {
    "ExecuteTime": {
     "end_time": "2023-07-04T12:35:55.297858Z",
     "start_time": "2023-07-04T12:35:55.194240Z"
    }
   },
   "outputs": [
    {
     "data": {
      "text/html": [
       "<div>\n",
       "<style scoped>\n",
       "    .dataframe tbody tr th:only-of-type {\n",
       "        vertical-align: middle;\n",
       "    }\n",
       "\n",
       "    .dataframe tbody tr th {\n",
       "        vertical-align: top;\n",
       "    }\n",
       "\n",
       "    .dataframe thead th {\n",
       "        text-align: right;\n",
       "    }\n",
       "</style>\n",
       "<table border=\"1\" class=\"dataframe\">\n",
       "  <thead>\n",
       "    <tr style=\"text-align: right;\">\n",
       "      <th></th>\n",
       "      <th>count</th>\n",
       "      <th>mean</th>\n",
       "      <th>std</th>\n",
       "      <th>min</th>\n",
       "      <th>25%</th>\n",
       "      <th>50%</th>\n",
       "      <th>75%</th>\n",
       "      <th>max</th>\n",
       "    </tr>\n",
       "    <tr>\n",
       "      <th>clusters</th>\n",
       "      <th></th>\n",
       "      <th></th>\n",
       "      <th></th>\n",
       "      <th></th>\n",
       "      <th></th>\n",
       "      <th></th>\n",
       "      <th></th>\n",
       "      <th></th>\n",
       "    </tr>\n",
       "  </thead>\n",
       "  <tbody>\n",
       "    <tr>\n",
       "      <th>0</th>\n",
       "      <td>31548.0</td>\n",
       "      <td>121.773530</td>\n",
       "      <td>49.842430</td>\n",
       "      <td>0.00</td>\n",
       "      <td>92.16</td>\n",
       "      <td>115.63</td>\n",
       "      <td>141.0</td>\n",
       "      <td>5400.00</td>\n",
       "    </tr>\n",
       "    <tr>\n",
       "      <th>1</th>\n",
       "      <td>19473.0</td>\n",
       "      <td>107.779509</td>\n",
       "      <td>62.633233</td>\n",
       "      <td>0.00</td>\n",
       "      <td>59.13</td>\n",
       "      <td>89.00</td>\n",
       "      <td>143.0</td>\n",
       "      <td>450.00</td>\n",
       "    </tr>\n",
       "    <tr>\n",
       "      <th>2</th>\n",
       "      <td>28792.0</td>\n",
       "      <td>89.262793</td>\n",
       "      <td>34.387871</td>\n",
       "      <td>0.00</td>\n",
       "      <td>65.00</td>\n",
       "      <td>87.30</td>\n",
       "      <td>109.0</td>\n",
       "      <td>341.00</td>\n",
       "    </tr>\n",
       "    <tr>\n",
       "      <th>3</th>\n",
       "      <td>3513.0</td>\n",
       "      <td>63.522869</td>\n",
       "      <td>43.650193</td>\n",
       "      <td>-6.38</td>\n",
       "      <td>38.50</td>\n",
       "      <td>65.00</td>\n",
       "      <td>80.0</td>\n",
       "      <td>349.00</td>\n",
       "    </tr>\n",
       "    <tr>\n",
       "      <th>4</th>\n",
       "      <td>11008.0</td>\n",
       "      <td>84.405199</td>\n",
       "      <td>45.356554</td>\n",
       "      <td>0.00</td>\n",
       "      <td>51.00</td>\n",
       "      <td>78.80</td>\n",
       "      <td>110.0</td>\n",
       "      <td>310.20</td>\n",
       "    </tr>\n",
       "    <tr>\n",
       "      <th>5</th>\n",
       "      <td>6774.0</td>\n",
       "      <td>116.414311</td>\n",
       "      <td>61.681669</td>\n",
       "      <td>0.00</td>\n",
       "      <td>68.44</td>\n",
       "      <td>104.00</td>\n",
       "      <td>154.0</td>\n",
       "      <td>508.00</td>\n",
       "    </tr>\n",
       "    <tr>\n",
       "      <th>6</th>\n",
       "      <td>10924.0</td>\n",
       "      <td>104.066850</td>\n",
       "      <td>41.984950</td>\n",
       "      <td>0.00</td>\n",
       "      <td>78.40</td>\n",
       "      <td>96.30</td>\n",
       "      <td>123.0</td>\n",
       "      <td>359.00</td>\n",
       "    </tr>\n",
       "    <tr>\n",
       "      <th>7</th>\n",
       "      <td>5781.0</td>\n",
       "      <td>76.397687</td>\n",
       "      <td>27.934438</td>\n",
       "      <td>0.00</td>\n",
       "      <td>62.00</td>\n",
       "      <td>62.80</td>\n",
       "      <td>90.0</td>\n",
       "      <td>276.53</td>\n",
       "    </tr>\n",
       "  </tbody>\n",
       "</table>\n",
       "</div>"
      ],
      "text/plain": [
       "            count        mean        std   min    25%     50%    75%      max\n",
       "clusters                                                                     \n",
       "0         31548.0  121.773530  49.842430  0.00  92.16  115.63  141.0  5400.00\n",
       "1         19473.0  107.779509  62.633233  0.00  59.13   89.00  143.0   450.00\n",
       "2         28792.0   89.262793  34.387871  0.00  65.00   87.30  109.0   341.00\n",
       "3          3513.0   63.522869  43.650193 -6.38  38.50   65.00   80.0   349.00\n",
       "4         11008.0   84.405199  45.356554  0.00  51.00   78.80  110.0   310.20\n",
       "5          6774.0  116.414311  61.681669  0.00  68.44  104.00  154.0   508.00\n",
       "6         10924.0  104.066850  41.984950  0.00  78.40   96.30  123.0   359.00\n",
       "7          5781.0   76.397687  27.934438  0.00  62.00   62.80   90.0   276.53"
      ]
     },
     "execution_count": 97,
     "metadata": {},
     "output_type": "execute_result"
    }
   ],
   "source": [
    "data_small.groupby('clusters').describe()['adr']"
   ]
  },
  {
   "cell_type": "code",
   "execution_count": 95,
   "metadata": {
    "ExecuteTime": {
     "end_time": "2023-07-04T12:31:01.384330Z",
     "start_time": "2023-07-04T12:31:01.115477Z"
    }
   },
   "outputs": [
    {
     "data": {
      "text/plain": [
       "<AxesSubplot:xlabel='family_type', ylabel='clusters'>"
      ]
     },
     "execution_count": 95,
     "metadata": {},
     "output_type": "execute_result"
    },
    {
     "data": {
      "image/png": "[encoded data removed]",
      "text/plain": [
       "<Figure size 432x288 with 2 Axes>"
      ]
     },
     "metadata": {
      "needs_background": "light"
     },
     "output_type": "display_data"
    }
   ],
   "source": [
    "df1 = pd.pivot_table(data_small,index='clusters', columns = ['family_type'], aggfunc='size')\n",
    "df1.fillna(0, inplace=True)\n",
    "total = df1.sum(axis=1)\n",
    "df1['Adult Group'] = df1['Adult Group'] / total\n",
    "df1['Couple'] = df1['Couple'] / total\n",
    "df1['Family'] = df1['Family'] / total\n",
    "df1['Single'] = df1['Single'] / total\n",
    "sns.heatmap(df1, annot=True, cmap='coolwarm')"
   ]
  },
  {
   "cell_type": "code",
   "execution_count": 96,
   "metadata": {
    "ExecuteTime": {
     "end_time": "2023-07-04T12:31:42.310080Z",
     "start_time": "2023-07-04T12:31:42.127839Z"
    }
   },
   "outputs": [
    {
     "data": {
      "text/plain": [
       "<AxesSubplot:xlabel='hotel', ylabel='clusters'>"
      ]
     },
     "execution_count": 96,
     "metadata": {},
     "output_type": "execute_result"
    },
    {
     "data": {
      "image/png": "[encoded data removed]",
      "text/plain": [
       "<Figure size 432x288 with 2 Axes>"
      ]
     },
     "metadata": {
      "needs_background": "light"
     },
     "output_type": "display_data"
    }
   ],
   "source": [
    "df2 = pd.pivot_table(data_small,index='clusters', columns = ['hotel'], aggfunc='size')\n",
    "total = df2.sum(axis=1)\n",
    "df2['City Hotel'] = df2['City Hotel'] / total\n",
    "df2['Resort Hotel'] = df2['Resort Hotel'] / total\n",
    "sns.heatmap(df2, annot=True, cmap='coolwarm')"
   ]
  },
  {
   "cell_type": "code",
   "execution_count": null,
   "metadata": {},
   "outputs": [],
   "source": []
  }
 ],
 "metadata": {
  "kernelspec": {
   "display_name": "python38",
   "language": "python",
   "name": "python38"
  },
  "language_info": {
   "codemirror_mode": {
    "name": "ipython",
    "version": 3
   },
   "file_extension": ".py",
   "mimetype": "text/x-python",
   "name": "python",
   "nbconvert_exporter": "python",
   "pygments_lexer": "ipython3",
   "version": "3.8.12"
  }
 },
 "nbformat": 4,
 "nbformat_minor": 2
}
