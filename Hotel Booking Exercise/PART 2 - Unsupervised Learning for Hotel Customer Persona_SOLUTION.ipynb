{
 "cells": [
  {
   "cell_type": "code",
   "execution_count": 1,
   "metadata": {},
   "outputs": [],
   "source": [
    "#import all import libraries\n",
    "import numpy as np\n",
    "import pandas as pd\n",
    "import matplotlib.pyplot as plt\n",
    "%matplotlib inline\n",
    "import seaborn as sns\n",
    "import timeit\n",
    "from time import time\n",
    "import sys\n",
    "import os\n",
    "from plotly.offline import download_plotlyjs, init_notebook_mode, plot, iplot\n",
    "import plotly.express as px\n",
    "import plotly.graph_objects as go"
   ]
  },
  {
   "cell_type": "code",
   "execution_count": 2,
   "metadata": {},
   "outputs": [
    {
     "data": {
      "text/html": [
       "        <script type=\"text/javascript\">\n",
       "        window.PlotlyConfig = {MathJaxConfig: 'local'};\n",
       "        if (window.MathJax && window.MathJax.Hub && window.MathJax.Hub.Config) {window.MathJax.Hub.Config({SVG: {font: \"STIX-Web\"}});}\n",
       "        if (typeof require !== 'undefined') {\n",
       "        require.undef(\"plotly\");\n",
       "        requirejs.config({\n",
       "            paths: {\n",
       "                'plotly': ['https://cdn.plot.ly/plotly-2.12.1.min']\n",
       "            }\n",
       "        });\n",
       "        require(['plotly'], function(Plotly) {\n",
       "            window._Plotly = Plotly;\n",
       "        });\n",
       "        }\n",
       "        </script>\n",
       "        "
      ]
     },
     "metadata": {},
     "output_type": "display_data"
    }
   ],
   "source": [
    "init_notebook_mode(connected=True)"
   ]
  },
  {
   "cell_type": "markdown",
   "metadata": {},
   "source": [
    "## Read Data"
   ]
  },
  {
   "cell_type": "code",
   "execution_count": 3,
   "metadata": {},
   "outputs": [],
   "source": [
    "df = pd.read_csv('hotel_bookings.csv')"
   ]
  },
  {
   "cell_type": "markdown",
   "metadata": {},
   "source": [
    "## Data preprocessing based on EDA recommendations"
   ]
  },
  {
   "cell_type": "code",
   "execution_count": 4,
   "metadata": {},
   "outputs": [],
   "source": [
    "#drop column company\n",
    "df = df.drop('company', axis=1)"
   ]
  },
  {
   "cell_type": "code",
   "execution_count": 5,
   "metadata": {},
   "outputs": [],
   "source": [
    "#fill in null values in children with 0, and make as type int\n",
    "df['children'] = df['children'].fillna(0).astype(int)"
   ]
  },
  {
   "cell_type": "code",
   "execution_count": 6,
   "metadata": {},
   "outputs": [],
   "source": [
    "#fill in missing country as PRT => the most occuring country\n",
    "df['country'] = df['country'].fillna('PRT')"
   ]
  },
  {
   "cell_type": "code",
   "execution_count": 7,
   "metadata": {},
   "outputs": [
    {
     "name": "stdout",
     "output_type": "stream",
     "text": [
      "<class 'pandas.core.frame.DataFrame'>\n",
      "RangeIndex: 119390 entries, 0 to 119389\n",
      "Data columns (total 31 columns):\n",
      " #   Column                          Non-Null Count   Dtype  \n",
      "---  ------                          --------------   -----  \n",
      " 0   hotel                           119390 non-null  object \n",
      " 1   is_canceled                     119390 non-null  int64  \n",
      " 2   lead_time                       119390 non-null  int64  \n",
      " 3   arrival_date_year               119390 non-null  int64  \n",
      " 4   arrival_date_month              119390 non-null  object \n",
      " 5   arrival_date_week_number        119390 non-null  int64  \n",
      " 6   arrival_date_day_of_month       119390 non-null  int64  \n",
      " 7   stays_in_weekend_nights         119390 non-null  int64  \n",
      " 8   stays_in_week_nights            119390 non-null  int64  \n",
      " 9   adults                          119390 non-null  int64  \n",
      " 10  children                        119390 non-null  int64  \n",
      " 11  babies                          119390 non-null  int64  \n",
      " 12  meal                            119390 non-null  object \n",
      " 13  country                         119390 non-null  object \n",
      " 14  market_segment                  119390 non-null  object \n",
      " 15  distribution_channel            119390 non-null  object \n",
      " 16  is_repeated_guest               119390 non-null  int64  \n",
      " 17  previous_cancellations          119390 non-null  int64  \n",
      " 18  previous_bookings_not_canceled  119390 non-null  int64  \n",
      " 19  reserved_room_type              119390 non-null  object \n",
      " 20  assigned_room_type              119390 non-null  object \n",
      " 21  booking_changes                 119390 non-null  int64  \n",
      " 22  deposit_type                    119390 non-null  object \n",
      " 23  agent                           103050 non-null  float64\n",
      " 24  days_in_waiting_list            119390 non-null  int64  \n",
      " 25  customer_type                   119390 non-null  object \n",
      " 26  adr                             119390 non-null  float64\n",
      " 27  required_car_parking_spaces     119390 non-null  int64  \n",
      " 28  total_of_special_requests       119390 non-null  int64  \n",
      " 29  reservation_status              119390 non-null  object \n",
      " 30  reservation_status_date         119390 non-null  object \n",
      "dtypes: float64(2), int64(17), object(12)\n",
      "memory usage: 28.2+ MB\n"
     ]
    }
   ],
   "source": [
    "df.info()"
   ]
  },
  {
   "cell_type": "code",
   "execution_count": 8,
   "metadata": {},
   "outputs": [
    {
     "data": {
      "text/plain": [
       "333"
      ]
     },
     "execution_count": 8,
     "metadata": {},
     "output_type": "execute_result"
    }
   ],
   "source": [
    "df['agent'].nunique()"
   ]
  },
  {
   "cell_type": "code",
   "execution_count": 219,
   "metadata": {},
   "outputs": [
    {
     "data": {
      "text/html": [
       "<div>\n",
       "<style scoped>\n",
       "    .dataframe tbody tr th:only-of-type {\n",
       "        vertical-align: middle;\n",
       "    }\n",
       "\n",
       "    .dataframe tbody tr th {\n",
       "        vertical-align: top;\n",
       "    }\n",
       "\n",
       "    .dataframe thead th {\n",
       "        text-align: right;\n",
       "    }\n",
       "</style>\n",
       "<table border=\"1\" class=\"dataframe\">\n",
       "  <thead>\n",
       "    <tr style=\"text-align: right;\">\n",
       "      <th></th>\n",
       "      <th>hotel</th>\n",
       "      <th>is_canceled</th>\n",
       "      <th>lead_time</th>\n",
       "      <th>arrival_date_year</th>\n",
       "      <th>arrival_date_month</th>\n",
       "      <th>arrival_date_week_number</th>\n",
       "      <th>arrival_date_day_of_month</th>\n",
       "      <th>stays_in_weekend_nights</th>\n",
       "      <th>stays_in_week_nights</th>\n",
       "      <th>adults</th>\n",
       "      <th>...</th>\n",
       "      <th>booking_changes</th>\n",
       "      <th>deposit_type</th>\n",
       "      <th>agent</th>\n",
       "      <th>days_in_waiting_list</th>\n",
       "      <th>customer_type</th>\n",
       "      <th>adr</th>\n",
       "      <th>required_car_parking_spaces</th>\n",
       "      <th>total_of_special_requests</th>\n",
       "      <th>reservation_status</th>\n",
       "      <th>reservation_status_date</th>\n",
       "    </tr>\n",
       "  </thead>\n",
       "  <tbody>\n",
       "  </tbody>\n",
       "</table>\n",
       "<p>0 rows × 31 columns</p>\n",
       "</div>"
      ],
      "text/plain": [
       "Empty DataFrame\n",
       "Columns: [hotel, is_canceled, lead_time, arrival_date_year, arrival_date_month, arrival_date_week_number, arrival_date_day_of_month, stays_in_weekend_nights, stays_in_week_nights, adults, children, babies, meal, country, market_segment, distribution_channel, is_repeated_guest, previous_cancellations, previous_bookings_not_canceled, reserved_room_type, assigned_room_type, booking_changes, deposit_type, agent, days_in_waiting_list, customer_type, adr, required_car_parking_spaces, total_of_special_requests, reservation_status, reservation_status_date]\n",
       "Index: []\n",
       "\n",
       "[0 rows x 31 columns]"
      ]
     },
     "execution_count": 219,
     "metadata": {},
     "output_type": "execute_result"
    }
   ],
   "source": [
    "df[df['agent'] == 0]"
   ]
  },
  {
   "cell_type": "markdown",
   "metadata": {},
   "source": [
    "**Model for agent** <br>\n",
    "The assumption here is that the agent column only has values if it was booked with some agents, otherwise will remain empty. Hence we can just fill the value with 0 => This is where data understanding is very important\n",
    "\n",
    "Otherwise, to replace null values for agents, there are a few ways => assuming that the data was wrongly formatted:\n",
    "- Build a classification model to predict the values => not feasible as there are 333 values. Regression would make no sense as they are all discrete values\n",
    "- The easiest approach is to just take the mode or median value and replace them. But since there are about 13% missing values in agent alone, this is not a very accurate method\n",
    "- An easier and more accurate approach,is to look at the value counts of each agent value, and then get a probability distribution to then randomly assign the value to the null values"
   ]
  },
  {
   "cell_type": "code",
   "execution_count": 9,
   "metadata": {},
   "outputs": [],
   "source": [
    "df['agent'] = df['agent'].fillna(0)"
   ]
  },
  {
   "cell_type": "code",
   "execution_count": 10,
   "metadata": {},
   "outputs": [
    {
     "name": "stdout",
     "output_type": "stream",
     "text": [
      "<class 'pandas.core.frame.DataFrame'>\n",
      "RangeIndex: 119390 entries, 0 to 119389\n",
      "Data columns (total 31 columns):\n",
      " #   Column                          Non-Null Count   Dtype  \n",
      "---  ------                          --------------   -----  \n",
      " 0   hotel                           119390 non-null  object \n",
      " 1   is_canceled                     119390 non-null  int64  \n",
      " 2   lead_time                       119390 non-null  int64  \n",
      " 3   arrival_date_year               119390 non-null  int64  \n",
      " 4   arrival_date_month              119390 non-null  object \n",
      " 5   arrival_date_week_number        119390 non-null  int64  \n",
      " 6   arrival_date_day_of_month       119390 non-null  int64  \n",
      " 7   stays_in_weekend_nights         119390 non-null  int64  \n",
      " 8   stays_in_week_nights            119390 non-null  int64  \n",
      " 9   adults                          119390 non-null  int64  \n",
      " 10  children                        119390 non-null  int64  \n",
      " 11  babies                          119390 non-null  int64  \n",
      " 12  meal                            119390 non-null  object \n",
      " 13  country                         119390 non-null  object \n",
      " 14  market_segment                  119390 non-null  object \n",
      " 15  distribution_channel            119390 non-null  object \n",
      " 16  is_repeated_guest               119390 non-null  int64  \n",
      " 17  previous_cancellations          119390 non-null  int64  \n",
      " 18  previous_bookings_not_canceled  119390 non-null  int64  \n",
      " 19  reserved_room_type              119390 non-null  object \n",
      " 20  assigned_room_type              119390 non-null  object \n",
      " 21  booking_changes                 119390 non-null  int64  \n",
      " 22  deposit_type                    119390 non-null  object \n",
      " 23  agent                           119390 non-null  float64\n",
      " 24  days_in_waiting_list            119390 non-null  int64  \n",
      " 25  customer_type                   119390 non-null  object \n",
      " 26  adr                             119390 non-null  float64\n",
      " 27  required_car_parking_spaces     119390 non-null  int64  \n",
      " 28  total_of_special_requests       119390 non-null  int64  \n",
      " 29  reservation_status              119390 non-null  object \n",
      " 30  reservation_status_date         119390 non-null  object \n",
      "dtypes: float64(2), int64(17), object(12)\n",
      "memory usage: 28.2+ MB\n"
     ]
    }
   ],
   "source": [
    "df.info()"
   ]
  },
  {
   "cell_type": "code",
   "execution_count": 238,
   "metadata": {},
   "outputs": [
    {
     "data": {
      "text/html": [
       "<div>\n",
       "<style scoped>\n",
       "    .dataframe tbody tr th:only-of-type {\n",
       "        vertical-align: middle;\n",
       "    }\n",
       "\n",
       "    .dataframe tbody tr th {\n",
       "        vertical-align: top;\n",
       "    }\n",
       "\n",
       "    .dataframe thead th {\n",
       "        text-align: right;\n",
       "    }\n",
       "</style>\n",
       "<table border=\"1\" class=\"dataframe\">\n",
       "  <thead>\n",
       "    <tr style=\"text-align: right;\">\n",
       "      <th></th>\n",
       "      <th>hotel</th>\n",
       "      <th>is_canceled</th>\n",
       "      <th>lead_time</th>\n",
       "      <th>arrival_date_year</th>\n",
       "      <th>arrival_date_month</th>\n",
       "      <th>arrival_date_week_number</th>\n",
       "      <th>arrival_date_day_of_month</th>\n",
       "      <th>stays_in_weekend_nights</th>\n",
       "      <th>stays_in_week_nights</th>\n",
       "      <th>adults</th>\n",
       "      <th>...</th>\n",
       "      <th>days_in_waiting_list</th>\n",
       "      <th>customer_type</th>\n",
       "      <th>adr</th>\n",
       "      <th>required_car_parking_spaces</th>\n",
       "      <th>total_of_special_requests</th>\n",
       "      <th>reservation_status</th>\n",
       "      <th>reservation_status_date</th>\n",
       "      <th>arrival_date</th>\n",
       "      <th>family_type</th>\n",
       "      <th>room_change</th>\n",
       "    </tr>\n",
       "  </thead>\n",
       "  <tbody>\n",
       "    <tr>\n",
       "      <th>0</th>\n",
       "      <td>Resort Hotel</td>\n",
       "      <td>0</td>\n",
       "      <td>342</td>\n",
       "      <td>2015</td>\n",
       "      <td>July</td>\n",
       "      <td>27</td>\n",
       "      <td>1</td>\n",
       "      <td>0</td>\n",
       "      <td>0</td>\n",
       "      <td>2</td>\n",
       "      <td>...</td>\n",
       "      <td>0</td>\n",
       "      <td>Transient</td>\n",
       "      <td>0.00</td>\n",
       "      <td>0</td>\n",
       "      <td>0</td>\n",
       "      <td>Check-Out</td>\n",
       "      <td>7/1/2015</td>\n",
       "      <td>2015-07-01</td>\n",
       "      <td>Couple</td>\n",
       "      <td>False</td>\n",
       "    </tr>\n",
       "    <tr>\n",
       "      <th>1</th>\n",
       "      <td>Resort Hotel</td>\n",
       "      <td>0</td>\n",
       "      <td>737</td>\n",
       "      <td>2015</td>\n",
       "      <td>July</td>\n",
       "      <td>27</td>\n",
       "      <td>1</td>\n",
       "      <td>0</td>\n",
       "      <td>0</td>\n",
       "      <td>2</td>\n",
       "      <td>...</td>\n",
       "      <td>0</td>\n",
       "      <td>Transient</td>\n",
       "      <td>0.00</td>\n",
       "      <td>0</td>\n",
       "      <td>0</td>\n",
       "      <td>Check-Out</td>\n",
       "      <td>7/1/2015</td>\n",
       "      <td>2015-07-01</td>\n",
       "      <td>Couple</td>\n",
       "      <td>False</td>\n",
       "    </tr>\n",
       "    <tr>\n",
       "      <th>77</th>\n",
       "      <td>Resort Hotel</td>\n",
       "      <td>0</td>\n",
       "      <td>2</td>\n",
       "      <td>2015</td>\n",
       "      <td>July</td>\n",
       "      <td>27</td>\n",
       "      <td>3</td>\n",
       "      <td>2</td>\n",
       "      <td>2</td>\n",
       "      <td>1</td>\n",
       "      <td>...</td>\n",
       "      <td>0</td>\n",
       "      <td>Transient</td>\n",
       "      <td>122.00</td>\n",
       "      <td>0</td>\n",
       "      <td>0</td>\n",
       "      <td>Check-Out</td>\n",
       "      <td>7/7/2015</td>\n",
       "      <td>2015-07-03</td>\n",
       "      <td>Single</td>\n",
       "      <td>False</td>\n",
       "    </tr>\n",
       "    <tr>\n",
       "      <th>78</th>\n",
       "      <td>Resort Hotel</td>\n",
       "      <td>0</td>\n",
       "      <td>72</td>\n",
       "      <td>2015</td>\n",
       "      <td>July</td>\n",
       "      <td>27</td>\n",
       "      <td>3</td>\n",
       "      <td>2</td>\n",
       "      <td>2</td>\n",
       "      <td>2</td>\n",
       "      <td>...</td>\n",
       "      <td>0</td>\n",
       "      <td>Transient</td>\n",
       "      <td>110.70</td>\n",
       "      <td>1</td>\n",
       "      <td>0</td>\n",
       "      <td>Check-Out</td>\n",
       "      <td>7/7/2015</td>\n",
       "      <td>2015-07-03</td>\n",
       "      <td>Couple</td>\n",
       "      <td>False</td>\n",
       "    </tr>\n",
       "    <tr>\n",
       "      <th>74986</th>\n",
       "      <td>City Hotel</td>\n",
       "      <td>1</td>\n",
       "      <td>260</td>\n",
       "      <td>2015</td>\n",
       "      <td>July</td>\n",
       "      <td>27</td>\n",
       "      <td>4</td>\n",
       "      <td>2</td>\n",
       "      <td>2</td>\n",
       "      <td>2</td>\n",
       "      <td>...</td>\n",
       "      <td>0</td>\n",
       "      <td>Transient-Party</td>\n",
       "      <td>62.00</td>\n",
       "      <td>0</td>\n",
       "      <td>0</td>\n",
       "      <td>Canceled</td>\n",
       "      <td>6/16/2015</td>\n",
       "      <td>2015-07-04</td>\n",
       "      <td>Couple</td>\n",
       "      <td>False</td>\n",
       "    </tr>\n",
       "    <tr>\n",
       "      <th>...</th>\n",
       "      <td>...</td>\n",
       "      <td>...</td>\n",
       "      <td>...</td>\n",
       "      <td>...</td>\n",
       "      <td>...</td>\n",
       "      <td>...</td>\n",
       "      <td>...</td>\n",
       "      <td>...</td>\n",
       "      <td>...</td>\n",
       "      <td>...</td>\n",
       "      <td>...</td>\n",
       "      <td>...</td>\n",
       "      <td>...</td>\n",
       "      <td>...</td>\n",
       "      <td>...</td>\n",
       "      <td>...</td>\n",
       "      <td>...</td>\n",
       "      <td>...</td>\n",
       "      <td>...</td>\n",
       "      <td>...</td>\n",
       "      <td>...</td>\n",
       "    </tr>\n",
       "    <tr>\n",
       "      <th>39836</th>\n",
       "      <td>Resort Hotel</td>\n",
       "      <td>0</td>\n",
       "      <td>40</td>\n",
       "      <td>2017</td>\n",
       "      <td>August</td>\n",
       "      <td>35</td>\n",
       "      <td>28</td>\n",
       "      <td>1</td>\n",
       "      <td>1</td>\n",
       "      <td>2</td>\n",
       "      <td>...</td>\n",
       "      <td>0</td>\n",
       "      <td>Transient</td>\n",
       "      <td>204.16</td>\n",
       "      <td>0</td>\n",
       "      <td>3</td>\n",
       "      <td>Check-Out</td>\n",
       "      <td>8/30/2017</td>\n",
       "      <td>2017-08-28</td>\n",
       "      <td>Family</td>\n",
       "      <td>False</td>\n",
       "    </tr>\n",
       "    <tr>\n",
       "      <th>39838</th>\n",
       "      <td>Resort Hotel</td>\n",
       "      <td>0</td>\n",
       "      <td>125</td>\n",
       "      <td>2017</td>\n",
       "      <td>August</td>\n",
       "      <td>35</td>\n",
       "      <td>28</td>\n",
       "      <td>1</td>\n",
       "      <td>1</td>\n",
       "      <td>2</td>\n",
       "      <td>...</td>\n",
       "      <td>0</td>\n",
       "      <td>Transient</td>\n",
       "      <td>228.89</td>\n",
       "      <td>0</td>\n",
       "      <td>1</td>\n",
       "      <td>Check-Out</td>\n",
       "      <td>8/30/2017</td>\n",
       "      <td>2017-08-28</td>\n",
       "      <td>Family</td>\n",
       "      <td>False</td>\n",
       "    </tr>\n",
       "    <tr>\n",
       "      <th>39837</th>\n",
       "      <td>Resort Hotel</td>\n",
       "      <td>0</td>\n",
       "      <td>125</td>\n",
       "      <td>2017</td>\n",
       "      <td>August</td>\n",
       "      <td>35</td>\n",
       "      <td>28</td>\n",
       "      <td>1</td>\n",
       "      <td>1</td>\n",
       "      <td>2</td>\n",
       "      <td>...</td>\n",
       "      <td>0</td>\n",
       "      <td>Transient</td>\n",
       "      <td>204.00</td>\n",
       "      <td>0</td>\n",
       "      <td>1</td>\n",
       "      <td>Check-Out</td>\n",
       "      <td>8/30/2017</td>\n",
       "      <td>2017-08-28</td>\n",
       "      <td>Couple</td>\n",
       "      <td>False</td>\n",
       "    </tr>\n",
       "    <tr>\n",
       "      <th>39851</th>\n",
       "      <td>Resort Hotel</td>\n",
       "      <td>0</td>\n",
       "      <td>64</td>\n",
       "      <td>2017</td>\n",
       "      <td>August</td>\n",
       "      <td>35</td>\n",
       "      <td>28</td>\n",
       "      <td>1</td>\n",
       "      <td>1</td>\n",
       "      <td>2</td>\n",
       "      <td>...</td>\n",
       "      <td>0</td>\n",
       "      <td>Transient</td>\n",
       "      <td>185.00</td>\n",
       "      <td>0</td>\n",
       "      <td>1</td>\n",
       "      <td>Check-Out</td>\n",
       "      <td>8/30/2017</td>\n",
       "      <td>2017-08-28</td>\n",
       "      <td>Couple</td>\n",
       "      <td>True</td>\n",
       "    </tr>\n",
       "    <tr>\n",
       "      <th>39852</th>\n",
       "      <td>Resort Hotel</td>\n",
       "      <td>0</td>\n",
       "      <td>0</td>\n",
       "      <td>2017</td>\n",
       "      <td>August</td>\n",
       "      <td>35</td>\n",
       "      <td>30</td>\n",
       "      <td>0</td>\n",
       "      <td>0</td>\n",
       "      <td>2</td>\n",
       "      <td>...</td>\n",
       "      <td>0</td>\n",
       "      <td>Transient</td>\n",
       "      <td>0.00</td>\n",
       "      <td>0</td>\n",
       "      <td>0</td>\n",
       "      <td>Check-Out</td>\n",
       "      <td>8/30/2017</td>\n",
       "      <td>2017-08-30</td>\n",
       "      <td>Couple</td>\n",
       "      <td>False</td>\n",
       "    </tr>\n",
       "  </tbody>\n",
       "</table>\n",
       "<p>14676 rows × 34 columns</p>\n",
       "</div>"
      ],
      "text/plain": [
       "              hotel  is_canceled  lead_time  arrival_date_year  \\\n",
       "0      Resort Hotel            0        342               2015   \n",
       "1      Resort Hotel            0        737               2015   \n",
       "77     Resort Hotel            0          2               2015   \n",
       "78     Resort Hotel            0         72               2015   \n",
       "74986    City Hotel            1        260               2015   \n",
       "...             ...          ...        ...                ...   \n",
       "39836  Resort Hotel            0         40               2017   \n",
       "39838  Resort Hotel            0        125               2017   \n",
       "39837  Resort Hotel            0        125               2017   \n",
       "39851  Resort Hotel            0         64               2017   \n",
       "39852  Resort Hotel            0          0               2017   \n",
       "\n",
       "      arrival_date_month  arrival_date_week_number  arrival_date_day_of_month  \\\n",
       "0                   July                        27                          1   \n",
       "1                   July                        27                          1   \n",
       "77                  July                        27                          3   \n",
       "78                  July                        27                          3   \n",
       "74986               July                        27                          4   \n",
       "...                  ...                       ...                        ...   \n",
       "39836             August                        35                         28   \n",
       "39838             August                        35                         28   \n",
       "39837             August                        35                         28   \n",
       "39851             August                        35                         28   \n",
       "39852             August                        35                         30   \n",
       "\n",
       "       stays_in_weekend_nights  stays_in_week_nights  adults  ...  \\\n",
       "0                            0                     0       2  ...   \n",
       "1                            0                     0       2  ...   \n",
       "77                           2                     2       1  ...   \n",
       "78                           2                     2       2  ...   \n",
       "74986                        2                     2       2  ...   \n",
       "...                        ...                   ...     ...  ...   \n",
       "39836                        1                     1       2  ...   \n",
       "39838                        1                     1       2  ...   \n",
       "39837                        1                     1       2  ...   \n",
       "39851                        1                     1       2  ...   \n",
       "39852                        0                     0       2  ...   \n",
       "\n",
       "       days_in_waiting_list    customer_type     adr  \\\n",
       "0                         0        Transient    0.00   \n",
       "1                         0        Transient    0.00   \n",
       "77                        0        Transient  122.00   \n",
       "78                        0        Transient  110.70   \n",
       "74986                     0  Transient-Party   62.00   \n",
       "...                     ...              ...     ...   \n",
       "39836                     0        Transient  204.16   \n",
       "39838                     0        Transient  228.89   \n",
       "39837                     0        Transient  204.00   \n",
       "39851                     0        Transient  185.00   \n",
       "39852                     0        Transient    0.00   \n",
       "\n",
       "      required_car_parking_spaces total_of_special_requests  \\\n",
       "0                               0                         0   \n",
       "1                               0                         0   \n",
       "77                              0                         0   \n",
       "78                              1                         0   \n",
       "74986                           0                         0   \n",
       "...                           ...                       ...   \n",
       "39836                           0                         3   \n",
       "39838                           0                         1   \n",
       "39837                           0                         1   \n",
       "39851                           0                         1   \n",
       "39852                           0                         0   \n",
       "\n",
       "      reservation_status  reservation_status_date  arrival_date  family_type  \\\n",
       "0              Check-Out                 7/1/2015    2015-07-01       Couple   \n",
       "1              Check-Out                 7/1/2015    2015-07-01       Couple   \n",
       "77             Check-Out                 7/7/2015    2015-07-03       Single   \n",
       "78             Check-Out                 7/7/2015    2015-07-03       Couple   \n",
       "74986           Canceled                6/16/2015    2015-07-04       Couple   \n",
       "...                  ...                      ...           ...          ...   \n",
       "39836          Check-Out                8/30/2017    2017-08-28       Family   \n",
       "39838          Check-Out                8/30/2017    2017-08-28       Family   \n",
       "39837          Check-Out                8/30/2017    2017-08-28       Couple   \n",
       "39851          Check-Out                8/30/2017    2017-08-28       Couple   \n",
       "39852          Check-Out                8/30/2017    2017-08-30       Couple   \n",
       "\n",
       "      room_change  \n",
       "0           False  \n",
       "1           False  \n",
       "77          False  \n",
       "78          False  \n",
       "74986       False  \n",
       "...           ...  \n",
       "39836       False  \n",
       "39838       False  \n",
       "39837       False  \n",
       "39851        True  \n",
       "39852       False  \n",
       "\n",
       "[14676 rows x 34 columns]"
      ]
     },
     "execution_count": 238,
     "metadata": {},
     "output_type": "execute_result"
    }
   ],
   "source": [
    "df[df['stays_in_weekend_nights'] == df['stays_in_week_nights']]"
   ]
  },
  {
   "cell_type": "markdown",
   "metadata": {},
   "source": [
    "## Feature Engineering - Creating new features\n",
    "A few new features will be created here:\n",
    "1. arrival_date - in this format arrival_day/arrival_month/arrival_year\n",
    "2. family_type - from number of adults, children and babies\n",
    "3. room_change - True if there is a change from reserved_room_type and assigned_room_type else False\n",
    "4. preferred_day - weekend if stays_in_weekend_nights > stays_in_week_nights else weekday. **Made it simple with two classes, could have been 3 classes with 'no preference' if stays_in_weekend_nights == stays_in_week_nights, but with the assumption that there are more weekdays, and more options for the hotel to give weekdays. Plus, also the percentage of this class is about 10%**\n",
    "5. had_cancellations - True if previous_cancellations > 0 else False\n",
    "6. driving - True if required_car_parking_spaces > 0 else False"
   ]
  },
  {
   "cell_type": "code",
   "execution_count": 11,
   "metadata": {},
   "outputs": [],
   "source": [
    "#Arrival date:\n",
    "df['arrival_date'] = df['arrival_date_day_of_month'].astype(str) + '/' + df['arrival_date_month'] + '/' \\\n",
    "+ df['arrival_date_year'].astype(str) "
   ]
  },
  {
   "cell_type": "code",
   "execution_count": 12,
   "metadata": {},
   "outputs": [
    {
     "data": {
      "text/plain": [
       "0        2015-07-01\n",
       "1        2015-07-01\n",
       "2        2015-07-01\n",
       "3        2015-07-01\n",
       "4        2015-07-01\n",
       "            ...    \n",
       "119385   2017-08-30\n",
       "119386   2017-08-31\n",
       "119387   2017-08-31\n",
       "119388   2017-08-31\n",
       "119389   2017-08-29\n",
       "Name: arrival_date, Length: 119390, dtype: datetime64[ns]"
      ]
     },
     "execution_count": 12,
     "metadata": {},
     "output_type": "execute_result"
    }
   ],
   "source": [
    "df['arrival_date'] = pd.to_datetime(df['arrival_date'],format='%d/%B/%Y')\n",
    "df['arrival_date']"
   ]
  },
  {
   "cell_type": "code",
   "execution_count": 13,
   "metadata": {},
   "outputs": [],
   "source": [
    "df = df.sort_values(by='arrival_date')"
   ]
  },
  {
   "cell_type": "code",
   "execution_count": 14,
   "metadata": {},
   "outputs": [],
   "source": [
    "#function to feature engineer family type\n",
    "def family_type(row):\n",
    "    if row['adults'] <= 0 :\n",
    "        return 'NA'\n",
    "    elif row['adults'] > 0 and (row['children'] > 0 or row['babies'] > 0):\n",
    "        return 'Family'\n",
    "    elif row['adults'] == 2 and row['children'] == 0 and row['babies'] ==0:\n",
    "        return 'Couple'\n",
    "    elif row['adults'] == 1 and row['children'] == 0 and row['babies'] ==0:\n",
    "        return 'Single'\n",
    "    elif row['adults'] > 2 and row['children'] == 0 and row['babies'] ==0:\n",
    "        return 'Adult Group'"
   ]
  },
  {
   "cell_type": "code",
   "execution_count": 15,
   "metadata": {},
   "outputs": [],
   "source": [
    "df['family_type'] = df.apply(family_type, axis=1)"
   ]
  },
  {
   "cell_type": "code",
   "execution_count": 16,
   "metadata": {},
   "outputs": [
    {
     "data": {
      "text/plain": [
       "Couple         81560\n",
       "Single         22577\n",
       "Family          9109\n",
       "Adult Group     5741\n",
       "NA               403\n",
       "Name: family_type, dtype: int64"
      ]
     },
     "execution_count": 16,
     "metadata": {},
     "output_type": "execute_result"
    }
   ],
   "source": [
    "df['family_type'].value_counts()"
   ]
  },
  {
   "cell_type": "code",
   "execution_count": 17,
   "metadata": {},
   "outputs": [
    {
     "data": {
      "text/plain": [
       "Couple         81560\n",
       "Single         22577\n",
       "Family          9109\n",
       "Adult Group     5741\n",
       "Name: family_type, dtype: int64"
      ]
     },
     "execution_count": 17,
     "metadata": {},
     "output_type": "execute_result"
    }
   ],
   "source": [
    "df[df['family_type'] != 'NA']['family_type'].value_counts()"
   ]
  },
  {
   "cell_type": "code",
   "execution_count": 18,
   "metadata": {},
   "outputs": [],
   "source": [
    "#Dropping Family Type = 'NA' as the assumption is children do not travel without adults\n",
    "df = df[df['family_type'] != 'NA']"
   ]
  },
  {
   "cell_type": "code",
   "execution_count": 19,
   "metadata": {},
   "outputs": [
    {
     "data": {
      "text/plain": [
       "14764"
      ]
     },
     "execution_count": 19,
     "metadata": {},
     "output_type": "execute_result"
    }
   ],
   "source": [
    "sum(df['reserved_room_type'] != df['assigned_room_type'])"
   ]
  },
  {
   "cell_type": "code",
   "execution_count": 20,
   "metadata": {},
   "outputs": [],
   "source": [
    "#Room change:\n",
    "df['room_change'] = df['reserved_room_type'] != df['assigned_room_type']"
   ]
  },
  {
   "cell_type": "code",
   "execution_count": 21,
   "metadata": {},
   "outputs": [],
   "source": [
    "#preferred day:\n",
    "df['preferred_day'] = df.apply(lambda x: 'weekend' if x['stays_in_weekend_nights'] > x['stays_in_week_nights'] else 'weekday',\n",
    "                               axis=1)"
   ]
  },
  {
   "cell_type": "code",
   "execution_count": 22,
   "metadata": {},
   "outputs": [],
   "source": [
    "#Has past cancellations?\n",
    "df['had_cancellations'] = df['previous_cancellations'] > 0"
   ]
  },
  {
   "cell_type": "code",
   "execution_count": 23,
   "metadata": {},
   "outputs": [],
   "source": [
    "#Driving?\n",
    "df['driving'] = df['required_car_parking_spaces'] > 0"
   ]
  },
  {
   "cell_type": "code",
   "execution_count": 24,
   "metadata": {},
   "outputs": [
    {
     "name": "stdout",
     "output_type": "stream",
     "text": [
      "<class 'pandas.core.frame.DataFrame'>\n",
      "Int64Index: 118987 entries, 0 to 117424\n",
      "Data columns (total 37 columns):\n",
      " #   Column                          Non-Null Count   Dtype         \n",
      "---  ------                          --------------   -----         \n",
      " 0   hotel                           118987 non-null  object        \n",
      " 1   is_canceled                     118987 non-null  int64         \n",
      " 2   lead_time                       118987 non-null  int64         \n",
      " 3   arrival_date_year               118987 non-null  int64         \n",
      " 4   arrival_date_month              118987 non-null  object        \n",
      " 5   arrival_date_week_number        118987 non-null  int64         \n",
      " 6   arrival_date_day_of_month       118987 non-null  int64         \n",
      " 7   stays_in_weekend_nights         118987 non-null  int64         \n",
      " 8   stays_in_week_nights            118987 non-null  int64         \n",
      " 9   adults                          118987 non-null  int64         \n",
      " 10  children                        118987 non-null  int64         \n",
      " 11  babies                          118987 non-null  int64         \n",
      " 12  meal                            118987 non-null  object        \n",
      " 13  country                         118987 non-null  object        \n",
      " 14  market_segment                  118987 non-null  object        \n",
      " 15  distribution_channel            118987 non-null  object        \n",
      " 16  is_repeated_guest               118987 non-null  int64         \n",
      " 17  previous_cancellations          118987 non-null  int64         \n",
      " 18  previous_bookings_not_canceled  118987 non-null  int64         \n",
      " 19  reserved_room_type              118987 non-null  object        \n",
      " 20  assigned_room_type              118987 non-null  object        \n",
      " 21  booking_changes                 118987 non-null  int64         \n",
      " 22  deposit_type                    118987 non-null  object        \n",
      " 23  agent                           118987 non-null  float64       \n",
      " 24  days_in_waiting_list            118987 non-null  int64         \n",
      " 25  customer_type                   118987 non-null  object        \n",
      " 26  adr                             118987 non-null  float64       \n",
      " 27  required_car_parking_spaces     118987 non-null  int64         \n",
      " 28  total_of_special_requests       118987 non-null  int64         \n",
      " 29  reservation_status              118987 non-null  object        \n",
      " 30  reservation_status_date         118987 non-null  object        \n",
      " 31  arrival_date                    118987 non-null  datetime64[ns]\n",
      " 32  family_type                     118987 non-null  object        \n",
      " 33  room_change                     118987 non-null  bool          \n",
      " 34  preferred_day                   118987 non-null  object        \n",
      " 35  had_cancellations               118987 non-null  bool          \n",
      " 36  driving                         118987 non-null  bool          \n",
      "dtypes: bool(3), datetime64[ns](1), float64(2), int64(17), object(14)\n",
      "memory usage: 32.1+ MB\n"
     ]
    }
   ],
   "source": [
    "df.info()"
   ]
  },
  {
   "cell_type": "code",
   "execution_count": 25,
   "metadata": {},
   "outputs": [
    {
     "data": {
      "text/html": [
       "<div>\n",
       "<style scoped>\n",
       "    .dataframe tbody tr th:only-of-type {\n",
       "        vertical-align: middle;\n",
       "    }\n",
       "\n",
       "    .dataframe tbody tr th {\n",
       "        vertical-align: top;\n",
       "    }\n",
       "\n",
       "    .dataframe thead th {\n",
       "        text-align: right;\n",
       "    }\n",
       "</style>\n",
       "<table border=\"1\" class=\"dataframe\">\n",
       "  <thead>\n",
       "    <tr style=\"text-align: right;\">\n",
       "      <th></th>\n",
       "      <th>hotel</th>\n",
       "      <th>is_canceled</th>\n",
       "      <th>lead_time</th>\n",
       "      <th>arrival_date_year</th>\n",
       "      <th>arrival_date_month</th>\n",
       "      <th>arrival_date_week_number</th>\n",
       "      <th>arrival_date_day_of_month</th>\n",
       "      <th>stays_in_weekend_nights</th>\n",
       "      <th>stays_in_week_nights</th>\n",
       "      <th>adults</th>\n",
       "      <th>...</th>\n",
       "      <th>required_car_parking_spaces</th>\n",
       "      <th>total_of_special_requests</th>\n",
       "      <th>reservation_status</th>\n",
       "      <th>reservation_status_date</th>\n",
       "      <th>arrival_date</th>\n",
       "      <th>family_type</th>\n",
       "      <th>room_change</th>\n",
       "      <th>preferred_day</th>\n",
       "      <th>had_cancellations</th>\n",
       "      <th>driving</th>\n",
       "    </tr>\n",
       "  </thead>\n",
       "  <tbody>\n",
       "    <tr>\n",
       "      <th>0</th>\n",
       "      <td>Resort Hotel</td>\n",
       "      <td>0</td>\n",
       "      <td>342</td>\n",
       "      <td>2015</td>\n",
       "      <td>July</td>\n",
       "      <td>27</td>\n",
       "      <td>1</td>\n",
       "      <td>0</td>\n",
       "      <td>0</td>\n",
       "      <td>2</td>\n",
       "      <td>...</td>\n",
       "      <td>0</td>\n",
       "      <td>0</td>\n",
       "      <td>Check-Out</td>\n",
       "      <td>7/1/2015</td>\n",
       "      <td>2015-07-01</td>\n",
       "      <td>Couple</td>\n",
       "      <td>False</td>\n",
       "      <td>weekday</td>\n",
       "      <td>False</td>\n",
       "      <td>False</td>\n",
       "    </tr>\n",
       "    <tr>\n",
       "      <th>75559</th>\n",
       "      <td>City Hotel</td>\n",
       "      <td>0</td>\n",
       "      <td>257</td>\n",
       "      <td>2015</td>\n",
       "      <td>July</td>\n",
       "      <td>27</td>\n",
       "      <td>1</td>\n",
       "      <td>0</td>\n",
       "      <td>2</td>\n",
       "      <td>1</td>\n",
       "      <td>...</td>\n",
       "      <td>0</td>\n",
       "      <td>0</td>\n",
       "      <td>Check-Out</td>\n",
       "      <td>7/3/2015</td>\n",
       "      <td>2015-07-01</td>\n",
       "      <td>Single</td>\n",
       "      <td>False</td>\n",
       "      <td>weekday</td>\n",
       "      <td>False</td>\n",
       "      <td>False</td>\n",
       "    </tr>\n",
       "    <tr>\n",
       "      <th>75560</th>\n",
       "      <td>City Hotel</td>\n",
       "      <td>0</td>\n",
       "      <td>257</td>\n",
       "      <td>2015</td>\n",
       "      <td>July</td>\n",
       "      <td>27</td>\n",
       "      <td>1</td>\n",
       "      <td>0</td>\n",
       "      <td>2</td>\n",
       "      <td>2</td>\n",
       "      <td>...</td>\n",
       "      <td>0</td>\n",
       "      <td>0</td>\n",
       "      <td>Check-Out</td>\n",
       "      <td>7/3/2015</td>\n",
       "      <td>2015-07-01</td>\n",
       "      <td>Couple</td>\n",
       "      <td>False</td>\n",
       "      <td>weekday</td>\n",
       "      <td>False</td>\n",
       "      <td>False</td>\n",
       "    </tr>\n",
       "    <tr>\n",
       "      <th>75561</th>\n",
       "      <td>City Hotel</td>\n",
       "      <td>0</td>\n",
       "      <td>257</td>\n",
       "      <td>2015</td>\n",
       "      <td>July</td>\n",
       "      <td>27</td>\n",
       "      <td>1</td>\n",
       "      <td>0</td>\n",
       "      <td>2</td>\n",
       "      <td>2</td>\n",
       "      <td>...</td>\n",
       "      <td>0</td>\n",
       "      <td>0</td>\n",
       "      <td>Check-Out</td>\n",
       "      <td>7/3/2015</td>\n",
       "      <td>2015-07-01</td>\n",
       "      <td>Couple</td>\n",
       "      <td>False</td>\n",
       "      <td>weekday</td>\n",
       "      <td>False</td>\n",
       "      <td>False</td>\n",
       "    </tr>\n",
       "    <tr>\n",
       "      <th>75562</th>\n",
       "      <td>City Hotel</td>\n",
       "      <td>0</td>\n",
       "      <td>257</td>\n",
       "      <td>2015</td>\n",
       "      <td>July</td>\n",
       "      <td>27</td>\n",
       "      <td>1</td>\n",
       "      <td>0</td>\n",
       "      <td>2</td>\n",
       "      <td>2</td>\n",
       "      <td>...</td>\n",
       "      <td>0</td>\n",
       "      <td>0</td>\n",
       "      <td>Check-Out</td>\n",
       "      <td>7/3/2015</td>\n",
       "      <td>2015-07-01</td>\n",
       "      <td>Couple</td>\n",
       "      <td>False</td>\n",
       "      <td>weekday</td>\n",
       "      <td>False</td>\n",
       "      <td>False</td>\n",
       "    </tr>\n",
       "  </tbody>\n",
       "</table>\n",
       "<p>5 rows × 37 columns</p>\n",
       "</div>"
      ],
      "text/plain": [
       "              hotel  is_canceled  lead_time  arrival_date_year  \\\n",
       "0      Resort Hotel            0        342               2015   \n",
       "75559    City Hotel            0        257               2015   \n",
       "75560    City Hotel            0        257               2015   \n",
       "75561    City Hotel            0        257               2015   \n",
       "75562    City Hotel            0        257               2015   \n",
       "\n",
       "      arrival_date_month  arrival_date_week_number  arrival_date_day_of_month  \\\n",
       "0                   July                        27                          1   \n",
       "75559               July                        27                          1   \n",
       "75560               July                        27                          1   \n",
       "75561               July                        27                          1   \n",
       "75562               July                        27                          1   \n",
       "\n",
       "       stays_in_weekend_nights  stays_in_week_nights  adults  ...  \\\n",
       "0                            0                     0       2  ...   \n",
       "75559                        0                     2       1  ...   \n",
       "75560                        0                     2       2  ...   \n",
       "75561                        0                     2       2  ...   \n",
       "75562                        0                     2       2  ...   \n",
       "\n",
       "       required_car_parking_spaces  total_of_special_requests  \\\n",
       "0                                0                          0   \n",
       "75559                            0                          0   \n",
       "75560                            0                          0   \n",
       "75561                            0                          0   \n",
       "75562                            0                          0   \n",
       "\n",
       "      reservation_status reservation_status_date arrival_date family_type  \\\n",
       "0              Check-Out                7/1/2015   2015-07-01      Couple   \n",
       "75559          Check-Out                7/3/2015   2015-07-01      Single   \n",
       "75560          Check-Out                7/3/2015   2015-07-01      Couple   \n",
       "75561          Check-Out                7/3/2015   2015-07-01      Couple   \n",
       "75562          Check-Out                7/3/2015   2015-07-01      Couple   \n",
       "\n",
       "       room_change  preferred_day  had_cancellations driving  \n",
       "0            False        weekday              False   False  \n",
       "75559        False        weekday              False   False  \n",
       "75560        False        weekday              False   False  \n",
       "75561        False        weekday              False   False  \n",
       "75562        False        weekday              False   False  \n",
       "\n",
       "[5 rows x 37 columns]"
      ]
     },
     "execution_count": 25,
     "metadata": {},
     "output_type": "execute_result"
    }
   ],
   "source": [
    "df.head()"
   ]
  },
  {
   "cell_type": "markdown",
   "metadata": {},
   "source": [
    "## Next steps for Customer Persona\n",
    "- Select columns with objects and apply sklearn.preprocessing.ordinal_encoder\n",
    "- Select important features manually\n",
    "- Feature transformation by applying standardization to important features\n",
    "- PCA on these => explain dimensions\n",
    "- Clustering using K-means or Gaussian Mixtures\n",
    "- Explain Customer persona and get silhoutte score"
   ]
  },
  {
   "cell_type": "code",
   "execution_count": 26,
   "metadata": {},
   "outputs": [],
   "source": [
    "#select object columns\n",
    "categorical_cols = list(df.columns[df.dtypes == object])"
   ]
  },
  {
   "cell_type": "code",
   "execution_count": 27,
   "metadata": {},
   "outputs": [
    {
     "name": "stdout",
     "output_type": "stream",
     "text": [
      "hotel: ['Resort Hotel' 'City Hotel']\n",
      "\n",
      "arrival_date_month: ['July' 'August' 'September' 'October' 'November' 'December' 'January'\n",
      " 'February' 'March' 'April' 'May' 'June']\n",
      "\n",
      "meal: ['BB' 'HB' 'FB' 'SC' 'Undefined']\n",
      "\n",
      "country: ['PRT' 'IRL' 'GBR' 'ESP' 'USA' 'FRA' 'ARG' 'OMN' 'NOR' 'DEU' 'ROU' 'POL'\n",
      " 'ITA' 'BRA' 'BEL' 'CHE' 'CN' 'NLD' 'GRC' 'DNK' 'SWE' 'RUS' 'EST' 'AUS'\n",
      " 'CZE' 'FIN' 'AUT' 'ISR' 'HUN' 'MOZ' 'BWA' 'NZL' 'LUX' 'IDN' 'SVN' 'ALB'\n",
      " 'MAR' 'HRV' 'CHN' 'AGO' 'BGR' 'IND' 'DZA' 'MEX' 'TUN' 'COL' 'KAZ' 'LVA'\n",
      " 'STP' 'UKR' 'VEN' 'TWN' 'IRN' 'SMR' 'TUR' 'KOR' 'BLR' 'JPN' 'PRI' 'SRB'\n",
      " 'LTU' 'CPV' 'AZE' 'LBN' 'CRI' 'CHL' 'THA' 'SVK' 'CMR' 'EGY' 'LIE' 'MYS'\n",
      " 'SAU' 'ZAF' 'MKD' 'MMR' 'DOM' 'IRQ' 'SGP' 'CYM' 'ZMB' 'PAN' 'ZWE' 'SEN'\n",
      " 'NGA' 'GIB' 'ARM' 'PER' 'LKA' 'KWT' 'JOR' 'KNA' 'GEO' 'TMP' 'ETH' 'ECU'\n",
      " 'MUS' 'PHL' 'CUB' 'ARE' 'BFA' 'AND' 'CYP' 'KEN' 'BIH' 'COM' 'SUR' 'JAM'\n",
      " 'HND' 'MCO' 'GNB' 'LBY' 'RWA' 'PAK' 'UGA' 'TZA' 'CIV' 'SYR' 'QAT' 'KHM'\n",
      " 'HKG' 'BGD' 'MLI' 'ISL' 'UZB' 'BHR' 'URY' 'NAM' 'BOL' 'IMN' 'BDI' 'TJK'\n",
      " 'MLT' 'MDV' 'NIC' 'SYC' 'PRY' 'BRB' 'ABW' 'GGY' 'AIA' 'VNM' 'SLV' 'PLW'\n",
      " 'BEN' 'MAC' 'DMA' 'VGB' 'JEY' 'GAB' 'PYF' 'CAF' 'LCA' 'GUY' 'ATA' 'GHA'\n",
      " 'MWI' 'MNE' 'GLP' 'GTM' 'MDG' 'ASM' 'TGO' 'NPL' 'MRT' 'BHS' 'NCL' 'UMI'\n",
      " 'FJI' 'KIR' 'SDN' 'MYT' 'ATF' 'DJI' 'SLE' 'FRO' 'LAO']\n",
      "\n",
      "market_segment: ['Direct' 'Offline TA/TO' 'Online TA' 'Corporate' 'Groups' 'Complementary'\n",
      " 'Undefined' 'Aviation']\n",
      "\n",
      "distribution_channel: ['Direct' 'TA/TO' 'Corporate' 'Undefined' 'GDS']\n",
      "\n",
      "reserved_room_type: ['C' 'A' 'D' 'E' 'F' 'G' 'H' 'B' 'L']\n",
      "\n",
      "assigned_room_type: ['C' 'A' 'E' 'B' 'D' 'I' 'F' 'G' 'H' 'L' 'K']\n",
      "\n",
      "deposit_type: ['No Deposit' 'Non Refund' 'Refundable']\n",
      "\n",
      "customer_type: ['Transient' 'Transient-Party' 'Contract' 'Group']\n",
      "\n",
      "reservation_status: ['Check-Out' 'Canceled' 'No-Show']\n",
      "\n",
      "reservation_status_date: ['7/1/2015' '7/3/2015' '6/16/2015' '6/17/2015' '7/6/2015' '6/23/2015'\n",
      " '4/30/2015' '7/8/2015' '7/5/2015' '7/2/2015' '7/15/2015' '4/22/2015'\n",
      " '7/16/2015' '5/29/2015' '7/7/2015' '5/11/2015' '5/6/2015' '6/29/2015'\n",
      " '6/15/2015' '7/4/2015' '7/13/2015' '6/25/2015' '4/23/2015' '1/1/2015'\n",
      " '10/17/2014' '7/9/2015' '6/2/2015' '4/2/2015' '6/14/2015' '3/11/2015'\n",
      " '4/3/2015' '5/23/2015' '6/19/2015' '5/18/2015' '5/19/2015' '6/12/2015'\n",
      " '7/10/2015' '6/30/2015' '6/9/2015' '5/26/2015' '4/17/2015' '7/11/2015'\n",
      " '7/12/2015' '7/17/2015' '6/18/2015' '4/15/2015' '5/13/2015' '7/14/2015'\n",
      " '5/12/2015' '7/19/2015' '1/20/2015' '5/20/2015' '5/14/2015' '3/17/2015'\n",
      " '3/9/2015' '3/3/2015' '6/1/2015' '3/30/2015' '5/1/2015' '3/4/2015'\n",
      " '2/25/2015' '6/20/2015' '6/26/2015' '4/21/2015' '5/22/2015' '6/3/2015'\n",
      " '7/20/2015' '6/27/2015' '3/31/2015' '6/4/2015' '4/13/2015' '5/28/2015'\n",
      " '4/8/2015' '4/11/2015' '7/21/2015' '5/7/2015' '7/18/2015' '3/25/2015'\n",
      " '3/6/2015' '7/22/2015' '4/5/2015' '7/23/2015' '5/25/2015' '4/20/2015'\n",
      " '7/24/2015' '6/8/2015' '6/22/2015' '2/5/2015' '4/24/2015' '3/5/2015'\n",
      " '6/24/2015' '2/26/2015' '3/13/2015' '5/27/2015' '4/6/2015' '7/25/2015'\n",
      " '7/29/2015' '7/28/2015' '4/28/2015' '5/8/2015' '2/17/2015' '6/13/2015'\n",
      " '6/11/2015' '7/30/2015' '4/29/2015' '6/5/2015' '7/27/2015' '7/26/2015'\n",
      " '2/11/2015' '5/16/2015' '8/1/2015' '8/2/2015' '3/18/2015' '4/16/2015'\n",
      " '3/24/2015' '4/4/2015' '7/31/2015' '8/10/2015' '4/14/2015' '6/10/2015'\n",
      " '8/6/2015' '8/4/2015' '8/3/2015' '8/7/2015' '2/23/2015' '5/5/2015'\n",
      " '8/8/2015' '5/15/2015' '8/5/2015' '4/10/2015' '5/9/2015' '8/13/2015'\n",
      " '8/9/2015' '8/14/2015' '8/11/2015' '6/6/2015' '5/4/2015' '9/30/2015'\n",
      " '4/25/2015' '2/9/2015' '8/15/2015' '8/12/2015' '8/16/2015' '3/28/2015'\n",
      " '3/23/2015' '8/17/2015' '5/21/2015' '3/12/2015' '1/22/2015' '1/29/2015'\n",
      " '8/19/2015' '2/10/2015' '8/21/2015' '1/28/2015' '2/12/2015' '8/22/2015'\n",
      " '3/10/2015' '8/23/2015' '8/18/2015' '8/20/2015' '8/24/2015' '8/30/2015'\n",
      " '8/28/2015' '8/27/2015' '8/26/2015' '8/29/2015' '2/24/2015' '5/30/2015'\n",
      " '8/25/2015' '8/31/2015' '9/4/2015' '9/1/2015' '9/3/2015' '9/5/2015'\n",
      " '9/2/2015' '9/6/2015' '9/10/2015' '2/6/2015' '9/8/2015' '9/11/2015'\n",
      " '9/12/2015' '9/9/2015' '9/7/2015' '9/13/2015' '9/15/2015' '2/20/2015'\n",
      " '9/19/2015' '9/17/2015' '1/2/2015' '11/18/2014' '9/14/2015' '9/18/2015'\n",
      " '4/7/2015' '9/16/2015' '9/20/2015' '9/28/2015' '10/23/2015' '9/21/2015'\n",
      " '1/18/2015' '9/22/2015' '3/29/2015' '9/24/2015' '9/25/2015' '9/26/2015'\n",
      " '9/27/2015' '10/12/2015' '9/29/2015' '9/23/2015' '2/2/2015' '1/21/2015'\n",
      " '10/1/2015' '10/2/2015' '10/3/2015' '10/4/2015' '4/18/2015' '10/7/2015'\n",
      " '10/8/2015' '2/27/2015' '10/5/2015' '10/6/2015' '10/11/2015' '10/9/2015'\n",
      " '10/10/2015' '10/13/2015' '10/14/2015' '10/15/2015' '4/27/2015'\n",
      " '10/18/2015' '1/30/2015' '10/20/2015' '10/16/2015' '10/21/2015'\n",
      " '10/19/2015' '10/17/2015' '10/31/2015' '10/22/2015' '10/25/2015'\n",
      " '10/24/2015' '11/1/2015' '10/29/2015' '10/28/2015' '10/27/2015'\n",
      " '10/26/2015' '11/5/2015' '10/30/2015' '2/19/2015' '11/7/2015' '11/3/2015'\n",
      " '11/4/2015' '11/2/2015' '11/25/2015' '11/17/2015' '11/6/2015' '11/9/2015'\n",
      " '11/8/2015' '11/15/2015' '11/10/2015' '11/12/2015' '11/16/2015'\n",
      " '11/18/2015' '11/11/2015' '11/13/2015' '11/14/2015' '12/5/2015'\n",
      " '11/29/2015' '11/22/2015' '11/27/2015' '11/19/2015' '11/20/2015'\n",
      " '11/21/2015' '11/23/2015' '11/24/2015' '11/30/2015' '11/26/2015'\n",
      " '12/3/2015' '12/4/2015' '11/28/2015' '12/7/2015' '12/6/2015' '12/1/2015'\n",
      " '12/2/2015' '12/10/2015' '12/8/2015' '12/16/2015' '12/15/2015'\n",
      " '12/31/2015' '12/17/2015' '12/22/2015' '12/11/2015' '12/9/2015'\n",
      " '12/12/2015' '12/14/2015' '1/5/2016' '12/13/2015' '12/18/2015'\n",
      " '12/19/2015' '12/26/2015' '12/20/2015' '12/21/2015' '12/29/2015'\n",
      " '12/28/2015' '1/14/2016' '12/27/2015' '12/23/2015' '12/24/2015'\n",
      " '12/30/2015' '12/25/2015' '1/2/2016' '1/4/2016' '1/3/2016' '1/1/2016'\n",
      " '1/9/2016' '1/11/2016' '1/7/2016' '1/6/2016' '1/8/2016' '1/16/2016'\n",
      " '1/10/2016' '1/22/2016' '1/19/2016' '1/12/2016' '1/13/2016' '2/11/2016'\n",
      " '1/15/2016' '1/18/2016' '1/17/2016' '1/23/2016' '1/20/2016' '1/30/2016'\n",
      " '1/21/2016' '2/9/2016' '1/25/2016' '2/1/2016' '1/24/2016' '2/14/2016'\n",
      " '1/28/2016' '1/26/2016' '1/29/2016' '1/27/2016' '1/31/2016' '2/4/2016'\n",
      " '3/8/2016' '2/3/2016' '2/2/2016' '2/10/2016' '2/6/2016' '2/13/2016'\n",
      " '2/7/2016' '2/8/2016' '2/5/2016' '2/15/2016' '2/12/2016' '3/3/2016'\n",
      " '2/17/2016' '2/20/2016' '2/24/2016' '2/28/2016' '2/29/2016' '2/16/2016'\n",
      " '2/18/2016' '2/22/2016' '2/19/2016' '2/21/2016' '2/25/2016' '3/4/2016'\n",
      " '3/1/2016' '2/23/2016' '3/2/2016' '2/26/2016' '3/5/2016' '2/27/2016'\n",
      " '3/15/2016' '3/24/2016' '3/10/2016' '3/6/2016' '3/26/2016' '3/12/2016'\n",
      " '3/7/2016' '3/9/2016' '3/11/2016' '3/23/2016' '3/30/2016' '3/17/2016'\n",
      " '3/13/2016' '3/18/2016' '3/14/2016' '3/19/2016' '3/21/2016' '3/22/2016'\n",
      " '3/16/2016' '3/20/2016' '3/25/2016' '3/27/2016' '3/31/2016' '4/1/2016'\n",
      " '3/29/2016' '3/28/2016' '4/6/2016' '4/2/2016' '4/3/2016' '4/4/2016'\n",
      " '4/5/2016' '4/26/2016' '4/9/2016' '4/8/2016' '4/11/2016' '4/7/2016'\n",
      " '4/10/2016' '4/16/2016' '4/12/2016' '4/13/2016' '4/14/2016' '4/15/2016'\n",
      " '4/17/2016' '4/22/2016' '4/23/2016' '4/21/2016' '4/20/2016' '4/27/2016'\n",
      " '4/18/2016' '4/19/2016' '4/28/2016' '4/24/2016' '4/30/2016' '4/29/2016'\n",
      " '4/25/2016' '5/12/2016' '5/1/2016' '5/3/2016' '5/2/2016' '5/10/2016'\n",
      " '5/4/2016' '5/5/2016' '5/11/2016' '5/9/2016' '5/6/2016' '5/8/2016'\n",
      " '5/7/2016' '5/15/2016' '5/16/2016' '5/13/2016' '5/17/2016' '5/14/2016'\n",
      " '5/19/2016' '5/18/2016' '5/22/2016' '5/24/2016' '5/20/2016' '5/21/2016'\n",
      " '5/26/2016' '5/23/2016' '5/25/2016' '5/28/2016' '5/27/2016' '5/31/2016'\n",
      " '5/30/2016' '6/2/2016' '5/29/2016' '6/1/2016' '6/6/2016' '6/3/2016'\n",
      " '6/8/2016' '6/5/2016' '6/4/2016' '6/7/2016' '6/12/2016' '6/9/2016'\n",
      " '6/13/2016' '6/11/2016' '6/10/2016' '6/14/2016' '6/15/2016' '6/16/2016'\n",
      " '6/17/2016' '6/19/2016' '6/18/2016' '6/20/2016' '6/21/2016' '6/23/2016'\n",
      " '6/24/2016' '6/22/2016' '6/25/2016' '7/1/2016' '6/29/2016' '6/26/2016'\n",
      " '6/30/2016' '6/27/2016' '7/2/2016' '6/28/2016' '7/3/2016' '7/4/2016'\n",
      " '7/5/2016' '7/19/2016' '7/6/2016' '7/7/2016' '7/8/2016' '7/9/2016'\n",
      " '7/10/2016' '7/13/2016' '7/12/2016' '7/14/2016' '7/15/2016' '7/11/2016'\n",
      " '7/16/2016' '7/17/2016' '7/18/2016' '9/12/2016' '7/21/2016' '7/20/2016'\n",
      " '7/23/2016' '7/24/2016' '7/25/2016' '7/22/2016' '7/26/2016' '7/28/2016'\n",
      " '7/27/2016' '7/30/2016' '7/29/2016' '7/31/2016' '8/4/2016' '8/2/2016'\n",
      " '8/3/2016' '8/6/2016' '8/1/2016' '9/9/2016' '8/7/2016' '8/8/2016'\n",
      " '8/5/2016' '8/11/2016' '8/10/2016' '8/12/2016' '8/15/2016' '8/13/2016'\n",
      " '8/9/2016' '8/14/2016' '8/22/2016' '8/16/2016' '8/18/2016' '8/17/2016'\n",
      " '8/19/2016' '8/20/2016' '8/21/2016' '9/2/2016' '8/24/2016' '8/26/2016'\n",
      " '8/25/2016' '8/23/2016' '8/27/2016' '8/28/2016' '8/30/2016' '8/29/2016'\n",
      " '9/3/2016' '9/1/2016' '9/4/2016' '8/31/2016' '9/5/2016' '9/11/2016'\n",
      " '9/7/2016' '9/10/2016' '9/8/2016' '9/6/2016' '9/13/2016' '9/14/2016'\n",
      " '9/15/2016' '9/18/2016' '9/19/2016' '9/20/2016' '9/26/2016' '9/16/2016'\n",
      " '9/17/2016' '9/21/2016' '9/22/2016' '9/23/2016' '9/24/2016' '9/25/2016'\n",
      " '9/30/2016' '9/28/2016' '9/29/2016' '10/8/2016' '10/15/2016' '10/2/2016'\n",
      " '10/1/2016' '10/4/2016' '10/3/2016' '9/27/2016' '10/5/2016' '10/7/2016'\n",
      " '10/6/2016' '10/9/2016' '10/11/2016' '10/14/2016' '10/10/2016'\n",
      " '10/12/2016' '10/16/2016' '10/13/2016' '10/18/2016' '10/20/2016'\n",
      " '10/21/2016' '10/17/2016' '10/23/2016' '10/22/2016' '10/19/2016'\n",
      " '10/27/2016' '10/24/2016' '10/26/2016' '10/30/2016' '10/31/2016'\n",
      " '10/28/2016' '10/25/2016' '11/11/2016' '11/2/2016' '11/1/2016'\n",
      " '10/29/2016' '11/3/2016' '11/8/2016' '11/5/2016' '11/6/2016' '11/4/2016'\n",
      " '11/13/2016' '11/9/2016' '11/14/2016' '11/7/2016' '11/21/2016'\n",
      " '11/12/2016' '11/10/2016' '11/16/2016' '11/15/2016' '11/17/2016'\n",
      " '11/18/2016' '11/20/2016' '11/28/2016' '11/23/2016' '12/8/2016'\n",
      " '11/19/2016' '11/26/2016' '11/24/2016' '12/18/2016' '11/22/2016'\n",
      " '11/30/2016' '12/3/2016' '11/29/2016' '11/25/2016' '11/27/2016'\n",
      " '12/1/2016' '12/10/2016' '12/2/2016' '12/4/2016' '12/28/2016' '12/7/2016'\n",
      " '12/9/2016' '12/12/2016' '12/6/2016' '12/5/2016' '12/15/2016'\n",
      " '12/11/2016' '12/13/2016' '12/22/2016' '12/14/2016' '12/16/2016'\n",
      " '12/17/2016' '12/20/2016' '12/24/2016' '1/10/2017' '12/19/2016'\n",
      " '12/27/2016' '12/21/2016' '1/5/2017' '12/30/2016' '12/23/2016'\n",
      " '1/14/2017' '12/25/2016' '12/26/2016' '12/31/2016' '12/29/2016'\n",
      " '1/1/2017' '1/4/2017' '1/3/2017' '1/7/2017' '1/2/2017' '1/6/2017'\n",
      " '1/8/2017' '1/12/2017' '1/9/2017' '1/11/2017' '1/17/2017' '1/13/2017'\n",
      " '1/27/2017' '1/26/2017' '2/10/2017' '1/20/2017' '1/16/2017' '1/21/2017'\n",
      " '1/29/2017' '1/15/2017' '2/5/2017' '1/18/2017' '1/24/2017' '3/7/2017'\n",
      " '1/19/2017' '1/23/2017' '1/22/2017' '2/18/2017' '1/28/2017' '1/30/2017'\n",
      " '1/31/2017' '1/25/2017' '2/3/2017' '2/2/2017' '2/28/2017' '2/7/2017'\n",
      " '2/11/2017' '2/9/2017' '2/1/2017' '2/4/2017' '2/6/2017' '2/8/2017'\n",
      " '2/24/2017' '2/12/2017' '3/20/2017' '3/3/2017' '2/15/2017' '2/13/2017'\n",
      " '2/25/2017' '2/14/2017' '2/27/2017' '2/20/2017' '2/19/2017' '2/16/2017'\n",
      " '2/17/2017' '2/23/2017' '2/21/2017' '2/26/2017' '3/6/2017' '2/22/2017'\n",
      " '3/8/2017' '3/2/2017' '3/10/2017' '3/31/2017' '3/1/2017' '3/5/2017'\n",
      " '3/23/2017' '3/9/2017' '3/4/2017' '3/18/2017' '4/9/2017' '3/11/2017'\n",
      " '3/26/2017' '3/15/2017' '3/13/2017' '3/12/2017' '3/19/2017' '4/12/2017'\n",
      " '3/14/2017' '3/17/2017' '3/21/2017' '3/22/2017' '4/5/2017' '3/16/2017'\n",
      " '3/25/2017' '4/4/2017' '3/24/2017' '3/29/2017' '4/1/2017' '3/30/2017'\n",
      " '3/28/2017' '3/27/2017' '4/3/2017' '4/7/2017' '4/2/2017' '4/8/2017'\n",
      " '4/6/2017' '4/11/2017' '4/10/2017' '4/14/2017' '4/19/2017' '4/13/2017'\n",
      " '4/15/2017' '4/17/2017' '4/18/2017' '4/20/2017' '4/23/2017' '4/16/2017'\n",
      " '4/22/2017' '4/21/2017' '5/6/2017' '4/29/2017' '4/28/2017' '4/24/2017'\n",
      " '4/25/2017' '4/27/2017' '4/26/2017' '5/1/2017' '5/4/2017' '5/2/2017'\n",
      " '4/30/2017' '5/7/2017' '5/8/2017' '5/3/2017' '5/5/2017' '5/9/2017'\n",
      " '5/11/2017' '5/15/2017' '5/20/2017' '5/16/2017' '5/10/2017' '5/17/2017'\n",
      " '5/18/2017' '5/14/2017' '5/13/2017' '5/23/2017' '5/12/2017' '5/19/2017'\n",
      " '5/22/2017' '5/21/2017' '5/30/2017' '5/24/2017' '5/25/2017' '5/26/2017'\n",
      " '5/29/2017' '5/31/2017' '5/27/2017' '6/1/2017' '5/28/2017' '6/2/2017'\n",
      " '6/5/2017' '6/6/2017' '6/8/2017' '6/9/2017' '6/3/2017' '6/4/2017'\n",
      " '6/11/2017' '6/7/2017' '6/12/2017' '6/15/2017' '6/10/2017' '6/16/2017'\n",
      " '6/17/2017' '6/13/2017' '6/18/2017' '6/14/2017' '6/19/2017' '6/27/2017'\n",
      " '6/21/2017' '6/20/2017' '6/22/2017' '6/23/2017' '6/24/2017' '6/25/2017'\n",
      " '6/26/2017' '6/28/2017' '6/29/2017' '6/30/2017' '7/1/2017' '7/2/2017'\n",
      " '7/3/2017' '7/4/2017' '7/5/2017' '7/10/2017' '7/6/2017' '7/7/2017'\n",
      " '7/9/2017' '7/8/2017' '7/11/2017' '7/12/2017' '7/13/2017' '7/31/2017'\n",
      " '7/15/2017' '7/16/2017' '7/14/2017' '7/17/2017' '7/26/2017' '7/18/2017'\n",
      " '7/20/2017' '7/21/2017' '7/22/2017' '7/23/2017' '7/19/2017' '7/24/2017'\n",
      " '7/25/2017' '7/27/2017' '7/28/2017' '7/30/2017' '8/1/2017' '7/29/2017'\n",
      " '8/3/2017' '8/5/2017' '8/2/2017' '8/6/2017' '8/4/2017' '8/11/2017'\n",
      " '8/10/2017' '8/23/2017' '8/8/2017' '8/9/2017' '8/7/2017' '8/13/2017'\n",
      " '8/12/2017' '8/17/2017' '8/16/2017' '8/19/2017' '8/15/2017' '8/20/2017'\n",
      " '8/14/2017' '8/18/2017' '8/21/2017' '8/22/2017' '8/24/2017' '8/27/2017'\n",
      " '8/25/2017' '8/29/2017' '8/30/2017' '8/26/2017' '8/28/2017' '9/2/2017'\n",
      " '9/1/2017' '8/31/2017' '9/4/2017' '9/7/2017' '9/10/2017' '9/8/2017'\n",
      " '9/6/2017' '9/9/2017' '9/5/2017' '9/3/2017' '9/12/2017' '9/14/2017']\n",
      "\n",
      "family_type: ['Couple' 'Single' 'Adult Group' 'Family']\n",
      "\n",
      "preferred_day: ['weekday' 'weekend']\n",
      "\n"
     ]
    }
   ],
   "source": [
    "# printing unique values of each column\n",
    "for col in categorical_cols:\n",
    "    print(f\"{col}: {df[col].unique()}\\n\")"
   ]
  },
  {
   "cell_type": "code",
   "execution_count": 28,
   "metadata": {},
   "outputs": [
    {
     "data": {
      "text/html": [
       "<div>\n",
       "<style scoped>\n",
       "    .dataframe tbody tr th:only-of-type {\n",
       "        vertical-align: middle;\n",
       "    }\n",
       "\n",
       "    .dataframe tbody tr th {\n",
       "        vertical-align: top;\n",
       "    }\n",
       "\n",
       "    .dataframe thead th {\n",
       "        text-align: right;\n",
       "    }\n",
       "</style>\n",
       "<table border=\"1\" class=\"dataframe\">\n",
       "  <thead>\n",
       "    <tr style=\"text-align: right;\">\n",
       "      <th></th>\n",
       "      <th>hotel</th>\n",
       "      <th>arrival_date_month</th>\n",
       "      <th>meal</th>\n",
       "      <th>country</th>\n",
       "      <th>market_segment</th>\n",
       "      <th>distribution_channel</th>\n",
       "      <th>reserved_room_type</th>\n",
       "      <th>assigned_room_type</th>\n",
       "      <th>deposit_type</th>\n",
       "      <th>customer_type</th>\n",
       "      <th>reservation_status</th>\n",
       "      <th>reservation_status_date</th>\n",
       "      <th>family_type</th>\n",
       "      <th>preferred_day</th>\n",
       "    </tr>\n",
       "  </thead>\n",
       "  <tbody>\n",
       "    <tr>\n",
       "      <th>0</th>\n",
       "      <td>Resort Hotel</td>\n",
       "      <td>July</td>\n",
       "      <td>BB</td>\n",
       "      <td>PRT</td>\n",
       "      <td>Direct</td>\n",
       "      <td>Direct</td>\n",
       "      <td>C</td>\n",
       "      <td>C</td>\n",
       "      <td>No Deposit</td>\n",
       "      <td>Transient</td>\n",
       "      <td>Check-Out</td>\n",
       "      <td>7/1/2015</td>\n",
       "      <td>Couple</td>\n",
       "      <td>weekday</td>\n",
       "    </tr>\n",
       "    <tr>\n",
       "      <th>75559</th>\n",
       "      <td>City Hotel</td>\n",
       "      <td>July</td>\n",
       "      <td>HB</td>\n",
       "      <td>PRT</td>\n",
       "      <td>Offline TA/TO</td>\n",
       "      <td>TA/TO</td>\n",
       "      <td>A</td>\n",
       "      <td>A</td>\n",
       "      <td>No Deposit</td>\n",
       "      <td>Transient</td>\n",
       "      <td>Check-Out</td>\n",
       "      <td>7/3/2015</td>\n",
       "      <td>Single</td>\n",
       "      <td>weekday</td>\n",
       "    </tr>\n",
       "    <tr>\n",
       "      <th>75560</th>\n",
       "      <td>City Hotel</td>\n",
       "      <td>July</td>\n",
       "      <td>HB</td>\n",
       "      <td>PRT</td>\n",
       "      <td>Offline TA/TO</td>\n",
       "      <td>TA/TO</td>\n",
       "      <td>A</td>\n",
       "      <td>A</td>\n",
       "      <td>No Deposit</td>\n",
       "      <td>Transient</td>\n",
       "      <td>Check-Out</td>\n",
       "      <td>7/3/2015</td>\n",
       "      <td>Couple</td>\n",
       "      <td>weekday</td>\n",
       "    </tr>\n",
       "    <tr>\n",
       "      <th>75561</th>\n",
       "      <td>City Hotel</td>\n",
       "      <td>July</td>\n",
       "      <td>HB</td>\n",
       "      <td>PRT</td>\n",
       "      <td>Offline TA/TO</td>\n",
       "      <td>TA/TO</td>\n",
       "      <td>A</td>\n",
       "      <td>A</td>\n",
       "      <td>No Deposit</td>\n",
       "      <td>Transient</td>\n",
       "      <td>Check-Out</td>\n",
       "      <td>7/3/2015</td>\n",
       "      <td>Couple</td>\n",
       "      <td>weekday</td>\n",
       "    </tr>\n",
       "    <tr>\n",
       "      <th>75562</th>\n",
       "      <td>City Hotel</td>\n",
       "      <td>July</td>\n",
       "      <td>HB</td>\n",
       "      <td>PRT</td>\n",
       "      <td>Offline TA/TO</td>\n",
       "      <td>TA/TO</td>\n",
       "      <td>A</td>\n",
       "      <td>A</td>\n",
       "      <td>No Deposit</td>\n",
       "      <td>Transient</td>\n",
       "      <td>Check-Out</td>\n",
       "      <td>7/3/2015</td>\n",
       "      <td>Couple</td>\n",
       "      <td>weekday</td>\n",
       "    </tr>\n",
       "    <tr>\n",
       "      <th>...</th>\n",
       "      <td>...</td>\n",
       "      <td>...</td>\n",
       "      <td>...</td>\n",
       "      <td>...</td>\n",
       "      <td>...</td>\n",
       "      <td>...</td>\n",
       "      <td>...</td>\n",
       "      <td>...</td>\n",
       "      <td>...</td>\n",
       "      <td>...</td>\n",
       "      <td>...</td>\n",
       "      <td>...</td>\n",
       "      <td>...</td>\n",
       "      <td>...</td>\n",
       "    </tr>\n",
       "    <tr>\n",
       "      <th>40039</th>\n",
       "      <td>Resort Hotel</td>\n",
       "      <td>August</td>\n",
       "      <td>HB</td>\n",
       "      <td>GBR</td>\n",
       "      <td>Online TA</td>\n",
       "      <td>TA/TO</td>\n",
       "      <td>E</td>\n",
       "      <td>E</td>\n",
       "      <td>No Deposit</td>\n",
       "      <td>Transient</td>\n",
       "      <td>Check-Out</td>\n",
       "      <td>9/7/2017</td>\n",
       "      <td>Couple</td>\n",
       "      <td>weekday</td>\n",
       "    </tr>\n",
       "    <tr>\n",
       "      <th>40040</th>\n",
       "      <td>Resort Hotel</td>\n",
       "      <td>August</td>\n",
       "      <td>HB</td>\n",
       "      <td>ITA</td>\n",
       "      <td>Online TA</td>\n",
       "      <td>TA/TO</td>\n",
       "      <td>G</td>\n",
       "      <td>G</td>\n",
       "      <td>No Deposit</td>\n",
       "      <td>Transient</td>\n",
       "      <td>Check-Out</td>\n",
       "      <td>9/7/2017</td>\n",
       "      <td>Family</td>\n",
       "      <td>weekday</td>\n",
       "    </tr>\n",
       "    <tr>\n",
       "      <th>13794</th>\n",
       "      <td>Resort Hotel</td>\n",
       "      <td>August</td>\n",
       "      <td>HB</td>\n",
       "      <td>ESP</td>\n",
       "      <td>Online TA</td>\n",
       "      <td>TA/TO</td>\n",
       "      <td>A</td>\n",
       "      <td>A</td>\n",
       "      <td>No Deposit</td>\n",
       "      <td>Transient</td>\n",
       "      <td>Canceled</td>\n",
       "      <td>8/14/2017</td>\n",
       "      <td>Couple</td>\n",
       "      <td>weekday</td>\n",
       "    </tr>\n",
       "    <tr>\n",
       "      <th>40038</th>\n",
       "      <td>Resort Hotel</td>\n",
       "      <td>August</td>\n",
       "      <td>HB</td>\n",
       "      <td>GBR</td>\n",
       "      <td>Offline TA/TO</td>\n",
       "      <td>TA/TO</td>\n",
       "      <td>D</td>\n",
       "      <td>D</td>\n",
       "      <td>No Deposit</td>\n",
       "      <td>Contract</td>\n",
       "      <td>Check-Out</td>\n",
       "      <td>9/7/2017</td>\n",
       "      <td>Couple</td>\n",
       "      <td>weekday</td>\n",
       "    </tr>\n",
       "    <tr>\n",
       "      <th>117424</th>\n",
       "      <td>City Hotel</td>\n",
       "      <td>August</td>\n",
       "      <td>BB</td>\n",
       "      <td>PRT</td>\n",
       "      <td>Corporate</td>\n",
       "      <td>Corporate</td>\n",
       "      <td>A</td>\n",
       "      <td>A</td>\n",
       "      <td>No Deposit</td>\n",
       "      <td>Transient</td>\n",
       "      <td>Check-Out</td>\n",
       "      <td>9/1/2017</td>\n",
       "      <td>Family</td>\n",
       "      <td>weekday</td>\n",
       "    </tr>\n",
       "  </tbody>\n",
       "</table>\n",
       "<p>118987 rows × 14 columns</p>\n",
       "</div>"
      ],
      "text/plain": [
       "               hotel arrival_date_month meal country market_segment  \\\n",
       "0       Resort Hotel               July   BB     PRT         Direct   \n",
       "75559     City Hotel               July   HB     PRT  Offline TA/TO   \n",
       "75560     City Hotel               July   HB     PRT  Offline TA/TO   \n",
       "75561     City Hotel               July   HB     PRT  Offline TA/TO   \n",
       "75562     City Hotel               July   HB     PRT  Offline TA/TO   \n",
       "...              ...                ...  ...     ...            ...   \n",
       "40039   Resort Hotel             August   HB     GBR      Online TA   \n",
       "40040   Resort Hotel             August   HB     ITA      Online TA   \n",
       "13794   Resort Hotel             August   HB     ESP      Online TA   \n",
       "40038   Resort Hotel             August   HB     GBR  Offline TA/TO   \n",
       "117424    City Hotel             August   BB     PRT      Corporate   \n",
       "\n",
       "       distribution_channel reserved_room_type assigned_room_type  \\\n",
       "0                    Direct                  C                  C   \n",
       "75559                 TA/TO                  A                  A   \n",
       "75560                 TA/TO                  A                  A   \n",
       "75561                 TA/TO                  A                  A   \n",
       "75562                 TA/TO                  A                  A   \n",
       "...                     ...                ...                ...   \n",
       "40039                 TA/TO                  E                  E   \n",
       "40040                 TA/TO                  G                  G   \n",
       "13794                 TA/TO                  A                  A   \n",
       "40038                 TA/TO                  D                  D   \n",
       "117424            Corporate                  A                  A   \n",
       "\n",
       "       deposit_type customer_type reservation_status reservation_status_date  \\\n",
       "0        No Deposit     Transient          Check-Out                7/1/2015   \n",
       "75559    No Deposit     Transient          Check-Out                7/3/2015   \n",
       "75560    No Deposit     Transient          Check-Out                7/3/2015   \n",
       "75561    No Deposit     Transient          Check-Out                7/3/2015   \n",
       "75562    No Deposit     Transient          Check-Out                7/3/2015   \n",
       "...             ...           ...                ...                     ...   \n",
       "40039    No Deposit     Transient          Check-Out                9/7/2017   \n",
       "40040    No Deposit     Transient          Check-Out                9/7/2017   \n",
       "13794    No Deposit     Transient           Canceled               8/14/2017   \n",
       "40038    No Deposit      Contract          Check-Out                9/7/2017   \n",
       "117424   No Deposit     Transient          Check-Out                9/1/2017   \n",
       "\n",
       "       family_type preferred_day  \n",
       "0           Couple       weekday  \n",
       "75559       Single       weekday  \n",
       "75560       Couple       weekday  \n",
       "75561       Couple       weekday  \n",
       "75562       Couple       weekday  \n",
       "...            ...           ...  \n",
       "40039       Couple       weekday  \n",
       "40040       Family       weekday  \n",
       "13794       Couple       weekday  \n",
       "40038       Couple       weekday  \n",
       "117424      Family       weekday  \n",
       "\n",
       "[118987 rows x 14 columns]"
      ]
     },
     "execution_count": 28,
     "metadata": {},
     "output_type": "execute_result"
    }
   ],
   "source": [
    "data = df.copy(deep=True)\n",
    "data[categorical_cols]"
   ]
  },
  {
   "cell_type": "code",
   "execution_count": 29,
   "metadata": {},
   "outputs": [
    {
     "name": "stdout",
     "output_type": "stream",
     "text": [
      "Number of rows dropped: 1174\n"
     ]
    }
   ],
   "source": [
    "#There are undefined values in market_segment, distribution_channel and meals. \n",
    "#Drop these rows\n",
    "to_drop = len(data[(data['market_segment']=='Undefined') | \n",
    "                 (data['distribution_channel']=='Undefined')|(data['meal']=='Undefined')])\n",
    "print(f\"Number of rows dropped: {to_drop}\")\n",
    "data = data[~((data['market_segment']=='Undefined') | \n",
    "                 (data['distribution_channel']=='Undefined')|(data['meal']=='Undefined'))]"
   ]
  },
  {
   "cell_type": "code",
   "execution_count": 30,
   "metadata": {},
   "outputs": [
    {
     "data": {
      "text/html": [
       "<div>\n",
       "<style scoped>\n",
       "    .dataframe tbody tr th:only-of-type {\n",
       "        vertical-align: middle;\n",
       "    }\n",
       "\n",
       "    .dataframe tbody tr th {\n",
       "        vertical-align: top;\n",
       "    }\n",
       "\n",
       "    .dataframe thead th {\n",
       "        text-align: right;\n",
       "    }\n",
       "</style>\n",
       "<table border=\"1\" class=\"dataframe\">\n",
       "  <thead>\n",
       "    <tr style=\"text-align: right;\">\n",
       "      <th></th>\n",
       "      <th>hotel</th>\n",
       "      <th>is_canceled</th>\n",
       "      <th>lead_time</th>\n",
       "      <th>arrival_date_year</th>\n",
       "      <th>arrival_date_month</th>\n",
       "      <th>arrival_date_week_number</th>\n",
       "      <th>arrival_date_day_of_month</th>\n",
       "      <th>stays_in_weekend_nights</th>\n",
       "      <th>stays_in_week_nights</th>\n",
       "      <th>adults</th>\n",
       "      <th>...</th>\n",
       "      <th>required_car_parking_spaces</th>\n",
       "      <th>total_of_special_requests</th>\n",
       "      <th>reservation_status</th>\n",
       "      <th>reservation_status_date</th>\n",
       "      <th>arrival_date</th>\n",
       "      <th>family_type</th>\n",
       "      <th>room_change</th>\n",
       "      <th>preferred_day</th>\n",
       "      <th>had_cancellations</th>\n",
       "      <th>driving</th>\n",
       "    </tr>\n",
       "  </thead>\n",
       "  <tbody>\n",
       "    <tr>\n",
       "      <th>0</th>\n",
       "      <td>Resort Hotel</td>\n",
       "      <td>0</td>\n",
       "      <td>342</td>\n",
       "      <td>2015</td>\n",
       "      <td>July</td>\n",
       "      <td>27</td>\n",
       "      <td>1</td>\n",
       "      <td>0</td>\n",
       "      <td>0</td>\n",
       "      <td>2</td>\n",
       "      <td>...</td>\n",
       "      <td>0</td>\n",
       "      <td>0</td>\n",
       "      <td>Check-Out</td>\n",
       "      <td>7/1/2015</td>\n",
       "      <td>2015-07-01</td>\n",
       "      <td>Couple</td>\n",
       "      <td>False</td>\n",
       "      <td>weekday</td>\n",
       "      <td>False</td>\n",
       "      <td>False</td>\n",
       "    </tr>\n",
       "    <tr>\n",
       "      <th>75559</th>\n",
       "      <td>City Hotel</td>\n",
       "      <td>0</td>\n",
       "      <td>257</td>\n",
       "      <td>2015</td>\n",
       "      <td>July</td>\n",
       "      <td>27</td>\n",
       "      <td>1</td>\n",
       "      <td>0</td>\n",
       "      <td>2</td>\n",
       "      <td>1</td>\n",
       "      <td>...</td>\n",
       "      <td>0</td>\n",
       "      <td>0</td>\n",
       "      <td>Check-Out</td>\n",
       "      <td>7/3/2015</td>\n",
       "      <td>2015-07-01</td>\n",
       "      <td>Single</td>\n",
       "      <td>False</td>\n",
       "      <td>weekday</td>\n",
       "      <td>False</td>\n",
       "      <td>False</td>\n",
       "    </tr>\n",
       "    <tr>\n",
       "      <th>75560</th>\n",
       "      <td>City Hotel</td>\n",
       "      <td>0</td>\n",
       "      <td>257</td>\n",
       "      <td>2015</td>\n",
       "      <td>July</td>\n",
       "      <td>27</td>\n",
       "      <td>1</td>\n",
       "      <td>0</td>\n",
       "      <td>2</td>\n",
       "      <td>2</td>\n",
       "      <td>...</td>\n",
       "      <td>0</td>\n",
       "      <td>0</td>\n",
       "      <td>Check-Out</td>\n",
       "      <td>7/3/2015</td>\n",
       "      <td>2015-07-01</td>\n",
       "      <td>Couple</td>\n",
       "      <td>False</td>\n",
       "      <td>weekday</td>\n",
       "      <td>False</td>\n",
       "      <td>False</td>\n",
       "    </tr>\n",
       "    <tr>\n",
       "      <th>75561</th>\n",
       "      <td>City Hotel</td>\n",
       "      <td>0</td>\n",
       "      <td>257</td>\n",
       "      <td>2015</td>\n",
       "      <td>July</td>\n",
       "      <td>27</td>\n",
       "      <td>1</td>\n",
       "      <td>0</td>\n",
       "      <td>2</td>\n",
       "      <td>2</td>\n",
       "      <td>...</td>\n",
       "      <td>0</td>\n",
       "      <td>0</td>\n",
       "      <td>Check-Out</td>\n",
       "      <td>7/3/2015</td>\n",
       "      <td>2015-07-01</td>\n",
       "      <td>Couple</td>\n",
       "      <td>False</td>\n",
       "      <td>weekday</td>\n",
       "      <td>False</td>\n",
       "      <td>False</td>\n",
       "    </tr>\n",
       "    <tr>\n",
       "      <th>75562</th>\n",
       "      <td>City Hotel</td>\n",
       "      <td>0</td>\n",
       "      <td>257</td>\n",
       "      <td>2015</td>\n",
       "      <td>July</td>\n",
       "      <td>27</td>\n",
       "      <td>1</td>\n",
       "      <td>0</td>\n",
       "      <td>2</td>\n",
       "      <td>2</td>\n",
       "      <td>...</td>\n",
       "      <td>0</td>\n",
       "      <td>0</td>\n",
       "      <td>Check-Out</td>\n",
       "      <td>7/3/2015</td>\n",
       "      <td>2015-07-01</td>\n",
       "      <td>Couple</td>\n",
       "      <td>False</td>\n",
       "      <td>weekday</td>\n",
       "      <td>False</td>\n",
       "      <td>False</td>\n",
       "    </tr>\n",
       "    <tr>\n",
       "      <th>...</th>\n",
       "      <td>...</td>\n",
       "      <td>...</td>\n",
       "      <td>...</td>\n",
       "      <td>...</td>\n",
       "      <td>...</td>\n",
       "      <td>...</td>\n",
       "      <td>...</td>\n",
       "      <td>...</td>\n",
       "      <td>...</td>\n",
       "      <td>...</td>\n",
       "      <td>...</td>\n",
       "      <td>...</td>\n",
       "      <td>...</td>\n",
       "      <td>...</td>\n",
       "      <td>...</td>\n",
       "      <td>...</td>\n",
       "      <td>...</td>\n",
       "      <td>...</td>\n",
       "      <td>...</td>\n",
       "      <td>...</td>\n",
       "      <td>...</td>\n",
       "    </tr>\n",
       "    <tr>\n",
       "      <th>40039</th>\n",
       "      <td>Resort Hotel</td>\n",
       "      <td>0</td>\n",
       "      <td>108</td>\n",
       "      <td>2017</td>\n",
       "      <td>August</td>\n",
       "      <td>35</td>\n",
       "      <td>31</td>\n",
       "      <td>2</td>\n",
       "      <td>5</td>\n",
       "      <td>2</td>\n",
       "      <td>...</td>\n",
       "      <td>0</td>\n",
       "      <td>1</td>\n",
       "      <td>Check-Out</td>\n",
       "      <td>9/7/2017</td>\n",
       "      <td>2017-08-31</td>\n",
       "      <td>Couple</td>\n",
       "      <td>False</td>\n",
       "      <td>weekday</td>\n",
       "      <td>False</td>\n",
       "      <td>False</td>\n",
       "    </tr>\n",
       "    <tr>\n",
       "      <th>40040</th>\n",
       "      <td>Resort Hotel</td>\n",
       "      <td>0</td>\n",
       "      <td>194</td>\n",
       "      <td>2017</td>\n",
       "      <td>August</td>\n",
       "      <td>35</td>\n",
       "      <td>31</td>\n",
       "      <td>2</td>\n",
       "      <td>5</td>\n",
       "      <td>2</td>\n",
       "      <td>...</td>\n",
       "      <td>1</td>\n",
       "      <td>1</td>\n",
       "      <td>Check-Out</td>\n",
       "      <td>9/7/2017</td>\n",
       "      <td>2017-08-31</td>\n",
       "      <td>Family</td>\n",
       "      <td>False</td>\n",
       "      <td>weekday</td>\n",
       "      <td>False</td>\n",
       "      <td>True</td>\n",
       "    </tr>\n",
       "    <tr>\n",
       "      <th>13794</th>\n",
       "      <td>Resort Hotel</td>\n",
       "      <td>1</td>\n",
       "      <td>17</td>\n",
       "      <td>2017</td>\n",
       "      <td>August</td>\n",
       "      <td>35</td>\n",
       "      <td>31</td>\n",
       "      <td>0</td>\n",
       "      <td>3</td>\n",
       "      <td>2</td>\n",
       "      <td>...</td>\n",
       "      <td>0</td>\n",
       "      <td>2</td>\n",
       "      <td>Canceled</td>\n",
       "      <td>8/14/2017</td>\n",
       "      <td>2017-08-31</td>\n",
       "      <td>Couple</td>\n",
       "      <td>False</td>\n",
       "      <td>weekday</td>\n",
       "      <td>False</td>\n",
       "      <td>False</td>\n",
       "    </tr>\n",
       "    <tr>\n",
       "      <th>40038</th>\n",
       "      <td>Resort Hotel</td>\n",
       "      <td>0</td>\n",
       "      <td>191</td>\n",
       "      <td>2017</td>\n",
       "      <td>August</td>\n",
       "      <td>35</td>\n",
       "      <td>31</td>\n",
       "      <td>2</td>\n",
       "      <td>5</td>\n",
       "      <td>2</td>\n",
       "      <td>...</td>\n",
       "      <td>0</td>\n",
       "      <td>0</td>\n",
       "      <td>Check-Out</td>\n",
       "      <td>9/7/2017</td>\n",
       "      <td>2017-08-31</td>\n",
       "      <td>Couple</td>\n",
       "      <td>False</td>\n",
       "      <td>weekday</td>\n",
       "      <td>False</td>\n",
       "      <td>False</td>\n",
       "    </tr>\n",
       "    <tr>\n",
       "      <th>117424</th>\n",
       "      <td>City Hotel</td>\n",
       "      <td>0</td>\n",
       "      <td>3</td>\n",
       "      <td>2017</td>\n",
       "      <td>August</td>\n",
       "      <td>35</td>\n",
       "      <td>31</td>\n",
       "      <td>0</td>\n",
       "      <td>1</td>\n",
       "      <td>2</td>\n",
       "      <td>...</td>\n",
       "      <td>0</td>\n",
       "      <td>4</td>\n",
       "      <td>Check-Out</td>\n",
       "      <td>9/1/2017</td>\n",
       "      <td>2017-08-31</td>\n",
       "      <td>Family</td>\n",
       "      <td>False</td>\n",
       "      <td>weekday</td>\n",
       "      <td>False</td>\n",
       "      <td>False</td>\n",
       "    </tr>\n",
       "  </tbody>\n",
       "</table>\n",
       "<p>117813 rows × 37 columns</p>\n",
       "</div>"
      ],
      "text/plain": [
       "               hotel  is_canceled  lead_time  arrival_date_year  \\\n",
       "0       Resort Hotel            0        342               2015   \n",
       "75559     City Hotel            0        257               2015   \n",
       "75560     City Hotel            0        257               2015   \n",
       "75561     City Hotel            0        257               2015   \n",
       "75562     City Hotel            0        257               2015   \n",
       "...              ...          ...        ...                ...   \n",
       "40039   Resort Hotel            0        108               2017   \n",
       "40040   Resort Hotel            0        194               2017   \n",
       "13794   Resort Hotel            1         17               2017   \n",
       "40038   Resort Hotel            0        191               2017   \n",
       "117424    City Hotel            0          3               2017   \n",
       "\n",
       "       arrival_date_month  arrival_date_week_number  \\\n",
       "0                    July                        27   \n",
       "75559                July                        27   \n",
       "75560                July                        27   \n",
       "75561                July                        27   \n",
       "75562                July                        27   \n",
       "...                   ...                       ...   \n",
       "40039              August                        35   \n",
       "40040              August                        35   \n",
       "13794              August                        35   \n",
       "40038              August                        35   \n",
       "117424             August                        35   \n",
       "\n",
       "        arrival_date_day_of_month  stays_in_weekend_nights  \\\n",
       "0                               1                        0   \n",
       "75559                           1                        0   \n",
       "75560                           1                        0   \n",
       "75561                           1                        0   \n",
       "75562                           1                        0   \n",
       "...                           ...                      ...   \n",
       "40039                          31                        2   \n",
       "40040                          31                        2   \n",
       "13794                          31                        0   \n",
       "40038                          31                        2   \n",
       "117424                         31                        0   \n",
       "\n",
       "        stays_in_week_nights  adults  ...  required_car_parking_spaces  \\\n",
       "0                          0       2  ...                            0   \n",
       "75559                      2       1  ...                            0   \n",
       "75560                      2       2  ...                            0   \n",
       "75561                      2       2  ...                            0   \n",
       "75562                      2       2  ...                            0   \n",
       "...                      ...     ...  ...                          ...   \n",
       "40039                      5       2  ...                            0   \n",
       "40040                      5       2  ...                            1   \n",
       "13794                      3       2  ...                            0   \n",
       "40038                      5       2  ...                            0   \n",
       "117424                     1       2  ...                            0   \n",
       "\n",
       "        total_of_special_requests reservation_status reservation_status_date  \\\n",
       "0                               0          Check-Out                7/1/2015   \n",
       "75559                           0          Check-Out                7/3/2015   \n",
       "75560                           0          Check-Out                7/3/2015   \n",
       "75561                           0          Check-Out                7/3/2015   \n",
       "75562                           0          Check-Out                7/3/2015   \n",
       "...                           ...                ...                     ...   \n",
       "40039                           1          Check-Out                9/7/2017   \n",
       "40040                           1          Check-Out                9/7/2017   \n",
       "13794                           2           Canceled               8/14/2017   \n",
       "40038                           0          Check-Out                9/7/2017   \n",
       "117424                          4          Check-Out                9/1/2017   \n",
       "\n",
       "       arrival_date family_type  room_change  preferred_day  \\\n",
       "0        2015-07-01      Couple        False        weekday   \n",
       "75559    2015-07-01      Single        False        weekday   \n",
       "75560    2015-07-01      Couple        False        weekday   \n",
       "75561    2015-07-01      Couple        False        weekday   \n",
       "75562    2015-07-01      Couple        False        weekday   \n",
       "...             ...         ...          ...            ...   \n",
       "40039    2017-08-31      Couple        False        weekday   \n",
       "40040    2017-08-31      Family        False        weekday   \n",
       "13794    2017-08-31      Couple        False        weekday   \n",
       "40038    2017-08-31      Couple        False        weekday   \n",
       "117424   2017-08-31      Family        False        weekday   \n",
       "\n",
       "        had_cancellations driving  \n",
       "0                   False   False  \n",
       "75559               False   False  \n",
       "75560               False   False  \n",
       "75561               False   False  \n",
       "75562               False   False  \n",
       "...                   ...     ...  \n",
       "40039               False   False  \n",
       "40040               False    True  \n",
       "13794               False   False  \n",
       "40038               False   False  \n",
       "117424              False   False  \n",
       "\n",
       "[117813 rows x 37 columns]"
      ]
     },
     "execution_count": 30,
     "metadata": {},
     "output_type": "execute_result"
    }
   ],
   "source": [
    "data"
   ]
  },
  {
   "cell_type": "markdown",
   "metadata": {},
   "source": [
    "### Selecting columns for customer persona\n",
    "For modelling customer personas, we may not need all columns. Only a certain columns relevant to the customer will be used here. Since the data is already customer centric, there is no need to pivot the table in any sense\n",
    "**Columns that will be used for customer persona**\n",
    "1. `hotel`\n",
    "2. `had_cancellations`\n",
    "3. `is_repeated_guest`\n",
    "4. `driving`\n",
    "5. `adr`\n",
    "6. `customer_type`\n",
    "7. `market_segment`\n",
    "8. `family_type`\n",
    "9. `preferred_day`"
   ]
  },
  {
   "cell_type": "code",
   "execution_count": 32,
   "metadata": {},
   "outputs": [
    {
     "data": {
      "text/plain": [
       "Index(['hotel', 'is_canceled', 'lead_time', 'arrival_date_year',\n",
       "       'arrival_date_month', 'arrival_date_week_number',\n",
       "       'arrival_date_day_of_month', 'stays_in_weekend_nights',\n",
       "       'stays_in_week_nights', 'adults', 'children', 'babies', 'meal',\n",
       "       'country', 'market_segment', 'distribution_channel',\n",
       "       'is_repeated_guest', 'previous_cancellations',\n",
       "       'previous_bookings_not_canceled', 'reserved_room_type',\n",
       "       'assigned_room_type', 'booking_changes', 'deposit_type', 'agent',\n",
       "       'days_in_waiting_list', 'customer_type', 'adr',\n",
       "       'required_car_parking_spaces', 'total_of_special_requests',\n",
       "       'reservation_status', 'reservation_status_date', 'arrival_date',\n",
       "       'family_type', 'room_change', 'preferred_day', 'had_cancellations',\n",
       "       'driving'],\n",
       "      dtype='object')"
      ]
     },
     "execution_count": 32,
     "metadata": {},
     "output_type": "execute_result"
    }
   ],
   "source": [
    "data.columns"
   ]
  },
  {
   "cell_type": "code",
   "execution_count": 35,
   "metadata": {},
   "outputs": [
    {
     "data": {
      "text/html": [
       "<div>\n",
       "<style scoped>\n",
       "    .dataframe tbody tr th:only-of-type {\n",
       "        vertical-align: middle;\n",
       "    }\n",
       "\n",
       "    .dataframe tbody tr th {\n",
       "        vertical-align: top;\n",
       "    }\n",
       "\n",
       "    .dataframe thead th {\n",
       "        text-align: right;\n",
       "    }\n",
       "</style>\n",
       "<table border=\"1\" class=\"dataframe\">\n",
       "  <thead>\n",
       "    <tr style=\"text-align: right;\">\n",
       "      <th></th>\n",
       "      <th>hotel</th>\n",
       "      <th>had_cancellations</th>\n",
       "      <th>is_repeated_guest</th>\n",
       "      <th>driving</th>\n",
       "      <th>adr</th>\n",
       "      <th>customer_type</th>\n",
       "      <th>market_segment</th>\n",
       "      <th>family_type</th>\n",
       "      <th>preferred_day</th>\n",
       "      <th>total_of_special_requests</th>\n",
       "      <th>room_change</th>\n",
       "    </tr>\n",
       "  </thead>\n",
       "  <tbody>\n",
       "    <tr>\n",
       "      <th>0</th>\n",
       "      <td>Resort Hotel</td>\n",
       "      <td>False</td>\n",
       "      <td>0</td>\n",
       "      <td>False</td>\n",
       "      <td>0.0</td>\n",
       "      <td>Transient</td>\n",
       "      <td>Direct</td>\n",
       "      <td>Couple</td>\n",
       "      <td>weekday</td>\n",
       "      <td>0</td>\n",
       "      <td>False</td>\n",
       "    </tr>\n",
       "    <tr>\n",
       "      <th>75559</th>\n",
       "      <td>City Hotel</td>\n",
       "      <td>False</td>\n",
       "      <td>0</td>\n",
       "      <td>False</td>\n",
       "      <td>80.0</td>\n",
       "      <td>Transient</td>\n",
       "      <td>Offline TA/TO</td>\n",
       "      <td>Single</td>\n",
       "      <td>weekday</td>\n",
       "      <td>0</td>\n",
       "      <td>False</td>\n",
       "    </tr>\n",
       "    <tr>\n",
       "      <th>75560</th>\n",
       "      <td>City Hotel</td>\n",
       "      <td>False</td>\n",
       "      <td>0</td>\n",
       "      <td>False</td>\n",
       "      <td>101.5</td>\n",
       "      <td>Transient</td>\n",
       "      <td>Offline TA/TO</td>\n",
       "      <td>Couple</td>\n",
       "      <td>weekday</td>\n",
       "      <td>0</td>\n",
       "      <td>False</td>\n",
       "    </tr>\n",
       "    <tr>\n",
       "      <th>75561</th>\n",
       "      <td>City Hotel</td>\n",
       "      <td>False</td>\n",
       "      <td>0</td>\n",
       "      <td>False</td>\n",
       "      <td>101.5</td>\n",
       "      <td>Transient</td>\n",
       "      <td>Offline TA/TO</td>\n",
       "      <td>Couple</td>\n",
       "      <td>weekday</td>\n",
       "      <td>0</td>\n",
       "      <td>False</td>\n",
       "    </tr>\n",
       "    <tr>\n",
       "      <th>75562</th>\n",
       "      <td>City Hotel</td>\n",
       "      <td>False</td>\n",
       "      <td>0</td>\n",
       "      <td>False</td>\n",
       "      <td>101.5</td>\n",
       "      <td>Transient</td>\n",
       "      <td>Offline TA/TO</td>\n",
       "      <td>Couple</td>\n",
       "      <td>weekday</td>\n",
       "      <td>0</td>\n",
       "      <td>False</td>\n",
       "    </tr>\n",
       "  </tbody>\n",
       "</table>\n",
       "</div>"
      ],
      "text/plain": [
       "              hotel  had_cancellations  is_repeated_guest  driving    adr  \\\n",
       "0      Resort Hotel              False                  0    False    0.0   \n",
       "75559    City Hotel              False                  0    False   80.0   \n",
       "75560    City Hotel              False                  0    False  101.5   \n",
       "75561    City Hotel              False                  0    False  101.5   \n",
       "75562    City Hotel              False                  0    False  101.5   \n",
       "\n",
       "      customer_type market_segment family_type preferred_day  \\\n",
       "0         Transient         Direct      Couple       weekday   \n",
       "75559     Transient  Offline TA/TO      Single       weekday   \n",
       "75560     Transient  Offline TA/TO      Couple       weekday   \n",
       "75561     Transient  Offline TA/TO      Couple       weekday   \n",
       "75562     Transient  Offline TA/TO      Couple       weekday   \n",
       "\n",
       "       total_of_special_requests  room_change  \n",
       "0                              0        False  \n",
       "75559                          0        False  \n",
       "75560                          0        False  \n",
       "75561                          0        False  \n",
       "75562                          0        False  "
      ]
     },
     "execution_count": 35,
     "metadata": {},
     "output_type": "execute_result"
    }
   ],
   "source": [
    "data_small = data[['hotel',\n",
    "             'had_cancellations',\n",
    "             'is_repeated_guest',\n",
    "             'driving',\n",
    "             'adr',\n",
    "             'customer_type',\n",
    "             'market_segment',\n",
    "             'family_type',\n",
    "             'preferred_day',\n",
    "            'total_of_special_requests',\n",
    "            'room_change']]\n",
    "data_small.head()"
   ]
  },
  {
   "cell_type": "code",
   "execution_count": 36,
   "metadata": {},
   "outputs": [
    {
     "data": {
      "text/plain": [
       "0    69115\n",
       "1    32977\n",
       "2    12872\n",
       "3     2471\n",
       "4      338\n",
       "5       40\n",
       "Name: total_of_special_requests, dtype: int64"
      ]
     },
     "execution_count": 36,
     "metadata": {},
     "output_type": "execute_result"
    }
   ],
   "source": [
    "data_small['total_of_special_requests'].value_counts()"
   ]
  },
  {
   "cell_type": "code",
   "execution_count": 34,
   "metadata": {},
   "outputs": [],
   "source": [
    "from sklearn.preprocessing import OneHotEncoder,OrdinalEncoder, LabelEncoder"
   ]
  },
  {
   "cell_type": "code",
   "execution_count": 38,
   "metadata": {},
   "outputs": [],
   "source": [
    "categorical_cols = list(data_small.columns[data_small.dtypes == object])"
   ]
  },
  {
   "cell_type": "code",
   "execution_count": 39,
   "metadata": {},
   "outputs": [
    {
     "data": {
      "text/plain": [
       "['hotel', 'customer_type', 'market_segment', 'family_type', 'preferred_day']"
      ]
     },
     "execution_count": 39,
     "metadata": {},
     "output_type": "execute_result"
    }
   ],
   "source": [
    "categorical_cols"
   ]
  },
  {
   "cell_type": "code",
   "execution_count": 40,
   "metadata": {},
   "outputs": [
    {
     "name": "stderr",
     "output_type": "stream",
     "text": [
      "/Users/premchandran/opt/anaconda3/envs/python38/lib/python3.8/site-packages/pandas/core/frame.py:3678: SettingWithCopyWarning:\n",
      "\n",
      "\n",
      "A value is trying to be set on a copy of a slice from a DataFrame.\n",
      "Try using .loc[row_indexer,col_indexer] = value instead\n",
      "\n",
      "See the caveats in the documentation: https://pandas.pydata.org/pandas-docs/stable/user_guide/indexing.html#returning-a-view-versus-a-copy\n",
      "\n"
     ]
    }
   ],
   "source": [
    "#le =LabelEncoder()\n",
    "oe = OrdinalEncoder()\n",
    "#data[categorical_cols] = data[categorical_cols].apply(lambda col: le.fit_transform(col))\n",
    "data_small[categorical_cols] = oe.fit_transform(data_small[categorical_cols])"
   ]
  },
  {
   "cell_type": "code",
   "execution_count": 46,
   "metadata": {},
   "outputs": [
    {
     "data": {
      "text/html": [
       "<div>\n",
       "<style scoped>\n",
       "    .dataframe tbody tr th:only-of-type {\n",
       "        vertical-align: middle;\n",
       "    }\n",
       "\n",
       "    .dataframe tbody tr th {\n",
       "        vertical-align: top;\n",
       "    }\n",
       "\n",
       "    .dataframe thead th {\n",
       "        text-align: right;\n",
       "    }\n",
       "</style>\n",
       "<table border=\"1\" class=\"dataframe\">\n",
       "  <thead>\n",
       "    <tr style=\"text-align: right;\">\n",
       "      <th></th>\n",
       "      <th>hotel</th>\n",
       "      <th>had_cancellations</th>\n",
       "      <th>is_repeated_guest</th>\n",
       "      <th>driving</th>\n",
       "      <th>adr</th>\n",
       "      <th>customer_type</th>\n",
       "      <th>market_segment</th>\n",
       "      <th>family_type</th>\n",
       "      <th>preferred_day</th>\n",
       "      <th>total_of_special_requests</th>\n",
       "      <th>room_change</th>\n",
       "    </tr>\n",
       "  </thead>\n",
       "  <tbody>\n",
       "    <tr>\n",
       "      <th>0</th>\n",
       "      <td>1.0</td>\n",
       "      <td>False</td>\n",
       "      <td>0</td>\n",
       "      <td>False</td>\n",
       "      <td>0.00</td>\n",
       "      <td>2.0</td>\n",
       "      <td>3.0</td>\n",
       "      <td>1.0</td>\n",
       "      <td>0.0</td>\n",
       "      <td>0</td>\n",
       "      <td>False</td>\n",
       "    </tr>\n",
       "    <tr>\n",
       "      <th>75559</th>\n",
       "      <td>0.0</td>\n",
       "      <td>False</td>\n",
       "      <td>0</td>\n",
       "      <td>False</td>\n",
       "      <td>80.00</td>\n",
       "      <td>2.0</td>\n",
       "      <td>5.0</td>\n",
       "      <td>3.0</td>\n",
       "      <td>0.0</td>\n",
       "      <td>0</td>\n",
       "      <td>False</td>\n",
       "    </tr>\n",
       "    <tr>\n",
       "      <th>75560</th>\n",
       "      <td>0.0</td>\n",
       "      <td>False</td>\n",
       "      <td>0</td>\n",
       "      <td>False</td>\n",
       "      <td>101.50</td>\n",
       "      <td>2.0</td>\n",
       "      <td>5.0</td>\n",
       "      <td>1.0</td>\n",
       "      <td>0.0</td>\n",
       "      <td>0</td>\n",
       "      <td>False</td>\n",
       "    </tr>\n",
       "    <tr>\n",
       "      <th>75561</th>\n",
       "      <td>0.0</td>\n",
       "      <td>False</td>\n",
       "      <td>0</td>\n",
       "      <td>False</td>\n",
       "      <td>101.50</td>\n",
       "      <td>2.0</td>\n",
       "      <td>5.0</td>\n",
       "      <td>1.0</td>\n",
       "      <td>0.0</td>\n",
       "      <td>0</td>\n",
       "      <td>False</td>\n",
       "    </tr>\n",
       "    <tr>\n",
       "      <th>75562</th>\n",
       "      <td>0.0</td>\n",
       "      <td>False</td>\n",
       "      <td>0</td>\n",
       "      <td>False</td>\n",
       "      <td>101.50</td>\n",
       "      <td>2.0</td>\n",
       "      <td>5.0</td>\n",
       "      <td>1.0</td>\n",
       "      <td>0.0</td>\n",
       "      <td>0</td>\n",
       "      <td>False</td>\n",
       "    </tr>\n",
       "    <tr>\n",
       "      <th>...</th>\n",
       "      <td>...</td>\n",
       "      <td>...</td>\n",
       "      <td>...</td>\n",
       "      <td>...</td>\n",
       "      <td>...</td>\n",
       "      <td>...</td>\n",
       "      <td>...</td>\n",
       "      <td>...</td>\n",
       "      <td>...</td>\n",
       "      <td>...</td>\n",
       "      <td>...</td>\n",
       "    </tr>\n",
       "    <tr>\n",
       "      <th>40039</th>\n",
       "      <td>1.0</td>\n",
       "      <td>False</td>\n",
       "      <td>0</td>\n",
       "      <td>False</td>\n",
       "      <td>207.03</td>\n",
       "      <td>2.0</td>\n",
       "      <td>6.0</td>\n",
       "      <td>1.0</td>\n",
       "      <td>0.0</td>\n",
       "      <td>1</td>\n",
       "      <td>False</td>\n",
       "    </tr>\n",
       "    <tr>\n",
       "      <th>40040</th>\n",
       "      <td>1.0</td>\n",
       "      <td>False</td>\n",
       "      <td>0</td>\n",
       "      <td>True</td>\n",
       "      <td>312.29</td>\n",
       "      <td>2.0</td>\n",
       "      <td>6.0</td>\n",
       "      <td>2.0</td>\n",
       "      <td>0.0</td>\n",
       "      <td>1</td>\n",
       "      <td>False</td>\n",
       "    </tr>\n",
       "    <tr>\n",
       "      <th>13794</th>\n",
       "      <td>1.0</td>\n",
       "      <td>False</td>\n",
       "      <td>0</td>\n",
       "      <td>False</td>\n",
       "      <td>207.00</td>\n",
       "      <td>2.0</td>\n",
       "      <td>6.0</td>\n",
       "      <td>1.0</td>\n",
       "      <td>0.0</td>\n",
       "      <td>2</td>\n",
       "      <td>False</td>\n",
       "    </tr>\n",
       "    <tr>\n",
       "      <th>40038</th>\n",
       "      <td>1.0</td>\n",
       "      <td>False</td>\n",
       "      <td>0</td>\n",
       "      <td>False</td>\n",
       "      <td>114.80</td>\n",
       "      <td>0.0</td>\n",
       "      <td>5.0</td>\n",
       "      <td>1.0</td>\n",
       "      <td>0.0</td>\n",
       "      <td>0</td>\n",
       "      <td>False</td>\n",
       "    </tr>\n",
       "    <tr>\n",
       "      <th>117424</th>\n",
       "      <td>0.0</td>\n",
       "      <td>False</td>\n",
       "      <td>1</td>\n",
       "      <td>False</td>\n",
       "      <td>95.00</td>\n",
       "      <td>2.0</td>\n",
       "      <td>2.0</td>\n",
       "      <td>2.0</td>\n",
       "      <td>0.0</td>\n",
       "      <td>4</td>\n",
       "      <td>False</td>\n",
       "    </tr>\n",
       "  </tbody>\n",
       "</table>\n",
       "<p>117813 rows × 11 columns</p>\n",
       "</div>"
      ],
      "text/plain": [
       "        hotel  had_cancellations  is_repeated_guest  driving     adr  \\\n",
       "0         1.0              False                  0    False    0.00   \n",
       "75559     0.0              False                  0    False   80.00   \n",
       "75560     0.0              False                  0    False  101.50   \n",
       "75561     0.0              False                  0    False  101.50   \n",
       "75562     0.0              False                  0    False  101.50   \n",
       "...       ...                ...                ...      ...     ...   \n",
       "40039     1.0              False                  0    False  207.03   \n",
       "40040     1.0              False                  0     True  312.29   \n",
       "13794     1.0              False                  0    False  207.00   \n",
       "40038     1.0              False                  0    False  114.80   \n",
       "117424    0.0              False                  1    False   95.00   \n",
       "\n",
       "        customer_type  market_segment  family_type  preferred_day  \\\n",
       "0                 2.0             3.0          1.0            0.0   \n",
       "75559             2.0             5.0          3.0            0.0   \n",
       "75560             2.0             5.0          1.0            0.0   \n",
       "75561             2.0             5.0          1.0            0.0   \n",
       "75562             2.0             5.0          1.0            0.0   \n",
       "...               ...             ...          ...            ...   \n",
       "40039             2.0             6.0          1.0            0.0   \n",
       "40040             2.0             6.0          2.0            0.0   \n",
       "13794             2.0             6.0          1.0            0.0   \n",
       "40038             0.0             5.0          1.0            0.0   \n",
       "117424            2.0             2.0          2.0            0.0   \n",
       "\n",
       "        total_of_special_requests  room_change  \n",
       "0                               0        False  \n",
       "75559                           0        False  \n",
       "75560                           0        False  \n",
       "75561                           0        False  \n",
       "75562                           0        False  \n",
       "...                           ...          ...  \n",
       "40039                           1        False  \n",
       "40040                           1        False  \n",
       "13794                           2        False  \n",
       "40038                           0        False  \n",
       "117424                          4        False  \n",
       "\n",
       "[117813 rows x 11 columns]"
      ]
     },
     "execution_count": 46,
     "metadata": {},
     "output_type": "execute_result"
    }
   ],
   "source": [
    "data_small"
   ]
  },
  {
   "cell_type": "code",
   "execution_count": 44,
   "metadata": {},
   "outputs": [
    {
     "data": {
      "text/html": [
       "<div>\n",
       "<style scoped>\n",
       "    .dataframe tbody tr th:only-of-type {\n",
       "        vertical-align: middle;\n",
       "    }\n",
       "\n",
       "    .dataframe tbody tr th {\n",
       "        vertical-align: top;\n",
       "    }\n",
       "\n",
       "    .dataframe thead th {\n",
       "        text-align: right;\n",
       "    }\n",
       "</style>\n",
       "<table border=\"1\" class=\"dataframe\">\n",
       "  <thead>\n",
       "    <tr style=\"text-align: right;\">\n",
       "      <th></th>\n",
       "      <th>hotel</th>\n",
       "      <th>is_repeated_guest</th>\n",
       "      <th>adr</th>\n",
       "      <th>customer_type</th>\n",
       "      <th>market_segment</th>\n",
       "      <th>family_type</th>\n",
       "      <th>preferred_day</th>\n",
       "      <th>total_of_special_requests</th>\n",
       "    </tr>\n",
       "  </thead>\n",
       "  <tbody>\n",
       "    <tr>\n",
       "      <th>count</th>\n",
       "      <td>117813.000000</td>\n",
       "      <td>117813.000000</td>\n",
       "      <td>117813.000000</td>\n",
       "      <td>117813.000000</td>\n",
       "      <td>117813.000000</td>\n",
       "      <td>117813.00000</td>\n",
       "      <td>117813.000000</td>\n",
       "      <td>117813.000000</td>\n",
       "    </tr>\n",
       "    <tr>\n",
       "      <th>mean</th>\n",
       "      <td>0.329989</td>\n",
       "      <td>0.031592</td>\n",
       "      <td>102.110261</td>\n",
       "      <td>2.132014</td>\n",
       "      <td>4.935576</td>\n",
       "      <td>1.40751</td>\n",
       "      <td>0.113027</td>\n",
       "      <td>0.574521</td>\n",
       "    </tr>\n",
       "    <tr>\n",
       "      <th>std</th>\n",
       "      <td>0.470211</td>\n",
       "      <td>0.174913</td>\n",
       "      <td>50.393201</td>\n",
       "      <td>0.575193</td>\n",
       "      <td>1.267873</td>\n",
       "      <td>0.84688</td>\n",
       "      <td>0.316627</td>\n",
       "      <td>0.793744</td>\n",
       "    </tr>\n",
       "    <tr>\n",
       "      <th>min</th>\n",
       "      <td>0.000000</td>\n",
       "      <td>0.000000</td>\n",
       "      <td>-6.380000</td>\n",
       "      <td>0.000000</td>\n",
       "      <td>0.000000</td>\n",
       "      <td>0.00000</td>\n",
       "      <td>0.000000</td>\n",
       "      <td>0.000000</td>\n",
       "    </tr>\n",
       "    <tr>\n",
       "      <th>25%</th>\n",
       "      <td>0.000000</td>\n",
       "      <td>0.000000</td>\n",
       "      <td>70.000000</td>\n",
       "      <td>2.000000</td>\n",
       "      <td>4.000000</td>\n",
       "      <td>1.00000</td>\n",
       "      <td>0.000000</td>\n",
       "      <td>0.000000</td>\n",
       "    </tr>\n",
       "    <tr>\n",
       "      <th>50%</th>\n",
       "      <td>0.000000</td>\n",
       "      <td>0.000000</td>\n",
       "      <td>95.000000</td>\n",
       "      <td>2.000000</td>\n",
       "      <td>5.000000</td>\n",
       "      <td>1.00000</td>\n",
       "      <td>0.000000</td>\n",
       "      <td>0.000000</td>\n",
       "    </tr>\n",
       "    <tr>\n",
       "      <th>75%</th>\n",
       "      <td>1.000000</td>\n",
       "      <td>0.000000</td>\n",
       "      <td>126.000000</td>\n",
       "      <td>2.000000</td>\n",
       "      <td>6.000000</td>\n",
       "      <td>2.00000</td>\n",
       "      <td>0.000000</td>\n",
       "      <td>1.000000</td>\n",
       "    </tr>\n",
       "    <tr>\n",
       "      <th>max</th>\n",
       "      <td>1.000000</td>\n",
       "      <td>1.000000</td>\n",
       "      <td>5400.000000</td>\n",
       "      <td>3.000000</td>\n",
       "      <td>6.000000</td>\n",
       "      <td>3.00000</td>\n",
       "      <td>1.000000</td>\n",
       "      <td>5.000000</td>\n",
       "    </tr>\n",
       "  </tbody>\n",
       "</table>\n",
       "</div>"
      ],
      "text/plain": [
       "               hotel  is_repeated_guest            adr  customer_type  \\\n",
       "count  117813.000000      117813.000000  117813.000000  117813.000000   \n",
       "mean        0.329989           0.031592     102.110261       2.132014   \n",
       "std         0.470211           0.174913      50.393201       0.575193   \n",
       "min         0.000000           0.000000      -6.380000       0.000000   \n",
       "25%         0.000000           0.000000      70.000000       2.000000   \n",
       "50%         0.000000           0.000000      95.000000       2.000000   \n",
       "75%         1.000000           0.000000     126.000000       2.000000   \n",
       "max         1.000000           1.000000    5400.000000       3.000000   \n",
       "\n",
       "       market_segment   family_type  preferred_day  total_of_special_requests  \n",
       "count   117813.000000  117813.00000  117813.000000              117813.000000  \n",
       "mean         4.935576       1.40751       0.113027                   0.574521  \n",
       "std          1.267873       0.84688       0.316627                   0.793744  \n",
       "min          0.000000       0.00000       0.000000                   0.000000  \n",
       "25%          4.000000       1.00000       0.000000                   0.000000  \n",
       "50%          5.000000       1.00000       0.000000                   0.000000  \n",
       "75%          6.000000       2.00000       0.000000                   1.000000  \n",
       "max          6.000000       3.00000       1.000000                   5.000000  "
      ]
     },
     "execution_count": 44,
     "metadata": {},
     "output_type": "execute_result"
    }
   ],
   "source": [
    "data_small.describe()"
   ]
  },
  {
   "cell_type": "code",
   "execution_count": 47,
   "metadata": {},
   "outputs": [
    {
     "data": {
      "text/plain": [
       "[array(['City Hotel', 'Resort Hotel'], dtype=object),\n",
       " array(['Contract', 'Group', 'Transient', 'Transient-Party'], dtype=object),\n",
       " array(['Aviation', 'Complementary', 'Corporate', 'Direct', 'Groups',\n",
       "        'Offline TA/TO', 'Online TA'], dtype=object),\n",
       " array(['Adult Group', 'Couple', 'Family', 'Single'], dtype=object),\n",
       " array(['weekday', 'weekend'], dtype=object)]"
      ]
     },
     "execution_count": 47,
     "metadata": {},
     "output_type": "execute_result"
    }
   ],
   "source": [
    "oe.categories_"
   ]
  },
  {
   "cell_type": "code",
   "execution_count": 48,
   "metadata": {},
   "outputs": [
    {
     "data": {
      "text/plain": [
       "True"
      ]
     },
     "execution_count": 48,
     "metadata": {},
     "output_type": "execute_result"
    }
   ],
   "source": [
    "all(df[df['reservation_status']=='Canceled'][['is_canceled']]==1)"
   ]
  },
  {
   "cell_type": "code",
   "execution_count": 45,
   "metadata": {},
   "outputs": [
    {
     "data": {
      "text/html": [
       "<div>\n",
       "<style scoped>\n",
       "    .dataframe tbody tr th:only-of-type {\n",
       "        vertical-align: middle;\n",
       "    }\n",
       "\n",
       "    .dataframe tbody tr th {\n",
       "        vertical-align: top;\n",
       "    }\n",
       "\n",
       "    .dataframe thead th {\n",
       "        text-align: right;\n",
       "    }\n",
       "</style>\n",
       "<table border=\"1\" class=\"dataframe\">\n",
       "  <thead>\n",
       "    <tr style=\"text-align: right;\">\n",
       "      <th></th>\n",
       "      <th>hotel</th>\n",
       "      <th>had_cancellations</th>\n",
       "      <th>is_repeated_guest</th>\n",
       "      <th>driving</th>\n",
       "      <th>adr</th>\n",
       "      <th>customer_type</th>\n",
       "      <th>market_segment</th>\n",
       "      <th>family_type</th>\n",
       "      <th>preferred_day</th>\n",
       "      <th>total_of_special_requests</th>\n",
       "      <th>room_change</th>\n",
       "    </tr>\n",
       "  </thead>\n",
       "  <tbody>\n",
       "    <tr>\n",
       "      <th>0</th>\n",
       "      <td>1.424922</td>\n",
       "      <td>-0.239754</td>\n",
       "      <td>-0.180619</td>\n",
       "      <td>-0.258174</td>\n",
       "      <td>-2.026279</td>\n",
       "      <td>-0.229514</td>\n",
       "      <td>-1.526639</td>\n",
       "      <td>-0.481192</td>\n",
       "      <td>-0.356973</td>\n",
       "      <td>-0.723814</td>\n",
       "      <td>-0.375649</td>\n",
       "    </tr>\n",
       "    <tr>\n",
       "      <th>75559</th>\n",
       "      <td>-0.701793</td>\n",
       "      <td>-0.239754</td>\n",
       "      <td>-0.180619</td>\n",
       "      <td>-0.258174</td>\n",
       "      <td>-0.438757</td>\n",
       "      <td>-0.229514</td>\n",
       "      <td>0.050813</td>\n",
       "      <td>1.880428</td>\n",
       "      <td>-0.356973</td>\n",
       "      <td>-0.723814</td>\n",
       "      <td>-0.375649</td>\n",
       "    </tr>\n",
       "    <tr>\n",
       "      <th>75560</th>\n",
       "      <td>-0.701793</td>\n",
       "      <td>-0.239754</td>\n",
       "      <td>-0.180619</td>\n",
       "      <td>-0.258174</td>\n",
       "      <td>-0.012110</td>\n",
       "      <td>-0.229514</td>\n",
       "      <td>0.050813</td>\n",
       "      <td>-0.481192</td>\n",
       "      <td>-0.356973</td>\n",
       "      <td>-0.723814</td>\n",
       "      <td>-0.375649</td>\n",
       "    </tr>\n",
       "    <tr>\n",
       "      <th>75561</th>\n",
       "      <td>-0.701793</td>\n",
       "      <td>-0.239754</td>\n",
       "      <td>-0.180619</td>\n",
       "      <td>-0.258174</td>\n",
       "      <td>-0.012110</td>\n",
       "      <td>-0.229514</td>\n",
       "      <td>0.050813</td>\n",
       "      <td>-0.481192</td>\n",
       "      <td>-0.356973</td>\n",
       "      <td>-0.723814</td>\n",
       "      <td>-0.375649</td>\n",
       "    </tr>\n",
       "    <tr>\n",
       "      <th>75562</th>\n",
       "      <td>-0.701793</td>\n",
       "      <td>-0.239754</td>\n",
       "      <td>-0.180619</td>\n",
       "      <td>-0.258174</td>\n",
       "      <td>-0.012110</td>\n",
       "      <td>-0.229514</td>\n",
       "      <td>0.050813</td>\n",
       "      <td>-0.481192</td>\n",
       "      <td>-0.356973</td>\n",
       "      <td>-0.723814</td>\n",
       "      <td>-0.375649</td>\n",
       "    </tr>\n",
       "    <tr>\n",
       "      <th>...</th>\n",
       "      <td>...</td>\n",
       "      <td>...</td>\n",
       "      <td>...</td>\n",
       "      <td>...</td>\n",
       "      <td>...</td>\n",
       "      <td>...</td>\n",
       "      <td>...</td>\n",
       "      <td>...</td>\n",
       "      <td>...</td>\n",
       "      <td>...</td>\n",
       "      <td>...</td>\n",
       "    </tr>\n",
       "    <tr>\n",
       "      <th>40039</th>\n",
       "      <td>1.424922</td>\n",
       "      <td>-0.239754</td>\n",
       "      <td>-0.180619</td>\n",
       "      <td>-0.258174</td>\n",
       "      <td>2.082031</td>\n",
       "      <td>-0.229514</td>\n",
       "      <td>0.839539</td>\n",
       "      <td>-0.481192</td>\n",
       "      <td>-0.356973</td>\n",
       "      <td>0.536043</td>\n",
       "      <td>-0.375649</td>\n",
       "    </tr>\n",
       "    <tr>\n",
       "      <th>40040</th>\n",
       "      <td>1.424922</td>\n",
       "      <td>-0.239754</td>\n",
       "      <td>-0.180619</td>\n",
       "      <td>3.873352</td>\n",
       "      <td>4.170813</td>\n",
       "      <td>-0.229514</td>\n",
       "      <td>0.839539</td>\n",
       "      <td>0.699618</td>\n",
       "      <td>-0.356973</td>\n",
       "      <td>0.536043</td>\n",
       "      <td>-0.375649</td>\n",
       "    </tr>\n",
       "    <tr>\n",
       "      <th>13794</th>\n",
       "      <td>1.424922</td>\n",
       "      <td>-0.239754</td>\n",
       "      <td>-0.180619</td>\n",
       "      <td>-0.258174</td>\n",
       "      <td>2.081435</td>\n",
       "      <td>-0.229514</td>\n",
       "      <td>0.839539</td>\n",
       "      <td>-0.481192</td>\n",
       "      <td>-0.356973</td>\n",
       "      <td>1.795901</td>\n",
       "      <td>-0.375649</td>\n",
       "    </tr>\n",
       "    <tr>\n",
       "      <th>40038</th>\n",
       "      <td>1.424922</td>\n",
       "      <td>-0.239754</td>\n",
       "      <td>-0.180619</td>\n",
       "      <td>-0.258174</td>\n",
       "      <td>0.251816</td>\n",
       "      <td>-3.706621</td>\n",
       "      <td>0.050813</td>\n",
       "      <td>-0.481192</td>\n",
       "      <td>-0.356973</td>\n",
       "      <td>-0.723814</td>\n",
       "      <td>-0.375649</td>\n",
       "    </tr>\n",
       "    <tr>\n",
       "      <th>117424</th>\n",
       "      <td>-0.701793</td>\n",
       "      <td>-0.239754</td>\n",
       "      <td>5.536528</td>\n",
       "      <td>-0.258174</td>\n",
       "      <td>-0.141096</td>\n",
       "      <td>-0.229514</td>\n",
       "      <td>-2.315365</td>\n",
       "      <td>0.699618</td>\n",
       "      <td>-0.356973</td>\n",
       "      <td>4.315617</td>\n",
       "      <td>-0.375649</td>\n",
       "    </tr>\n",
       "  </tbody>\n",
       "</table>\n",
       "<p>117813 rows × 11 columns</p>\n",
       "</div>"
      ],
      "text/plain": [
       "           hotel  had_cancellations  is_repeated_guest   driving       adr  \\\n",
       "0       1.424922          -0.239754          -0.180619 -0.258174 -2.026279   \n",
       "75559  -0.701793          -0.239754          -0.180619 -0.258174 -0.438757   \n",
       "75560  -0.701793          -0.239754          -0.180619 -0.258174 -0.012110   \n",
       "75561  -0.701793          -0.239754          -0.180619 -0.258174 -0.012110   \n",
       "75562  -0.701793          -0.239754          -0.180619 -0.258174 -0.012110   \n",
       "...          ...                ...                ...       ...       ...   \n",
       "40039   1.424922          -0.239754          -0.180619 -0.258174  2.082031   \n",
       "40040   1.424922          -0.239754          -0.180619  3.873352  4.170813   \n",
       "13794   1.424922          -0.239754          -0.180619 -0.258174  2.081435   \n",
       "40038   1.424922          -0.239754          -0.180619 -0.258174  0.251816   \n",
       "117424 -0.701793          -0.239754           5.536528 -0.258174 -0.141096   \n",
       "\n",
       "        customer_type  market_segment  family_type  preferred_day  \\\n",
       "0           -0.229514       -1.526639    -0.481192      -0.356973   \n",
       "75559       -0.229514        0.050813     1.880428      -0.356973   \n",
       "75560       -0.229514        0.050813    -0.481192      -0.356973   \n",
       "75561       -0.229514        0.050813    -0.481192      -0.356973   \n",
       "75562       -0.229514        0.050813    -0.481192      -0.356973   \n",
       "...               ...             ...          ...            ...   \n",
       "40039       -0.229514        0.839539    -0.481192      -0.356973   \n",
       "40040       -0.229514        0.839539     0.699618      -0.356973   \n",
       "13794       -0.229514        0.839539    -0.481192      -0.356973   \n",
       "40038       -3.706621        0.050813    -0.481192      -0.356973   \n",
       "117424      -0.229514       -2.315365     0.699618      -0.356973   \n",
       "\n",
       "        total_of_special_requests  room_change  \n",
       "0                       -0.723814    -0.375649  \n",
       "75559                   -0.723814    -0.375649  \n",
       "75560                   -0.723814    -0.375649  \n",
       "75561                   -0.723814    -0.375649  \n",
       "75562                   -0.723814    -0.375649  \n",
       "...                           ...          ...  \n",
       "40039                    0.536043    -0.375649  \n",
       "40040                    0.536043    -0.375649  \n",
       "13794                    1.795901    -0.375649  \n",
       "40038                   -0.723814    -0.375649  \n",
       "117424                   4.315617    -0.375649  \n",
       "\n",
       "[117813 rows x 11 columns]"
      ]
     },
     "execution_count": 45,
     "metadata": {},
     "output_type": "execute_result"
    }
   ],
   "source": [
    "#apply standard scaler to the columns before unsupervised PCA\n",
    "from sklearn.preprocessing import StandardScaler\n",
    "sc = StandardScaler()\n",
    "scaled = sc.fit_transform(data_small)\n",
    "scaled_df = pd.DataFrame(scaled, index=data_small.index, columns=data_small.columns)\n",
    "scaled_df"
   ]
  },
  {
   "cell_type": "code",
   "execution_count": 50,
   "metadata": {},
   "outputs": [],
   "source": [
    "# import PCA - Principle Component Analysis => to reduce dimensions\n",
    "from sklearn.decomposition import PCA\n",
    "pca = PCA().fit(scaled_df)\n",
    "pca_x = pca.transform(scaled_df)"
   ]
  },
  {
   "cell_type": "code",
   "execution_count": 53,
   "metadata": {},
   "outputs": [],
   "source": [
    "# Dimension indexing\n",
    "dimensions = ['Dimension {}'.format(i) for i in range(1,len(pca.components_)+1)]\n",
    "\n",
    "#PCA components\n",
    "components = pd.DataFrame(np.round(pca.components_,4), columns = scaled_df.keys(), index= dimensions)\n",
    "components.index = dimensions\n",
    "\n",
    "#PCA explained variance\n",
    "ratios = pca.explained_variance_ratio_.reshape(len(pca.components_),1)\n",
    "variance_ratios = pd.DataFrame(np.round(ratios,4), columns = ['Explained Variance'], index = dimensions)\n",
    "variance_ratios.index = dimensions\n",
    "\n",
    "#concat both dfs\n",
    "pca_df = pd.concat([variance_ratios,components], axis=1)"
   ]
  },
  {
   "cell_type": "code",
   "execution_count": 54,
   "metadata": {},
   "outputs": [
    {
     "data": {
      "text/html": [
       "<div>\n",
       "<style scoped>\n",
       "    .dataframe tbody tr th:only-of-type {\n",
       "        vertical-align: middle;\n",
       "    }\n",
       "\n",
       "    .dataframe tbody tr th {\n",
       "        vertical-align: top;\n",
       "    }\n",
       "\n",
       "    .dataframe thead th {\n",
       "        text-align: right;\n",
       "    }\n",
       "</style>\n",
       "<table border=\"1\" class=\"dataframe\">\n",
       "  <thead>\n",
       "    <tr style=\"text-align: right;\">\n",
       "      <th></th>\n",
       "      <th>Explained Variance</th>\n",
       "      <th>hotel</th>\n",
       "      <th>had_cancellations</th>\n",
       "      <th>is_repeated_guest</th>\n",
       "      <th>driving</th>\n",
       "      <th>adr</th>\n",
       "      <th>customer_type</th>\n",
       "      <th>market_segment</th>\n",
       "      <th>family_type</th>\n",
       "      <th>preferred_day</th>\n",
       "      <th>total_of_special_requests</th>\n",
       "      <th>room_change</th>\n",
       "    </tr>\n",
       "  </thead>\n",
       "  <tbody>\n",
       "    <tr>\n",
       "      <th>Dimension 1</th>\n",
       "      <td>0.1703</td>\n",
       "      <td>-0.1082</td>\n",
       "      <td>-0.2130</td>\n",
       "      <td>-0.3549</td>\n",
       "      <td>-0.0449</td>\n",
       "      <td>0.4157</td>\n",
       "      <td>-0.2132</td>\n",
       "      <td>0.5398</td>\n",
       "      <td>-0.3831</td>\n",
       "      <td>-0.0344</td>\n",
       "      <td>0.3404</td>\n",
       "      <td>-0.2037</td>\n",
       "    </tr>\n",
       "    <tr>\n",
       "      <th>Dimension 2</th>\n",
       "      <td>0.1283</td>\n",
       "      <td>0.5748</td>\n",
       "      <td>-0.2605</td>\n",
       "      <td>0.1610</td>\n",
       "      <td>0.5288</td>\n",
       "      <td>0.0138</td>\n",
       "      <td>-0.1732</td>\n",
       "      <td>0.0087</td>\n",
       "      <td>0.0032</td>\n",
       "      <td>-0.0597</td>\n",
       "      <td>0.3431</td>\n",
       "      <td>0.3803</td>\n",
       "    </tr>\n",
       "    <tr>\n",
       "      <th>Dimension 3</th>\n",
       "      <td>0.1046</td>\n",
       "      <td>-0.0217</td>\n",
       "      <td>0.5976</td>\n",
       "      <td>0.4230</td>\n",
       "      <td>0.0532</td>\n",
       "      <td>-0.0047</td>\n",
       "      <td>-0.5770</td>\n",
       "      <td>0.0044</td>\n",
       "      <td>-0.1026</td>\n",
       "      <td>-0.1573</td>\n",
       "      <td>0.1708</td>\n",
       "      <td>-0.2515</td>\n",
       "    </tr>\n",
       "    <tr>\n",
       "      <th>Dimension 4</th>\n",
       "      <td>0.0935</td>\n",
       "      <td>-0.2809</td>\n",
       "      <td>-0.0228</td>\n",
       "      <td>0.2986</td>\n",
       "      <td>0.1369</td>\n",
       "      <td>0.2207</td>\n",
       "      <td>0.0473</td>\n",
       "      <td>0.0102</td>\n",
       "      <td>0.2016</td>\n",
       "      <td>0.8049</td>\n",
       "      <td>0.2701</td>\n",
       "      <td>-0.0135</td>\n",
       "    </tr>\n",
       "    <tr>\n",
       "      <th>Dimension 5</th>\n",
       "      <td>0.0873</td>\n",
       "      <td>-0.0253</td>\n",
       "      <td>-0.0659</td>\n",
       "      <td>0.0738</td>\n",
       "      <td>0.4633</td>\n",
       "      <td>0.5019</td>\n",
       "      <td>0.2523</td>\n",
       "      <td>-0.2101</td>\n",
       "      <td>0.2211</td>\n",
       "      <td>-0.2895</td>\n",
       "      <td>-0.1230</td>\n",
       "      <td>-0.5171</td>\n",
       "    </tr>\n",
       "    <tr>\n",
       "      <th>Dimension 6</th>\n",
       "      <td>0.0855</td>\n",
       "      <td>-0.2704</td>\n",
       "      <td>-0.2417</td>\n",
       "      <td>0.3259</td>\n",
       "      <td>-0.3698</td>\n",
       "      <td>0.1057</td>\n",
       "      <td>0.0382</td>\n",
       "      <td>0.0835</td>\n",
       "      <td>0.4601</td>\n",
       "      <td>-0.4393</td>\n",
       "      <td>0.4050</td>\n",
       "      <td>0.1929</td>\n",
       "    </tr>\n",
       "    <tr>\n",
       "      <th>Dimension 7</th>\n",
       "      <td>0.0775</td>\n",
       "      <td>-0.2111</td>\n",
       "      <td>0.3459</td>\n",
       "      <td>0.1774</td>\n",
       "      <td>0.1386</td>\n",
       "      <td>0.0941</td>\n",
       "      <td>0.5766</td>\n",
       "      <td>-0.0287</td>\n",
       "      <td>-0.5132</td>\n",
       "      <td>-0.1587</td>\n",
       "      <td>0.2380</td>\n",
       "      <td>0.3127</td>\n",
       "    </tr>\n",
       "    <tr>\n",
       "      <th>Dimension 8</th>\n",
       "      <td>0.0708</td>\n",
       "      <td>-0.3341</td>\n",
       "      <td>0.1108</td>\n",
       "      <td>-0.1689</td>\n",
       "      <td>0.1656</td>\n",
       "      <td>0.4424</td>\n",
       "      <td>-0.3501</td>\n",
       "      <td>-0.0813</td>\n",
       "      <td>0.0880</td>\n",
       "      <td>-0.0631</td>\n",
       "      <td>-0.3810</td>\n",
       "      <td>0.5817</td>\n",
       "    </tr>\n",
       "    <tr>\n",
       "      <th>Dimension 9</th>\n",
       "      <td>0.0662</td>\n",
       "      <td>0.0723</td>\n",
       "      <td>-0.4535</td>\n",
       "      <td>0.4890</td>\n",
       "      <td>-0.2953</td>\n",
       "      <td>0.2299</td>\n",
       "      <td>-0.1317</td>\n",
       "      <td>-0.2890</td>\n",
       "      <td>-0.4886</td>\n",
       "      <td>0.0389</td>\n",
       "      <td>-0.2604</td>\n",
       "      <td>-0.0330</td>\n",
       "    </tr>\n",
       "    <tr>\n",
       "      <th>Dimension 10</th>\n",
       "      <td>0.0617</td>\n",
       "      <td>0.5741</td>\n",
       "      <td>0.3573</td>\n",
       "      <td>-0.0858</td>\n",
       "      <td>-0.4536</td>\n",
       "      <td>0.5077</td>\n",
       "      <td>0.1545</td>\n",
       "      <td>-0.0463</td>\n",
       "      <td>0.1506</td>\n",
       "      <td>0.1229</td>\n",
       "      <td>0.0374</td>\n",
       "      <td>0.0814</td>\n",
       "    </tr>\n",
       "    <tr>\n",
       "      <th>Dimension 11</th>\n",
       "      <td>0.0543</td>\n",
       "      <td>-0.1169</td>\n",
       "      <td>-0.0341</td>\n",
       "      <td>-0.4025</td>\n",
       "      <td>-0.0763</td>\n",
       "      <td>0.0020</td>\n",
       "      <td>-0.1673</td>\n",
       "      <td>-0.7511</td>\n",
       "      <td>-0.0950</td>\n",
       "      <td>0.0070</td>\n",
       "      <td>0.4627</td>\n",
       "      <td>-0.0448</td>\n",
       "    </tr>\n",
       "  </tbody>\n",
       "</table>\n",
       "</div>"
      ],
      "text/plain": [
       "              Explained Variance   hotel  had_cancellations  \\\n",
       "Dimension 1               0.1703 -0.1082            -0.2130   \n",
       "Dimension 2               0.1283  0.5748            -0.2605   \n",
       "Dimension 3               0.1046 -0.0217             0.5976   \n",
       "Dimension 4               0.0935 -0.2809            -0.0228   \n",
       "Dimension 5               0.0873 -0.0253            -0.0659   \n",
       "Dimension 6               0.0855 -0.2704            -0.2417   \n",
       "Dimension 7               0.0775 -0.2111             0.3459   \n",
       "Dimension 8               0.0708 -0.3341             0.1108   \n",
       "Dimension 9               0.0662  0.0723            -0.4535   \n",
       "Dimension 10              0.0617  0.5741             0.3573   \n",
       "Dimension 11              0.0543 -0.1169            -0.0341   \n",
       "\n",
       "              is_repeated_guest  driving     adr  customer_type  \\\n",
       "Dimension 1             -0.3549  -0.0449  0.4157        -0.2132   \n",
       "Dimension 2              0.1610   0.5288  0.0138        -0.1732   \n",
       "Dimension 3              0.4230   0.0532 -0.0047        -0.5770   \n",
       "Dimension 4              0.2986   0.1369  0.2207         0.0473   \n",
       "Dimension 5              0.0738   0.4633  0.5019         0.2523   \n",
       "Dimension 6              0.3259  -0.3698  0.1057         0.0382   \n",
       "Dimension 7              0.1774   0.1386  0.0941         0.5766   \n",
       "Dimension 8             -0.1689   0.1656  0.4424        -0.3501   \n",
       "Dimension 9              0.4890  -0.2953  0.2299        -0.1317   \n",
       "Dimension 10            -0.0858  -0.4536  0.5077         0.1545   \n",
       "Dimension 11            -0.4025  -0.0763  0.0020        -0.1673   \n",
       "\n",
       "              market_segment  family_type  preferred_day  \\\n",
       "Dimension 1           0.5398      -0.3831        -0.0344   \n",
       "Dimension 2           0.0087       0.0032        -0.0597   \n",
       "Dimension 3           0.0044      -0.1026        -0.1573   \n",
       "Dimension 4           0.0102       0.2016         0.8049   \n",
       "Dimension 5          -0.2101       0.2211        -0.2895   \n",
       "Dimension 6           0.0835       0.4601        -0.4393   \n",
       "Dimension 7          -0.0287      -0.5132        -0.1587   \n",
       "Dimension 8          -0.0813       0.0880        -0.0631   \n",
       "Dimension 9          -0.2890      -0.4886         0.0389   \n",
       "Dimension 10         -0.0463       0.1506         0.1229   \n",
       "Dimension 11         -0.7511      -0.0950         0.0070   \n",
       "\n",
       "              total_of_special_requests  room_change  \n",
       "Dimension 1                      0.3404      -0.2037  \n",
       "Dimension 2                      0.3431       0.3803  \n",
       "Dimension 3                      0.1708      -0.2515  \n",
       "Dimension 4                      0.2701      -0.0135  \n",
       "Dimension 5                     -0.1230      -0.5171  \n",
       "Dimension 6                      0.4050       0.1929  \n",
       "Dimension 7                      0.2380       0.3127  \n",
       "Dimension 8                     -0.3810       0.5817  \n",
       "Dimension 9                     -0.2604      -0.0330  \n",
       "Dimension 10                     0.0374       0.0814  \n",
       "Dimension 11                     0.4627      -0.0448  "
      ]
     },
     "execution_count": 54,
     "metadata": {},
     "output_type": "execute_result"
    }
   ],
   "source": [
    "pca_df"
   ]
  },
  {
   "cell_type": "code",
   "execution_count": 55,
   "metadata": {},
   "outputs": [
    {
     "data": {
      "text/plain": [
       "1.0"
      ]
     },
     "execution_count": 55,
     "metadata": {},
     "output_type": "execute_result"
    }
   ],
   "source": [
    "pca_df['Explained Variance'].sum()"
   ]
  },
  {
   "cell_type": "code",
   "execution_count": 58,
   "metadata": {},
   "outputs": [
    {
     "data": {
      "text/plain": [
       "0.8178"
      ]
     },
     "execution_count": 58,
     "metadata": {},
     "output_type": "execute_result"
    }
   ],
   "source": [
    "pca_df['Explained Variance'][:8].sum()"
   ]
  },
  {
   "cell_type": "code",
   "execution_count": 59,
   "metadata": {},
   "outputs": [],
   "source": [
    "# Keep the first 8 principle components \n",
    "pca2 = PCA(n_components=8)\n",
    "pca2.fit(scaled_df)\n",
    "pca_x2 = pca2.transform(scaled_df)"
   ]
  },
  {
   "cell_type": "code",
   "execution_count": 60,
   "metadata": {},
   "outputs": [
    {
     "data": {
      "text/plain": [
       "(117813, 8)"
      ]
     },
     "execution_count": 60,
     "metadata": {},
     "output_type": "execute_result"
    }
   ],
   "source": [
    "pca_x2.shape"
   ]
  },
  {
   "cell_type": "code",
   "execution_count": 61,
   "metadata": {},
   "outputs": [
    {
     "data": {
      "application/vnd.plotly.v1+json": {
       "config": {
        "plotlyServerURL": "https://plot.ly"
       },
       "data": [
        {
         "coloraxis": "coloraxis",
         "hovertemplate": "Feature: %{x}<br>PCA: %{y}<br>color: %{z}<extra></extra>",
         "name": "0",
         "texttemplate": "%{z}",
         "type": "heatmap",
         "x": [
          "hotel",
          "had_cancellations",
          "is_repeated_guest",
          "driving",
          "adr",
          "customer_type",
          "market_segment",
          "family_type",
          "preferred_day",
          "total_of_special_requests",
          "room_change"
         ],
         "xaxis": "x",
         "yaxis": "y",
         "z": [
          [
           -0.1081683759373255,
           -0.2130121751244521,
           -0.3549198238477649,
           -0.04486418296228963,
           0.415683650306639,
           -0.21320133087768814,
           0.5398476051087534,
           -0.3830740821350757,
           -0.03441424737850894,
           0.34037327448903376,
           -0.20365986165235342
          ],
          [
           0.5748392095605792,
           -0.26054233222397194,
           0.16096712286851225,
           0.528771686830872,
           0.01375656089554318,
           -0.17324406487521635,
           0.008732060502163286,
           0.003168344776624801,
           -0.05965684634369867,
           0.3430796191521781,
           0.38028418869031505
          ],
          [
           -0.021734313104483986,
           0.5975823869687654,
           0.42298683665573594,
           0.05321434966665552,
           -0.004748870272784005,
           -0.5770449481200037,
           0.0043726098014775575,
           -0.10255677631876517,
           -0.1572647707534979,
           0.17078289373872554,
           -0.2514633939664716
          ],
          [
           -0.28089549213999687,
           -0.02279580033771374,
           0.2985510796059932,
           0.1369460000867963,
           0.22065862220849064,
           0.047337456192960044,
           0.01015046347724113,
           0.20160114635162768,
           0.8049139780304014,
           0.27008259420355996,
           -0.01352345205198027
          ],
          [
           -0.025264514234711904,
           -0.06594841808939064,
           0.07376294046221116,
           0.46329410132024645,
           0.5019286491565744,
           0.2522817974579368,
           -0.2100505484682648,
           0.22111939996648156,
           -0.28946586437365335,
           -0.12296125965209835,
           -0.5171331169334468
          ],
          [
           -0.2704076743348287,
           -0.24168338057253463,
           0.3258826127929674,
           -0.3697770426908561,
           0.10573328970454382,
           0.0382124849817079,
           0.08351701155526728,
           0.4600552705222551,
           -0.4393405379975612,
           0.4050100208899808,
           0.1929129428782687
          ],
          [
           -0.21106431507373818,
           0.3458614578795632,
           0.1774383044487479,
           0.138605995306665,
           0.09405459180386637,
           0.576600025407663,
           -0.028726674355916634,
           -0.5131766449297908,
           -0.15867831329372567,
           0.23804824515805534,
           0.3127308949276541
          ],
          [
           -0.33413530175264405,
           0.11084972127307735,
           -0.16889718157702316,
           0.16563378462459102,
           0.4424032262327373,
           -0.3500857728841433,
           -0.08132377880078336,
           0.0880071014606662,
           -0.06309994926951237,
           -0.3809844046568449,
           0.5816656606763959
          ]
         ]
        }
       ],
       "layout": {
        "coloraxis": {
         "colorscale": [
          [
           0,
           "#0d0887"
          ],
          [
           0.1111111111111111,
           "#46039f"
          ],
          [
           0.2222222222222222,
           "#7201a8"
          ],
          [
           0.3333333333333333,
           "#9c179e"
          ],
          [
           0.4444444444444444,
           "#bd3786"
          ],
          [
           0.5555555555555556,
           "#d8576b"
          ],
          [
           0.6666666666666666,
           "#ed7953"
          ],
          [
           0.7777777777777778,
           "#fb9f3a"
          ],
          [
           0.8888888888888888,
           "#fdca26"
          ],
          [
           1,
           "#f0f921"
          ]
         ]
        },
        "template": {
         "data": {
          "bar": [
           {
            "error_x": {
             "color": "#f2f5fa"
            },
            "error_y": {
             "color": "#f2f5fa"
            },
            "marker": {
             "line": {
              "color": "rgb(17,17,17)",
              "width": 0.5
             },
             "pattern": {
              "fillmode": "overlay",
              "size": 10,
              "solidity": 0.2
             }
            },
            "type": "bar"
           }
          ],
          "barpolar": [
           {
            "marker": {
             "line": {
              "color": "rgb(17,17,17)",
              "width": 0.5
             },
             "pattern": {
              "fillmode": "overlay",
              "size": 10,
              "solidity": 0.2
             }
            },
            "type": "barpolar"
           }
          ],
          "carpet": [
           {
            "aaxis": {
             "endlinecolor": "#A2B1C6",
             "gridcolor": "#506784",
             "linecolor": "#506784",
             "minorgridcolor": "#506784",
             "startlinecolor": "#A2B1C6"
            },
            "baxis": {
             "endlinecolor": "#A2B1C6",
             "gridcolor": "#506784",
             "linecolor": "#506784",
             "minorgridcolor": "#506784",
             "startlinecolor": "#A2B1C6"
            },
            "type": "carpet"
           }
          ],
          "choropleth": [
           {
            "colorbar": {
             "outlinewidth": 0,
             "ticks": ""
            },
            "type": "choropleth"
           }
          ],
          "contour": [
           {
            "colorbar": {
             "outlinewidth": 0,
             "ticks": ""
            },
            "colorscale": [
             [
              0,
              "#0d0887"
             ],
             [
              0.1111111111111111,
              "#46039f"
             ],
             [
              0.2222222222222222,
              "#7201a8"
             ],
             [
              0.3333333333333333,
              "#9c179e"
             ],
             [
              0.4444444444444444,
              "#bd3786"
             ],
             [
              0.5555555555555556,
              "#d8576b"
             ],
             [
              0.6666666666666666,
              "#ed7953"
             ],
             [
              0.7777777777777778,
              "#fb9f3a"
             ],
             [
              0.8888888888888888,
              "#fdca26"
             ],
             [
              1,
              "#f0f921"
             ]
            ],
            "type": "contour"
           }
          ],
          "contourcarpet": [
           {
            "colorbar": {
             "outlinewidth": 0,
             "ticks": ""
            },
            "type": "contourcarpet"
           }
          ],
          "heatmap": [
           {
            "colorbar": {
             "outlinewidth": 0,
             "ticks": ""
            },
            "colorscale": [
             [
              0,
              "#0d0887"
             ],
             [
              0.1111111111111111,
              "#46039f"
             ],
             [
              0.2222222222222222,
              "#7201a8"
             ],
             [
              0.3333333333333333,
              "#9c179e"
             ],
             [
              0.4444444444444444,
              "#bd3786"
             ],
             [
              0.5555555555555556,
              "#d8576b"
             ],
             [
              0.6666666666666666,
              "#ed7953"
             ],
             [
              0.7777777777777778,
              "#fb9f3a"
             ],
             [
              0.8888888888888888,
              "#fdca26"
             ],
             [
              1,
              "#f0f921"
             ]
            ],
            "type": "heatmap"
           }
          ],
          "heatmapgl": [
           {
            "colorbar": {
             "outlinewidth": 0,
             "ticks": ""
            },
            "colorscale": [
             [
              0,
              "#0d0887"
             ],
             [
              0.1111111111111111,
              "#46039f"
             ],
             [
              0.2222222222222222,
              "#7201a8"
             ],
             [
              0.3333333333333333,
              "#9c179e"
             ],
             [
              0.4444444444444444,
              "#bd3786"
             ],
             [
              0.5555555555555556,
              "#d8576b"
             ],
             [
              0.6666666666666666,
              "#ed7953"
             ],
             [
              0.7777777777777778,
              "#fb9f3a"
             ],
             [
              0.8888888888888888,
              "#fdca26"
             ],
             [
              1,
              "#f0f921"
             ]
            ],
            "type": "heatmapgl"
           }
          ],
          "histogram": [
           {
            "marker": {
             "pattern": {
              "fillmode": "overlay",
              "size": 10,
              "solidity": 0.2
             }
            },
            "type": "histogram"
           }
          ],
          "histogram2d": [
           {
            "colorbar": {
             "outlinewidth": 0,
             "ticks": ""
            },
            "colorscale": [
             [
              0,
              "#0d0887"
             ],
             [
              0.1111111111111111,
              "#46039f"
             ],
             [
              0.2222222222222222,
              "#7201a8"
             ],
             [
              0.3333333333333333,
              "#9c179e"
             ],
             [
              0.4444444444444444,
              "#bd3786"
             ],
             [
              0.5555555555555556,
              "#d8576b"
             ],
             [
              0.6666666666666666,
              "#ed7953"
             ],
             [
              0.7777777777777778,
              "#fb9f3a"
             ],
             [
              0.8888888888888888,
              "#fdca26"
             ],
             [
              1,
              "#f0f921"
             ]
            ],
            "type": "histogram2d"
           }
          ],
          "histogram2dcontour": [
           {
            "colorbar": {
             "outlinewidth": 0,
             "ticks": ""
            },
            "colorscale": [
             [
              0,
              "#0d0887"
             ],
             [
              0.1111111111111111,
              "#46039f"
             ],
             [
              0.2222222222222222,
              "#7201a8"
             ],
             [
              0.3333333333333333,
              "#9c179e"
             ],
             [
              0.4444444444444444,
              "#bd3786"
             ],
             [
              0.5555555555555556,
              "#d8576b"
             ],
             [
              0.6666666666666666,
              "#ed7953"
             ],
             [
              0.7777777777777778,
              "#fb9f3a"
             ],
             [
              0.8888888888888888,
              "#fdca26"
             ],
             [
              1,
              "#f0f921"
             ]
            ],
            "type": "histogram2dcontour"
           }
          ],
          "mesh3d": [
           {
            "colorbar": {
             "outlinewidth": 0,
             "ticks": ""
            },
            "type": "mesh3d"
           }
          ],
          "parcoords": [
           {
            "line": {
             "colorbar": {
              "outlinewidth": 0,
              "ticks": ""
             }
            },
            "type": "parcoords"
           }
          ],
          "pie": [
           {
            "automargin": true,
            "type": "pie"
           }
          ],
          "scatter": [
           {
            "marker": {
             "line": {
              "color": "#283442"
             }
            },
            "type": "scatter"
           }
          ],
          "scatter3d": [
           {
            "line": {
             "colorbar": {
              "outlinewidth": 0,
              "ticks": ""
             }
            },
            "marker": {
             "colorbar": {
              "outlinewidth": 0,
              "ticks": ""
             }
            },
            "type": "scatter3d"
           }
          ],
          "scattercarpet": [
           {
            "marker": {
             "colorbar": {
              "outlinewidth": 0,
              "ticks": ""
             }
            },
            "type": "scattercarpet"
           }
          ],
          "scattergeo": [
           {
            "marker": {
             "colorbar": {
              "outlinewidth": 0,
              "ticks": ""
             }
            },
            "type": "scattergeo"
           }
          ],
          "scattergl": [
           {
            "marker": {
             "line": {
              "color": "#283442"
             }
            },
            "type": "scattergl"
           }
          ],
          "scattermapbox": [
           {
            "marker": {
             "colorbar": {
              "outlinewidth": 0,
              "ticks": ""
             }
            },
            "type": "scattermapbox"
           }
          ],
          "scatterpolar": [
           {
            "marker": {
             "colorbar": {
              "outlinewidth": 0,
              "ticks": ""
             }
            },
            "type": "scatterpolar"
           }
          ],
          "scatterpolargl": [
           {
            "marker": {
             "colorbar": {
              "outlinewidth": 0,
              "ticks": ""
             }
            },
            "type": "scatterpolargl"
           }
          ],
          "scatterternary": [
           {
            "marker": {
             "colorbar": {
              "outlinewidth": 0,
              "ticks": ""
             }
            },
            "type": "scatterternary"
           }
          ],
          "surface": [
           {
            "colorbar": {
             "outlinewidth": 0,
             "ticks": ""
            },
            "colorscale": [
             [
              0,
              "#0d0887"
             ],
             [
              0.1111111111111111,
              "#46039f"
             ],
             [
              0.2222222222222222,
              "#7201a8"
             ],
             [
              0.3333333333333333,
              "#9c179e"
             ],
             [
              0.4444444444444444,
              "#bd3786"
             ],
             [
              0.5555555555555556,
              "#d8576b"
             ],
             [
              0.6666666666666666,
              "#ed7953"
             ],
             [
              0.7777777777777778,
              "#fb9f3a"
             ],
             [
              0.8888888888888888,
              "#fdca26"
             ],
             [
              1,
              "#f0f921"
             ]
            ],
            "type": "surface"
           }
          ],
          "table": [
           {
            "cells": {
             "fill": {
              "color": "#506784"
             },
             "line": {
              "color": "rgb(17,17,17)"
             }
            },
            "header": {
             "fill": {
              "color": "#2a3f5f"
             },
             "line": {
              "color": "rgb(17,17,17)"
             }
            },
            "type": "table"
           }
          ]
         },
         "layout": {
          "annotationdefaults": {
           "arrowcolor": "#f2f5fa",
           "arrowhead": 0,
           "arrowwidth": 1
          },
          "autotypenumbers": "strict",
          "coloraxis": {
           "colorbar": {
            "outlinewidth": 0,
            "ticks": ""
           }
          },
          "colorscale": {
           "diverging": [
            [
             0,
             "#8e0152"
            ],
            [
             0.1,
             "#c51b7d"
            ],
            [
             0.2,
             "#de77ae"
            ],
            [
             0.3,
             "#f1b6da"
            ],
            [
             0.4,
             "#fde0ef"
            ],
            [
             0.5,
             "#f7f7f7"
            ],
            [
             0.6,
             "#e6f5d0"
            ],
            [
             0.7,
             "#b8e186"
            ],
            [
             0.8,
             "#7fbc41"
            ],
            [
             0.9,
             "#4d9221"
            ],
            [
             1,
             "#276419"
            ]
           ],
           "sequential": [
            [
             0,
             "#0d0887"
            ],
            [
             0.1111111111111111,
             "#46039f"
            ],
            [
             0.2222222222222222,
             "#7201a8"
            ],
            [
             0.3333333333333333,
             "#9c179e"
            ],
            [
             0.4444444444444444,
             "#bd3786"
            ],
            [
             0.5555555555555556,
             "#d8576b"
            ],
            [
             0.6666666666666666,
             "#ed7953"
            ],
            [
             0.7777777777777778,
             "#fb9f3a"
            ],
            [
             0.8888888888888888,
             "#fdca26"
            ],
            [
             1,
             "#f0f921"
            ]
           ],
           "sequentialminus": [
            [
             0,
             "#0d0887"
            ],
            [
             0.1111111111111111,
             "#46039f"
            ],
            [
             0.2222222222222222,
             "#7201a8"
            ],
            [
             0.3333333333333333,
             "#9c179e"
            ],
            [
             0.4444444444444444,
             "#bd3786"
            ],
            [
             0.5555555555555556,
             "#d8576b"
            ],
            [
             0.6666666666666666,
             "#ed7953"
            ],
            [
             0.7777777777777778,
             "#fb9f3a"
            ],
            [
             0.8888888888888888,
             "#fdca26"
            ],
            [
             1,
             "#f0f921"
            ]
           ]
          },
          "colorway": [
           "#636efa",
           "#EF553B",
           "#00cc96",
           "#ab63fa",
           "#FFA15A",
           "#19d3f3",
           "#FF6692",
           "#B6E880",
           "#FF97FF",
           "#FECB52"
          ],
          "font": {
           "color": "#f2f5fa"
          },
          "geo": {
           "bgcolor": "rgb(17,17,17)",
           "lakecolor": "rgb(17,17,17)",
           "landcolor": "rgb(17,17,17)",
           "showlakes": true,
           "showland": true,
           "subunitcolor": "#506784"
          },
          "hoverlabel": {
           "align": "left"
          },
          "hovermode": "closest",
          "mapbox": {
           "style": "dark"
          },
          "paper_bgcolor": "rgb(17,17,17)",
          "plot_bgcolor": "rgb(17,17,17)",
          "polar": {
           "angularaxis": {
            "gridcolor": "#506784",
            "linecolor": "#506784",
            "ticks": ""
           },
           "bgcolor": "rgb(17,17,17)",
           "radialaxis": {
            "gridcolor": "#506784",
            "linecolor": "#506784",
            "ticks": ""
           }
          },
          "scene": {
           "xaxis": {
            "backgroundcolor": "rgb(17,17,17)",
            "gridcolor": "#506784",
            "gridwidth": 2,
            "linecolor": "#506784",
            "showbackground": true,
            "ticks": "",
            "zerolinecolor": "#C8D4E3"
           },
           "yaxis": {
            "backgroundcolor": "rgb(17,17,17)",
            "gridcolor": "#506784",
            "gridwidth": 2,
            "linecolor": "#506784",
            "showbackground": true,
            "ticks": "",
            "zerolinecolor": "#C8D4E3"
           },
           "zaxis": {
            "backgroundcolor": "rgb(17,17,17)",
            "gridcolor": "#506784",
            "gridwidth": 2,
            "linecolor": "#506784",
            "showbackground": true,
            "ticks": "",
            "zerolinecolor": "#C8D4E3"
           }
          },
          "shapedefaults": {
           "line": {
            "color": "#f2f5fa"
           }
          },
          "sliderdefaults": {
           "bgcolor": "#C8D4E3",
           "bordercolor": "rgb(17,17,17)",
           "borderwidth": 1,
           "tickwidth": 0
          },
          "ternary": {
           "aaxis": {
            "gridcolor": "#506784",
            "linecolor": "#506784",
            "ticks": ""
           },
           "baxis": {
            "gridcolor": "#506784",
            "linecolor": "#506784",
            "ticks": ""
           },
           "bgcolor": "rgb(17,17,17)",
           "caxis": {
            "gridcolor": "#506784",
            "linecolor": "#506784",
            "ticks": ""
           }
          },
          "title": {
           "x": 0.05
          },
          "updatemenudefaults": {
           "bgcolor": "#506784",
           "borderwidth": 0
          },
          "xaxis": {
           "automargin": true,
           "gridcolor": "#283442",
           "linecolor": "#506784",
           "ticks": "",
           "title": {
            "standoff": 15
           },
           "zerolinecolor": "#283442",
           "zerolinewidth": 2
          },
          "yaxis": {
           "automargin": true,
           "gridcolor": "#283442",
           "linecolor": "#506784",
           "ticks": "",
           "title": {
            "standoff": 15
           },
           "zerolinecolor": "#283442",
           "zerolinewidth": 2
          }
         }
        },
        "title": {
         "text": "PCA_Explained Variance"
        },
        "xaxis": {
         "anchor": "y",
         "constrain": "domain",
         "domain": [
          0,
          1
         ],
         "scaleanchor": "y",
         "title": {
          "text": "Feature"
         }
        },
        "yaxis": {
         "anchor": "x",
         "autorange": "reversed",
         "constrain": "domain",
         "domain": [
          0,
          1
         ],
         "title": {
          "text": "PCA"
         }
        }
       }
      },
      "text/html": [
       "<div>                            <div id=\"2275fd1c-fa6f-495f-9533-9b8616b99a2b\" class=\"plotly-graph-div\" style=\"height:525px; width:100%;\"></div>            <script type=\"text/javascript\">                require([\"plotly\"], function(Plotly) {                    window.PLOTLYENV=window.PLOTLYENV || {};                                    if (document.getElementById(\"2275fd1c-fa6f-495f-9533-9b8616b99a2b\")) {                    Plotly.newPlot(                        \"2275fd1c-fa6f-495f-9533-9b8616b99a2b\",                        [{\"coloraxis\":\"coloraxis\",\"name\":\"0\",\"texttemplate\":\"%{z}\",\"x\":[\"hotel\",\"had_cancellations\",\"is_repeated_guest\",\"driving\",\"adr\",\"customer_type\",\"market_segment\",\"family_type\",\"preferred_day\",\"total_of_special_requests\",\"room_change\"],\"z\":[[-0.1081683759373255,-0.2130121751244521,-0.3549198238477649,-0.04486418296228963,0.415683650306639,-0.21320133087768814,0.5398476051087534,-0.3830740821350757,-0.03441424737850894,0.34037327448903376,-0.20365986165235342],[0.5748392095605792,-0.26054233222397194,0.16096712286851225,0.528771686830872,0.01375656089554318,-0.17324406487521635,0.008732060502163286,0.003168344776624801,-0.05965684634369867,0.3430796191521781,0.38028418869031505],[-0.021734313104483986,0.5975823869687654,0.42298683665573594,0.05321434966665552,-0.004748870272784005,-0.5770449481200037,0.0043726098014775575,-0.10255677631876517,-0.1572647707534979,0.17078289373872554,-0.2514633939664716],[-0.28089549213999687,-0.02279580033771374,0.2985510796059932,0.1369460000867963,0.22065862220849064,0.047337456192960044,0.01015046347724113,0.20160114635162768,0.8049139780304014,0.27008259420355996,-0.01352345205198027],[-0.025264514234711904,-0.06594841808939064,0.07376294046221116,0.46329410132024645,0.5019286491565744,0.2522817974579368,-0.2100505484682648,0.22111939996648156,-0.28946586437365335,-0.12296125965209835,-0.5171331169334468],[-0.2704076743348287,-0.24168338057253463,0.3258826127929674,-0.3697770426908561,0.10573328970454382,0.0382124849817079,0.08351701155526728,0.4600552705222551,-0.4393405379975612,0.4050100208899808,0.1929129428782687],[-0.21106431507373818,0.3458614578795632,0.1774383044487479,0.138605995306665,0.09405459180386637,0.576600025407663,-0.028726674355916634,-0.5131766449297908,-0.15867831329372567,0.23804824515805534,0.3127308949276541],[-0.33413530175264405,0.11084972127307735,-0.16889718157702316,0.16563378462459102,0.4424032262327373,-0.3500857728841433,-0.08132377880078336,0.0880071014606662,-0.06309994926951237,-0.3809844046568449,0.5816656606763959]],\"type\":\"heatmap\",\"xaxis\":\"x\",\"yaxis\":\"y\",\"hovertemplate\":\"Feature: %{x}<br>PCA: %{y}<br>color: %{z}<extra></extra>\"}],                        {\"template\":{\"data\":{\"barpolar\":[{\"marker\":{\"line\":{\"color\":\"rgb(17,17,17)\",\"width\":0.5},\"pattern\":{\"fillmode\":\"overlay\",\"size\":10,\"solidity\":0.2}},\"type\":\"barpolar\"}],\"bar\":[{\"error_x\":{\"color\":\"#f2f5fa\"},\"error_y\":{\"color\":\"#f2f5fa\"},\"marker\":{\"line\":{\"color\":\"rgb(17,17,17)\",\"width\":0.5},\"pattern\":{\"fillmode\":\"overlay\",\"size\":10,\"solidity\":0.2}},\"type\":\"bar\"}],\"carpet\":[{\"aaxis\":{\"endlinecolor\":\"#A2B1C6\",\"gridcolor\":\"#506784\",\"linecolor\":\"#506784\",\"minorgridcolor\":\"#506784\",\"startlinecolor\":\"#A2B1C6\"},\"baxis\":{\"endlinecolor\":\"#A2B1C6\",\"gridcolor\":\"#506784\",\"linecolor\":\"#506784\",\"minorgridcolor\":\"#506784\",\"startlinecolor\":\"#A2B1C6\"},\"type\":\"carpet\"}],\"choropleth\":[{\"colorbar\":{\"outlinewidth\":0,\"ticks\":\"\"},\"type\":\"choropleth\"}],\"contourcarpet\":[{\"colorbar\":{\"outlinewidth\":0,\"ticks\":\"\"},\"type\":\"contourcarpet\"}],\"contour\":[{\"colorbar\":{\"outlinewidth\":0,\"ticks\":\"\"},\"colorscale\":[[0.0,\"#0d0887\"],[0.1111111111111111,\"#46039f\"],[0.2222222222222222,\"#7201a8\"],[0.3333333333333333,\"#9c179e\"],[0.4444444444444444,\"#bd3786\"],[0.5555555555555556,\"#d8576b\"],[0.6666666666666666,\"#ed7953\"],[0.7777777777777778,\"#fb9f3a\"],[0.8888888888888888,\"#fdca26\"],[1.0,\"#f0f921\"]],\"type\":\"contour\"}],\"heatmapgl\":[{\"colorbar\":{\"outlinewidth\":0,\"ticks\":\"\"},\"colorscale\":[[0.0,\"#0d0887\"],[0.1111111111111111,\"#46039f\"],[0.2222222222222222,\"#7201a8\"],[0.3333333333333333,\"#9c179e\"],[0.4444444444444444,\"#bd3786\"],[0.5555555555555556,\"#d8576b\"],[0.6666666666666666,\"#ed7953\"],[0.7777777777777778,\"#fb9f3a\"],[0.8888888888888888,\"#fdca26\"],[1.0,\"#f0f921\"]],\"type\":\"heatmapgl\"}],\"heatmap\":[{\"colorbar\":{\"outlinewidth\":0,\"ticks\":\"\"},\"colorscale\":[[0.0,\"#0d0887\"],[0.1111111111111111,\"#46039f\"],[0.2222222222222222,\"#7201a8\"],[0.3333333333333333,\"#9c179e\"],[0.4444444444444444,\"#bd3786\"],[0.5555555555555556,\"#d8576b\"],[0.6666666666666666,\"#ed7953\"],[0.7777777777777778,\"#fb9f3a\"],[0.8888888888888888,\"#fdca26\"],[1.0,\"#f0f921\"]],\"type\":\"heatmap\"}],\"histogram2dcontour\":[{\"colorbar\":{\"outlinewidth\":0,\"ticks\":\"\"},\"colorscale\":[[0.0,\"#0d0887\"],[0.1111111111111111,\"#46039f\"],[0.2222222222222222,\"#7201a8\"],[0.3333333333333333,\"#9c179e\"],[0.4444444444444444,\"#bd3786\"],[0.5555555555555556,\"#d8576b\"],[0.6666666666666666,\"#ed7953\"],[0.7777777777777778,\"#fb9f3a\"],[0.8888888888888888,\"#fdca26\"],[1.0,\"#f0f921\"]],\"type\":\"histogram2dcontour\"}],\"histogram2d\":[{\"colorbar\":{\"outlinewidth\":0,\"ticks\":\"\"},\"colorscale\":[[0.0,\"#0d0887\"],[0.1111111111111111,\"#46039f\"],[0.2222222222222222,\"#7201a8\"],[0.3333333333333333,\"#9c179e\"],[0.4444444444444444,\"#bd3786\"],[0.5555555555555556,\"#d8576b\"],[0.6666666666666666,\"#ed7953\"],[0.7777777777777778,\"#fb9f3a\"],[0.8888888888888888,\"#fdca26\"],[1.0,\"#f0f921\"]],\"type\":\"histogram2d\"}],\"histogram\":[{\"marker\":{\"pattern\":{\"fillmode\":\"overlay\",\"size\":10,\"solidity\":0.2}},\"type\":\"histogram\"}],\"mesh3d\":[{\"colorbar\":{\"outlinewidth\":0,\"ticks\":\"\"},\"type\":\"mesh3d\"}],\"parcoords\":[{\"line\":{\"colorbar\":{\"outlinewidth\":0,\"ticks\":\"\"}},\"type\":\"parcoords\"}],\"pie\":[{\"automargin\":true,\"type\":\"pie\"}],\"scatter3d\":[{\"line\":{\"colorbar\":{\"outlinewidth\":0,\"ticks\":\"\"}},\"marker\":{\"colorbar\":{\"outlinewidth\":0,\"ticks\":\"\"}},\"type\":\"scatter3d\"}],\"scattercarpet\":[{\"marker\":{\"colorbar\":{\"outlinewidth\":0,\"ticks\":\"\"}},\"type\":\"scattercarpet\"}],\"scattergeo\":[{\"marker\":{\"colorbar\":{\"outlinewidth\":0,\"ticks\":\"\"}},\"type\":\"scattergeo\"}],\"scattergl\":[{\"marker\":{\"line\":{\"color\":\"#283442\"}},\"type\":\"scattergl\"}],\"scattermapbox\":[{\"marker\":{\"colorbar\":{\"outlinewidth\":0,\"ticks\":\"\"}},\"type\":\"scattermapbox\"}],\"scatterpolargl\":[{\"marker\":{\"colorbar\":{\"outlinewidth\":0,\"ticks\":\"\"}},\"type\":\"scatterpolargl\"}],\"scatterpolar\":[{\"marker\":{\"colorbar\":{\"outlinewidth\":0,\"ticks\":\"\"}},\"type\":\"scatterpolar\"}],\"scatter\":[{\"marker\":{\"line\":{\"color\":\"#283442\"}},\"type\":\"scatter\"}],\"scatterternary\":[{\"marker\":{\"colorbar\":{\"outlinewidth\":0,\"ticks\":\"\"}},\"type\":\"scatterternary\"}],\"surface\":[{\"colorbar\":{\"outlinewidth\":0,\"ticks\":\"\"},\"colorscale\":[[0.0,\"#0d0887\"],[0.1111111111111111,\"#46039f\"],[0.2222222222222222,\"#7201a8\"],[0.3333333333333333,\"#9c179e\"],[0.4444444444444444,\"#bd3786\"],[0.5555555555555556,\"#d8576b\"],[0.6666666666666666,\"#ed7953\"],[0.7777777777777778,\"#fb9f3a\"],[0.8888888888888888,\"#fdca26\"],[1.0,\"#f0f921\"]],\"type\":\"surface\"}],\"table\":[{\"cells\":{\"fill\":{\"color\":\"#506784\"},\"line\":{\"color\":\"rgb(17,17,17)\"}},\"header\":{\"fill\":{\"color\":\"#2a3f5f\"},\"line\":{\"color\":\"rgb(17,17,17)\"}},\"type\":\"table\"}]},\"layout\":{\"annotationdefaults\":{\"arrowcolor\":\"#f2f5fa\",\"arrowhead\":0,\"arrowwidth\":1},\"autotypenumbers\":\"strict\",\"coloraxis\":{\"colorbar\":{\"outlinewidth\":0,\"ticks\":\"\"}},\"colorscale\":{\"diverging\":[[0,\"#8e0152\"],[0.1,\"#c51b7d\"],[0.2,\"#de77ae\"],[0.3,\"#f1b6da\"],[0.4,\"#fde0ef\"],[0.5,\"#f7f7f7\"],[0.6,\"#e6f5d0\"],[0.7,\"#b8e186\"],[0.8,\"#7fbc41\"],[0.9,\"#4d9221\"],[1,\"#276419\"]],\"sequential\":[[0.0,\"#0d0887\"],[0.1111111111111111,\"#46039f\"],[0.2222222222222222,\"#7201a8\"],[0.3333333333333333,\"#9c179e\"],[0.4444444444444444,\"#bd3786\"],[0.5555555555555556,\"#d8576b\"],[0.6666666666666666,\"#ed7953\"],[0.7777777777777778,\"#fb9f3a\"],[0.8888888888888888,\"#fdca26\"],[1.0,\"#f0f921\"]],\"sequentialminus\":[[0.0,\"#0d0887\"],[0.1111111111111111,\"#46039f\"],[0.2222222222222222,\"#7201a8\"],[0.3333333333333333,\"#9c179e\"],[0.4444444444444444,\"#bd3786\"],[0.5555555555555556,\"#d8576b\"],[0.6666666666666666,\"#ed7953\"],[0.7777777777777778,\"#fb9f3a\"],[0.8888888888888888,\"#fdca26\"],[1.0,\"#f0f921\"]]},\"colorway\":[\"#636efa\",\"#EF553B\",\"#00cc96\",\"#ab63fa\",\"#FFA15A\",\"#19d3f3\",\"#FF6692\",\"#B6E880\",\"#FF97FF\",\"#FECB52\"],\"font\":{\"color\":\"#f2f5fa\"},\"geo\":{\"bgcolor\":\"rgb(17,17,17)\",\"lakecolor\":\"rgb(17,17,17)\",\"landcolor\":\"rgb(17,17,17)\",\"showlakes\":true,\"showland\":true,\"subunitcolor\":\"#506784\"},\"hoverlabel\":{\"align\":\"left\"},\"hovermode\":\"closest\",\"mapbox\":{\"style\":\"dark\"},\"paper_bgcolor\":\"rgb(17,17,17)\",\"plot_bgcolor\":\"rgb(17,17,17)\",\"polar\":{\"angularaxis\":{\"gridcolor\":\"#506784\",\"linecolor\":\"#506784\",\"ticks\":\"\"},\"bgcolor\":\"rgb(17,17,17)\",\"radialaxis\":{\"gridcolor\":\"#506784\",\"linecolor\":\"#506784\",\"ticks\":\"\"}},\"scene\":{\"xaxis\":{\"backgroundcolor\":\"rgb(17,17,17)\",\"gridcolor\":\"#506784\",\"gridwidth\":2,\"linecolor\":\"#506784\",\"showbackground\":true,\"ticks\":\"\",\"zerolinecolor\":\"#C8D4E3\"},\"yaxis\":{\"backgroundcolor\":\"rgb(17,17,17)\",\"gridcolor\":\"#506784\",\"gridwidth\":2,\"linecolor\":\"#506784\",\"showbackground\":true,\"ticks\":\"\",\"zerolinecolor\":\"#C8D4E3\"},\"zaxis\":{\"backgroundcolor\":\"rgb(17,17,17)\",\"gridcolor\":\"#506784\",\"gridwidth\":2,\"linecolor\":\"#506784\",\"showbackground\":true,\"ticks\":\"\",\"zerolinecolor\":\"#C8D4E3\"}},\"shapedefaults\":{\"line\":{\"color\":\"#f2f5fa\"}},\"sliderdefaults\":{\"bgcolor\":\"#C8D4E3\",\"bordercolor\":\"rgb(17,17,17)\",\"borderwidth\":1,\"tickwidth\":0},\"ternary\":{\"aaxis\":{\"gridcolor\":\"#506784\",\"linecolor\":\"#506784\",\"ticks\":\"\"},\"baxis\":{\"gridcolor\":\"#506784\",\"linecolor\":\"#506784\",\"ticks\":\"\"},\"bgcolor\":\"rgb(17,17,17)\",\"caxis\":{\"gridcolor\":\"#506784\",\"linecolor\":\"#506784\",\"ticks\":\"\"}},\"title\":{\"x\":0.05},\"updatemenudefaults\":{\"bgcolor\":\"#506784\",\"borderwidth\":0},\"xaxis\":{\"automargin\":true,\"gridcolor\":\"#283442\",\"linecolor\":\"#506784\",\"ticks\":\"\",\"title\":{\"standoff\":15},\"zerolinecolor\":\"#283442\",\"zerolinewidth\":2},\"yaxis\":{\"automargin\":true,\"gridcolor\":\"#283442\",\"linecolor\":\"#506784\",\"ticks\":\"\",\"title\":{\"standoff\":15},\"zerolinecolor\":\"#283442\",\"zerolinewidth\":2}}},\"xaxis\":{\"anchor\":\"y\",\"domain\":[0.0,1.0],\"scaleanchor\":\"y\",\"constrain\":\"domain\",\"title\":{\"text\":\"Feature\"}},\"yaxis\":{\"anchor\":\"x\",\"domain\":[0.0,1.0],\"autorange\":\"reversed\",\"constrain\":\"domain\",\"title\":{\"text\":\"PCA\"}},\"coloraxis\":{\"colorscale\":[[0.0,\"#0d0887\"],[0.1111111111111111,\"#46039f\"],[0.2222222222222222,\"#7201a8\"],[0.3333333333333333,\"#9c179e\"],[0.4444444444444444,\"#bd3786\"],[0.5555555555555556,\"#d8576b\"],[0.6666666666666666,\"#ed7953\"],[0.7777777777777778,\"#fb9f3a\"],[0.8888888888888888,\"#fdca26\"],[1.0,\"#f0f921\"]]},\"title\":{\"text\":\"PCA_Explained Variance\"}},                        {\"responsive\": true}                    ).then(function(){\n",
       "                            \n",
       "var gd = document.getElementById('2275fd1c-fa6f-495f-9533-9b8616b99a2b');\n",
       "var x = new MutationObserver(function (mutations, observer) {{\n",
       "        var display = window.getComputedStyle(gd).display;\n",
       "        if (!display || display === 'none') {{\n",
       "            console.log([gd, 'removed!']);\n",
       "            Plotly.purge(gd);\n",
       "            observer.disconnect();\n",
       "        }}\n",
       "}});\n",
       "\n",
       "// Listen for the removal of the full notebook cells\n",
       "var notebookContainer = gd.closest('#notebook-container');\n",
       "if (notebookContainer) {{\n",
       "    x.observe(notebookContainer, {childList: true});\n",
       "}}\n",
       "\n",
       "// Listen for the clearing of the current output cell\n",
       "var outputEl = gd.closest('.output');\n",
       "if (outputEl) {{\n",
       "    x.observe(outputEl, {childList: true});\n",
       "}}\n",
       "\n",
       "                        })                };                });            </script>        </div>"
      ]
     },
     "metadata": {},
     "output_type": "display_data"
    }
   ],
   "source": [
    "px.imshow(pca2.components_, labels={'x':'Feature', 'y': 'PCA'},x=scaled_df.columns, \n",
    "          title = 'PCA_Explained Variance', text_auto=True, template='plotly_dark')"
   ]
  },
  {
   "cell_type": "code",
   "execution_count": 62,
   "metadata": {},
   "outputs": [],
   "source": [
    "# Dimension indexing\n",
    "dimensions = ['Dimension {}'.format(i) for i in range(1,len(pca2.components_)+1)]\n",
    "\n",
    "#PCA components\n",
    "components = pd.DataFrame(np.round(pca2.components_,4), columns = scaled_df.keys(), index= dimensions)\n",
    "components.index = dimensions\n",
    "\n",
    "#PCA explained variance\n",
    "ratios = pca2.explained_variance_ratio_.reshape(len(pca2.components_),1)\n",
    "variance_ratios = pd.DataFrame(np.round(ratios,4), columns = ['Explained Variance'], index = dimensions)\n",
    "variance_ratios.index = dimensions\n",
    "\n",
    "#concat both dfs\n",
    "pca2_df = pd.concat([variance_ratios,components], axis=1)"
   ]
  },
  {
   "cell_type": "code",
   "execution_count": 63,
   "metadata": {},
   "outputs": [
    {
     "data": {
      "text/html": [
       "<div>\n",
       "<style scoped>\n",
       "    .dataframe tbody tr th:only-of-type {\n",
       "        vertical-align: middle;\n",
       "    }\n",
       "\n",
       "    .dataframe tbody tr th {\n",
       "        vertical-align: top;\n",
       "    }\n",
       "\n",
       "    .dataframe thead th {\n",
       "        text-align: right;\n",
       "    }\n",
       "</style>\n",
       "<table border=\"1\" class=\"dataframe\">\n",
       "  <thead>\n",
       "    <tr style=\"text-align: right;\">\n",
       "      <th></th>\n",
       "      <th>Explained Variance</th>\n",
       "      <th>hotel</th>\n",
       "      <th>had_cancellations</th>\n",
       "      <th>is_repeated_guest</th>\n",
       "      <th>driving</th>\n",
       "      <th>adr</th>\n",
       "      <th>customer_type</th>\n",
       "      <th>market_segment</th>\n",
       "      <th>family_type</th>\n",
       "      <th>preferred_day</th>\n",
       "      <th>total_of_special_requests</th>\n",
       "      <th>room_change</th>\n",
       "    </tr>\n",
       "  </thead>\n",
       "  <tbody>\n",
       "    <tr>\n",
       "      <th>Dimension 1</th>\n",
       "      <td>0.1703</td>\n",
       "      <td>-0.1082</td>\n",
       "      <td>-0.2130</td>\n",
       "      <td>-0.3549</td>\n",
       "      <td>-0.0449</td>\n",
       "      <td>0.4157</td>\n",
       "      <td>-0.2132</td>\n",
       "      <td>0.5398</td>\n",
       "      <td>-0.3831</td>\n",
       "      <td>-0.0344</td>\n",
       "      <td>0.3404</td>\n",
       "      <td>-0.2037</td>\n",
       "    </tr>\n",
       "    <tr>\n",
       "      <th>Dimension 2</th>\n",
       "      <td>0.1283</td>\n",
       "      <td>0.5748</td>\n",
       "      <td>-0.2605</td>\n",
       "      <td>0.1610</td>\n",
       "      <td>0.5288</td>\n",
       "      <td>0.0138</td>\n",
       "      <td>-0.1732</td>\n",
       "      <td>0.0087</td>\n",
       "      <td>0.0032</td>\n",
       "      <td>-0.0597</td>\n",
       "      <td>0.3431</td>\n",
       "      <td>0.3803</td>\n",
       "    </tr>\n",
       "    <tr>\n",
       "      <th>Dimension 3</th>\n",
       "      <td>0.1046</td>\n",
       "      <td>-0.0217</td>\n",
       "      <td>0.5976</td>\n",
       "      <td>0.4230</td>\n",
       "      <td>0.0532</td>\n",
       "      <td>-0.0047</td>\n",
       "      <td>-0.5770</td>\n",
       "      <td>0.0044</td>\n",
       "      <td>-0.1026</td>\n",
       "      <td>-0.1573</td>\n",
       "      <td>0.1708</td>\n",
       "      <td>-0.2515</td>\n",
       "    </tr>\n",
       "    <tr>\n",
       "      <th>Dimension 4</th>\n",
       "      <td>0.0935</td>\n",
       "      <td>-0.2809</td>\n",
       "      <td>-0.0228</td>\n",
       "      <td>0.2986</td>\n",
       "      <td>0.1369</td>\n",
       "      <td>0.2207</td>\n",
       "      <td>0.0473</td>\n",
       "      <td>0.0102</td>\n",
       "      <td>0.2016</td>\n",
       "      <td>0.8049</td>\n",
       "      <td>0.2701</td>\n",
       "      <td>-0.0135</td>\n",
       "    </tr>\n",
       "    <tr>\n",
       "      <th>Dimension 5</th>\n",
       "      <td>0.0873</td>\n",
       "      <td>-0.0253</td>\n",
       "      <td>-0.0659</td>\n",
       "      <td>0.0738</td>\n",
       "      <td>0.4633</td>\n",
       "      <td>0.5019</td>\n",
       "      <td>0.2523</td>\n",
       "      <td>-0.2101</td>\n",
       "      <td>0.2211</td>\n",
       "      <td>-0.2895</td>\n",
       "      <td>-0.1230</td>\n",
       "      <td>-0.5171</td>\n",
       "    </tr>\n",
       "    <tr>\n",
       "      <th>Dimension 6</th>\n",
       "      <td>0.0855</td>\n",
       "      <td>-0.2704</td>\n",
       "      <td>-0.2417</td>\n",
       "      <td>0.3259</td>\n",
       "      <td>-0.3698</td>\n",
       "      <td>0.1057</td>\n",
       "      <td>0.0382</td>\n",
       "      <td>0.0835</td>\n",
       "      <td>0.4601</td>\n",
       "      <td>-0.4393</td>\n",
       "      <td>0.4050</td>\n",
       "      <td>0.1929</td>\n",
       "    </tr>\n",
       "    <tr>\n",
       "      <th>Dimension 7</th>\n",
       "      <td>0.0775</td>\n",
       "      <td>-0.2111</td>\n",
       "      <td>0.3459</td>\n",
       "      <td>0.1774</td>\n",
       "      <td>0.1386</td>\n",
       "      <td>0.0941</td>\n",
       "      <td>0.5766</td>\n",
       "      <td>-0.0287</td>\n",
       "      <td>-0.5132</td>\n",
       "      <td>-0.1587</td>\n",
       "      <td>0.2380</td>\n",
       "      <td>0.3127</td>\n",
       "    </tr>\n",
       "    <tr>\n",
       "      <th>Dimension 8</th>\n",
       "      <td>0.0708</td>\n",
       "      <td>-0.3341</td>\n",
       "      <td>0.1108</td>\n",
       "      <td>-0.1689</td>\n",
       "      <td>0.1656</td>\n",
       "      <td>0.4424</td>\n",
       "      <td>-0.3501</td>\n",
       "      <td>-0.0813</td>\n",
       "      <td>0.0880</td>\n",
       "      <td>-0.0631</td>\n",
       "      <td>-0.3810</td>\n",
       "      <td>0.5817</td>\n",
       "    </tr>\n",
       "  </tbody>\n",
       "</table>\n",
       "</div>"
      ],
      "text/plain": [
       "             Explained Variance   hotel  had_cancellations  is_repeated_guest  \\\n",
       "Dimension 1              0.1703 -0.1082            -0.2130            -0.3549   \n",
       "Dimension 2              0.1283  0.5748            -0.2605             0.1610   \n",
       "Dimension 3              0.1046 -0.0217             0.5976             0.4230   \n",
       "Dimension 4              0.0935 -0.2809            -0.0228             0.2986   \n",
       "Dimension 5              0.0873 -0.0253            -0.0659             0.0738   \n",
       "Dimension 6              0.0855 -0.2704            -0.2417             0.3259   \n",
       "Dimension 7              0.0775 -0.2111             0.3459             0.1774   \n",
       "Dimension 8              0.0708 -0.3341             0.1108            -0.1689   \n",
       "\n",
       "             driving     adr  customer_type  market_segment  family_type  \\\n",
       "Dimension 1  -0.0449  0.4157        -0.2132          0.5398      -0.3831   \n",
       "Dimension 2   0.5288  0.0138        -0.1732          0.0087       0.0032   \n",
       "Dimension 3   0.0532 -0.0047        -0.5770          0.0044      -0.1026   \n",
       "Dimension 4   0.1369  0.2207         0.0473          0.0102       0.2016   \n",
       "Dimension 5   0.4633  0.5019         0.2523         -0.2101       0.2211   \n",
       "Dimension 6  -0.3698  0.1057         0.0382          0.0835       0.4601   \n",
       "Dimension 7   0.1386  0.0941         0.5766         -0.0287      -0.5132   \n",
       "Dimension 8   0.1656  0.4424        -0.3501         -0.0813       0.0880   \n",
       "\n",
       "             preferred_day  total_of_special_requests  room_change  \n",
       "Dimension 1        -0.0344                     0.3404      -0.2037  \n",
       "Dimension 2        -0.0597                     0.3431       0.3803  \n",
       "Dimension 3        -0.1573                     0.1708      -0.2515  \n",
       "Dimension 4         0.8049                     0.2701      -0.0135  \n",
       "Dimension 5        -0.2895                    -0.1230      -0.5171  \n",
       "Dimension 6        -0.4393                     0.4050       0.1929  \n",
       "Dimension 7        -0.1587                     0.2380       0.3127  \n",
       "Dimension 8        -0.0631                    -0.3810       0.5817  "
      ]
     },
     "execution_count": 63,
     "metadata": {},
     "output_type": "execute_result"
    }
   ],
   "source": [
    "pca2_df"
   ]
  },
  {
   "cell_type": "code",
   "execution_count": 64,
   "metadata": {},
   "outputs": [
    {
     "data": {
      "text/plain": [
       "0.8178"
      ]
     },
     "execution_count": 64,
     "metadata": {},
     "output_type": "execute_result"
    }
   ],
   "source": [
    "pca2_df['Explained Variance'].sum()"
   ]
  },
  {
   "cell_type": "markdown",
   "metadata": {},
   "source": [
    "## Clustering"
   ]
  },
  {
   "cell_type": "code",
   "execution_count": 65,
   "metadata": {},
   "outputs": [],
   "source": [
    "from sklearn.metrics import classification_report, confusion_matrix, silhouette_score\n",
    "from sklearn.cluster import KMeans"
   ]
  },
  {
   "cell_type": "code",
   "execution_count": 82,
   "metadata": {},
   "outputs": [
    {
     "data": {
      "image/png": "[encoded data removed]",
      "text/plain": [
       "<Figure size 1152x648 with 1 Axes>"
      ]
     },
     "metadata": {
      "needs_background": "light"
     },
     "output_type": "display_data"
    }
   ],
   "source": [
    "#Using elbow method to determine the number of clusters\n",
    "w = []\n",
    "k = range(1,15)\n",
    "for i in k:\n",
    "    kmeans = KMeans(n_clusters=i)\n",
    "    kmeans.fit(pca_x2)\n",
    "    w.append(kmeans.inertia_)\n",
    "    \n",
    "plt.figure(figsize=(16,9))\n",
    "plt.plot(k,w)\n",
    "plt.xlabel(\"number of clusters\")\n",
    "plt.ylabel(\"distortion\")\n",
    "plt.title('The Elbow Method showing the optimal number of clusters (i)')\n",
    "\n",
    "plt.show()"
   ]
  },
  {
   "cell_type": "code",
   "execution_count": 68,
   "metadata": {},
   "outputs": [
    {
     "name": "stderr",
     "output_type": "stream",
     "text": [
      "/Users/premchandran/opt/anaconda3/envs/python38/lib/python3.8/site-packages/pandas/core/frame.py:3678: SettingWithCopyWarning:\n",
      "\n",
      "\n",
      "A value is trying to be set on a copy of a slice from a DataFrame.\n",
      "Try using .loc[row_indexer,col_indexer] = value instead\n",
      "\n",
      "See the caveats in the documentation: https://pandas.pydata.org/pandas-docs/stable/user_guide/indexing.html#returning-a-view-versus-a-copy\n",
      "\n"
     ]
    }
   ],
   "source": [
    "data_small[categorical_cols] = oe.inverse_transform(data_small[categorical_cols])"
   ]
  },
  {
   "cell_type": "code",
   "execution_count": 69,
   "metadata": {},
   "outputs": [
    {
     "data": {
      "text/html": [
       "<div>\n",
       "<style scoped>\n",
       "    .dataframe tbody tr th:only-of-type {\n",
       "        vertical-align: middle;\n",
       "    }\n",
       "\n",
       "    .dataframe tbody tr th {\n",
       "        vertical-align: top;\n",
       "    }\n",
       "\n",
       "    .dataframe thead th {\n",
       "        text-align: right;\n",
       "    }\n",
       "</style>\n",
       "<table border=\"1\" class=\"dataframe\">\n",
       "  <thead>\n",
       "    <tr style=\"text-align: right;\">\n",
       "      <th></th>\n",
       "      <th>hotel</th>\n",
       "      <th>had_cancellations</th>\n",
       "      <th>is_repeated_guest</th>\n",
       "      <th>driving</th>\n",
       "      <th>adr</th>\n",
       "      <th>customer_type</th>\n",
       "      <th>market_segment</th>\n",
       "      <th>family_type</th>\n",
       "      <th>preferred_day</th>\n",
       "      <th>total_of_special_requests</th>\n",
       "      <th>room_change</th>\n",
       "    </tr>\n",
       "  </thead>\n",
       "  <tbody>\n",
       "    <tr>\n",
       "      <th>0</th>\n",
       "      <td>Resort Hotel</td>\n",
       "      <td>False</td>\n",
       "      <td>0</td>\n",
       "      <td>False</td>\n",
       "      <td>0.00</td>\n",
       "      <td>Transient</td>\n",
       "      <td>Direct</td>\n",
       "      <td>Couple</td>\n",
       "      <td>weekday</td>\n",
       "      <td>0</td>\n",
       "      <td>False</td>\n",
       "    </tr>\n",
       "    <tr>\n",
       "      <th>75559</th>\n",
       "      <td>City Hotel</td>\n",
       "      <td>False</td>\n",
       "      <td>0</td>\n",
       "      <td>False</td>\n",
       "      <td>80.00</td>\n",
       "      <td>Transient</td>\n",
       "      <td>Offline TA/TO</td>\n",
       "      <td>Single</td>\n",
       "      <td>weekday</td>\n",
       "      <td>0</td>\n",
       "      <td>False</td>\n",
       "    </tr>\n",
       "    <tr>\n",
       "      <th>75560</th>\n",
       "      <td>City Hotel</td>\n",
       "      <td>False</td>\n",
       "      <td>0</td>\n",
       "      <td>False</td>\n",
       "      <td>101.50</td>\n",
       "      <td>Transient</td>\n",
       "      <td>Offline TA/TO</td>\n",
       "      <td>Couple</td>\n",
       "      <td>weekday</td>\n",
       "      <td>0</td>\n",
       "      <td>False</td>\n",
       "    </tr>\n",
       "    <tr>\n",
       "      <th>75561</th>\n",
       "      <td>City Hotel</td>\n",
       "      <td>False</td>\n",
       "      <td>0</td>\n",
       "      <td>False</td>\n",
       "      <td>101.50</td>\n",
       "      <td>Transient</td>\n",
       "      <td>Offline TA/TO</td>\n",
       "      <td>Couple</td>\n",
       "      <td>weekday</td>\n",
       "      <td>0</td>\n",
       "      <td>False</td>\n",
       "    </tr>\n",
       "    <tr>\n",
       "      <th>75562</th>\n",
       "      <td>City Hotel</td>\n",
       "      <td>False</td>\n",
       "      <td>0</td>\n",
       "      <td>False</td>\n",
       "      <td>101.50</td>\n",
       "      <td>Transient</td>\n",
       "      <td>Offline TA/TO</td>\n",
       "      <td>Couple</td>\n",
       "      <td>weekday</td>\n",
       "      <td>0</td>\n",
       "      <td>False</td>\n",
       "    </tr>\n",
       "    <tr>\n",
       "      <th>...</th>\n",
       "      <td>...</td>\n",
       "      <td>...</td>\n",
       "      <td>...</td>\n",
       "      <td>...</td>\n",
       "      <td>...</td>\n",
       "      <td>...</td>\n",
       "      <td>...</td>\n",
       "      <td>...</td>\n",
       "      <td>...</td>\n",
       "      <td>...</td>\n",
       "      <td>...</td>\n",
       "    </tr>\n",
       "    <tr>\n",
       "      <th>40039</th>\n",
       "      <td>Resort Hotel</td>\n",
       "      <td>False</td>\n",
       "      <td>0</td>\n",
       "      <td>False</td>\n",
       "      <td>207.03</td>\n",
       "      <td>Transient</td>\n",
       "      <td>Online TA</td>\n",
       "      <td>Couple</td>\n",
       "      <td>weekday</td>\n",
       "      <td>1</td>\n",
       "      <td>False</td>\n",
       "    </tr>\n",
       "    <tr>\n",
       "      <th>40040</th>\n",
       "      <td>Resort Hotel</td>\n",
       "      <td>False</td>\n",
       "      <td>0</td>\n",
       "      <td>True</td>\n",
       "      <td>312.29</td>\n",
       "      <td>Transient</td>\n",
       "      <td>Online TA</td>\n",
       "      <td>Family</td>\n",
       "      <td>weekday</td>\n",
       "      <td>1</td>\n",
       "      <td>False</td>\n",
       "    </tr>\n",
       "    <tr>\n",
       "      <th>13794</th>\n",
       "      <td>Resort Hotel</td>\n",
       "      <td>False</td>\n",
       "      <td>0</td>\n",
       "      <td>False</td>\n",
       "      <td>207.00</td>\n",
       "      <td>Transient</td>\n",
       "      <td>Online TA</td>\n",
       "      <td>Couple</td>\n",
       "      <td>weekday</td>\n",
       "      <td>2</td>\n",
       "      <td>False</td>\n",
       "    </tr>\n",
       "    <tr>\n",
       "      <th>40038</th>\n",
       "      <td>Resort Hotel</td>\n",
       "      <td>False</td>\n",
       "      <td>0</td>\n",
       "      <td>False</td>\n",
       "      <td>114.80</td>\n",
       "      <td>Contract</td>\n",
       "      <td>Offline TA/TO</td>\n",
       "      <td>Couple</td>\n",
       "      <td>weekday</td>\n",
       "      <td>0</td>\n",
       "      <td>False</td>\n",
       "    </tr>\n",
       "    <tr>\n",
       "      <th>117424</th>\n",
       "      <td>City Hotel</td>\n",
       "      <td>False</td>\n",
       "      <td>1</td>\n",
       "      <td>False</td>\n",
       "      <td>95.00</td>\n",
       "      <td>Transient</td>\n",
       "      <td>Corporate</td>\n",
       "      <td>Family</td>\n",
       "      <td>weekday</td>\n",
       "      <td>4</td>\n",
       "      <td>False</td>\n",
       "    </tr>\n",
       "  </tbody>\n",
       "</table>\n",
       "<p>117813 rows × 11 columns</p>\n",
       "</div>"
      ],
      "text/plain": [
       "               hotel  had_cancellations  is_repeated_guest  driving     adr  \\\n",
       "0       Resort Hotel              False                  0    False    0.00   \n",
       "75559     City Hotel              False                  0    False   80.00   \n",
       "75560     City Hotel              False                  0    False  101.50   \n",
       "75561     City Hotel              False                  0    False  101.50   \n",
       "75562     City Hotel              False                  0    False  101.50   \n",
       "...              ...                ...                ...      ...     ...   \n",
       "40039   Resort Hotel              False                  0    False  207.03   \n",
       "40040   Resort Hotel              False                  0     True  312.29   \n",
       "13794   Resort Hotel              False                  0    False  207.00   \n",
       "40038   Resort Hotel              False                  0    False  114.80   \n",
       "117424    City Hotel              False                  1    False   95.00   \n",
       "\n",
       "       customer_type market_segment family_type preferred_day  \\\n",
       "0          Transient         Direct      Couple       weekday   \n",
       "75559      Transient  Offline TA/TO      Single       weekday   \n",
       "75560      Transient  Offline TA/TO      Couple       weekday   \n",
       "75561      Transient  Offline TA/TO      Couple       weekday   \n",
       "75562      Transient  Offline TA/TO      Couple       weekday   \n",
       "...              ...            ...         ...           ...   \n",
       "40039      Transient      Online TA      Couple       weekday   \n",
       "40040      Transient      Online TA      Family       weekday   \n",
       "13794      Transient      Online TA      Couple       weekday   \n",
       "40038       Contract  Offline TA/TO      Couple       weekday   \n",
       "117424     Transient      Corporate      Family       weekday   \n",
       "\n",
       "        total_of_special_requests  room_change  \n",
       "0                               0        False  \n",
       "75559                           0        False  \n",
       "75560                           0        False  \n",
       "75561                           0        False  \n",
       "75562                           0        False  \n",
       "...                           ...          ...  \n",
       "40039                           1        False  \n",
       "40040                           1        False  \n",
       "13794                           2        False  \n",
       "40038                           0        False  \n",
       "117424                          4        False  \n",
       "\n",
       "[117813 rows x 11 columns]"
      ]
     },
     "execution_count": 69,
     "metadata": {},
     "output_type": "execute_result"
    }
   ],
   "source": [
    "data_small"
   ]
  },
  {
   "cell_type": "code",
   "execution_count": 70,
   "metadata": {},
   "outputs": [
    {
     "name": "stderr",
     "output_type": "stream",
     "text": [
      "/var/folders/l9/swvqvt0552gfk3662mhw83b00000gn/T/ipykernel_44804/3224003093.py:4: SettingWithCopyWarning:\n",
      "\n",
      "\n",
      "A value is trying to be set on a copy of a slice from a DataFrame.\n",
      "Try using .loc[row_indexer,col_indexer] = value instead\n",
      "\n",
      "See the caveats in the documentation: https://pandas.pydata.org/pandas-docs/stable/user_guide/indexing.html#returning-a-view-versus-a-copy\n",
      "\n"
     ]
    }
   ],
   "source": [
    "clusters = KMeans(n_clusters=7, random_state=15).fit(pca_x2)\n",
    "\n",
    "#Predict the cluster for each row\n",
    "data_small['clusters'] = clusters.predict(pca_x2)\n",
    "\n",
    "#find the cluster center\n",
    "centers = clusters.cluster_centers_"
   ]
  },
  {
   "cell_type": "code",
   "execution_count": 71,
   "metadata": {},
   "outputs": [
    {
     "data": {
      "text/html": [
       "<div>\n",
       "<style scoped>\n",
       "    .dataframe tbody tr th:only-of-type {\n",
       "        vertical-align: middle;\n",
       "    }\n",
       "\n",
       "    .dataframe tbody tr th {\n",
       "        vertical-align: top;\n",
       "    }\n",
       "\n",
       "    .dataframe thead th {\n",
       "        text-align: right;\n",
       "    }\n",
       "</style>\n",
       "<table border=\"1\" class=\"dataframe\">\n",
       "  <thead>\n",
       "    <tr style=\"text-align: right;\">\n",
       "      <th></th>\n",
       "      <th>hotel</th>\n",
       "      <th>had_cancellations</th>\n",
       "      <th>is_repeated_guest</th>\n",
       "      <th>driving</th>\n",
       "      <th>adr</th>\n",
       "      <th>customer_type</th>\n",
       "      <th>market_segment</th>\n",
       "      <th>family_type</th>\n",
       "      <th>preferred_day</th>\n",
       "      <th>total_of_special_requests</th>\n",
       "      <th>room_change</th>\n",
       "      <th>clusters</th>\n",
       "    </tr>\n",
       "  </thead>\n",
       "  <tbody>\n",
       "    <tr>\n",
       "      <th>0</th>\n",
       "      <td>Resort Hotel</td>\n",
       "      <td>False</td>\n",
       "      <td>0</td>\n",
       "      <td>False</td>\n",
       "      <td>0.00</td>\n",
       "      <td>Transient</td>\n",
       "      <td>Direct</td>\n",
       "      <td>Couple</td>\n",
       "      <td>weekday</td>\n",
       "      <td>0</td>\n",
       "      <td>False</td>\n",
       "      <td>4</td>\n",
       "    </tr>\n",
       "    <tr>\n",
       "      <th>75559</th>\n",
       "      <td>City Hotel</td>\n",
       "      <td>False</td>\n",
       "      <td>0</td>\n",
       "      <td>False</td>\n",
       "      <td>80.00</td>\n",
       "      <td>Transient</td>\n",
       "      <td>Offline TA/TO</td>\n",
       "      <td>Single</td>\n",
       "      <td>weekday</td>\n",
       "      <td>0</td>\n",
       "      <td>False</td>\n",
       "      <td>4</td>\n",
       "    </tr>\n",
       "    <tr>\n",
       "      <th>75560</th>\n",
       "      <td>City Hotel</td>\n",
       "      <td>False</td>\n",
       "      <td>0</td>\n",
       "      <td>False</td>\n",
       "      <td>101.50</td>\n",
       "      <td>Transient</td>\n",
       "      <td>Offline TA/TO</td>\n",
       "      <td>Couple</td>\n",
       "      <td>weekday</td>\n",
       "      <td>0</td>\n",
       "      <td>False</td>\n",
       "      <td>4</td>\n",
       "    </tr>\n",
       "    <tr>\n",
       "      <th>75561</th>\n",
       "      <td>City Hotel</td>\n",
       "      <td>False</td>\n",
       "      <td>0</td>\n",
       "      <td>False</td>\n",
       "      <td>101.50</td>\n",
       "      <td>Transient</td>\n",
       "      <td>Offline TA/TO</td>\n",
       "      <td>Couple</td>\n",
       "      <td>weekday</td>\n",
       "      <td>0</td>\n",
       "      <td>False</td>\n",
       "      <td>4</td>\n",
       "    </tr>\n",
       "    <tr>\n",
       "      <th>75562</th>\n",
       "      <td>City Hotel</td>\n",
       "      <td>False</td>\n",
       "      <td>0</td>\n",
       "      <td>False</td>\n",
       "      <td>101.50</td>\n",
       "      <td>Transient</td>\n",
       "      <td>Offline TA/TO</td>\n",
       "      <td>Couple</td>\n",
       "      <td>weekday</td>\n",
       "      <td>0</td>\n",
       "      <td>False</td>\n",
       "      <td>4</td>\n",
       "    </tr>\n",
       "    <tr>\n",
       "      <th>...</th>\n",
       "      <td>...</td>\n",
       "      <td>...</td>\n",
       "      <td>...</td>\n",
       "      <td>...</td>\n",
       "      <td>...</td>\n",
       "      <td>...</td>\n",
       "      <td>...</td>\n",
       "      <td>...</td>\n",
       "      <td>...</td>\n",
       "      <td>...</td>\n",
       "      <td>...</td>\n",
       "      <td>...</td>\n",
       "    </tr>\n",
       "    <tr>\n",
       "      <th>40039</th>\n",
       "      <td>Resort Hotel</td>\n",
       "      <td>False</td>\n",
       "      <td>0</td>\n",
       "      <td>False</td>\n",
       "      <td>207.03</td>\n",
       "      <td>Transient</td>\n",
       "      <td>Online TA</td>\n",
       "      <td>Couple</td>\n",
       "      <td>weekday</td>\n",
       "      <td>1</td>\n",
       "      <td>False</td>\n",
       "      <td>2</td>\n",
       "    </tr>\n",
       "    <tr>\n",
       "      <th>40040</th>\n",
       "      <td>Resort Hotel</td>\n",
       "      <td>False</td>\n",
       "      <td>0</td>\n",
       "      <td>True</td>\n",
       "      <td>312.29</td>\n",
       "      <td>Transient</td>\n",
       "      <td>Online TA</td>\n",
       "      <td>Family</td>\n",
       "      <td>weekday</td>\n",
       "      <td>1</td>\n",
       "      <td>False</td>\n",
       "      <td>5</td>\n",
       "    </tr>\n",
       "    <tr>\n",
       "      <th>13794</th>\n",
       "      <td>Resort Hotel</td>\n",
       "      <td>False</td>\n",
       "      <td>0</td>\n",
       "      <td>False</td>\n",
       "      <td>207.00</td>\n",
       "      <td>Transient</td>\n",
       "      <td>Online TA</td>\n",
       "      <td>Couple</td>\n",
       "      <td>weekday</td>\n",
       "      <td>2</td>\n",
       "      <td>False</td>\n",
       "      <td>2</td>\n",
       "    </tr>\n",
       "    <tr>\n",
       "      <th>40038</th>\n",
       "      <td>Resort Hotel</td>\n",
       "      <td>False</td>\n",
       "      <td>0</td>\n",
       "      <td>False</td>\n",
       "      <td>114.80</td>\n",
       "      <td>Contract</td>\n",
       "      <td>Offline TA/TO</td>\n",
       "      <td>Couple</td>\n",
       "      <td>weekday</td>\n",
       "      <td>0</td>\n",
       "      <td>False</td>\n",
       "      <td>2</td>\n",
       "    </tr>\n",
       "    <tr>\n",
       "      <th>117424</th>\n",
       "      <td>City Hotel</td>\n",
       "      <td>False</td>\n",
       "      <td>1</td>\n",
       "      <td>False</td>\n",
       "      <td>95.00</td>\n",
       "      <td>Transient</td>\n",
       "      <td>Corporate</td>\n",
       "      <td>Family</td>\n",
       "      <td>weekday</td>\n",
       "      <td>4</td>\n",
       "      <td>False</td>\n",
       "      <td>3</td>\n",
       "    </tr>\n",
       "  </tbody>\n",
       "</table>\n",
       "<p>117813 rows × 12 columns</p>\n",
       "</div>"
      ],
      "text/plain": [
       "               hotel  had_cancellations  is_repeated_guest  driving     adr  \\\n",
       "0       Resort Hotel              False                  0    False    0.00   \n",
       "75559     City Hotel              False                  0    False   80.00   \n",
       "75560     City Hotel              False                  0    False  101.50   \n",
       "75561     City Hotel              False                  0    False  101.50   \n",
       "75562     City Hotel              False                  0    False  101.50   \n",
       "...              ...                ...                ...      ...     ...   \n",
       "40039   Resort Hotel              False                  0    False  207.03   \n",
       "40040   Resort Hotel              False                  0     True  312.29   \n",
       "13794   Resort Hotel              False                  0    False  207.00   \n",
       "40038   Resort Hotel              False                  0    False  114.80   \n",
       "117424    City Hotel              False                  1    False   95.00   \n",
       "\n",
       "       customer_type market_segment family_type preferred_day  \\\n",
       "0          Transient         Direct      Couple       weekday   \n",
       "75559      Transient  Offline TA/TO      Single       weekday   \n",
       "75560      Transient  Offline TA/TO      Couple       weekday   \n",
       "75561      Transient  Offline TA/TO      Couple       weekday   \n",
       "75562      Transient  Offline TA/TO      Couple       weekday   \n",
       "...              ...            ...         ...           ...   \n",
       "40039      Transient      Online TA      Couple       weekday   \n",
       "40040      Transient      Online TA      Family       weekday   \n",
       "13794      Transient      Online TA      Couple       weekday   \n",
       "40038       Contract  Offline TA/TO      Couple       weekday   \n",
       "117424     Transient      Corporate      Family       weekday   \n",
       "\n",
       "        total_of_special_requests  room_change  clusters  \n",
       "0                               0        False         4  \n",
       "75559                           0        False         4  \n",
       "75560                           0        False         4  \n",
       "75561                           0        False         4  \n",
       "75562                           0        False         4  \n",
       "...                           ...          ...       ...  \n",
       "40039                           1        False         2  \n",
       "40040                           1        False         5  \n",
       "13794                           2        False         2  \n",
       "40038                           0        False         2  \n",
       "117424                          4        False         3  \n",
       "\n",
       "[117813 rows x 12 columns]"
      ]
     },
     "execution_count": 71,
     "metadata": {},
     "output_type": "execute_result"
    }
   ],
   "source": [
    "data_small"
   ]
  },
  {
   "cell_type": "code",
   "execution_count": 73,
   "metadata": {},
   "outputs": [
    {
     "data": {
      "text/html": [
       "<div>\n",
       "<style scoped>\n",
       "    .dataframe tbody tr th:only-of-type {\n",
       "        vertical-align: middle;\n",
       "    }\n",
       "\n",
       "    .dataframe tbody tr th {\n",
       "        vertical-align: top;\n",
       "    }\n",
       "\n",
       "    .dataframe thead th {\n",
       "        text-align: right;\n",
       "    }\n",
       "</style>\n",
       "<table border=\"1\" class=\"dataframe\">\n",
       "  <thead>\n",
       "    <tr style=\"text-align: right;\">\n",
       "      <th></th>\n",
       "      <th>count</th>\n",
       "      <th>mean</th>\n",
       "      <th>std</th>\n",
       "      <th>min</th>\n",
       "      <th>25%</th>\n",
       "      <th>50%</th>\n",
       "      <th>75%</th>\n",
       "      <th>max</th>\n",
       "    </tr>\n",
       "    <tr>\n",
       "      <th>clusters</th>\n",
       "      <th></th>\n",
       "      <th></th>\n",
       "      <th></th>\n",
       "      <th></th>\n",
       "      <th></th>\n",
       "      <th></th>\n",
       "      <th></th>\n",
       "      <th></th>\n",
       "    </tr>\n",
       "  </thead>\n",
       "  <tbody>\n",
       "    <tr>\n",
       "      <th>0</th>\n",
       "      <td>11179.0</td>\n",
       "      <td>103.160266</td>\n",
       "      <td>42.215920</td>\n",
       "      <td>0.00</td>\n",
       "      <td>76.50</td>\n",
       "      <td>95.50</td>\n",
       "      <td>122.40</td>\n",
       "      <td>359.00</td>\n",
       "    </tr>\n",
       "    <tr>\n",
       "      <th>1</th>\n",
       "      <td>10778.0</td>\n",
       "      <td>85.188401</td>\n",
       "      <td>46.065257</td>\n",
       "      <td>0.00</td>\n",
       "      <td>52.27</td>\n",
       "      <td>80.00</td>\n",
       "      <td>110.00</td>\n",
       "      <td>365.00</td>\n",
       "    </tr>\n",
       "    <tr>\n",
       "      <th>2</th>\n",
       "      <td>42323.0</td>\n",
       "      <td>123.293067</td>\n",
       "      <td>49.014251</td>\n",
       "      <td>0.00</td>\n",
       "      <td>89.10</td>\n",
       "      <td>116.10</td>\n",
       "      <td>149.00</td>\n",
       "      <td>510.00</td>\n",
       "    </tr>\n",
       "    <tr>\n",
       "      <th>3</th>\n",
       "      <td>3683.0</td>\n",
       "      <td>63.189158</td>\n",
       "      <td>42.026767</td>\n",
       "      <td>-6.38</td>\n",
       "      <td>39.00</td>\n",
       "      <td>65.00</td>\n",
       "      <td>80.00</td>\n",
       "      <td>349.00</td>\n",
       "    </tr>\n",
       "    <tr>\n",
       "      <th>4</th>\n",
       "      <td>37631.0</td>\n",
       "      <td>87.275712</td>\n",
       "      <td>35.899021</td>\n",
       "      <td>0.00</td>\n",
       "      <td>63.75</td>\n",
       "      <td>85.00</td>\n",
       "      <td>108.00</td>\n",
       "      <td>323.00</td>\n",
       "    </tr>\n",
       "    <tr>\n",
       "      <th>5</th>\n",
       "      <td>6765.0</td>\n",
       "      <td>117.891833</td>\n",
       "      <td>89.606610</td>\n",
       "      <td>0.00</td>\n",
       "      <td>68.50</td>\n",
       "      <td>104.91</td>\n",
       "      <td>154.38</td>\n",
       "      <td>5400.00</td>\n",
       "    </tr>\n",
       "    <tr>\n",
       "      <th>6</th>\n",
       "      <td>5454.0</td>\n",
       "      <td>78.081819</td>\n",
       "      <td>29.118308</td>\n",
       "      <td>0.00</td>\n",
       "      <td>62.00</td>\n",
       "      <td>70.00</td>\n",
       "      <td>90.00</td>\n",
       "      <td>276.53</td>\n",
       "    </tr>\n",
       "  </tbody>\n",
       "</table>\n",
       "</div>"
      ],
      "text/plain": [
       "            count        mean        std   min    25%     50%     75%      max\n",
       "clusters                                                                      \n",
       "0         11179.0  103.160266  42.215920  0.00  76.50   95.50  122.40   359.00\n",
       "1         10778.0   85.188401  46.065257  0.00  52.27   80.00  110.00   365.00\n",
       "2         42323.0  123.293067  49.014251  0.00  89.10  116.10  149.00   510.00\n",
       "3          3683.0   63.189158  42.026767 -6.38  39.00   65.00   80.00   349.00\n",
       "4         37631.0   87.275712  35.899021  0.00  63.75   85.00  108.00   323.00\n",
       "5          6765.0  117.891833  89.606610  0.00  68.50  104.91  154.38  5400.00\n",
       "6          5454.0   78.081819  29.118308  0.00  62.00   70.00   90.00   276.53"
      ]
     },
     "execution_count": 73,
     "metadata": {},
     "output_type": "execute_result"
    }
   ],
   "source": [
    "data_small.groupby('clusters').describe()['adr']"
   ]
  },
  {
   "cell_type": "code",
   "execution_count": 74,
   "metadata": {},
   "outputs": [
    {
     "data": {
      "text/plain": [
       "<AxesSubplot:xlabel='hotel', ylabel='clusters'>"
      ]
     },
     "execution_count": 74,
     "metadata": {},
     "output_type": "execute_result"
    },
    {
     "data": {
      "image/png": "[encoded data removed]",
      "text/plain": [
       "<Figure size 432x288 with 2 Axes>"
      ]
     },
     "metadata": {
      "needs_background": "light"
     },
     "output_type": "display_data"
    }
   ],
   "source": [
    "#group customers by different dimensions - Hotel\n",
    "df1 = pd.pivot_table(data_small, index='clusters', columns = ['hotel'], aggfunc='size')\n",
    "total = df1.sum(axis=1)\n",
    "df1['City Hotel'] = df1['City Hotel'] / total\n",
    "df1['Resort Hotel'] = df1['Resort Hotel'] / total\n",
    "sns.heatmap(df1, annot=True, cmap='coolwarm')"
   ]
  },
  {
   "cell_type": "code",
   "execution_count": 75,
   "metadata": {},
   "outputs": [
    {
     "data": {
      "text/plain": [
       "<AxesSubplot:xlabel='had_cancellations', ylabel='clusters'>"
      ]
     },
     "execution_count": 75,
     "metadata": {},
     "output_type": "execute_result"
    },
    {
     "data": {
      "image/png": "[encoded data removed]",
      "text/plain": [
       "<Figure size 432x288 with 2 Axes>"
      ]
     },
     "metadata": {
      "needs_background": "light"
     },
     "output_type": "display_data"
    }
   ],
   "source": [
    "# whether customer group had cancellations or not\n",
    "df2 = pd.pivot_table(data_small,index='clusters', columns = ['had_cancellations'], aggfunc='size')\n",
    "df2.fillna(0, inplace=True)\n",
    "total = df2.sum(axis=1)\n",
    "df2[False] = df2[False] / total\n",
    "df2[True] = df2[True] / total\n",
    "sns.heatmap(df2, annot=True, cmap='coolwarm')"
   ]
  },
  {
   "cell_type": "code",
   "execution_count": 76,
   "metadata": {},
   "outputs": [
    {
     "data": {
      "text/plain": [
       "<AxesSubplot:xlabel='is_repeated_guest', ylabel='clusters'>"
      ]
     },
     "execution_count": 76,
     "metadata": {},
     "output_type": "execute_result"
    },
    {
     "data": {
      "image/png": "[encoded data removed]",
      "text/plain": [
       "<Figure size 432x288 with 2 Axes>"
      ]
     },
     "metadata": {
      "needs_background": "light"
     },
     "output_type": "display_data"
    }
   ],
   "source": [
    "df3 = pd.pivot_table(data_small,index='clusters', columns = ['is_repeated_guest'], aggfunc='size')\n",
    "df3.fillna(0, inplace=True)\n",
    "total = df3.sum(axis=1)\n",
    "df3[0] = df3[0] / total\n",
    "df3[1] = df3[1] / total\n",
    "sns.heatmap(df3, annot=True, cmap='coolwarm')"
   ]
  },
  {
   "cell_type": "code",
   "execution_count": 77,
   "metadata": {},
   "outputs": [
    {
     "data": {
      "text/plain": [
       "<AxesSubplot:xlabel='driving', ylabel='clusters'>"
      ]
     },
     "execution_count": 77,
     "metadata": {},
     "output_type": "execute_result"
    },
    {
     "data": {
      "image/png": "[encoded data removed]",
      "text/plain": [
       "<Figure size 432x288 with 2 Axes>"
      ]
     },
     "metadata": {
      "needs_background": "light"
     },
     "output_type": "display_data"
    }
   ],
   "source": [
    "df4 = pd.pivot_table(data_small,index='clusters', columns = ['driving'], aggfunc='size')\n",
    "df4.fillna(0, inplace=True)\n",
    "total = df4.sum(axis=1)\n",
    "df4[False] = df4[False] / total\n",
    "df4[True] = df4[True] / total\n",
    "sns.heatmap(df4, annot=True, cmap='coolwarm')"
   ]
  },
  {
   "cell_type": "code",
   "execution_count": 78,
   "metadata": {},
   "outputs": [
    {
     "data": {
      "text/plain": [
       "<AxesSubplot:xlabel='customer_type', ylabel='clusters'>"
      ]
     },
     "execution_count": 78,
     "metadata": {},
     "output_type": "execute_result"
    },
    {
     "data": {
      "image/png": "[encoded data removed]",
      "text/plain": [
       "<Figure size 432x288 with 2 Axes>"
      ]
     },
     "metadata": {
      "needs_background": "light"
     },
     "output_type": "display_data"
    }
   ],
   "source": [
    "df5 = pd.pivot_table(data_small,index='clusters', columns = ['customer_type'], aggfunc='size')\n",
    "df5.fillna(0, inplace=True)\n",
    "total = df5.sum(axis=1)\n",
    "df5['Contract'] = df5['Contract'] / total\n",
    "df5['Group'] = df5['Group'] / total\n",
    "df5['Transient'] = df5['Transient'] / total\n",
    "df5['Transient-Party'] = df5['Transient-Party'] / total\n",
    "sns.heatmap(df5, annot=True, cmap='coolwarm')"
   ]
  },
  {
   "cell_type": "code",
   "execution_count": 79,
   "metadata": {},
   "outputs": [
    {
     "data": {
      "text/plain": [
       "<AxesSubplot:xlabel='market_segment', ylabel='clusters'>"
      ]
     },
     "execution_count": 79,
     "metadata": {},
     "output_type": "execute_result"
    },
    {
     "data": {
      "image/png": "[encoded data removed]",
      "text/plain": [
       "<Figure size 432x288 with 2 Axes>"
      ]
     },
     "metadata": {
      "needs_background": "light"
     },
     "output_type": "display_data"
    }
   ],
   "source": [
    "df6 = pd.pivot_table(data_small,index='clusters', columns = ['market_segment'], aggfunc='size')\n",
    "df6.fillna(0, inplace=True)\n",
    "total = df6.sum(axis=1)\n",
    "df6['Aviation'] = df6['Aviation'] / total\n",
    "df6['Complementary'] = df6['Complementary'] / total\n",
    "df6['Corporate'] = df6['Corporate'] / total\n",
    "df6['Direct'] = df6['Direct'] / total\n",
    "df6['Groups'] = df6['Groups'] / total\n",
    "df6['Offline TA/TO'] = df6['Offline TA/TO'] / total\n",
    "df6['Online TA'] = df6['Online TA'] / total\n",
    "sns.heatmap(df6, annot=True, cmap='coolwarm')"
   ]
  },
  {
   "cell_type": "code",
   "execution_count": 80,
   "metadata": {},
   "outputs": [
    {
     "data": {
      "text/plain": [
       "<AxesSubplot:xlabel='family_type', ylabel='clusters'>"
      ]
     },
     "execution_count": 80,
     "metadata": {},
     "output_type": "execute_result"
    },
    {
     "data": {
      "image/png": "[encoded data removed]",
      "text/plain": [
       "<Figure size 432x288 with 2 Axes>"
      ]
     },
     "metadata": {
      "needs_background": "light"
     },
     "output_type": "display_data"
    }
   ],
   "source": [
    "df7 = pd.pivot_table(data_small,index='clusters', columns = ['family_type'], aggfunc='size')\n",
    "df7.fillna(0, inplace=True)\n",
    "total = df7.sum(axis=1)\n",
    "df7['Adult Group'] = df7['Adult Group'] / total\n",
    "df7['Couple'] = df7['Couple'] / total\n",
    "df7['Family'] = df7['Family'] / total\n",
    "df7['Single'] = df7['Single'] / total\n",
    "sns.heatmap(df7, annot=True, cmap='coolwarm')"
   ]
  },
  {
   "cell_type": "code",
   "execution_count": 81,
   "metadata": {},
   "outputs": [
    {
     "data": {
      "text/plain": [
       "<AxesSubplot:xlabel='preferred_day', ylabel='clusters'>"
      ]
     },
     "execution_count": 81,
     "metadata": {},
     "output_type": "execute_result"
    },
    {
     "data": {
      "image/png": "[encoded data removed]",
      "text/plain": [
       "<Figure size 432x288 with 2 Axes>"
      ]
     },
     "metadata": {
      "needs_background": "light"
     },
     "output_type": "display_data"
    }
   ],
   "source": [
    "df8 = pd.pivot_table(data_small,index='clusters', columns = ['preferred_day'], aggfunc='size')\n",
    "df8.fillna(0, inplace=True)\n",
    "total = df8.sum(axis=1)\n",
    "df8['weekday'] = df8['weekday'] / total\n",
    "df8['weekend'] = df8['weekend'] / total\n",
    "sns.heatmap(df8, annot=True, cmap='coolwarm')"
   ]
  },
  {
   "cell_type": "code",
   "execution_count": null,
   "metadata": {},
   "outputs": [],
   "source": []
  }
 ],
 "metadata": {
  "kernelspec": {
   "display_name": "python38",
   "language": "python",
   "name": "python38"
  },
  "language_info": {
   "codemirror_mode": {
    "name": "ipython",
    "version": 3
   },
   "file_extension": ".py",
   "mimetype": "text/x-python",
   "name": "python",
   "nbconvert_exporter": "python",
   "pygments_lexer": "ipython3",
   "version": "3.8.12"
  }
 },
 "nbformat": 4,
 "nbformat_minor": 2
}
