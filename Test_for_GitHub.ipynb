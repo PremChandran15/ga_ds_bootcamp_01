{
 "cells": [
  {
   "cell_type": "code",
   "execution_count": 1,
   "id": "0264d36c",
   "metadata": {
    "ExecuteTime": {
     "end_time": "2023-05-11T11:40:05.991208Z",
     "start_time": "2023-05-11T11:40:05.982290Z"
    }
   },
   "outputs": [
    {
     "name": "stdout",
     "output_type": "stream",
     "text": [
      "Hello GitHub!\n"
     ]
    }
   ],
   "source": [
    "print(\"Hello GitHub!\")"
   ]
  },
  {
   "cell_type": "code",
   "execution_count": null,
   "id": "5a40b44c",
   "metadata": {},
   "outputs": [],
   "source": []
  }
 ],
 "metadata": {
  "kernelspec": {
   "display_name": "python38",
   "language": "python",
   "name": "python38"
  },
  "language_info": {
   "codemirror_mode": {
    "name": "ipython",
    "version": 3
   },
   "file_extension": ".py",
   "mimetype": "text/x-python",
   "name": "python",
   "nbconvert_exporter": "python",
   "pygments_lexer": "ipython3",
   "version": "3.8.12"
  }
 },
 "nbformat": 4,
 "nbformat_minor": 5
}
