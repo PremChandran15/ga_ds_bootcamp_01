{
 "cells": [
  {
   "cell_type": "markdown",
   "id": "c5fdecf5",
   "metadata": {},
   "source": [
    "## Time manipulation using python: Modules / built-in packages\n",
    "1. Time\n",
    "2. Datetime\n",
    "3. Datetime.Timedelta"
   ]
  },
  {
   "cell_type": "code",
   "execution_count": 1,
   "id": "59878c74",
   "metadata": {
    "ExecuteTime": {
     "end_time": "2023-07-13T11:10:21.248124Z",
     "start_time": "2023-07-13T11:10:21.240516Z"
    }
   },
   "outputs": [],
   "source": [
    "import time"
   ]
  },
  {
   "cell_type": "code",
   "execution_count": 2,
   "id": "c55abcd2",
   "metadata": {
    "ExecuteTime": {
     "end_time": "2023-07-13T11:10:33.824142Z",
     "start_time": "2023-07-13T11:10:33.816593Z"
    }
   },
   "outputs": [
    {
     "data": {
      "text/plain": [
       "1689246633.8172622"
      ]
     },
     "execution_count": 2,
     "metadata": {},
     "output_type": "execute_result"
    }
   ],
   "source": [
    "# Unix epoch time. Number of seconds since the start of measurement: 1 Jan 1970 00:00:00\n",
    "time.time()"
   ]
  },
  {
   "cell_type": "code",
   "execution_count": 3,
   "id": "9a167d52",
   "metadata": {
    "ExecuteTime": {
     "end_time": "2023-07-13T11:11:48.183232Z",
     "start_time": "2023-07-13T11:11:48.180077Z"
    }
   },
   "outputs": [
    {
     "data": {
      "text/plain": [
       "'Thu Jul 13 19:11:48 2023'"
      ]
     },
     "execution_count": 3,
     "metadata": {},
     "output_type": "execute_result"
    }
   ],
   "source": [
    "time.ctime()"
   ]
  },
  {
   "cell_type": "markdown",
   "id": "3e7ac535",
   "metadata": {},
   "source": [
    "#### When is it used?\n",
    "- to measure time in a log/python file\n",
    "- sleep for wait for some operation to complete"
   ]
  },
  {
   "cell_type": "code",
   "execution_count": 4,
   "id": "6aef5c8f",
   "metadata": {
    "ExecuteTime": {
     "end_time": "2023-07-13T11:15:34.621273Z",
     "start_time": "2023-07-13T11:15:34.616646Z"
    }
   },
   "outputs": [
    {
     "name": "stdout",
     "output_type": "stream",
     "text": [
      "the time it takes to write text file is 0.0010831356048583984s\n"
     ]
    }
   ],
   "source": [
    "#measure time it takes to write a file onto the disk\n",
    "start = time.time()\n",
    "\n",
    "with open('test.txt', 'w') as f:\n",
    "    f.write(\"this is for time recording \\n\")\n",
    "    \n",
    "    i = 10\n",
    "    \n",
    "    for j in range(i):\n",
    "        f.write(f'Row: {j}')\n",
    "        f.write('\\n')\n",
    "\n",
    "end = time.time()\n",
    "print(f\"the time it takes to write text file is {end - start}s\")"
   ]
  },
  {
   "cell_type": "code",
   "execution_count": 5,
   "id": "6d89e6ea",
   "metadata": {
    "ExecuteTime": {
     "end_time": "2023-07-13T11:19:02.102738Z",
     "start_time": "2023-07-13T11:18:52.065417Z"
    }
   },
   "outputs": [
    {
     "name": "stdout",
     "output_type": "stream",
     "text": [
      "0\n",
      "1\n",
      "2\n",
      "3\n",
      "4\n",
      "5\n",
      "6\n",
      "7\n",
      "8\n",
      "9\n"
     ]
    }
   ],
   "source": [
    "# to sleep\n",
    "\n",
    "x = 0\n",
    "\n",
    "while x<10:\n",
    "    print(x)\n",
    "    x+=1\n",
    "    time.sleep(1)"
   ]
  },
  {
   "cell_type": "code",
   "execution_count": 6,
   "id": "68bbc69f",
   "metadata": {
    "ExecuteTime": {
     "end_time": "2023-07-13T11:19:33.669917Z",
     "start_time": "2023-07-13T11:19:33.667610Z"
    }
   },
   "outputs": [],
   "source": [
    "import datetime"
   ]
  },
  {
   "cell_type": "code",
   "execution_count": 8,
   "id": "1d036ad4",
   "metadata": {
    "ExecuteTime": {
     "end_time": "2023-07-13T11:19:56.518514Z",
     "start_time": "2023-07-13T11:19:56.514795Z"
    }
   },
   "outputs": [
    {
     "data": {
      "text/plain": [
       "datetime.datetime"
      ]
     },
     "execution_count": 8,
     "metadata": {},
     "output_type": "execute_result"
    }
   ],
   "source": [
    "type(datetime.datetime.now())"
   ]
  },
  {
   "cell_type": "code",
   "execution_count": 9,
   "id": "b143615a",
   "metadata": {
    "ExecuteTime": {
     "end_time": "2023-07-13T11:20:04.996966Z",
     "start_time": "2023-07-13T11:20:04.992804Z"
    }
   },
   "outputs": [
    {
     "data": {
      "text/plain": [
       "datetime.datetime(2023, 7, 13, 19, 20, 4, 993568)"
      ]
     },
     "execution_count": 9,
     "metadata": {},
     "output_type": "execute_result"
    }
   ],
   "source": [
    "datetime.datetime.now()"
   ]
  },
  {
   "cell_type": "code",
   "execution_count": 10,
   "id": "3b64ae94",
   "metadata": {
    "ExecuteTime": {
     "end_time": "2023-07-13T11:20:39.120416Z",
     "start_time": "2023-07-13T11:20:39.118100Z"
    }
   },
   "outputs": [],
   "source": [
    "current = datetime.datetime.now()"
   ]
  },
  {
   "cell_type": "code",
   "execution_count": 11,
   "id": "ee946262",
   "metadata": {
    "ExecuteTime": {
     "end_time": "2023-07-13T11:21:08.133832Z",
     "start_time": "2023-07-13T11:21:08.130678Z"
    }
   },
   "outputs": [
    {
     "data": {
      "text/plain": [
       "2023"
      ]
     },
     "execution_count": 11,
     "metadata": {},
     "output_type": "execute_result"
    }
   ],
   "source": [
    "current.year"
   ]
  },
  {
   "cell_type": "code",
   "execution_count": 12,
   "id": "73cfdde9",
   "metadata": {
    "ExecuteTime": {
     "end_time": "2023-07-13T11:21:14.211117Z",
     "start_time": "2023-07-13T11:21:14.207545Z"
    }
   },
   "outputs": [
    {
     "data": {
      "text/plain": [
       "19"
      ]
     },
     "execution_count": 12,
     "metadata": {},
     "output_type": "execute_result"
    }
   ],
   "source": [
    "current.hour"
   ]
  },
  {
   "cell_type": "code",
   "execution_count": 13,
   "id": "95477ac4",
   "metadata": {
    "ExecuteTime": {
     "end_time": "2023-07-13T11:22:06.173424Z",
     "start_time": "2023-07-13T11:22:06.171054Z"
    }
   },
   "outputs": [],
   "source": [
    "#create a date in the past\n",
    "june15 = datetime.datetime(2023, 6, 15, 0,0,30)"
   ]
  },
  {
   "cell_type": "code",
   "execution_count": 14,
   "id": "d3e9ee1a",
   "metadata": {
    "ExecuteTime": {
     "end_time": "2023-07-13T11:22:11.447895Z",
     "start_time": "2023-07-13T11:22:11.444487Z"
    }
   },
   "outputs": [
    {
     "data": {
      "text/plain": [
       "datetime.datetime(2023, 6, 15, 0, 0, 30)"
      ]
     },
     "execution_count": 14,
     "metadata": {},
     "output_type": "execute_result"
    }
   ],
   "source": [
    "june15"
   ]
  },
  {
   "cell_type": "code",
   "execution_count": 15,
   "id": "9d959240",
   "metadata": {
    "ExecuteTime": {
     "end_time": "2023-07-13T11:22:28.047598Z",
     "start_time": "2023-07-13T11:22:28.044664Z"
    }
   },
   "outputs": [
    {
     "data": {
      "text/plain": [
       "True"
      ]
     },
     "execution_count": 15,
     "metadata": {},
     "output_type": "execute_result"
    }
   ],
   "source": [
    "current > june15"
   ]
  },
  {
   "cell_type": "code",
   "execution_count": 16,
   "id": "210317b1",
   "metadata": {
    "ExecuteTime": {
     "end_time": "2023-07-13T11:22:36.299625Z",
     "start_time": "2023-07-13T11:22:36.295461Z"
    }
   },
   "outputs": [
    {
     "data": {
      "text/plain": [
       "datetime.timedelta(days=28, seconds=69609, microseconds=118790)"
      ]
     },
     "execution_count": 16,
     "metadata": {},
     "output_type": "execute_result"
    }
   ],
   "source": [
    "current - june15"
   ]
  },
  {
   "cell_type": "code",
   "execution_count": 17,
   "id": "ab9aac24",
   "metadata": {
    "ExecuteTime": {
     "end_time": "2023-07-13T11:23:30.870555Z",
     "start_time": "2023-07-13T11:23:30.867534Z"
    }
   },
   "outputs": [
    {
     "data": {
      "text/plain": [
       "'2023-07-13 19:20:39.118790'"
      ]
     },
     "execution_count": 17,
     "metadata": {},
     "output_type": "execute_result"
    }
   ],
   "source": [
    "str(current)"
   ]
  },
  {
   "cell_type": "code",
   "execution_count": 19,
   "id": "805ec624",
   "metadata": {
    "ExecuteTime": {
     "end_time": "2023-07-13T11:30:02.547561Z",
     "start_time": "2023-07-13T11:30:02.543692Z"
    }
   },
   "outputs": [
    {
     "data": {
      "text/plain": [
       "'13/07/2023 19:20:39'"
      ]
     },
     "execution_count": 19,
     "metadata": {},
     "output_type": "execute_result"
    }
   ],
   "source": [
    "# make the time in format dd/mm/yyyy HH:mm:ss\n",
    "converted = datetime.datetime.strftime(current, '%d/%m/%Y %H:%M:%S')\n",
    "converted"
   ]
  },
  {
   "cell_type": "code",
   "execution_count": 20,
   "id": "52b04b4b",
   "metadata": {
    "ExecuteTime": {
     "end_time": "2023-07-13T11:30:27.451948Z",
     "start_time": "2023-07-13T11:30:27.447129Z"
    }
   },
   "outputs": [
    {
     "data": {
      "text/plain": [
       "datetime.datetime(2023, 7, 13, 19, 20, 39)"
      ]
     },
     "execution_count": 20,
     "metadata": {},
     "output_type": "execute_result"
    }
   ],
   "source": [
    "datetime.datetime.strptime(converted,'%d/%m/%Y %H:%M:%S' )"
   ]
  },
  {
   "cell_type": "code",
   "execution_count": 21,
   "id": "72df477d",
   "metadata": {
    "ExecuteTime": {
     "end_time": "2023-07-13T11:31:18.001996Z",
     "start_time": "2023-07-13T11:31:17.998743Z"
    }
   },
   "outputs": [
    {
     "data": {
      "text/plain": [
       "int"
      ]
     },
     "execution_count": 21,
     "metadata": {},
     "output_type": "execute_result"
    }
   ],
   "source": [
    "type(current.hour)"
   ]
  },
  {
   "cell_type": "code",
   "execution_count": 23,
   "id": "f6e217b9",
   "metadata": {
    "ExecuteTime": {
     "end_time": "2023-07-13T11:33:35.788746Z",
     "start_time": "2023-07-13T11:33:35.784898Z"
    }
   },
   "outputs": [
    {
     "data": {
      "text/plain": [
       "'2007-07-01 00:00:00'"
      ]
     },
     "execution_count": 23,
     "metadata": {},
     "output_type": "execute_result"
    }
   ],
   "source": [
    "str(datetime.datetime.strptime('Jul-07','%b-%y' ))"
   ]
  },
  {
   "cell_type": "code",
   "execution_count": 25,
   "id": "951df65b",
   "metadata": {
    "ExecuteTime": {
     "end_time": "2023-07-13T11:35:03.712723Z",
     "start_time": "2023-07-13T11:35:03.708928Z"
    }
   },
   "outputs": [
    {
     "data": {
      "text/plain": [
       "'2023-07-13 19:15:34.618545'"
      ]
     },
     "execution_count": 25,
     "metadata": {},
     "output_type": "execute_result"
    }
   ],
   "source": [
    "str(datetime.datetime.fromtimestamp(start))"
   ]
  },
  {
   "cell_type": "code",
   "execution_count": 26,
   "id": "405a2b81",
   "metadata": {
    "ExecuteTime": {
     "end_time": "2023-07-13T11:36:32.539964Z",
     "start_time": "2023-07-13T11:36:32.536500Z"
    }
   },
   "outputs": [
    {
     "data": {
      "text/plain": [
       "datetime.datetime(2023, 7, 13, 23, 20, 39, 118790)"
      ]
     },
     "execution_count": 26,
     "metadata": {},
     "output_type": "execute_result"
    }
   ],
   "source": [
    "# time delta\n",
    "delta = datetime.timedelta(hours = 4)\n",
    "current + delta"
   ]
  },
  {
   "cell_type": "code",
   "execution_count": null,
   "id": "beaec1e3",
   "metadata": {},
   "outputs": [],
   "source": []
  }
 ],
 "metadata": {
  "kernelspec": {
   "display_name": "python38",
   "language": "python",
   "name": "python38"
  },
  "language_info": {
   "codemirror_mode": {
    "name": "ipython",
    "version": 3
   },
   "file_extension": ".py",
   "mimetype": "text/x-python",
   "name": "python",
   "nbconvert_exporter": "python",
   "pygments_lexer": "ipython3",
   "version": "3.8.12"
  }
 },
 "nbformat": 4,
 "nbformat_minor": 5
}
