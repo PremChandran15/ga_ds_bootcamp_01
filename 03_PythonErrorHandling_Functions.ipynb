{
 "cells": [
  {
   "cell_type": "markdown",
   "id": "b5f217a8",
   "metadata": {},
   "source": [
    "## Error Handling (try/except)\n",
    "The basic terminology and syntax used to handle errors in Python is the **try** and **except** statements. The code which can cause an exception to occue is put in the *try* block and the handling of the exception is the implemented in the *except* block of code. The syntax form is:\n",
    "```python\n",
    "    try:\n",
    "       You do your operations here...\n",
    "       ...\n",
    "    except ExceptionI:\n",
    "       If there is ExceptionI, then execute this block.\n",
    "    except ExceptionII:\n",
    "       If there is ExceptionII, then execute this block.\n",
    "       ...\n",
    "    else: ## optional\n",
    "       If there is no exception then execute this block. \n",
    "```\n",
    "\n",
    "We can also just check for any exception with just using except: To get a better understanding of all this lets check out an example: We will look at some code that opens and writes a file:"
   ]
  },
  {
   "cell_type": "code",
   "execution_count": 5,
   "id": "d9df6534",
   "metadata": {
    "ExecuteTime": {
     "end_time": "2023-05-16T12:54:32.954542Z",
     "start_time": "2023-05-16T12:54:32.948885Z"
    }
   },
   "outputs": [
    {
     "ename": "TypeError",
     "evalue": "can only concatenate str (not \"int\") to str",
     "output_type": "error",
     "traceback": [
      "\u001b[0;31m---------------------------------------------------------------------------\u001b[0m",
      "\u001b[0;31mTypeError\u001b[0m                                 Traceback (most recent call last)",
      "\u001b[0;32m/var/folders/l9/swvqvt0552gfk3662mhw83b00000gn/T/ipykernel_72056/2976272274.py\u001b[0m in \u001b[0;36m<module>\u001b[0;34m\u001b[0m\n\u001b[1;32m      1\u001b[0m \u001b[0mage\u001b[0m \u001b[0;34m=\u001b[0m \u001b[0;36m21\u001b[0m\u001b[0;34m\u001b[0m\u001b[0;34m\u001b[0m\u001b[0m\n\u001b[1;32m      2\u001b[0m \u001b[0;34m\u001b[0m\u001b[0m\n\u001b[0;32m----> 3\u001b[0;31m \u001b[0mmy_wish\u001b[0m \u001b[0;34m=\u001b[0m \u001b[0;34m\"I wish I was\"\u001b[0m \u001b[0;34m+\u001b[0m \u001b[0mage\u001b[0m \u001b[0;34m+\u001b[0m  \u001b[0;34m\" years old\"\u001b[0m\u001b[0;34m\u001b[0m\u001b[0;34m\u001b[0m\u001b[0m\n\u001b[0m\u001b[1;32m      4\u001b[0m \u001b[0;34m\u001b[0m\u001b[0m\n\u001b[1;32m      5\u001b[0m \u001b[0;32mfor\u001b[0m \u001b[0mi\u001b[0m \u001b[0;32min\u001b[0m \u001b[0mrange\u001b[0m\u001b[0;34m(\u001b[0m\u001b[0;36m0\u001b[0m\u001b[0;34m,\u001b[0m\u001b[0;36m10\u001b[0m\u001b[0;34m)\u001b[0m\u001b[0;34m:\u001b[0m\u001b[0;34m\u001b[0m\u001b[0;34m\u001b[0m\u001b[0m\n",
      "\u001b[0;31mTypeError\u001b[0m: can only concatenate str (not \"int\") to str"
     ]
    }
   ],
   "source": [
    "age = 21\n",
    "\n",
    "my_wish = \"I wish I was\" + age +  \" years old\"\n",
    "\n",
    "for i in range(0,10):\n",
    "    print(i)\n",
    "\n",
    "for item in my_wish.split():\n",
    "    if int(item) == age:\n",
    "        print(\"found age\")"
   ]
  },
  {
   "cell_type": "code",
   "execution_count": 4,
   "id": "886a8f1c",
   "metadata": {
    "ExecuteTime": {
     "end_time": "2023-05-16T12:54:05.466199Z",
     "start_time": "2023-05-16T12:54:05.458480Z"
    }
   },
   "outputs": [
    {
     "name": "stdout",
     "output_type": "stream",
     "text": [
      "Could not store my_wish\n",
      "0\n",
      "1\n",
      "2\n",
      "3\n",
      "4\n",
      "5\n",
      "6\n",
      "7\n",
      "8\n",
      "9\n"
     ]
    },
    {
     "ename": "NameError",
     "evalue": "name 'my_wish' is not defined",
     "output_type": "error",
     "traceback": [
      "\u001b[0;31m---------------------------------------------------------------------------\u001b[0m",
      "\u001b[0;31mNameError\u001b[0m                                 Traceback (most recent call last)",
      "\u001b[0;32m/var/folders/l9/swvqvt0552gfk3662mhw83b00000gn/T/ipykernel_72056/90029693.py\u001b[0m in \u001b[0;36m<module>\u001b[0;34m\u001b[0m\n\u001b[1;32m      9\u001b[0m     \u001b[0mprint\u001b[0m\u001b[0;34m(\u001b[0m\u001b[0mi\u001b[0m\u001b[0;34m)\u001b[0m\u001b[0;34m\u001b[0m\u001b[0;34m\u001b[0m\u001b[0m\n\u001b[1;32m     10\u001b[0m \u001b[0;34m\u001b[0m\u001b[0m\n\u001b[0;32m---> 11\u001b[0;31m \u001b[0;32mfor\u001b[0m \u001b[0mitem\u001b[0m \u001b[0;32min\u001b[0m \u001b[0mmy_wish\u001b[0m\u001b[0;34m.\u001b[0m\u001b[0msplit\u001b[0m\u001b[0;34m(\u001b[0m\u001b[0;34m)\u001b[0m\u001b[0;34m:\u001b[0m\u001b[0;34m\u001b[0m\u001b[0;34m\u001b[0m\u001b[0m\n\u001b[0m\u001b[1;32m     12\u001b[0m     \u001b[0;32mif\u001b[0m \u001b[0mint\u001b[0m\u001b[0;34m(\u001b[0m\u001b[0mitem\u001b[0m\u001b[0;34m)\u001b[0m \u001b[0;34m==\u001b[0m \u001b[0mage\u001b[0m\u001b[0;34m:\u001b[0m\u001b[0;34m\u001b[0m\u001b[0;34m\u001b[0m\u001b[0m\n\u001b[1;32m     13\u001b[0m         \u001b[0mprint\u001b[0m\u001b[0;34m(\u001b[0m\u001b[0;34m\"found age\"\u001b[0m\u001b[0;34m)\u001b[0m\u001b[0;34m\u001b[0m\u001b[0;34m\u001b[0m\u001b[0m\n",
      "\u001b[0;31mNameError\u001b[0m: name 'my_wish' is not defined"
     ]
    }
   ],
   "source": [
    "# try and except to solve the my_wish error\n",
    "age = 21\n",
    "\n",
    "try:\n",
    "    my_wish = \"I wish I was\" + age +  \" years old\"\n",
    "except:\n",
    "    print(\"Could not store my_wish\")\n",
    "    \n",
    "for i in range(0,10):\n",
    "    print(i)\n",
    "\n",
    "for item in my_wish.split():\n",
    "    if int(item) == age:\n",
    "        print(\"found age\")"
   ]
  },
  {
   "cell_type": "code",
   "execution_count": 8,
   "id": "83b48c47",
   "metadata": {
    "ExecuteTime": {
     "end_time": "2023-05-16T13:00:41.629757Z",
     "start_time": "2023-05-16T13:00:41.621678Z"
    }
   },
   "outputs": [
    {
     "name": "stdout",
     "output_type": "stream",
     "text": [
      "Could not store my_wish because of error: TypeError with args ('can only concatenate str (not \"int\") to str',)\n",
      "0\n",
      "1\n",
      "2\n",
      "3\n",
      "4\n",
      "5\n",
      "6\n",
      "7\n",
      "8\n",
      "9\n"
     ]
    },
    {
     "ename": "NameError",
     "evalue": "name 'my_wish' is not defined",
     "output_type": "error",
     "traceback": [
      "\u001b[0;31m---------------------------------------------------------------------------\u001b[0m",
      "\u001b[0;31mNameError\u001b[0m                                 Traceback (most recent call last)",
      "\u001b[0;32m/var/folders/l9/swvqvt0552gfk3662mhw83b00000gn/T/ipykernel_72056/2447581078.py\u001b[0m in \u001b[0;36m<module>\u001b[0;34m\u001b[0m\n\u001b[1;32m      9\u001b[0m     \u001b[0mprint\u001b[0m\u001b[0;34m(\u001b[0m\u001b[0mi\u001b[0m\u001b[0;34m)\u001b[0m\u001b[0;34m\u001b[0m\u001b[0;34m\u001b[0m\u001b[0m\n\u001b[1;32m     10\u001b[0m \u001b[0;34m\u001b[0m\u001b[0m\n\u001b[0;32m---> 11\u001b[0;31m \u001b[0;32mfor\u001b[0m \u001b[0mitem\u001b[0m \u001b[0;32min\u001b[0m \u001b[0mmy_wish\u001b[0m\u001b[0;34m.\u001b[0m\u001b[0msplit\u001b[0m\u001b[0;34m(\u001b[0m\u001b[0;34m)\u001b[0m\u001b[0;34m:\u001b[0m\u001b[0;34m\u001b[0m\u001b[0;34m\u001b[0m\u001b[0m\n\u001b[0m\u001b[1;32m     12\u001b[0m     \u001b[0;32mif\u001b[0m \u001b[0mint\u001b[0m\u001b[0;34m(\u001b[0m\u001b[0mitem\u001b[0m\u001b[0;34m)\u001b[0m \u001b[0;34m==\u001b[0m \u001b[0mage\u001b[0m\u001b[0;34m:\u001b[0m\u001b[0;34m\u001b[0m\u001b[0;34m\u001b[0m\u001b[0m\n\u001b[1;32m     13\u001b[0m         \u001b[0mprint\u001b[0m\u001b[0;34m(\u001b[0m\u001b[0;34m\"found age\"\u001b[0m\u001b[0;34m)\u001b[0m\u001b[0;34m\u001b[0m\u001b[0;34m\u001b[0m\u001b[0m\n",
      "\u001b[0;31mNameError\u001b[0m: name 'my_wish' is not defined"
     ]
    }
   ],
   "source": [
    "age = 21\n",
    "\n",
    "try:\n",
    "    my_wish = \"I wish I was\" + age +  \" years old\"\n",
    "except Exception as ex:\n",
    "    print(\"Could not store my_wish because of error: {} with args {}\".format(type(ex).__name__, ex.args))\n",
    "    \n",
    "for i in range(0,10):\n",
    "    print(i)\n",
    "\n",
    "for item in my_wish.split():\n",
    "    if int(item) == age:\n",
    "        print(\"found age\")"
   ]
  },
  {
   "cell_type": "code",
   "execution_count": 10,
   "id": "7a05b993",
   "metadata": {
    "ExecuteTime": {
     "end_time": "2023-05-16T13:03:46.042119Z",
     "start_time": "2023-05-16T13:03:46.033492Z"
    }
   },
   "outputs": [
    {
     "name": "stdout",
     "output_type": "stream",
     "text": [
      "Oh there's a type error, lets solve that..\n",
      "0\n",
      "1\n",
      "2\n",
      "3\n",
      "4\n",
      "5\n",
      "6\n",
      "7\n",
      "8\n",
      "9\n"
     ]
    },
    {
     "ename": "NameError",
     "evalue": "name 'my_wish' is not defined",
     "output_type": "error",
     "traceback": [
      "\u001b[0;31m---------------------------------------------------------------------------\u001b[0m",
      "\u001b[0;31mNameError\u001b[0m                                 Traceback (most recent call last)",
      "\u001b[0;32m/var/folders/l9/swvqvt0552gfk3662mhw83b00000gn/T/ipykernel_72056/1304695270.py\u001b[0m in \u001b[0;36m<module>\u001b[0;34m\u001b[0m\n\u001b[1;32m     14\u001b[0m     \u001b[0mprint\u001b[0m\u001b[0;34m(\u001b[0m\u001b[0mi\u001b[0m\u001b[0;34m)\u001b[0m\u001b[0;34m\u001b[0m\u001b[0;34m\u001b[0m\u001b[0m\n\u001b[1;32m     15\u001b[0m \u001b[0;34m\u001b[0m\u001b[0m\n\u001b[0;32m---> 16\u001b[0;31m \u001b[0;32mfor\u001b[0m \u001b[0mitem\u001b[0m \u001b[0;32min\u001b[0m \u001b[0mmy_wish\u001b[0m\u001b[0;34m.\u001b[0m\u001b[0msplit\u001b[0m\u001b[0;34m(\u001b[0m\u001b[0;34m)\u001b[0m\u001b[0;34m:\u001b[0m\u001b[0;34m\u001b[0m\u001b[0;34m\u001b[0m\u001b[0m\n\u001b[0m\u001b[1;32m     17\u001b[0m     \u001b[0;32mif\u001b[0m \u001b[0mint\u001b[0m\u001b[0;34m(\u001b[0m\u001b[0mitem\u001b[0m\u001b[0;34m)\u001b[0m \u001b[0;34m==\u001b[0m \u001b[0mage\u001b[0m\u001b[0;34m:\u001b[0m\u001b[0;34m\u001b[0m\u001b[0;34m\u001b[0m\u001b[0m\n\u001b[1;32m     18\u001b[0m         \u001b[0mprint\u001b[0m\u001b[0;34m(\u001b[0m\u001b[0;34m\"found age\"\u001b[0m\u001b[0;34m)\u001b[0m\u001b[0;34m\u001b[0m\u001b[0;34m\u001b[0m\u001b[0m\n",
      "\u001b[0;31mNameError\u001b[0m: name 'my_wish' is not defined"
     ]
    }
   ],
   "source": [
    "# can have many except blocks\n",
    "age = 21\n",
    "\n",
    "try:\n",
    "    my_wish = \"I wish I was\" + age +  \" years old\"\n",
    "#except Exception as ex:\n",
    "    #print(\"Could not store my_wish because of error: {} with args {}\".format(type(ex).__name__, ex.args))\n",
    "except TypeError:\n",
    "    print(\"Oh there's a type error, lets solve that..\")\n",
    "except NameError:\n",
    "    print(\"Oh there's a name error, lets solve that..\")\n",
    "    \n",
    "for i in range(0,10):\n",
    "    print(i)\n",
    "\n",
    "for item in my_wish.split():\n",
    "    if int(item) == age:\n",
    "        print(\"found age\")"
   ]
  },
  {
   "cell_type": "code",
   "execution_count": 12,
   "id": "dc90f5ee",
   "metadata": {
    "ExecuteTime": {
     "end_time": "2023-05-16T13:06:14.551592Z",
     "start_time": "2023-05-16T13:06:14.547563Z"
    }
   },
   "outputs": [
    {
     "name": "stdout",
     "output_type": "stream",
     "text": [
      "Oh there's a type error, lets solve that..\n"
     ]
    }
   ],
   "source": [
    "# can have many except blocks\n",
    "age = 21\n",
    "\n",
    "try:\n",
    "    my_wish = \"I wish I was\" + age +  \" years old\"\n",
    "#except Exception as ex:\n",
    "    #print(\"Could not store my_wish because of error: {} with args {}\".format(type(ex).__name__, ex.args))\n",
    "except TypeError:\n",
    "    print(\"Oh there's a type error, lets solve that..\")\n",
    "except NameError:\n",
    "    print(\"Oh there's a name error, lets solve that..\")\n",
    "else:\n",
    "    for i in range(0,10):\n",
    "        print(i)\n",
    "\n",
    "    for item in my_wish.split():\n",
    "        if int(item) == age:\n",
    "            print(\"found age\")\n",
    "    \n",
    "\n",
    "    "
   ]
  },
  {
   "cell_type": "code",
   "execution_count": 14,
   "id": "2f2f2564",
   "metadata": {
    "ExecuteTime": {
     "end_time": "2023-05-16T13:08:59.575222Z",
     "start_time": "2023-05-16T13:08:59.569257Z"
    }
   },
   "outputs": [
    {
     "name": "stdout",
     "output_type": "stream",
     "text": [
      "Oh there's a type error, lets solve that..\n",
      "0\n",
      "1\n",
      "2\n",
      "3\n",
      "4\n",
      "5\n",
      "6\n",
      "7\n",
      "8\n",
      "9\n",
      "Could not store my_wish because of error: ValueError with args (\"invalid literal for int() with base 10: 'I'\",)\n"
     ]
    }
   ],
   "source": [
    "age = 21\n",
    "\n",
    "try:\n",
    "    my_wish = \"I wish I was\" + age +  \" years old\"\n",
    "except TypeError:\n",
    "    print(\"Oh there's a type error, lets solve that..\")\n",
    "    my_wish = \"I wish I was {} years old\".format(age)\n",
    "    try:\n",
    "        for i in range(0,10):\n",
    "            print(i)\n",
    "        for item in my_wish.split():\n",
    "            if int(item) == age:\n",
    "                print(\"found age\")\n",
    "    except Exception as ex:\n",
    "        print(\"Could not store my_wish because of error: {} with args {}\".format(type(ex).__name__, ex.args))\n",
    "except NameError:\n",
    "    print(\"Oh there's a name error, lets solve that..\")\n",
    "else:\n",
    "    for i in range(0,10):\n",
    "        print(i)\n",
    "\n",
    "    for item in my_wish.split():\n",
    "        if int(item) == age:\n",
    "            print(\"found age\")\n",
    "    "
   ]
  },
  {
   "cell_type": "code",
   "execution_count": 19,
   "id": "0b0268a1",
   "metadata": {
    "ExecuteTime": {
     "end_time": "2023-05-16T13:11:52.723320Z",
     "start_time": "2023-05-16T13:11:52.718105Z"
    }
   },
   "outputs": [
    {
     "name": "stdout",
     "output_type": "stream",
     "text": [
      "Oh there's a type error, lets solve that..\n",
      "0\n",
      "1\n",
      "2\n",
      "3\n",
      "4\n",
      "5\n",
      "6\n",
      "7\n",
      "8\n",
      "9\n",
      "Could not store my_wish because of error: ValueError with args (\"invalid literal for int() with base 10: 'I'\",)\n"
     ]
    }
   ],
   "source": [
    "age = 21\n",
    "\n",
    "try:\n",
    "    my_wish = \"I wish I was\" + age +  \" years old\"\n",
    "except TypeError:\n",
    "    print(\"Oh there's a type error, lets solve that..\")\n",
    "    my_wish = \"I wish I was {} years old\".format(age)\n",
    "    try:\n",
    "        for i in range(0,10):\n",
    "            print(i)\n",
    "        for item in my_wish.split():\n",
    "            try:\n",
    "                item = int(item)\n",
    "            except ValueError:\n",
    "                continue\n",
    "            else:\n",
    "                print(\"age found\")\n",
    "    except Exception as ex:\n",
    "        print(\"Could not store my_wish because of error: {} with args {}\".format(type(ex).__name__, ex.args))\n",
    "except NameError:\n",
    "    print(\"Oh there's a name error, lets solve that..\")\n",
    "else:\n",
    "    for i in range(0,10):\n",
    "        print(i)\n",
    "\n",
    "    for item in my_wish.split():\n",
    "        if int(item) == age:\n",
    "            print(\"found age\")"
   ]
  },
  {
   "cell_type": "code",
   "execution_count": null,
   "id": "304abed9",
   "metadata": {},
   "outputs": [],
   "source": []
  }
 ],
 "metadata": {
  "kernelspec": {
   "display_name": "python38",
   "language": "python",
   "name": "python38"
  },
  "language_info": {
   "codemirror_mode": {
    "name": "ipython",
    "version": 3
   },
   "file_extension": ".py",
   "mimetype": "text/x-python",
   "name": "python",
   "nbconvert_exporter": "python",
   "pygments_lexer": "ipython3",
   "version": "3.8.12"
  }
 },
 "nbformat": 4,
 "nbformat_minor": 5
}
