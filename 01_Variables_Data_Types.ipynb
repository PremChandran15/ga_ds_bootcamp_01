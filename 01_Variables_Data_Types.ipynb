{
 "cells": [
  {
   "cell_type": "code",
   "execution_count": 1,
   "id": "196b15c0",
   "metadata": {
    "ExecuteTime": {
     "end_time": "2023-05-09T13:04:09.913805Z",
     "start_time": "2023-05-09T13:04:09.900460Z"
    }
   },
   "outputs": [
    {
     "data": {
      "text/plain": [
       "0.75"
      ]
     },
     "execution_count": 1,
     "metadata": {},
     "output_type": "execute_result"
    }
   ],
   "source": [
    "3/4"
   ]
  },
  {
   "cell_type": "code",
   "execution_count": 2,
   "id": "3eda76ca",
   "metadata": {
    "ExecuteTime": {
     "end_time": "2023-05-09T13:27:55.767961Z",
     "start_time": "2023-05-09T13:27:55.764466Z"
    }
   },
   "outputs": [],
   "source": [
    "a = 3.5"
   ]
  },
  {
   "cell_type": "code",
   "execution_count": 3,
   "id": "7d73a114",
   "metadata": {
    "ExecuteTime": {
     "end_time": "2023-05-09T13:27:59.085785Z",
     "start_time": "2023-05-09T13:27:59.082837Z"
    }
   },
   "outputs": [
    {
     "data": {
      "text/plain": [
       "float"
      ]
     },
     "execution_count": 3,
     "metadata": {},
     "output_type": "execute_result"
    }
   ],
   "source": [
    "type(a)"
   ]
  },
  {
   "cell_type": "code",
   "execution_count": 1,
   "id": "67b41134",
   "metadata": {
    "ExecuteTime": {
     "end_time": "2023-05-11T11:48:50.304627Z",
     "start_time": "2023-05-11T11:48:50.296463Z"
    }
   },
   "outputs": [
    {
     "name": "stdout",
     "output_type": "stream",
     "text": [
      "Hello world! from Python!\n"
     ]
    }
   ],
   "source": [
    "print(\"Hello world! from Python!\")"
   ]
  },
  {
   "cell_type": "code",
   "execution_count": 2,
   "id": "7d6aa874",
   "metadata": {
    "ExecuteTime": {
     "end_time": "2023-05-11T11:50:05.684249Z",
     "start_time": "2023-05-11T11:50:05.676578Z"
    }
   },
   "outputs": [
    {
     "data": {
      "text/plain": [
       "'3.8.12 (default, Oct 12 2021, 06:23:56) \\n[Clang 10.0.0 ]'"
      ]
     },
     "execution_count": 2,
     "metadata": {},
     "output_type": "execute_result"
    }
   ],
   "source": [
    "# this is a comment, This will not get executed\n",
    "import sys\n",
    "sys.version"
   ]
  },
  {
   "cell_type": "markdown",
   "id": "520a7991",
   "metadata": {},
   "source": [
    "# This is a markdown Header\n",
    "## This is a smaller header\n",
    "###  I can use this note block to take notes"
   ]
  },
  {
   "cell_type": "code",
   "execution_count": 3,
   "id": "2c8022db",
   "metadata": {
    "ExecuteTime": {
     "end_time": "2023-05-11T11:54:22.594070Z",
     "start_time": "2023-05-11T11:54:22.591483Z"
    }
   },
   "outputs": [],
   "source": [
    "# declaring variables in Python\n",
    "a = 2 # integer\n",
    "b = 3.142 # float\n",
    "c = \"hot day\" #string \n",
    "d = True # boolean\n"
   ]
  },
  {
   "cell_type": "code",
   "execution_count": 8,
   "id": "c989efc2",
   "metadata": {
    "ExecuteTime": {
     "end_time": "2023-05-11T11:54:49.357556Z",
     "start_time": "2023-05-11T11:54:49.353907Z"
    }
   },
   "outputs": [
    {
     "data": {
      "text/plain": [
       "bool"
      ]
     },
     "execution_count": 8,
     "metadata": {},
     "output_type": "execute_result"
    }
   ],
   "source": [
    "type(d)"
   ]
  },
  {
   "cell_type": "code",
   "execution_count": 9,
   "id": "8b53a572",
   "metadata": {
    "ExecuteTime": {
     "end_time": "2023-05-11T11:56:23.557434Z",
     "start_time": "2023-05-11T11:56:23.555029Z"
    }
   },
   "outputs": [],
   "source": [
    "age = 25\n",
    "name = \"John\"\n",
    "his_job = \"data scientist\""
   ]
  },
  {
   "cell_type": "code",
   "execution_count": 11,
   "id": "f5481bc6",
   "metadata": {
    "ExecuteTime": {
     "end_time": "2023-05-11T11:57:01.819772Z",
     "start_time": "2023-05-11T11:57:01.816840Z"
    }
   },
   "outputs": [
    {
     "data": {
      "text/plain": [
       "'John: data scientist'"
      ]
     },
     "execution_count": 11,
     "metadata": {},
     "output_type": "execute_result"
    }
   ],
   "source": [
    "name + \": \" + his_job"
   ]
  },
  {
   "cell_type": "code",
   "execution_count": 13,
   "id": "eba1f9c4",
   "metadata": {
    "ExecuteTime": {
     "end_time": "2023-05-11T11:58:11.094414Z",
     "start_time": "2023-05-11T11:58:10.939195Z"
    }
   },
   "outputs": [
    {
     "ename": "TypeError",
     "evalue": "can only concatenate str (not \"int\") to str",
     "output_type": "error",
     "traceback": [
      "\u001b[0;31m---------------------------------------------------------------------------\u001b[0m",
      "\u001b[0;31mTypeError\u001b[0m                                 Traceback (most recent call last)",
      "\u001b[0;32m/var/folders/l9/swvqvt0552gfk3662mhw83b00000gn/T/ipykernel_57843/2822306693.py\u001b[0m in \u001b[0;36m<module>\u001b[0;34m\u001b[0m\n\u001b[0;32m----> 1\u001b[0;31m \u001b[0;34m\"His name is: \"\u001b[0m \u001b[0;34m+\u001b[0m \u001b[0mname\u001b[0m \u001b[0;34m+\u001b[0m \u001b[0;34m\". His job is: \"\u001b[0m \u001b[0;34m+\u001b[0m \u001b[0mhis_job\u001b[0m \u001b[0;34m+\u001b[0m \u001b[0;34m\". His age is \"\u001b[0m \u001b[0;34m+\u001b[0m \u001b[0mage\u001b[0m\u001b[0;34m\u001b[0m\u001b[0;34m\u001b[0m\u001b[0m\n\u001b[0m",
      "\u001b[0;31mTypeError\u001b[0m: can only concatenate str (not \"int\") to str"
     ]
    }
   ],
   "source": [
    "\"His name is: \" + name + \". His job is: \" + his_job + \". His age is \" + age"
   ]
  },
  {
   "cell_type": "code",
   "execution_count": 14,
   "id": "0aa525b1",
   "metadata": {
    "ExecuteTime": {
     "end_time": "2023-05-11T11:58:57.593875Z",
     "start_time": "2023-05-11T11:58:57.590616Z"
    }
   },
   "outputs": [
    {
     "data": {
      "text/plain": [
       "'His name is: John. His job is: data scientist. His age is 25'"
      ]
     },
     "execution_count": 14,
     "metadata": {},
     "output_type": "execute_result"
    }
   ],
   "source": [
    "#method 1 : type casting \n",
    "\"His name is: \" + name + \". His job is: \" + his_job + \". His age is \" + str(age)"
   ]
  },
  {
   "cell_type": "code",
   "execution_count": 15,
   "id": "1756e778",
   "metadata": {
    "ExecuteTime": {
     "end_time": "2023-05-11T12:01:04.977496Z",
     "start_time": "2023-05-11T12:01:04.974477Z"
    }
   },
   "outputs": [
    {
     "data": {
      "text/plain": [
       "'His name is: John. His job is: data scientist. His age is 25'"
      ]
     },
     "execution_count": 15,
     "metadata": {},
     "output_type": "execute_result"
    }
   ],
   "source": [
    "#method 2 : string formatting \n",
    "\"His name is: {}. His job is: {}. His age is {}\".format(name, his_job, age)"
   ]
  },
  {
   "cell_type": "code",
   "execution_count": 16,
   "id": "6e932d7d",
   "metadata": {
    "ExecuteTime": {
     "end_time": "2023-05-11T12:02:22.768726Z",
     "start_time": "2023-05-11T12:02:22.765509Z"
    }
   },
   "outputs": [
    {
     "data": {
      "text/plain": [
       "'His name is: John. His job is: data scientist. His age is 25'"
      ]
     },
     "execution_count": 16,
     "metadata": {},
     "output_type": "execute_result"
    }
   ],
   "source": [
    "#method 3 : string formatting with f string\n",
    "f\"His name is: {name}. His job is: {his_job}. His age is {age}\""
   ]
  },
  {
   "cell_type": "code",
   "execution_count": 17,
   "id": "6b74b20e",
   "metadata": {
    "ExecuteTime": {
     "end_time": "2023-05-11T12:03:42.729351Z",
     "start_time": "2023-05-11T12:03:42.726757Z"
    }
   },
   "outputs": [
    {
     "name": "stdout",
     "output_type": "stream",
     "text": [
      "His name is: John. His job is: data scientist. His age is 25\n"
     ]
    }
   ],
   "source": [
    "print(f\"His name is: {name}. His job is: {his_job}. His age is {age}\")"
   ]
  },
  {
   "cell_type": "code",
   "execution_count": 18,
   "id": "97b54d26",
   "metadata": {
    "ExecuteTime": {
     "end_time": "2023-05-11T12:05:03.578484Z",
     "start_time": "2023-05-11T12:05:03.575315Z"
    }
   },
   "outputs": [
    {
     "data": {
      "text/plain": [
       "'His name is: John. His job is: data scientist. His age is 25'"
      ]
     },
     "execution_count": 18,
     "metadata": {},
     "output_type": "execute_result"
    }
   ],
   "source": [
    "my_sentence = f\"His name is: {name}. His job is: {his_job}. His age is {age}\"\n",
    "my_sentence"
   ]
  },
  {
   "cell_type": "code",
   "execution_count": 19,
   "id": "1f49c37c",
   "metadata": {
    "ExecuteTime": {
     "end_time": "2023-05-11T12:06:21.414361Z",
     "start_time": "2023-05-11T12:06:21.411177Z"
    }
   },
   "outputs": [
    {
     "data": {
      "text/plain": [
       "'H'"
      ]
     },
     "execution_count": 19,
     "metadata": {},
     "output_type": "execute_result"
    }
   ],
   "source": [
    "#string indexing -> anything that is iterable\n",
    "my_sentence[0]"
   ]
  },
  {
   "cell_type": "code",
   "execution_count": 21,
   "id": "8aa53897",
   "metadata": {
    "ExecuteTime": {
     "end_time": "2023-05-11T12:07:40.826962Z",
     "start_time": "2023-05-11T12:07:40.824005Z"
    }
   },
   "outputs": [
    {
     "data": {
      "text/plain": [
       "'His name is: John'"
      ]
     },
     "execution_count": 21,
     "metadata": {},
     "output_type": "execute_result"
    }
   ],
   "source": [
    "# get his name is: John\n",
    "my_sentence[0:17]"
   ]
  },
  {
   "cell_type": "code",
   "execution_count": 24,
   "id": "24fc9ed9",
   "metadata": {
    "ExecuteTime": {
     "end_time": "2023-05-11T12:09:03.971861Z",
     "start_time": "2023-05-11T12:09:03.968329Z"
    }
   },
   "outputs": [
    {
     "data": {
      "text/plain": [
       "31"
      ]
     },
     "execution_count": 24,
     "metadata": {},
     "output_type": "execute_result"
    }
   ],
   "source": [
    "my_sentence.find(\"data\")"
   ]
  },
  {
   "cell_type": "code",
   "execution_count": 25,
   "id": "2549a4c6",
   "metadata": {
    "ExecuteTime": {
     "end_time": "2023-05-11T12:09:09.723732Z",
     "start_time": "2023-05-11T12:09:09.719728Z"
    }
   },
   "outputs": [
    {
     "data": {
      "text/plain": [
       "'His name is: John. His job is: data'"
      ]
     },
     "execution_count": 25,
     "metadata": {},
     "output_type": "execute_result"
    }
   ],
   "source": [
    "my_sentence[0:35]"
   ]
  },
  {
   "cell_type": "code",
   "execution_count": 29,
   "id": "8d0bb758",
   "metadata": {
    "ExecuteTime": {
     "end_time": "2023-05-11T12:32:05.293983Z",
     "start_time": "2023-05-11T12:32:05.291018Z"
    }
   },
   "outputs": [
    {
     "data": {
      "text/plain": [
       "'HIS NAME IS: JOHN. HIS JOB IS: DATA SCIENTIST. HIS AGE IS 25'"
      ]
     },
     "execution_count": 29,
     "metadata": {},
     "output_type": "execute_result"
    }
   ],
   "source": [
    "my_sentence.upper()"
   ]
  },
  {
   "cell_type": "markdown",
   "id": "1ad2f4da",
   "metadata": {},
   "source": [
    "## Python Collections => is where we can store data (iterables)"
   ]
  },
  {
   "cell_type": "code",
   "execution_count": 56,
   "id": "2a32308c",
   "metadata": {
    "ExecuteTime": {
     "end_time": "2023-05-11T12:46:00.585920Z",
     "start_time": "2023-05-11T12:46:00.583804Z"
    }
   },
   "outputs": [],
   "source": [
    "my_list = [1, 2, 3, 4, 'some letters after string', 3.142]"
   ]
  },
  {
   "cell_type": "code",
   "execution_count": 32,
   "id": "5d8d9ef7",
   "metadata": {
    "ExecuteTime": {
     "end_time": "2023-05-11T12:34:02.030945Z",
     "start_time": "2023-05-11T12:34:02.027927Z"
    }
   },
   "outputs": [
    {
     "data": {
      "text/plain": [
       "3"
      ]
     },
     "execution_count": 32,
     "metadata": {},
     "output_type": "execute_result"
    }
   ],
   "source": [
    "# list indexing\n",
    "my_list[2]"
   ]
  },
  {
   "cell_type": "code",
   "execution_count": 37,
   "id": "25d51425",
   "metadata": {
    "ExecuteTime": {
     "end_time": "2023-05-11T12:34:50.792914Z",
     "start_time": "2023-05-11T12:34:50.789757Z"
    }
   },
   "outputs": [
    {
     "data": {
      "text/plain": [
       "['some string', 3.142]"
      ]
     },
     "execution_count": 37,
     "metadata": {},
     "output_type": "execute_result"
    }
   ],
   "source": [
    "my_list[4:]"
   ]
  },
  {
   "cell_type": "code",
   "execution_count": 39,
   "id": "4fd91d27",
   "metadata": {
    "ExecuteTime": {
     "end_time": "2023-05-11T12:36:31.962884Z",
     "start_time": "2023-05-11T12:36:31.960049Z"
    }
   },
   "outputs": [
    {
     "data": {
      "text/plain": [
       "'some string'"
      ]
     },
     "execution_count": 39,
     "metadata": {},
     "output_type": "execute_result"
    }
   ],
   "source": [
    "# I want to get the word 'string' from my_list\n",
    "my_list[4]"
   ]
  },
  {
   "cell_type": "code",
   "execution_count": 58,
   "id": "de3e1f97",
   "metadata": {
    "ExecuteTime": {
     "end_time": "2023-05-11T12:46:06.498846Z",
     "start_time": "2023-05-11T12:46:06.495910Z"
    }
   },
   "outputs": [
    {
     "data": {
      "text/plain": [
       "'letters after string'"
      ]
     },
     "execution_count": 58,
     "metadata": {},
     "output_type": "execute_result"
    }
   ],
   "source": [
    "#method 1\n",
    "my_list[4][5:]"
   ]
  },
  {
   "cell_type": "code",
   "execution_count": 48,
   "id": "9bae63e3",
   "metadata": {
    "ExecuteTime": {
     "end_time": "2023-05-11T12:40:13.885648Z",
     "start_time": "2023-05-11T12:40:13.882541Z"
    }
   },
   "outputs": [
    {
     "data": {
      "text/plain": [
       "'string'"
      ]
     },
     "execution_count": 48,
     "metadata": {},
     "output_type": "execute_result"
    }
   ],
   "source": [
    "#method 2\n",
    "my_list[4][-6:]"
   ]
  },
  {
   "cell_type": "code",
   "execution_count": 57,
   "id": "4282712a",
   "metadata": {
    "ExecuteTime": {
     "end_time": "2023-05-11T12:46:03.775124Z",
     "start_time": "2023-05-11T12:46:03.771702Z"
    }
   },
   "outputs": [
    {
     "data": {
      "text/plain": [
       "'string'"
      ]
     },
     "execution_count": 57,
     "metadata": {},
     "output_type": "execute_result"
    }
   ],
   "source": [
    "#method 3\n",
    "my_list[4][my_list[4].find('string'):my_list[4].find('string')+6] #'some string'[5:5+6]"
   ]
  },
  {
   "cell_type": "code",
   "execution_count": 53,
   "id": "7d10002f",
   "metadata": {
    "ExecuteTime": {
     "end_time": "2023-05-11T12:42:03.435945Z",
     "start_time": "2023-05-11T12:42:03.432742Z"
    }
   },
   "outputs": [
    {
     "data": {
      "text/plain": [
       "5"
      ]
     },
     "execution_count": 53,
     "metadata": {},
     "output_type": "execute_result"
    }
   ],
   "source": [
    "my_list[4].find('string')"
   ]
  },
  {
   "cell_type": "code",
   "execution_count": 60,
   "id": "e7795e5e",
   "metadata": {
    "ExecuteTime": {
     "end_time": "2023-05-11T12:48:50.414779Z",
     "start_time": "2023-05-11T12:48:50.411712Z"
    }
   },
   "outputs": [
    {
     "data": {
      "text/plain": [
       "'gnirts retfa srettel emos'"
      ]
     },
     "execution_count": 60,
     "metadata": {},
     "output_type": "execute_result"
    }
   ],
   "source": [
    "# mirror string\n",
    "my_list[4][::-1]"
   ]
  },
  {
   "cell_type": "code",
   "execution_count": 61,
   "id": "5cdde6a1",
   "metadata": {
    "ExecuteTime": {
     "end_time": "2023-05-11T12:49:59.364858Z",
     "start_time": "2023-05-11T12:49:59.362589Z"
    }
   },
   "outputs": [],
   "source": [
    "# add / append values into list\n",
    "my_list.append('prem')"
   ]
  },
  {
   "cell_type": "code",
   "execution_count": 62,
   "id": "d0403e25",
   "metadata": {
    "ExecuteTime": {
     "end_time": "2023-05-11T12:50:01.903344Z",
     "start_time": "2023-05-11T12:50:01.899972Z"
    }
   },
   "outputs": [
    {
     "data": {
      "text/plain": [
       "[1, 2, 3, 4, 'some letters after string', 3.142, 'prem']"
      ]
     },
     "execution_count": 62,
     "metadata": {},
     "output_type": "execute_result"
    }
   ],
   "source": [
    "my_list"
   ]
  },
  {
   "cell_type": "code",
   "execution_count": 63,
   "id": "0a9e791b",
   "metadata": {
    "ExecuteTime": {
     "end_time": "2023-05-11T12:50:41.263165Z",
     "start_time": "2023-05-11T12:50:41.260173Z"
    }
   },
   "outputs": [
    {
     "data": {
      "text/plain": [
       "'prem'"
      ]
     },
     "execution_count": 63,
     "metadata": {},
     "output_type": "execute_result"
    }
   ],
   "source": [
    "#remove values from list. Pop will remove last in first out\n",
    "my_list.pop()"
   ]
  },
  {
   "cell_type": "code",
   "execution_count": 64,
   "id": "b9d2313f",
   "metadata": {
    "ExecuteTime": {
     "end_time": "2023-05-11T12:50:52.187451Z",
     "start_time": "2023-05-11T12:50:52.184311Z"
    }
   },
   "outputs": [
    {
     "data": {
      "text/plain": [
       "[1, 2, 3, 4, 'some letters after string', 3.142]"
      ]
     },
     "execution_count": 64,
     "metadata": {},
     "output_type": "execute_result"
    }
   ],
   "source": [
    "my_list"
   ]
  },
  {
   "cell_type": "code",
   "execution_count": 65,
   "id": "8fcd97cf",
   "metadata": {
    "ExecuteTime": {
     "end_time": "2023-05-11T12:51:49.337358Z",
     "start_time": "2023-05-11T12:51:49.335142Z"
    }
   },
   "outputs": [],
   "source": [
    "my_list.remove(4)"
   ]
  },
  {
   "cell_type": "code",
   "execution_count": 66,
   "id": "6b1d2220",
   "metadata": {
    "ExecuteTime": {
     "end_time": "2023-05-11T12:51:52.525420Z",
     "start_time": "2023-05-11T12:51:52.522353Z"
    }
   },
   "outputs": [
    {
     "data": {
      "text/plain": [
       "[1, 2, 3, 'some letters after string', 3.142]"
      ]
     },
     "execution_count": 66,
     "metadata": {},
     "output_type": "execute_result"
    }
   ],
   "source": [
    "my_list"
   ]
  },
  {
   "cell_type": "code",
   "execution_count": 67,
   "id": "39dcead5",
   "metadata": {
    "ExecuteTime": {
     "end_time": "2023-05-11T12:52:30.405194Z",
     "start_time": "2023-05-11T12:52:30.398018Z"
    }
   },
   "outputs": [
    {
     "ename": "ValueError",
     "evalue": "list.remove(x): x not in list",
     "output_type": "error",
     "traceback": [
      "\u001b[0;31m---------------------------------------------------------------------------\u001b[0m",
      "\u001b[0;31mValueError\u001b[0m                                Traceback (most recent call last)",
      "\u001b[0;32m/var/folders/l9/swvqvt0552gfk3662mhw83b00000gn/T/ipykernel_57843/2800924371.py\u001b[0m in \u001b[0;36m<module>\u001b[0;34m\u001b[0m\n\u001b[0;32m----> 1\u001b[0;31m \u001b[0mmy_list\u001b[0m\u001b[0;34m.\u001b[0m\u001b[0mremove\u001b[0m\u001b[0;34m(\u001b[0m\u001b[0;36m4\u001b[0m\u001b[0;34m)\u001b[0m\u001b[0;34m\u001b[0m\u001b[0;34m\u001b[0m\u001b[0m\n\u001b[0m",
      "\u001b[0;31mValueError\u001b[0m: list.remove(x): x not in list"
     ]
    }
   ],
   "source": [
    "my_list.remove(4)"
   ]
  },
  {
   "cell_type": "code",
   "execution_count": 68,
   "id": "ac4eb028",
   "metadata": {
    "ExecuteTime": {
     "end_time": "2023-05-11T12:58:16.415524Z",
     "start_time": "2023-05-11T12:58:16.413242Z"
    }
   },
   "outputs": [],
   "source": [
    "#dictionary => {key: value} pair, Key must be unique. either alphanumeric, string, int\n",
    "class_dictionary = {\"name\":\"Chun\" , \"hobby\": \"swimming\" , \"job\": \"Tech\"}"
   ]
  },
  {
   "cell_type": "code",
   "execution_count": 69,
   "id": "7b06b30c",
   "metadata": {
    "ExecuteTime": {
     "end_time": "2023-05-11T12:58:19.240600Z",
     "start_time": "2023-05-11T12:58:19.237602Z"
    }
   },
   "outputs": [
    {
     "data": {
      "text/plain": [
       "{'name': 'Chun', 'hobby': 'swimming', 'job': 'Tech'}"
      ]
     },
     "execution_count": 69,
     "metadata": {},
     "output_type": "execute_result"
    }
   ],
   "source": [
    "class_dictionary"
   ]
  },
  {
   "cell_type": "code",
   "execution_count": 73,
   "id": "a7e6e81c",
   "metadata": {
    "ExecuteTime": {
     "end_time": "2023-05-11T12:59:17.328018Z",
     "start_time": "2023-05-11T12:59:17.324633Z"
    }
   },
   "outputs": [
    {
     "data": {
      "text/plain": [
       "'Chun'"
      ]
     },
     "execution_count": 73,
     "metadata": {},
     "output_type": "execute_result"
    }
   ],
   "source": [
    "class_dictionary[\"name\"]"
   ]
  },
  {
   "cell_type": "code",
   "execution_count": 71,
   "id": "210bd624",
   "metadata": {
    "ExecuteTime": {
     "end_time": "2023-05-11T12:58:54.468317Z",
     "start_time": "2023-05-11T12:58:54.462917Z"
    }
   },
   "outputs": [
    {
     "ename": "KeyError",
     "evalue": "0",
     "output_type": "error",
     "traceback": [
      "\u001b[0;31m---------------------------------------------------------------------------\u001b[0m",
      "\u001b[0;31mKeyError\u001b[0m                                  Traceback (most recent call last)",
      "\u001b[0;32m/var/folders/l9/swvqvt0552gfk3662mhw83b00000gn/T/ipykernel_57843/2125340704.py\u001b[0m in \u001b[0;36m<module>\u001b[0;34m\u001b[0m\n\u001b[0;32m----> 1\u001b[0;31m \u001b[0mclass_dictionary\u001b[0m\u001b[0;34m[\u001b[0m\u001b[0;36m0\u001b[0m\u001b[0;34m]\u001b[0m\u001b[0;34m\u001b[0m\u001b[0;34m\u001b[0m\u001b[0m\n\u001b[0m",
      "\u001b[0;31mKeyError\u001b[0m: 0"
     ]
    }
   ],
   "source": [
    "class_dictionary[0]"
   ]
  },
  {
   "cell_type": "code",
   "execution_count": 74,
   "id": "af55f8d0",
   "metadata": {
    "ExecuteTime": {
     "end_time": "2023-05-11T13:02:10.868555Z",
     "start_time": "2023-05-11T13:02:10.865978Z"
    }
   },
   "outputs": [],
   "source": [
    "class_dictionary = {\"name\":[\"Chun\",\"Jit\", \"Kalyani\",\"YC\"] , \"hobby\": [\"swimming\", \"badminton\", \"baking\", \"jogging\"]\n",
    "                            , \"job\": [\"Tech\",\"Engineer\",\"Lead Developer\", \"Data Analyst\"]}"
   ]
  },
  {
   "cell_type": "code",
   "execution_count": 75,
   "id": "f87cb2ec",
   "metadata": {
    "ExecuteTime": {
     "end_time": "2023-05-11T13:02:13.842019Z",
     "start_time": "2023-05-11T13:02:13.838874Z"
    }
   },
   "outputs": [
    {
     "data": {
      "text/plain": [
       "{'name': ['Chun', 'Jit', 'Kalyani', 'YC'],\n",
       " 'hobby': ['swimming', 'badminton', 'baking', 'jogging'],\n",
       " 'job': ['Tech', 'Engineer', 'Lead Developer', 'Data Analyst']}"
      ]
     },
     "execution_count": 75,
     "metadata": {},
     "output_type": "execute_result"
    }
   ],
   "source": [
    "class_dictionary"
   ]
  },
  {
   "cell_type": "code",
   "execution_count": 78,
   "id": "3da8fab8",
   "metadata": {
    "ExecuteTime": {
     "end_time": "2023-05-11T13:02:56.615098Z",
     "start_time": "2023-05-11T13:02:56.611930Z"
    }
   },
   "outputs": [
    {
     "data": {
      "text/plain": [
       "dict_items([('name', ['Chun', 'Jit', 'Kalyani', 'YC']), ('hobby', ['swimming', 'badminton', 'baking', 'jogging']), ('job', ['Tech', 'Engineer', 'Lead Developer', 'Data Analyst'])])"
      ]
     },
     "execution_count": 78,
     "metadata": {},
     "output_type": "execute_result"
    }
   ],
   "source": [
    "class_dictionary.items()"
   ]
  },
  {
   "cell_type": "code",
   "execution_count": 79,
   "id": "6c4c842c",
   "metadata": {
    "ExecuteTime": {
     "end_time": "2023-05-11T13:03:35.128118Z",
     "start_time": "2023-05-11T13:03:35.125694Z"
    }
   },
   "outputs": [],
   "source": [
    "#Question 1: get the word \"hello\"\n",
    "d = {'k1':[1,2,{'k2':['this is tricky',{'tough':[1,2,['hello']]}]}]}"
   ]
  },
  {
   "cell_type": "code",
   "execution_count": 81,
   "id": "b51fa0a2",
   "metadata": {
    "ExecuteTime": {
     "end_time": "2023-05-11T13:18:04.280256Z",
     "start_time": "2023-05-11T13:18:04.277129Z"
    }
   },
   "outputs": [
    {
     "data": {
      "text/plain": [
       "dict_keys(['k1'])"
      ]
     },
     "execution_count": 81,
     "metadata": {},
     "output_type": "execute_result"
    }
   ],
   "source": [
    "d.keys()"
   ]
  },
  {
   "cell_type": "code",
   "execution_count": 84,
   "id": "3e35b07a",
   "metadata": {
    "ExecuteTime": {
     "end_time": "2023-05-11T13:18:42.968606Z",
     "start_time": "2023-05-11T13:18:42.965509Z"
    }
   },
   "outputs": [
    {
     "data": {
      "text/plain": [
       "3"
      ]
     },
     "execution_count": 84,
     "metadata": {},
     "output_type": "execute_result"
    }
   ],
   "source": [
    "len(d['k1'])"
   ]
  },
  {
   "cell_type": "code",
   "execution_count": 86,
   "id": "22bf4eab",
   "metadata": {
    "ExecuteTime": {
     "end_time": "2023-05-11T13:19:08.569951Z",
     "start_time": "2023-05-11T13:19:08.566145Z"
    }
   },
   "outputs": [
    {
     "data": {
      "text/plain": [
       "[1, 2, {'k2': ['this is tricky', {'tough': [1, 2, ['hello']]}]}]"
      ]
     },
     "execution_count": 86,
     "metadata": {},
     "output_type": "execute_result"
    }
   ],
   "source": [
    "d['k1']"
   ]
  },
  {
   "cell_type": "code",
   "execution_count": 93,
   "id": "94177aa8",
   "metadata": {
    "ExecuteTime": {
     "end_time": "2023-05-11T13:27:07.043289Z",
     "start_time": "2023-05-11T13:27:07.039770Z"
    }
   },
   "outputs": [
    {
     "data": {
      "text/plain": [
       "'hello'"
      ]
     },
     "execution_count": 93,
     "metadata": {},
     "output_type": "execute_result"
    }
   ],
   "source": [
    "d['k1'][2]['k2'][1]['tough'][2][0]"
   ]
  },
  {
   "cell_type": "code",
   "execution_count": 115,
   "id": "7aa2d5d7",
   "metadata": {
    "ExecuteTime": {
     "end_time": "2023-05-11T13:49:52.721727Z",
     "start_time": "2023-05-11T13:49:52.717838Z"
    }
   },
   "outputs": [
    {
     "data": {
      "text/plain": [
       "'Hello Jit, since your hobby is badminton, you are a qualified Engineer'"
      ]
     },
     "execution_count": 115,
     "metadata": {},
     "output_type": "execute_result"
    }
   ],
   "source": [
    "#Question 2: Get this sentence from the dictionary. \n",
    "#\"Hello <name>, since your hobby is <hobby>, you are a qualified <job.\"\n",
    "name2 = class_dictionary['name'][1]\n",
    "hobby2 = class_dictionary['hobby'][1]\n",
    "job2 = class_dictionary[\"job\"][1]\n",
    "f\"Hello {class_dictionary['name'][1]}, since your hobby is {hobby2}, you are a qualified {job2}\""
   ]
  },
  {
   "cell_type": "code",
   "execution_count": 116,
   "id": "c5b121b1",
   "metadata": {
    "ExecuteTime": {
     "end_time": "2023-05-11T13:49:53.270872Z",
     "start_time": "2023-05-11T13:49:53.267661Z"
    }
   },
   "outputs": [
    {
     "data": {
      "text/plain": [
       "'Jit'"
      ]
     },
     "execution_count": 116,
     "metadata": {},
     "output_type": "execute_result"
    }
   ],
   "source": [
    "name2"
   ]
  },
  {
   "cell_type": "code",
   "execution_count": 106,
   "id": "cc5d0c69",
   "metadata": {
    "ExecuteTime": {
     "end_time": "2023-05-11T13:42:43.968370Z",
     "start_time": "2023-05-11T13:42:43.965746Z"
    }
   },
   "outputs": [
    {
     "name": "stdout",
     "output_type": "stream",
     "text": [
      "Hello Prem, since your hobby is swimming, you are a qualified Tech\n",
      "Hello Jit, since your hobby is badminton, you are a qualified Engineer\n",
      "Hello Kalyani, since your hobby is baking, you are a qualified Lead Developer\n",
      "Hello YC, since your hobby is jogging, you are a qualified Data Analyst\n"
     ]
    }
   ],
   "source": [
    "for i in range(0,len(class_dictionary['name'])):\n",
    "    print(f\"Hello {class_dictionary['name'][i]}, since your hobby is {class_dictionary['hobby'][i]}, you are a qualified {class_dictionary['job'][i]}\")"
   ]
  },
  {
   "cell_type": "code",
   "execution_count": 109,
   "id": "2a2d92f4",
   "metadata": {
    "ExecuteTime": {
     "end_time": "2023-05-11T13:43:28.723221Z",
     "start_time": "2023-05-11T13:43:28.719611Z"
    }
   },
   "outputs": [
    {
     "data": {
      "text/plain": [
       "[0, 1, 2, 3]"
      ]
     },
     "execution_count": 109,
     "metadata": {},
     "output_type": "execute_result"
    }
   ],
   "source": [
    "list(range(0,len(class_dictionary['name'])))"
   ]
  },
  {
   "cell_type": "code",
   "execution_count": 99,
   "id": "c600d80c",
   "metadata": {
    "ExecuteTime": {
     "end_time": "2023-05-11T13:35:46.126989Z",
     "start_time": "2023-05-11T13:35:46.124866Z"
    }
   },
   "outputs": [],
   "source": [
    "class_dictionary['name'][0] = 'Prem'"
   ]
  },
  {
   "cell_type": "code",
   "execution_count": 100,
   "id": "fed7f19f",
   "metadata": {
    "ExecuteTime": {
     "end_time": "2023-05-11T13:35:50.212914Z",
     "start_time": "2023-05-11T13:35:50.209781Z"
    }
   },
   "outputs": [
    {
     "data": {
      "text/plain": [
       "{'name': ['Prem', 'Jit', 'Kalyani', 'YC'],\n",
       " 'hobby': ['swimming', 'badminton', 'baking', 'jogging'],\n",
       " 'job': ['Tech', 'Engineer', 'Lead Developer', 'Data Analyst']}"
      ]
     },
     "execution_count": 100,
     "metadata": {},
     "output_type": "execute_result"
    }
   ],
   "source": [
    "class_dictionary"
   ]
  },
  {
   "cell_type": "markdown",
   "id": "a6fff02a",
   "metadata": {},
   "source": [
    "## Different Data Types\n",
    "\n",
    "- Numbers\n",
    "- Strings\n",
    "- Lists\n",
    "- Dictionaries\n",
    "- Tuples\n",
    "- String Indexing\n",
    "- Printing and String Formatting\n",
    "- Python operators and comparison operators\n",
    "- List Indexing and Dictionary items. d.iter or d.items\n",
    "\n",
    "\n",
    "### Mutable and Immutable Data Types\n",
    "**Immutable types**: Strings, Numbers, Tuples, Sets <br>\n",
    "**Mutable types**: Lists, Dictionaries\n",
    "\n",
    "### Python Operators\n",
    "`+` addition <br>\n",
    "`-` substract <br>\n",
    "`*` multiplication <br>\n",
    "`/` division <br>\n",
    "`**` to the power <br>\n",
    "`%` modulo (remainder) <br>\n",
    "\n",
    "Comparison operators <br>\n",
    "`==` equals to <br>\n",
    "`!=` not equal to <br>\n",
    "`>` more than <br>\n",
    "`<` less than <br>\n",
    "`>=` more than or equals to <br>\n",
    "`<=` less than or equals to <br>\n",
    "\n",
    "\n",
    "`~` : complement <br>\n",
    "`&` : bitwise and <br>\n",
    "`|` : bitwise or <br>\n",
    "`^` : bitwise xor <br>\n",
    "`and`: logical and <br>\n",
    "`or`: logical or <br>\n",
    "\n",
    "\n",
    "### `and` and `&`\n",
    "Use `and` for operations that yield boolean values like `is` or `is not` or `==` or so.. otherwise use `&` for bitwise or for numbers.. [use this SO link](https://stackoverflow.com/questions/3845018/boolean-operators-vs-bitwise-operators)\n",
    "`&` is a bitwise operation, like 1 is `00000001` and 2 is `00000010`, so when you do `1&2` it should give `00000000`\n",
    "whereby if you do `1|2` it should give `00000011` which is 3\n"
   ]
  },
  {
   "cell_type": "code",
   "execution_count": 2,
   "id": "5a8ca9e3",
   "metadata": {
    "ExecuteTime": {
     "end_time": "2023-05-16T11:07:36.370184Z",
     "start_time": "2023-05-16T11:07:36.365422Z"
    }
   },
   "outputs": [
    {
     "ename": "NameError",
     "evalue": "name 'a' is not defined",
     "output_type": "error",
     "traceback": [
      "\u001b[0;31m---------------------------------------------------------------------------\u001b[0m",
      "\u001b[0;31mNameError\u001b[0m                                 Traceback (most recent call last)",
      "\u001b[0;32m/var/folders/l9/swvqvt0552gfk3662mhw83b00000gn/T/ipykernel_69930/2167009006.py\u001b[0m in \u001b[0;36m<module>\u001b[0;34m\u001b[0m\n\u001b[0;32m----> 1\u001b[0;31m \u001b[0ma\u001b[0m\u001b[0;34m\u001b[0m\u001b[0;34m\u001b[0m\u001b[0m\n\u001b[0m",
      "\u001b[0;31mNameError\u001b[0m: name 'a' is not defined"
     ]
    }
   ],
   "source": [
    "a"
   ]
  },
  {
   "cell_type": "code",
   "execution_count": null,
   "id": "62b9c962",
   "metadata": {},
   "outputs": [],
   "source": []
  }
 ],
 "metadata": {
  "kernelspec": {
   "display_name": "python38",
   "language": "python",
   "name": "python38"
  },
  "language_info": {
   "codemirror_mode": {
    "name": "ipython",
    "version": 3
   },
   "file_extension": ".py",
   "mimetype": "text/x-python",
   "name": "python",
   "nbconvert_exporter": "python",
   "pygments_lexer": "ipython3",
   "version": "3.8.12"
  }
 },
 "nbformat": 4,
 "nbformat_minor": 5
}
