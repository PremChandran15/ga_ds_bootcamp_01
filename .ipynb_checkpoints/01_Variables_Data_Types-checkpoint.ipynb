{
 "cells": [
  {
   "cell_type": "code",
   "execution_count": 1,
   "id": "196b15c0",
   "metadata": {
    "ExecuteTime": {
     "end_time": "2023-05-09T13:04:09.913805Z",
     "start_time": "2023-05-09T13:04:09.900460Z"
    }
   },
   "outputs": [
    {
     "data": {
      "text/plain": [
       "0.75"
      ]
     },
     "execution_count": 1,
     "metadata": {},
     "output_type": "execute_result"
    }
   ],
   "source": [
    "3/4"
   ]
  },
  {
   "cell_type": "code",
   "execution_count": 2,
   "id": "3eda76ca",
   "metadata": {
    "ExecuteTime": {
     "end_time": "2023-05-09T13:27:55.767961Z",
     "start_time": "2023-05-09T13:27:55.764466Z"
    }
   },
   "outputs": [],
   "source": [
    "a = 3.5"
   ]
  },
  {
   "cell_type": "code",
   "execution_count": 3,
   "id": "7d73a114",
   "metadata": {
    "ExecuteTime": {
     "end_time": "2023-05-09T13:27:59.085785Z",
     "start_time": "2023-05-09T13:27:59.082837Z"
    }
   },
   "outputs": [
    {
     "data": {
      "text/plain": [
       "float"
      ]
     },
     "execution_count": 3,
     "metadata": {},
     "output_type": "execute_result"
    }
   ],
   "source": [
    "type(a)"
   ]
  },
  {
   "cell_type": "code",
   "execution_count": 1,
   "id": "67b41134",
   "metadata": {
    "ExecuteTime": {
     "end_time": "2023-05-11T11:48:50.304627Z",
     "start_time": "2023-05-11T11:48:50.296463Z"
    }
   },
   "outputs": [
    {
     "name": "stdout",
     "output_type": "stream",
     "text": [
      "Hello world! from Python!\n"
     ]
    }
   ],
   "source": [
    "print(\"Hello world! from Python!\")"
   ]
  },
  {
   "cell_type": "code",
   "execution_count": null,
   "id": "ab411df2",
   "metadata": {},
   "outputs": [],
   "source": [
    "# this is a comment, This will not get executed\n",
    "import"
   ]
  }
 ],
 "metadata": {
  "kernelspec": {
   "display_name": "python38",
   "language": "python",
   "name": "python38"
  },
  "language_info": {
   "codemirror_mode": {
    "name": "ipython",
    "version": 3
   },
   "file_extension": ".py",
   "mimetype": "text/x-python",
   "name": "python",
   "nbconvert_exporter": "python",
   "pygments_lexer": "ipython3",
   "version": "3.8.12"
  }
 },
 "nbformat": 4,
 "nbformat_minor": 5
}
