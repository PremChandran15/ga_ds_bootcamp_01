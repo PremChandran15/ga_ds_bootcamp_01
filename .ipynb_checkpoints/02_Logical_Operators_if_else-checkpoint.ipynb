{
 "cells": [
  {
   "cell_type": "markdown",
   "id": "01f27607",
   "metadata": {},
   "source": [
    "## Different Data Types\n",
    "\n",
    "- Numbers\n",
    "- Strings\n",
    "- Lists\n",
    "- Dictionaries\n",
    "- Tuples\n",
    "- String Indexing\n",
    "- Printing and String Formatting\n",
    "- Python operators and comparison operators\n",
    "- List Indexing and Dictionary items. d.iter or d.items\n",
    "\n",
    "\n",
    "### Mutable and Immutable Data Types\n",
    "**Immutable types**: Strings, Numbers, Tuples, Sets <br>\n",
    "**Mutable types**: Lists, Dictionaries\n",
    "\n",
    "### Python Operators\n",
    "`+` addition <br>\n",
    "`-` substract <br>\n",
    "`*` multiplication <br>\n",
    "`/` division <br>\n",
    "`**` to the power <br>\n",
    "`%` modulo (remainder) <br>\n",
    "\n",
    "Comparison operators (always returns a True/False) <br>\n",
    "`==` equals to <br>\n",
    "`!=` not equal to <br>\n",
    "`>` more than <br>\n",
    "`<` less than <br>\n",
    "`>=` more than or equals to <br>\n",
    "`<=` less than or equals to <br>\n",
    "\n",
    "\n",
    "`~` : complement <br>\n",
    "`&` : bitwise and <br>\n",
    "`|` : bitwise or <br>\n",
    "`^` : bitwise xor <br>\n",
    "`and`: logical and <br>\n",
    "`or`: logical or <br>\n",
    "\n",
    "\n",
    "### `and` and `&`\n",
    "Use `and` for operations that yield boolean values like `is` or `is not` or `==` or so.. otherwise use `&` for bitwise or for numbers.. [use this SO link](https://stackoverflow.com/questions/3845018/boolean-operators-vs-bitwise-operators)\n",
    "`&` is a bitwise operation, like 1 is `00000001` and 2 is `00000010`, so when you do `1&2` it should give `00000000`\n",
    "whereby if you do `1|2` it should give `00000011` which is 3\n"
   ]
  },
  {
   "cell_type": "code",
   "execution_count": 1,
   "id": "2a5eec10",
   "metadata": {
    "ExecuteTime": {
     "end_time": "2023-05-16T11:11:11.209931Z",
     "start_time": "2023-05-16T11:11:11.197717Z"
    }
   },
   "outputs": [
    {
     "data": {
      "text/plain": [
       "4"
      ]
     },
     "execution_count": 1,
     "metadata": {},
     "output_type": "execute_result"
    }
   ],
   "source": [
    "# to the power of\n",
    "2**2"
   ]
  },
  {
   "cell_type": "code",
   "execution_count": 2,
   "id": "87753bf4",
   "metadata": {
    "ExecuteTime": {
     "end_time": "2023-05-16T11:11:17.834078Z",
     "start_time": "2023-05-16T11:11:17.830936Z"
    }
   },
   "outputs": [
    {
     "data": {
      "text/plain": [
       "8"
      ]
     },
     "execution_count": 2,
     "metadata": {},
     "output_type": "execute_result"
    }
   ],
   "source": [
    "2**3"
   ]
  },
  {
   "cell_type": "code",
   "execution_count": 3,
   "id": "4cc01672",
   "metadata": {
    "ExecuteTime": {
     "end_time": "2023-05-16T11:11:32.808662Z",
     "start_time": "2023-05-16T11:11:32.805725Z"
    }
   },
   "outputs": [
    {
     "data": {
      "text/plain": [
       "0"
      ]
     },
     "execution_count": 3,
     "metadata": {},
     "output_type": "execute_result"
    }
   ],
   "source": [
    "2%2"
   ]
  },
  {
   "cell_type": "code",
   "execution_count": 4,
   "id": "0f9d2ec4",
   "metadata": {
    "ExecuteTime": {
     "end_time": "2023-05-16T11:11:39.861503Z",
     "start_time": "2023-05-16T11:11:39.858651Z"
    }
   },
   "outputs": [
    {
     "data": {
      "text/plain": [
       "1"
      ]
     },
     "execution_count": 4,
     "metadata": {},
     "output_type": "execute_result"
    }
   ],
   "source": [
    "3%2"
   ]
  },
  {
   "cell_type": "code",
   "execution_count": 5,
   "id": "5c62b6c2",
   "metadata": {
    "ExecuteTime": {
     "end_time": "2023-05-16T11:11:55.883914Z",
     "start_time": "2023-05-16T11:11:55.880740Z"
    }
   },
   "outputs": [
    {
     "data": {
      "text/plain": [
       "3"
      ]
     },
     "execution_count": 5,
     "metadata": {},
     "output_type": "execute_result"
    }
   ],
   "source": [
    "8%5"
   ]
  },
  {
   "cell_type": "markdown",
   "id": "5ab74c81",
   "metadata": {},
   "source": [
    "**AND**<br>\n",
    "True-True = True<br>\n",
    "True-False = False<br>\n",
    "False - True = False<br>\n",
    "False-False = False<br>\n",
    "\n",
    "**OR**<br>\n",
    "True-True = True<br>\n",
    "True-False = True<br>\n",
    "False - True = True<br>\n",
    "False-False = False<br>"
   ]
  },
  {
   "cell_type": "code",
   "execution_count": 6,
   "id": "b8ca8fb9",
   "metadata": {
    "ExecuteTime": {
     "end_time": "2023-05-16T11:13:01.021449Z",
     "start_time": "2023-05-16T11:13:01.018295Z"
    }
   },
   "outputs": [
    {
     "data": {
      "text/plain": [
       "True"
      ]
     },
     "execution_count": 6,
     "metadata": {},
     "output_type": "execute_result"
    }
   ],
   "source": [
    "# equality check\n",
    "2==2"
   ]
  },
  {
   "cell_type": "code",
   "execution_count": 7,
   "id": "9dec1889",
   "metadata": {
    "ExecuteTime": {
     "end_time": "2023-05-16T11:13:09.259148Z",
     "start_time": "2023-05-16T11:13:09.256251Z"
    }
   },
   "outputs": [
    {
     "data": {
      "text/plain": [
       "False"
      ]
     },
     "execution_count": 7,
     "metadata": {},
     "output_type": "execute_result"
    }
   ],
   "source": [
    "# inequality check\n",
    "2!=2"
   ]
  },
  {
   "cell_type": "code",
   "execution_count": 8,
   "id": "15c8923d",
   "metadata": {
    "ExecuteTime": {
     "end_time": "2023-05-16T11:14:21.446618Z",
     "start_time": "2023-05-16T11:14:21.443695Z"
    }
   },
   "outputs": [
    {
     "data": {
      "text/plain": [
       "False"
      ]
     },
     "execution_count": 8,
     "metadata": {},
     "output_type": "execute_result"
    }
   ],
   "source": [
    "# more than check\n",
    "2>3"
   ]
  },
  {
   "cell_type": "code",
   "execution_count": 10,
   "id": "096f304c",
   "metadata": {
    "ExecuteTime": {
     "end_time": "2023-05-16T11:14:44.159288Z",
     "start_time": "2023-05-16T11:14:44.156510Z"
    }
   },
   "outputs": [
    {
     "data": {
      "text/plain": [
       "True"
      ]
     },
     "execution_count": 10,
     "metadata": {},
     "output_type": "execute_result"
    }
   ],
   "source": [
    "# more than or equals to\n",
    "3>=1"
   ]
  },
  {
   "cell_type": "code",
   "execution_count": 12,
   "id": "51e18d0b",
   "metadata": {
    "ExecuteTime": {
     "end_time": "2023-05-16T11:15:42.806680Z",
     "start_time": "2023-05-16T11:15:42.803645Z"
    }
   },
   "outputs": [
    {
     "data": {
      "text/plain": [
       "False"
      ]
     },
     "execution_count": 12,
     "metadata": {},
     "output_type": "execute_result"
    }
   ],
   "source": [
    "(3>1) and (2==1) # intersection in set theory => INNER JOIN"
   ]
  },
  {
   "cell_type": "code",
   "execution_count": 13,
   "id": "2629abfb",
   "metadata": {
    "ExecuteTime": {
     "end_time": "2023-05-16T11:16:18.493446Z",
     "start_time": "2023-05-16T11:16:18.490130Z"
    }
   },
   "outputs": [
    {
     "data": {
      "text/plain": [
       "True"
      ]
     },
     "execution_count": 13,
     "metadata": {},
     "output_type": "execute_result"
    }
   ],
   "source": [
    "(3>1) or (2==1) # union in set theory => FULL OUTER JOIN"
   ]
  },
  {
   "cell_type": "markdown",
   "id": "b3e960a3",
   "metadata": {
    "ExecuteTime": {
     "end_time": "2023-05-16T11:18:30.532692Z",
     "start_time": "2023-05-16T11:18:30.528359Z"
    }
   },
   "source": [
    "## If, elif, else\n",
    "\n",
    "if Statements in Python allows us to tell the computer to perform alternative actions based on a certain set of results.\n",
    "\n",
    "Verbally, we can imagine we are telling the computer:\n",
    "\n",
    "\"Hey if this case happens, perform some action\"\n",
    "\n",
    "We can then expand the idea further with elif and else statements, which allow us to tell the computer:\n",
    "\n",
    "\"Hey if this case happens, perform some action. Else if another case happens, perform some other action. Else-- none of the above cases happened, perform this action\"\n",
    "\n",
    "Let's go ahead and look at the syntax format for if statements to get a better idea of this:\n",
    "\n",
    "````python\n",
    "if case1:\n",
    "    doAction1()\n",
    "elif case2:\n",
    "    doAction2()\n",
    "else: \n",
    "    doAction3()\n",
    "````\n",
    "<br>\n",
    "where, case1, case2 must be a bool value or of a comparison operator"
   ]
  },
  {
   "cell_type": "code",
   "execution_count": null,
   "id": "0d65f961",
   "metadata": {},
   "outputs": [],
   "source": [
    "#other languages => indentation does not matter\n",
    "if () {\n",
    "do_something();\n",
    "}"
   ]
  },
  {
   "cell_type": "code",
   "execution_count": 16,
   "id": "1cf96d3d",
   "metadata": {
    "ExecuteTime": {
     "end_time": "2023-05-16T11:23:07.686095Z",
     "start_time": "2023-05-16T11:23:07.683655Z"
    }
   },
   "outputs": [],
   "source": [
    "case1 = 2 > 3\n",
    "if (case1):\n",
    "    print(\"Wow, I didnt know that 2 was more than 3\")"
   ]
  },
  {
   "cell_type": "code",
   "execution_count": 23,
   "id": "3657a9b6",
   "metadata": {
    "ExecuteTime": {
     "end_time": "2023-05-16T11:31:53.497356Z",
     "start_time": "2023-05-16T11:31:53.494450Z"
    }
   },
   "outputs": [
    {
     "name": "stdout",
     "output_type": "stream",
     "text": [
      "first condition met\n"
     ]
    }
   ],
   "source": [
    "num1 = 8\n",
    "num2 = 7\n",
    "num3 = 3\n",
    "\n",
    "if num1>num2 and (num1-num2) == 1:\n",
    "    print(\"first condition met\")\n",
    "elif num3 % 3 == 0:\n",
    "    print(\"Met second condition, num3 is a multiple of 3\")\n",
    "else:\n",
    "    print(\"no conditions met\")"
   ]
  },
  {
   "cell_type": "code",
   "execution_count": 24,
   "id": "c669eb8d",
   "metadata": {
    "ExecuteTime": {
     "end_time": "2023-05-16T11:31:56.809656Z",
     "start_time": "2023-05-16T11:31:56.806621Z"
    }
   },
   "outputs": [
    {
     "name": "stdout",
     "output_type": "stream",
     "text": [
      "first condition met\n",
      "Met second condition, num3 is a multiple of 3\n"
     ]
    }
   ],
   "source": [
    "# to print both items\n",
    "\n",
    "if num1>num2 and (num1-num2) == 1:\n",
    "    print(\"first condition met\")\n",
    "if num3 % 3 == 0:\n",
    "    print(\"Met second condition, num3 is a multiple of 3\")\n",
    "else:\n",
    "    print(\"no conditions met\")"
   ]
  },
  {
   "cell_type": "markdown",
   "id": "6cebf73d",
   "metadata": {},
   "source": [
    "## For loop, enumeration, range( ) and list comprehensions\n",
    "**For** loop acts as an iterator in Python, it goes through items that are in a *sequence* or any other iterable item. Objects that we've learned about that we can iterate over include strings,lists,tuples, and even built in iterables for dictionaries, such as the keys or values.\n",
    "\n",
    "We've already seen the **for** statement a little bit in past lectures but now lets formalize our understanding.\n",
    "\n",
    "Here's the general format for a **for** loop in Python:\n",
    "\n",
    "````python\n",
    "for item in object:\n",
    "    doSomething()\n",
    "````\n",
    "\n",
    "\n",
    "**Enumerate** allows you to keep a count as you iterate through an object. It does this by returning a tuple in the form (count,element). The function itself is equivalent to:\n",
    "\n",
    "````python\n",
    "def enumerate(sequence, start=0):\n",
    "    n = start\n",
    "    for elem in sequence:\n",
    "        yield n, elem\n",
    "        n += 1\n",
    "````"
   ]
  },
  {
   "cell_type": "code",
   "execution_count": null,
   "id": "bd076331",
   "metadata": {},
   "outputs": [],
   "source": [
    "# for loop in other languages\n",
    "\n",
    "for(i=0, i<10, i++){\n",
    "    do_something();\n",
    "}"
   ]
  },
  {
   "cell_type": "code",
   "execution_count": null,
   "id": "a8ecf210",
   "metadata": {},
   "outputs": [],
   "source": [
    "for i in iterable:\n",
    "    do_something()"
   ]
  },
  {
   "cell_type": "code",
   "execution_count": 25,
   "id": "3e40df0e",
   "metadata": {
    "ExecuteTime": {
     "end_time": "2023-05-16T11:36:45.207560Z",
     "start_time": "2023-05-16T11:36:45.205167Z"
    }
   },
   "outputs": [],
   "source": [
    "sentence = \"I think Python is an easy language to learn for beginners\""
   ]
  },
  {
   "cell_type": "code",
   "execution_count": 26,
   "id": "4ca63460",
   "metadata": {
    "ExecuteTime": {
     "end_time": "2023-05-16T11:37:11.809740Z",
     "start_time": "2023-05-16T11:37:11.805400Z"
    }
   },
   "outputs": [
    {
     "name": "stdout",
     "output_type": "stream",
     "text": [
      "I\n",
      " \n",
      "t\n",
      "h\n",
      "i\n",
      "n\n",
      "k\n",
      " \n",
      "P\n",
      "y\n",
      "t\n",
      "h\n",
      "o\n",
      "n\n",
      " \n",
      "i\n",
      "s\n",
      " \n",
      "a\n",
      "n\n",
      " \n",
      "e\n",
      "a\n",
      "s\n",
      "y\n",
      " \n",
      "l\n",
      "a\n",
      "n\n",
      "g\n",
      "u\n",
      "a\n",
      "g\n",
      "e\n",
      " \n",
      "t\n",
      "o\n",
      " \n",
      "l\n",
      "e\n",
      "a\n",
      "r\n",
      "n\n",
      " \n",
      "f\n",
      "o\n",
      "r\n",
      " \n",
      "b\n",
      "e\n",
      "g\n",
      "i\n",
      "n\n",
      "n\n",
      "e\n",
      "r\n",
      "s\n"
     ]
    }
   ],
   "source": [
    "for i in sentence:\n",
    "    print(i)"
   ]
  },
  {
   "cell_type": "code",
   "execution_count": 27,
   "id": "a4b734b4",
   "metadata": {
    "ExecuteTime": {
     "end_time": "2023-05-16T11:37:57.222375Z",
     "start_time": "2023-05-16T11:37:57.218283Z"
    }
   },
   "outputs": [
    {
     "data": {
      "text/plain": [
       "['I',\n",
       " 'think',\n",
       " 'Python',\n",
       " 'is',\n",
       " 'an',\n",
       " 'easy',\n",
       " 'language',\n",
       " 'to',\n",
       " 'learn',\n",
       " 'for',\n",
       " 'beginners']"
      ]
     },
     "execution_count": 27,
     "metadata": {},
     "output_type": "execute_result"
    }
   ],
   "source": [
    "sentence.split()"
   ]
  },
  {
   "cell_type": "code",
   "execution_count": 28,
   "id": "d9619e85",
   "metadata": {
    "ExecuteTime": {
     "end_time": "2023-05-16T11:38:25.410171Z",
     "start_time": "2023-05-16T11:38:25.406903Z"
    }
   },
   "outputs": [
    {
     "name": "stdout",
     "output_type": "stream",
     "text": [
      "I\n",
      "think\n",
      "Python\n",
      "is\n",
      "an\n",
      "easy\n",
      "language\n",
      "to\n",
      "learn\n",
      "for\n",
      "beginners\n"
     ]
    }
   ],
   "source": [
    "for i in sentence.split():\n",
    "    print(i)"
   ]
  },
  {
   "cell_type": "code",
   "execution_count": 29,
   "id": "d272963b",
   "metadata": {
    "ExecuteTime": {
     "end_time": "2023-05-16T11:39:14.631241Z",
     "start_time": "2023-05-16T11:39:14.627887Z"
    }
   },
   "outputs": [
    {
     "name": "stdout",
     "output_type": "stream",
     "text": [
      "not found\n",
      "not found\n",
      "Python\n",
      "not found\n",
      "not found\n",
      "not found\n",
      "not found\n",
      "not found\n",
      "not found\n",
      "not found\n",
      "not found\n"
     ]
    }
   ],
   "source": [
    "for i in sentence.split():\n",
    "    if i == \"Python\":\n",
    "        print(i)\n",
    "    else:\n",
    "        print(\"not found\")"
   ]
  },
  {
   "cell_type": "code",
   "execution_count": 30,
   "id": "31db5214",
   "metadata": {
    "ExecuteTime": {
     "end_time": "2023-05-16T11:40:21.106114Z",
     "start_time": "2023-05-16T11:40:21.103319Z"
    }
   },
   "outputs": [
    {
     "name": "stdout",
     "output_type": "stream",
     "text": [
      "Python\n"
     ]
    }
   ],
   "source": [
    "# to not print all items that are not found\n",
    "for i in sentence.split():\n",
    "    if i == \"Python\":\n",
    "        print(i)"
   ]
  },
  {
   "cell_type": "code",
   "execution_count": 31,
   "id": "ea6a1b82",
   "metadata": {
    "ExecuteTime": {
     "end_time": "2023-05-16T11:41:18.529541Z",
     "start_time": "2023-05-16T11:41:18.526788Z"
    }
   },
   "outputs": [
    {
     "name": "stdout",
     "output_type": "stream",
     "text": [
      "Python\n"
     ]
    }
   ],
   "source": [
    "# to not print all items that are not found\n",
    "for i in sentence.split():\n",
    "    if i == \"Python\":\n",
    "        print(i)\n",
    "    else:\n",
    "        continue"
   ]
  },
  {
   "cell_type": "code",
   "execution_count": 32,
   "id": "0e1cc06c",
   "metadata": {
    "ExecuteTime": {
     "end_time": "2023-05-16T11:42:36.245114Z",
     "start_time": "2023-05-16T11:42:36.241886Z"
    }
   },
   "outputs": [
    {
     "name": "stdout",
     "output_type": "stream",
     "text": [
      "(0, 'I')\n",
      "(1, 'think')\n",
      "(2, 'Python')\n",
      "(3, 'is')\n",
      "(4, 'an')\n",
      "(5, 'easy')\n",
      "(6, 'language')\n",
      "(7, 'to')\n",
      "(8, 'learn')\n",
      "(9, 'for')\n",
      "(10, 'beginners')\n"
     ]
    }
   ],
   "source": [
    "for item in enumerate(sentence.split()):\n",
    "    print(item)"
   ]
  },
  {
   "cell_type": "code",
   "execution_count": 33,
   "id": "94ff5347",
   "metadata": {
    "ExecuteTime": {
     "end_time": "2023-05-16T11:44:35.400631Z",
     "start_time": "2023-05-16T11:44:35.397572Z"
    }
   },
   "outputs": [
    {
     "name": "stdout",
     "output_type": "stream",
     "text": [
      "The word Python is stored in index 2\n"
     ]
    }
   ],
   "source": [
    "# tuple unpacking for enumeration\n",
    "for ind, val in enumerate(sentence.split()):\n",
    "    if val == \"Python\":\n",
    "        print(\"The word Python is stored in index {}\".format(ind))"
   ]
  },
  {
   "cell_type": "code",
   "execution_count": 34,
   "id": "096b0b9c",
   "metadata": {
    "ExecuteTime": {
     "end_time": "2023-05-16T11:45:09.489042Z",
     "start_time": "2023-05-16T11:45:09.486232Z"
    }
   },
   "outputs": [],
   "source": [
    "my_tuple = (2,3)"
   ]
  },
  {
   "cell_type": "code",
   "execution_count": 35,
   "id": "1874f8a6",
   "metadata": {
    "ExecuteTime": {
     "end_time": "2023-05-16T11:45:17.662519Z",
     "start_time": "2023-05-16T11:45:17.660332Z"
    }
   },
   "outputs": [],
   "source": [
    "a,b = my_tuple"
   ]
  },
  {
   "cell_type": "code",
   "execution_count": 36,
   "id": "e6c4d8f9",
   "metadata": {
    "ExecuteTime": {
     "end_time": "2023-05-16T11:45:19.761753Z",
     "start_time": "2023-05-16T11:45:19.758734Z"
    }
   },
   "outputs": [
    {
     "data": {
      "text/plain": [
       "2"
      ]
     },
     "execution_count": 36,
     "metadata": {},
     "output_type": "execute_result"
    }
   ],
   "source": [
    "a"
   ]
  },
  {
   "cell_type": "code",
   "execution_count": 37,
   "id": "abca7529",
   "metadata": {
    "ExecuteTime": {
     "end_time": "2023-05-16T11:45:25.074782Z",
     "start_time": "2023-05-16T11:45:25.071878Z"
    }
   },
   "outputs": [
    {
     "data": {
      "text/plain": [
       "3"
      ]
     },
     "execution_count": 37,
     "metadata": {},
     "output_type": "execute_result"
    }
   ],
   "source": [
    "b"
   ]
  },
  {
   "cell_type": "code",
   "execution_count": 40,
   "id": "91a819c7",
   "metadata": {
    "ExecuteTime": {
     "end_time": "2023-05-16T11:48:08.713484Z",
     "start_time": "2023-05-16T11:48:08.710329Z"
    }
   },
   "outputs": [
    {
     "name": "stdout",
     "output_type": "stream",
     "text": [
      "The word Python is stored in index 2\n"
     ]
    }
   ],
   "source": [
    "for i,v in enumerate(sentence.split()):\n",
    "    if v == \"Python\":\n",
    "        print(\"The word Python is stored in index {}\".format(i))"
   ]
  },
  {
   "cell_type": "code",
   "execution_count": 41,
   "id": "77e8956f",
   "metadata": {
    "ExecuteTime": {
     "end_time": "2023-05-16T11:50:33.850162Z",
     "start_time": "2023-05-16T11:50:33.846526Z"
    }
   },
   "outputs": [
    {
     "name": "stdout",
     "output_type": "stream",
     "text": [
      "The word is not python in index 0\n",
      "The word is not python in index 1\n",
      "The word Python is stored in index 2\n",
      "The word is not python in index 3\n",
      "The word is not python in index 4\n",
      "The word is not python in index 5\n",
      "The word is not python in index 6\n",
      "The word is not python in index 7\n",
      "The word is not python in index 8\n",
      "The word is not python in index 9\n",
      "The word is not python in index 10\n"
     ]
    }
   ],
   "source": [
    "# when to use continue, break\n",
    "for i,v in enumerate(sentence.split()):\n",
    "    if v == \"Python\":\n",
    "        print(\"The word Python is stored in index {}\".format(i))\n",
    "    else:\n",
    "        print(\"The word is not python in index {}\".format(i))"
   ]
  },
  {
   "cell_type": "code",
   "execution_count": 42,
   "id": "6d50fc6e",
   "metadata": {
    "ExecuteTime": {
     "end_time": "2023-05-16T11:51:16.960919Z",
     "start_time": "2023-05-16T11:51:16.957588Z"
    }
   },
   "outputs": [
    {
     "data": {
      "text/plain": [
       "11"
      ]
     },
     "execution_count": 42,
     "metadata": {},
     "output_type": "execute_result"
    }
   ],
   "source": [
    "len(sentence.split())"
   ]
  },
  {
   "cell_type": "code",
   "execution_count": 43,
   "id": "49fbdad8",
   "metadata": {
    "ExecuteTime": {
     "end_time": "2023-05-16T11:52:30.237780Z",
     "start_time": "2023-05-16T11:52:30.234400Z"
    }
   },
   "outputs": [
    {
     "name": "stdout",
     "output_type": "stream",
     "text": [
      "The word is not python in index 0\n",
      "The word is not python in index 1\n",
      "The word Python is stored in index 2\n"
     ]
    }
   ],
   "source": [
    "# when to use continue, break\n",
    "for i,v in enumerate(sentence.split()):\n",
    "    if v == \"Python\":\n",
    "        print(\"The word Python is stored in index {}\".format(i))\n",
    "        break\n",
    "    else:\n",
    "        print(\"The word is not python in index {}\".format(i))"
   ]
  },
  {
   "cell_type": "code",
   "execution_count": null,
   "id": "6bdf498a",
   "metadata": {},
   "outputs": [],
   "source": [
    "#Question1 : Loop through sentence and print items that begin with letter a"
   ]
  },
  {
   "cell_type": "code",
   "execution_count": null,
   "id": "cba7417f",
   "metadata": {},
   "outputs": [],
   "source": [
    "#Question2 : Loop through sentence and print items that begin with a non-vowel"
   ]
  },
  {
   "cell_type": "code",
   "execution_count": null,
   "id": "a07d65ad",
   "metadata": {},
   "outputs": [],
   "source": []
  }
 ],
 "metadata": {
  "kernelspec": {
   "display_name": "python38",
   "language": "python",
   "name": "python38"
  },
  "language_info": {
   "codemirror_mode": {
    "name": "ipython",
    "version": 3
   },
   "file_extension": ".py",
   "mimetype": "text/x-python",
   "name": "python",
   "nbconvert_exporter": "python",
   "pygments_lexer": "ipython3",
   "version": "3.8.12"
  }
 },
 "nbformat": 4,
 "nbformat_minor": 5
}
