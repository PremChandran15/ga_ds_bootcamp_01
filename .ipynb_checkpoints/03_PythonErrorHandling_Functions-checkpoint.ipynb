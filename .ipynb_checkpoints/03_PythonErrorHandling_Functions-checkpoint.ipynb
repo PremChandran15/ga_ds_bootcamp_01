{
 "cells": [
  {
   "cell_type": "markdown",
   "id": "13267294",
   "metadata": {},
   "source": [
    "## Error Handling (try/except)\n",
    "The basic terminology and syntax used to handle errors in Python is the **try** and **except** statements. The code which can cause an exception to occue is put in the *try* block and the handling of the exception is the implemented in the *except* block of code. The syntax form is:\n",
    "```python\n",
    "    try:\n",
    "       You do your operations here...\n",
    "       ...\n",
    "    except ExceptionI:\n",
    "       If there is ExceptionI, then execute this block.\n",
    "    except ExceptionII:\n",
    "       If there is ExceptionII, then execute this block.\n",
    "       ...\n",
    "    else: ## optional\n",
    "       If there is no exception then execute this block. \n",
    "```\n",
    "\n",
    "We can also just check for any exception with just using except: To get a better understanding of all this lets check out an example: We will look at some code that opens and writes a file:"
   ]
  },
  {
   "cell_type": "code",
   "execution_count": 5,
   "id": "2f935070",
   "metadata": {
    "ExecuteTime": {
     "end_time": "2023-05-16T12:54:32.954542Z",
     "start_time": "2023-05-16T12:54:32.948885Z"
    }
   },
   "outputs": [
    {
     "ename": "TypeError",
     "evalue": "can only concatenate str (not \"int\") to str",
     "output_type": "error",
     "traceback": [
      "\u001b[0;31m---------------------------------------------------------------------------\u001b[0m",
      "\u001b[0;31mTypeError\u001b[0m                                 Traceback (most recent call last)",
      "\u001b[0;32m/var/folders/l9/swvqvt0552gfk3662mhw83b00000gn/T/ipykernel_72056/2976272274.py\u001b[0m in \u001b[0;36m<module>\u001b[0;34m\u001b[0m\n\u001b[1;32m      1\u001b[0m \u001b[0mage\u001b[0m \u001b[0;34m=\u001b[0m \u001b[0;36m21\u001b[0m\u001b[0;34m\u001b[0m\u001b[0;34m\u001b[0m\u001b[0m\n\u001b[1;32m      2\u001b[0m \u001b[0;34m\u001b[0m\u001b[0m\n\u001b[0;32m----> 3\u001b[0;31m \u001b[0mmy_wish\u001b[0m \u001b[0;34m=\u001b[0m \u001b[0;34m\"I wish I was\"\u001b[0m \u001b[0;34m+\u001b[0m \u001b[0mage\u001b[0m \u001b[0;34m+\u001b[0m  \u001b[0;34m\" years old\"\u001b[0m\u001b[0;34m\u001b[0m\u001b[0;34m\u001b[0m\u001b[0m\n\u001b[0m\u001b[1;32m      4\u001b[0m \u001b[0;34m\u001b[0m\u001b[0m\n\u001b[1;32m      5\u001b[0m \u001b[0;32mfor\u001b[0m \u001b[0mi\u001b[0m \u001b[0;32min\u001b[0m \u001b[0mrange\u001b[0m\u001b[0;34m(\u001b[0m\u001b[0;36m0\u001b[0m\u001b[0;34m,\u001b[0m\u001b[0;36m10\u001b[0m\u001b[0;34m)\u001b[0m\u001b[0;34m:\u001b[0m\u001b[0;34m\u001b[0m\u001b[0;34m\u001b[0m\u001b[0m\n",
      "\u001b[0;31mTypeError\u001b[0m: can only concatenate str (not \"int\") to str"
     ]
    }
   ],
   "source": [
    "age = 21\n",
    "\n",
    "my_wish = \"I wish I was\" + age +  \" years old\"\n",
    "\n",
    "for i in range(0,10):\n",
    "    print(i)\n",
    "\n",
    "for item in my_wish.split():\n",
    "    if int(item) == age:\n",
    "        print(\"found age\")"
   ]
  },
  {
   "cell_type": "code",
   "execution_count": 4,
   "id": "c599335d",
   "metadata": {
    "ExecuteTime": {
     "end_time": "2023-05-16T12:54:05.466199Z",
     "start_time": "2023-05-16T12:54:05.458480Z"
    }
   },
   "outputs": [
    {
     "name": "stdout",
     "output_type": "stream",
     "text": [
      "Could not store my_wish\n",
      "0\n",
      "1\n",
      "2\n",
      "3\n",
      "4\n",
      "5\n",
      "6\n",
      "7\n",
      "8\n",
      "9\n"
     ]
    },
    {
     "ename": "NameError",
     "evalue": "name 'my_wish' is not defined",
     "output_type": "error",
     "traceback": [
      "\u001b[0;31m---------------------------------------------------------------------------\u001b[0m",
      "\u001b[0;31mNameError\u001b[0m                                 Traceback (most recent call last)",
      "\u001b[0;32m/var/folders/l9/swvqvt0552gfk3662mhw83b00000gn/T/ipykernel_72056/90029693.py\u001b[0m in \u001b[0;36m<module>\u001b[0;34m\u001b[0m\n\u001b[1;32m      9\u001b[0m     \u001b[0mprint\u001b[0m\u001b[0;34m(\u001b[0m\u001b[0mi\u001b[0m\u001b[0;34m)\u001b[0m\u001b[0;34m\u001b[0m\u001b[0;34m\u001b[0m\u001b[0m\n\u001b[1;32m     10\u001b[0m \u001b[0;34m\u001b[0m\u001b[0m\n\u001b[0;32m---> 11\u001b[0;31m \u001b[0;32mfor\u001b[0m \u001b[0mitem\u001b[0m \u001b[0;32min\u001b[0m \u001b[0mmy_wish\u001b[0m\u001b[0;34m.\u001b[0m\u001b[0msplit\u001b[0m\u001b[0;34m(\u001b[0m\u001b[0;34m)\u001b[0m\u001b[0;34m:\u001b[0m\u001b[0;34m\u001b[0m\u001b[0;34m\u001b[0m\u001b[0m\n\u001b[0m\u001b[1;32m     12\u001b[0m     \u001b[0;32mif\u001b[0m \u001b[0mint\u001b[0m\u001b[0;34m(\u001b[0m\u001b[0mitem\u001b[0m\u001b[0;34m)\u001b[0m \u001b[0;34m==\u001b[0m \u001b[0mage\u001b[0m\u001b[0;34m:\u001b[0m\u001b[0;34m\u001b[0m\u001b[0;34m\u001b[0m\u001b[0m\n\u001b[1;32m     13\u001b[0m         \u001b[0mprint\u001b[0m\u001b[0;34m(\u001b[0m\u001b[0;34m\"found age\"\u001b[0m\u001b[0;34m)\u001b[0m\u001b[0;34m\u001b[0m\u001b[0;34m\u001b[0m\u001b[0m\n",
      "\u001b[0;31mNameError\u001b[0m: name 'my_wish' is not defined"
     ]
    }
   ],
   "source": [
    "# try and except to solve the my_wish error\n",
    "age = 21\n",
    "\n",
    "try:\n",
    "    my_wish = \"I wish I was\" + age +  \" years old\"\n",
    "except:\n",
    "    print(\"Could not store my_wish\")\n",
    "    \n",
    "for i in range(0,10):\n",
    "    print(i)\n",
    "\n",
    "for item in my_wish.split():\n",
    "    if int(item) == age:\n",
    "        print(\"found age\")"
   ]
  },
  {
   "cell_type": "code",
   "execution_count": 8,
   "id": "4a60df28",
   "metadata": {
    "ExecuteTime": {
     "end_time": "2023-05-16T13:00:41.629757Z",
     "start_time": "2023-05-16T13:00:41.621678Z"
    }
   },
   "outputs": [
    {
     "name": "stdout",
     "output_type": "stream",
     "text": [
      "Could not store my_wish because of error: TypeError with args ('can only concatenate str (not \"int\") to str',)\n",
      "0\n",
      "1\n",
      "2\n",
      "3\n",
      "4\n",
      "5\n",
      "6\n",
      "7\n",
      "8\n",
      "9\n"
     ]
    },
    {
     "ename": "NameError",
     "evalue": "name 'my_wish' is not defined",
     "output_type": "error",
     "traceback": [
      "\u001b[0;31m---------------------------------------------------------------------------\u001b[0m",
      "\u001b[0;31mNameError\u001b[0m                                 Traceback (most recent call last)",
      "\u001b[0;32m/var/folders/l9/swvqvt0552gfk3662mhw83b00000gn/T/ipykernel_72056/2447581078.py\u001b[0m in \u001b[0;36m<module>\u001b[0;34m\u001b[0m\n\u001b[1;32m      9\u001b[0m     \u001b[0mprint\u001b[0m\u001b[0;34m(\u001b[0m\u001b[0mi\u001b[0m\u001b[0;34m)\u001b[0m\u001b[0;34m\u001b[0m\u001b[0;34m\u001b[0m\u001b[0m\n\u001b[1;32m     10\u001b[0m \u001b[0;34m\u001b[0m\u001b[0m\n\u001b[0;32m---> 11\u001b[0;31m \u001b[0;32mfor\u001b[0m \u001b[0mitem\u001b[0m \u001b[0;32min\u001b[0m \u001b[0mmy_wish\u001b[0m\u001b[0;34m.\u001b[0m\u001b[0msplit\u001b[0m\u001b[0;34m(\u001b[0m\u001b[0;34m)\u001b[0m\u001b[0;34m:\u001b[0m\u001b[0;34m\u001b[0m\u001b[0;34m\u001b[0m\u001b[0m\n\u001b[0m\u001b[1;32m     12\u001b[0m     \u001b[0;32mif\u001b[0m \u001b[0mint\u001b[0m\u001b[0;34m(\u001b[0m\u001b[0mitem\u001b[0m\u001b[0;34m)\u001b[0m \u001b[0;34m==\u001b[0m \u001b[0mage\u001b[0m\u001b[0;34m:\u001b[0m\u001b[0;34m\u001b[0m\u001b[0;34m\u001b[0m\u001b[0m\n\u001b[1;32m     13\u001b[0m         \u001b[0mprint\u001b[0m\u001b[0;34m(\u001b[0m\u001b[0;34m\"found age\"\u001b[0m\u001b[0;34m)\u001b[0m\u001b[0;34m\u001b[0m\u001b[0;34m\u001b[0m\u001b[0m\n",
      "\u001b[0;31mNameError\u001b[0m: name 'my_wish' is not defined"
     ]
    }
   ],
   "source": [
    "age = 21\n",
    "\n",
    "try:\n",
    "    my_wish = \"I wish I was\" + age +  \" years old\"\n",
    "except Exception as ex:\n",
    "    print(\"Could not store my_wish because of error: {} with args {}\".format(type(ex).__name__, ex.args))\n",
    "    \n",
    "for i in range(0,10):\n",
    "    print(i)\n",
    "\n",
    "for item in my_wish.split():\n",
    "    if int(item) == age:\n",
    "        print(\"found age\")"
   ]
  },
  {
   "cell_type": "code",
   "execution_count": 10,
   "id": "853a3385",
   "metadata": {
    "ExecuteTime": {
     "end_time": "2023-05-16T13:03:46.042119Z",
     "start_time": "2023-05-16T13:03:46.033492Z"
    }
   },
   "outputs": [
    {
     "name": "stdout",
     "output_type": "stream",
     "text": [
      "Oh there's a type error, lets solve that..\n",
      "0\n",
      "1\n",
      "2\n",
      "3\n",
      "4\n",
      "5\n",
      "6\n",
      "7\n",
      "8\n",
      "9\n"
     ]
    },
    {
     "ename": "NameError",
     "evalue": "name 'my_wish' is not defined",
     "output_type": "error",
     "traceback": [
      "\u001b[0;31m---------------------------------------------------------------------------\u001b[0m",
      "\u001b[0;31mNameError\u001b[0m                                 Traceback (most recent call last)",
      "\u001b[0;32m/var/folders/l9/swvqvt0552gfk3662mhw83b00000gn/T/ipykernel_72056/1304695270.py\u001b[0m in \u001b[0;36m<module>\u001b[0;34m\u001b[0m\n\u001b[1;32m     14\u001b[0m     \u001b[0mprint\u001b[0m\u001b[0;34m(\u001b[0m\u001b[0mi\u001b[0m\u001b[0;34m)\u001b[0m\u001b[0;34m\u001b[0m\u001b[0;34m\u001b[0m\u001b[0m\n\u001b[1;32m     15\u001b[0m \u001b[0;34m\u001b[0m\u001b[0m\n\u001b[0;32m---> 16\u001b[0;31m \u001b[0;32mfor\u001b[0m \u001b[0mitem\u001b[0m \u001b[0;32min\u001b[0m \u001b[0mmy_wish\u001b[0m\u001b[0;34m.\u001b[0m\u001b[0msplit\u001b[0m\u001b[0;34m(\u001b[0m\u001b[0;34m)\u001b[0m\u001b[0;34m:\u001b[0m\u001b[0;34m\u001b[0m\u001b[0;34m\u001b[0m\u001b[0m\n\u001b[0m\u001b[1;32m     17\u001b[0m     \u001b[0;32mif\u001b[0m \u001b[0mint\u001b[0m\u001b[0;34m(\u001b[0m\u001b[0mitem\u001b[0m\u001b[0;34m)\u001b[0m \u001b[0;34m==\u001b[0m \u001b[0mage\u001b[0m\u001b[0;34m:\u001b[0m\u001b[0;34m\u001b[0m\u001b[0;34m\u001b[0m\u001b[0m\n\u001b[1;32m     18\u001b[0m         \u001b[0mprint\u001b[0m\u001b[0;34m(\u001b[0m\u001b[0;34m\"found age\"\u001b[0m\u001b[0;34m)\u001b[0m\u001b[0;34m\u001b[0m\u001b[0;34m\u001b[0m\u001b[0m\n",
      "\u001b[0;31mNameError\u001b[0m: name 'my_wish' is not defined"
     ]
    }
   ],
   "source": [
    "# can have many except blocks\n",
    "age = 21\n",
    "\n",
    "try:\n",
    "    my_wish = \"I wish I was\" + age +  \" years old\"\n",
    "#except Exception as ex:\n",
    "    #print(\"Could not store my_wish because of error: {} with args {}\".format(type(ex).__name__, ex.args))\n",
    "except TypeError:\n",
    "    print(\"Oh there's a type error, lets solve that..\")\n",
    "except NameError:\n",
    "    print(\"Oh there's a name error, lets solve that..\")\n",
    "    \n",
    "for i in range(0,10):\n",
    "    print(i)\n",
    "\n",
    "for item in my_wish.split():\n",
    "    if int(item) == age:\n",
    "        print(\"found age\")"
   ]
  },
  {
   "cell_type": "code",
   "execution_count": 12,
   "id": "3c6bf0fc",
   "metadata": {
    "ExecuteTime": {
     "end_time": "2023-05-16T13:06:14.551592Z",
     "start_time": "2023-05-16T13:06:14.547563Z"
    }
   },
   "outputs": [
    {
     "name": "stdout",
     "output_type": "stream",
     "text": [
      "Oh there's a type error, lets solve that..\n"
     ]
    }
   ],
   "source": [
    "# can have many except blocks\n",
    "age = 21\n",
    "\n",
    "try:\n",
    "    my_wish = \"I wish I was\" + age +  \" years old\"\n",
    "#except Exception as ex:\n",
    "    #print(\"Could not store my_wish because of error: {} with args {}\".format(type(ex).__name__, ex.args))\n",
    "except TypeError:\n",
    "    print(\"Oh there's a type error, lets solve that..\")\n",
    "except NameError:\n",
    "    print(\"Oh there's a name error, lets solve that..\")\n",
    "else:\n",
    "    for i in range(0,10):\n",
    "        print(i)\n",
    "\n",
    "    for item in my_wish.split():\n",
    "        if int(item) == age:\n",
    "            print(\"found age\")\n",
    "    \n",
    "\n",
    "    "
   ]
  },
  {
   "cell_type": "code",
   "execution_count": 14,
   "id": "24d21281",
   "metadata": {
    "ExecuteTime": {
     "end_time": "2023-05-16T13:08:59.575222Z",
     "start_time": "2023-05-16T13:08:59.569257Z"
    }
   },
   "outputs": [
    {
     "name": "stdout",
     "output_type": "stream",
     "text": [
      "Oh there's a type error, lets solve that..\n",
      "0\n",
      "1\n",
      "2\n",
      "3\n",
      "4\n",
      "5\n",
      "6\n",
      "7\n",
      "8\n",
      "9\n",
      "Could not store my_wish because of error: ValueError with args (\"invalid literal for int() with base 10: 'I'\",)\n"
     ]
    }
   ],
   "source": [
    "age = 21\n",
    "\n",
    "try:\n",
    "    my_wish = \"I wish I was\" + age +  \" years old\"\n",
    "except TypeError:\n",
    "    print(\"Oh there's a type error, lets solve that..\")\n",
    "    my_wish = \"I wish I was {} years old\".format(age)\n",
    "    try:\n",
    "        for i in range(0,10):\n",
    "            print(i)\n",
    "        for item in my_wish.split():\n",
    "            if int(item) == age:\n",
    "                print(\"found age\")\n",
    "    except Exception as ex:\n",
    "        print(\"Could not store my_wish because of error: {} with args {}\".format(type(ex).__name__, ex.args))\n",
    "except NameError:\n",
    "    print(\"Oh there's a name error, lets solve that..\")\n",
    "else:\n",
    "    for i in range(0,10):\n",
    "        print(i)\n",
    "\n",
    "    for item in my_wish.split():\n",
    "        if int(item) == age:\n",
    "            print(\"found age\")\n",
    "    "
   ]
  },
  {
   "cell_type": "code",
   "execution_count": 20,
   "id": "1610e341",
   "metadata": {
    "ExecuteTime": {
     "end_time": "2023-05-16T13:14:49.735198Z",
     "start_time": "2023-05-16T13:14:49.729918Z"
    }
   },
   "outputs": [
    {
     "name": "stdout",
     "output_type": "stream",
     "text": [
      "Oh there's a type error, lets solve that..\n",
      "0\n",
      "1\n",
      "2\n",
      "3\n",
      "4\n",
      "5\n",
      "6\n",
      "7\n",
      "8\n",
      "9\n",
      "age found: 21\n"
     ]
    }
   ],
   "source": [
    "age = 21\n",
    "\n",
    "try:\n",
    "    my_wish = \"I wish I was\" + age +  \" years old\"\n",
    "except TypeError:\n",
    "    print(\"Oh there's a type error, lets solve that..\")\n",
    "    my_wish = \"I wish I was {} years old\".format(age)\n",
    "    try:\n",
    "        for i in range(0,10):\n",
    "            print(i)\n",
    "        for item in my_wish.split():\n",
    "            try:\n",
    "                item = int(item)\n",
    "            except ValueError:\n",
    "                continue\n",
    "            else:\n",
    "                print(\"age found: {}\".format(age))\n",
    "    except Exception as ex:\n",
    "        print(\"Could not store my_wish because of error: {} with args {}\".format(type(ex).__name__, ex.args))\n",
    "except NameError:\n",
    "    print(\"Oh there's a name error, lets solve that..\")\n",
    "else:\n",
    "    for i in range(0,10):\n",
    "        print(i)\n",
    "\n",
    "    for item in my_wish.split():\n",
    "        if int(item) == age:\n",
    "            print(\"found age\")"
   ]
  },
  {
   "cell_type": "code",
   "execution_count": 21,
   "id": "a8833acf",
   "metadata": {
    "ExecuteTime": {
     "end_time": "2023-05-16T13:20:20.030822Z",
     "start_time": "2023-05-16T13:20:14.655203Z"
    }
   },
   "outputs": [
    {
     "name": "stdout",
     "output_type": "stream",
     "text": [
      "please enter an integer10\n"
     ]
    }
   ],
   "source": [
    "# getting user input and storing it in a variable\n",
    "val = input(\"please enter an integer\") "
   ]
  },
  {
   "cell_type": "code",
   "execution_count": 22,
   "id": "b12c9890",
   "metadata": {
    "ExecuteTime": {
     "end_time": "2023-05-16T13:20:22.883203Z",
     "start_time": "2023-05-16T13:20:22.880305Z"
    }
   },
   "outputs": [
    {
     "data": {
      "text/plain": [
       "'10'"
      ]
     },
     "execution_count": 22,
     "metadata": {},
     "output_type": "execute_result"
    }
   ],
   "source": [
    "val"
   ]
  },
  {
   "cell_type": "code",
   "execution_count": 23,
   "id": "2c70fefb",
   "metadata": {
    "ExecuteTime": {
     "end_time": "2023-05-16T13:20:35.768244Z",
     "start_time": "2023-05-16T13:20:31.093497Z"
    }
   },
   "outputs": [
    {
     "name": "stdout",
     "output_type": "stream",
     "text": [
      "please enter an integermy name\n"
     ]
    }
   ],
   "source": [
    "val = input(\"please enter an integer\") "
   ]
  },
  {
   "cell_type": "code",
   "execution_count": 24,
   "id": "86450811",
   "metadata": {
    "ExecuteTime": {
     "end_time": "2023-05-16T13:20:37.721481Z",
     "start_time": "2023-05-16T13:20:37.718141Z"
    }
   },
   "outputs": [
    {
     "data": {
      "text/plain": [
       "'my name'"
      ]
     },
     "execution_count": 24,
     "metadata": {},
     "output_type": "execute_result"
    }
   ],
   "source": [
    "val"
   ]
  },
  {
   "cell_type": "code",
   "execution_count": 30,
   "id": "5dbe07ac",
   "metadata": {
    "ExecuteTime": {
     "end_time": "2023-05-16T13:43:57.472468Z",
     "start_time": "2023-05-16T13:43:56.296403Z"
    }
   },
   "outputs": [
    {
     "name": "stdout",
     "output_type": "stream",
     "text": [
      "please enter an integer: 2\n",
      "Yes, you finally got it\n"
     ]
    }
   ],
   "source": [
    "# Get user input that is an integer. Keep looping until the person enters integer\n",
    "# Tip 1: use while loop to continuously loop, \n",
    "# Tip 2: computers never understand user language. So an int value may not be an 'int'\n",
    "# use while True to continuously loop\n",
    "while True:\n",
    "    try:\n",
    "        val = input(\"please enter an integer: \") \n",
    "        val = int(val) #trying to cast the val. Will only succeed if it is an int \n",
    "    except Exception as ex:\n",
    "        print(\"Oops there is an error because: {} with args {}\".format(type(ex).__name__, ex.args))\n",
    "        print(\"Please re-enter a whole number\")\n",
    "        continue\n",
    "    else:\n",
    "        print(\"Yes, you finally got it\")\n",
    "        break"
   ]
  },
  {
   "cell_type": "markdown",
   "id": "626ab21a",
   "metadata": {},
   "source": [
    "## Functions and Methods\n",
    "\n",
    "Local Variables - Variables that are inside a loop or function, only available to that space<br>\n",
    "Global Variables - Variables that can be used anywhere in the code\n",
    "<br>\n",
    "<br>\n",
    "`Enumerate`- To separate key,value of a list or anything\n",
    "\n",
    "**So what is a function?**\n",
    "\n",
    "Formally, a function is a useful device that groups together a set of statements so they can be run more than once. They can also let us specify parameters that can serve as inputs to the functions.\n",
    "\n",
    "On a more fundamental level, functions allow us to not have to repeatedly write the same code again and again. If you remember back to the lessons on strings and lists, remember that we used a function len() to get the length of a string. Since checking the length of a sequence is a common task you would want to write a function that can do this repeatedly at command.\n",
    "\n",
    "Functions will be one of most basic levels of reusing code in Python, and it will also allow us to start thinking of program design (we will dive much deeper into the ideas of design when we learn about Object Oriented Programming).\n",
    "\n",
    "Let's see how to build out a function's syntax in Python. It has the following form:\n",
    "\n",
    "````python\n",
    "def name_of_function(arg1,arg2):\n",
    "    '''\n",
    "    This is where the function's Document String (doc-string) goes\n",
    "    '''\n",
    "    # Do stuff here\n",
    "    #return desired result\n",
    "\n",
    "````\n",
    "\n",
    "We begin with def then a space followed by the name of the function. Try to keep names relevant, for example len() is a good name for a length() function. Also be careful with names, you wouldn't want to call a function the same name as a [built-in function in Python](https://docs.python.org/2/library/functions.html) (such as len).\n",
    "\n",
    "Next come a pair of parenthesis with a number of arguments separated by a comma. These arguments are the inputs for your function. You'll be able to use these inputs in your function and reference them. After this you put a colon.\n",
    "\n",
    "Now here is the important step, you must indent to begin the code inside your function correctly. Python makes use of *whitespace* to organize code. Lots of other programing languages do not do this, so keep that in mind.\n",
    "\n",
    "Next you'll see the doc-string, this is where you write a basic description of the function. Using iPython and iPython Notebooks, you'll be ab;e to read these doc-strings by pressing Shift+Tab after a function name. Doc strings are not necessary for simple functions, but its good practice to put them in so you or other people can easily understand the code you write.\n",
    "\n",
    "After all this you begin writing the code you wish to execute.\n",
    "\n",
    "The best way to learn functions is by going through examples. So let's try to go through examples that relate back to the various objects and data structures we learned about before."
   ]
  },
  {
   "cell_type": "code",
   "execution_count": 31,
   "id": "0349c214",
   "metadata": {
    "ExecuteTime": {
     "end_time": "2023-05-16T13:48:45.370337Z",
     "start_time": "2023-05-16T13:48:45.367899Z"
    }
   },
   "outputs": [],
   "source": [
    "# function to add 2 numbers\n",
    "#a and b are global variables\n",
    "a = 2.4\n",
    "b = 55\n",
    "def add_numbers():\n",
    "    addition = a+b # addition is local variable\n",
    "    return addition"
   ]
  },
  {
   "cell_type": "code",
   "execution_count": 32,
   "id": "1bc54e1e",
   "metadata": {
    "ExecuteTime": {
     "end_time": "2023-05-16T13:48:54.948486Z",
     "start_time": "2023-05-16T13:48:54.945485Z"
    }
   },
   "outputs": [
    {
     "data": {
      "text/plain": [
       "<function __main__.add_numbers()>"
      ]
     },
     "execution_count": 32,
     "metadata": {},
     "output_type": "execute_result"
    }
   ],
   "source": [
    "add_numbers"
   ]
  },
  {
   "cell_type": "code",
   "execution_count": 33,
   "id": "ed80a958",
   "metadata": {
    "ExecuteTime": {
     "end_time": "2023-05-16T13:49:23.801288Z",
     "start_time": "2023-05-16T13:49:23.798116Z"
    }
   },
   "outputs": [
    {
     "data": {
      "text/plain": [
       "57.4"
      ]
     },
     "execution_count": 33,
     "metadata": {},
     "output_type": "execute_result"
    }
   ],
   "source": [
    "# calling function must have () after the name\n",
    "add_numbers()"
   ]
  },
  {
   "cell_type": "code",
   "execution_count": 34,
   "id": "4ebbdce8",
   "metadata": {
    "ExecuteTime": {
     "end_time": "2023-05-16T13:50:27.314785Z",
     "start_time": "2023-05-16T13:50:27.310636Z"
    }
   },
   "outputs": [],
   "source": [
    "def add_numbers2(a, b):\n",
    "    addition = a+b # addition is local variable\n",
    "    return addition"
   ]
  },
  {
   "cell_type": "code",
   "execution_count": 36,
   "id": "28bca727",
   "metadata": {
    "ExecuteTime": {
     "end_time": "2023-05-16T13:50:57.112063Z",
     "start_time": "2023-05-16T13:50:57.108999Z"
    }
   },
   "outputs": [
    {
     "data": {
      "text/plain": [
       "22"
      ]
     },
     "execution_count": 36,
     "metadata": {},
     "output_type": "execute_result"
    }
   ],
   "source": [
    "add_numbers2(6,16)"
   ]
  },
  {
   "cell_type": "code",
   "execution_count": 37,
   "id": "11c5f95c",
   "metadata": {
    "ExecuteTime": {
     "end_time": "2023-05-16T13:51:16.296680Z",
     "start_time": "2023-05-16T13:51:16.293133Z"
    }
   },
   "outputs": [
    {
     "data": {
      "text/plain": [
       "1000006.1111"
      ]
     },
     "execution_count": 37,
     "metadata": {},
     "output_type": "execute_result"
    }
   ],
   "source": [
    "add_numbers2(7.1111, 999999)"
   ]
  },
  {
   "cell_type": "code",
   "execution_count": null,
   "id": "1b12f740",
   "metadata": {},
   "outputs": [],
   "source": []
  }
 ],
 "metadata": {
  "kernelspec": {
   "display_name": "python38",
   "language": "python",
   "name": "python38"
  },
  "language_info": {
   "codemirror_mode": {
    "name": "ipython",
    "version": 3
   },
   "file_extension": ".py",
   "mimetype": "text/x-python",
   "name": "python",
   "nbconvert_exporter": "python",
   "pygments_lexer": "ipython3",
   "version": "3.8.12"
  }
 },
 "nbformat": 4,
 "nbformat_minor": 5
}
