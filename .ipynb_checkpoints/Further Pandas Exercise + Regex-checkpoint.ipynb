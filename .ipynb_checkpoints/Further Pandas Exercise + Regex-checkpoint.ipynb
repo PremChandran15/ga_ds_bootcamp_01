{
 "cells": [
  {
   "cell_type": "markdown",
   "id": "f117ea58",
   "metadata": {},
   "source": [
    "## Further Pandas exercise:\n",
    "\n",
    "1. Read engineering data\n",
    "2. Rename the columns to Dry and Wet Compositions\n",
    "3. Extract information from Dry Composition by inpecting the pattern"
   ]
  },
  {
   "cell_type": "code",
   "execution_count": null,
   "id": "4cfb3282",
   "metadata": {},
   "outputs": [],
   "source": []
  }
 ],
 "metadata": {
  "kernelspec": {
   "display_name": "python38",
   "language": "python",
   "name": "python38"
  },
  "language_info": {
   "codemirror_mode": {
    "name": "ipython",
    "version": 3
   },
   "file_extension": ".py",
   "mimetype": "text/x-python",
   "name": "python",
   "nbconvert_exporter": "python",
   "pygments_lexer": "ipython3",
   "version": "3.8.12"
  }
 },
 "nbformat": 4,
 "nbformat_minor": 5
}
