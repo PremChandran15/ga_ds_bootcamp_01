{
 "cells": [
  {
   "cell_type": "code",
   "execution_count": 1,
   "id": "196b15c0",
   "metadata": {
    "ExecuteTime": {
     "end_time": "2023-05-09T13:04:09.913805Z",
     "start_time": "2023-05-09T13:04:09.900460Z"
    }
   },
   "outputs": [
    {
     "data": {
      "text/plain": [
       "0.75"
      ]
     },
     "execution_count": 1,
     "metadata": {},
     "output_type": "execute_result"
    }
   ],
   "source": [
    "3/4"
   ]
  },
  {
   "cell_type": "code",
   "execution_count": 2,
   "id": "3eda76ca",
   "metadata": {
    "ExecuteTime": {
     "end_time": "2023-05-09T13:27:55.767961Z",
     "start_time": "2023-05-09T13:27:55.764466Z"
    }
   },
   "outputs": [],
   "source": [
    "a = 3.5"
   ]
  },
  {
   "cell_type": "code",
   "execution_count": 3,
   "id": "7d73a114",
   "metadata": {
    "ExecuteTime": {
     "end_time": "2023-05-09T13:27:59.085785Z",
     "start_time": "2023-05-09T13:27:59.082837Z"
    }
   },
   "outputs": [
    {
     "data": {
      "text/plain": [
       "float"
      ]
     },
     "execution_count": 3,
     "metadata": {},
     "output_type": "execute_result"
    }
   ],
   "source": [
    "type(a)"
   ]
  },
  {
   "cell_type": "code",
   "execution_count": null,
   "id": "67b41134",
   "metadata": {},
   "outputs": [],
   "source": []
  }
 ],
 "metadata": {
  "kernelspec": {
   "display_name": "python38",
   "language": "python",
   "name": "python38"
  },
  "language_info": {
   "codemirror_mode": {
    "name": "ipython",
    "version": 3
   },
   "file_extension": ".py",
   "mimetype": "text/x-python",
   "name": "python",
   "nbconvert_exporter": "python",
   "pygments_lexer": "ipython3",
   "version": "3.8.12"
  }
 },
 "nbformat": 4,
 "nbformat_minor": 5
}
