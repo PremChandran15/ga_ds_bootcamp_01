{
 "cells": [
  {
   "cell_type": "markdown",
   "id": "127be0fd",
   "metadata": {},
   "source": [
    "## Chi-square \n",
    "\n",
    "WHY?\n",
    "- test of dependency\n",
    "- acts as a correlation measure for categorical values\n",
    "\n",
    "HOW?\n",
    "- count of items on row and column\n",
    "- checks if one row/column increases in value, the other follows?\n",
    "- statistic-heavy => p-value, critical value, significance, H0 (null hypothesis), H1 (alternate hypothesis)"
   ]
  },
  {
   "cell_type": "code",
   "execution_count": 2,
   "id": "76515b39",
   "metadata": {
    "ExecuteTime": {
     "end_time": "2023-07-13T11:51:27.516137Z",
     "start_time": "2023-07-13T11:51:27.513703Z"
    }
   },
   "outputs": [],
   "source": [
    "from scipy.stats import chi2_contingency"
   ]
  },
  {
   "cell_type": "code",
   "execution_count": 3,
   "id": "03e8b2b8",
   "metadata": {
    "ExecuteTime": {
     "end_time": "2023-07-13T11:52:06.058097Z",
     "start_time": "2023-07-13T11:52:05.688446Z"
    }
   },
   "outputs": [],
   "source": [
    "import pandas as pd\n",
    "import numpy as np"
   ]
  },
  {
   "cell_type": "code",
   "execution_count": 6,
   "id": "4be5b900",
   "metadata": {
    "ExecuteTime": {
     "end_time": "2023-07-13T11:54:58.960616Z",
     "start_time": "2023-07-13T11:54:58.953904Z"
    }
   },
   "outputs": [
    {
     "data": {
      "text/html": [
       "<div>\n",
       "<style scoped>\n",
       "    .dataframe tbody tr th:only-of-type {\n",
       "        vertical-align: middle;\n",
       "    }\n",
       "\n",
       "    .dataframe tbody tr th {\n",
       "        vertical-align: top;\n",
       "    }\n",
       "\n",
       "    .dataframe thead th {\n",
       "        text-align: right;\n",
       "    }\n",
       "</style>\n",
       "<table border=\"1\" class=\"dataframe\">\n",
       "  <thead>\n",
       "    <tr style=\"text-align: right;\">\n",
       "      <th></th>\n",
       "      <th>Blue</th>\n",
       "      <th>Red</th>\n",
       "      <th>Black</th>\n",
       "      <th>White</th>\n",
       "    </tr>\n",
       "  </thead>\n",
       "  <tbody>\n",
       "    <tr>\n",
       "      <th>Female</th>\n",
       "      <td>48</td>\n",
       "      <td>35</td>\n",
       "      <td>75</td>\n",
       "      <td>45</td>\n",
       "    </tr>\n",
       "    <tr>\n",
       "      <th>Male</th>\n",
       "      <td>32</td>\n",
       "      <td>57</td>\n",
       "      <td>27</td>\n",
       "      <td>50</td>\n",
       "    </tr>\n",
       "  </tbody>\n",
       "</table>\n",
       "</div>"
      ],
      "text/plain": [
       "        Blue  Red  Black  White\n",
       "Female    48   35     75     45\n",
       "Male      32   57     27     50"
      ]
     },
     "execution_count": 6,
     "metadata": {},
     "output_type": "execute_result"
    }
   ],
   "source": [
    "# sample data\n",
    "\n",
    "sample_data = {'Blue': [48, 32], 'Red': [35, 57], 'Black': [75, 27], 'White': [45, 50]}\n",
    "\n",
    "df = pd.DataFrame(sample_data, index= ['Female','Male'])\n",
    "df"
   ]
  },
  {
   "cell_type": "code",
   "execution_count": 7,
   "id": "6aa08983",
   "metadata": {
    "ExecuteTime": {
     "end_time": "2023-07-13T11:55:39.024553Z",
     "start_time": "2023-07-13T11:55:39.015569Z"
    }
   },
   "outputs": [
    {
     "data": {
      "text/plain": [
       "(27.882574699219393,\n",
       " 3.844106604410326e-06,\n",
       " 3,\n",
       " array([[44.01084011, 50.61246612, 56.11382114, 52.26287263],\n",
       "        [35.98915989, 41.38753388, 45.88617886, 42.73712737]]))"
      ]
     },
     "execution_count": 7,
     "metadata": {},
     "output_type": "execute_result"
    }
   ],
   "source": [
    "chi2_contingency(df)"
   ]
  },
  {
   "cell_type": "markdown",
   "id": "433b2a0d",
   "metadata": {},
   "source": [
    "four values inside chi2_contigency: <br>\n",
    "\n",
    "H0 (null hypothesis) => based on our existing knowledge of the dataset => variables are independent <br>\n",
    "H1 (alternate hypothesis) => the alternate truth based on the data statistics => variables are dependent <br>\n",
    "\n",
    "1. X2 value (~ variance) = SUM((actual count - Expected value)^2/Expected count)\n",
    "2. p-value = probability of seeing effect (when there is independency) when the null hypothesis is true\n",
    "3. dof (degree of freedom) = (number of rows - 1) x (number of columns - 1)\n",
    "4. Expected values = (row total x column total) / grand total"
   ]
  }
 ],
 "metadata": {
  "kernelspec": {
   "display_name": "python38",
   "language": "python",
   "name": "python38"
  },
  "language_info": {
   "codemirror_mode": {
    "name": "ipython",
    "version": 3
   },
   "file_extension": ".py",
   "mimetype": "text/x-python",
   "name": "python",
   "nbconvert_exporter": "python",
   "pygments_lexer": "ipython3",
   "version": "3.8.12"
  }
 },
 "nbformat": 4,
 "nbformat_minor": 5
}
