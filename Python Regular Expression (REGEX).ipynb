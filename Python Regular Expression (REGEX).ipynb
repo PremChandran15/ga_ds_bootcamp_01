{
 "cells": [
  {
   "cell_type": "markdown",
   "id": "bc762e4e",
   "metadata": {},
   "source": [
    "## Regular Expressions\n",
    "\n",
    "Regular expressions are text matching patterns described with a formal syntax. You'll often hear regular expressions referred to as 'regex' or 'regexp' in conversation (and Yes, you have regexp in ES). Regular expressions can include a variety of rules, for finding repetition, to text-matching, and much more. As you advance in Python you'll see that a lot of your parsing problems can be solved with regular expressions."
   ]
  },
  {
   "cell_type": "markdown",
   "id": "4ffb2273",
   "metadata": {},
   "source": [
    "### Basic Patterns\n",
    "\n",
    "       \n",
    "Pattern    | Match      \n",
    ":----------|:-----------\n",
    "a, W, 9, < |  ordinary characters match themselves exactly\n",
    ".          |a period matches any single character except newline\n",
    "\\w | matches a ”word” character: a letter or digit or underbar [a-zA-Z0-9 ]\n",
    "\\W | matches any non-word character\n",
    "\\b | boundary between word and non-word\n",
    "\\s | a single whitespace character – space, newline, return, tab, form [\\n \\r \\t \\f]\n",
    "\\S | matches any non-whitespace character\n",
    "\\t | tab\n",
    "\\n | newline\n",
    "\\r | return\n",
    "\\d | decimal digit [0-9]\n",
    "\\D | non-digit character\n",
    "ˆ | circumflex (top hat) matches the start of a string\n",
    "$ | dollar matches the end of a string\n",
    "\\ | inhibits the ”specialness” of a character. So, for example, use \\. to match a period\n",
    "\n",
    "```python\n",
    "'''\n",
    "These are some of the most commonly used methods\n",
    "'''\n",
    "re.search(pattern,text,condition)\n",
    "re.findall(pattern,text,condition)\n",
    "re.sub(existing_pattern,replace_with,text)\n",
    "re.compile(pattern) #compiles the pattern => especially useful if pattern is used multiple times\n",
    "```\n"
   ]
  },
  {
   "cell_type": "code",
   "execution_count": 5,
   "id": "797e88b4",
   "metadata": {
    "ExecuteTime": {
     "end_time": "2023-06-06T11:20:22.913975Z",
     "start_time": "2023-06-06T11:20:22.911788Z"
    }
   },
   "outputs": [],
   "source": [
    "my_sentence = r\"Python is fun to learn because it takes {}hrs to learn \""
   ]
  },
  {
   "cell_type": "code",
   "execution_count": 6,
   "id": "cfd853d7",
   "metadata": {
    "ExecuteTime": {
     "end_time": "2023-06-06T11:20:23.565730Z",
     "start_time": "2023-06-06T11:20:23.562768Z"
    }
   },
   "outputs": [
    {
     "data": {
      "text/plain": [
       "'Python is fun to learn because it takes 60hrs to learn '"
      ]
     },
     "execution_count": 6,
     "metadata": {},
     "output_type": "execute_result"
    }
   ],
   "source": [
    "my_sentence.format(60)"
   ]
  },
  {
   "cell_type": "code",
   "execution_count": 4,
   "id": "c961b3a6",
   "metadata": {
    "ExecuteTime": {
     "end_time": "2023-06-06T11:19:40.155660Z",
     "start_time": "2023-06-06T11:19:40.150609Z"
    }
   },
   "outputs": [
    {
     "data": {
      "text/plain": [
       "'Python is fun to learn because it takes 60hrs to learn '"
      ]
     },
     "execution_count": 4,
     "metadata": {},
     "output_type": "execute_result"
    }
   ],
   "source": [
    "new_sentence = f\"Python is fun to learn because it takes {60}hrs to learn \"\n",
    "new_sentence"
   ]
  },
  {
   "cell_type": "code",
   "execution_count": 7,
   "id": "fa7a8766",
   "metadata": {
    "ExecuteTime": {
     "end_time": "2023-06-06T11:21:45.827178Z",
     "start_time": "2023-06-06T11:21:45.824025Z"
    }
   },
   "outputs": [
    {
     "data": {
      "text/plain": [
       "'Python.is.fun.to.learn.because.it.takes.60hrs.to.learn.'"
      ]
     },
     "execution_count": 7,
     "metadata": {},
     "output_type": "execute_result"
    }
   ],
   "source": [
    "new_sentence.replace(\" \", \".\")"
   ]
  },
  {
   "cell_type": "code",
   "execution_count": 8,
   "id": "15ba35c0",
   "metadata": {
    "ExecuteTime": {
     "end_time": "2023-06-06T11:22:11.516596Z",
     "start_time": "2023-06-06T11:22:11.512603Z"
    }
   },
   "outputs": [
    {
     "data": {
      "text/plain": [
       "'Python is fun to learn because it takes 60hrs to learn'"
      ]
     },
     "execution_count": 8,
     "metadata": {},
     "output_type": "execute_result"
    }
   ],
   "source": [
    "new_sentence.strip()"
   ]
  },
  {
   "cell_type": "code",
   "execution_count": 9,
   "id": "845ad10c",
   "metadata": {
    "ExecuteTime": {
     "end_time": "2023-06-06T11:23:39.126300Z",
     "start_time": "2023-06-06T11:23:39.123783Z"
    }
   },
   "outputs": [],
   "source": [
    "import re"
   ]
  },
  {
   "cell_type": "code",
   "execution_count": 14,
   "id": "bacdfc38",
   "metadata": {
    "ExecuteTime": {
     "end_time": "2023-06-06T11:26:13.645172Z",
     "start_time": "2023-06-06T11:26:13.642202Z"
    }
   },
   "outputs": [
    {
     "name": "stdout",
     "output_type": "stream",
     "text": [
      "Match found: abcd!!\n"
     ]
    }
   ],
   "source": [
    "string = \"@@!abcd!!\"\n",
    "\n",
    "#searching for direct value\n",
    "match = re.search(\"abcd!!\", string)\n",
    "\n",
    "if match:\n",
    "    print(f\"Match found: {match.group()}\")\n",
    "else:\n",
    "    print(\"no match\")\n",
    "\n"
   ]
  },
  {
   "cell_type": "code",
   "execution_count": 15,
   "id": "e7500332",
   "metadata": {
    "ExecuteTime": {
     "end_time": "2023-06-06T11:28:04.085385Z",
     "start_time": "2023-06-06T11:28:04.081889Z"
    }
   },
   "outputs": [
    {
     "data": {
      "text/plain": [
       "'abcd!!'"
      ]
     },
     "execution_count": 15,
     "metadata": {},
     "output_type": "execute_result"
    }
   ],
   "source": [
    "match.group()"
   ]
  },
  {
   "cell_type": "code",
   "execution_count": 16,
   "id": "6a1bc555",
   "metadata": {
    "ExecuteTime": {
     "end_time": "2023-06-06T11:30:52.414129Z",
     "start_time": "2023-06-06T11:30:52.410732Z"
    }
   },
   "outputs": [
    {
     "name": "stdout",
     "output_type": "stream",
     "text": [
      "Match found: cghs!!\n"
     ]
    }
   ],
   "source": [
    "string = \"@@!cghs!!\"\n",
    "\n",
    "#search for 4 letters followed by 2 non letters in the string\n",
    "match = re.search(\"\\w\\w\\w\\w\\W\\W\", string)\n",
    "\n",
    "if match:\n",
    "    print(f\"Match found: {match.group()}\")\n",
    "else:\n",
    "    print(\"no match\")"
   ]
  },
  {
   "cell_type": "code",
   "execution_count": 18,
   "id": "af6353e8",
   "metadata": {
    "ExecuteTime": {
     "end_time": "2023-06-06T11:33:07.552539Z",
     "start_time": "2023-06-06T11:33:07.549807Z"
    }
   },
   "outputs": [
    {
     "name": "stdout",
     "output_type": "stream",
     "text": [
      "Match found: ghs9!!\n"
     ]
    }
   ],
   "source": [
    "string = \"@@!cghs9!!\"\n",
    "\n",
    "#search for 4 letters followed by 2 non letters in the string\n",
    "match = re.search(\"\\w{4}\\W{2}\", string)\n",
    "\n",
    "if match:\n",
    "    print(f\"Match found: {match.group()}\")\n",
    "else:\n",
    "    print(\"no match\")"
   ]
  },
  {
   "cell_type": "code",
   "execution_count": 21,
   "id": "d62f4fad",
   "metadata": {
    "ExecuteTime": {
     "end_time": "2023-06-06T11:36:05.563573Z",
     "start_time": "2023-06-06T11:36:05.560090Z"
    }
   },
   "outputs": [
    {
     "name": "stdout",
     "output_type": "stream",
     "text": [
      "Match found: budd!.\n"
     ]
    }
   ],
   "source": [
    "string = \"Hey there budd!. You are doing good!!\"\n",
    "\n",
    "#search for 4 letters followed by 2 non letters in the string\n",
    "match = re.search(\"\\w{4}\\W{2}\", string)\n",
    "\n",
    "\n"
   ]
  },
  {
   "cell_type": "code",
   "execution_count": 23,
   "id": "5027864f",
   "metadata": {
    "ExecuteTime": {
     "end_time": "2023-06-06T11:37:44.564816Z",
     "start_time": "2023-06-06T11:37:44.559180Z"
    }
   },
   "outputs": [
    {
     "name": "stdout",
     "output_type": "stream",
     "text": [
      "0 Match found: budd!.\n",
      "1 Match found: good!!\n"
     ]
    }
   ],
   "source": [
    "string = \"Hey there budd!. You are doing good!!\"\n",
    "\n",
    "#search for 4 letters followed by 2 non letters in the string\n",
    "match = re.findall(\"\\w{4}\\W{2}\", string)\n",
    "\n",
    "for idx,value in enumerate(match):\n",
    "    print(f\"{idx} Match found: {value}\")"
   ]
  },
  {
   "cell_type": "code",
   "execution_count": 28,
   "id": "d6d077fe",
   "metadata": {
    "ExecuteTime": {
     "end_time": "2023-06-06T11:46:24.738149Z",
     "start_time": "2023-06-06T11:46:24.734937Z"
    }
   },
   "outputs": [
    {
     "name": "stdout",
     "output_type": "stream",
     "text": [
      "Match found: piiiiii\n"
     ]
    }
   ],
   "source": [
    "# * => Matches 0 or more item (GREEDY)\n",
    "# + => Matches 1 or more item (GREEDY)\n",
    "# ? => Matches 0 or 1 item\n",
    "\n",
    "#search for piiiiiii\n",
    "match = re.search(r\"pi*\",\"piiiiiigiiiii\")\n",
    "\n",
    "if match:\n",
    "    print(f\"Match found: {match.group()}\")\n",
    "else:\n",
    "    print(\"no match\")"
   ]
  },
  {
   "cell_type": "code",
   "execution_count": 25,
   "id": "c128f687",
   "metadata": {
    "ExecuteTime": {
     "end_time": "2023-06-06T11:43:08.638122Z",
     "start_time": "2023-06-06T11:43:08.634448Z"
    }
   },
   "outputs": [
    {
     "name": "stdout",
     "output_type": "stream",
     "text": [
      "Match found: piiiiii\n"
     ]
    }
   ],
   "source": [
    "# * => Matches 0 or more item (GREEDY)\n",
    "# + => Matches 1 or more item (GREEDY)\n",
    "# ? => Matches 0 or 1 item\n",
    "\n",
    "#search for piiiiiii\n",
    "match = re.search(r\"pi+\",\"piiiiiigiiiii\")\n",
    "\n",
    "if match:\n",
    "    print(f\"Match found: {match.group()}\")\n",
    "else:\n",
    "    print(\"no match\")"
   ]
  },
  {
   "cell_type": "code",
   "execution_count": 26,
   "id": "56dd52a0",
   "metadata": {
    "ExecuteTime": {
     "end_time": "2023-06-06T11:43:54.701360Z",
     "start_time": "2023-06-06T11:43:54.698798Z"
    }
   },
   "outputs": [
    {
     "name": "stdout",
     "output_type": "stream",
     "text": [
      "no match\n"
     ]
    }
   ],
   "source": [
    "#search for piiiiiii\n",
    "match = re.search(r\"pi+\",\"p iiiiiigiiiii\")\n",
    "\n",
    "if match:\n",
    "    print(f\"Match found: {match.group()}\")\n",
    "else:\n",
    "    print(\"no match\")"
   ]
  },
  {
   "cell_type": "code",
   "execution_count": 29,
   "id": "7355fffa",
   "metadata": {
    "ExecuteTime": {
     "end_time": "2023-06-06T11:49:09.219956Z",
     "start_time": "2023-06-06T11:49:09.217104Z"
    }
   },
   "outputs": [
    {
     "name": "stdout",
     "output_type": "stream",
     "text": [
      "Match found: 12 3456xx\n"
     ]
    }
   ],
   "source": [
    "string = \"CEO's phone number is ceo12 3456xx\"\n",
    "\n",
    "#look for 12 3445xx\n",
    "match = re.search(r\"\\d\\d\\s+\\d\\d\\d\\d\\w\\w\",string)\n",
    "\n",
    "if match:\n",
    "    print(f\"Match found: {match.group()}\")\n",
    "else:\n",
    "    print(\"no match\")"
   ]
  },
  {
   "cell_type": "code",
   "execution_count": 30,
   "id": "9f43ec6e",
   "metadata": {
    "ExecuteTime": {
     "end_time": "2023-06-06T11:49:45.259329Z",
     "start_time": "2023-06-06T11:49:45.256141Z"
    }
   },
   "outputs": [
    {
     "name": "stdout",
     "output_type": "stream",
     "text": [
      "Match found: 12 3456xx\n"
     ]
    }
   ],
   "source": [
    "string = \"CEO's phone number is ceo12 3456xx\"\n",
    "\n",
    "#look for 12 3445xx\n",
    "match = re.search(r\"\\d{2}\\s+\\d{4}\\w+\",string)\n",
    "\n",
    "if match:\n",
    "    print(f\"Match found: {match.group()}\")\n",
    "else:\n",
    "    print(\"no match\")"
   ]
  },
  {
   "cell_type": "code",
   "execution_count": 33,
   "id": "19d37872",
   "metadata": {
    "ExecuteTime": {
     "end_time": "2023-06-06T11:50:20.343952Z",
     "start_time": "2023-06-06T11:50:20.341015Z"
    }
   },
   "outputs": [
    {
     "name": "stdout",
     "output_type": "stream",
     "text": [
      "Match found: 12 3456xx\n"
     ]
    }
   ],
   "source": [
    "string = \"CEO's phone number is ceo12 3456xx\"\n",
    "\n",
    "#look for 12 3445xx\n",
    "match = re.search(r\"\\d*\\s+\\d+\\w+\",string)\n",
    "\n"
   ]
  },
  {
   "cell_type": "code",
   "execution_count": 34,
   "id": "d5654a19",
   "metadata": {
    "ExecuteTime": {
     "end_time": "2023-06-06T11:54:47.747286Z",
     "start_time": "2023-06-06T11:54:47.743765Z"
    }
   },
   "outputs": [
    {
     "name": "stdout",
     "output_type": "stream",
     "text": [
      "Match found: 07@tesla\n"
     ]
    }
   ],
   "source": [
    "# look for emails\n",
    "email = \"elon_musk-07@tesla.com is from an alien planet\"\n",
    "\n",
    "match = re.search(\"\\w*@\\w*\",email)\n",
    "\n",
    "if match:\n",
    "    print(f\"Match found: {match.group()}\")\n",
    "else:\n",
    "    print(\"no match\")\n",
    "\n"
   ]
  },
  {
   "cell_type": "markdown",
   "id": "a7237144",
   "metadata": {},
   "source": [
    "### Square Brackets\n",
    "\n",
    "Square brackets can be used to indicate a set of chars, so [abc] matches 'a' or 'b' or 'c'. The codes \\w, \\s etc. work inside square brackets too with the one exception that dot (.) just means a literal dot. For the emails problem, the square brackets are an easy way to add '.' and '-' to the set of chars which can appear around the @ with the pattern r'[\\w.-]+@[\\w.-]+' to get the whole email address:\n",
    "\n",
    "```python\n",
    "email = 'purple alice-b@google.com monkey dishwasher'\n",
    "match = re.search(r'[\\w.-]+@[\\w.-]+', email)\n",
    "\n",
    "## 'alice-b@google.com'\n",
    "if match:                      \n",
    "    print('Found:', match.group()) \n",
    "else:\n",
    "    print('Did not find')\n",
    "```\n",
    "\n",
    "(More square-bracket features) You can also use a dash to indicate a range, so [a-z] matches all lowercase letters. To use a dash without indicating a range, put the dash last, e.g. [abc-]. An up-hat (^) at the start of a square-bracket"
   ]
  },
  {
   "cell_type": "code",
   "execution_count": 46,
   "id": "438e808a",
   "metadata": {
    "ExecuteTime": {
     "end_time": "2023-06-06T12:09:49.017012Z",
     "start_time": "2023-06-06T12:09:49.014098Z"
    }
   },
   "outputs": [
    {
     "name": "stdout",
     "output_type": "stream",
     "text": [
      "Match found: elon_musk-07@tesla.com\n"
     ]
    }
   ],
   "source": [
    "email = \"elon_musk-07@tesla.com is from an alien planet\"\n",
    "\n",
    "match = re.search(\"[\\w.-]*@[\\w.-]*\",email)\n",
    "\n",
    "if match:\n",
    "    print(f\"Match found: {match.group()}\")\n",
    "#     print(f\"Username: {match.group(1)}\")\n",
    "#     print(f\"Domain: {match.group(2)}\")\n",
    "else:\n",
    "    print(\"no match\")\n"
   ]
  },
  {
   "cell_type": "code",
   "execution_count": 43,
   "id": "2362a97a",
   "metadata": {
    "ExecuteTime": {
     "end_time": "2023-06-06T12:04:38.196439Z",
     "start_time": "2023-06-06T12:04:38.193197Z"
    }
   },
   "outputs": [
    {
     "name": "stdout",
     "output_type": "stream",
     "text": [
      "Match found: elon_musk-07@tesla.com\n",
      "Username: elon_musk-07\n",
      "Domain: tesla.com\n"
     ]
    }
   ],
   "source": [
    "# using parenthesis ( ) to find groups of items\n",
    "email = \"elon_musk-07@tesla.com is from an alien planet\"\n",
    "\n",
    "match = re.search(\"([\\w.-]*)@([\\w.-]*)\",email)\n",
    "\n",
    "if match:\n",
    "    print(f\"Match found: {match.group()}\")\n",
    "    print(f\"Username: {match.group(1)}\")\n",
    "    print(f\"Domain: {match.group(2)}\")\n",
    "else:\n",
    "    print(\"no match\")\n"
   ]
  },
  {
   "cell_type": "code",
   "execution_count": 44,
   "id": "070dd446",
   "metadata": {
    "ExecuteTime": {
     "end_time": "2023-06-06T12:08:17.727927Z",
     "start_time": "2023-06-06T12:08:17.724911Z"
    }
   },
   "outputs": [
    {
     "name": "stdout",
     "output_type": "stream",
     "text": [
      "elon_musk-07 has a domain of tesla.com\n",
      "stevie.wozniak has a domain of dads.com\n"
     ]
    }
   ],
   "source": [
    "email = \"elon_musk-07@tesla.com is from an alien planet but stevie.wozniak@dads.com is from Mars\"\n",
    "\n",
    "match = re.findall(\"([\\w.-]*)@([\\w.-]*)\", email)\n",
    "\n",
    "for username, domain in match:\n",
    "    print(f\"{username} has a domain of {domain}\")"
   ]
  },
  {
   "cell_type": "markdown",
   "id": "75d9de9b",
   "metadata": {},
   "source": [
    "## Exercise 1\n",
    "\n",
    "Given the following paragraph, find the network IP address and replace it to 127.0.0.1.\n",
    "\n",
    "> On most computer systems, localhost resolves to the IP address 10.100.11.121, which is the most commonly used IPv4 loopback address, and to the IPv6 loopback address. The localhost IP address is 192.168.11.10."
   ]
  },
  {
   "cell_type": "code",
   "execution_count": null,
   "id": "e0b82ed2",
   "metadata": {},
   "outputs": [],
   "source": []
  },
  {
   "cell_type": "markdown",
   "id": "e9759e1c",
   "metadata": {},
   "source": [
    "## Exercise 2\n",
    "Most often, you will be dealing with some technical documents in Oil and Gas environment which gets you to deal with time and certain pattern: Lets say you are dealing with a pdf document that has many time compounds, like end time, start time and etc, but you want to know the time the document was generated. Get the Generated Date from the strings below:\n",
    "\n",
    "    Daily Report\n",
    "    Start-time: 2020-08-20 06:00:00\n",
    "    End-time: 2020-08-20 20:00:00\n",
    "    Report Generated On: 12ULIM-SCVjdm\n",
    "    Generated Time : 2020-08-21 06:03:01\n",
    "\n",
    "***Tip***: Use Python's **Positive Look Behind Assertion** `(?<=...)` for this. Refer to [Official Documentation Here](https://docs.python.org/2/library/re.html)\n",
    "\n"
   ]
  },
  {
   "cell_type": "code",
   "execution_count": null,
   "id": "5bb35e3f",
   "metadata": {},
   "outputs": [],
   "source": []
  },
  {
   "cell_type": "markdown",
   "id": "5bc8117d",
   "metadata": {},
   "source": [
    "## Exercise 3\n",
    "\n",
    "Here are the combinations of possible phone numbers to be parsed. \n",
    "\n",
    "We should be able to get the area code 415, the trunk 867, and the rest of the phone number 5309. \n",
    "\n",
    "* 415-867-5309\n",
    "* 415 657 5039\n",
    "* 415.567.5467\n",
    "\n",
    "Use findall to get the required data."
   ]
  },
  {
   "cell_type": "code",
   "execution_count": null,
   "id": "0f0cba8f",
   "metadata": {},
   "outputs": [],
   "source": []
  }
 ],
 "metadata": {
  "kernelspec": {
   "display_name": "python38",
   "language": "python",
   "name": "python38"
  },
  "language_info": {
   "codemirror_mode": {
    "name": "ipython",
    "version": 3
   },
   "file_extension": ".py",
   "mimetype": "text/x-python",
   "name": "python",
   "nbconvert_exporter": "python",
   "pygments_lexer": "ipython3",
   "version": "3.8.12"
  }
 },
 "nbformat": 4,
 "nbformat_minor": 5
}
