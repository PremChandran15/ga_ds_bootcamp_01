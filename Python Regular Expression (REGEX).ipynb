{
 "cells": [
  {
   "cell_type": "markdown",
   "id": "27f77fca",
   "metadata": {},
   "source": [
    "## Regular Expressions\n",
    "\n",
    "Regular expressions are text matching patterns described with a formal syntax. You'll often hear regular expressions referred to as 'regex' or 'regexp' in conversation (and Yes, you have regexp in ES). Regular expressions can include a variety of rules, for finding repetition, to text-matching, and much more. As you advance in Python you'll see that a lot of your parsing problems can be solved with regular expressions."
   ]
  },
  {
   "cell_type": "markdown",
   "id": "5ab38742",
   "metadata": {},
   "source": [
    "### Basic Patterns\n",
    "\n",
    "       \n",
    "Pattern    | Match      \n",
    ":----------|:-----------\n",
    "a, W, 9, < |  ordinary characters match themselves exactly\n",
    ".          |a period matches any single character except newline\n",
    "\\w | matches a ”word” character: a letter or digit or underbar [a-zA-Z0-9 ]\n",
    "\\W | matches any non-word character\n",
    "\\b | boundary between word and non-word\n",
    "\\s | a single whitespace character – space, newline, return, tab, form [\\n \\r \\t \\f]\n",
    "\\S | matches any non-whitespace character\n",
    "\\t | tab\n",
    "\\n | newline\n",
    "\\r | return\n",
    "\\d | decimal digit [0-9]\n",
    "\\D | non-digit character\n",
    "ˆ | circumflex (top hat) matches the start of a string\n",
    "$ | dollar matches the end of a string\n",
    "\\ | inhibits the ”specialness” of a character. So, for example, use \\. to match a period\n",
    "\n",
    "```python\n",
    "'''\n",
    "These are some of the most commonly used methods\n",
    "'''\n",
    "re.search(pattern,text,condition)\n",
    "re.findall(pattern,text,condition)\n",
    "re.sub(existing_pattern,replace_with,text)\n",
    "re.compile(pattern) #compiles the pattern => especially useful if pattern is used multiple times\n",
    "```\n"
   ]
  },
  {
   "cell_type": "code",
   "execution_count": 5,
   "id": "c6baa23d",
   "metadata": {
    "ExecuteTime": {
     "end_time": "2023-06-06T11:20:22.913975Z",
     "start_time": "2023-06-06T11:20:22.911788Z"
    }
   },
   "outputs": [],
   "source": [
    "my_sentence = r\"Python is fun to learn because it takes {}hrs to learn \""
   ]
  },
  {
   "cell_type": "code",
   "execution_count": 6,
   "id": "552063e0",
   "metadata": {
    "ExecuteTime": {
     "end_time": "2023-06-06T11:20:23.565730Z",
     "start_time": "2023-06-06T11:20:23.562768Z"
    }
   },
   "outputs": [
    {
     "data": {
      "text/plain": [
       "'Python is fun to learn because it takes 60hrs to learn '"
      ]
     },
     "execution_count": 6,
     "metadata": {},
     "output_type": "execute_result"
    }
   ],
   "source": [
    "my_sentence.format(60)"
   ]
  },
  {
   "cell_type": "code",
   "execution_count": 4,
   "id": "6653de02",
   "metadata": {
    "ExecuteTime": {
     "end_time": "2023-06-06T11:19:40.155660Z",
     "start_time": "2023-06-06T11:19:40.150609Z"
    }
   },
   "outputs": [
    {
     "data": {
      "text/plain": [
       "'Python is fun to learn because it takes 60hrs to learn '"
      ]
     },
     "execution_count": 4,
     "metadata": {},
     "output_type": "execute_result"
    }
   ],
   "source": [
    "new_sentence = f\"Python is fun to learn because it takes {60}hrs to learn \"\n",
    "new_sentence"
   ]
  },
  {
   "cell_type": "code",
   "execution_count": 7,
   "id": "67f27a0b",
   "metadata": {
    "ExecuteTime": {
     "end_time": "2023-06-06T11:21:45.827178Z",
     "start_time": "2023-06-06T11:21:45.824025Z"
    }
   },
   "outputs": [
    {
     "data": {
      "text/plain": [
       "'Python.is.fun.to.learn.because.it.takes.60hrs.to.learn.'"
      ]
     },
     "execution_count": 7,
     "metadata": {},
     "output_type": "execute_result"
    }
   ],
   "source": [
    "new_sentence.replace(\" \", \".\")"
   ]
  },
  {
   "cell_type": "code",
   "execution_count": 8,
   "id": "61e24c06",
   "metadata": {
    "ExecuteTime": {
     "end_time": "2023-06-06T11:22:11.516596Z",
     "start_time": "2023-06-06T11:22:11.512603Z"
    }
   },
   "outputs": [
    {
     "data": {
      "text/plain": [
       "'Python is fun to learn because it takes 60hrs to learn'"
      ]
     },
     "execution_count": 8,
     "metadata": {},
     "output_type": "execute_result"
    }
   ],
   "source": [
    "new_sentence.strip()"
   ]
  },
  {
   "cell_type": "code",
   "execution_count": 9,
   "id": "4bd48725",
   "metadata": {
    "ExecuteTime": {
     "end_time": "2023-06-06T11:23:39.126300Z",
     "start_time": "2023-06-06T11:23:39.123783Z"
    }
   },
   "outputs": [],
   "source": [
    "import re"
   ]
  },
  {
   "cell_type": "code",
   "execution_count": 14,
   "id": "f4e389cf",
   "metadata": {
    "ExecuteTime": {
     "end_time": "2023-06-06T11:26:13.645172Z",
     "start_time": "2023-06-06T11:26:13.642202Z"
    }
   },
   "outputs": [
    {
     "name": "stdout",
     "output_type": "stream",
     "text": [
      "Match found: abcd!!\n"
     ]
    }
   ],
   "source": [
    "string = \"@@!abcd!!\"\n",
    "\n",
    "#searching for direct value\n",
    "match = re.search(\"abcd!!\", string)\n",
    "\n",
    "if match:\n",
    "    print(f\"Match found: {match.group()}\")\n",
    "else:\n",
    "    print(\"no match\")\n",
    "\n"
   ]
  },
  {
   "cell_type": "code",
   "execution_count": 15,
   "id": "5af48994",
   "metadata": {
    "ExecuteTime": {
     "end_time": "2023-06-06T11:28:04.085385Z",
     "start_time": "2023-06-06T11:28:04.081889Z"
    }
   },
   "outputs": [
    {
     "data": {
      "text/plain": [
       "'abcd!!'"
      ]
     },
     "execution_count": 15,
     "metadata": {},
     "output_type": "execute_result"
    }
   ],
   "source": [
    "match.group()"
   ]
  },
  {
   "cell_type": "code",
   "execution_count": 16,
   "id": "d0afd37b",
   "metadata": {
    "ExecuteTime": {
     "end_time": "2023-06-06T11:30:52.414129Z",
     "start_time": "2023-06-06T11:30:52.410732Z"
    }
   },
   "outputs": [
    {
     "name": "stdout",
     "output_type": "stream",
     "text": [
      "Match found: cghs!!\n"
     ]
    }
   ],
   "source": [
    "string = \"@@!cghs!!\"\n",
    "\n",
    "#search for 4 letters followed by 2 non letters in the string\n",
    "match = re.search(\"\\w\\w\\w\\w\\W\\W\", string)\n",
    "\n",
    "if match:\n",
    "    print(f\"Match found: {match.group()}\")\n",
    "else:\n",
    "    print(\"no match\")"
   ]
  },
  {
   "cell_type": "code",
   "execution_count": 18,
   "id": "93a1ef58",
   "metadata": {
    "ExecuteTime": {
     "end_time": "2023-06-06T11:33:07.552539Z",
     "start_time": "2023-06-06T11:33:07.549807Z"
    }
   },
   "outputs": [
    {
     "name": "stdout",
     "output_type": "stream",
     "text": [
      "Match found: ghs9!!\n"
     ]
    }
   ],
   "source": [
    "string = \"@@!cghs9!!\"\n",
    "\n",
    "#search for 4 letters followed by 2 non letters in the string\n",
    "match = re.search(\"\\w{4}\\W{2}\", string)\n",
    "\n",
    "if match:\n",
    "    print(f\"Match found: {match.group()}\")\n",
    "else:\n",
    "    print(\"no match\")"
   ]
  },
  {
   "cell_type": "code",
   "execution_count": 21,
   "id": "18a1eac5",
   "metadata": {
    "ExecuteTime": {
     "end_time": "2023-06-06T11:36:05.563573Z",
     "start_time": "2023-06-06T11:36:05.560090Z"
    }
   },
   "outputs": [
    {
     "name": "stdout",
     "output_type": "stream",
     "text": [
      "Match found: budd!.\n"
     ]
    }
   ],
   "source": [
    "string = \"Hey there budd!. You are doing good!!\"\n",
    "\n",
    "#search for 4 letters followed by 2 non letters in the string\n",
    "match = re.search(\"\\w{4}\\W{2}\", string)\n",
    "\n",
    "\n"
   ]
  },
  {
   "cell_type": "code",
   "execution_count": 23,
   "id": "c7a01754",
   "metadata": {
    "ExecuteTime": {
     "end_time": "2023-06-06T11:37:44.564816Z",
     "start_time": "2023-06-06T11:37:44.559180Z"
    }
   },
   "outputs": [
    {
     "name": "stdout",
     "output_type": "stream",
     "text": [
      "0 Match found: budd!.\n",
      "1 Match found: good!!\n"
     ]
    }
   ],
   "source": [
    "string = \"Hey there budd!. You are doing good!!\"\n",
    "\n",
    "#search for 4 letters followed by 2 non letters in the string\n",
    "match = re.findall(\"\\w{4}\\W{2}\", string)\n",
    "\n",
    "for idx,value in enumerate(match):\n",
    "    print(f\"{idx} Match found: {value}\")"
   ]
  },
  {
   "cell_type": "code",
   "execution_count": 28,
   "id": "3d20e98c",
   "metadata": {
    "ExecuteTime": {
     "end_time": "2023-06-06T11:46:24.738149Z",
     "start_time": "2023-06-06T11:46:24.734937Z"
    }
   },
   "outputs": [
    {
     "name": "stdout",
     "output_type": "stream",
     "text": [
      "Match found: piiiiii\n"
     ]
    }
   ],
   "source": [
    "# * => Matches 0 or more item (GREEDY)\n",
    "# + => Matches 1 or more item (GREEDY)\n",
    "# ? => Matches 0 or 1 item\n",
    "\n",
    "#search for piiiiiii\n",
    "match = re.search(r\"pi*\",\"piiiiiigiiiii\")\n",
    "\n",
    "if match:\n",
    "    print(f\"Match found: {match.group()}\")\n",
    "else:\n",
    "    print(\"no match\")"
   ]
  },
  {
   "cell_type": "code",
   "execution_count": 25,
   "id": "34923969",
   "metadata": {
    "ExecuteTime": {
     "end_time": "2023-06-06T11:43:08.638122Z",
     "start_time": "2023-06-06T11:43:08.634448Z"
    }
   },
   "outputs": [
    {
     "name": "stdout",
     "output_type": "stream",
     "text": [
      "Match found: piiiiii\n"
     ]
    }
   ],
   "source": [
    "# * => Matches 0 or more item (GREEDY)\n",
    "# + => Matches 1 or more item (GREEDY)\n",
    "# ? => Matches 0 or 1 item\n",
    "\n",
    "#search for piiiiiii\n",
    "match = re.search(r\"pi+\",\"piiiiiigiiiii\")\n",
    "\n",
    "if match:\n",
    "    print(f\"Match found: {match.group()}\")\n",
    "else:\n",
    "    print(\"no match\")"
   ]
  },
  {
   "cell_type": "code",
   "execution_count": 26,
   "id": "49e0d549",
   "metadata": {
    "ExecuteTime": {
     "end_time": "2023-06-06T11:43:54.701360Z",
     "start_time": "2023-06-06T11:43:54.698798Z"
    }
   },
   "outputs": [
    {
     "name": "stdout",
     "output_type": "stream",
     "text": [
      "no match\n"
     ]
    }
   ],
   "source": [
    "#search for piiiiiii\n",
    "match = re.search(r\"pi+\",\"p iiiiiigiiiii\")\n",
    "\n",
    "if match:\n",
    "    print(f\"Match found: {match.group()}\")\n",
    "else:\n",
    "    print(\"no match\")"
   ]
  },
  {
   "cell_type": "code",
   "execution_count": 29,
   "id": "e24a4644",
   "metadata": {
    "ExecuteTime": {
     "end_time": "2023-06-06T11:49:09.219956Z",
     "start_time": "2023-06-06T11:49:09.217104Z"
    }
   },
   "outputs": [
    {
     "name": "stdout",
     "output_type": "stream",
     "text": [
      "Match found: 12 3456xx\n"
     ]
    }
   ],
   "source": [
    "string = \"CEO's phone number is ceo12 3456xx\"\n",
    "\n",
    "#look for 12 3445xx\n",
    "match = re.search(r\"\\d\\d\\s+\\d\\d\\d\\d\\w\\w\",string)\n",
    "\n",
    "if match:\n",
    "    print(f\"Match found: {match.group()}\")\n",
    "else:\n",
    "    print(\"no match\")"
   ]
  },
  {
   "cell_type": "code",
   "execution_count": 30,
   "id": "36c5eab9",
   "metadata": {
    "ExecuteTime": {
     "end_time": "2023-06-06T11:49:45.259329Z",
     "start_time": "2023-06-06T11:49:45.256141Z"
    }
   },
   "outputs": [
    {
     "name": "stdout",
     "output_type": "stream",
     "text": [
      "Match found: 12 3456xx\n"
     ]
    }
   ],
   "source": [
    "string = \"CEO's phone number is ceo12 3456xx\"\n",
    "\n",
    "#look for 12 3445xx\n",
    "match = re.search(r\"\\d{2}\\s+\\d{4}\\w+\",string)\n",
    "\n",
    "if match:\n",
    "    print(f\"Match found: {match.group()}\")\n",
    "else:\n",
    "    print(\"no match\")"
   ]
  },
  {
   "cell_type": "code",
   "execution_count": 33,
   "id": "01dfaf8a",
   "metadata": {
    "ExecuteTime": {
     "end_time": "2023-06-06T11:50:20.343952Z",
     "start_time": "2023-06-06T11:50:20.341015Z"
    }
   },
   "outputs": [
    {
     "name": "stdout",
     "output_type": "stream",
     "text": [
      "Match found: 12 3456xx\n"
     ]
    }
   ],
   "source": [
    "string = \"CEO's phone number is ceo12 3456xx\"\n",
    "\n",
    "#look for 12 3445xx\n",
    "match = re.search(r\"\\d*\\s+\\d+\\w+\",string)\n",
    "\n"
   ]
  },
  {
   "cell_type": "code",
   "execution_count": 34,
   "id": "b8a60bd5",
   "metadata": {
    "ExecuteTime": {
     "end_time": "2023-06-06T11:54:47.747286Z",
     "start_time": "2023-06-06T11:54:47.743765Z"
    }
   },
   "outputs": [
    {
     "name": "stdout",
     "output_type": "stream",
     "text": [
      "Match found: 07@tesla\n"
     ]
    }
   ],
   "source": [
    "# look for emails\n",
    "email = \"elon_musk-07@tesla.com is from an alien planet\"\n",
    "\n",
    "match = re.search(\"\\w*@\\w*\",email)\n",
    "\n",
    "if match:\n",
    "    print(f\"Match found: {match.group()}\")\n",
    "else:\n",
    "    print(\"no match\")\n",
    "\n"
   ]
  },
  {
   "cell_type": "markdown",
   "id": "d1833d0c",
   "metadata": {},
   "source": [
    "### Square Brackets\n",
    "\n",
    "Square brackets can be used to indicate a set of chars, so [abc] matches 'a' or 'b' or 'c'. The codes \\w, \\s etc. work inside square brackets too with the one exception that dot (.) just means a literal dot. For the emails problem, the square brackets are an easy way to add '.' and '-' to the set of chars which can appear around the @ with the pattern r'[\\w.-]+@[\\w.-]+' to get the whole email address:\n",
    "\n",
    "```python\n",
    "email = 'purple alice-b@google.com monkey dishwasher'\n",
    "match = re.search(r'[\\w.-]+@[\\w.-]+', email)\n",
    "\n",
    "## 'alice-b@google.com'\n",
    "if match:                      \n",
    "    print('Found:', match.group()) \n",
    "else:\n",
    "    print('Did not find')\n",
    "```\n",
    "\n",
    "(More square-bracket features) You can also use a dash to indicate a range, so [a-z] matches all lowercase letters. To use a dash without indicating a range, put the dash last, e.g. [abc-]. An up-hat (^) at the start of a square-bracket"
   ]
  },
  {
   "cell_type": "code",
   "execution_count": 46,
   "id": "91152463",
   "metadata": {
    "ExecuteTime": {
     "end_time": "2023-06-06T12:09:49.017012Z",
     "start_time": "2023-06-06T12:09:49.014098Z"
    }
   },
   "outputs": [
    {
     "name": "stdout",
     "output_type": "stream",
     "text": [
      "Match found: elon_musk-07@tesla.com\n"
     ]
    }
   ],
   "source": [
    "email = \"elon_musk-07@tesla.com is from an alien planet\"\n",
    "\n",
    "match = re.search(\"[\\w.-]*@[\\w.-]*\",email)\n",
    "\n",
    "if match:\n",
    "    print(f\"Match found: {match.group()}\")\n",
    "#     print(f\"Username: {match.group(1)}\")\n",
    "#     print(f\"Domain: {match.group(2)}\")\n",
    "else:\n",
    "    print(\"no match\")\n"
   ]
  },
  {
   "cell_type": "code",
   "execution_count": 43,
   "id": "b138c589",
   "metadata": {
    "ExecuteTime": {
     "end_time": "2023-06-06T12:04:38.196439Z",
     "start_time": "2023-06-06T12:04:38.193197Z"
    }
   },
   "outputs": [
    {
     "name": "stdout",
     "output_type": "stream",
     "text": [
      "Match found: elon_musk-07@tesla.com\n",
      "Username: elon_musk-07\n",
      "Domain: tesla.com\n"
     ]
    }
   ],
   "source": [
    "# using parenthesis ( ) to find groups of items\n",
    "email = \"elon_musk-07@tesla.com is from an alien planet\"\n",
    "\n",
    "match = re.search(\"([\\w.-]*)@([\\w.-]*)\",email)\n",
    "\n",
    "if match:\n",
    "    print(f\"Match found: {match.group()}\")\n",
    "    print(f\"Username: {match.group(1)}\")\n",
    "    print(f\"Domain: {match.group(2)}\")\n",
    "else:\n",
    "    print(\"no match\")\n"
   ]
  },
  {
   "cell_type": "code",
   "execution_count": 44,
   "id": "1230825b",
   "metadata": {
    "ExecuteTime": {
     "end_time": "2023-06-06T12:08:17.727927Z",
     "start_time": "2023-06-06T12:08:17.724911Z"
    }
   },
   "outputs": [
    {
     "name": "stdout",
     "output_type": "stream",
     "text": [
      "elon_musk-07 has a domain of tesla.com\n",
      "stevie.wozniak has a domain of dads.com\n"
     ]
    }
   ],
   "source": [
    "email = \"elon_musk-07@tesla.com is from an alien planet but stevie.wozniak@dads.com is from Mars\"\n",
    "\n",
    "match = re.findall(\"([\\w.-]*)@([\\w.-]*)\", email)\n",
    "\n",
    "for username, domain in match:\n",
    "    print(f\"{username} has a domain of {domain}\")"
   ]
  },
  {
   "cell_type": "markdown",
   "id": "48917a78",
   "metadata": {},
   "source": [
    "## Exercise 1\n",
    "\n",
    "Given the following paragraph, find the network IP address and replace it to 127.0.0.1.\n",
    "\n",
    "> On most computer systems, localhost resolves to the IP address 10.100.11.121, which is the most commonly used IPv4 loopback address, and to the IPv6 loopback address. The localhost IP address is 192.168.11.10."
   ]
  },
  {
   "cell_type": "code",
   "execution_count": 47,
   "id": "78f88dfc",
   "metadata": {
    "ExecuteTime": {
     "end_time": "2023-06-06T13:10:45.703874Z",
     "start_time": "2023-06-06T13:10:45.700057Z"
    }
   },
   "outputs": [
    {
     "data": {
      "text/plain": [
       "'On most computer systems, localhost resolves to the IP address 127.0.0.1, which is the most commonly used IPv4 loopback address, and to the IPv6 loopback address. The localhost IP address is 127.0.0.1.'"
      ]
     },
     "execution_count": 47,
     "metadata": {},
     "output_type": "execute_result"
    }
   ],
   "source": [
    "#Method 1: using pattern groups. and using re.sub\n",
    "text = \"On most computer systems, localhost resolves to the IP address 10.100.11.121, which is the most commonly used IPv4 loopback address, and to the IPv6 loopback address. The localhost IP address is 192.168.11.10.\"\n",
    "\n",
    "pattern = r\"(\\d{1,3}[.]){3}(\\d{1,3})\"\n",
    "\n",
    "re.sub(pattern,\"127.0.0.1\",text)"
   ]
  },
  {
   "cell_type": "code",
   "execution_count": 48,
   "id": "07dab5fd",
   "metadata": {
    "ExecuteTime": {
     "end_time": "2023-06-06T13:12:08.854950Z",
     "start_time": "2023-06-06T13:12:08.851191Z"
    }
   },
   "outputs": [
    {
     "data": {
      "text/plain": [
       "'On most computer systems, localhost resolves to the IP address 127.0.0.1, which is the most commonly used IPv4 loopback address, and to the IPv6 loopback address. The localhost IP address is 127.0.0.1.'"
      ]
     },
     "execution_count": 48,
     "metadata": {},
     "output_type": "execute_result"
    }
   ],
   "source": [
    "#Method 2: explicitly specifying the IP pattern (hardcode)\n",
    "\n",
    "text = \"On most computer systems, localhost resolves to the IP address 10.100.11.121, which is the most commonly used IPv4 loopback address, and to the IPv6 loopback address. The localhost IP address is 192.168.11.10.\"\n",
    "\n",
    "pattern = r\"\\d+[.]\\d+[.]\\d+[.]\\d+\"\n",
    "\n",
    "re.sub(pattern,\"127.0.0.1\",text)\n"
   ]
  },
  {
   "cell_type": "markdown",
   "id": "7e06d891",
   "metadata": {},
   "source": [
    "## Exercise 2\n",
    "Most often, you will be dealing with some technical documents in Oil and Gas environment which gets you to deal with time and certain pattern: Lets say you are dealing with a pdf document that has many time compounds, like end time, start time and etc, but you want to know the time the document was generated. Get the Generated Date from the strings below:\n",
    "\n",
    "    Daily Report\n",
    "    Start-time: 2020-08-20 06:00:00\n",
    "    End-time: 2020-08-20 20:00:00\n",
    "    Report Generated On: 12ULIM-SCVjdm\n",
    "    Generated Time : 2020-08-21 06:03:01\n",
    "\n",
    "***Tip***: Use Python's **Positive Look Behind Assertion** `(?<=...)` for this. Refer to [Official Documentation Here](https://docs.python.org/2/library/re.html)\n",
    "\n"
   ]
  },
  {
   "cell_type": "code",
   "execution_count": 49,
   "id": "e73461df",
   "metadata": {
    "ExecuteTime": {
     "end_time": "2023-06-06T13:16:22.644539Z",
     "start_time": "2023-06-06T13:16:22.641976Z"
    }
   },
   "outputs": [
    {
     "name": "stdout",
     "output_type": "stream",
     "text": [
      "Daily Report\n",
      "Start-time: 2020-08-20 06:00:00\n",
      "End-time: 2020-08-20 20:00:00\n",
      "Report Generated On: 12ULIM-SCVjdm\n",
      "Generated Time : 2020-08-21 06:03:01\n"
     ]
    }
   ],
   "source": [
    "sentence = \"Daily Report\\nStart-time: 2020-08-20 06:00:00\\nEnd-time: 2020-08-20 20:00:00\\nReport Generated On: 12ULIM-SCVjdm\\nGenerated Time : 2020-08-21 06:03:01\"\n",
    "print(sentence)"
   ]
  },
  {
   "cell_type": "code",
   "execution_count": 53,
   "id": "5d80b6bc",
   "metadata": {
    "ExecuteTime": {
     "end_time": "2023-06-06T13:34:33.459099Z",
     "start_time": "2023-06-06T13:34:33.456302Z"
    }
   },
   "outputs": [
    {
     "name": "stdout",
     "output_type": "stream",
     "text": [
      "Match found:  : 2020-08-21\n"
     ]
    }
   ],
   "source": [
    "pattern = r\"(?<=Generated\\sTime)\\s?:\\s{0,3}\\d{4}(\\W\\d{2}){2}\"\n",
    "\n",
    "match = re.search(pattern, sentence)\n",
    "\n",
    "if match:\n",
    "    print(f\"Match found: {match.group()}\")\n",
    "else:\n",
    "    print(\"No match\")"
   ]
  },
  {
   "cell_type": "markdown",
   "id": "2af8a085",
   "metadata": {},
   "source": [
    "## Exercise 3\n",
    "\n",
    "Here are the combinations of possible phone numbers to be parsed. \n",
    "\n",
    "We should be able to get the area code 415, the trunk 867, and the rest of the phone number 5309. \n",
    "\n",
    "* 415-867-5309\n",
    "* 415 657 5039\n",
    "* 415.567.5467\n",
    "\n",
    "Use findall to get the required data."
   ]
  },
  {
   "cell_type": "code",
   "execution_count": 59,
   "id": "181bf83d",
   "metadata": {
    "ExecuteTime": {
     "end_time": "2023-06-06T13:48:00.790729Z",
     "start_time": "2023-06-06T13:48:00.787335Z"
    }
   },
   "outputs": [],
   "source": [
    "def phone_parser(numbers):\n",
    "    '''\n",
    "    Uses python regex to parse phone numbers to area code, trunk and phone number\n",
    "    '''\n",
    "    for i,v in enumerate(list_num):\n",
    "        print(f\"Parsing number {v} from index {i}...\")\n",
    "        match = re.search(r'(\\d{2,4})\\W?(\\d{2,4})\\W?(\\d{2,4})',v)\n",
    "        if match:\n",
    "            print(f\"Area: {match.group(1)}\")\n",
    "            print(f\"Trunk: {match.group(2)}\")\n",
    "            print(f\"Phone: {match.group(3)}\")\n",
    "        else:\n",
    "            print(\"No match\")"
   ]
  },
  {
   "cell_type": "code",
   "execution_count": 61,
   "id": "9631485c",
   "metadata": {
    "ExecuteTime": {
     "end_time": "2023-06-06T13:48:21.023650Z",
     "start_time": "2023-06-06T13:48:21.020901Z"
    }
   },
   "outputs": [
    {
     "name": "stdout",
     "output_type": "stream",
     "text": [
      "Parsing number 4154-867-530 from index 0...\n",
      "Area: 4154\n",
      "Trunk: 867\n",
      "Phone: 530\n",
      "Parsing number 415 657 5039 from index 1...\n",
      "Area: 415\n",
      "Trunk: 657\n",
      "Phone: 5039\n",
      "Parsing number 415.567.5467 from index 2...\n",
      "Area: 415\n",
      "Trunk: 567\n",
      "Phone: 5467\n"
     ]
    }
   ],
   "source": [
    "list_num = ['4154-867-530','415 657 5039','415.567.5467']\n",
    "phone_parser(list_num)"
   ]
  },
  {
   "cell_type": "code",
   "execution_count": null,
   "id": "d7b1b4a5",
   "metadata": {},
   "outputs": [],
   "source": []
  },
  {
   "cell_type": "code",
   "execution_count": null,
   "id": "259141af",
   "metadata": {},
   "outputs": [],
   "source": []
  },
  {
   "cell_type": "code",
   "execution_count": null,
   "id": "550c2d5a",
   "metadata": {},
   "outputs": [],
   "source": []
  },
  {
   "cell_type": "code",
   "execution_count": null,
   "id": "3d5de79b",
   "metadata": {},
   "outputs": [],
   "source": []
  }
 ],
 "metadata": {
  "kernelspec": {
   "display_name": "python38",
   "language": "python",
   "name": "python38"
  },
  "language_info": {
   "codemirror_mode": {
    "name": "ipython",
    "version": 3
   },
   "file_extension": ".py",
   "mimetype": "text/x-python",
   "name": "python",
   "nbconvert_exporter": "python",
   "pygments_lexer": "ipython3",
   "version": "3.8.12"
  }
 },
 "nbformat": 4,
 "nbformat_minor": 5
}
