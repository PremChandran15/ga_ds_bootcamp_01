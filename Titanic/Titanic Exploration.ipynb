{
 "cells": [
  {
   "cell_type": "markdown",
   "id": "ac8ad759",
   "metadata": {},
   "source": [
    "### Titanic Survival Exploration with Decision Trees\n",
    "Lets predict whether a passenger will survive the Titanic incident"
   ]
  },
  {
   "cell_type": "code",
   "execution_count": 1,
   "id": "98f8b826",
   "metadata": {
    "ExecuteTime": {
     "end_time": "2023-06-20T11:55:27.990510Z",
     "start_time": "2023-06-20T11:55:26.643696Z"
    }
   },
   "outputs": [],
   "source": [
    "import numpy as np\n",
    "import pandas as pd\n",
    "import matplotlib.pyplot as plt\n",
    "%matplotlib inline"
   ]
  },
  {
   "cell_type": "code",
   "execution_count": 26,
   "id": "c1f68f9e",
   "metadata": {
    "ExecuteTime": {
     "end_time": "2023-06-20T13:20:35.253253Z",
     "start_time": "2023-06-20T13:20:35.233089Z"
    }
   },
   "outputs": [
    {
     "data": {
      "text/html": [
       "<div>\n",
       "<style scoped>\n",
       "    .dataframe tbody tr th:only-of-type {\n",
       "        vertical-align: middle;\n",
       "    }\n",
       "\n",
       "    .dataframe tbody tr th {\n",
       "        vertical-align: top;\n",
       "    }\n",
       "\n",
       "    .dataframe thead th {\n",
       "        text-align: right;\n",
       "    }\n",
       "</style>\n",
       "<table border=\"1\" class=\"dataframe\">\n",
       "  <thead>\n",
       "    <tr style=\"text-align: right;\">\n",
       "      <th></th>\n",
       "      <th>PassengerId</th>\n",
       "      <th>Survived</th>\n",
       "      <th>Pclass</th>\n",
       "      <th>Name</th>\n",
       "      <th>Sex</th>\n",
       "      <th>Age</th>\n",
       "      <th>SibSp</th>\n",
       "      <th>Parch</th>\n",
       "      <th>Ticket</th>\n",
       "      <th>Fare</th>\n",
       "      <th>Cabin</th>\n",
       "      <th>Embarked</th>\n",
       "    </tr>\n",
       "  </thead>\n",
       "  <tbody>\n",
       "    <tr>\n",
       "      <th>0</th>\n",
       "      <td>1</td>\n",
       "      <td>0</td>\n",
       "      <td>3</td>\n",
       "      <td>Braund, Mr. Owen Harris</td>\n",
       "      <td>male</td>\n",
       "      <td>22.0</td>\n",
       "      <td>1</td>\n",
       "      <td>0</td>\n",
       "      <td>A/5 21171</td>\n",
       "      <td>7.2500</td>\n",
       "      <td>NaN</td>\n",
       "      <td>S</td>\n",
       "    </tr>\n",
       "    <tr>\n",
       "      <th>1</th>\n",
       "      <td>2</td>\n",
       "      <td>1</td>\n",
       "      <td>1</td>\n",
       "      <td>Cumings, Mrs. John Bradley (Florence Briggs Th...</td>\n",
       "      <td>female</td>\n",
       "      <td>38.0</td>\n",
       "      <td>1</td>\n",
       "      <td>0</td>\n",
       "      <td>PC 17599</td>\n",
       "      <td>71.2833</td>\n",
       "      <td>C85</td>\n",
       "      <td>C</td>\n",
       "    </tr>\n",
       "    <tr>\n",
       "      <th>2</th>\n",
       "      <td>3</td>\n",
       "      <td>1</td>\n",
       "      <td>3</td>\n",
       "      <td>Heikkinen, Miss. Laina</td>\n",
       "      <td>female</td>\n",
       "      <td>26.0</td>\n",
       "      <td>0</td>\n",
       "      <td>0</td>\n",
       "      <td>STON/O2. 3101282</td>\n",
       "      <td>7.9250</td>\n",
       "      <td>NaN</td>\n",
       "      <td>S</td>\n",
       "    </tr>\n",
       "    <tr>\n",
       "      <th>3</th>\n",
       "      <td>4</td>\n",
       "      <td>1</td>\n",
       "      <td>1</td>\n",
       "      <td>Futrelle, Mrs. Jacques Heath (Lily May Peel)</td>\n",
       "      <td>female</td>\n",
       "      <td>35.0</td>\n",
       "      <td>1</td>\n",
       "      <td>0</td>\n",
       "      <td>113803</td>\n",
       "      <td>53.1000</td>\n",
       "      <td>C123</td>\n",
       "      <td>S</td>\n",
       "    </tr>\n",
       "    <tr>\n",
       "      <th>4</th>\n",
       "      <td>5</td>\n",
       "      <td>0</td>\n",
       "      <td>3</td>\n",
       "      <td>Allen, Mr. William Henry</td>\n",
       "      <td>male</td>\n",
       "      <td>35.0</td>\n",
       "      <td>0</td>\n",
       "      <td>0</td>\n",
       "      <td>373450</td>\n",
       "      <td>8.0500</td>\n",
       "      <td>NaN</td>\n",
       "      <td>S</td>\n",
       "    </tr>\n",
       "  </tbody>\n",
       "</table>\n",
       "</div>"
      ],
      "text/plain": [
       "   PassengerId  Survived  Pclass  \\\n",
       "0            1         0       3   \n",
       "1            2         1       1   \n",
       "2            3         1       3   \n",
       "3            4         1       1   \n",
       "4            5         0       3   \n",
       "\n",
       "                                                Name     Sex   Age  SibSp  \\\n",
       "0                            Braund, Mr. Owen Harris    male  22.0      1   \n",
       "1  Cumings, Mrs. John Bradley (Florence Briggs Th...  female  38.0      1   \n",
       "2                             Heikkinen, Miss. Laina  female  26.0      0   \n",
       "3       Futrelle, Mrs. Jacques Heath (Lily May Peel)  female  35.0      1   \n",
       "4                           Allen, Mr. William Henry    male  35.0      0   \n",
       "\n",
       "   Parch            Ticket     Fare Cabin Embarked  \n",
       "0      0         A/5 21171   7.2500   NaN        S  \n",
       "1      0          PC 17599  71.2833   C85        C  \n",
       "2      0  STON/O2. 3101282   7.9250   NaN        S  \n",
       "3      0            113803  53.1000  C123        S  \n",
       "4      0            373450   8.0500   NaN        S  "
      ]
     },
     "execution_count": 26,
     "metadata": {},
     "output_type": "execute_result"
    }
   ],
   "source": [
    "df = pd.read_csv('titanic_data.csv')\n",
    "df.head()"
   ]
  },
  {
   "cell_type": "code",
   "execution_count": 3,
   "id": "7de73646",
   "metadata": {
    "ExecuteTime": {
     "end_time": "2023-06-20T11:59:00.951913Z",
     "start_time": "2023-06-20T11:59:00.939639Z"
    }
   },
   "outputs": [
    {
     "name": "stdout",
     "output_type": "stream",
     "text": [
      "<class 'pandas.core.frame.DataFrame'>\n",
      "RangeIndex: 891 entries, 0 to 890\n",
      "Data columns (total 12 columns):\n",
      " #   Column       Non-Null Count  Dtype  \n",
      "---  ------       --------------  -----  \n",
      " 0   PassengerId  891 non-null    int64  \n",
      " 1   Survived     891 non-null    int64  \n",
      " 2   Pclass       891 non-null    int64  \n",
      " 3   Name         891 non-null    object \n",
      " 4   Sex          891 non-null    object \n",
      " 5   Age          714 non-null    float64\n",
      " 6   SibSp        891 non-null    int64  \n",
      " 7   Parch        891 non-null    int64  \n",
      " 8   Ticket       891 non-null    object \n",
      " 9   Fare         891 non-null    float64\n",
      " 10  Cabin        204 non-null    object \n",
      " 11  Embarked     889 non-null    object \n",
      "dtypes: float64(2), int64(5), object(5)\n",
      "memory usage: 83.7+ KB\n"
     ]
    }
   ],
   "source": [
    "df.info()"
   ]
  },
  {
   "cell_type": "markdown",
   "id": "dc4f046a",
   "metadata": {},
   "source": [
    "**Survived**: target class, outcome of survival (0= No, 1= Yes)<br>\n",
    "**Pclass**: Passenger class (1 = Upper class, 2 = Middle Class, 3 = Economy)<br>\n",
    "**Name**: Name of passenger<br>\n",
    "**PassengerId**: Id of passenger from 1-N number of rows<br>\n",
    "**Sex**: The gender<br>\n",
    "**Age**: Age of passenger (should be an integer), but here is a float because of some NaN values<br>\n",
    "**SibSp**: Number of siblings and spouses of the passengers aboard<br>\n",
    "**Parch**: Number of parents and children of the passengers<br>\n",
    "**Ticket**: Ticket number of the passenger<br>\n",
    "**Fare**: Fare paid by the passenger<br>\n",
    "**Cabin**: Cabin number of the passenger (Some has NaN) values<br>\n",
    "**Embarked**: Port of embarkation of passenger, C, Q, S<br>"
   ]
  },
  {
   "cell_type": "code",
   "execution_count": 27,
   "id": "5bbdd94d",
   "metadata": {
    "ExecuteTime": {
     "end_time": "2023-06-20T13:21:10.905262Z",
     "start_time": "2023-06-20T13:21:10.893106Z"
    }
   },
   "outputs": [
    {
     "data": {
      "text/html": [
       "<div>\n",
       "<style scoped>\n",
       "    .dataframe tbody tr th:only-of-type {\n",
       "        vertical-align: middle;\n",
       "    }\n",
       "\n",
       "    .dataframe tbody tr th {\n",
       "        vertical-align: top;\n",
       "    }\n",
       "\n",
       "    .dataframe thead th {\n",
       "        text-align: right;\n",
       "    }\n",
       "</style>\n",
       "<table border=\"1\" class=\"dataframe\">\n",
       "  <thead>\n",
       "    <tr style=\"text-align: right;\">\n",
       "      <th></th>\n",
       "      <th>PassengerId</th>\n",
       "      <th>Survived</th>\n",
       "      <th>Pclass</th>\n",
       "      <th>Name</th>\n",
       "      <th>Sex</th>\n",
       "      <th>Age</th>\n",
       "      <th>SibSp</th>\n",
       "      <th>Parch</th>\n",
       "      <th>Ticket</th>\n",
       "      <th>Fare</th>\n",
       "      <th>Cabin</th>\n",
       "      <th>Embarked</th>\n",
       "    </tr>\n",
       "  </thead>\n",
       "  <tbody>\n",
       "    <tr>\n",
       "      <th>0</th>\n",
       "      <td>1</td>\n",
       "      <td>0</td>\n",
       "      <td>3</td>\n",
       "      <td>Braund, Mr. Owen Harris</td>\n",
       "      <td>male</td>\n",
       "      <td>22.0</td>\n",
       "      <td>1</td>\n",
       "      <td>0</td>\n",
       "      <td>A/5 21171</td>\n",
       "      <td>7.2500</td>\n",
       "      <td>NaN</td>\n",
       "      <td>S</td>\n",
       "    </tr>\n",
       "    <tr>\n",
       "      <th>1</th>\n",
       "      <td>2</td>\n",
       "      <td>1</td>\n",
       "      <td>1</td>\n",
       "      <td>Cumings, Mrs. John Bradley (Florence Briggs Th...</td>\n",
       "      <td>female</td>\n",
       "      <td>38.0</td>\n",
       "      <td>1</td>\n",
       "      <td>0</td>\n",
       "      <td>PC 17599</td>\n",
       "      <td>71.2833</td>\n",
       "      <td>C85</td>\n",
       "      <td>C</td>\n",
       "    </tr>\n",
       "    <tr>\n",
       "      <th>2</th>\n",
       "      <td>3</td>\n",
       "      <td>1</td>\n",
       "      <td>3</td>\n",
       "      <td>Heikkinen, Miss. Laina</td>\n",
       "      <td>female</td>\n",
       "      <td>26.0</td>\n",
       "      <td>0</td>\n",
       "      <td>0</td>\n",
       "      <td>STON/O2. 3101282</td>\n",
       "      <td>7.9250</td>\n",
       "      <td>NaN</td>\n",
       "      <td>S</td>\n",
       "    </tr>\n",
       "    <tr>\n",
       "      <th>3</th>\n",
       "      <td>4</td>\n",
       "      <td>1</td>\n",
       "      <td>1</td>\n",
       "      <td>Futrelle, Mrs. Jacques Heath (Lily May Peel)</td>\n",
       "      <td>female</td>\n",
       "      <td>35.0</td>\n",
       "      <td>1</td>\n",
       "      <td>0</td>\n",
       "      <td>113803</td>\n",
       "      <td>53.1000</td>\n",
       "      <td>C123</td>\n",
       "      <td>S</td>\n",
       "    </tr>\n",
       "    <tr>\n",
       "      <th>4</th>\n",
       "      <td>5</td>\n",
       "      <td>0</td>\n",
       "      <td>3</td>\n",
       "      <td>Allen, Mr. William Henry</td>\n",
       "      <td>male</td>\n",
       "      <td>35.0</td>\n",
       "      <td>0</td>\n",
       "      <td>0</td>\n",
       "      <td>373450</td>\n",
       "      <td>8.0500</td>\n",
       "      <td>NaN</td>\n",
       "      <td>S</td>\n",
       "    </tr>\n",
       "  </tbody>\n",
       "</table>\n",
       "</div>"
      ],
      "text/plain": [
       "   PassengerId  Survived  Pclass  \\\n",
       "0            1         0       3   \n",
       "1            2         1       1   \n",
       "2            3         1       3   \n",
       "3            4         1       1   \n",
       "4            5         0       3   \n",
       "\n",
       "                                                Name     Sex   Age  SibSp  \\\n",
       "0                            Braund, Mr. Owen Harris    male  22.0      1   \n",
       "1  Cumings, Mrs. John Bradley (Florence Briggs Th...  female  38.0      1   \n",
       "2                             Heikkinen, Miss. Laina  female  26.0      0   \n",
       "3       Futrelle, Mrs. Jacques Heath (Lily May Peel)  female  35.0      1   \n",
       "4                           Allen, Mr. William Henry    male  35.0      0   \n",
       "\n",
       "   Parch            Ticket     Fare Cabin Embarked  \n",
       "0      0         A/5 21171   7.2500   NaN        S  \n",
       "1      0          PC 17599  71.2833   C85        C  \n",
       "2      0  STON/O2. 3101282   7.9250   NaN        S  \n",
       "3      0            113803  53.1000  C123        S  \n",
       "4      0            373450   8.0500   NaN        S  "
      ]
     },
     "execution_count": 27,
     "metadata": {},
     "output_type": "execute_result"
    }
   ],
   "source": [
    "df.head()"
   ]
  },
  {
   "cell_type": "markdown",
   "id": "c8d4f05e",
   "metadata": {},
   "source": [
    "### Data preprocessing\n",
    "Steps:\n",
    "1. Check for missing values\n",
    "2. Check for anomalies\n",
    "3. Check for data types => make sure that they are equal in the entire column\n",
    "4. Drop irrelevant columns by qualitative analysis\n",
    "5. Check correlation\n",
    "6. Convert categorical columns to numeric\n",
    "7. Drop further columns if needed\n",
    "8. Feature importance /selection"
   ]
  },
  {
   "cell_type": "code",
   "execution_count": 28,
   "id": "527f8241",
   "metadata": {
    "ExecuteTime": {
     "end_time": "2023-06-20T13:21:18.243123Z",
     "start_time": "2023-06-20T13:21:18.239534Z"
    }
   },
   "outputs": [],
   "source": [
    "# drop columns that are irrelevant => based on qualitative analysis\n",
    "# passengerid, name, ticket : these columns do not influence survival\n",
    "# Cabin: dropping because there is a very low number of non-null values\n",
    "df = df.drop(['PassengerId', 'Name', 'Ticket', 'Cabin'], axis = 1)"
   ]
  },
  {
   "cell_type": "code",
   "execution_count": 29,
   "id": "2c0512ce",
   "metadata": {
    "ExecuteTime": {
     "end_time": "2023-06-20T13:21:22.365703Z",
     "start_time": "2023-06-20T13:21:22.356283Z"
    }
   },
   "outputs": [
    {
     "data": {
      "text/html": [
       "<div>\n",
       "<style scoped>\n",
       "    .dataframe tbody tr th:only-of-type {\n",
       "        vertical-align: middle;\n",
       "    }\n",
       "\n",
       "    .dataframe tbody tr th {\n",
       "        vertical-align: top;\n",
       "    }\n",
       "\n",
       "    .dataframe thead th {\n",
       "        text-align: right;\n",
       "    }\n",
       "</style>\n",
       "<table border=\"1\" class=\"dataframe\">\n",
       "  <thead>\n",
       "    <tr style=\"text-align: right;\">\n",
       "      <th></th>\n",
       "      <th>Survived</th>\n",
       "      <th>Pclass</th>\n",
       "      <th>Sex</th>\n",
       "      <th>Age</th>\n",
       "      <th>SibSp</th>\n",
       "      <th>Parch</th>\n",
       "      <th>Fare</th>\n",
       "      <th>Embarked</th>\n",
       "    </tr>\n",
       "  </thead>\n",
       "  <tbody>\n",
       "    <tr>\n",
       "      <th>0</th>\n",
       "      <td>0</td>\n",
       "      <td>3</td>\n",
       "      <td>male</td>\n",
       "      <td>22.0</td>\n",
       "      <td>1</td>\n",
       "      <td>0</td>\n",
       "      <td>7.2500</td>\n",
       "      <td>S</td>\n",
       "    </tr>\n",
       "    <tr>\n",
       "      <th>1</th>\n",
       "      <td>1</td>\n",
       "      <td>1</td>\n",
       "      <td>female</td>\n",
       "      <td>38.0</td>\n",
       "      <td>1</td>\n",
       "      <td>0</td>\n",
       "      <td>71.2833</td>\n",
       "      <td>C</td>\n",
       "    </tr>\n",
       "    <tr>\n",
       "      <th>2</th>\n",
       "      <td>1</td>\n",
       "      <td>3</td>\n",
       "      <td>female</td>\n",
       "      <td>26.0</td>\n",
       "      <td>0</td>\n",
       "      <td>0</td>\n",
       "      <td>7.9250</td>\n",
       "      <td>S</td>\n",
       "    </tr>\n",
       "    <tr>\n",
       "      <th>3</th>\n",
       "      <td>1</td>\n",
       "      <td>1</td>\n",
       "      <td>female</td>\n",
       "      <td>35.0</td>\n",
       "      <td>1</td>\n",
       "      <td>0</td>\n",
       "      <td>53.1000</td>\n",
       "      <td>S</td>\n",
       "    </tr>\n",
       "    <tr>\n",
       "      <th>4</th>\n",
       "      <td>0</td>\n",
       "      <td>3</td>\n",
       "      <td>male</td>\n",
       "      <td>35.0</td>\n",
       "      <td>0</td>\n",
       "      <td>0</td>\n",
       "      <td>8.0500</td>\n",
       "      <td>S</td>\n",
       "    </tr>\n",
       "  </tbody>\n",
       "</table>\n",
       "</div>"
      ],
      "text/plain": [
       "   Survived  Pclass     Sex   Age  SibSp  Parch     Fare Embarked\n",
       "0         0       3    male  22.0      1      0   7.2500        S\n",
       "1         1       1  female  38.0      1      0  71.2833        C\n",
       "2         1       3  female  26.0      0      0   7.9250        S\n",
       "3         1       1  female  35.0      1      0  53.1000        S\n",
       "4         0       3    male  35.0      0      0   8.0500        S"
      ]
     },
     "execution_count": 29,
     "metadata": {},
     "output_type": "execute_result"
    }
   ],
   "source": [
    "df.head()"
   ]
  },
  {
   "cell_type": "code",
   "execution_count": 30,
   "id": "8cc0a1ea",
   "metadata": {
    "ExecuteTime": {
     "end_time": "2023-06-20T13:21:25.899644Z",
     "start_time": "2023-06-20T13:21:25.890718Z"
    }
   },
   "outputs": [
    {
     "name": "stdout",
     "output_type": "stream",
     "text": [
      "<class 'pandas.core.frame.DataFrame'>\n",
      "RangeIndex: 891 entries, 0 to 890\n",
      "Data columns (total 8 columns):\n",
      " #   Column    Non-Null Count  Dtype  \n",
      "---  ------    --------------  -----  \n",
      " 0   Survived  891 non-null    int64  \n",
      " 1   Pclass    891 non-null    int64  \n",
      " 2   Sex       891 non-null    object \n",
      " 3   Age       714 non-null    float64\n",
      " 4   SibSp     891 non-null    int64  \n",
      " 5   Parch     891 non-null    int64  \n",
      " 6   Fare      891 non-null    float64\n",
      " 7   Embarked  889 non-null    object \n",
      "dtypes: float64(2), int64(4), object(2)\n",
      "memory usage: 55.8+ KB\n"
     ]
    }
   ],
   "source": [
    "df.info()"
   ]
  },
  {
   "cell_type": "markdown",
   "id": "549be7c1",
   "metadata": {},
   "source": [
    "#### Data Imputation = filling missing values\n",
    "1. Fill in with mean, median values\n",
    "2. Fill in with previous value\n",
    "3. Predict the value using a regression method\n",
    "\n",
    "**Otherwise, to deal with missing values: just drop the whole rows which you think are irrelevant**"
   ]
  },
  {
   "cell_type": "code",
   "execution_count": 31,
   "id": "919e1a83",
   "metadata": {
    "ExecuteTime": {
     "end_time": "2023-06-20T13:21:37.559771Z",
     "start_time": "2023-06-20T13:21:37.556281Z"
    }
   },
   "outputs": [],
   "source": [
    "df['Age'] = df['Age'].fillna(df['Age'].mean())"
   ]
  },
  {
   "cell_type": "code",
   "execution_count": 32,
   "id": "f8fbee18",
   "metadata": {
    "ExecuteTime": {
     "end_time": "2023-06-20T13:21:41.820753Z",
     "start_time": "2023-06-20T13:21:41.813547Z"
    }
   },
   "outputs": [
    {
     "name": "stdout",
     "output_type": "stream",
     "text": [
      "<class 'pandas.core.frame.DataFrame'>\n",
      "RangeIndex: 891 entries, 0 to 890\n",
      "Data columns (total 8 columns):\n",
      " #   Column    Non-Null Count  Dtype  \n",
      "---  ------    --------------  -----  \n",
      " 0   Survived  891 non-null    int64  \n",
      " 1   Pclass    891 non-null    int64  \n",
      " 2   Sex       891 non-null    object \n",
      " 3   Age       891 non-null    float64\n",
      " 4   SibSp     891 non-null    int64  \n",
      " 5   Parch     891 non-null    int64  \n",
      " 6   Fare      891 non-null    float64\n",
      " 7   Embarked  889 non-null    object \n",
      "dtypes: float64(2), int64(4), object(2)\n",
      "memory usage: 55.8+ KB\n"
     ]
    }
   ],
   "source": [
    "df.info()"
   ]
  },
  {
   "cell_type": "code",
   "execution_count": 33,
   "id": "bff63336",
   "metadata": {
    "ExecuteTime": {
     "end_time": "2023-06-20T13:21:46.721084Z",
     "start_time": "2023-06-20T13:21:46.715476Z"
    }
   },
   "outputs": [
    {
     "data": {
      "text/plain": [
       "Sex\n",
       "male      577\n",
       "female    314\n",
       "Name: count, dtype: int64"
      ]
     },
     "execution_count": 33,
     "metadata": {},
     "output_type": "execute_result"
    }
   ],
   "source": [
    "df['Sex'].value_counts()"
   ]
  },
  {
   "cell_type": "markdown",
   "id": "a470f42e",
   "metadata": {},
   "source": [
    "Easiest way to encode a binary variable / binary categorical variable, is by assigning 1 and 0 respectively"
   ]
  },
  {
   "cell_type": "code",
   "execution_count": 34,
   "id": "29eb3cde",
   "metadata": {
    "ExecuteTime": {
     "end_time": "2023-06-20T13:21:49.945946Z",
     "start_time": "2023-06-20T13:21:49.940860Z"
    }
   },
   "outputs": [
    {
     "data": {
      "text/plain": [
       "Embarked\n",
       "S    644\n",
       "C    168\n",
       "Q     77\n",
       "Name: count, dtype: int64"
      ]
     },
     "execution_count": 34,
     "metadata": {},
     "output_type": "execute_result"
    }
   ],
   "source": [
    "df['Embarked'].value_counts()"
   ]
  },
  {
   "cell_type": "markdown",
   "id": "cbd8f00c",
   "metadata": {},
   "source": [
    "Few ways to encode:\n",
    "**By using a ordinal encoder**\n",
    "S: 0, C: 1, Q: 2\n",
    "\n",
    "**By using one hot encoder**\n",
    "S: 00, C: 01, Q: 10"
   ]
  },
  {
   "cell_type": "code",
   "execution_count": 35,
   "id": "fd5f033e",
   "metadata": {
    "ExecuteTime": {
     "end_time": "2023-06-20T13:21:55.618253Z",
     "start_time": "2023-06-20T13:21:55.614552Z"
    }
   },
   "outputs": [],
   "source": [
    "#METHOD 1\n",
    "df['Sex'] = df['Sex'].apply(lambda x: 0 if x == 'male' else 1)"
   ]
  },
  {
   "cell_type": "code",
   "execution_count": 36,
   "id": "f54e3e58",
   "metadata": {
    "ExecuteTime": {
     "end_time": "2023-06-20T13:21:58.761582Z",
     "start_time": "2023-06-20T13:21:58.756736Z"
    }
   },
   "outputs": [
    {
     "data": {
      "text/plain": [
       "Sex\n",
       "0    577\n",
       "1    314\n",
       "Name: count, dtype: int64"
      ]
     },
     "execution_count": 36,
     "metadata": {},
     "output_type": "execute_result"
    }
   ],
   "source": [
    "df['Sex'].value_counts()"
   ]
  },
  {
   "cell_type": "code",
   "execution_count": 18,
   "id": "3d8373e4",
   "metadata": {
    "ExecuteTime": {
     "end_time": "2023-06-20T13:10:09.326757Z",
     "start_time": "2023-06-20T13:10:09.323192Z"
    }
   },
   "outputs": [],
   "source": [
    "#METHOD 2\n",
    "from sklearn.preprocessing import OrdinalEncoder"
   ]
  },
  {
   "cell_type": "code",
   "execution_count": 37,
   "id": "899313bc",
   "metadata": {
    "ExecuteTime": {
     "end_time": "2023-06-20T13:22:07.981632Z",
     "start_time": "2023-06-20T13:22:07.977354Z"
    }
   },
   "outputs": [],
   "source": [
    "oe = OrdinalEncoder()\n",
    "df[['Embarked']] = oe.fit_transform(df[['Embarked']])"
   ]
  },
  {
   "cell_type": "code",
   "execution_count": 38,
   "id": "2dcf6fac",
   "metadata": {
    "ExecuteTime": {
     "end_time": "2023-06-20T13:22:11.412933Z",
     "start_time": "2023-06-20T13:22:11.407579Z"
    }
   },
   "outputs": [
    {
     "data": {
      "text/plain": [
       "Embarked\n",
       "2.0    644\n",
       "0.0    168\n",
       "1.0     77\n",
       "Name: count, dtype: int64"
      ]
     },
     "execution_count": 38,
     "metadata": {},
     "output_type": "execute_result"
    }
   ],
   "source": [
    "df['Embarked'].value_counts()"
   ]
  },
  {
   "cell_type": "markdown",
   "id": "875f6bbc",
   "metadata": {},
   "source": [
    "#### Data imputation for categorical values\n",
    "1. Fill in with most occuring value => highest count in value_counts\n",
    "2. Run predictions to fill in the missing values\n",
    "3. drop the rows if the number of missing values are not high"
   ]
  },
  {
   "cell_type": "code",
   "execution_count": 39,
   "id": "bbc5be6b",
   "metadata": {
    "ExecuteTime": {
     "end_time": "2023-06-20T13:22:14.909162Z",
     "start_time": "2023-06-20T13:22:14.901760Z"
    }
   },
   "outputs": [
    {
     "name": "stdout",
     "output_type": "stream",
     "text": [
      "<class 'pandas.core.frame.DataFrame'>\n",
      "RangeIndex: 891 entries, 0 to 890\n",
      "Data columns (total 8 columns):\n",
      " #   Column    Non-Null Count  Dtype  \n",
      "---  ------    --------------  -----  \n",
      " 0   Survived  891 non-null    int64  \n",
      " 1   Pclass    891 non-null    int64  \n",
      " 2   Sex       891 non-null    int64  \n",
      " 3   Age       891 non-null    float64\n",
      " 4   SibSp     891 non-null    int64  \n",
      " 5   Parch     891 non-null    int64  \n",
      " 6   Fare      891 non-null    float64\n",
      " 7   Embarked  889 non-null    float64\n",
      "dtypes: float64(3), int64(5)\n",
      "memory usage: 55.8 KB\n"
     ]
    }
   ],
   "source": [
    "df.info()"
   ]
  },
  {
   "cell_type": "code",
   "execution_count": 40,
   "id": "dc3dcaee",
   "metadata": {
    "ExecuteTime": {
     "end_time": "2023-06-20T13:22:25.175683Z",
     "start_time": "2023-06-20T13:22:25.165207Z"
    }
   },
   "outputs": [
    {
     "name": "stdout",
     "output_type": "stream",
     "text": [
      "<class 'pandas.core.frame.DataFrame'>\n",
      "Index: 889 entries, 0 to 890\n",
      "Data columns (total 8 columns):\n",
      " #   Column    Non-Null Count  Dtype  \n",
      "---  ------    --------------  -----  \n",
      " 0   Survived  889 non-null    int64  \n",
      " 1   Pclass    889 non-null    int64  \n",
      " 2   Sex       889 non-null    int64  \n",
      " 3   Age       889 non-null    float64\n",
      " 4   SibSp     889 non-null    int64  \n",
      " 5   Parch     889 non-null    int64  \n",
      " 6   Fare      889 non-null    float64\n",
      " 7   Embarked  889 non-null    float64\n",
      "dtypes: float64(3), int64(5)\n",
      "memory usage: 62.5 KB\n"
     ]
    }
   ],
   "source": [
    "# Lets just drop the two rows which does not have values for Embarked\n",
    "df = df.dropna(subset='Embarked')\n",
    "df.info()"
   ]
  },
  {
   "cell_type": "code",
   "execution_count": 41,
   "id": "000d4d87",
   "metadata": {
    "ExecuteTime": {
     "end_time": "2023-06-20T13:22:38.794999Z",
     "start_time": "2023-06-20T13:22:38.791507Z"
    }
   },
   "outputs": [],
   "source": [
    "y = df['Survived']\n",
    "X = df.drop('Survived', axis=1)"
   ]
  },
  {
   "cell_type": "markdown",
   "id": "6760ef98",
   "metadata": {},
   "source": [
    "### Split data into train and test"
   ]
  },
  {
   "cell_type": "code",
   "execution_count": 24,
   "id": "a0e3d82c",
   "metadata": {
    "ExecuteTime": {
     "end_time": "2023-06-20T13:19:08.823535Z",
     "start_time": "2023-06-20T13:19:08.821049Z"
    }
   },
   "outputs": [],
   "source": [
    "from sklearn.model_selection import train_test_split"
   ]
  },
  {
   "cell_type": "code",
   "execution_count": 42,
   "id": "68699061",
   "metadata": {
    "ExecuteTime": {
     "end_time": "2023-06-20T13:22:57.159812Z",
     "start_time": "2023-06-20T13:22:57.152460Z"
    }
   },
   "outputs": [],
   "source": [
    "X_train, X_test, y_train, y_test = train_test_split(X,y, test_size= 0.2, random_state=42)"
   ]
  },
  {
   "cell_type": "code",
   "execution_count": 43,
   "id": "e274a2d6",
   "metadata": {
    "ExecuteTime": {
     "end_time": "2023-06-20T13:24:21.912899Z",
     "start_time": "2023-06-20T13:24:21.901204Z"
    }
   },
   "outputs": [
    {
     "data": {
      "text/plain": [
       "DecisionTreeClassifier()"
      ]
     },
     "execution_count": 43,
     "metadata": {},
     "output_type": "execute_result"
    }
   ],
   "source": [
    "# import decision tree classifier\n",
    "from sklearn.tree import DecisionTreeClassifier\n",
    "\n",
    "dt = DecisionTreeClassifier()\n",
    "dt.fit(X_train,y_train)"
   ]
  },
  {
   "cell_type": "code",
   "execution_count": 44,
   "id": "0da43b84",
   "metadata": {
    "ExecuteTime": {
     "end_time": "2023-06-20T13:27:14.394454Z",
     "start_time": "2023-06-20T13:27:03.008949Z"
    }
   },
   "outputs": [
    {
     "data": {
      "text/plain": [
       "[Text(0.5863330157866086, 0.9761904761904762, 'X[1] <= 0.5\\ngini = 0.472\\nsamples = 711\\nvalue = [440, 271]'),\n",
       " Text(0.33665623298856834, 0.9285714285714286, 'X[5] <= 26.269\\ngini = 0.316\\nsamples = 472\\nvalue = [379, 93]'),\n",
       " Text(0.12370713119216113, 0.8809523809523809, 'X[2] <= 13.5\\ngini = 0.232\\nsamples = 336\\nvalue = [291, 45]'),\n",
       " Text(0.03483941208492107, 0.8333333333333334, 'X[3] <= 2.0\\ngini = 0.26\\nsamples = 13\\nvalue = [2, 11]'),\n",
       " Text(0.0261295590636908, 0.7857142857142857, 'X[4] <= 0.5\\ngini = 0.153\\nsamples = 12\\nvalue = [1, 11]'),\n",
       " Text(0.017419706042460535, 0.7380952380952381, 'X[2] <= 11.5\\ngini = 0.5\\nsamples = 2\\nvalue = [1, 1]'),\n",
       " Text(0.008709853021230268, 0.6904761904761905, 'gini = 0.0\\nsamples = 1\\nvalue = [1, 0]'),\n",
       " Text(0.0261295590636908, 0.6904761904761905, 'gini = 0.0\\nsamples = 1\\nvalue = [0, 1]'),\n",
       " Text(0.03483941208492107, 0.7380952380952381, 'gini = 0.0\\nsamples = 10\\nvalue = [0, 10]'),\n",
       " Text(0.043549265106151334, 0.7857142857142857, 'gini = 0.0\\nsamples = 1\\nvalue = [1, 0]'),\n",
       " Text(0.2125748502994012, 0.8333333333333334, 'X[6] <= 0.5\\ngini = 0.188\\nsamples = 323\\nvalue = [289, 34]'),\n",
       " Text(0.06967882416984214, 0.7857142857142857, 'X[5] <= 15.148\\ngini = 0.332\\nsamples = 38\\nvalue = [30, 8]'),\n",
       " Text(0.0522591181273816, 0.7380952380952381, 'X[5] <= 7.227\\ngini = 0.219\\nsamples = 32\\nvalue = [28, 4]'),\n",
       " Text(0.043549265106151334, 0.6904761904761905, 'gini = 0.0\\nsamples = 10\\nvalue = [10, 0]'),\n",
       " Text(0.06096897114861187, 0.6904761904761905, 'X[2] <= 21.0\\ngini = 0.298\\nsamples = 22\\nvalue = [18, 4]'),\n",
       " Text(0.043549265106151334, 0.6428571428571429, 'X[2] <= 17.5\\ngini = 0.5\\nsamples = 2\\nvalue = [1, 1]'),\n",
       " Text(0.03483941208492107, 0.5952380952380952, 'gini = 0.0\\nsamples = 1\\nvalue = [1, 0]'),\n",
       " Text(0.0522591181273816, 0.5952380952380952, 'gini = 0.0\\nsamples = 1\\nvalue = [0, 1]'),\n",
       " Text(0.0783886771910724, 0.6428571428571429, 'X[2] <= 28.75\\ngini = 0.255\\nsamples = 20\\nvalue = [17, 3]'),\n",
       " Text(0.06967882416984214, 0.5952380952380952, 'gini = 0.0\\nsamples = 5\\nvalue = [5, 0]'),\n",
       " Text(0.08709853021230267, 0.5952380952380952, 'X[2] <= 29.35\\ngini = 0.32\\nsamples = 15\\nvalue = [12, 3]'),\n",
       " Text(0.0783886771910724, 0.5476190476190477, 'gini = 0.0\\nsamples = 1\\nvalue = [0, 1]'),\n",
       " Text(0.09580838323353294, 0.5476190476190477, 'X[0] <= 2.5\\ngini = 0.245\\nsamples = 14\\nvalue = [12, 2]'),\n",
       " Text(0.0783886771910724, 0.5, 'X[5] <= 14.456\\ngini = 0.5\\nsamples = 2\\nvalue = [1, 1]'),\n",
       " Text(0.06967882416984214, 0.4523809523809524, 'gini = 0.0\\nsamples = 1\\nvalue = [0, 1]'),\n",
       " Text(0.08709853021230267, 0.4523809523809524, 'gini = 0.0\\nsamples = 1\\nvalue = [1, 0]'),\n",
       " Text(0.11322808927599347, 0.5, 'X[5] <= 7.562\\ngini = 0.153\\nsamples = 12\\nvalue = [11, 1]'),\n",
       " Text(0.1045182362547632, 0.4523809523809524, 'X[2] <= 29.85\\ngini = 0.278\\nsamples = 6\\nvalue = [5, 1]'),\n",
       " Text(0.09580838323353294, 0.40476190476190477, 'gini = 0.32\\nsamples = 5\\nvalue = [4, 1]'),\n",
       " Text(0.11322808927599347, 0.40476190476190477, 'gini = 0.0\\nsamples = 1\\nvalue = [1, 0]'),\n",
       " Text(0.12193794229722374, 0.4523809523809524, 'gini = 0.0\\nsamples = 6\\nvalue = [6, 0]'),\n",
       " Text(0.08709853021230267, 0.7380952380952381, 'X[5] <= 20.233\\ngini = 0.444\\nsamples = 6\\nvalue = [2, 4]'),\n",
       " Text(0.0783886771910724, 0.6904761904761905, 'gini = 0.0\\nsamples = 4\\nvalue = [0, 4]'),\n",
       " Text(0.09580838323353294, 0.6904761904761905, 'gini = 0.0\\nsamples = 2\\nvalue = [2, 0]'),\n",
       " Text(0.35547087642896025, 0.7857142857142857, 'X[5] <= 13.25\\ngini = 0.166\\nsamples = 285\\nvalue = [259, 26]'),\n",
       " Text(0.26238432226456176, 0.7380952380952381, 'X[5] <= 7.91\\ngini = 0.188\\nsamples = 229\\nvalue = [205, 24]'),\n",
       " Text(0.18726183995645074, 0.6904761904761905, 'X[5] <= 7.865\\ngini = 0.123\\nsamples = 122\\nvalue = [114, 8]'),\n",
       " Text(0.17855198693522048, 0.6428571428571429, 'X[5] <= 7.746\\ngini = 0.159\\nsamples = 92\\nvalue = [84, 8]'),\n",
       " Text(0.14806750136091454, 0.5952380952380952, 'X[2] <= 27.0\\ngini = 0.071\\nsamples = 54\\nvalue = [52, 2]'),\n",
       " Text(0.13935764833968428, 0.5476190476190477, 'X[2] <= 23.0\\ngini = 0.208\\nsamples = 17\\nvalue = [15, 2]'),\n",
       " Text(0.130647795318454, 0.5, 'gini = 0.0\\nsamples = 12\\nvalue = [12, 0]'),\n",
       " Text(0.14806750136091454, 0.5, 'X[5] <= 7.396\\ngini = 0.48\\nsamples = 5\\nvalue = [3, 2]'),\n",
       " Text(0.13935764833968428, 0.4523809523809524, 'X[2] <= 24.5\\ngini = 0.444\\nsamples = 3\\nvalue = [1, 2]'),\n",
       " Text(0.130647795318454, 0.40476190476190477, 'gini = 0.0\\nsamples = 1\\nvalue = [0, 1]'),\n",
       " Text(0.14806750136091454, 0.40476190476190477, 'X[5] <= 3.525\\ngini = 0.5\\nsamples = 2\\nvalue = [1, 1]'),\n",
       " Text(0.13935764833968428, 0.35714285714285715, 'gini = 0.0\\nsamples = 1\\nvalue = [0, 1]'),\n",
       " Text(0.1567773543821448, 0.35714285714285715, 'gini = 0.0\\nsamples = 1\\nvalue = [1, 0]'),\n",
       " Text(0.1567773543821448, 0.4523809523809524, 'gini = 0.0\\nsamples = 2\\nvalue = [2, 0]'),\n",
       " Text(0.1567773543821448, 0.5476190476190477, 'gini = 0.0\\nsamples = 37\\nvalue = [37, 0]'),\n",
       " Text(0.2090364725095264, 0.5952380952380952, 'X[2] <= 26.5\\ngini = 0.266\\nsamples = 38\\nvalue = [32, 6]'),\n",
       " Text(0.19161676646706588, 0.5476190476190477, 'X[2] <= 20.5\\ngini = 0.117\\nsamples = 16\\nvalue = [15, 1]'),\n",
       " Text(0.1829069134458356, 0.5, 'gini = 0.0\\nsamples = 7\\nvalue = [7, 0]'),\n",
       " Text(0.20032661948829614, 0.5, 'X[2] <= 22.0\\ngini = 0.198\\nsamples = 9\\nvalue = [8, 1]'),\n",
       " Text(0.19161676646706588, 0.4523809523809524, 'X[5] <= 7.798\\ngini = 0.375\\nsamples = 4\\nvalue = [3, 1]'),\n",
       " Text(0.1829069134458356, 0.40476190476190477, 'X[5] <= 7.785\\ngini = 0.5\\nsamples = 2\\nvalue = [1, 1]'),\n",
       " Text(0.17419706042460534, 0.35714285714285715, 'gini = 0.0\\nsamples = 1\\nvalue = [1, 0]'),\n",
       " Text(0.19161676646706588, 0.35714285714285715, 'gini = 0.0\\nsamples = 1\\nvalue = [0, 1]'),\n",
       " Text(0.20032661948829614, 0.40476190476190477, 'gini = 0.0\\nsamples = 2\\nvalue = [2, 0]'),\n",
       " Text(0.2090364725095264, 0.4523809523809524, 'gini = 0.0\\nsamples = 5\\nvalue = [5, 0]'),\n",
       " Text(0.22645617855198694, 0.5476190476190477, 'X[2] <= 27.5\\ngini = 0.351\\nsamples = 22\\nvalue = [17, 5]'),\n",
       " Text(0.21774632553075668, 0.5, 'gini = 0.0\\nsamples = 1\\nvalue = [0, 1]'),\n",
       " Text(0.2351660315732172, 0.5, 'X[5] <= 7.842\\ngini = 0.308\\nsamples = 21\\nvalue = [17, 4]'),\n",
       " Text(0.22645617855198694, 0.4523809523809524, 'X[2] <= 30.35\\ngini = 0.255\\nsamples = 20\\nvalue = [17, 3]'),\n",
       " Text(0.21774632553075668, 0.40476190476190477, 'X[5] <= 7.785\\ngini = 0.355\\nsamples = 13\\nvalue = [10, 3]'),\n",
       " Text(0.2090364725095264, 0.35714285714285715, 'X[2] <= 29.35\\ngini = 0.397\\nsamples = 11\\nvalue = [8, 3]'),\n",
       " Text(0.19161676646706588, 0.30952380952380953, 'X[6] <= 1.5\\ngini = 0.5\\nsamples = 2\\nvalue = [1, 1]'),\n",
       " Text(0.1829069134458356, 0.2619047619047619, 'gini = 0.0\\nsamples = 1\\nvalue = [0, 1]'),\n",
       " Text(0.20032661948829614, 0.2619047619047619, 'gini = 0.0\\nsamples = 1\\nvalue = [1, 0]'),\n",
       " Text(0.22645617855198694, 0.30952380952380953, 'X[5] <= 7.763\\ngini = 0.346\\nsamples = 9\\nvalue = [7, 2]'),\n",
       " Text(0.21774632553075668, 0.2619047619047619, 'gini = 0.219\\nsamples = 8\\nvalue = [7, 1]'),\n",
       " Text(0.2351660315732172, 0.2619047619047619, 'gini = 0.0\\nsamples = 1\\nvalue = [0, 1]'),\n",
       " Text(0.22645617855198694, 0.35714285714285715, 'gini = 0.0\\nsamples = 2\\nvalue = [2, 0]'),\n",
       " Text(0.2351660315732172, 0.40476190476190477, 'gini = 0.0\\nsamples = 7\\nvalue = [7, 0]'),\n",
       " Text(0.24387588459444748, 0.4523809523809524, 'gini = 0.0\\nsamples = 1\\nvalue = [0, 1]'),\n",
       " Text(0.195971692977681, 0.6428571428571429, 'gini = 0.0\\nsamples = 30\\nvalue = [30, 0]'),\n",
       " Text(0.33750680457267285, 0.6904761904761905, 'X[2] <= 16.5\\ngini = 0.254\\nsamples = 107\\nvalue = [91, 16]'),\n",
       " Text(0.32879695155144256, 0.6428571428571429, 'gini = 0.5\\nsamples = 2\\nvalue = [1, 1]'),\n",
       " Text(0.3462166575939031, 0.6428571428571429, 'X[2] <= 28.5\\ngini = 0.245\\nsamples = 105\\nvalue = [90, 15]'),\n",
       " Text(0.2961350027218291, 0.5952380952380952, 'X[2] <= 20.5\\ngini = 0.156\\nsamples = 47\\nvalue = [43, 4]'),\n",
       " Text(0.2874251497005988, 0.5476190476190477, 'X[5] <= 8.175\\ngini = 0.332\\nsamples = 19\\nvalue = [15, 4]'),\n",
       " Text(0.2700054436581383, 0.5, 'X[2] <= 18.5\\ngini = 0.5\\nsamples = 6\\nvalue = [3, 3]'),\n",
       " Text(0.261295590636908, 0.4523809523809524, 'gini = 0.0\\nsamples = 1\\nvalue = [0, 1]'),\n",
       " Text(0.27871529667936856, 0.4523809523809524, 'X[3] <= 0.5\\ngini = 0.48\\nsamples = 5\\nvalue = [3, 2]'),\n",
       " Text(0.2700054436581383, 0.40476190476190477, 'X[2] <= 19.5\\ngini = 0.375\\nsamples = 4\\nvalue = [3, 1]'),\n",
       " Text(0.261295590636908, 0.35714285714285715, 'gini = 0.5\\nsamples = 2\\nvalue = [1, 1]'),\n",
       " Text(0.27871529667936856, 0.35714285714285715, 'gini = 0.0\\nsamples = 2\\nvalue = [2, 0]'),\n",
       " Text(0.2874251497005988, 0.40476190476190477, 'gini = 0.0\\nsamples = 1\\nvalue = [0, 1]'),\n",
       " Text(0.30484485574305936, 0.5, 'X[5] <= 10.335\\ngini = 0.142\\nsamples = 13\\nvalue = [12, 1]'),\n",
       " Text(0.2961350027218291, 0.4523809523809524, 'gini = 0.0\\nsamples = 8\\nvalue = [8, 0]'),\n",
       " Text(0.3135547087642896, 0.4523809523809524, 'X[5] <= 11.0\\ngini = 0.32\\nsamples = 5\\nvalue = [4, 1]'),\n",
       " Text(0.30484485574305936, 0.40476190476190477, 'gini = 0.5\\nsamples = 2\\nvalue = [1, 1]'),\n",
       " Text(0.3222645617855199, 0.40476190476190477, 'gini = 0.0\\nsamples = 3\\nvalue = [3, 0]'),\n",
       " Text(0.30484485574305936, 0.5476190476190477, 'gini = 0.0\\nsamples = 28\\nvalue = [28, 0]'),\n",
       " Text(0.39629831246597713, 0.5952380952380952, 'X[2] <= 46.0\\ngini = 0.307\\nsamples = 58\\nvalue = [47, 11]'),\n",
       " Text(0.38758845944474685, 0.5476190476190477, 'X[2] <= 44.5\\ngini = 0.343\\nsamples = 50\\nvalue = [39, 11]'),\n",
       " Text(0.3788786064235166, 0.5, 'X[5] <= 12.637\\ngini = 0.325\\nsamples = 49\\nvalue = [39, 10]'),\n",
       " Text(0.35710397387044096, 0.4523809523809524, 'X[5] <= 7.988\\ngini = 0.266\\nsamples = 38\\nvalue = [32, 6]'),\n",
       " Text(0.3396842678279804, 0.40476190476190477, 'X[2] <= 38.0\\ngini = 0.48\\nsamples = 5\\nvalue = [3, 2]'),\n",
       " Text(0.33097441480675016, 0.35714285714285715, 'gini = 0.0\\nsamples = 3\\nvalue = [3, 0]'),\n",
       " Text(0.3483941208492107, 0.35714285714285715, 'gini = 0.0\\nsamples = 2\\nvalue = [0, 2]'),\n",
       " Text(0.3745236799129015, 0.40476190476190477, 'X[2] <= 32.5\\ngini = 0.213\\nsamples = 33\\nvalue = [29, 4]'),\n",
       " Text(0.3658138268916712, 0.35714285714285715, 'X[5] <= 8.081\\ngini = 0.308\\nsamples = 21\\nvalue = [17, 4]'),\n",
       " Text(0.3483941208492107, 0.30952380952380953, 'X[2] <= 31.25\\ngini = 0.142\\nsamples = 13\\nvalue = [12, 1]'),\n",
       " Text(0.3396842678279804, 0.2619047619047619, 'gini = 0.0\\nsamples = 12\\nvalue = [12, 0]'),\n",
       " Text(0.35710397387044096, 0.2619047619047619, 'gini = 0.0\\nsamples = 1\\nvalue = [0, 1]'),\n",
       " Text(0.38323353293413176, 0.30952380952380953, 'X[5] <= 10.0\\ngini = 0.469\\nsamples = 8\\nvalue = [5, 3]'),\n",
       " Text(0.3745236799129015, 0.2619047619047619, 'X[2] <= 29.35\\ngini = 0.48\\nsamples = 5\\nvalue = [2, 3]'),\n",
       " Text(0.3658138268916712, 0.21428571428571427, 'gini = 0.0\\nsamples = 1\\nvalue = [0, 1]'),\n",
       " Text(0.38323353293413176, 0.21428571428571427, 'X[2] <= 29.85\\ngini = 0.5\\nsamples = 4\\nvalue = [2, 2]'),\n",
       " Text(0.3745236799129015, 0.16666666666666666, 'X[5] <= 8.388\\ngini = 0.444\\nsamples = 3\\nvalue = [2, 1]'),\n",
       " Text(0.3658138268916712, 0.11904761904761904, 'gini = 0.0\\nsamples = 1\\nvalue = [0, 1]'),\n",
       " Text(0.38323353293413176, 0.11904761904761904, 'gini = 0.0\\nsamples = 2\\nvalue = [2, 0]'),\n",
       " Text(0.391943385955362, 0.16666666666666666, 'gini = 0.0\\nsamples = 1\\nvalue = [0, 1]'),\n",
       " Text(0.391943385955362, 0.2619047619047619, 'gini = 0.0\\nsamples = 3\\nvalue = [3, 0]'),\n",
       " Text(0.38323353293413176, 0.35714285714285715, 'gini = 0.0\\nsamples = 12\\nvalue = [12, 0]'),\n",
       " Text(0.4006532389765923, 0.4523809523809524, 'X[2] <= 29.85\\ngini = 0.463\\nsamples = 11\\nvalue = [7, 4]'),\n",
       " Text(0.391943385955362, 0.40476190476190477, 'gini = 0.0\\nsamples = 1\\nvalue = [0, 1]'),\n",
       " Text(0.40936309199782256, 0.40476190476190477, 'X[2] <= 30.5\\ngini = 0.42\\nsamples = 10\\nvalue = [7, 3]'),\n",
       " Text(0.4006532389765923, 0.35714285714285715, 'gini = 0.0\\nsamples = 2\\nvalue = [2, 0]'),\n",
       " Text(0.4180729450190528, 0.35714285714285715, 'X[2] <= 32.5\\ngini = 0.469\\nsamples = 8\\nvalue = [5, 3]'),\n",
       " Text(0.40936309199782256, 0.30952380952380953, 'gini = 0.0\\nsamples = 1\\nvalue = [0, 1]'),\n",
       " Text(0.4267827980402831, 0.30952380952380953, 'X[2] <= 35.0\\ngini = 0.408\\nsamples = 7\\nvalue = [5, 2]'),\n",
       " Text(0.4180729450190528, 0.2619047619047619, 'gini = 0.5\\nsamples = 2\\nvalue = [1, 1]'),\n",
       " Text(0.43549265106151336, 0.2619047619047619, 'X[2] <= 40.5\\ngini = 0.32\\nsamples = 5\\nvalue = [4, 1]'),\n",
       " Text(0.4267827980402831, 0.21428571428571427, 'gini = 0.0\\nsamples = 3\\nvalue = [3, 0]'),\n",
       " Text(0.4442025040827436, 0.21428571428571427, 'gini = 0.5\\nsamples = 2\\nvalue = [1, 1]'),\n",
       " Text(0.39629831246597713, 0.5, 'gini = 0.0\\nsamples = 1\\nvalue = [0, 1]'),\n",
       " Text(0.4050081654872074, 0.5476190476190477, 'gini = 0.0\\nsamples = 8\\nvalue = [8, 0]'),\n",
       " Text(0.44855743059335873, 0.7380952380952381, 'X[3] <= 1.5\\ngini = 0.069\\nsamples = 56\\nvalue = [54, 2]'),\n",
       " Text(0.4311377245508982, 0.6904761904761905, 'X[5] <= 25.962\\ngini = 0.038\\nsamples = 52\\nvalue = [51, 1]'),\n",
       " Text(0.42242787152966793, 0.6428571428571429, 'gini = 0.0\\nsamples = 38\\nvalue = [38, 0]'),\n",
       " Text(0.43984757757212845, 0.6428571428571429, 'X[2] <= 33.0\\ngini = 0.133\\nsamples = 14\\nvalue = [13, 1]'),\n",
       " Text(0.4311377245508982, 0.5952380952380952, 'X[2] <= 31.5\\ngini = 0.32\\nsamples = 5\\nvalue = [4, 1]'),\n",
       " Text(0.42242787152966793, 0.5476190476190477, 'gini = 0.0\\nsamples = 4\\nvalue = [4, 0]'),\n",
       " Text(0.43984757757212845, 0.5476190476190477, 'gini = 0.0\\nsamples = 1\\nvalue = [0, 1]'),\n",
       " Text(0.44855743059335873, 0.5952380952380952, 'gini = 0.0\\nsamples = 9\\nvalue = [9, 0]'),\n",
       " Text(0.46597713663581924, 0.6904761904761905, 'X[6] <= 1.5\\ngini = 0.375\\nsamples = 4\\nvalue = [3, 1]'),\n",
       " Text(0.457267283614589, 0.6428571428571429, 'gini = 0.0\\nsamples = 1\\nvalue = [0, 1]'),\n",
       " Text(0.47468698965704953, 0.6428571428571429, 'gini = 0.0\\nsamples = 3\\nvalue = [3, 0]'),\n",
       " Text(0.5496053347849755, 0.8809523809523809, 'X[3] <= 2.5\\ngini = 0.457\\nsamples = 136\\nvalue = [88, 48]'),\n",
       " Text(0.5234757757212847, 0.8333333333333334, 'X[2] <= 13.5\\ngini = 0.485\\nsamples = 114\\nvalue = [67, 47]'),\n",
       " Text(0.5147659227000544, 0.7857142857142857, 'gini = 0.0\\nsamples = 6\\nvalue = [0, 6]'),\n",
       " Text(0.532185628742515, 0.7857142857142857, 'X[5] <= 26.469\\ngini = 0.471\\nsamples = 108\\nvalue = [67, 41]'),\n",
       " Text(0.5234757757212847, 0.7380952380952381, 'gini = 0.0\\nsamples = 4\\nvalue = [0, 4]'),\n",
       " Text(0.5408954817637452, 0.7380952380952381, 'X[2] <= 24.5\\ngini = 0.458\\nsamples = 104\\nvalue = [67, 37]'),\n",
       " Text(0.5008165487207403, 0.6904761904761905, 'X[4] <= 1.5\\ngini = 0.142\\nsamples = 13\\nvalue = [12, 1]'),\n",
       " Text(0.49210669569951004, 0.6428571428571429, 'gini = 0.0\\nsamples = 11\\nvalue = [11, 0]'),\n",
       " Text(0.5095264017419706, 0.6428571428571429, 'X[6] <= 1.0\\ngini = 0.5\\nsamples = 2\\nvalue = [1, 1]'),\n",
       " Text(0.5008165487207403, 0.5952380952380952, 'gini = 0.0\\nsamples = 1\\nvalue = [0, 1]'),\n",
       " Text(0.5182362547632009, 0.5952380952380952, 'gini = 0.0\\nsamples = 1\\nvalue = [1, 0]'),\n",
       " Text(0.5809744148067502, 0.6904761904761905, 'X[2] <= 27.5\\ngini = 0.478\\nsamples = 91\\nvalue = [55, 36]'),\n",
       " Text(0.5443658138268916, 0.6428571428571429, 'X[4] <= 1.0\\ngini = 0.346\\nsamples = 9\\nvalue = [2, 7]'),\n",
       " Text(0.5356559608056614, 0.5952380952380952, 'gini = 0.0\\nsamples = 7\\nvalue = [0, 7]'),\n",
       " Text(0.5530756668481219, 0.5952380952380952, 'gini = 0.0\\nsamples = 2\\nvalue = [2, 0]'),\n",
       " Text(0.6175830157866086, 0.6428571428571429, 'X[0] <= 2.5\\ngini = 0.457\\nsamples = 82\\nvalue = [53, 29]'),\n",
       " Text(0.5704953728905825, 0.5952380952380952, 'X[2] <= 53.0\\ngini = 0.439\\nsamples = 77\\nvalue = [52, 25]'),\n",
       " Text(0.502449646162221, 0.5476190476190477, 'X[5] <= 26.775\\ngini = 0.471\\nsamples = 58\\nvalue = [36, 22]'),\n",
       " Text(0.4556341861731083, 0.5, 'X[2] <= 46.5\\ngini = 0.375\\nsamples = 8\\nvalue = [2, 6]'),\n",
       " Text(0.4469243331518781, 0.4523809523809524, 'X[6] <= 1.0\\ngini = 0.444\\nsamples = 6\\nvalue = [2, 4]'),\n",
       " Text(0.4382144801306478, 0.40476190476190477, 'gini = 0.0\\nsamples = 1\\nvalue = [0, 1]'),\n",
       " Text(0.4556341861731083, 0.40476190476190477, 'X[2] <= 28.85\\ngini = 0.48\\nsamples = 5\\nvalue = [2, 3]'),\n",
       " Text(0.4469243331518781, 0.35714285714285715, 'gini = 0.0\\nsamples = 1\\nvalue = [0, 1]'),\n",
       " Text(0.4643440391943386, 0.35714285714285715, 'X[2] <= 37.35\\ngini = 0.5\\nsamples = 4\\nvalue = [2, 2]'),\n",
       " Text(0.4556341861731083, 0.30952380952380953, 'gini = 0.5\\nsamples = 2\\nvalue = [1, 1]'),\n",
       " Text(0.47305389221556887, 0.30952380952380953, 'gini = 0.5\\nsamples = 2\\nvalue = [1, 1]'),\n",
       " Text(0.4643440391943386, 0.4523809523809524, 'gini = 0.0\\nsamples = 2\\nvalue = [0, 2]'),\n",
       " Text(0.5492651061513337, 0.5, 'X[2] <= 47.5\\ngini = 0.435\\nsamples = 50\\nvalue = [34, 16]'),\n",
       " Text(0.5296679368535656, 0.4523809523809524, 'X[2] <= 43.0\\ngini = 0.375\\nsamples = 40\\nvalue = [30, 10]'),\n",
       " Text(0.5209580838323353, 0.40476190476190477, 'X[0] <= 1.5\\ngini = 0.43\\nsamples = 32\\nvalue = [22, 10]'),\n",
       " Text(0.512248230811105, 0.35714285714285715, 'X[5] <= 30.598\\ngini = 0.466\\nsamples = 27\\nvalue = [17, 10]'),\n",
       " Text(0.4904735982580294, 0.30952380952380953, 'X[5] <= 29.85\\ngini = 0.444\\nsamples = 6\\nvalue = [2, 4]'),\n",
       " Text(0.4817637452367991, 0.2619047619047619, 'X[2] <= 29.85\\ngini = 0.444\\nsamples = 3\\nvalue = [2, 1]'),\n",
       " Text(0.47305389221556887, 0.21428571428571427, 'gini = 0.0\\nsamples = 1\\nvalue = [0, 1]'),\n",
       " Text(0.4904735982580294, 0.21428571428571427, 'gini = 0.0\\nsamples = 2\\nvalue = [2, 0]'),\n",
       " Text(0.49918345127925967, 0.2619047619047619, 'gini = 0.0\\nsamples = 3\\nvalue = [0, 3]'),\n",
       " Text(0.5340228633641807, 0.30952380952380953, 'X[2] <= 30.35\\ngini = 0.408\\nsamples = 21\\nvalue = [15, 6]'),\n",
       " Text(0.5166031573217202, 0.2619047619047619, 'X[5] <= 37.55\\ngini = 0.165\\nsamples = 11\\nvalue = [10, 1]'),\n",
       " Text(0.50789330430049, 0.21428571428571427, 'X[5] <= 35.25\\ngini = 0.375\\nsamples = 4\\nvalue = [3, 1]'),\n",
       " Text(0.49918345127925967, 0.16666666666666666, 'gini = 0.0\\nsamples = 3\\nvalue = [3, 0]'),\n",
       " Text(0.5166031573217202, 0.16666666666666666, 'gini = 0.0\\nsamples = 1\\nvalue = [0, 1]'),\n",
       " Text(0.5253130103429504, 0.21428571428571427, 'gini = 0.0\\nsamples = 7\\nvalue = [7, 0]'),\n",
       " Text(0.5514425694066413, 0.2619047619047619, 'X[5] <= 52.277\\ngini = 0.5\\nsamples = 10\\nvalue = [5, 5]'),\n",
       " Text(0.542732716385411, 0.21428571428571427, 'gini = 0.0\\nsamples = 3\\nvalue = [3, 0]'),\n",
       " Text(0.5601524224278716, 0.21428571428571427, 'X[5] <= 67.925\\ngini = 0.408\\nsamples = 7\\nvalue = [2, 5]'),\n",
       " Text(0.5514425694066413, 0.16666666666666666, 'gini = 0.0\\nsamples = 2\\nvalue = [0, 2]'),\n",
       " Text(0.5688622754491018, 0.16666666666666666, 'X[5] <= 84.425\\ngini = 0.48\\nsamples = 5\\nvalue = [2, 3]'),\n",
       " Text(0.5601524224278716, 0.11904761904761904, 'gini = 0.0\\nsamples = 1\\nvalue = [1, 0]'),\n",
       " Text(0.577572128470332, 0.11904761904761904, 'X[3] <= 0.5\\ngini = 0.375\\nsamples = 4\\nvalue = [1, 3]'),\n",
       " Text(0.5688622754491018, 0.07142857142857142, 'X[6] <= 1.0\\ngini = 0.5\\nsamples = 2\\nvalue = [1, 1]'),\n",
       " Text(0.5601524224278716, 0.023809523809523808, 'gini = 0.0\\nsamples = 1\\nvalue = [0, 1]'),\n",
       " Text(0.577572128470332, 0.023809523809523808, 'gini = 0.0\\nsamples = 1\\nvalue = [1, 0]'),\n",
       " Text(0.5862819814915623, 0.07142857142857142, 'gini = 0.0\\nsamples = 2\\nvalue = [0, 2]'),\n",
       " Text(0.5296679368535656, 0.35714285714285715, 'gini = 0.0\\nsamples = 5\\nvalue = [5, 0]'),\n",
       " Text(0.5383777898747959, 0.40476190476190477, 'gini = 0.0\\nsamples = 8\\nvalue = [8, 0]'),\n",
       " Text(0.5688622754491018, 0.4523809523809524, 'X[4] <= 0.5\\ngini = 0.48\\nsamples = 10\\nvalue = [4, 6]'),\n",
       " Text(0.5601524224278716, 0.40476190476190477, 'X[2] <= 49.5\\ngini = 0.245\\nsamples = 7\\nvalue = [1, 6]'),\n",
       " Text(0.5514425694066413, 0.35714285714285715, 'gini = 0.0\\nsamples = 4\\nvalue = [0, 4]'),\n",
       " Text(0.5688622754491018, 0.35714285714285715, 'X[5] <= 43.2\\ngini = 0.444\\nsamples = 3\\nvalue = [1, 2]'),\n",
       " Text(0.5601524224278716, 0.30952380952380953, 'gini = 0.0\\nsamples = 1\\nvalue = [0, 1]'),\n",
       " Text(0.577572128470332, 0.30952380952380953, 'X[5] <= 94.775\\ngini = 0.5\\nsamples = 2\\nvalue = [1, 1]'),\n",
       " Text(0.5688622754491018, 0.2619047619047619, 'gini = 0.0\\nsamples = 1\\nvalue = [1, 0]'),\n",
       " Text(0.5862819814915623, 0.2619047619047619, 'gini = 0.0\\nsamples = 1\\nvalue = [0, 1]'),\n",
       " Text(0.577572128470332, 0.40476190476190477, 'gini = 0.0\\nsamples = 3\\nvalue = [3, 0]'),\n",
       " Text(0.6385410996189439, 0.5476190476190477, 'X[2] <= 75.5\\ngini = 0.266\\nsamples = 19\\nvalue = [16, 3]'),\n",
       " Text(0.6298312465977136, 0.5, 'X[6] <= 1.0\\ngini = 0.198\\nsamples = 18\\nvalue = [16, 2]'),\n",
       " Text(0.6211213935764834, 0.4523809523809524, 'X[3] <= 0.5\\ngini = 0.408\\nsamples = 7\\nvalue = [5, 2]'),\n",
       " Text(0.6124115405552532, 0.40476190476190477, 'X[2] <= 57.0\\ngini = 0.278\\nsamples = 6\\nvalue = [5, 1]'),\n",
       " Text(0.6037016875340229, 0.35714285714285715, 'X[5] <= 33.098\\ngini = 0.5\\nsamples = 2\\nvalue = [1, 1]'),\n",
       " Text(0.5949918345127926, 0.30952380952380953, 'gini = 0.0\\nsamples = 1\\nvalue = [1, 0]'),\n",
       " Text(0.6124115405552532, 0.30952380952380953, 'gini = 0.0\\nsamples = 1\\nvalue = [0, 1]'),\n",
       " Text(0.6211213935764834, 0.35714285714285715, 'gini = 0.0\\nsamples = 4\\nvalue = [4, 0]'),\n",
       " Text(0.6298312465977136, 0.40476190476190477, 'gini = 0.0\\nsamples = 1\\nvalue = [0, 1]'),\n",
       " Text(0.6385410996189439, 0.4523809523809524, 'gini = 0.0\\nsamples = 11\\nvalue = [11, 0]'),\n",
       " Text(0.6472509526401742, 0.5, 'gini = 0.0\\nsamples = 1\\nvalue = [0, 1]'),\n",
       " Text(0.6646706586826348, 0.5952380952380952, 'X[2] <= 35.5\\ngini = 0.32\\nsamples = 5\\nvalue = [1, 4]'),\n",
       " Text(0.6559608056614045, 0.5476190476190477, 'gini = 0.0\\nsamples = 4\\nvalue = [0, 4]'),\n",
       " Text(0.673380511703865, 0.5476190476190477, 'gini = 0.0\\nsamples = 1\\nvalue = [1, 0]'),\n",
       " Text(0.5757348938486663, 0.8333333333333334, 'X[2] <= 3.5\\ngini = 0.087\\nsamples = 22\\nvalue = [21, 1]'),\n",
       " Text(0.567025040827436, 0.7857142857142857, 'X[2] <= 2.5\\ngini = 0.32\\nsamples = 5\\nvalue = [4, 1]'),\n",
       " Text(0.5583151878062058, 0.7380952380952381, 'gini = 0.0\\nsamples = 4\\nvalue = [4, 0]'),\n",
       " Text(0.5757348938486663, 0.7380952380952381, 'gini = 0.0\\nsamples = 1\\nvalue = [0, 1]'),\n",
       " Text(0.5844447468698966, 0.7857142857142857, 'gini = 0.0\\nsamples = 17\\nvalue = [17, 0]'),\n",
       " Text(0.8360097985846489, 0.9285714285714286, 'X[0] <= 2.5\\ngini = 0.38\\nsamples = 239\\nvalue = [61, 178]'),\n",
       " Text(0.7561241154055526, 0.8809523809523809, 'X[5] <= 28.856\\ngini = 0.076\\nsamples = 126\\nvalue = [5, 121]'),\n",
       " Text(0.7474142623843223, 0.8333333333333334, 'X[5] <= 28.231\\ngini = 0.168\\nsamples = 54\\nvalue = [5, 49]'),\n",
       " Text(0.738704409363092, 0.7857142857142857, 'X[2] <= 56.0\\ngini = 0.14\\nsamples = 53\\nvalue = [4, 49]'),\n",
       " Text(0.7169297768100164, 0.7380952380952381, 'X[2] <= 37.0\\ngini = 0.111\\nsamples = 51\\nvalue = [3, 48]'),\n",
       " Text(0.6995100707675558, 0.6904761904761905, 'X[3] <= 0.5\\ngini = 0.057\\nsamples = 34\\nvalue = [1, 33]'),\n",
       " Text(0.6908002177463255, 0.6428571428571429, 'gini = 0.0\\nsamples = 19\\nvalue = [0, 19]'),\n",
       " Text(0.7082199237887861, 0.6428571428571429, 'X[5] <= 22.0\\ngini = 0.124\\nsamples = 15\\nvalue = [1, 14]'),\n",
       " Text(0.6995100707675558, 0.5952380952380952, 'X[3] <= 1.5\\ngini = 0.375\\nsamples = 4\\nvalue = [1, 3]'),\n",
       " Text(0.6908002177463255, 0.5476190476190477, 'X[6] <= 1.0\\ngini = 0.5\\nsamples = 2\\nvalue = [1, 1]'),\n",
       " Text(0.6820903647250952, 0.5, 'gini = 0.0\\nsamples = 1\\nvalue = [0, 1]'),\n",
       " Text(0.6995100707675558, 0.5, 'gini = 0.0\\nsamples = 1\\nvalue = [1, 0]'),\n",
       " Text(0.7082199237887861, 0.5476190476190477, 'gini = 0.0\\nsamples = 2\\nvalue = [0, 2]'),\n",
       " Text(0.7169297768100164, 0.5952380952380952, 'gini = 0.0\\nsamples = 11\\nvalue = [0, 11]'),\n",
       " Text(0.7343494828524768, 0.6904761904761905, 'X[2] <= 39.0\\ngini = 0.208\\nsamples = 17\\nvalue = [2, 15]'),\n",
       " Text(0.7256396298312466, 0.6428571428571429, 'gini = 0.0\\nsamples = 1\\nvalue = [1, 0]'),\n",
       " Text(0.7430593358737071, 0.6428571428571429, 'X[3] <= 0.5\\ngini = 0.117\\nsamples = 16\\nvalue = [1, 15]'),\n",
       " Text(0.7343494828524768, 0.5952380952380952, 'gini = 0.0\\nsamples = 12\\nvalue = [0, 12]'),\n",
       " Text(0.7517691888949374, 0.5952380952380952, 'X[4] <= 0.5\\ngini = 0.375\\nsamples = 4\\nvalue = [1, 3]'),\n",
       " Text(0.7430593358737071, 0.5476190476190477, 'X[2] <= 43.0\\ngini = 0.5\\nsamples = 2\\nvalue = [1, 1]'),\n",
       " Text(0.7343494828524768, 0.5, 'gini = 0.0\\nsamples = 1\\nvalue = [0, 1]'),\n",
       " Text(0.7517691888949374, 0.5, 'gini = 0.0\\nsamples = 1\\nvalue = [1, 0]'),\n",
       " Text(0.7604790419161677, 0.5476190476190477, 'gini = 0.0\\nsamples = 2\\nvalue = [0, 2]'),\n",
       " Text(0.7604790419161677, 0.7380952380952381, 'X[0] <= 1.5\\ngini = 0.5\\nsamples = 2\\nvalue = [1, 1]'),\n",
       " Text(0.7517691888949374, 0.6904761904761905, 'gini = 0.0\\nsamples = 1\\nvalue = [0, 1]'),\n",
       " Text(0.769188894937398, 0.6904761904761905, 'gini = 0.0\\nsamples = 1\\nvalue = [1, 0]'),\n",
       " Text(0.7561241154055526, 0.7857142857142857, 'gini = 0.0\\nsamples = 1\\nvalue = [1, 0]'),\n",
       " Text(0.7648339684267828, 0.8333333333333334, 'gini = 0.0\\nsamples = 72\\nvalue = [0, 72]'),\n",
       " Text(0.9158954817637452, 0.8809523809523809, 'X[5] <= 23.35\\ngini = 0.5\\nsamples = 113\\nvalue = [56, 57]'),\n",
       " Text(0.8579205225911812, 0.8333333333333334, 'X[6] <= 1.5\\ngini = 0.475\\nsamples = 90\\nvalue = [35, 55]'),\n",
       " Text(0.8301578660860098, 0.7857142857142857, 'X[2] <= 30.1\\ngini = 0.381\\nsamples = 43\\nvalue = [11, 32]'),\n",
       " Text(0.8214480130647795, 0.7380952380952381, 'X[5] <= 14.979\\ngini = 0.343\\nsamples = 41\\nvalue = [9, 32]'),\n",
       " Text(0.8127381600435493, 0.6904761904761905, 'X[5] <= 8.083\\ngini = 0.412\\nsamples = 31\\nvalue = [9, 22]'),\n",
       " Text(0.7953184540010887, 0.6428571428571429, 'X[4] <= 1.0\\ngini = 0.278\\nsamples = 24\\nvalue = [4, 20]'),\n",
       " Text(0.7866086009798585, 0.5952380952380952, 'X[5] <= 6.987\\ngini = 0.227\\nsamples = 23\\nvalue = [3, 20]'),\n",
       " Text(0.7778987479586282, 0.5476190476190477, 'gini = 0.0\\nsamples = 1\\nvalue = [1, 0]'),\n",
       " Text(0.7953184540010887, 0.5476190476190477, 'X[5] <= 7.681\\ngini = 0.165\\nsamples = 22\\nvalue = [2, 20]'),\n",
       " Text(0.7778987479586282, 0.5, 'X[6] <= 0.5\\ngini = 0.32\\nsamples = 5\\nvalue = [1, 4]'),\n",
       " Text(0.769188894937398, 0.4523809523809524, 'gini = 0.0\\nsamples = 4\\nvalue = [0, 4]'),\n",
       " Text(0.7866086009798585, 0.4523809523809524, 'gini = 0.0\\nsamples = 1\\nvalue = [1, 0]'),\n",
       " Text(0.8127381600435493, 0.5, 'X[5] <= 7.769\\ngini = 0.111\\nsamples = 17\\nvalue = [1, 16]'),\n",
       " Text(0.804028307022319, 0.4523809523809524, 'X[2] <= 25.85\\ngini = 0.165\\nsamples = 11\\nvalue = [1, 10]'),\n",
       " Text(0.7953184540010887, 0.40476190476190477, 'gini = 0.0\\nsamples = 3\\nvalue = [0, 3]'),\n",
       " Text(0.8127381600435493, 0.40476190476190477, 'X[5] <= 7.744\\ngini = 0.219\\nsamples = 8\\nvalue = [1, 7]'),\n",
       " Text(0.804028307022319, 0.35714285714285715, 'gini = 0.0\\nsamples = 2\\nvalue = [0, 2]'),\n",
       " Text(0.8214480130647795, 0.35714285714285715, 'gini = 0.278\\nsamples = 6\\nvalue = [1, 5]'),\n",
       " Text(0.8214480130647795, 0.4523809523809524, 'gini = 0.0\\nsamples = 6\\nvalue = [0, 6]'),\n",
       " Text(0.804028307022319, 0.5952380952380952, 'gini = 0.0\\nsamples = 1\\nvalue = [1, 0]'),\n",
       " Text(0.8301578660860098, 0.6428571428571429, 'X[2] <= 16.0\\ngini = 0.408\\nsamples = 7\\nvalue = [5, 2]'),\n",
       " Text(0.8214480130647795, 0.5952380952380952, 'gini = 0.0\\nsamples = 2\\nvalue = [0, 2]'),\n",
       " Text(0.8388677191072401, 0.5952380952380952, 'gini = 0.0\\nsamples = 5\\nvalue = [5, 0]'),\n",
       " Text(0.8301578660860098, 0.6904761904761905, 'gini = 0.0\\nsamples = 10\\nvalue = [0, 10]'),\n",
       " Text(0.8388677191072401, 0.7380952380952381, 'gini = 0.0\\nsamples = 2\\nvalue = [2, 0]'),\n",
       " Text(0.8856831790963527, 0.7857142857142857, 'X[5] <= 7.763\\ngini = 0.5\\nsamples = 47\\nvalue = [24, 23]'),\n",
       " Text(0.8562874251497006, 0.7380952380952381, 'X[2] <= 26.35\\ngini = 0.278\\nsamples = 6\\nvalue = [1, 5]'),\n",
       " Text(0.8475775721284703, 0.6904761904761905, 'gini = 0.0\\nsamples = 5\\nvalue = [0, 5]'),\n",
       " Text(0.8649972781709309, 0.6904761904761905, 'gini = 0.0\\nsamples = 1\\nvalue = [1, 0]'),\n",
       " Text(0.9150789330430049, 0.7380952380952381, 'X[4] <= 0.5\\ngini = 0.493\\nsamples = 41\\nvalue = [23, 18]'),\n",
       " Text(0.8824169842133914, 0.6904761904761905, 'X[2] <= 9.5\\ngini = 0.436\\nsamples = 28\\nvalue = [19, 9]'),\n",
       " Text(0.8737071311921611, 0.6428571428571429, 'gini = 0.0\\nsamples = 1\\nvalue = [0, 1]'),\n",
       " Text(0.8911268372346217, 0.6428571428571429, 'X[2] <= 55.0\\ngini = 0.417\\nsamples = 27\\nvalue = [19, 8]'),\n",
       " Text(0.8824169842133914, 0.5952380952380952, 'X[2] <= 19.5\\ngini = 0.393\\nsamples = 26\\nvalue = [19, 7]'),\n",
       " Text(0.8606423516603158, 0.5476190476190477, 'X[3] <= 1.5\\ngini = 0.5\\nsamples = 4\\nvalue = [2, 2]'),\n",
       " Text(0.8519324986390855, 0.5, 'X[2] <= 16.0\\ngini = 0.444\\nsamples = 3\\nvalue = [1, 2]'),\n",
       " Text(0.8432226456178552, 0.4523809523809524, 'gini = 0.0\\nsamples = 1\\nvalue = [1, 0]'),\n",
       " Text(0.8606423516603158, 0.4523809523809524, 'gini = 0.0\\nsamples = 2\\nvalue = [0, 2]'),\n",
       " Text(0.869352204681546, 0.5, 'gini = 0.0\\nsamples = 1\\nvalue = [1, 0]'),\n",
       " Text(0.9041916167664671, 0.5476190476190477, 'X[5] <= 15.3\\ngini = 0.351\\nsamples = 22\\nvalue = [17, 5]'),\n",
       " Text(0.8867719107240065, 0.5, 'X[5] <= 8.767\\ngini = 0.278\\nsamples = 18\\nvalue = [15, 3]'),\n",
       " Text(0.8780620577027762, 0.4523809523809524, 'X[5] <= 8.673\\ngini = 0.397\\nsamples = 11\\nvalue = [8, 3]'),\n",
       " Text(0.869352204681546, 0.40476190476190477, 'X[2] <= 27.0\\ngini = 0.32\\nsamples = 10\\nvalue = [8, 2]'),\n",
       " Text(0.8606423516603158, 0.35714285714285715, 'X[2] <= 25.5\\ngini = 0.48\\nsamples = 5\\nvalue = [3, 2]'),\n",
       " Text(0.8519324986390855, 0.30952380952380953, 'X[5] <= 7.85\\ngini = 0.375\\nsamples = 4\\nvalue = [3, 1]'),\n",
       " Text(0.8432226456178552, 0.2619047619047619, 'X[2] <= 23.5\\ngini = 0.5\\nsamples = 2\\nvalue = [1, 1]'),\n",
       " Text(0.8345127925966249, 0.21428571428571427, 'gini = 0.0\\nsamples = 1\\nvalue = [0, 1]'),\n",
       " Text(0.8519324986390855, 0.21428571428571427, 'gini = 0.0\\nsamples = 1\\nvalue = [1, 0]'),\n",
       " Text(0.8606423516603158, 0.2619047619047619, 'gini = 0.0\\nsamples = 2\\nvalue = [2, 0]'),\n",
       " Text(0.869352204681546, 0.30952380952380953, 'gini = 0.0\\nsamples = 1\\nvalue = [0, 1]'),\n",
       " Text(0.8780620577027762, 0.35714285714285715, 'gini = 0.0\\nsamples = 5\\nvalue = [5, 0]'),\n",
       " Text(0.8867719107240065, 0.40476190476190477, 'gini = 0.0\\nsamples = 1\\nvalue = [0, 1]'),\n",
       " Text(0.8954817637452368, 0.4523809523809524, 'gini = 0.0\\nsamples = 7\\nvalue = [7, 0]'),\n",
       " Text(0.9216113228089275, 0.5, 'X[5] <= 17.05\\ngini = 0.5\\nsamples = 4\\nvalue = [2, 2]'),\n",
       " Text(0.9129014697876974, 0.4523809523809524, 'X[2] <= 27.85\\ngini = 0.444\\nsamples = 3\\nvalue = [1, 2]'),\n",
       " Text(0.9041916167664671, 0.40476190476190477, 'gini = 0.0\\nsamples = 1\\nvalue = [1, 0]'),\n",
       " Text(0.9216113228089275, 0.40476190476190477, 'gini = 0.0\\nsamples = 2\\nvalue = [0, 2]'),\n",
       " Text(0.9303211758301578, 0.4523809523809524, 'gini = 0.0\\nsamples = 1\\nvalue = [1, 0]'),\n",
       " Text(0.8998366902558519, 0.5952380952380952, 'gini = 0.0\\nsamples = 1\\nvalue = [0, 1]'),\n",
       " Text(0.9477408818726184, 0.6904761904761905, 'X[3] <= 2.0\\ngini = 0.426\\nsamples = 13\\nvalue = [4, 9]'),\n",
       " Text(0.9390310288513881, 0.6428571428571429, 'X[2] <= 38.0\\ngini = 0.298\\nsamples = 11\\nvalue = [2, 9]'),\n",
       " Text(0.9303211758301578, 0.5952380952380952, 'X[4] <= 3.0\\ngini = 0.18\\nsamples = 10\\nvalue = [1, 9]'),\n",
       " Text(0.9216113228089275, 0.5476190476190477, 'gini = 0.0\\nsamples = 9\\nvalue = [0, 9]'),\n",
       " Text(0.9390310288513881, 0.5476190476190477, 'gini = 0.0\\nsamples = 1\\nvalue = [1, 0]'),\n",
       " Text(0.9477408818726184, 0.5952380952380952, 'gini = 0.0\\nsamples = 1\\nvalue = [1, 0]'),\n",
       " Text(0.9564507348938487, 0.6428571428571429, 'gini = 0.0\\nsamples = 2\\nvalue = [2, 0]'),\n",
       " Text(0.9738704409363091, 0.8333333333333334, 'X[4] <= 0.5\\ngini = 0.159\\nsamples = 23\\nvalue = [21, 2]'),\n",
       " Text(0.965160587915079, 0.7857142857142857, 'gini = 0.0\\nsamples = 1\\nvalue = [0, 1]'),\n",
       " Text(0.9825802939575394, 0.7857142857142857, 'X[2] <= 5.5\\ngini = 0.087\\nsamples = 22\\nvalue = [21, 1]'),\n",
       " Text(0.9738704409363091, 0.7380952380952381, 'X[2] <= 3.5\\ngini = 0.444\\nsamples = 3\\nvalue = [2, 1]'),\n",
       " Text(0.965160587915079, 0.6904761904761905, 'gini = 0.0\\nsamples = 2\\nvalue = [2, 0]'),\n",
       " Text(0.9825802939575394, 0.6904761904761905, 'gini = 0.0\\nsamples = 1\\nvalue = [0, 1]'),\n",
       " Text(0.9912901469787697, 0.7380952380952381, 'gini = 0.0\\nsamples = 19\\nvalue = [19, 0]')]"
      ]
     },
     "execution_count": 44,
     "metadata": {},
     "output_type": "execute_result"
    },
    {
     "data": {
      "image/png": "[encoded data removed]",
      "text/plain": [
       "<Figure size 432x288 with 1 Axes>"
      ]
     },
     "metadata": {
      "needs_background": "light"
     },
     "output_type": "display_data"
    }
   ],
   "source": [
    "from sklearn import tree\n",
    "tree.plot_tree(dt)"
   ]
  },
  {
   "cell_type": "code",
   "execution_count": 45,
   "id": "f0733638",
   "metadata": {
    "ExecuteTime": {
     "end_time": "2023-06-20T13:28:55.247141Z",
     "start_time": "2023-06-20T13:28:55.241140Z"
    }
   },
   "outputs": [],
   "source": [
    "#test model\n",
    "y_train_pred = dt.predict(X_train)\n",
    "y_test_pred = dt.predict(X_test)"
   ]
  },
  {
   "cell_type": "code",
   "execution_count": 46,
   "id": "bbf1b593",
   "metadata": {
    "ExecuteTime": {
     "end_time": "2023-06-20T13:30:14.413677Z",
     "start_time": "2023-06-20T13:30:14.407450Z"
    }
   },
   "outputs": [
    {
     "name": "stdout",
     "output_type": "stream",
     "text": [
      "training accuracy: 0.9859353023909986\n",
      "testing accuracy: 0.7528089887640449\n"
     ]
    }
   ],
   "source": [
    "from sklearn.metrics import accuracy_score, roc_auc_score\n",
    "print(f\"training accuracy: {accuracy_score(y_train, y_train_pred)}\")\n",
    "print(f\"testing accuracy: {accuracy_score(y_test, y_test_pred)}\")"
   ]
  },
  {
   "cell_type": "code",
   "execution_count": 47,
   "id": "5160080e",
   "metadata": {
    "ExecuteTime": {
     "end_time": "2023-06-20T13:33:07.657736Z",
     "start_time": "2023-06-20T13:33:07.646615Z"
    }
   },
   "outputs": [
    {
     "name": "stdout",
     "output_type": "stream",
     "text": [
      "training accuracy: 0.8481012658227848\n",
      "testing accuracy: 0.8146067415730337\n"
     ]
    }
   ],
   "source": [
    "# Lets tweak the model's parameters\n",
    "dt = DecisionTreeClassifier(max_depth=6, min_samples_leaf=6, min_samples_split=10)\n",
    "dt.fit(X_train, y_train)\n",
    "\n",
    "#test model\n",
    "y_train_pred = dt.predict(X_train)\n",
    "y_test_pred = dt.predict(X_test)\n",
    "\n",
    "print(f\"training accuracy: {accuracy_score(y_train, y_train_pred)}\")\n",
    "print(f\"testing accuracy: {accuracy_score(y_test, y_test_pred)}\")"
   ]
  },
  {
   "cell_type": "code",
   "execution_count": 64,
   "id": "2ee076ac",
   "metadata": {
    "ExecuteTime": {
     "end_time": "2023-06-22T11:20:43.546250Z",
     "start_time": "2023-06-22T11:20:43.543352Z"
    }
   },
   "outputs": [],
   "source": [
    "from sklearn.ensemble import RandomForestClassifier, ExtraTreesClassifier"
   ]
  },
  {
   "cell_type": "code",
   "execution_count": 49,
   "id": "f9636d7b",
   "metadata": {
    "ExecuteTime": {
     "end_time": "2023-06-20T13:43:54.232428Z",
     "start_time": "2023-06-20T13:43:54.036098Z"
    }
   },
   "outputs": [
    {
     "name": "stdout",
     "output_type": "stream",
     "text": [
      "training accuracy: 0.9859353023909986\n",
      "testing accuracy: 0.7584269662921348\n"
     ]
    }
   ],
   "source": [
    "# run using default rfc\n",
    "# run using same config for decision tree above\n",
    "rfc = RandomForestClassifier()\n",
    "rfc.fit(X_train, y_train)\n",
    "\n",
    "#test model\n",
    "y_train_pred = rfc.predict(X_train)\n",
    "y_test_pred = rfc.predict(X_test)\n",
    "\n",
    "print(f\"training accuracy: {accuracy_score(y_train, y_train_pred)}\")\n",
    "print(f\"testing accuracy: {accuracy_score(y_test, y_test_pred)}\")"
   ]
  },
  {
   "cell_type": "code",
   "execution_count": 62,
   "id": "5e29ef4c",
   "metadata": {
    "ExecuteTime": {
     "end_time": "2023-06-20T13:47:21.794829Z",
     "start_time": "2023-06-20T13:47:21.766459Z"
    }
   },
   "outputs": [
    {
     "name": "stdout",
     "output_type": "stream",
     "text": [
      "training accuracy: 0.7834036568213784\n",
      "testing accuracy: 0.8089887640449438\n"
     ]
    }
   ],
   "source": [
    "# run using default rfc\n",
    "# run using same config for decision tree above\n",
    "rfc = RandomForestClassifier(n_estimators=10, max_depth=1, min_samples_leaf=6, min_samples_split=6)\n",
    "rfc.fit(X_train, y_train)\n",
    "\n",
    "#test model\n",
    "y_train_pred = rfc.predict(X_train)\n",
    "y_test_pred = rfc.predict(X_test)\n",
    "\n",
    "print(f\"training accuracy: {accuracy_score(y_train, y_train_pred)}\")\n",
    "print(f\"testing accuracy: {accuracy_score(y_test, y_test_pred)}\")"
   ]
  },
  {
   "cell_type": "code",
   "execution_count": 75,
   "id": "0074bd57",
   "metadata": {
    "ExecuteTime": {
     "end_time": "2023-06-22T11:37:09.827131Z",
     "start_time": "2023-06-22T11:37:09.824297Z"
    }
   },
   "outputs": [],
   "source": [
    "from sklearn.linear_model import LogisticRegression\n",
    "from sklearn.model_selection import cross_val_score\n",
    "import time\n",
    "from sklearn.metrics import classification_report"
   ]
  },
  {
   "cell_type": "code",
   "execution_count": 78,
   "id": "516e1c6e",
   "metadata": {
    "ExecuteTime": {
     "end_time": "2023-06-22T11:38:57.806997Z",
     "start_time": "2023-06-22T11:38:56.739777Z"
    }
   },
   "outputs": [
    {
     "name": "stderr",
     "output_type": "stream",
     "text": [
      "/Users/premchandran/opt/anaconda3/envs/python38/lib/python3.8/site-packages/sklearn/linear_model/_logistic.py:814: ConvergenceWarning: lbfgs failed to converge (status=1):\n",
      "STOP: TOTAL NO. of ITERATIONS REACHED LIMIT.\n",
      "\n",
      "Increase the number of iterations (max_iter) or scale the data as shown in:\n",
      "    https://scikit-learn.org/stable/modules/preprocessing.html\n",
      "Please also refer to the documentation for alternative solver options:\n",
      "    https://scikit-learn.org/stable/modules/linear_model.html#logistic-regression\n",
      "  n_iter_i = _check_optimize_result(\n"
     ]
    },
    {
     "name": "stdout",
     "output_type": "stream",
     "text": [
      "Classifier: LogisticRegression\n",
      "ROC_AUC score is 0.8520675381732133\n",
      "Total time to train: 0.07486391067504883s\n",
      "Classifier: RandomForestClassifier\n"
     ]
    },
    {
     "name": "stderr",
     "output_type": "stream",
     "text": [
      "/Users/premchandran/opt/anaconda3/envs/python38/lib/python3.8/site-packages/sklearn/linear_model/_logistic.py:814: ConvergenceWarning: lbfgs failed to converge (status=1):\n",
      "STOP: TOTAL NO. of ITERATIONS REACHED LIMIT.\n",
      "\n",
      "Increase the number of iterations (max_iter) or scale the data as shown in:\n",
      "    https://scikit-learn.org/stable/modules/preprocessing.html\n",
      "Please also refer to the documentation for alternative solver options:\n",
      "    https://scikit-learn.org/stable/modules/linear_model.html#logistic-regression\n",
      "  n_iter_i = _check_optimize_result(\n",
      "/Users/premchandran/opt/anaconda3/envs/python38/lib/python3.8/site-packages/sklearn/linear_model/_logistic.py:814: ConvergenceWarning: lbfgs failed to converge (status=1):\n",
      "STOP: TOTAL NO. of ITERATIONS REACHED LIMIT.\n",
      "\n",
      "Increase the number of iterations (max_iter) or scale the data as shown in:\n",
      "    https://scikit-learn.org/stable/modules/preprocessing.html\n",
      "Please also refer to the documentation for alternative solver options:\n",
      "    https://scikit-learn.org/stable/modules/linear_model.html#logistic-regression\n",
      "  n_iter_i = _check_optimize_result(\n",
      "/Users/premchandran/opt/anaconda3/envs/python38/lib/python3.8/site-packages/sklearn/linear_model/_logistic.py:814: ConvergenceWarning: lbfgs failed to converge (status=1):\n",
      "STOP: TOTAL NO. of ITERATIONS REACHED LIMIT.\n",
      "\n",
      "Increase the number of iterations (max_iter) or scale the data as shown in:\n",
      "    https://scikit-learn.org/stable/modules/preprocessing.html\n",
      "Please also refer to the documentation for alternative solver options:\n",
      "    https://scikit-learn.org/stable/modules/linear_model.html#logistic-regression\n",
      "  n_iter_i = _check_optimize_result(\n"
     ]
    },
    {
     "name": "stdout",
     "output_type": "stream",
     "text": [
      "ROC_AUC score is 0.8565558924658729\n",
      "Total time to train: 0.4047088623046875s\n",
      "Classifier: ExtraTreesClassifier\n",
      "ROC_AUC score is 0.8455237389027342\n",
      "Total time to train: 0.3244810104370117s\n"
     ]
    }
   ],
   "source": [
    "#create base classifiers for training\n",
    "clf_lg = LogisticRegression()\n",
    "clf_rf = RandomForestClassifier()\n",
    "clf_etc = ExtraTreesClassifier()\n",
    "\n",
    "clf_lg.fit(X_train,y_train)\n",
    "clf_rf.fit(X_train,y_train)\n",
    "clf_etc.fit(X_train,y_train)\n",
    "\n",
    "for clf in [clf_lg,clf_rf,clf_etc]:\n",
    "    start = time.time()\n",
    "    clf_name = clf.__class__.__name__\n",
    "    print(f\"Classifier: {clf_name}\")\n",
    "    # get the average score of the k fold\n",
    "    cv_score = np.mean(cross_val_score(clf,X_train, y_train, cv = 3, scoring = 'roc_auc'))\n",
    "    print(f'ROC_AUC score is {cv_score}')\n",
    "    print(f'Total time to train: {time.time()-start}s')\n"
   ]
  },
  {
   "cell_type": "code",
   "execution_count": 77,
   "id": "e8598244",
   "metadata": {
    "ExecuteTime": {
     "end_time": "2023-06-22T11:38:13.150001Z",
     "start_time": "2023-06-22T11:38:13.089885Z"
    }
   },
   "outputs": [
    {
     "name": "stdout",
     "output_type": "stream",
     "text": [
      "Classifier: LogisticRegression\n",
      "ROC_AUC score is 0.7812126047068209\n",
      "Total time to train: 0.004851818084716797s\n",
      "Classification Report:               precision    recall  f1-score   support\n",
      "\n",
      "           0       0.85      0.78      0.81       109\n",
      "           1       0.69      0.78      0.73        69\n",
      "\n",
      "    accuracy                           0.78       178\n",
      "   macro avg       0.77      0.78      0.77       178\n",
      "weighted avg       0.79      0.78      0.78       178\n",
      "\n",
      "Classifier: RandomForestClassifier\n",
      "ROC_AUC score is 0.7621326951203298\n",
      "Total time to train: 0.01752781867980957s\n",
      "Classification Report:               precision    recall  f1-score   support\n",
      "\n",
      "           0       0.83      0.77      0.80       109\n",
      "           1       0.68      0.75      0.71        69\n",
      "\n",
      "    accuracy                           0.76       178\n",
      "   macro avg       0.75      0.76      0.76       178\n",
      "weighted avg       0.77      0.76      0.77       178\n",
      "\n",
      "Classifier: ExtraTreesClassifier\n",
      "ROC_AUC score is 0.7812126047068209\n",
      "Total time to train: 0.018245697021484375s\n",
      "Classification Report:               precision    recall  f1-score   support\n",
      "\n",
      "           0       0.85      0.78      0.81       109\n",
      "           1       0.69      0.78      0.73        69\n",
      "\n",
      "    accuracy                           0.78       178\n",
      "   macro avg       0.77      0.78      0.77       178\n",
      "weighted avg       0.79      0.78      0.78       178\n",
      "\n"
     ]
    }
   ],
   "source": [
    "for clf in [clf_lg,clf_rf,clf_etc]:\n",
    "    start = time.time()\n",
    "    clf_name = clf.__class__.__name__\n",
    "    print(f\"Classifier: {clf_name}\")\n",
    "    prediction = clf.predict(X_test)\n",
    "    # get the average score of the k fold\n",
    "    cv_score = roc_auc_score(y_test, prediction)\n",
    "    print(f'ROC_AUC score is {cv_score}')\n",
    "    print(f'Total time to train: {time.time()-start}s')\n",
    "    print(f'Classification Report: {classification_report(y_test,prediction)}')"
   ]
  },
  {
   "cell_type": "markdown",
   "id": "6250d388",
   "metadata": {},
   "source": [
    "## Optimizing using GridSearchCV and getting the best model"
   ]
  },
  {
   "cell_type": "code",
   "execution_count": 79,
   "id": "57899f7b",
   "metadata": {
    "ExecuteTime": {
     "end_time": "2023-06-22T11:54:48.271841Z",
     "start_time": "2023-06-22T11:54:48.269758Z"
    }
   },
   "outputs": [],
   "source": [
    "from sklearn.model_selection import GridSearchCV"
   ]
  },
  {
   "cell_type": "code",
   "execution_count": 84,
   "id": "01c6d7c5",
   "metadata": {
    "ExecuteTime": {
     "end_time": "2023-06-22T12:12:05.721516Z",
     "start_time": "2023-06-22T12:11:55.008737Z"
    }
   },
   "outputs": [
    {
     "name": "stdout",
     "output_type": "stream",
     "text": [
      "Performing Grid Search...\n",
      "Fitting 3 folds for each of 288 candidates, totalling 864 fits\n",
      "Grid Search best ROC AUC score for Extra Trees Classifier is 0.869619782503018\n",
      "Best Parameters:\n",
      "\tcriterion: entropy\n",
      "\tmax_depth: 10\n",
      "\tmin_samples_leaf: 2\n",
      "\tmin_samples_split: 6\n",
      "\tn_estimators: 20\n",
      "\n",
      "Total time to train: 10.696261167526245s \n",
      "\n",
      "ROC_AUC score after grid search is 0.7671852147320835\n",
      " \n",
      "Classification Report:               precision    recall  f1-score   support\n",
      "\n",
      "           0       0.81      0.85      0.83       109\n",
      "           1       0.75      0.68      0.71        69\n",
      "\n",
      "    accuracy                           0.79       178\n",
      "   macro avg       0.78      0.77      0.77       178\n",
      "weighted avg       0.78      0.79      0.78       178\n",
      "\n"
     ]
    }
   ],
   "source": [
    "#Lets optimize extra trees classifier\n",
    "param_grid = {'n_estimators': [10,20, 100, 300],\n",
    "              'max_depth': [5,10, None],\n",
    "              'min_samples_split': [2,3,5,6],\n",
    "              'criterion': ['gini', 'entropy'],\n",
    "              'min_samples_leaf': [2,5,6]\n",
    "}\n",
    "\n",
    "gs_etc = GridSearchCV(clf_etc, param_grid, scoring = 'roc_auc', cv = 3, verbose = 1, n_jobs= -1)\n",
    "\n",
    "start = time.time()\n",
    "print (\"Performing Grid Search...\")\n",
    "\n",
    "gs_etc.fit(X_train, y_train)\n",
    "score = gs_etc.best_score_\n",
    "\n",
    "print(f'Grid Search best ROC AUC score for Extra Trees Classifier is {score}')\n",
    "\n",
    "#get best parameters for the most optimized model\n",
    "best_params = gs_etc.best_estimator_.get_params()\n",
    "\n",
    "print('Best Parameters:')\n",
    "for param_name in sorted(param_grid.keys()):\n",
    "    print('\\t{}: {}'.format(param_name, best_params[param_name]))\n",
    "print(\"\")\n",
    "\n",
    "# Get best estimator and store it in a variable so that can be used as pickle file later\n",
    "clf_etc_best = gs_etc.best_estimator_\n",
    "print(f'Total time to train: {time.time()-start}s \\n')\n",
    "\n",
    "#Make predictions using the optimized model\n",
    "best_prediction = clf_etc_best.predict(X_test)\n",
    "# get the average score of the k fold\n",
    "cv_score = roc_auc_score(y_test, best_prediction)\n",
    "print(f'ROC_AUC score after grid search is {cv_score}')\n",
    "print(\" \")\n",
    "print(f'Classification Report: {classification_report(y_test,best_prediction)}')\n"
   ]
  },
  {
   "cell_type": "code",
   "execution_count": 88,
   "id": "962d1b8a",
   "metadata": {
    "ExecuteTime": {
     "end_time": "2023-06-22T14:02:24.569051Z",
     "start_time": "2023-06-22T14:02:24.554303Z"
    }
   },
   "outputs": [
    {
     "data": {
      "text/html": [
       "<div>\n",
       "<style scoped>\n",
       "    .dataframe tbody tr th:only-of-type {\n",
       "        vertical-align: middle;\n",
       "    }\n",
       "\n",
       "    .dataframe tbody tr th {\n",
       "        vertical-align: top;\n",
       "    }\n",
       "\n",
       "    .dataframe thead th {\n",
       "        text-align: right;\n",
       "    }\n",
       "</style>\n",
       "<table border=\"1\" class=\"dataframe\">\n",
       "  <thead>\n",
       "    <tr style=\"text-align: right;\">\n",
       "      <th></th>\n",
       "      <th>Age</th>\n",
       "      <th>Fare</th>\n",
       "      <th>Embarked</th>\n",
       "    </tr>\n",
       "  </thead>\n",
       "  <tbody>\n",
       "    <tr>\n",
       "      <th>0</th>\n",
       "      <td>22.000000</td>\n",
       "      <td>7.2500</td>\n",
       "      <td>2.0</td>\n",
       "    </tr>\n",
       "    <tr>\n",
       "      <th>1</th>\n",
       "      <td>38.000000</td>\n",
       "      <td>71.2833</td>\n",
       "      <td>0.0</td>\n",
       "    </tr>\n",
       "    <tr>\n",
       "      <th>2</th>\n",
       "      <td>26.000000</td>\n",
       "      <td>7.9250</td>\n",
       "      <td>2.0</td>\n",
       "    </tr>\n",
       "    <tr>\n",
       "      <th>3</th>\n",
       "      <td>35.000000</td>\n",
       "      <td>53.1000</td>\n",
       "      <td>2.0</td>\n",
       "    </tr>\n",
       "    <tr>\n",
       "      <th>4</th>\n",
       "      <td>35.000000</td>\n",
       "      <td>8.0500</td>\n",
       "      <td>2.0</td>\n",
       "    </tr>\n",
       "    <tr>\n",
       "      <th>...</th>\n",
       "      <td>...</td>\n",
       "      <td>...</td>\n",
       "      <td>...</td>\n",
       "    </tr>\n",
       "    <tr>\n",
       "      <th>886</th>\n",
       "      <td>27.000000</td>\n",
       "      <td>13.0000</td>\n",
       "      <td>2.0</td>\n",
       "    </tr>\n",
       "    <tr>\n",
       "      <th>887</th>\n",
       "      <td>19.000000</td>\n",
       "      <td>30.0000</td>\n",
       "      <td>2.0</td>\n",
       "    </tr>\n",
       "    <tr>\n",
       "      <th>888</th>\n",
       "      <td>29.699118</td>\n",
       "      <td>23.4500</td>\n",
       "      <td>2.0</td>\n",
       "    </tr>\n",
       "    <tr>\n",
       "      <th>889</th>\n",
       "      <td>26.000000</td>\n",
       "      <td>30.0000</td>\n",
       "      <td>0.0</td>\n",
       "    </tr>\n",
       "    <tr>\n",
       "      <th>890</th>\n",
       "      <td>32.000000</td>\n",
       "      <td>7.7500</td>\n",
       "      <td>1.0</td>\n",
       "    </tr>\n",
       "  </tbody>\n",
       "</table>\n",
       "<p>889 rows × 3 columns</p>\n",
       "</div>"
      ],
      "text/plain": [
       "           Age     Fare  Embarked\n",
       "0    22.000000   7.2500       2.0\n",
       "1    38.000000  71.2833       0.0\n",
       "2    26.000000   7.9250       2.0\n",
       "3    35.000000  53.1000       2.0\n",
       "4    35.000000   8.0500       2.0\n",
       "..         ...      ...       ...\n",
       "886  27.000000  13.0000       2.0\n",
       "887  19.000000  30.0000       2.0\n",
       "888  29.699118  23.4500       2.0\n",
       "889  26.000000  30.0000       0.0\n",
       "890  32.000000   7.7500       1.0\n",
       "\n",
       "[889 rows x 3 columns]"
      ]
     },
     "execution_count": 88,
     "metadata": {},
     "output_type": "execute_result"
    }
   ],
   "source": [
    "df[df.columns[df.dtypes != object]]"
   ]
  },
  {
   "cell_type": "code",
   "execution_count": null,
   "id": "a0d393ba",
   "metadata": {},
   "outputs": [],
   "source": [
    "df.dtypes == object"
   ]
  }
 ],
 "metadata": {
  "kernelspec": {
   "display_name": "python38",
   "language": "python",
   "name": "python38"
  },
  "language_info": {
   "codemirror_mode": {
    "name": "ipython",
    "version": 3
   },
   "file_extension": ".py",
   "mimetype": "text/x-python",
   "name": "python",
   "nbconvert_exporter": "python",
   "pygments_lexer": "ipython3",
   "version": "3.8.12"
  }
 },
 "nbformat": 4,
 "nbformat_minor": 5
}
