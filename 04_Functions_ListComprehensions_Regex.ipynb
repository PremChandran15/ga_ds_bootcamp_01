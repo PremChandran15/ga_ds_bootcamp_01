{
 "cells": [
  {
   "cell_type": "code",
   "execution_count": 2,
   "id": "6103f95b",
   "metadata": {
    "ExecuteTime": {
     "end_time": "2023-05-18T11:21:21.261004Z",
     "start_time": "2023-05-18T11:21:21.258849Z"
    }
   },
   "outputs": [],
   "source": [
    "def add_numbers2(a, b):\n",
    "    addition = a+b # addition is local variable\n",
    "    return addition"
   ]
  },
  {
   "cell_type": "code",
   "execution_count": 3,
   "id": "d64dbf24",
   "metadata": {
    "ExecuteTime": {
     "end_time": "2023-05-18T11:21:33.192899Z",
     "start_time": "2023-05-18T11:21:33.184071Z"
    }
   },
   "outputs": [
    {
     "data": {
      "text/plain": [
       "11.2"
      ]
     },
     "execution_count": 3,
     "metadata": {},
     "output_type": "execute_result"
    }
   ],
   "source": [
    "add_numbers2(4.2, 7)"
   ]
  },
  {
   "cell_type": "code",
   "execution_count": 4,
   "id": "bf928da4",
   "metadata": {
    "ExecuteTime": {
     "end_time": "2023-05-18T11:22:36.236153Z",
     "start_time": "2023-05-18T11:22:36.233811Z"
    }
   },
   "outputs": [],
   "source": [
    "added_value = add_numbers2(2.3, 6)"
   ]
  },
  {
   "cell_type": "code",
   "execution_count": 5,
   "id": "5de7b54f",
   "metadata": {
    "ExecuteTime": {
     "end_time": "2023-05-18T11:22:45.311750Z",
     "start_time": "2023-05-18T11:22:45.308574Z"
    }
   },
   "outputs": [
    {
     "data": {
      "text/plain": [
       "8.3"
      ]
     },
     "execution_count": 5,
     "metadata": {},
     "output_type": "execute_result"
    }
   ],
   "source": [
    "added_value"
   ]
  },
  {
   "cell_type": "code",
   "execution_count": 8,
   "id": "429fc271",
   "metadata": {
    "ExecuteTime": {
     "end_time": "2023-05-18T11:23:48.750814Z",
     "start_time": "2023-05-18T11:23:48.747864Z"
    }
   },
   "outputs": [],
   "source": [
    "def add_numbers3(a, b):\n",
    "    added_value=a+b # addition is local variable\n",
    "    print(a+b)"
   ]
  },
  {
   "cell_type": "code",
   "execution_count": 9,
   "id": "aaf640db",
   "metadata": {
    "ExecuteTime": {
     "end_time": "2023-05-18T11:23:52.949547Z",
     "start_time": "2023-05-18T11:23:52.946893Z"
    }
   },
   "outputs": [
    {
     "name": "stdout",
     "output_type": "stream",
     "text": [
      "14\n"
     ]
    }
   ],
   "source": [
    "add_numbers3(9, 5)"
   ]
  },
  {
   "cell_type": "code",
   "execution_count": 10,
   "id": "5cde0987",
   "metadata": {
    "ExecuteTime": {
     "end_time": "2023-05-18T11:24:05.812078Z",
     "start_time": "2023-05-18T11:24:05.809566Z"
    }
   },
   "outputs": [
    {
     "name": "stdout",
     "output_type": "stream",
     "text": [
      "14\n"
     ]
    }
   ],
   "source": [
    "added = add_numbers3(9,5)"
   ]
  },
  {
   "cell_type": "code",
   "execution_count": 11,
   "id": "adaa3389",
   "metadata": {
    "ExecuteTime": {
     "end_time": "2023-05-18T11:24:08.573710Z",
     "start_time": "2023-05-18T11:24:08.571720Z"
    }
   },
   "outputs": [],
   "source": [
    "added"
   ]
  },
  {
   "cell_type": "code",
   "execution_count": 12,
   "id": "4e44bcbc",
   "metadata": {
    "ExecuteTime": {
     "end_time": "2023-05-18T11:25:43.161742Z",
     "start_time": "2023-05-18T11:25:43.159103Z"
    }
   },
   "outputs": [
    {
     "name": "stdout",
     "output_type": "stream",
     "text": [
      "13\n"
     ]
    }
   ],
   "source": [
    "add_numbers3(8,5)"
   ]
  },
  {
   "cell_type": "code",
   "execution_count": 13,
   "id": "fa413ef6",
   "metadata": {
    "ExecuteTime": {
     "end_time": "2023-05-18T11:26:13.659389Z",
     "start_time": "2023-05-18T11:26:13.492361Z"
    }
   },
   "outputs": [
    {
     "ename": "TypeError",
     "evalue": "add_numbers2() takes 2 positional arguments but 3 were given",
     "output_type": "error",
     "traceback": [
      "\u001b[0;31m---------------------------------------------------------------------------\u001b[0m",
      "\u001b[0;31mTypeError\u001b[0m                                 Traceback (most recent call last)",
      "\u001b[0;32m/var/folders/l9/swvqvt0552gfk3662mhw83b00000gn/T/ipykernel_92168/1137024210.py\u001b[0m in \u001b[0;36m<module>\u001b[0;34m\u001b[0m\n\u001b[0;32m----> 1\u001b[0;31m \u001b[0madd_numbers2\u001b[0m\u001b[0;34m(\u001b[0m\u001b[0;36m9\u001b[0m\u001b[0;34m,\u001b[0m\u001b[0;36m1\u001b[0m\u001b[0;34m,\u001b[0m\u001b[0;36m6\u001b[0m\u001b[0;34m)\u001b[0m\u001b[0;34m\u001b[0m\u001b[0;34m\u001b[0m\u001b[0m\n\u001b[0m",
      "\u001b[0;31mTypeError\u001b[0m: add_numbers2() takes 2 positional arguments but 3 were given"
     ]
    }
   ],
   "source": [
    "add_numbers2(9,1,6)"
   ]
  },
  {
   "cell_type": "code",
   "execution_count": 18,
   "id": "48f2f237",
   "metadata": {
    "ExecuteTime": {
     "end_time": "2023-05-18T11:31:18.231879Z",
     "start_time": "2023-05-18T11:31:18.228729Z"
    }
   },
   "outputs": [],
   "source": [
    "#args\n",
    "def add_value_multiple(*args):\n",
    "    # The next line of code is known as a docstring\n",
    "    '''\n",
    "    This function adds multiple values together\n",
    "    Input: numbers as float, int\n",
    "    Returns: added value\n",
    "    '''\n",
    "    result = 0\n",
    "    for i in args:\n",
    "        result += i\n",
    "    return result"
   ]
  },
  {
   "cell_type": "code",
   "execution_count": 19,
   "id": "760b1845",
   "metadata": {
    "ExecuteTime": {
     "end_time": "2023-05-18T11:31:20.868743Z",
     "start_time": "2023-05-18T11:31:20.865561Z"
    }
   },
   "outputs": [
    {
     "data": {
      "text/plain": [
       "951.1"
      ]
     },
     "execution_count": 19,
     "metadata": {},
     "output_type": "execute_result"
    }
   ],
   "source": [
    "add_value_multiple(9,6,8.1,90,838)"
   ]
  },
  {
   "cell_type": "code",
   "execution_count": 22,
   "id": "cbd0e74e",
   "metadata": {
    "ExecuteTime": {
     "end_time": "2023-05-18T11:34:34.616461Z",
     "start_time": "2023-05-18T11:34:34.612709Z"
    }
   },
   "outputs": [],
   "source": [
    "# build a function that solves fizzbuzz problem\n",
    "def fizz_buzz(val):\n",
    "    for x in range(val):\n",
    "        zero = x > 0\n",
    "        if x % 3 == 0 and x % 5 == 0 and zero:\n",
    "            print('FizzBuzz')\n",
    "        elif (x % 3 == 0) and zero:\n",
    "            print('Fizz')\n",
    "        elif (x % 5 == 0) and zero:\n",
    "            print('Buzz')\n",
    "        else:\n",
    "            print(x)"
   ]
  },
  {
   "cell_type": "code",
   "execution_count": 25,
   "id": "27d5c7c1",
   "metadata": {
    "ExecuteTime": {
     "end_time": "2023-05-18T11:34:47.802868Z",
     "start_time": "2023-05-18T11:34:47.800127Z"
    }
   },
   "outputs": [
    {
     "name": "stdout",
     "output_type": "stream",
     "text": [
      "0\n",
      "1\n",
      "2\n",
      "Fizz\n",
      "4\n",
      "Buzz\n",
      "Fizz\n",
      "7\n",
      "8\n",
      "Fizz\n",
      "Buzz\n",
      "11\n",
      "Fizz\n",
      "13\n",
      "14\n"
     ]
    }
   ],
   "source": [
    "fizz_buzz(15)"
   ]
  },
  {
   "cell_type": "code",
   "execution_count": 40,
   "id": "b0d9f9b7",
   "metadata": {
    "ExecuteTime": {
     "end_time": "2023-05-18T12:06:51.711203Z",
     "start_time": "2023-05-18T12:06:51.707991Z"
    }
   },
   "outputs": [],
   "source": [
    "# Question 1: write a function that checks whether a given number is a prime number\n",
    "# 1. Take a number from user\n",
    "# 2. try dividing the number by any number from 2 - given number and see if any number is divisible by it\n",
    "# 3. return/print by saying it is a prime or not prime\n",
    "def prime_num(num):\n",
    "    for i in range(2,num):\n",
    "        if num%i == 0:\n",
    "            print(f\"{num} is not a prime number\")\n",
    "            break\n",
    "    else:\n",
    "        print(f\"{num} is a prime number\")"
   ]
  },
  {
   "cell_type": "code",
   "execution_count": 41,
   "id": "5c62fe98",
   "metadata": {
    "ExecuteTime": {
     "end_time": "2023-05-18T12:06:52.523148Z",
     "start_time": "2023-05-18T12:06:52.520587Z"
    }
   },
   "outputs": [
    {
     "name": "stdout",
     "output_type": "stream",
     "text": [
      "8 is not a prime number\n"
     ]
    }
   ],
   "source": [
    "prime_num(8)"
   ]
  },
  {
   "cell_type": "code",
   "execution_count": 44,
   "id": "6d168903",
   "metadata": {
    "ExecuteTime": {
     "end_time": "2023-05-18T12:10:33.383554Z",
     "start_time": "2023-05-18T12:10:33.380856Z"
    }
   },
   "outputs": [],
   "source": [
    "# Question 2: Write a function that checks the number of even words in a given string\n",
    "def even_words(string):\n",
    "    for word in string.split():\n",
    "        if len(word)%2==0:\n",
    "            print(f\"'{word}' has even number of characters\")"
   ]
  },
  {
   "cell_type": "code",
   "execution_count": 45,
   "id": "f1234a50",
   "metadata": {
    "ExecuteTime": {
     "end_time": "2023-05-18T12:10:34.307299Z",
     "start_time": "2023-05-18T12:10:34.304833Z"
    }
   },
   "outputs": [
    {
     "name": "stdout",
     "output_type": "stream",
     "text": [
      "'This' has even number of characters\n",
      "'is' has even number of characters\n",
      "'sample' has even number of characters\n",
      "'Lets' has even number of characters\n",
      "'code' has even number of characters\n",
      "'performs' has even number of characters\n"
     ]
    }
   ],
   "source": [
    "st = \"This is a sample sentence. Lets see how our code performs\"\n",
    "even_words(st)"
   ]
  },
  {
   "cell_type": "markdown",
   "id": "cd3bec08",
   "metadata": {},
   "source": [
    "## List Comprehension"
   ]
  },
  {
   "cell_type": "code",
   "execution_count": 46,
   "id": "aee22ebf",
   "metadata": {
    "ExecuteTime": {
     "end_time": "2023-05-18T12:33:43.603464Z",
     "start_time": "2023-05-18T12:33:43.599299Z"
    }
   },
   "outputs": [
    {
     "data": {
      "text/plain": [
       "['M',\n",
       " 'a',\n",
       " 'n',\n",
       " 'c',\n",
       " 'h',\n",
       " 'e',\n",
       " 's',\n",
       " 't',\n",
       " 'e',\n",
       " 'r',\n",
       " ' ',\n",
       " 'U',\n",
       " 'n',\n",
       " 'i',\n",
       " 't',\n",
       " 'e',\n",
       " 'd']"
      ]
     },
     "execution_count": 46,
     "metadata": {},
     "output_type": "execute_result"
    }
   ],
   "source": [
    "# grab every character in the string and make it into a list\n",
    "string = \"Manchester United\"\n",
    "empty = []\n",
    "for c in string:\n",
    "    empty.append(c)\n",
    "\n",
    "empty"
   ]
  },
  {
   "cell_type": "code",
   "execution_count": 47,
   "id": "1fdc0f17",
   "metadata": {
    "ExecuteTime": {
     "end_time": "2023-05-18T12:34:27.840470Z",
     "start_time": "2023-05-18T12:34:27.834708Z"
    }
   },
   "outputs": [
    {
     "data": {
      "text/plain": [
       "['M',\n",
       " 'a',\n",
       " 'n',\n",
       " 'c',\n",
       " 'h',\n",
       " 'e',\n",
       " 's',\n",
       " 't',\n",
       " 'e',\n",
       " 'r',\n",
       " ' ',\n",
       " 'U',\n",
       " 'n',\n",
       " 'i',\n",
       " 't',\n",
       " 'e',\n",
       " 'd']"
      ]
     },
     "execution_count": 47,
     "metadata": {},
     "output_type": "execute_result"
    }
   ],
   "source": [
    "man_u_list = [i for i in string] # list comprehension\n",
    "man_u_list"
   ]
  },
  {
   "cell_type": "code",
   "execution_count": 53,
   "id": "e17c85de",
   "metadata": {
    "ExecuteTime": {
     "end_time": "2023-05-18T12:37:45.785075Z",
     "start_time": "2023-05-18T12:37:45.782235Z"
    }
   },
   "outputs": [
    {
     "name": "stdout",
     "output_type": "stream",
     "text": [
      "4\n",
      "16\n",
      "36\n",
      "64\n",
      "100\n"
     ]
    }
   ],
   "source": [
    "# square every number from 1-10 if they are even\n",
    "squared = []\n",
    "for i in range(1,11):\n",
    "    if i%2 == 0:\n",
    "        print(i**2)\n",
    "        squared.append(i**2)"
   ]
  },
  {
   "cell_type": "code",
   "execution_count": 54,
   "id": "263f14db",
   "metadata": {
    "ExecuteTime": {
     "end_time": "2023-05-18T12:37:47.135636Z",
     "start_time": "2023-05-18T12:37:47.132511Z"
    }
   },
   "outputs": [
    {
     "data": {
      "text/plain": [
       "[4, 16, 36, 64, 100]"
      ]
     },
     "execution_count": 54,
     "metadata": {},
     "output_type": "execute_result"
    }
   ],
   "source": [
    "squared"
   ]
  },
  {
   "cell_type": "code",
   "execution_count": 51,
   "id": "6e85ee33",
   "metadata": {
    "ExecuteTime": {
     "end_time": "2023-05-18T12:37:25.435318Z",
     "start_time": "2023-05-18T12:37:25.432945Z"
    }
   },
   "outputs": [],
   "source": [
    "# doing it in a list comprehension\n",
    "sq_list = [i**2 for i in range(1,11) if i%2==0]"
   ]
  },
  {
   "cell_type": "code",
   "execution_count": 52,
   "id": "33c12e72",
   "metadata": {
    "ExecuteTime": {
     "end_time": "2023-05-18T12:37:29.609102Z",
     "start_time": "2023-05-18T12:37:29.606163Z"
    }
   },
   "outputs": [
    {
     "data": {
      "text/plain": [
       "[4, 16, 36, 64, 100]"
      ]
     },
     "execution_count": 52,
     "metadata": {},
     "output_type": "execute_result"
    }
   ],
   "source": [
    "sq_list"
   ]
  },
  {
   "cell_type": "code",
   "execution_count": 56,
   "id": "dacd3bec",
   "metadata": {
    "ExecuteTime": {
     "end_time": "2023-05-18T12:38:49.647023Z",
     "start_time": "2023-05-18T12:38:49.644525Z"
    }
   },
   "outputs": [],
   "source": [
    "sq_list = [i**2 for i in range(1,11) if i%2==0]"
   ]
  },
  {
   "cell_type": "code",
   "execution_count": 57,
   "id": "16dfa170",
   "metadata": {
    "ExecuteTime": {
     "end_time": "2023-05-18T12:43:39.884733Z",
     "start_time": "2023-05-18T12:43:39.880754Z"
    }
   },
   "outputs": [
    {
     "data": {
      "text/plain": [
       "{0: 'yc', 1: 'kalyani', 2: 'chun', 3: 'jit'}"
      ]
     },
     "execution_count": 57,
     "metadata": {},
     "output_type": "execute_result"
    }
   ],
   "source": [
    "student_list = ['yc', 'kalyani', 'chun', 'jit'] # {0:'yc', 1:'kalyani',...}\n",
    "\n",
    "# store the student list as a dictionary instead of a list with the key being the index position\n",
    "student_dict = {}\n",
    "for i,v in enumerate(student_list):\n",
    "    student_dict[i] = v\n",
    "student_dict"
   ]
  },
  {
   "cell_type": "code",
   "execution_count": 58,
   "id": "bf81f0ea",
   "metadata": {
    "ExecuteTime": {
     "end_time": "2023-05-18T12:44:11.833405Z",
     "start_time": "2023-05-18T12:44:11.831043Z"
    }
   },
   "outputs": [],
   "source": [
    "student_dict2 = {i:v for i,v in enumerate(student_list)}"
   ]
  },
  {
   "cell_type": "code",
   "execution_count": 59,
   "id": "ba1080f6",
   "metadata": {
    "ExecuteTime": {
     "end_time": "2023-05-18T12:44:17.421694Z",
     "start_time": "2023-05-18T12:44:17.418595Z"
    }
   },
   "outputs": [
    {
     "data": {
      "text/plain": [
       "{0: 'yc', 1: 'kalyani', 2: 'chun', 3: 'jit'}"
      ]
     },
     "execution_count": 59,
     "metadata": {},
     "output_type": "execute_result"
    }
   ],
   "source": [
    "student_dict2"
   ]
  },
  {
   "cell_type": "code",
   "execution_count": 61,
   "id": "c3dbd010",
   "metadata": {
    "ExecuteTime": {
     "end_time": "2023-05-18T13:47:58.029281Z",
     "start_time": "2023-05-18T13:47:58.024908Z"
    }
   },
   "outputs": [],
   "source": [
    "#Question 1: Ask for two number from user and check if they are equal. Use try and except and also put the solution\n",
    "# in a function so that they are repeatable\n",
    "def ask_num():\n",
    "    while True:\n",
    "        try:\n",
    "            num1 = int(input(\"Please enter num1: \"))\n",
    "            num2 = int(input(\"Please enter num2: \"))\n",
    "            if num1!=num2:\n",
    "                # optional (just to show you)\n",
    "                raise NameError(\"Inequality\") # good practice to capture errors properly\n",
    "            else:\n",
    "                print (\"Num1 and Num2 are equal\")\n",
    "        except NameError as ne1:\n",
    "            print(\"Thrown error captured. Num1 and Num2 are not equal. {}\".format(ne1.args))\n",
    "            continue\n",
    "        except Exception as ex:\n",
    "            print(\"Thrown error captured. with error type {} and args {}\".format(type(ex).__name__,ex.args))\n",
    "            continue\n",
    "        else:\n",
    "            print(\"Breaking out of loop since numbers are equal\")\n",
    "            break"
   ]
  },
  {
   "cell_type": "code",
   "execution_count": 63,
   "id": "1057d7b8",
   "metadata": {
    "ExecuteTime": {
     "end_time": "2023-05-18T13:50:07.226744Z",
     "start_time": "2023-05-18T13:49:57.502843Z"
    }
   },
   "outputs": [
    {
     "name": "stdout",
     "output_type": "stream",
     "text": [
      "Please enter num1: 2\n",
      "Please enter num2: 3\n",
      "Thrown error captured. Num1 and Num2 are not equal. ('Inequality',)\n"
     ]
    }
   ],
   "source": [
    "try:\n",
    "    num1 = int(input(\"Please enter num1: \"))\n",
    "    num2 = int(input(\"Please enter num2: \"))\n",
    "    if num1!=num2:\n",
    "        # optional (just to show you)\n",
    "        raise NameError(\"Inequality\") # good practice to capture errors properly\n",
    "    else:\n",
    "        print (\"Num1 and Num2 are equal\")\n",
    "except NameError as ne1:\n",
    "    print(\"Thrown error captured. Num1 and Num2 are not equal. {}\".format(ne1.args))\n",
    "except Exception as ex:\n",
    "    print(\"Thrown error captured. with error type {} and args {}\".format(type(ex).__name__,ex.args))\n",
    "else:\n",
    "    print(\"Breaking out of loop since numbers are equal\")"
   ]
  },
  {
   "cell_type": "code",
   "execution_count": 62,
   "id": "536ca24a",
   "metadata": {
    "ExecuteTime": {
     "end_time": "2023-05-18T13:48:08.798995Z",
     "start_time": "2023-05-18T13:48:06.712216Z"
    }
   },
   "outputs": [
    {
     "name": "stdout",
     "output_type": "stream",
     "text": [
      "Please enter num1: 2\n",
      "Please enter num2: 2\n",
      "Num1 and Num2 are equal\n",
      "Breaking out of loop since numbers are equal\n"
     ]
    }
   ],
   "source": [
    "ask_num()"
   ]
  },
  {
   "cell_type": "markdown",
   "id": "7de10b51",
   "metadata": {},
   "source": [
    "## Question 2: Bottle Deposits\n",
    "\n",
    "In many jurisdictions a small deposit is added to drink containers to encourage people to recycle them. In one particular jurisdiction, drink containers holding **one liter** or less have a \\$0.1$ deposit and drink containers holding **more than or equals one liter** have a $0.25$ deposit.\n",
    "Write a program that reads the number of containers of each size from the user.\n",
    "Your program should continue by computing and displaying the refund that will be received for returning those containers. Format the output so that it includes a dollar sign and always displays exactly two decimal places."
   ]
  },
  {
   "cell_type": "code",
   "execution_count": 64,
   "id": "409dd9d3",
   "metadata": {
    "ExecuteTime": {
     "end_time": "2023-05-18T13:55:00.930246Z",
     "start_time": "2023-05-18T13:55:00.925644Z"
    }
   },
   "outputs": [],
   "source": [
    "# for example Inputs: [0.5,1,2, 1.5]\n",
    "# Output : \"Thank you, here is your reward for recyling: $0.85\"\n",
    "\n",
    "# Step 1: ask user for inputs to key in bottle information: for eg: number of liters in float\n",
    "# Step 2: store the inputs in a collection (list, dictionary)\n",
    "# step 3: loop through the collection, and add the value of the bottle and return the value\n",
    "# Step 4: wrap all of this into a function\n",
    "\n",
    "def refund_value(bottle_list):\n",
    "    refund_total = 0\n",
    "    for size in bottle_list:\n",
    "        if size > 0 and size <1:\n",
    "            refund = 0.1\n",
    "            refund_total += refund\n",
    "            print(\"For your bottle size of {}, your refund is ${:.2f}\".format(size,refund))\n",
    "        elif size >=1:\n",
    "            refund = 0.25\n",
    "            refund_total += refund\n",
    "            print(\"For your bottle size of {}, your refund is ${:.2f}\".format(size,refund))\n",
    "        else:\n",
    "            print(\"The bottle size is invalid\")\n",
    "    print(\"Your total refund is ${:.2f}\".format(refund_total))"
   ]
  },
  {
   "cell_type": "code",
   "execution_count": 65,
   "id": "4858b603",
   "metadata": {
    "ExecuteTime": {
     "end_time": "2023-05-18T13:55:21.265412Z",
     "start_time": "2023-05-18T13:55:21.262661Z"
    }
   },
   "outputs": [
    {
     "name": "stdout",
     "output_type": "stream",
     "text": [
      "For your bottle size of 0.5, your refund is $0.10\n",
      "For your bottle size of 1, your refund is $0.25\n",
      "For your bottle size of 2, your refund is $0.25\n",
      "For your bottle size of 1.5, your refund is $0.25\n",
      "Your total refund is $0.85\n"
     ]
    }
   ],
   "source": [
    "refund_value([0.5,1,2, 1.5])"
   ]
  },
  {
   "cell_type": "code",
   "execution_count": 66,
   "id": "55c7e6d4",
   "metadata": {
    "ExecuteTime": {
     "end_time": "2023-05-18T14:00:06.114061Z",
     "start_time": "2023-05-18T13:59:08.036153Z"
    }
   },
   "outputs": [
    {
     "name": "stdout",
     "output_type": "stream",
     "text": [
      "Please enter your bottle size: .Enter negative number to exit.1\n",
      "So far, your list is: [1.0]\n",
      "Please enter your bottle size: .Enter negative number to exit.0.7\n",
      "So far, your list is: [1.0, 0.7]\n",
      "Please enter your bottle size: .Enter negative number to exit.0\n",
      "So far, your list is: [1.0, 0.7, 0.0]\n",
      "Please enter your bottle size: .Enter negative number to exit.3\n",
      "So far, your list is: [1.0, 0.7, 0.0, 3.0]\n",
      "Please enter your bottle size: .Enter negative number to exit.name\n",
      "Thrown error captured. with error type ValueError and args (\"could not convert string to float: 'name'\",)\n",
      "Please enter a number\n",
      "Please enter your bottle size: .Enter negative number to exit.-1\n"
     ]
    }
   ],
   "source": [
    "bottle_list = []\n",
    "\n",
    "while True:\n",
    "    try:\n",
    "        val = float(input(\"Please enter your bottle size: .Enter negative number to exit.\"))\n",
    "        if val < 0:\n",
    "            break\n",
    "        bottle_list.append(val)\n",
    "        print(\"So far, your list is: {}\".format(bottle_list))\n",
    "    except Exception as ex:\n",
    "        print(\"Thrown error captured. with error type {} and args {}\".format(type(ex).__name__,ex.args))\n",
    "        print(\"Please enter a number\")\n",
    "        continue\n"
   ]
  },
  {
   "cell_type": "code",
   "execution_count": 67,
   "id": "b2b4286d",
   "metadata": {
    "ExecuteTime": {
     "end_time": "2023-05-18T14:00:14.669434Z",
     "start_time": "2023-05-18T14:00:14.665827Z"
    }
   },
   "outputs": [
    {
     "data": {
      "text/plain": [
       "[1.0, 0.7, 0.0, 3.0]"
      ]
     },
     "execution_count": 67,
     "metadata": {},
     "output_type": "execute_result"
    }
   ],
   "source": [
    "bottle_list"
   ]
  },
  {
   "cell_type": "code",
   "execution_count": 68,
   "id": "a7140cff",
   "metadata": {
    "ExecuteTime": {
     "end_time": "2023-05-18T14:00:22.242002Z",
     "start_time": "2023-05-18T14:00:22.239517Z"
    }
   },
   "outputs": [
    {
     "name": "stdout",
     "output_type": "stream",
     "text": [
      "For your bottle size of 1.0, your refund is $0.25\n",
      "For your bottle size of 0.7, your refund is $0.10\n",
      "The bottle size is invalid\n",
      "For your bottle size of 3.0, your refund is $0.25\n",
      "Your total refund is $0.60\n"
     ]
    }
   ],
   "source": [
    "refund_value(bottle_list)"
   ]
  },
  {
   "cell_type": "code",
   "execution_count": null,
   "id": "2075c72e",
   "metadata": {},
   "outputs": [],
   "source": []
  },
  {
   "cell_type": "code",
   "execution_count": null,
   "id": "7aab56e1",
   "metadata": {},
   "outputs": [],
   "source": []
  },
  {
   "cell_type": "code",
   "execution_count": null,
   "id": "864fd989",
   "metadata": {},
   "outputs": [],
   "source": []
  }
 ],
 "metadata": {
  "kernelspec": {
   "display_name": "python38",
   "language": "python",
   "name": "python38"
  },
  "language_info": {
   "codemirror_mode": {
    "name": "ipython",
    "version": 3
   },
   "file_extension": ".py",
   "mimetype": "text/x-python",
   "name": "python",
   "nbconvert_exporter": "python",
   "pygments_lexer": "ipython3",
   "version": "3.8.12"
  }
 },
 "nbformat": 4,
 "nbformat_minor": 5
}
