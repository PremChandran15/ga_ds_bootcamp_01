{
 "cells": [
  {
   "cell_type": "code",
   "execution_count": 1,
   "id": "1cbe88c8",
   "metadata": {
    "ExecuteTime": {
     "end_time": "2023-06-13T13:08:34.066532Z",
     "start_time": "2023-06-13T13:08:33.592151Z"
    }
   },
   "outputs": [],
   "source": [
    "import pickle\n",
    "import pandas as pd"
   ]
  },
  {
   "cell_type": "code",
   "execution_count": 2,
   "id": "a0e86438",
   "metadata": {
    "ExecuteTime": {
     "end_time": "2023-06-13T13:09:02.900996Z",
     "start_time": "2023-06-13T13:09:02.897335Z"
    }
   },
   "outputs": [],
   "source": [
    "filename = 'housing.pkl'\n",
    "\n",
    "dict_test = {\"RM\":[10, 2, 3], 'LSTAT':[12, 15, 4], 'PTRATIO':[4, 16, 20]}\n",
    "X_test2 = pd.DataFrame(dict_test)"
   ]
  },
  {
   "cell_type": "code",
   "execution_count": 3,
   "id": "f501a242",
   "metadata": {
    "ExecuteTime": {
     "end_time": "2023-06-13T13:09:10.450372Z",
     "start_time": "2023-06-13T13:09:10.437807Z"
    }
   },
   "outputs": [
    {
     "data": {
      "text/html": [
       "<div>\n",
       "<style scoped>\n",
       "    .dataframe tbody tr th:only-of-type {\n",
       "        vertical-align: middle;\n",
       "    }\n",
       "\n",
       "    .dataframe tbody tr th {\n",
       "        vertical-align: top;\n",
       "    }\n",
       "\n",
       "    .dataframe thead th {\n",
       "        text-align: right;\n",
       "    }\n",
       "</style>\n",
       "<table border=\"1\" class=\"dataframe\">\n",
       "  <thead>\n",
       "    <tr style=\"text-align: right;\">\n",
       "      <th></th>\n",
       "      <th>RM</th>\n",
       "      <th>LSTAT</th>\n",
       "      <th>PTRATIO</th>\n",
       "    </tr>\n",
       "  </thead>\n",
       "  <tbody>\n",
       "    <tr>\n",
       "      <th>0</th>\n",
       "      <td>10</td>\n",
       "      <td>12</td>\n",
       "      <td>4</td>\n",
       "    </tr>\n",
       "    <tr>\n",
       "      <th>1</th>\n",
       "      <td>2</td>\n",
       "      <td>15</td>\n",
       "      <td>16</td>\n",
       "    </tr>\n",
       "    <tr>\n",
       "      <th>2</th>\n",
       "      <td>3</td>\n",
       "      <td>4</td>\n",
       "      <td>20</td>\n",
       "    </tr>\n",
       "  </tbody>\n",
       "</table>\n",
       "</div>"
      ],
      "text/plain": [
       "   RM  LSTAT  PTRATIO\n",
       "0  10     12        4\n",
       "1   2     15       16\n",
       "2   3      4       20"
      ]
     },
     "execution_count": 3,
     "metadata": {},
     "output_type": "execute_result"
    }
   ],
   "source": [
    "X_test2"
   ]
  },
  {
   "cell_type": "code",
   "execution_count": 4,
   "id": "88c18bf7",
   "metadata": {
    "ExecuteTime": {
     "end_time": "2023-06-13T13:10:12.284252Z",
     "start_time": "2023-06-13T13:10:11.663780Z"
    }
   },
   "outputs": [],
   "source": [
    "#unpacking pickle file\n",
    "with open(filename, 'rb') as f:\n",
    "    model = pickle.load(f)"
   ]
  },
  {
   "cell_type": "code",
   "execution_count": 5,
   "id": "b4139526",
   "metadata": {
    "ExecuteTime": {
     "end_time": "2023-06-13T13:10:20.893897Z",
     "start_time": "2023-06-13T13:10:20.888476Z"
    }
   },
   "outputs": [
    {
     "data": {
      "text/plain": [
       "array([647850.        , 381069.23076923, 446840.625     ])"
      ]
     },
     "execution_count": 5,
     "metadata": {},
     "output_type": "execute_result"
    }
   ],
   "source": [
    "model.predict(X_test2)"
   ]
  },
  {
   "cell_type": "code",
   "execution_count": null,
   "id": "c761ffbf",
   "metadata": {},
   "outputs": [],
   "source": []
  }
 ],
 "metadata": {
  "kernelspec": {
   "display_name": "python38",
   "language": "python",
   "name": "python38"
  },
  "language_info": {
   "codemirror_mode": {
    "name": "ipython",
    "version": 3
   },
   "file_extension": ".py",
   "mimetype": "text/x-python",
   "name": "python",
   "nbconvert_exporter": "python",
   "pygments_lexer": "ipython3",
   "version": "3.8.12"
  }
 },
 "nbformat": 4,
 "nbformat_minor": 5
}
