{
 "cells": [
  {
   "cell_type": "code",
   "execution_count": 86,
   "id": "359f49e0",
   "metadata": {
    "ExecuteTime": {
     "end_time": "2023-06-13T13:26:41.690699Z",
     "start_time": "2023-06-13T13:26:41.688039Z"
    }
   },
   "outputs": [],
   "source": [
    "import numpy as np\n",
    "import pandas as pd\n",
    "from sklearn.linear_model import LinearRegression\n",
    "from sklearn.model_selection import train_test_split\n",
    "from sklearn.metrics import r2_score, mean_absolute_error, mean_squared_error,mean_absolute_percentage_error"
   ]
  },
  {
   "cell_type": "code",
   "execution_count": 2,
   "id": "dac677ea",
   "metadata": {
    "ExecuteTime": {
     "end_time": "2023-06-13T11:17:08.505184Z",
     "start_time": "2023-06-13T11:17:08.480672Z"
    }
   },
   "outputs": [
    {
     "data": {
      "text/html": [
       "<div>\n",
       "<style scoped>\n",
       "    .dataframe tbody tr th:only-of-type {\n",
       "        vertical-align: middle;\n",
       "    }\n",
       "\n",
       "    .dataframe tbody tr th {\n",
       "        vertical-align: top;\n",
       "    }\n",
       "\n",
       "    .dataframe thead th {\n",
       "        text-align: right;\n",
       "    }\n",
       "</style>\n",
       "<table border=\"1\" class=\"dataframe\">\n",
       "  <thead>\n",
       "    <tr style=\"text-align: right;\">\n",
       "      <th></th>\n",
       "      <th>RM</th>\n",
       "      <th>LSTAT</th>\n",
       "      <th>PTRATIO</th>\n",
       "      <th>MEDV</th>\n",
       "    </tr>\n",
       "  </thead>\n",
       "  <tbody>\n",
       "    <tr>\n",
       "      <th>0</th>\n",
       "      <td>6.575</td>\n",
       "      <td>4.98</td>\n",
       "      <td>15.3</td>\n",
       "      <td>504000.0</td>\n",
       "    </tr>\n",
       "    <tr>\n",
       "      <th>1</th>\n",
       "      <td>6.421</td>\n",
       "      <td>9.14</td>\n",
       "      <td>17.8</td>\n",
       "      <td>453600.0</td>\n",
       "    </tr>\n",
       "    <tr>\n",
       "      <th>2</th>\n",
       "      <td>7.185</td>\n",
       "      <td>4.03</td>\n",
       "      <td>17.8</td>\n",
       "      <td>728700.0</td>\n",
       "    </tr>\n",
       "    <tr>\n",
       "      <th>3</th>\n",
       "      <td>6.998</td>\n",
       "      <td>2.94</td>\n",
       "      <td>18.7</td>\n",
       "      <td>701400.0</td>\n",
       "    </tr>\n",
       "    <tr>\n",
       "      <th>4</th>\n",
       "      <td>7.147</td>\n",
       "      <td>5.33</td>\n",
       "      <td>18.7</td>\n",
       "      <td>760200.0</td>\n",
       "    </tr>\n",
       "  </tbody>\n",
       "</table>\n",
       "</div>"
      ],
      "text/plain": [
       "      RM  LSTAT  PTRATIO      MEDV\n",
       "0  6.575   4.98     15.3  504000.0\n",
       "1  6.421   9.14     17.8  453600.0\n",
       "2  7.185   4.03     17.8  728700.0\n",
       "3  6.998   2.94     18.7  701400.0\n",
       "4  7.147   5.33     18.7  760200.0"
      ]
     },
     "execution_count": 2,
     "metadata": {},
     "output_type": "execute_result"
    }
   ],
   "source": [
    "df = pd.read_csv('boston_housing.csv')\n",
    "df.head()"
   ]
  },
  {
   "cell_type": "markdown",
   "id": "d46722be",
   "metadata": {},
   "source": [
    "`RM` - Average Number of rooms <br>\n",
    "`LSTAT` - percentage of 'lower class' people (working poor) <br>\n",
    "`PTRATIO` - ratio of students to teachers in primary and secondary schools <br>\n",
    "`MEDV` - target variable, the median housing price\n",
    "<br><br>\n",
    "#### Common terms used in Machine learning\n",
    "1. Features: Columns / independent variable\n",
    "2. Target: What we are trying to predict / target column / dependent variable\n"
   ]
  },
  {
   "cell_type": "code",
   "execution_count": 3,
   "id": "1d6c2b46",
   "metadata": {
    "ExecuteTime": {
     "end_time": "2023-06-13T11:27:10.268390Z",
     "start_time": "2023-06-13T11:27:10.258121Z"
    }
   },
   "outputs": [
    {
     "name": "stdout",
     "output_type": "stream",
     "text": [
      "<class 'pandas.core.frame.DataFrame'>\n",
      "RangeIndex: 489 entries, 0 to 488\n",
      "Data columns (total 4 columns):\n",
      " #   Column   Non-Null Count  Dtype  \n",
      "---  ------   --------------  -----  \n",
      " 0   RM       489 non-null    float64\n",
      " 1   LSTAT    489 non-null    float64\n",
      " 2   PTRATIO  489 non-null    float64\n",
      " 3   MEDV     489 non-null    float64\n",
      "dtypes: float64(4)\n",
      "memory usage: 15.4 KB\n"
     ]
    }
   ],
   "source": [
    "# info of df\n",
    "df.info()"
   ]
  },
  {
   "cell_type": "code",
   "execution_count": 4,
   "id": "754a6c10",
   "metadata": {
    "ExecuteTime": {
     "end_time": "2023-06-13T11:27:49.052780Z",
     "start_time": "2023-06-13T11:27:49.036648Z"
    }
   },
   "outputs": [
    {
     "data": {
      "text/html": [
       "<div>\n",
       "<style scoped>\n",
       "    .dataframe tbody tr th:only-of-type {\n",
       "        vertical-align: middle;\n",
       "    }\n",
       "\n",
       "    .dataframe tbody tr th {\n",
       "        vertical-align: top;\n",
       "    }\n",
       "\n",
       "    .dataframe thead th {\n",
       "        text-align: right;\n",
       "    }\n",
       "</style>\n",
       "<table border=\"1\" class=\"dataframe\">\n",
       "  <thead>\n",
       "    <tr style=\"text-align: right;\">\n",
       "      <th></th>\n",
       "      <th>RM</th>\n",
       "      <th>LSTAT</th>\n",
       "      <th>PTRATIO</th>\n",
       "      <th>MEDV</th>\n",
       "    </tr>\n",
       "  </thead>\n",
       "  <tbody>\n",
       "    <tr>\n",
       "      <th>count</th>\n",
       "      <td>489.000000</td>\n",
       "      <td>489.000000</td>\n",
       "      <td>489.000000</td>\n",
       "      <td>4.890000e+02</td>\n",
       "    </tr>\n",
       "    <tr>\n",
       "      <th>mean</th>\n",
       "      <td>6.240288</td>\n",
       "      <td>12.939632</td>\n",
       "      <td>18.516564</td>\n",
       "      <td>4.543429e+05</td>\n",
       "    </tr>\n",
       "    <tr>\n",
       "      <th>std</th>\n",
       "      <td>0.643650</td>\n",
       "      <td>7.081990</td>\n",
       "      <td>2.111268</td>\n",
       "      <td>1.653403e+05</td>\n",
       "    </tr>\n",
       "    <tr>\n",
       "      <th>min</th>\n",
       "      <td>3.561000</td>\n",
       "      <td>1.980000</td>\n",
       "      <td>12.600000</td>\n",
       "      <td>1.050000e+05</td>\n",
       "    </tr>\n",
       "    <tr>\n",
       "      <th>25%</th>\n",
       "      <td>5.880000</td>\n",
       "      <td>7.370000</td>\n",
       "      <td>17.400000</td>\n",
       "      <td>3.507000e+05</td>\n",
       "    </tr>\n",
       "    <tr>\n",
       "      <th>50%</th>\n",
       "      <td>6.185000</td>\n",
       "      <td>11.690000</td>\n",
       "      <td>19.100000</td>\n",
       "      <td>4.389000e+05</td>\n",
       "    </tr>\n",
       "    <tr>\n",
       "      <th>75%</th>\n",
       "      <td>6.575000</td>\n",
       "      <td>17.120000</td>\n",
       "      <td>20.200000</td>\n",
       "      <td>5.187000e+05</td>\n",
       "    </tr>\n",
       "    <tr>\n",
       "      <th>max</th>\n",
       "      <td>8.398000</td>\n",
       "      <td>37.970000</td>\n",
       "      <td>22.000000</td>\n",
       "      <td>1.024800e+06</td>\n",
       "    </tr>\n",
       "  </tbody>\n",
       "</table>\n",
       "</div>"
      ],
      "text/plain": [
       "               RM       LSTAT     PTRATIO          MEDV\n",
       "count  489.000000  489.000000  489.000000  4.890000e+02\n",
       "mean     6.240288   12.939632   18.516564  4.543429e+05\n",
       "std      0.643650    7.081990    2.111268  1.653403e+05\n",
       "min      3.561000    1.980000   12.600000  1.050000e+05\n",
       "25%      5.880000    7.370000   17.400000  3.507000e+05\n",
       "50%      6.185000   11.690000   19.100000  4.389000e+05\n",
       "75%      6.575000   17.120000   20.200000  5.187000e+05\n",
       "max      8.398000   37.970000   22.000000  1.024800e+06"
      ]
     },
     "execution_count": 4,
     "metadata": {},
     "output_type": "execute_result"
    }
   ],
   "source": [
    "# decriptive stats\n",
    "df.describe()"
   ]
  },
  {
   "cell_type": "code",
   "execution_count": 5,
   "id": "544e94d7",
   "metadata": {
    "ExecuteTime": {
     "end_time": "2023-06-13T11:42:43.349879Z",
     "start_time": "2023-06-13T11:42:43.342546Z"
    }
   },
   "outputs": [
    {
     "data": {
      "text/html": [
       "<div>\n",
       "<style scoped>\n",
       "    .dataframe tbody tr th:only-of-type {\n",
       "        vertical-align: middle;\n",
       "    }\n",
       "\n",
       "    .dataframe tbody tr th {\n",
       "        vertical-align: top;\n",
       "    }\n",
       "\n",
       "    .dataframe thead th {\n",
       "        text-align: right;\n",
       "    }\n",
       "</style>\n",
       "<table border=\"1\" class=\"dataframe\">\n",
       "  <thead>\n",
       "    <tr style=\"text-align: right;\">\n",
       "      <th></th>\n",
       "      <th>RM</th>\n",
       "      <th>LSTAT</th>\n",
       "    </tr>\n",
       "  </thead>\n",
       "  <tbody>\n",
       "    <tr>\n",
       "      <th>RM</th>\n",
       "      <td>1.000000</td>\n",
       "      <td>-0.612033</td>\n",
       "    </tr>\n",
       "    <tr>\n",
       "      <th>LSTAT</th>\n",
       "      <td>-0.612033</td>\n",
       "      <td>1.000000</td>\n",
       "    </tr>\n",
       "  </tbody>\n",
       "</table>\n",
       "</div>"
      ],
      "text/plain": [
       "             RM     LSTAT\n",
       "RM     1.000000 -0.612033\n",
       "LSTAT -0.612033  1.000000"
      ]
     },
     "execution_count": 5,
     "metadata": {},
     "output_type": "execute_result"
    }
   ],
   "source": [
    "# std = sqrt(sum(y - ÿ)**2/N) = sqrt(var)\n",
    "# try to intuitively see if change in RM, LSTAT and PTRATIO will affect MEDV\n",
    "df[['RM','LSTAT']].corr()"
   ]
  },
  {
   "cell_type": "code",
   "execution_count": 7,
   "id": "c93649fa",
   "metadata": {
    "ExecuteTime": {
     "end_time": "2023-06-13T11:44:52.089706Z",
     "start_time": "2023-06-13T11:44:51.976791Z"
    }
   },
   "outputs": [],
   "source": [
    "import matplotlib.pyplot as plt\n",
    "import seaborn as sns\n",
    "%matplotlib inline"
   ]
  },
  {
   "cell_type": "code",
   "execution_count": 10,
   "id": "8a5ca3ad",
   "metadata": {
    "ExecuteTime": {
     "end_time": "2023-06-13T11:45:53.413611Z",
     "start_time": "2023-06-13T11:45:53.244944Z"
    }
   },
   "outputs": [
    {
     "data": {
      "image/png": "[encoded data removed]",
      "text/plain": [
       "<Figure size 720x720 with 2 Axes>"
      ]
     },
     "metadata": {
      "needs_background": "light"
     },
     "output_type": "display_data"
    }
   ],
   "source": [
    "fig = plt.figure(figsize=(10,10))\n",
    "sns.heatmap(df.corr(), cmap='coolwarm')\n",
    "plt.title(\"Correlation between columns\", fontsize=18)\n",
    "plt.show()"
   ]
  },
  {
   "cell_type": "code",
   "execution_count": 58,
   "id": "73dfae71",
   "metadata": {
    "ExecuteTime": {
     "end_time": "2023-06-13T12:56:45.221797Z",
     "start_time": "2023-06-13T12:56:45.217436Z"
    }
   },
   "outputs": [],
   "source": [
    "# build the ML algorithm => break the columns to target and feature vectors\n",
    "y = df['MEDV'] # => normally single dimension, which is why is a 1D vector, hence small letter\n",
    "X = df.drop('MEDV',axis=1)\n",
    "\n",
    "X_train, X_test, y_train, y_test = train_test_split(X, y, test_size= 0.2, random_state= 42)\n"
   ]
  },
  {
   "cell_type": "code",
   "execution_count": 59,
   "id": "7cde34a2",
   "metadata": {
    "ExecuteTime": {
     "end_time": "2023-06-13T12:56:46.269268Z",
     "start_time": "2023-06-13T12:56:46.265950Z"
    }
   },
   "outputs": [
    {
     "data": {
      "text/plain": [
       "0.7995910020449898"
      ]
     },
     "execution_count": 59,
     "metadata": {},
     "output_type": "execute_result"
    }
   ],
   "source": [
    "len(X_train)/len(df)"
   ]
  },
  {
   "cell_type": "code",
   "execution_count": 60,
   "id": "41a2f07d",
   "metadata": {
    "ExecuteTime": {
     "end_time": "2023-06-13T12:56:49.183417Z",
     "start_time": "2023-06-13T12:56:49.179856Z"
    }
   },
   "outputs": [
    {
     "data": {
      "text/plain": [
       "(391, 3)"
      ]
     },
     "execution_count": 60,
     "metadata": {},
     "output_type": "execute_result"
    }
   ],
   "source": [
    "X_train.shape"
   ]
  },
  {
   "cell_type": "code",
   "execution_count": 61,
   "id": "7ba92a89",
   "metadata": {
    "ExecuteTime": {
     "end_time": "2023-06-13T12:56:49.586996Z",
     "start_time": "2023-06-13T12:56:49.582990Z"
    }
   },
   "outputs": [
    {
     "data": {
      "text/plain": [
       "(391,)"
      ]
     },
     "execution_count": 61,
     "metadata": {},
     "output_type": "execute_result"
    }
   ],
   "source": [
    "y_train.shape"
   ]
  },
  {
   "cell_type": "code",
   "execution_count": 62,
   "id": "c7b87bdd",
   "metadata": {
    "ExecuteTime": {
     "end_time": "2023-06-13T12:56:49.909350Z",
     "start_time": "2023-06-13T12:56:49.905480Z"
    }
   },
   "outputs": [
    {
     "data": {
      "text/plain": [
       "(98, 3)"
      ]
     },
     "execution_count": 62,
     "metadata": {},
     "output_type": "execute_result"
    }
   ],
   "source": [
    "X_test.shape"
   ]
  },
  {
   "cell_type": "code",
   "execution_count": 63,
   "id": "05114de4",
   "metadata": {
    "ExecuteTime": {
     "end_time": "2023-06-13T12:56:50.322045Z",
     "start_time": "2023-06-13T12:56:50.319740Z"
    }
   },
   "outputs": [],
   "source": [
    "linreg = LinearRegression()"
   ]
  },
  {
   "cell_type": "code",
   "execution_count": 64,
   "id": "36ca244d",
   "metadata": {
    "ExecuteTime": {
     "end_time": "2023-06-13T12:56:51.023716Z",
     "start_time": "2023-06-13T12:56:51.017410Z"
    }
   },
   "outputs": [
    {
     "data": {
      "text/plain": [
       "LinearRegression()"
      ]
     },
     "execution_count": 64,
     "metadata": {},
     "output_type": "execute_result"
    }
   ],
   "source": [
    "# step 1: fit dataset onto the algorithm\n",
    "linreg.fit(X_train,y_train)"
   ]
  },
  {
   "cell_type": "code",
   "execution_count": 65,
   "id": "cf275851",
   "metadata": {
    "ExecuteTime": {
     "end_time": "2023-06-13T12:56:52.152913Z",
     "start_time": "2023-06-13T12:56:52.149009Z"
    }
   },
   "outputs": [],
   "source": [
    "y_hat = linreg.predict(X_test)"
   ]
  },
  {
   "cell_type": "code",
   "execution_count": 66,
   "id": "6ebdbfcc",
   "metadata": {
    "ExecuteTime": {
     "end_time": "2023-06-13T12:56:52.784498Z",
     "start_time": "2023-06-13T12:56:52.780933Z"
    }
   },
   "outputs": [],
   "source": [
    "#create our own test set:\n",
    "dict_test = {\"RM\":[10, 2, 3], 'LSTAT':[12, 15, 4], 'PTRATIO':[4, 16, 20]}\n",
    "X_test2 = pd.DataFrame(dict_test)"
   ]
  },
  {
   "cell_type": "code",
   "execution_count": 67,
   "id": "b3d9099b",
   "metadata": {
    "ExecuteTime": {
     "end_time": "2023-06-13T12:56:53.997143Z",
     "start_time": "2023-06-13T12:56:53.992047Z"
    }
   },
   "outputs": [
    {
     "data": {
      "text/html": [
       "<div>\n",
       "<style scoped>\n",
       "    .dataframe tbody tr th:only-of-type {\n",
       "        vertical-align: middle;\n",
       "    }\n",
       "\n",
       "    .dataframe tbody tr th {\n",
       "        vertical-align: top;\n",
       "    }\n",
       "\n",
       "    .dataframe thead th {\n",
       "        text-align: right;\n",
       "    }\n",
       "</style>\n",
       "<table border=\"1\" class=\"dataframe\">\n",
       "  <thead>\n",
       "    <tr style=\"text-align: right;\">\n",
       "      <th></th>\n",
       "      <th>RM</th>\n",
       "      <th>LSTAT</th>\n",
       "      <th>PTRATIO</th>\n",
       "    </tr>\n",
       "  </thead>\n",
       "  <tbody>\n",
       "    <tr>\n",
       "      <th>0</th>\n",
       "      <td>10</td>\n",
       "      <td>12</td>\n",
       "      <td>4</td>\n",
       "    </tr>\n",
       "    <tr>\n",
       "      <th>1</th>\n",
       "      <td>2</td>\n",
       "      <td>15</td>\n",
       "      <td>16</td>\n",
       "    </tr>\n",
       "    <tr>\n",
       "      <th>2</th>\n",
       "      <td>3</td>\n",
       "      <td>4</td>\n",
       "      <td>20</td>\n",
       "    </tr>\n",
       "  </tbody>\n",
       "</table>\n",
       "</div>"
      ],
      "text/plain": [
       "   RM  LSTAT  PTRATIO\n",
       "0  10     12        4\n",
       "1   2     15       16\n",
       "2   3      4       20"
      ]
     },
     "execution_count": 67,
     "metadata": {},
     "output_type": "execute_result"
    }
   ],
   "source": [
    "X_test2"
   ]
  },
  {
   "cell_type": "code",
   "execution_count": 68,
   "id": "5043295a",
   "metadata": {
    "ExecuteTime": {
     "end_time": "2023-06-13T12:56:54.821449Z",
     "start_time": "2023-06-13T12:56:54.816210Z"
    }
   },
   "outputs": [
    {
     "data": {
      "text/plain": [
       "array([1076504.40138552,  114171.93693296,  241023.50983303])"
      ]
     },
     "execution_count": 68,
     "metadata": {},
     "output_type": "execute_result"
    }
   ],
   "source": [
    "linreg.predict(X_test2)"
   ]
  },
  {
   "cell_type": "markdown",
   "id": "debb422e",
   "metadata": {},
   "source": [
    "### Naive Predictor => Our machine learning model SHOULD ALWAYS PERFORM BETTER THAN THIS!\n",
    "It is based on human intuition.\n",
    "- Regression: Expected Value => E(x) => Mean of dataset\n",
    "- Classification: depends on your intuition\n",
    "\n",
    "For this example, the naive predictor, is any model that gives out the expected value anytime you want to predict: $454k"
   ]
  },
  {
   "cell_type": "code",
   "execution_count": 69,
   "id": "7c56b03d",
   "metadata": {
    "ExecuteTime": {
     "end_time": "2023-06-13T12:56:57.982550Z",
     "start_time": "2023-06-13T12:56:57.978993Z"
    }
   },
   "outputs": [
    {
     "data": {
      "text/plain": [
       "0.691093400309851"
      ]
     },
     "execution_count": 69,
     "metadata": {},
     "output_type": "execute_result"
    }
   ],
   "source": [
    "# comparison between y_hat vs y\n",
    "r2_score(y_test,y_hat)"
   ]
  },
  {
   "cell_type": "code",
   "execution_count": 46,
   "id": "e509e665",
   "metadata": {
    "ExecuteTime": {
     "end_time": "2023-06-13T12:53:31.497046Z",
     "start_time": "2023-06-13T12:53:31.492921Z"
    }
   },
   "outputs": [
    {
     "data": {
      "text/plain": [
       "63313.49737234147"
      ]
     },
     "execution_count": 46,
     "metadata": {},
     "output_type": "execute_result"
    }
   ],
   "source": [
    "mean_absolute_error(y_test,y_hat)"
   ]
  },
  {
   "cell_type": "code",
   "execution_count": 33,
   "id": "90d1f944",
   "metadata": {
    "ExecuteTime": {
     "end_time": "2023-06-13T12:49:50.150933Z",
     "start_time": "2023-06-13T12:49:50.147418Z"
    }
   },
   "outputs": [
    {
     "data": {
      "text/plain": [
       "6789025559.265894"
      ]
     },
     "execution_count": 33,
     "metadata": {},
     "output_type": "execute_result"
    }
   ],
   "source": [
    "mean_squared_error(y_test,y_hat)"
   ]
  },
  {
   "cell_type": "code",
   "execution_count": 70,
   "id": "7500868b",
   "metadata": {
    "ExecuteTime": {
     "end_time": "2023-06-13T12:57:02.218785Z",
     "start_time": "2023-06-13T12:57:02.215045Z"
    }
   },
   "outputs": [],
   "source": [
    "y_train_pred = linreg.predict(X_train)"
   ]
  },
  {
   "cell_type": "code",
   "execution_count": 71,
   "id": "035090df",
   "metadata": {
    "ExecuteTime": {
     "end_time": "2023-06-13T12:57:02.672171Z",
     "start_time": "2023-06-13T12:57:02.667039Z"
    }
   },
   "outputs": [
    {
     "data": {
      "text/plain": [
       "0.7194530968926247"
      ]
     },
     "execution_count": 71,
     "metadata": {},
     "output_type": "execute_result"
    }
   ],
   "source": [
    "r2_score(y_train,y_train_pred)"
   ]
  },
  {
   "cell_type": "code",
   "execution_count": 72,
   "id": "a19db294",
   "metadata": {
    "ExecuteTime": {
     "end_time": "2023-06-13T12:57:42.582982Z",
     "start_time": "2023-06-13T12:57:42.580363Z"
    }
   },
   "outputs": [],
   "source": [
    "from sklearn.tree import DecisionTreeRegressor"
   ]
  },
  {
   "cell_type": "code",
   "execution_count": 73,
   "id": "00bc9bef",
   "metadata": {
    "ExecuteTime": {
     "end_time": "2023-06-13T12:58:20.299682Z",
     "start_time": "2023-06-13T12:58:20.297289Z"
    }
   },
   "outputs": [],
   "source": [
    "decreg = DecisionTreeRegressor()"
   ]
  },
  {
   "cell_type": "code",
   "execution_count": 74,
   "id": "1e113d55",
   "metadata": {
    "ExecuteTime": {
     "end_time": "2023-06-13T12:59:09.661697Z",
     "start_time": "2023-06-13T12:59:09.655057Z"
    }
   },
   "outputs": [
    {
     "data": {
      "text/plain": [
       "DecisionTreeRegressor()"
      ]
     },
     "execution_count": 74,
     "metadata": {},
     "output_type": "execute_result"
    }
   ],
   "source": [
    "decreg.fit(X_train, y_train)"
   ]
  },
  {
   "cell_type": "code",
   "execution_count": 75,
   "id": "c3359e18",
   "metadata": {
    "ExecuteTime": {
     "end_time": "2023-06-13T12:59:21.358413Z",
     "start_time": "2023-06-13T12:59:21.355028Z"
    }
   },
   "outputs": [],
   "source": [
    "y_hat_dec = decreg.predict(X_test)"
   ]
  },
  {
   "cell_type": "code",
   "execution_count": 76,
   "id": "191ab672",
   "metadata": {
    "ExecuteTime": {
     "end_time": "2023-06-13T12:59:47.558852Z",
     "start_time": "2023-06-13T12:59:47.555217Z"
    }
   },
   "outputs": [
    {
     "data": {
      "text/plain": [
       "0.7197491939798666"
      ]
     },
     "execution_count": 76,
     "metadata": {},
     "output_type": "execute_result"
    }
   ],
   "source": [
    "r2_score(y_test, y_hat_dec)"
   ]
  },
  {
   "cell_type": "code",
   "execution_count": 77,
   "id": "80a28f9a",
   "metadata": {
    "ExecuteTime": {
     "end_time": "2023-06-13T13:02:02.633451Z",
     "start_time": "2023-06-13T13:02:02.630958Z"
    }
   },
   "outputs": [],
   "source": [
    "#tweak some parameters here:\n",
    "decreg2 = DecisionTreeRegressor(max_depth=5)\n",
    "decreg3 = DecisionTreeRegressor(max_depth=4)"
   ]
  },
  {
   "cell_type": "code",
   "execution_count": 80,
   "id": "0c309bbb",
   "metadata": {
    "ExecuteTime": {
     "end_time": "2023-06-13T13:03:06.888023Z",
     "start_time": "2023-06-13T13:03:06.881406Z"
    }
   },
   "outputs": [],
   "source": [
    "decreg2.fit(X_train,y_train)\n",
    "y_hat_decreg2 = decreg2.predict(X_test)"
   ]
  },
  {
   "cell_type": "code",
   "execution_count": 81,
   "id": "d06190e5",
   "metadata": {
    "ExecuteTime": {
     "end_time": "2023-06-13T13:03:19.802605Z",
     "start_time": "2023-06-13T13:03:19.798323Z"
    }
   },
   "outputs": [
    {
     "data": {
      "text/plain": [
       "0.8244241701493289"
      ]
     },
     "execution_count": 81,
     "metadata": {},
     "output_type": "execute_result"
    }
   ],
   "source": [
    "r2_score(y_test, y_hat_decreg2)"
   ]
  },
  {
   "cell_type": "code",
   "execution_count": 79,
   "id": "f66c261d",
   "metadata": {
    "ExecuteTime": {
     "end_time": "2023-06-13T13:03:00.895836Z",
     "start_time": "2023-06-13T13:03:00.891205Z"
    }
   },
   "outputs": [],
   "source": [
    "decreg3.fit(X_train,y_train)\n",
    "y_hat_decreg3 = decreg3.predict(X_test)"
   ]
  },
  {
   "cell_type": "code",
   "execution_count": 82,
   "id": "b77e86c3",
   "metadata": {
    "ExecuteTime": {
     "end_time": "2023-06-13T13:03:32.086102Z",
     "start_time": "2023-06-13T13:03:32.081981Z"
    }
   },
   "outputs": [
    {
     "data": {
      "text/plain": [
       "0.8439995575360899"
      ]
     },
     "execution_count": 82,
     "metadata": {},
     "output_type": "execute_result"
    }
   ],
   "source": [
    "r2_score(y_test, y_hat_decreg3)"
   ]
  },
  {
   "cell_type": "code",
   "execution_count": 83,
   "id": "dc71787e",
   "metadata": {
    "ExecuteTime": {
     "end_time": "2023-06-13T13:03:55.201912Z",
     "start_time": "2023-06-13T13:03:55.198282Z"
    }
   },
   "outputs": [
    {
     "data": {
      "text/plain": [
       "45178.58426027458"
      ]
     },
     "execution_count": 83,
     "metadata": {},
     "output_type": "execute_result"
    }
   ],
   "source": [
    "mean_absolute_error(y_test, y_hat_decreg3)"
   ]
  },
  {
   "cell_type": "code",
   "execution_count": 84,
   "id": "1726a416",
   "metadata": {
    "ExecuteTime": {
     "end_time": "2023-06-13T13:07:35.482645Z",
     "start_time": "2023-06-13T13:07:35.479496Z"
    }
   },
   "outputs": [],
   "source": [
    "# Take the best model (decreg3) , and store it in file as a pickle format, .pkl\n",
    "import pickle\n",
    "\n",
    "filename = 'housing.pkl'\n",
    "with open(filename, 'wb') as f:\n",
    "    pickle.dump(decreg3,f)"
   ]
  },
  {
   "cell_type": "code",
   "execution_count": 87,
   "id": "bc145229",
   "metadata": {
    "ExecuteTime": {
     "end_time": "2023-06-13T13:26:59.044843Z",
     "start_time": "2023-06-13T13:26:59.041045Z"
    }
   },
   "outputs": [
    {
     "data": {
      "text/plain": [
       "0.13181973802045216"
      ]
     },
     "execution_count": 87,
     "metadata": {},
     "output_type": "execute_result"
    }
   ],
   "source": [
    "mean_absolute_percentage_error(y_test, y_hat_decreg3)"
   ]
  },
  {
   "cell_type": "code",
   "execution_count": 88,
   "id": "6ffd04fa",
   "metadata": {
    "ExecuteTime": {
     "end_time": "2023-06-13T13:27:10.165664Z",
     "start_time": "2023-06-13T13:27:10.161470Z"
    }
   },
   "outputs": [
    {
     "data": {
      "text/plain": [
       "0.1805023982690325"
      ]
     },
     "execution_count": 88,
     "metadata": {},
     "output_type": "execute_result"
    }
   ],
   "source": [
    "mean_absolute_percentage_error(y_test, y_hat)"
   ]
  },
  {
   "cell_type": "code",
   "execution_count": 121,
   "id": "0ff78d4c",
   "metadata": {
    "ExecuteTime": {
     "end_time": "2023-06-13T13:40:51.563973Z",
     "start_time": "2023-06-13T13:40:51.561633Z"
    }
   },
   "outputs": [],
   "source": [
    "from sklearn.neighbors import KNeighborsRegressor\n",
    "\n",
    "knn = KNeighborsRegressor(n_neighbors=5, weights='uniform')"
   ]
  },
  {
   "cell_type": "code",
   "execution_count": 122,
   "id": "20b8782f",
   "metadata": {
    "ExecuteTime": {
     "end_time": "2023-06-13T13:40:51.983545Z",
     "start_time": "2023-06-13T13:40:51.977397Z"
    }
   },
   "outputs": [],
   "source": [
    "knn.fit(X_train, y_train)\n",
    "y_hat_knn = knn.predict(X_test)"
   ]
  },
  {
   "cell_type": "code",
   "execution_count": 123,
   "id": "d90ca096",
   "metadata": {
    "ExecuteTime": {
     "end_time": "2023-06-13T13:40:52.378698Z",
     "start_time": "2023-06-13T13:40:52.372922Z"
    }
   },
   "outputs": [
    {
     "data": {
      "text/plain": [
       "0.8173282035090312"
      ]
     },
     "execution_count": 123,
     "metadata": {},
     "output_type": "execute_result"
    }
   ],
   "source": [
    "r2_score(y_test, y_hat_knn)"
   ]
  },
  {
   "cell_type": "code",
   "execution_count": 124,
   "id": "19e64aaf",
   "metadata": {
    "ExecuteTime": {
     "end_time": "2023-06-13T13:40:52.868720Z",
     "start_time": "2023-06-13T13:40:52.864031Z"
    }
   },
   "outputs": [
    {
     "data": {
      "text/plain": [
       "0.1381648030484548"
      ]
     },
     "execution_count": 124,
     "metadata": {},
     "output_type": "execute_result"
    }
   ],
   "source": [
    "mean_absolute_percentage_error(y_test, y_hat_knn)"
   ]
  },
  {
   "cell_type": "code",
   "execution_count": 125,
   "id": "8c729f2b",
   "metadata": {
    "ExecuteTime": {
     "end_time": "2023-06-13T13:42:50.224261Z",
     "start_time": "2023-06-13T13:42:50.221963Z"
    }
   },
   "outputs": [],
   "source": [
    "from sklearn.svm import SVR\n",
    "svr = SVR()"
   ]
  },
  {
   "cell_type": "code",
   "execution_count": 126,
   "id": "f5e828bc",
   "metadata": {
    "ExecuteTime": {
     "end_time": "2023-06-13T13:43:07.782635Z",
     "start_time": "2023-06-13T13:43:07.762042Z"
    }
   },
   "outputs": [],
   "source": [
    "svr.fit(X_train, y_train)\n",
    "y_hat_svr = svr.predict(X_test)"
   ]
  },
  {
   "cell_type": "code",
   "execution_count": 127,
   "id": "f3edd3d6",
   "metadata": {
    "ExecuteTime": {
     "end_time": "2023-06-13T13:43:16.649654Z",
     "start_time": "2023-06-13T13:43:16.645957Z"
    }
   },
   "outputs": [
    {
     "data": {
      "text/plain": [
       "-0.018430633102828775"
      ]
     },
     "execution_count": 127,
     "metadata": {},
     "output_type": "execute_result"
    }
   ],
   "source": [
    "r2_score(y_test, y_hat_svr)"
   ]
  },
  {
   "cell_type": "markdown",
   "id": "0d62c7af",
   "metadata": {},
   "source": [
    "## Decision Tree Problem\n",
    "\n",
    "Tendency to overfit is very, very high! We will look into solving this later"
   ]
  },
  {
   "cell_type": "code",
   "execution_count": 130,
   "id": "4e658d6b",
   "metadata": {
    "ExecuteTime": {
     "end_time": "2023-06-13T13:46:03.095492Z",
     "start_time": "2023-06-13T13:46:03.091934Z"
    }
   },
   "outputs": [],
   "source": [
    "y_train_pred = decreg3.predict(X_train)"
   ]
  },
  {
   "cell_type": "code",
   "execution_count": 131,
   "id": "16f05cbf",
   "metadata": {
    "ExecuteTime": {
     "end_time": "2023-06-13T13:46:04.899256Z",
     "start_time": "2023-06-13T13:46:04.894986Z"
    }
   },
   "outputs": [
    {
     "data": {
      "text/plain": [
       "0.8596208050871595"
      ]
     },
     "execution_count": 131,
     "metadata": {},
     "output_type": "execute_result"
    }
   ],
   "source": [
    "r2_score(y_train,y_train_pred)"
   ]
  },
  {
   "cell_type": "code",
   "execution_count": null,
   "id": "aceab386",
   "metadata": {},
   "outputs": [],
   "source": []
  }
 ],
 "metadata": {
  "kernelspec": {
   "display_name": "python38",
   "language": "python",
   "name": "python38"
  },
  "language_info": {
   "codemirror_mode": {
    "name": "ipython",
    "version": 3
   },
   "file_extension": ".py",
   "mimetype": "text/x-python",
   "name": "python",
   "nbconvert_exporter": "python",
   "pygments_lexer": "ipython3",
   "version": "3.8.12"
  }
 },
 "nbformat": 4,
 "nbformat_minor": 5
}
